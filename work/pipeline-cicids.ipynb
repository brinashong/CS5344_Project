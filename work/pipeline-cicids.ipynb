{
 "cells": [
  {
   "cell_type": "code",
   "execution_count": 1,
   "metadata": {},
   "outputs": [],
   "source": [
    "import wandb\n",
    "import numpy as np\n",
    "import os\n",
    "import random\n",
    "import glob\n",
    "import pandas as pd\n",
    "import time\n",
    "import sklearn as sk\n",
    "import seaborn as sns\n",
    "import matplotlib.pyplot as plt\n",
    "%matplotlib inline\n",
    "from sklearn.linear_model import LogisticRegression\n",
    "from sklearn.tree import DecisionTreeClassifier\n",
    "from sklearn.ensemble import ExtraTreesClassifier, RandomForestClassifier\n",
    "from sklearn.ensemble import RandomForestRegressor, GradientBoostingClassifier, VotingClassifier\n",
    "from sklearn.datasets import fetch_covtype\n",
    "from sklearn.neighbors import KNeighborsClassifier\n",
    "from sklearn.preprocessing import OneHotEncoder, StandardScaler, LabelEncoder\n",
    "from sklearn.svm import SVC\n",
    "from sklearn.model_selection import train_test_split, cross_val_score\n",
    "from sklearn.metrics import classification_report, confusion_matrix, accuracy_score\n",
    "from scipy.io import arff\n",
    "from sklearn.datasets import fetch_openml\n",
    "from joblib import Parallel, delayed"
   ]
  },
  {
   "cell_type": "code",
   "execution_count": 2,
   "metadata": {},
   "outputs": [
    {
     "name": "stderr",
     "output_type": "stream",
     "text": [
      "\u001b[34m\u001b[1mwandb\u001b[0m: Currently logged in as: \u001b[33mbrinashong\u001b[0m. Use \u001b[1m`wandb login --relogin`\u001b[0m to force relogin\n"
     ]
    },
    {
     "data": {
      "text/plain": [
       "True"
      ]
     },
     "execution_count": 2,
     "metadata": {},
     "output_type": "execute_result"
    }
   ],
   "source": [
    "wandb.login()"
   ]
  },
  {
   "cell_type": "code",
   "execution_count": 3,
   "metadata": {},
   "outputs": [],
   "source": [
    "%run 'common.ipynb'"
   ]
  },
  {
   "cell_type": "code",
   "execution_count": 4,
   "metadata": {},
   "outputs": [],
   "source": [
    "# Shared variables\n",
    "OUTPUT_FOLDER = 'csv_files'\n",
    "FEATURE_FOLDER = 'features'\n",
    "TEST_COUNT = 500"
   ]
  },
  {
   "cell_type": "code",
   "execution_count": 5,
   "metadata": {},
   "outputs": [],
   "source": [
    "%run cicids.ipynb"
   ]
  },
  {
   "cell_type": "code",
   "execution_count": 6,
   "metadata": {},
   "outputs": [
    {
     "name": "stdout",
     "output_type": "stream",
     "text": [
      "Normal class:  0    Benign\n",
      "dtype: object\n",
      "TARGET_DICT {0: 'Benign', 1: 'Botnet', 2: 'Bruteforce', 3: 'DDoS', 4: 'DoS', 5: 'Infiltration', 6: 'Portscan', 7: 'Webattack'}\n",
      "NORMAL_TARGET 0\n",
      "main_labels Index(['Flow Duration', 'Total Fwd Packets', 'Total Backward Packets',\n",
      "       'Fwd Packets Length Total', 'Bwd Packets Length Total',\n",
      "       'Fwd Packet Length Max', 'Fwd Packet Length Mean',\n",
      "       'Fwd Packet Length Std', 'Bwd Packet Length Max',\n",
      "       'Bwd Packet Length Mean', 'Bwd Packet Length Std', 'Flow Bytes/s',\n",
      "       'Flow Packets/s', 'Flow IAT Mean', 'Flow IAT Std', 'Flow IAT Max',\n",
      "       'Flow IAT Min', 'Fwd IAT Total', 'Fwd IAT Mean', 'Fwd IAT Std',\n",
      "       'Fwd IAT Max', 'Fwd IAT Min', 'Bwd IAT Total', 'Bwd IAT Mean',\n",
      "       'Bwd IAT Std', 'Bwd IAT Max', 'Bwd IAT Min', 'Fwd PSH Flags',\n",
      "       'Fwd Header Length', 'Bwd Header Length', 'Fwd Packets/s',\n",
      "       'Bwd Packets/s', 'Packet Length Max', 'Packet Length Mean',\n",
      "       'Packet Length Std', 'Packet Length Variance', 'SYN Flag Count',\n",
      "       'URG Flag Count', 'Avg Packet Size', 'Avg Fwd Segment Size',\n",
      "       'Avg Bwd Segment Size', 'Subflow Fwd Packets', 'Subflow Fwd Bytes',\n",
      "       'Subflow Bwd Packets', 'Subflow Bwd Bytes', 'Init Fwd Win Bytes',\n",
      "       'Init Bwd Win Bytes', 'Fwd Act Data Packets', 'Fwd Seg Size Min',\n",
      "       'Active Mean', 'Active Std', 'Active Max', 'Active Min', 'Idle Mean',\n",
      "       'Idle Std', 'Idle Max', 'Idle Min', 'ClassLabel'],\n",
      "      dtype='object')\n"
     ]
    },
    {
     "data": {
      "text/html": [
       "<div>\n",
       "<style scoped>\n",
       "    .dataframe tbody tr th:only-of-type {\n",
       "        vertical-align: middle;\n",
       "    }\n",
       "\n",
       "    .dataframe tbody tr th {\n",
       "        vertical-align: top;\n",
       "    }\n",
       "\n",
       "    .dataframe thead th {\n",
       "        text-align: right;\n",
       "    }\n",
       "</style>\n",
       "<table border=\"1\" class=\"dataframe\">\n",
       "  <thead>\n",
       "    <tr style=\"text-align: right;\">\n",
       "      <th></th>\n",
       "      <th>Flow Duration</th>\n",
       "      <th>Total Fwd Packets</th>\n",
       "      <th>Total Backward Packets</th>\n",
       "      <th>Fwd Packets Length Total</th>\n",
       "      <th>Bwd Packets Length Total</th>\n",
       "      <th>Fwd Packet Length Max</th>\n",
       "      <th>Fwd Packet Length Mean</th>\n",
       "      <th>Fwd Packet Length Std</th>\n",
       "      <th>Bwd Packet Length Max</th>\n",
       "      <th>Bwd Packet Length Mean</th>\n",
       "      <th>...</th>\n",
       "      <th>Fwd Seg Size Min</th>\n",
       "      <th>Active Mean</th>\n",
       "      <th>Active Std</th>\n",
       "      <th>Active Max</th>\n",
       "      <th>Active Min</th>\n",
       "      <th>Idle Mean</th>\n",
       "      <th>Idle Std</th>\n",
       "      <th>Idle Max</th>\n",
       "      <th>Idle Min</th>\n",
       "      <th>ClassLabel</th>\n",
       "    </tr>\n",
       "  </thead>\n",
       "  <tbody>\n",
       "    <tr>\n",
       "      <th>0</th>\n",
       "      <td>51990738</td>\n",
       "      <td>3</td>\n",
       "      <td>1</td>\n",
       "      <td>43.0</td>\n",
       "      <td>6.0</td>\n",
       "      <td>31.0</td>\n",
       "      <td>14.333333</td>\n",
       "      <td>14.433757</td>\n",
       "      <td>6.0</td>\n",
       "      <td>6.00000</td>\n",
       "      <td>...</td>\n",
       "      <td>20</td>\n",
       "      <td>0.0</td>\n",
       "      <td>0.0</td>\n",
       "      <td>0.0</td>\n",
       "      <td>0.0</td>\n",
       "      <td>51940550.0</td>\n",
       "      <td>0.00</td>\n",
       "      <td>51940552.0</td>\n",
       "      <td>51940552.0</td>\n",
       "      <td>0</td>\n",
       "    </tr>\n",
       "    <tr>\n",
       "      <th>1</th>\n",
       "      <td>117384013</td>\n",
       "      <td>80</td>\n",
       "      <td>144</td>\n",
       "      <td>974.0</td>\n",
       "      <td>199741.0</td>\n",
       "      <td>275.0</td>\n",
       "      <td>12.175000</td>\n",
       "      <td>44.683636</td>\n",
       "      <td>1460.0</td>\n",
       "      <td>1387.09030</td>\n",
       "      <td>...</td>\n",
       "      <td>20</td>\n",
       "      <td>506187.0</td>\n",
       "      <td>628091.8</td>\n",
       "      <td>950315.0</td>\n",
       "      <td>62059.0</td>\n",
       "      <td>58155176.0</td>\n",
       "      <td>132745.16</td>\n",
       "      <td>58249039.0</td>\n",
       "      <td>58061309.0</td>\n",
       "      <td>0</td>\n",
       "    </tr>\n",
       "    <tr>\n",
       "      <th>2</th>\n",
       "      <td>246</td>\n",
       "      <td>2</td>\n",
       "      <td>2</td>\n",
       "      <td>64.0</td>\n",
       "      <td>204.0</td>\n",
       "      <td>32.0</td>\n",
       "      <td>32.000000</td>\n",
       "      <td>0.000000</td>\n",
       "      <td>102.0</td>\n",
       "      <td>102.00000</td>\n",
       "      <td>...</td>\n",
       "      <td>32</td>\n",
       "      <td>0.0</td>\n",
       "      <td>0.0</td>\n",
       "      <td>0.0</td>\n",
       "      <td>0.0</td>\n",
       "      <td>0.0</td>\n",
       "      <td>0.00</td>\n",
       "      <td>0.0</td>\n",
       "      <td>0.0</td>\n",
       "      <td>0</td>\n",
       "    </tr>\n",
       "    <tr>\n",
       "      <th>3</th>\n",
       "      <td>200929</td>\n",
       "      <td>13</td>\n",
       "      <td>11</td>\n",
       "      <td>1293.0</td>\n",
       "      <td>4610.0</td>\n",
       "      <td>694.0</td>\n",
       "      <td>99.461540</td>\n",
       "      <td>189.770750</td>\n",
       "      <td>1430.0</td>\n",
       "      <td>419.09090</td>\n",
       "      <td>...</td>\n",
       "      <td>20</td>\n",
       "      <td>0.0</td>\n",
       "      <td>0.0</td>\n",
       "      <td>0.0</td>\n",
       "      <td>0.0</td>\n",
       "      <td>0.0</td>\n",
       "      <td>0.00</td>\n",
       "      <td>0.0</td>\n",
       "      <td>0.0</td>\n",
       "      <td>0</td>\n",
       "    </tr>\n",
       "    <tr>\n",
       "      <th>4</th>\n",
       "      <td>2446230</td>\n",
       "      <td>8</td>\n",
       "      <td>7</td>\n",
       "      <td>1144.0</td>\n",
       "      <td>1581.0</td>\n",
       "      <td>677.0</td>\n",
       "      <td>143.000000</td>\n",
       "      <td>227.969920</td>\n",
       "      <td>1173.0</td>\n",
       "      <td>225.85715</td>\n",
       "      <td>...</td>\n",
       "      <td>20</td>\n",
       "      <td>0.0</td>\n",
       "      <td>0.0</td>\n",
       "      <td>0.0</td>\n",
       "      <td>0.0</td>\n",
       "      <td>0.0</td>\n",
       "      <td>0.00</td>\n",
       "      <td>0.0</td>\n",
       "      <td>0.0</td>\n",
       "      <td>0</td>\n",
       "    </tr>\n",
       "  </tbody>\n",
       "</table>\n",
       "<p>5 rows × 58 columns</p>\n",
       "</div>"
      ],
      "text/plain": [
       "   Flow Duration  Total Fwd Packets  Total Backward Packets  \\\n",
       "0       51990738                  3                       1   \n",
       "1      117384013                 80                     144   \n",
       "2            246                  2                       2   \n",
       "3         200929                 13                      11   \n",
       "4        2446230                  8                       7   \n",
       "\n",
       "   Fwd Packets Length Total  Bwd Packets Length Total  Fwd Packet Length Max  \\\n",
       "0                      43.0                       6.0                   31.0   \n",
       "1                     974.0                  199741.0                  275.0   \n",
       "2                      64.0                     204.0                   32.0   \n",
       "3                    1293.0                    4610.0                  694.0   \n",
       "4                    1144.0                    1581.0                  677.0   \n",
       "\n",
       "   Fwd Packet Length Mean  Fwd Packet Length Std  Bwd Packet Length Max  \\\n",
       "0               14.333333              14.433757                    6.0   \n",
       "1               12.175000              44.683636                 1460.0   \n",
       "2               32.000000               0.000000                  102.0   \n",
       "3               99.461540             189.770750                 1430.0   \n",
       "4              143.000000             227.969920                 1173.0   \n",
       "\n",
       "   Bwd Packet Length Mean  ...  Fwd Seg Size Min  Active Mean  Active Std  \\\n",
       "0                 6.00000  ...                20          0.0         0.0   \n",
       "1              1387.09030  ...                20     506187.0    628091.8   \n",
       "2               102.00000  ...                32          0.0         0.0   \n",
       "3               419.09090  ...                20          0.0         0.0   \n",
       "4               225.85715  ...                20          0.0         0.0   \n",
       "\n",
       "   Active Max  Active Min   Idle Mean   Idle Std    Idle Max    Idle Min  \\\n",
       "0         0.0         0.0  51940550.0       0.00  51940552.0  51940552.0   \n",
       "1    950315.0     62059.0  58155176.0  132745.16  58249039.0  58061309.0   \n",
       "2         0.0         0.0         0.0       0.00         0.0         0.0   \n",
       "3         0.0         0.0         0.0       0.00         0.0         0.0   \n",
       "4         0.0         0.0         0.0       0.00         0.0         0.0   \n",
       "\n",
       "   ClassLabel  \n",
       "0           0  \n",
       "1           0  \n",
       "2           0  \n",
       "3           0  \n",
       "4           0  \n",
       "\n",
       "[5 rows x 58 columns]"
      ]
     },
     "execution_count": 6,
     "metadata": {},
     "output_type": "execute_result"
    }
   ],
   "source": [
    "# Should already be one hot encoded and label encoded\n",
    "# all_df, main_labels, config = get_processed_covtype_df()\n",
    "# all_df, main_labels, config = get_processed_cicids_df()\n",
    "all_df, main_labels, config = get_processed_cicids_df()\n",
    "TARGET_COLUMN = config['TARGET_COLUMN']\n",
    "NORMAL_TARGET = config['NORMAL_TARGET']\n",
    "TARGET_DICT = config['TARGET_DICT']\n",
    "INV_TARGET_DICT = config['INV_TARGET_DICT']\n",
    "NUMERICAL_COLUMNS = config['NUMERICAL_COLUMNS']\n",
    "CATEGORICAL_COLUMNS = config['CATEGORICAL_COLUMNS']\n",
    "ORDINAL_COLUMNS = config['ORDINAL_COLUMNS']\n",
    "all_df.head()"
   ]
  },
  {
   "cell_type": "code",
   "execution_count": 7,
   "metadata": {},
   "outputs": [
    {
     "data": {
      "text/plain": [
       "(2037240, 58)"
      ]
     },
     "execution_count": 7,
     "metadata": {},
     "output_type": "execute_result"
    }
   ],
   "source": [
    "all_df.shape"
   ]
  },
  {
   "cell_type": "code",
   "execution_count": 8,
   "metadata": {},
   "outputs": [
    {
     "name": "stdout",
     "output_type": "stream",
     "text": [
      "All files in csv_files have been removed.\n",
      "All files in features have been removed.\n"
     ]
    }
   ],
   "source": [
    "# Create a folder to save the CSVs\n",
    "remove_files_from_directory(OUTPUT_FOLDER)\n",
    "remove_files_from_directory(FEATURE_FOLDER)\n",
    "os.makedirs(OUTPUT_FOLDER, exist_ok=True)\n",
    "os.makedirs(FEATURE_FOLDER, exist_ok=True)"
   ]
  },
  {
   "cell_type": "code",
   "execution_count": 9,
   "metadata": {},
   "outputs": [],
   "source": [
    "# Save all data as csv\n",
    "all_df.to_csv('all_data.csv' ,index = False)"
   ]
  },
  {
   "cell_type": "code",
   "execution_count": 10,
   "metadata": {},
   "outputs": [
    {
     "name": "stdout",
     "output_type": "stream",
     "text": [
      "(1629792, 57) (407448, 57) (1629792,) (407448,)\n"
     ]
    }
   ],
   "source": [
    "# Get X and y from all_df\n",
    "X_df = all_df.drop(columns=[TARGET_COLUMN])\n",
    "y_df = all_df[TARGET_COLUMN]\n",
    "\n",
    "# Split the data into training and test sets\n",
    "X_train_df, X_test_df, y_train_df, y_test_df = train_test_split(X_df, y_df, test_size=0.2, random_state=42)\n",
    "print(X_train_df.shape, X_test_df.shape, y_train_df.shape, y_test_df.shape)"
   ]
  },
  {
   "cell_type": "code",
   "execution_count": 11,
   "metadata": {},
   "outputs": [
    {
     "data": {
      "text/html": [
       "<div>\n",
       "<style scoped>\n",
       "    .dataframe tbody tr th:only-of-type {\n",
       "        vertical-align: middle;\n",
       "    }\n",
       "\n",
       "    .dataframe tbody tr th {\n",
       "        vertical-align: top;\n",
       "    }\n",
       "\n",
       "    .dataframe thead th {\n",
       "        text-align: right;\n",
       "    }\n",
       "</style>\n",
       "<table border=\"1\" class=\"dataframe\">\n",
       "  <thead>\n",
       "    <tr style=\"text-align: right;\">\n",
       "      <th></th>\n",
       "      <th>Flow Duration</th>\n",
       "      <th>Total Fwd Packets</th>\n",
       "      <th>Total Backward Packets</th>\n",
       "      <th>Fwd Packets Length Total</th>\n",
       "      <th>Bwd Packets Length Total</th>\n",
       "      <th>Fwd Packet Length Max</th>\n",
       "      <th>Fwd Packet Length Mean</th>\n",
       "      <th>Fwd Packet Length Std</th>\n",
       "      <th>Bwd Packet Length Max</th>\n",
       "      <th>Bwd Packet Length Mean</th>\n",
       "      <th>...</th>\n",
       "      <th>Fwd Seg Size Min</th>\n",
       "      <th>Active Mean</th>\n",
       "      <th>Active Std</th>\n",
       "      <th>Active Max</th>\n",
       "      <th>Active Min</th>\n",
       "      <th>Idle Mean</th>\n",
       "      <th>Idle Std</th>\n",
       "      <th>Idle Max</th>\n",
       "      <th>Idle Min</th>\n",
       "      <th>ClassLabel</th>\n",
       "    </tr>\n",
       "  </thead>\n",
       "  <tbody>\n",
       "    <tr>\n",
       "      <th>1285014</th>\n",
       "      <td>3850770</td>\n",
       "      <td>14</td>\n",
       "      <td>8</td>\n",
       "      <td>1440.0</td>\n",
       "      <td>1731.0</td>\n",
       "      <td>725.0</td>\n",
       "      <td>102.857140</td>\n",
       "      <td>191.172840</td>\n",
       "      <td>1179.0</td>\n",
       "      <td>216.375</td>\n",
       "      <td>...</td>\n",
       "      <td>20</td>\n",
       "      <td>0.0</td>\n",
       "      <td>0.0</td>\n",
       "      <td>0.0</td>\n",
       "      <td>0.0</td>\n",
       "      <td>0.0</td>\n",
       "      <td>0.0</td>\n",
       "      <td>0.0</td>\n",
       "      <td>0.0</td>\n",
       "      <td>0</td>\n",
       "    </tr>\n",
       "    <tr>\n",
       "      <th>1142876</th>\n",
       "      <td>4664549</td>\n",
       "      <td>5</td>\n",
       "      <td>4</td>\n",
       "      <td>935.0</td>\n",
       "      <td>790.0</td>\n",
       "      <td>935.0</td>\n",
       "      <td>187.000000</td>\n",
       "      <td>418.144700</td>\n",
       "      <td>395.0</td>\n",
       "      <td>197.500</td>\n",
       "      <td>...</td>\n",
       "      <td>32</td>\n",
       "      <td>0.0</td>\n",
       "      <td>0.0</td>\n",
       "      <td>0.0</td>\n",
       "      <td>0.0</td>\n",
       "      <td>0.0</td>\n",
       "      <td>0.0</td>\n",
       "      <td>0.0</td>\n",
       "      <td>0.0</td>\n",
       "      <td>0</td>\n",
       "    </tr>\n",
       "    <tr>\n",
       "      <th>1229394</th>\n",
       "      <td>1301287</td>\n",
       "      <td>6</td>\n",
       "      <td>5</td>\n",
       "      <td>455.0</td>\n",
       "      <td>338.0</td>\n",
       "      <td>140.0</td>\n",
       "      <td>75.833336</td>\n",
       "      <td>62.936210</td>\n",
       "      <td>145.0</td>\n",
       "      <td>67.600</td>\n",
       "      <td>...</td>\n",
       "      <td>20</td>\n",
       "      <td>0.0</td>\n",
       "      <td>0.0</td>\n",
       "      <td>0.0</td>\n",
       "      <td>0.0</td>\n",
       "      <td>0.0</td>\n",
       "      <td>0.0</td>\n",
       "      <td>0.0</td>\n",
       "      <td>0.0</td>\n",
       "      <td>0</td>\n",
       "    </tr>\n",
       "    <tr>\n",
       "      <th>957100</th>\n",
       "      <td>60002992</td>\n",
       "      <td>2</td>\n",
       "      <td>0</td>\n",
       "      <td>0.0</td>\n",
       "      <td>0.0</td>\n",
       "      <td>0.0</td>\n",
       "      <td>0.000000</td>\n",
       "      <td>0.000000</td>\n",
       "      <td>0.0</td>\n",
       "      <td>0.000</td>\n",
       "      <td>...</td>\n",
       "      <td>0</td>\n",
       "      <td>0.0</td>\n",
       "      <td>0.0</td>\n",
       "      <td>0.0</td>\n",
       "      <td>0.0</td>\n",
       "      <td>60000000.0</td>\n",
       "      <td>0.0</td>\n",
       "      <td>60000000.0</td>\n",
       "      <td>60000000.0</td>\n",
       "      <td>0</td>\n",
       "    </tr>\n",
       "    <tr>\n",
       "      <th>1567448</th>\n",
       "      <td>5048320</td>\n",
       "      <td>3</td>\n",
       "      <td>1</td>\n",
       "      <td>12.0</td>\n",
       "      <td>2.0</td>\n",
       "      <td>6.0</td>\n",
       "      <td>4.000000</td>\n",
       "      <td>3.464102</td>\n",
       "      <td>2.0</td>\n",
       "      <td>2.000</td>\n",
       "      <td>...</td>\n",
       "      <td>20</td>\n",
       "      <td>0.0</td>\n",
       "      <td>0.0</td>\n",
       "      <td>0.0</td>\n",
       "      <td>0.0</td>\n",
       "      <td>0.0</td>\n",
       "      <td>0.0</td>\n",
       "      <td>0.0</td>\n",
       "      <td>0.0</td>\n",
       "      <td>0</td>\n",
       "    </tr>\n",
       "  </tbody>\n",
       "</table>\n",
       "<p>5 rows × 58 columns</p>\n",
       "</div>"
      ],
      "text/plain": [
       "         Flow Duration  Total Fwd Packets  Total Backward Packets  \\\n",
       "1285014        3850770                 14                       8   \n",
       "1142876        4664549                  5                       4   \n",
       "1229394        1301287                  6                       5   \n",
       "957100        60002992                  2                       0   \n",
       "1567448        5048320                  3                       1   \n",
       "\n",
       "         Fwd Packets Length Total  Bwd Packets Length Total  \\\n",
       "1285014                    1440.0                    1731.0   \n",
       "1142876                     935.0                     790.0   \n",
       "1229394                     455.0                     338.0   \n",
       "957100                        0.0                       0.0   \n",
       "1567448                      12.0                       2.0   \n",
       "\n",
       "         Fwd Packet Length Max  Fwd Packet Length Mean  Fwd Packet Length Std  \\\n",
       "1285014                  725.0              102.857140             191.172840   \n",
       "1142876                  935.0              187.000000             418.144700   \n",
       "1229394                  140.0               75.833336              62.936210   \n",
       "957100                     0.0                0.000000               0.000000   \n",
       "1567448                    6.0                4.000000               3.464102   \n",
       "\n",
       "         Bwd Packet Length Max  Bwd Packet Length Mean  ...  Fwd Seg Size Min  \\\n",
       "1285014                 1179.0                 216.375  ...                20   \n",
       "1142876                  395.0                 197.500  ...                32   \n",
       "1229394                  145.0                  67.600  ...                20   \n",
       "957100                     0.0                   0.000  ...                 0   \n",
       "1567448                    2.0                   2.000  ...                20   \n",
       "\n",
       "         Active Mean  Active Std  Active Max  Active Min   Idle Mean  \\\n",
       "1285014          0.0         0.0         0.0         0.0         0.0   \n",
       "1142876          0.0         0.0         0.0         0.0         0.0   \n",
       "1229394          0.0         0.0         0.0         0.0         0.0   \n",
       "957100           0.0         0.0         0.0         0.0  60000000.0   \n",
       "1567448          0.0         0.0         0.0         0.0         0.0   \n",
       "\n",
       "         Idle Std    Idle Max    Idle Min  ClassLabel  \n",
       "1285014       0.0         0.0         0.0           0  \n",
       "1142876       0.0         0.0         0.0           0  \n",
       "1229394       0.0         0.0         0.0           0  \n",
       "957100        0.0  60000000.0  60000000.0           0  \n",
       "1567448       0.0         0.0         0.0           0  \n",
       "\n",
       "[5 rows x 58 columns]"
      ]
     },
     "execution_count": 11,
     "metadata": {},
     "output_type": "execute_result"
    }
   ],
   "source": [
    "# Concatenate X_train and y_train along the columns (axis=1)\n",
    "X_y_train_df = pd.concat([X_train_df, y_train_df], axis=1)\n",
    "X_y_train_df.head()"
   ]
  },
  {
   "cell_type": "code",
   "execution_count": 12,
   "metadata": {},
   "outputs": [],
   "source": [
    "# Initialize the standard scaler\n",
    "scaler = StandardScaler()\n",
    "\n",
    "# Fit and transform the numeric columns\n",
    "X_train_scaled_df = X_train_df.copy()\n",
    "X_train_scaled_df[NUMERICAL_COLUMNS] = scaler.fit_transform(X_train_scaled_df[NUMERICAL_COLUMNS])\n",
    "# print('X_train_scaled_df', X_train_scaled_df)\n",
    "\n",
    "# Use the same scaler to transform X_test\n",
    "X_test_scaled_df = X_test_df.copy()\n",
    "X_test_scaled_df[NUMERICAL_COLUMNS] = scaler.transform(X_test_scaled_df[NUMERICAL_COLUMNS])\n",
    "# print('X_test_scaled_df', X_test_scaled_df)"
   ]
  },
  {
   "cell_type": "code",
   "execution_count": 13,
   "metadata": {},
   "outputs": [
    {
     "name": "stdout",
     "output_type": "stream",
     "text": [
      "abnormal_type_dict {0: 1597040, 3: 274283, 4: 87943, 1: 32390, 2: 23289, 5: 21107, 7: 686, 6: 502}\n",
      "Botnet.csv created with 97170 rows. (64780 benign and 32390 abnormal rows)\n",
      "Bruteforce.csv created with 69867 rows. (46578 benign and 23289 abnormal rows)\n",
      "DDoS.csv created with 822849 rows. (548566 benign and 274283 abnormal rows)\n",
      "DoS.csv created with 263829 rows. (175886 benign and 87943 abnormal rows)\n",
      "Infiltration.csv created with 63321 rows. (42214 benign and 21107 abnormal rows)\n",
      "Portscan.csv created with 1506 rows. (1004 benign and 502 abnormal rows)\n",
      "Webattack.csv created with 2058 rows. (1372 benign and 686 abnormal rows)\n",
      "All datasets created successfully!\n"
     ]
    }
   ],
   "source": [
    "# Loop through each cover type and create a dataset\n",
    "benign = 2359289\n",
    "abnormal_type_counts = all_df[TARGET_COLUMN].value_counts()\n",
    "abnormal_type_dict = abnormal_type_counts.to_dict()\n",
    "print('abnormal_type_dict', abnormal_type_dict)\n",
    "\n",
    "benign_ratio = 2  # Adjust this ratio as needed\n",
    "min_benign_samples = 50  # Ensure at least 50 benign samples are always included\n",
    "\n",
    "for label, name in TARGET_DICT.items():\n",
    "    if label == NORMAL_TARGET:\n",
    "        continue  # Skip the normal target\n",
    "    \n",
    "    a, b = 0, 0  # Track abnormal and benign sample counts\n",
    "    \n",
    "    # Open the output file for writing\n",
    "    output_path = os.path.join(OUTPUT_FOLDER, f\"{name}.csv\")\n",
    "    with open(output_path, \"w\") as ths:\n",
    "        ths.write(','.join(main_labels) + \"\\n\")\n",
    "        \n",
    "        # Calculate the number of benign samples based on the fixed ratio\n",
    "        abnormal_count = abnormal_type_dict[label]\n",
    "        benign_num = max(min(int(abnormal_count * benign_ratio), benign), min_benign_samples)\n",
    "        # print(f'Creating {name}.csv with {benign_num} benign samples and {abnormal_count} abnormal samples.')\n",
    "\n",
    "        # Collect normal (benign) rows and abnormal rows\n",
    "        benign_rows = []\n",
    "        abnormal_rows = []\n",
    "\n",
    "        # Read all_data.csv line by line and collect rows\n",
    "        with open(\"all_data.csv\", \"r\") as file:\n",
    "            for i, line in enumerate(file):\n",
    "                if i == 0:\n",
    "                    continue  # Skip the header row\n",
    "                k = line.strip().split(\",\")  # Strip newline and split the line\n",
    "                \n",
    "                # Collect normal rows\n",
    "                if int(k[-1]) == NORMAL_TARGET:\n",
    "                    benign_rows.append(line)\n",
    "                \n",
    "                # Collect abnormal rows that match the current label\n",
    "                elif int(k[-1]) == label:\n",
    "                    abnormal_rows.append(line)\n",
    "\n",
    "        # Randomly sample benign rows\n",
    "        if len(benign_rows) > benign_num:\n",
    "            benign_rows = random.sample(benign_rows, benign_num)\n",
    "        else:\n",
    "            benign_rows = random.sample(benign_rows, len(benign_rows))  # Shuffle if fewer than required\n",
    "\n",
    "        # Concatenate benign and abnormal rows\n",
    "        combined_rows = benign_rows + abnormal_rows\n",
    "        \n",
    "        # Shuffle the combined rows\n",
    "        random.shuffle(combined_rows)\n",
    "\n",
    "        # Write the shuffled rows to the output file\n",
    "        for row in combined_rows:\n",
    "            ths.write(row)\n",
    "\n",
    "        # Print number of rows written\n",
    "        b = len(benign_rows)\n",
    "        a = len(abnormal_rows)\n",
    "        print(f\"{name}.csv created with {a + b} rows. ({b} benign and {a} abnormal rows)\")\n",
    "\n",
    "print(\"All datasets created successfully!\")"
   ]
  },
  {
   "cell_type": "code",
   "execution_count": 25,
   "metadata": {},
   "outputs": [
    {
     "data": {
      "text/plain": [
       "array([16,  6])"
      ]
     },
     "execution_count": 25,
     "metadata": {},
     "output_type": "execute_result"
    }
   ],
   "source": [
    "# tdf = pd.read_csv('csv_files/imap.csv')\n",
    "# tdf['attack'].unique()"
   ]
  },
  {
   "cell_type": "code",
   "execution_count": 35,
   "metadata": {},
   "outputs": [
    {
     "name": "stdout",
     "output_type": "stream",
     "text": [
      "csv_files ['named.csv', 'snmpgetattack.csv', 'ipsweep.csv', 'httptunnel.csv', 'sendmail.csv', 'guess_passwd.csv', 'satan.csv', 'ps.csv', 'ftp_write.csv', 'xlock.csv', 'udpstorm.csv', 'teardrop.csv', 'phf.csv', 'pod.csv', 'perl.csv', 'nmap.csv', 'portsweep.csv', 'saint.csv', 'rootkit.csv', 'warezmaster.csv', 'xsnoop.csv', 'sqlattack.csv', 'processtable.csv', 'snmpguess.csv', 'mailbomb.csv', 'imap.csv', 'neptune.csv', 'xterm.csv', 'mscan.csv', 'buffer_overflow.csv', 'loadmodule.csv', 'worm.csv', 'multihop.csv', 'back.csv', 'apache2.csv', 'land.csv', 'smurf.csv']\n"
     ]
    },
    {
     "ename": "ValueError",
     "evalue": "Number of passed names did not match number of header fields in the file",
     "output_type": "error",
     "traceback": [
      "\u001b[0;31m---------------------------------------------------------------------------\u001b[0m",
      "\u001b[0;31m_RemoteTraceback\u001b[0m                          Traceback (most recent call last)",
      "\u001b[0;31m_RemoteTraceback\u001b[0m: \n\"\"\"\nTraceback (most recent call last):\n  File \"/home/brina/miniconda3/envs/gpu/lib/python3.8/site-packages/joblib/externals/loky/process_executor.py\", line 463, in _process_worker\n    r = call_item()\n  File \"/home/brina/miniconda3/envs/gpu/lib/python3.8/site-packages/joblib/externals/loky/process_executor.py\", line 291, in __call__\n    return self.fn(*self.args, **self.kwargs)\n  File \"/home/brina/miniconda3/envs/gpu/lib/python3.8/site-packages/joblib/parallel.py\", line 589, in __call__\n    return [func(*args, **kwargs)\n  File \"/home/brina/miniconda3/envs/gpu/lib/python3.8/site-packages/joblib/parallel.py\", line 589, in <listcomp>\n    return [func(*args, **kwargs)\n  File \"/tmp/ipykernel_9796/3415465329.py\", line 19, in train_models\n  File \"/tmp/ipykernel_9796/2667828963.py\", line 33, in get_anomaly_X_y_from_csv\n  File \"/home/brina/miniconda3/envs/gpu/lib/python3.8/site-packages/pandas/util/_decorators.py\", line 311, in wrapper\n    return func(*args, **kwargs)\n  File \"/home/brina/miniconda3/envs/gpu/lib/python3.8/site-packages/pandas/io/parsers/readers.py\", line 586, in read_csv\n    return _read(filepath_or_buffer, kwds)\n  File \"/home/brina/miniconda3/envs/gpu/lib/python3.8/site-packages/pandas/io/parsers/readers.py\", line 482, in _read\n    parser = TextFileReader(filepath_or_buffer, **kwds)\n  File \"/home/brina/miniconda3/envs/gpu/lib/python3.8/site-packages/pandas/io/parsers/readers.py\", line 811, in __init__\n    self._engine = self._make_engine(self.engine)\n  File \"/home/brina/miniconda3/envs/gpu/lib/python3.8/site-packages/pandas/io/parsers/readers.py\", line 1040, in _make_engine\n    return mapping[engine](self.f, **self.options)  # type: ignore[call-arg]\n  File \"/home/brina/miniconda3/envs/gpu/lib/python3.8/site-packages/pandas/io/parsers/c_parser_wrapper.py\", line 69, in __init__\n    self._reader = parsers.TextReader(self.handles.handle, **kwds)\n  File \"pandas/_libs/parsers.pyx\", line 542, in pandas._libs.parsers.TextReader.__cinit__\n  File \"pandas/_libs/parsers.pyx\", line 770, in pandas._libs.parsers.TextReader._get_header\nValueError: Number of passed names did not match number of header fields in the file\n\"\"\"",
      "\nThe above exception was the direct cause of the following exception:\n",
      "\u001b[0;31mValueError\u001b[0m                                Traceback (most recent call last)",
      "Cell \u001b[0;32mIn[35], line 114\u001b[0m\n\u001b[1;32m    111\u001b[0m     \u001b[38;5;28;01mreturn\u001b[39;00m feature_importances, ensemble_models, SVMs\n\u001b[1;32m    113\u001b[0m \u001b[38;5;66;03m# Parallelize the training across multiple CSV files\u001b[39;00m\n\u001b[0;32m--> 114\u001b[0m results \u001b[38;5;241m=\u001b[39m \u001b[43mParallel\u001b[49m\u001b[43m(\u001b[49m\u001b[43mn_jobs\u001b[49m\u001b[38;5;241;43m=\u001b[39;49m\u001b[38;5;241;43m-\u001b[39;49m\u001b[38;5;241;43m1\u001b[39;49m\u001b[43m)\u001b[49m\u001b[43m(\u001b[49m\u001b[43mdelayed\u001b[49m\u001b[43m(\u001b[49m\u001b[43mtrain_models\u001b[49m\u001b[43m)\u001b[49m\u001b[43m(\u001b[49m\u001b[43mcsv_file\u001b[49m\u001b[43m)\u001b[49m\u001b[43m \u001b[49m\u001b[38;5;28;43;01mfor\u001b[39;49;00m\u001b[43m \u001b[49m\u001b[43mcsv_file\u001b[49m\u001b[43m \u001b[49m\u001b[38;5;129;43;01min\u001b[39;49;00m\u001b[43m \u001b[49m\u001b[43mcsv_files\u001b[49m\u001b[43m)\u001b[49m\n\u001b[1;32m    116\u001b[0m \u001b[38;5;66;03m# After parallel execution, collect results\u001b[39;00m\n\u001b[1;32m    117\u001b[0m \u001b[38;5;28;01mfor\u001b[39;00m feature_importances_res, ensemble_models_res, SVMs_res \u001b[38;5;129;01min\u001b[39;00m results:\n",
      "File \u001b[0;32m~/miniconda3/envs/gpu/lib/python3.8/site-packages/joblib/parallel.py:1952\u001b[0m, in \u001b[0;36mParallel.__call__\u001b[0;34m(self, iterable)\u001b[0m\n\u001b[1;32m   1946\u001b[0m \u001b[38;5;66;03m# The first item from the output is blank, but it makes the interpreter\u001b[39;00m\n\u001b[1;32m   1947\u001b[0m \u001b[38;5;66;03m# progress until it enters the Try/Except block of the generator and\u001b[39;00m\n\u001b[1;32m   1948\u001b[0m \u001b[38;5;66;03m# reach the first `yield` statement. This starts the aynchronous\u001b[39;00m\n\u001b[1;32m   1949\u001b[0m \u001b[38;5;66;03m# dispatch of the tasks to the workers.\u001b[39;00m\n\u001b[1;32m   1950\u001b[0m \u001b[38;5;28mnext\u001b[39m(output)\n\u001b[0;32m-> 1952\u001b[0m \u001b[38;5;28;01mreturn\u001b[39;00m output \u001b[38;5;28;01mif\u001b[39;00m \u001b[38;5;28mself\u001b[39m\u001b[38;5;241m.\u001b[39mreturn_generator \u001b[38;5;28;01melse\u001b[39;00m \u001b[38;5;28;43mlist\u001b[39;49m\u001b[43m(\u001b[49m\u001b[43moutput\u001b[49m\u001b[43m)\u001b[49m\n",
      "File \u001b[0;32m~/miniconda3/envs/gpu/lib/python3.8/site-packages/joblib/parallel.py:1595\u001b[0m, in \u001b[0;36mParallel._get_outputs\u001b[0;34m(self, iterator, pre_dispatch)\u001b[0m\n\u001b[1;32m   1592\u001b[0m     \u001b[38;5;28;01myield\u001b[39;00m\n\u001b[1;32m   1594\u001b[0m     \u001b[38;5;28;01mwith\u001b[39;00m \u001b[38;5;28mself\u001b[39m\u001b[38;5;241m.\u001b[39m_backend\u001b[38;5;241m.\u001b[39mretrieval_context():\n\u001b[0;32m-> 1595\u001b[0m         \u001b[38;5;28;01myield from\u001b[39;00m \u001b[38;5;28mself\u001b[39m\u001b[38;5;241m.\u001b[39m_retrieve()\n\u001b[1;32m   1597\u001b[0m \u001b[38;5;28;01mexcept\u001b[39;00m \u001b[38;5;167;01mGeneratorExit\u001b[39;00m:\n\u001b[1;32m   1598\u001b[0m     \u001b[38;5;66;03m# The generator has been garbage collected before being fully\u001b[39;00m\n\u001b[1;32m   1599\u001b[0m     \u001b[38;5;66;03m# consumed. This aborts the remaining tasks if possible and warn\u001b[39;00m\n\u001b[1;32m   1600\u001b[0m     \u001b[38;5;66;03m# the user if necessary.\u001b[39;00m\n\u001b[1;32m   1601\u001b[0m     \u001b[38;5;28mself\u001b[39m\u001b[38;5;241m.\u001b[39m_exception \u001b[38;5;241m=\u001b[39m \u001b[38;5;28;01mTrue\u001b[39;00m\n",
      "File \u001b[0;32m~/miniconda3/envs/gpu/lib/python3.8/site-packages/joblib/parallel.py:1699\u001b[0m, in \u001b[0;36mParallel._retrieve\u001b[0;34m(self)\u001b[0m\n\u001b[1;32m   1692\u001b[0m \u001b[38;5;28;01mwhile\u001b[39;00m \u001b[38;5;28mself\u001b[39m\u001b[38;5;241m.\u001b[39m_wait_retrieval():\n\u001b[1;32m   1693\u001b[0m \n\u001b[1;32m   1694\u001b[0m     \u001b[38;5;66;03m# If the callback thread of a worker has signaled that its task\u001b[39;00m\n\u001b[1;32m   1695\u001b[0m     \u001b[38;5;66;03m# triggered an exception, or if the retrieval loop has raised an\u001b[39;00m\n\u001b[1;32m   1696\u001b[0m     \u001b[38;5;66;03m# exception (e.g. `GeneratorExit`), exit the loop and surface the\u001b[39;00m\n\u001b[1;32m   1697\u001b[0m     \u001b[38;5;66;03m# worker traceback.\u001b[39;00m\n\u001b[1;32m   1698\u001b[0m     \u001b[38;5;28;01mif\u001b[39;00m \u001b[38;5;28mself\u001b[39m\u001b[38;5;241m.\u001b[39m_aborting:\n\u001b[0;32m-> 1699\u001b[0m         \u001b[38;5;28;43mself\u001b[39;49m\u001b[38;5;241;43m.\u001b[39;49m\u001b[43m_raise_error_fast\u001b[49m\u001b[43m(\u001b[49m\u001b[43m)\u001b[49m\n\u001b[1;32m   1700\u001b[0m         \u001b[38;5;28;01mbreak\u001b[39;00m\n\u001b[1;32m   1702\u001b[0m     \u001b[38;5;66;03m# If the next job is not ready for retrieval yet, we just wait for\u001b[39;00m\n\u001b[1;32m   1703\u001b[0m     \u001b[38;5;66;03m# async callbacks to progress.\u001b[39;00m\n",
      "File \u001b[0;32m~/miniconda3/envs/gpu/lib/python3.8/site-packages/joblib/parallel.py:1734\u001b[0m, in \u001b[0;36mParallel._raise_error_fast\u001b[0;34m(self)\u001b[0m\n\u001b[1;32m   1730\u001b[0m \u001b[38;5;66;03m# If this error job exists, immediatly raise the error by\u001b[39;00m\n\u001b[1;32m   1731\u001b[0m \u001b[38;5;66;03m# calling get_result. This job might not exists if abort has been\u001b[39;00m\n\u001b[1;32m   1732\u001b[0m \u001b[38;5;66;03m# called directly or if the generator is gc'ed.\u001b[39;00m\n\u001b[1;32m   1733\u001b[0m \u001b[38;5;28;01mif\u001b[39;00m error_job \u001b[38;5;129;01mis\u001b[39;00m \u001b[38;5;129;01mnot\u001b[39;00m \u001b[38;5;28;01mNone\u001b[39;00m:\n\u001b[0;32m-> 1734\u001b[0m     \u001b[43merror_job\u001b[49m\u001b[38;5;241;43m.\u001b[39;49m\u001b[43mget_result\u001b[49m\u001b[43m(\u001b[49m\u001b[38;5;28;43mself\u001b[39;49m\u001b[38;5;241;43m.\u001b[39;49m\u001b[43mtimeout\u001b[49m\u001b[43m)\u001b[49m\n",
      "File \u001b[0;32m~/miniconda3/envs/gpu/lib/python3.8/site-packages/joblib/parallel.py:736\u001b[0m, in \u001b[0;36mBatchCompletionCallBack.get_result\u001b[0;34m(self, timeout)\u001b[0m\n\u001b[1;32m    730\u001b[0m backend \u001b[38;5;241m=\u001b[39m \u001b[38;5;28mself\u001b[39m\u001b[38;5;241m.\u001b[39mparallel\u001b[38;5;241m.\u001b[39m_backend\n\u001b[1;32m    732\u001b[0m \u001b[38;5;28;01mif\u001b[39;00m backend\u001b[38;5;241m.\u001b[39msupports_retrieve_callback:\n\u001b[1;32m    733\u001b[0m     \u001b[38;5;66;03m# We assume that the result has already been retrieved by the\u001b[39;00m\n\u001b[1;32m    734\u001b[0m     \u001b[38;5;66;03m# callback thread, and is stored internally. It's just waiting to\u001b[39;00m\n\u001b[1;32m    735\u001b[0m     \u001b[38;5;66;03m# be returned.\u001b[39;00m\n\u001b[0;32m--> 736\u001b[0m     \u001b[38;5;28;01mreturn\u001b[39;00m \u001b[38;5;28;43mself\u001b[39;49m\u001b[38;5;241;43m.\u001b[39;49m\u001b[43m_return_or_raise\u001b[49m\u001b[43m(\u001b[49m\u001b[43m)\u001b[49m\n\u001b[1;32m    738\u001b[0m \u001b[38;5;66;03m# For other backends, the main thread needs to run the retrieval step.\u001b[39;00m\n\u001b[1;32m    739\u001b[0m \u001b[38;5;28;01mtry\u001b[39;00m:\n",
      "File \u001b[0;32m~/miniconda3/envs/gpu/lib/python3.8/site-packages/joblib/parallel.py:754\u001b[0m, in \u001b[0;36mBatchCompletionCallBack._return_or_raise\u001b[0;34m(self)\u001b[0m\n\u001b[1;32m    752\u001b[0m \u001b[38;5;28;01mtry\u001b[39;00m:\n\u001b[1;32m    753\u001b[0m     \u001b[38;5;28;01mif\u001b[39;00m \u001b[38;5;28mself\u001b[39m\u001b[38;5;241m.\u001b[39mstatus \u001b[38;5;241m==\u001b[39m TASK_ERROR:\n\u001b[0;32m--> 754\u001b[0m         \u001b[38;5;28;01mraise\u001b[39;00m \u001b[38;5;28mself\u001b[39m\u001b[38;5;241m.\u001b[39m_result\n\u001b[1;32m    755\u001b[0m     \u001b[38;5;28;01mreturn\u001b[39;00m \u001b[38;5;28mself\u001b[39m\u001b[38;5;241m.\u001b[39m_result\n\u001b[1;32m    756\u001b[0m \u001b[38;5;28;01mfinally\u001b[39;00m:\n",
      "\u001b[0;31mValueError\u001b[0m: Number of passed names did not match number of header fields in the file"
     ]
    }
   ],
   "source": [
    "seconds = time.time()\n",
    "\n",
    "# CSV files names:\n",
    "csv_files=os.listdir(OUTPUT_FOLDER)# It creates a list of file names in the \"attacks\" folder.\n",
    "print('csv_files',csv_files)\n",
    "\n",
    "ths = open(\"importance_list.csv\", \"w\")\n",
    "feature_importances = {}\n",
    "ensemble_models = {}\n",
    "SVMs = {}\n",
    "\n",
    "def train_individual_model(model, X, y):\n",
    "    model.fit(X, y)\n",
    "    return model\n",
    "    \n",
    "def train_models(csv_file):\n",
    "    print('csv file', csv_file)\n",
    "    \n",
    "    X_df, y_df, df = get_anomaly_X_y_from_csv(csv_file, main_labels, TARGET_COLUMN, NORMAL_TARGET, OUTPUT_FOLDER)\n",
    "\n",
    "    #computing the feature importances\n",
    "    forest = sk.ensemble.RandomForestRegressor(n_estimators=250,random_state=0)\n",
    "    forest.fit(X_df, y_df)\n",
    "    importances = forest.feature_importances_\n",
    "    label = csv_file.split(\".\")[0]\n",
    "    print('importances', importances, label)\n",
    "    std = np.std([tree.feature_importances_ for tree in forest.estimators_],\n",
    "                 axis=0)\n",
    "    indices = np.argsort(importances)[::-1]\n",
    "    refclasscol=list(df.columns.values)\n",
    "    impor_bars = pd.DataFrame({'Features':refclasscol[0:20],'importance':importances[0:20]})\n",
    "    impor_bars = impor_bars.sort_values('importance',ascending=False)\n",
    "    important_features = impor_bars['Features'].to_list()[:5]\n",
    "    impor_bars = impor_bars.set_index('Features')\n",
    "    print('important_features', important_features)\n",
    "    feature_importances[label] = important_features\n",
    "\n",
    "    X_scaled_df = X_df.copy()\n",
    "    X_scaled_df[NUMERICAL_COLUMNS] = scaler.transform(X_scaled_df[NUMERICAL_COLUMNS])\n",
    "\n",
    "    svm = SVC()\n",
    "    knn = KNeighborsClassifier(n_neighbors=5)\n",
    "    decision_tree = DecisionTreeClassifier()\n",
    "    random_forest = RandomForestClassifier(n_estimators=100, random_state=42)\n",
    "    logistic_regression = LogisticRegression(max_iter=1000)\n",
    "    gradient_boosting = GradientBoostingClassifier(n_estimators=100, random_state=42)\n",
    "    \n",
    "    X_train_class = df.iloc[:, df.columns.get_indexer(important_features)]\n",
    "    X_train_class_scaled = X_scaled_df.iloc[:, df.columns.get_indexer(important_features)]\n",
    "    # print('X_train_class', X_train_class)\n",
    "    y_train_class = y_df\n",
    "    # print('y_train_class', y_train_class)\n",
    "    if len(y_train_class) > 0:  # Ensure there are samples for this class\n",
    "        scaled_models = [svm, knn, logistic_regression]\n",
    "        non_scaled_models = [decision_tree, random_forest, gradient_boosting]\n",
    "        \n",
    "        # Train scaled models\n",
    "        scaled_models = Parallel(n_jobs=-1)(\n",
    "            delayed(train_individual_model)(model, X_train_class_scaled, y_train_class)\n",
    "            for model in scaled_models\n",
    "        )\n",
    "        \n",
    "        # Train non-scaled models\n",
    "        non_scaled_models = Parallel(n_jobs=-1)(\n",
    "            delayed(train_individual_model)(model, X_train_class, y_train_class)\n",
    "            for model in non_scaled_models\n",
    "        )\n",
    "        \n",
    "        # Combine trained models\n",
    "        svm, knn, logistic_regression = scaled_models\n",
    "        decision_tree, random_forest, gradient_boosting = non_scaled_models\n",
    "    else:\n",
    "        print(f'no data for {label}')\n",
    "        \n",
    "    SVMs[label] = svm\n",
    "\n",
    "    # Create an ensemble from the classifiers using VotingClassifier\n",
    "    voting_clf = VotingClassifier(estimators=[\n",
    "        ('svm', svm),\n",
    "        ('knn', knn),\n",
    "        ('dt', decision_tree),\n",
    "        ('rf', random_forest),\n",
    "        ('lr', logistic_regression),\n",
    "        ('gb', gradient_boosting)\n",
    "    ], voting='hard')  # Use 'soft' for probability-based voting\n",
    "    voting_clf.fit(X_train_class_scaled, y_train_class)\n",
    "    ensemble_models[label] = voting_clf\n",
    "    \n",
    "    plt.rcParams['figure.figsize'] = (10, 5)\n",
    "    impor_bars.plot.bar();\n",
    "    # #printing the feature importances  \n",
    "    count=0\n",
    "    fea_ture=label+\"=[\"\n",
    "    for i in impor_bars.index:\n",
    "        fea_ture=fea_ture+\"\\\"\"+str(i)+\"\\\",\"\n",
    "        count+=1\n",
    "        if count==5:\n",
    "            fea_ture=fea_ture[0:-1]+\"]\"\n",
    "            break     \n",
    "    print(label,\"importance list:\")\n",
    "    print(label,\"\\n\",impor_bars.head(20),\"\\n\\n\\n\")\n",
    "    print(fea_ture)\n",
    "    plt.title(label+\" Cover type - Feature Importance\")\n",
    "    plt.ylabel('Importance')\n",
    "    plt.savefig(os.path.join(FEATURE_FOLDER, label+\".pdf\"),bbox_inches='tight', format = 'pdf')\n",
    "    # ths.write((  fea_ture ) )\n",
    "    plt.tight_layout()\n",
    "    plt.show()\n",
    "    print(\"-----------------------------------------------------------------------------------------------\\n\\n\\n\\n\")\n",
    "\n",
    "    return feature_importances, ensemble_models, SVMs\n",
    "\n",
    "# Parallelize the training across multiple CSV files\n",
    "results = Parallel(n_jobs=-1)(delayed(train_models)(csv_file) for csv_file in csv_files)\n",
    "\n",
    "# After parallel execution, collect results\n",
    "for feature_importances_res, ensemble_models_res, SVMs_res in results:\n",
    "    feature_importances.update(feature_importances_res)\n",
    "    ensemble_models.update(ensemble_models_res)\n",
    "    SVMs.update(SVMs_res)\n",
    "\n",
    "# Write feature importances to a CSV file after parallel processing\n",
    "# with open(\"importance_list.csv\", \"w\") as ths:\n",
    "#     for label, features in feature_importances.items():\n",
    "#         fea_ture = f\"{label}=[{','.join(f'\\\"{feat}\\\"' for feat in features)}]\\n\"\n",
    "#         ths.write(fea_ture)\n",
    "  \n",
    "print('feature_importances', feature_importances)\n",
    "print(\"Total operation time: = \", time.time() - seconds, \"seconds\")\n",
    "ths.close()"
   ]
  },
  {
   "cell_type": "code",
   "execution_count": 20,
   "metadata": {},
   "outputs": [
    {
     "name": "stdout",
     "output_type": "stream",
     "text": [
      "csv file DDoS.csv\n",
      "importances [1.60698851e-02 4.79481521e-05 5.71004082e-03 5.90252513e-02\n",
      " 8.71731407e-05 2.04755825e-01 1.11785288e-01 1.31500660e-04\n",
      " 2.45746502e-04 1.18198471e-04 6.50812013e-05 6.43753046e-04\n",
      " 1.35109669e-04 2.08407395e-04 4.70886195e-03 1.36397523e-04\n",
      " 4.07250036e-03 9.65113515e-05 3.69896562e-04 2.48205954e-05\n",
      " 1.03908005e-04 1.52271584e-02 5.52579714e-05 1.31408220e-03\n",
      " 6.41884922e-05 4.19923882e-05 2.55520331e-05 7.60812125e-06\n",
      " 1.01320109e-01 6.58367610e-03 3.38467455e-04 6.49892279e-03\n",
      " 3.86385815e-04 1.01484106e-04 1.35092117e-04 1.38364412e-04\n",
      " 8.10977626e-04 1.47898099e-04 1.88709227e-04 1.06524995e-01\n",
      " 1.28723438e-04 4.60338799e-05 5.72306375e-02 6.14614877e-03\n",
      " 8.92818727e-05 2.78840556e-01 9.45605637e-04 2.19906310e-03\n",
      " 4.15698607e-04 4.44864411e-04 3.27934697e-06 4.42476884e-04\n",
      " 4.31768827e-04 5.18867731e-06 2.07434856e-06 6.51978534e-06\n",
      " 4.16905176e-03] DDoS\n",
      "important_features ['Fwd Packet Length Max', 'Fwd Packet Length Mean', 'Fwd Packets Length Total', 'Flow Duration', 'Total Backward Packets']\n",
      "DDoS importance list:\n",
      "DDoS \n",
      "                           importance\n",
      "Features                            \n",
      "Fwd Packet Length Max       0.204756\n",
      "Fwd Packet Length Mean      0.111785\n",
      "Fwd Packets Length Total    0.059025\n",
      "Flow Duration               0.016070\n",
      "Total Backward Packets      0.005710\n",
      "Flow IAT Std                0.004709\n",
      "Flow IAT Min                0.004073\n",
      "Flow Bytes/s                0.000644\n",
      "Fwd IAT Mean                0.000370\n",
      "Bwd Packet Length Max       0.000246\n",
      "Flow IAT Mean               0.000208\n",
      "Flow IAT Max                0.000136\n",
      "Flow Packets/s              0.000135\n",
      "Fwd Packet Length Std       0.000132\n",
      "Bwd Packet Length Mean      0.000118\n",
      "Fwd IAT Total               0.000097\n",
      "Bwd Packets Length Total    0.000087\n",
      "Bwd Packet Length Std       0.000065\n",
      "Total Fwd Packets           0.000048\n",
      "Fwd IAT Std                 0.000025 \n",
      "\n",
      "\n",
      "\n",
      "DDoS=[\"Fwd Packet Length Max\",\"Fwd Packet Length Mean\",\"Fwd Packets Length Total\",\"Flow Duration\",\"Total Backward Packets\"]\n"
     ]
    },
    {
     "data": {
      "image/png": "[encoded data removed]",
      "text/plain": [
       "<Figure size 1000x500 with 1 Axes>"
      ]
     },
     "metadata": {},
     "output_type": "display_data"
    },
    {
     "name": "stdout",
     "output_type": "stream",
     "text": [
      "-----------------------------------------------------------------------------------------------\n",
      "\n",
      "\n",
      "\n",
      "\n",
      "feature_importances {'Portscan': ['Flow IAT Min', 'Fwd IAT Std', 'Bwd Packet Length Std', 'Bwd Packet Length Mean', 'Total Backward Packets'], 'Botnet': ['Flow Duration', 'Flow IAT Mean', 'Bwd Packets Length Total', 'Bwd Packet Length Max', 'Fwd IAT Std'], 'Bruteforce': ['Bwd Packet Length Max', 'Bwd Packets Length Total', 'Fwd Packets Length Total', 'Fwd Packet Length Mean', 'Total Fwd Packets'], 'Webattack': ['Fwd IAT Std', 'Fwd Packets Length Total', 'Flow Bytes/s', 'Flow IAT Max', 'Fwd Packet Length Max'], 'DoS': ['Bwd Packet Length Std', 'Fwd Packet Length Mean', 'Fwd IAT Total', 'Fwd Packet Length Max', 'Flow IAT Mean'], 'Infiltration': ['Flow IAT Min', 'Flow Bytes/s', 'Flow IAT Max', 'Fwd IAT Total', 'Flow Duration'], 'DDoS': ['Fwd Packet Length Max', 'Fwd Packet Length Mean', 'Fwd Packets Length Total', 'Flow Duration', 'Total Backward Packets']}\n",
      "Total operation time: =  57712.649175167084 seconds\n"
     ]
    }
   ],
   "source": [
    "seconds = time.time()\n",
    "\n",
    "csv_file = 'DDoS.csv'\n",
    "print('csv file', csv_file)\n",
    "\n",
    "def train_individual_model(model, X, y):\n",
    "    model.fit(X, y)\n",
    "    return model\n",
    "    \n",
    "X_df, y_df, df = get_anomaly_X_y_from_csv(csv_file, main_labels, TARGET_COLUMN, NORMAL_TARGET, OUTPUT_FOLDER)\n",
    "\n",
    "#computing the feature importances\n",
    "forest = sk.ensemble.RandomForestRegressor(n_estimators=250,random_state=0)\n",
    "forest.fit(X_df, y_df)\n",
    "importances = forest.feature_importances_\n",
    "label = csv_file.split(\".\")[0]\n",
    "print('importances', importances, label)\n",
    "std = np.std([tree.feature_importances_ for tree in forest.estimators_],\n",
    "             axis=0)\n",
    "indices = np.argsort(importances)[::-1]\n",
    "refclasscol=list(df.columns.values)\n",
    "impor_bars = pd.DataFrame({'Features':refclasscol[0:20],'importance':importances[0:20]})\n",
    "impor_bars = impor_bars.sort_values('importance',ascending=False)\n",
    "important_features = impor_bars['Features'].to_list()[:5]\n",
    "impor_bars = impor_bars.set_index('Features')\n",
    "print('important_features', important_features)\n",
    "feature_importances[label] = important_features\n",
    "\n",
    "X_scaled_df = X_df.copy()\n",
    "X_scaled_df[NUMERICAL_COLUMNS] = scaler.transform(X_scaled_df[NUMERICAL_COLUMNS])\n",
    "\n",
    "svm = SVC()\n",
    "knn = KNeighborsClassifier(n_neighbors=5)\n",
    "decision_tree = DecisionTreeClassifier()\n",
    "random_forest = RandomForestClassifier(n_estimators=100, random_state=42)\n",
    "logistic_regression = LogisticRegression(max_iter=1000)\n",
    "gradient_boosting = GradientBoostingClassifier(n_estimators=100, random_state=42)\n",
    "\n",
    "X_train_class = df.iloc[:, df.columns.get_indexer(important_features)]\n",
    "X_train_class_scaled = X_scaled_df.iloc[:, df.columns.get_indexer(important_features)]\n",
    "# print('X_train_class', X_train_class)\n",
    "y_train_class = y_df\n",
    "# print('y_train_class', y_train_class)\n",
    "if len(y_train_class) > 0:  # Ensure there are samples for this class\n",
    "    scaled_models = [svm, knn, logistic_regression]\n",
    "    non_scaled_models = [decision_tree, random_forest, gradient_boosting]\n",
    "    \n",
    "    # Train scaled models\n",
    "    scaled_models = Parallel(n_jobs=-1)(\n",
    "        delayed(train_individual_model)(model, X_train_class_scaled, y_train_class)\n",
    "        for model in scaled_models\n",
    "    )\n",
    "    \n",
    "    # Train non-scaled models\n",
    "    non_scaled_models = Parallel(n_jobs=-1)(\n",
    "        delayed(train_individual_model)(model, X_train_class, y_train_class)\n",
    "        for model in non_scaled_models\n",
    "    )\n",
    "    \n",
    "    # Combine trained models\n",
    "    svm, knn, logistic_regression = scaled_models\n",
    "    decision_tree, random_forest, gradient_boosting = non_scaled_models\n",
    "else:\n",
    "    print(f'no data for {label}')\n",
    "    \n",
    "SVMs[label] = svm\n",
    "\n",
    "# Create an ensemble from the classifiers using VotingClassifier\n",
    "voting_clf = VotingClassifier(estimators=[\n",
    "    ('svm', svm),\n",
    "    ('knn', knn),\n",
    "    ('dt', decision_tree),\n",
    "    ('rf', random_forest),\n",
    "    ('lr', logistic_regression),\n",
    "    ('gb', gradient_boosting)\n",
    "], voting='hard')  # Use 'soft' for probability-based voting\n",
    "voting_clf.fit(X_train_class_scaled, y_train_class)\n",
    "ensemble_models[label] = voting_clf\n",
    "\n",
    "plt.rcParams['figure.figsize'] = (10, 5)\n",
    "impor_bars.plot.bar();\n",
    "# #printing the feature importances  \n",
    "count=0\n",
    "fea_ture=label+\"=[\"\n",
    "for i in impor_bars.index:\n",
    "    fea_ture=fea_ture+\"\\\"\"+str(i)+\"\\\",\"\n",
    "    count+=1\n",
    "    if count==5:\n",
    "        fea_ture=fea_ture[0:-1]+\"]\"\n",
    "        break     \n",
    "print(label,\"importance list:\")\n",
    "print(label,\"\\n\",impor_bars.head(20),\"\\n\\n\\n\")\n",
    "print(fea_ture)\n",
    "plt.title(label+\" Cover type - Feature Importance\")\n",
    "plt.ylabel('Importance')\n",
    "plt.savefig(os.path.join(FEATURE_FOLDER, label+\".pdf\"),bbox_inches='tight', format = 'pdf')\n",
    "# ths.write((  fea_ture ) )\n",
    "plt.tight_layout()\n",
    "plt.show()\n",
    "print(\"-----------------------------------------------------------------------------------------------\\n\\n\\n\\n\")\n",
    "\n",
    "print('feature_importances', feature_importances)\n",
    "print(\"Total operation time: = \", time.time() - seconds, \"seconds\")\n",
    "ths.close()"
   ]
  },
  {
   "cell_type": "code",
   "execution_count": 22,
   "metadata": {},
   "outputs": [
    {
     "name": "stdout",
     "output_type": "stream",
     "text": [
      "{'Portscan': ['Flow IAT Min', 'Fwd IAT Std', 'Bwd Packet Length Std', 'Bwd Packet Length Mean', 'Total Backward Packets'], 'Botnet': ['Flow Duration', 'Flow IAT Mean', 'Bwd Packets Length Total', 'Bwd Packet Length Max', 'Fwd IAT Std'], 'Bruteforce': ['Bwd Packet Length Max', 'Bwd Packets Length Total', 'Fwd Packets Length Total', 'Fwd Packet Length Mean', 'Total Fwd Packets'], 'Webattack': ['Fwd IAT Std', 'Fwd Packets Length Total', 'Flow Bytes/s', 'Flow IAT Max', 'Fwd Packet Length Max'], 'DoS': ['Bwd Packet Length Std', 'Fwd Packet Length Mean', 'Fwd IAT Total', 'Fwd Packet Length Max', 'Flow IAT Mean'], 'Infiltration': ['Flow IAT Min', 'Flow Bytes/s', 'Flow IAT Max', 'Fwd IAT Total', 'Flow Duration'], 'DDoS': ['Fwd Packet Length Max', 'Fwd Packet Length Mean', 'Fwd Packets Length Total', 'Flow Duration', 'Total Backward Packets']}\n"
     ]
    }
   ],
   "source": [
    "print(feature_importances)"
   ]
  },
  {
   "cell_type": "code",
   "execution_count": 23,
   "metadata": {},
   "outputs": [
    {
     "data": {
      "text/html": [
       "wandb version 0.18.3 is available!  To upgrade, please run:\n",
       " $ pip install wandb --upgrade"
      ],
      "text/plain": [
       "<IPython.core.display.HTML object>"
      ]
     },
     "metadata": {},
     "output_type": "display_data"
    },
    {
     "data": {
      "text/html": [
       "Tracking run with wandb version 0.16.4"
      ],
      "text/plain": [
       "<IPython.core.display.HTML object>"
      ]
     },
     "metadata": {},
     "output_type": "display_data"
    },
    {
     "data": {
      "text/html": [
       "Run data is saved locally in <code>/home/brina/nus-mcomp/sem2/cs5344-big-data-analytics-technology/CS5344_Project/work/wandb/run-20241013_135430-ya3xb7ra</code>"
      ],
      "text/plain": [
       "<IPython.core.display.HTML object>"
      ]
     },
     "metadata": {},
     "output_type": "display_data"
    },
    {
     "data": {
      "text/html": [
       "Syncing run <strong><a href='https://wandb.ai/brinashong/pipeline-knn-cicids-dataset/runs/ya3xb7ra' target=\"_blank\">3 neighbours</a></strong> to <a href='https://wandb.ai/brinashong/pipeline-knn-cicids-dataset' target=\"_blank\">Weights & Biases</a> (<a href='https://wandb.me/run' target=\"_blank\">docs</a>)<br/>"
      ],
      "text/plain": [
       "<IPython.core.display.HTML object>"
      ]
     },
     "metadata": {},
     "output_type": "display_data"
    },
    {
     "data": {
      "text/html": [
       " View project at <a href='https://wandb.ai/brinashong/pipeline-knn-cicids-dataset' target=\"_blank\">https://wandb.ai/brinashong/pipeline-knn-cicids-dataset</a>"
      ],
      "text/plain": [
       "<IPython.core.display.HTML object>"
      ]
     },
     "metadata": {},
     "output_type": "display_data"
    },
    {
     "data": {
      "text/html": [
       " View run at <a href='https://wandb.ai/brinashong/pipeline-knn-cicids-dataset/runs/ya3xb7ra' target=\"_blank\">https://wandb.ai/brinashong/pipeline-knn-cicids-dataset/runs/ya3xb7ra</a>"
      ],
      "text/plain": [
       "<IPython.core.display.HTML object>"
      ]
     },
     "metadata": {},
     "output_type": "display_data"
    },
    {
     "name": "stdout",
     "output_type": "stream",
     "text": [
      "k:  3\n"
     ]
    },
    {
     "ename": "KeyboardInterrupt",
     "evalue": "",
     "output_type": "error",
     "traceback": [
      "\u001b[0;31m---------------------------------------------------------------------------\u001b[0m",
      "\u001b[0;31mKeyboardInterrupt\u001b[0m                         Traceback (most recent call last)",
      "Cell \u001b[0;32mIn[23], line 26\u001b[0m\n\u001b[1;32m     23\u001b[0m knn \u001b[38;5;241m=\u001b[39m KNeighborsClassifier(n_neighbors\u001b[38;5;241m=\u001b[39mk)\n\u001b[1;32m     25\u001b[0m \u001b[38;5;66;03m# Step 2: Perform 5-fold cross-validation on the training set\u001b[39;00m\n\u001b[0;32m---> 26\u001b[0m cv_scores \u001b[38;5;241m=\u001b[39m \u001b[43mcross_val_score\u001b[49m\u001b[43m(\u001b[49m\u001b[43mknn\u001b[49m\u001b[43m,\u001b[49m\u001b[43m \u001b[49m\u001b[43mX_train_df\u001b[49m\u001b[43m,\u001b[49m\u001b[43m \u001b[49m\u001b[43my_train_df\u001b[49m\u001b[43m,\u001b[49m\u001b[43m \u001b[49m\u001b[43mcv\u001b[49m\u001b[38;5;241;43m=\u001b[39;49m\u001b[38;5;241;43m5\u001b[39;49m\u001b[43m,\u001b[49m\u001b[43m \u001b[49m\u001b[43mscoring\u001b[49m\u001b[38;5;241;43m=\u001b[39;49m\u001b[38;5;124;43m'\u001b[39;49m\u001b[38;5;124;43maccuracy\u001b[39;49m\u001b[38;5;124;43m'\u001b[39;49m\u001b[43m)\u001b[49m\n\u001b[1;32m     27\u001b[0m avg_cv_score \u001b[38;5;241m=\u001b[39m cv_scores\u001b[38;5;241m.\u001b[39mmean()  \u001b[38;5;66;03m# Get the average cross-validation score\u001b[39;00m\n\u001b[1;32m     28\u001b[0m \u001b[38;5;28mprint\u001b[39m(\u001b[38;5;124mf\u001b[39m\u001b[38;5;124m\"\u001b[39m\u001b[38;5;124mCross-validation score for k=\u001b[39m\u001b[38;5;132;01m{\u001b[39;00mk\u001b[38;5;132;01m}\u001b[39;00m\u001b[38;5;124m: \u001b[39m\u001b[38;5;132;01m{\u001b[39;00mavg_cv_score\u001b[38;5;132;01m}\u001b[39;00m\u001b[38;5;124m\"\u001b[39m)\n",
      "File \u001b[0;32m~/miniconda3/envs/gpu/lib/python3.8/site-packages/sklearn/model_selection/_validation.py:562\u001b[0m, in \u001b[0;36mcross_val_score\u001b[0;34m(estimator, X, y, groups, scoring, cv, n_jobs, verbose, fit_params, pre_dispatch, error_score)\u001b[0m\n\u001b[1;32m    559\u001b[0m \u001b[38;5;66;03m# To ensure multimetric format is not supported\u001b[39;00m\n\u001b[1;32m    560\u001b[0m scorer \u001b[38;5;241m=\u001b[39m check_scoring(estimator, scoring\u001b[38;5;241m=\u001b[39mscoring)\n\u001b[0;32m--> 562\u001b[0m cv_results \u001b[38;5;241m=\u001b[39m \u001b[43mcross_validate\u001b[49m\u001b[43m(\u001b[49m\n\u001b[1;32m    563\u001b[0m \u001b[43m    \u001b[49m\u001b[43mestimator\u001b[49m\u001b[38;5;241;43m=\u001b[39;49m\u001b[43mestimator\u001b[49m\u001b[43m,\u001b[49m\n\u001b[1;32m    564\u001b[0m \u001b[43m    \u001b[49m\u001b[43mX\u001b[49m\u001b[38;5;241;43m=\u001b[39;49m\u001b[43mX\u001b[49m\u001b[43m,\u001b[49m\n\u001b[1;32m    565\u001b[0m \u001b[43m    \u001b[49m\u001b[43my\u001b[49m\u001b[38;5;241;43m=\u001b[39;49m\u001b[43my\u001b[49m\u001b[43m,\u001b[49m\n\u001b[1;32m    566\u001b[0m \u001b[43m    \u001b[49m\u001b[43mgroups\u001b[49m\u001b[38;5;241;43m=\u001b[39;49m\u001b[43mgroups\u001b[49m\u001b[43m,\u001b[49m\n\u001b[1;32m    567\u001b[0m \u001b[43m    \u001b[49m\u001b[43mscoring\u001b[49m\u001b[38;5;241;43m=\u001b[39;49m\u001b[43m{\u001b[49m\u001b[38;5;124;43m\"\u001b[39;49m\u001b[38;5;124;43mscore\u001b[39;49m\u001b[38;5;124;43m\"\u001b[39;49m\u001b[43m:\u001b[49m\u001b[43m \u001b[49m\u001b[43mscorer\u001b[49m\u001b[43m}\u001b[49m\u001b[43m,\u001b[49m\n\u001b[1;32m    568\u001b[0m \u001b[43m    \u001b[49m\u001b[43mcv\u001b[49m\u001b[38;5;241;43m=\u001b[39;49m\u001b[43mcv\u001b[49m\u001b[43m,\u001b[49m\n\u001b[1;32m    569\u001b[0m \u001b[43m    \u001b[49m\u001b[43mn_jobs\u001b[49m\u001b[38;5;241;43m=\u001b[39;49m\u001b[43mn_jobs\u001b[49m\u001b[43m,\u001b[49m\n\u001b[1;32m    570\u001b[0m \u001b[43m    \u001b[49m\u001b[43mverbose\u001b[49m\u001b[38;5;241;43m=\u001b[39;49m\u001b[43mverbose\u001b[49m\u001b[43m,\u001b[49m\n\u001b[1;32m    571\u001b[0m \u001b[43m    \u001b[49m\u001b[43mfit_params\u001b[49m\u001b[38;5;241;43m=\u001b[39;49m\u001b[43mfit_params\u001b[49m\u001b[43m,\u001b[49m\n\u001b[1;32m    572\u001b[0m \u001b[43m    \u001b[49m\u001b[43mpre_dispatch\u001b[49m\u001b[38;5;241;43m=\u001b[39;49m\u001b[43mpre_dispatch\u001b[49m\u001b[43m,\u001b[49m\n\u001b[1;32m    573\u001b[0m \u001b[43m    \u001b[49m\u001b[43merror_score\u001b[49m\u001b[38;5;241;43m=\u001b[39;49m\u001b[43merror_score\u001b[49m\u001b[43m,\u001b[49m\n\u001b[1;32m    574\u001b[0m \u001b[43m\u001b[49m\u001b[43m)\u001b[49m\n\u001b[1;32m    575\u001b[0m \u001b[38;5;28;01mreturn\u001b[39;00m cv_results[\u001b[38;5;124m\"\u001b[39m\u001b[38;5;124mtest_score\u001b[39m\u001b[38;5;124m\"\u001b[39m]\n",
      "File \u001b[0;32m~/miniconda3/envs/gpu/lib/python3.8/site-packages/sklearn/utils/_param_validation.py:214\u001b[0m, in \u001b[0;36mvalidate_params.<locals>.decorator.<locals>.wrapper\u001b[0;34m(*args, **kwargs)\u001b[0m\n\u001b[1;32m    208\u001b[0m \u001b[38;5;28;01mtry\u001b[39;00m:\n\u001b[1;32m    209\u001b[0m     \u001b[38;5;28;01mwith\u001b[39;00m config_context(\n\u001b[1;32m    210\u001b[0m         skip_parameter_validation\u001b[38;5;241m=\u001b[39m(\n\u001b[1;32m    211\u001b[0m             prefer_skip_nested_validation \u001b[38;5;129;01mor\u001b[39;00m global_skip_validation\n\u001b[1;32m    212\u001b[0m         )\n\u001b[1;32m    213\u001b[0m     ):\n\u001b[0;32m--> 214\u001b[0m         \u001b[38;5;28;01mreturn\u001b[39;00m \u001b[43mfunc\u001b[49m\u001b[43m(\u001b[49m\u001b[38;5;241;43m*\u001b[39;49m\u001b[43margs\u001b[49m\u001b[43m,\u001b[49m\u001b[43m \u001b[49m\u001b[38;5;241;43m*\u001b[39;49m\u001b[38;5;241;43m*\u001b[39;49m\u001b[43mkwargs\u001b[49m\u001b[43m)\u001b[49m\n\u001b[1;32m    215\u001b[0m \u001b[38;5;28;01mexcept\u001b[39;00m InvalidParameterError \u001b[38;5;28;01mas\u001b[39;00m e:\n\u001b[1;32m    216\u001b[0m     \u001b[38;5;66;03m# When the function is just a wrapper around an estimator, we allow\u001b[39;00m\n\u001b[1;32m    217\u001b[0m     \u001b[38;5;66;03m# the function to delegate validation to the estimator, but we replace\u001b[39;00m\n\u001b[1;32m    218\u001b[0m     \u001b[38;5;66;03m# the name of the estimator by the name of the function in the error\u001b[39;00m\n\u001b[1;32m    219\u001b[0m     \u001b[38;5;66;03m# message to avoid confusion.\u001b[39;00m\n\u001b[1;32m    220\u001b[0m     msg \u001b[38;5;241m=\u001b[39m re\u001b[38;5;241m.\u001b[39msub(\n\u001b[1;32m    221\u001b[0m         \u001b[38;5;124mr\u001b[39m\u001b[38;5;124m\"\u001b[39m\u001b[38;5;124mparameter of \u001b[39m\u001b[38;5;124m\\\u001b[39m\u001b[38;5;124mw+ must be\u001b[39m\u001b[38;5;124m\"\u001b[39m,\n\u001b[1;32m    222\u001b[0m         \u001b[38;5;124mf\u001b[39m\u001b[38;5;124m\"\u001b[39m\u001b[38;5;124mparameter of \u001b[39m\u001b[38;5;132;01m{\u001b[39;00mfunc\u001b[38;5;241m.\u001b[39m\u001b[38;5;18m__qualname__\u001b[39m\u001b[38;5;132;01m}\u001b[39;00m\u001b[38;5;124m must be\u001b[39m\u001b[38;5;124m\"\u001b[39m,\n\u001b[1;32m    223\u001b[0m         \u001b[38;5;28mstr\u001b[39m(e),\n\u001b[1;32m    224\u001b[0m     )\n",
      "File \u001b[0;32m~/miniconda3/envs/gpu/lib/python3.8/site-packages/sklearn/model_selection/_validation.py:309\u001b[0m, in \u001b[0;36mcross_validate\u001b[0;34m(estimator, X, y, groups, scoring, cv, n_jobs, verbose, fit_params, pre_dispatch, return_train_score, return_estimator, return_indices, error_score)\u001b[0m\n\u001b[1;32m    306\u001b[0m \u001b[38;5;66;03m# We clone the estimator to make sure that all the folds are\u001b[39;00m\n\u001b[1;32m    307\u001b[0m \u001b[38;5;66;03m# independent, and that it is pickle-able.\u001b[39;00m\n\u001b[1;32m    308\u001b[0m parallel \u001b[38;5;241m=\u001b[39m Parallel(n_jobs\u001b[38;5;241m=\u001b[39mn_jobs, verbose\u001b[38;5;241m=\u001b[39mverbose, pre_dispatch\u001b[38;5;241m=\u001b[39mpre_dispatch)\n\u001b[0;32m--> 309\u001b[0m results \u001b[38;5;241m=\u001b[39m \u001b[43mparallel\u001b[49m\u001b[43m(\u001b[49m\n\u001b[1;32m    310\u001b[0m \u001b[43m    \u001b[49m\u001b[43mdelayed\u001b[49m\u001b[43m(\u001b[49m\u001b[43m_fit_and_score\u001b[49m\u001b[43m)\u001b[49m\u001b[43m(\u001b[49m\n\u001b[1;32m    311\u001b[0m \u001b[43m        \u001b[49m\u001b[43mclone\u001b[49m\u001b[43m(\u001b[49m\u001b[43mestimator\u001b[49m\u001b[43m)\u001b[49m\u001b[43m,\u001b[49m\n\u001b[1;32m    312\u001b[0m \u001b[43m        \u001b[49m\u001b[43mX\u001b[49m\u001b[43m,\u001b[49m\n\u001b[1;32m    313\u001b[0m \u001b[43m        \u001b[49m\u001b[43my\u001b[49m\u001b[43m,\u001b[49m\n\u001b[1;32m    314\u001b[0m \u001b[43m        \u001b[49m\u001b[43mscorers\u001b[49m\u001b[43m,\u001b[49m\n\u001b[1;32m    315\u001b[0m \u001b[43m        \u001b[49m\u001b[43mtrain\u001b[49m\u001b[43m,\u001b[49m\n\u001b[1;32m    316\u001b[0m \u001b[43m        \u001b[49m\u001b[43mtest\u001b[49m\u001b[43m,\u001b[49m\n\u001b[1;32m    317\u001b[0m \u001b[43m        \u001b[49m\u001b[43mverbose\u001b[49m\u001b[43m,\u001b[49m\n\u001b[1;32m    318\u001b[0m \u001b[43m        \u001b[49m\u001b[38;5;28;43;01mNone\u001b[39;49;00m\u001b[43m,\u001b[49m\n\u001b[1;32m    319\u001b[0m \u001b[43m        \u001b[49m\u001b[43mfit_params\u001b[49m\u001b[43m,\u001b[49m\n\u001b[1;32m    320\u001b[0m \u001b[43m        \u001b[49m\u001b[43mreturn_train_score\u001b[49m\u001b[38;5;241;43m=\u001b[39;49m\u001b[43mreturn_train_score\u001b[49m\u001b[43m,\u001b[49m\n\u001b[1;32m    321\u001b[0m \u001b[43m        \u001b[49m\u001b[43mreturn_times\u001b[49m\u001b[38;5;241;43m=\u001b[39;49m\u001b[38;5;28;43;01mTrue\u001b[39;49;00m\u001b[43m,\u001b[49m\n\u001b[1;32m    322\u001b[0m \u001b[43m        \u001b[49m\u001b[43mreturn_estimator\u001b[49m\u001b[38;5;241;43m=\u001b[39;49m\u001b[43mreturn_estimator\u001b[49m\u001b[43m,\u001b[49m\n\u001b[1;32m    323\u001b[0m \u001b[43m        \u001b[49m\u001b[43merror_score\u001b[49m\u001b[38;5;241;43m=\u001b[39;49m\u001b[43merror_score\u001b[49m\u001b[43m,\u001b[49m\n\u001b[1;32m    324\u001b[0m \u001b[43m    \u001b[49m\u001b[43m)\u001b[49m\n\u001b[1;32m    325\u001b[0m \u001b[43m    \u001b[49m\u001b[38;5;28;43;01mfor\u001b[39;49;00m\u001b[43m \u001b[49m\u001b[43mtrain\u001b[49m\u001b[43m,\u001b[49m\u001b[43m \u001b[49m\u001b[43mtest\u001b[49m\u001b[43m \u001b[49m\u001b[38;5;129;43;01min\u001b[39;49;00m\u001b[43m \u001b[49m\u001b[43mindices\u001b[49m\n\u001b[1;32m    326\u001b[0m \u001b[43m\u001b[49m\u001b[43m)\u001b[49m\n\u001b[1;32m    328\u001b[0m _warn_or_raise_about_fit_failures(results, error_score)\n\u001b[1;32m    330\u001b[0m \u001b[38;5;66;03m# For callable scoring, the return type is only know after calling. If the\u001b[39;00m\n\u001b[1;32m    331\u001b[0m \u001b[38;5;66;03m# return type is a dictionary, the error scores can now be inserted with\u001b[39;00m\n\u001b[1;32m    332\u001b[0m \u001b[38;5;66;03m# the correct key.\u001b[39;00m\n",
      "File \u001b[0;32m~/miniconda3/envs/gpu/lib/python3.8/site-packages/sklearn/utils/parallel.py:65\u001b[0m, in \u001b[0;36mParallel.__call__\u001b[0;34m(self, iterable)\u001b[0m\n\u001b[1;32m     60\u001b[0m config \u001b[38;5;241m=\u001b[39m get_config()\n\u001b[1;32m     61\u001b[0m iterable_with_config \u001b[38;5;241m=\u001b[39m (\n\u001b[1;32m     62\u001b[0m     (_with_config(delayed_func, config), args, kwargs)\n\u001b[1;32m     63\u001b[0m     \u001b[38;5;28;01mfor\u001b[39;00m delayed_func, args, kwargs \u001b[38;5;129;01min\u001b[39;00m iterable\n\u001b[1;32m     64\u001b[0m )\n\u001b[0;32m---> 65\u001b[0m \u001b[38;5;28;01mreturn\u001b[39;00m \u001b[38;5;28;43msuper\u001b[39;49m\u001b[43m(\u001b[49m\u001b[43m)\u001b[49m\u001b[38;5;241;43m.\u001b[39;49m\u001b[38;5;21;43m__call__\u001b[39;49m\u001b[43m(\u001b[49m\u001b[43miterable_with_config\u001b[49m\u001b[43m)\u001b[49m\n",
      "File \u001b[0;32m~/miniconda3/envs/gpu/lib/python3.8/site-packages/joblib/parallel.py:1863\u001b[0m, in \u001b[0;36mParallel.__call__\u001b[0;34m(self, iterable)\u001b[0m\n\u001b[1;32m   1861\u001b[0m     output \u001b[38;5;241m=\u001b[39m \u001b[38;5;28mself\u001b[39m\u001b[38;5;241m.\u001b[39m_get_sequential_output(iterable)\n\u001b[1;32m   1862\u001b[0m     \u001b[38;5;28mnext\u001b[39m(output)\n\u001b[0;32m-> 1863\u001b[0m     \u001b[38;5;28;01mreturn\u001b[39;00m output \u001b[38;5;28;01mif\u001b[39;00m \u001b[38;5;28mself\u001b[39m\u001b[38;5;241m.\u001b[39mreturn_generator \u001b[38;5;28;01melse\u001b[39;00m \u001b[38;5;28;43mlist\u001b[39;49m\u001b[43m(\u001b[49m\u001b[43moutput\u001b[49m\u001b[43m)\u001b[49m\n\u001b[1;32m   1865\u001b[0m \u001b[38;5;66;03m# Let's create an ID that uniquely identifies the current call. If the\u001b[39;00m\n\u001b[1;32m   1866\u001b[0m \u001b[38;5;66;03m# call is interrupted early and that the same instance is immediately\u001b[39;00m\n\u001b[1;32m   1867\u001b[0m \u001b[38;5;66;03m# re-used, this id will be used to prevent workers that were\u001b[39;00m\n\u001b[1;32m   1868\u001b[0m \u001b[38;5;66;03m# concurrently finalizing a task from the previous call to run the\u001b[39;00m\n\u001b[1;32m   1869\u001b[0m \u001b[38;5;66;03m# callback.\u001b[39;00m\n\u001b[1;32m   1870\u001b[0m \u001b[38;5;28;01mwith\u001b[39;00m \u001b[38;5;28mself\u001b[39m\u001b[38;5;241m.\u001b[39m_lock:\n",
      "File \u001b[0;32m~/miniconda3/envs/gpu/lib/python3.8/site-packages/joblib/parallel.py:1792\u001b[0m, in \u001b[0;36mParallel._get_sequential_output\u001b[0;34m(self, iterable)\u001b[0m\n\u001b[1;32m   1790\u001b[0m \u001b[38;5;28mself\u001b[39m\u001b[38;5;241m.\u001b[39mn_dispatched_batches \u001b[38;5;241m+\u001b[39m\u001b[38;5;241m=\u001b[39m \u001b[38;5;241m1\u001b[39m\n\u001b[1;32m   1791\u001b[0m \u001b[38;5;28mself\u001b[39m\u001b[38;5;241m.\u001b[39mn_dispatched_tasks \u001b[38;5;241m+\u001b[39m\u001b[38;5;241m=\u001b[39m \u001b[38;5;241m1\u001b[39m\n\u001b[0;32m-> 1792\u001b[0m res \u001b[38;5;241m=\u001b[39m \u001b[43mfunc\u001b[49m\u001b[43m(\u001b[49m\u001b[38;5;241;43m*\u001b[39;49m\u001b[43margs\u001b[49m\u001b[43m,\u001b[49m\u001b[43m \u001b[49m\u001b[38;5;241;43m*\u001b[39;49m\u001b[38;5;241;43m*\u001b[39;49m\u001b[43mkwargs\u001b[49m\u001b[43m)\u001b[49m\n\u001b[1;32m   1793\u001b[0m \u001b[38;5;28mself\u001b[39m\u001b[38;5;241m.\u001b[39mn_completed_tasks \u001b[38;5;241m+\u001b[39m\u001b[38;5;241m=\u001b[39m \u001b[38;5;241m1\u001b[39m\n\u001b[1;32m   1794\u001b[0m \u001b[38;5;28mself\u001b[39m\u001b[38;5;241m.\u001b[39mprint_progress()\n",
      "File \u001b[0;32m~/miniconda3/envs/gpu/lib/python3.8/site-packages/sklearn/utils/parallel.py:127\u001b[0m, in \u001b[0;36m_FuncWrapper.__call__\u001b[0;34m(self, *args, **kwargs)\u001b[0m\n\u001b[1;32m    125\u001b[0m     config \u001b[38;5;241m=\u001b[39m {}\n\u001b[1;32m    126\u001b[0m \u001b[38;5;28;01mwith\u001b[39;00m config_context(\u001b[38;5;241m*\u001b[39m\u001b[38;5;241m*\u001b[39mconfig):\n\u001b[0;32m--> 127\u001b[0m     \u001b[38;5;28;01mreturn\u001b[39;00m \u001b[38;5;28;43mself\u001b[39;49m\u001b[38;5;241;43m.\u001b[39;49m\u001b[43mfunction\u001b[49m\u001b[43m(\u001b[49m\u001b[38;5;241;43m*\u001b[39;49m\u001b[43margs\u001b[49m\u001b[43m,\u001b[49m\u001b[43m \u001b[49m\u001b[38;5;241;43m*\u001b[39;49m\u001b[38;5;241;43m*\u001b[39;49m\u001b[43mkwargs\u001b[49m\u001b[43m)\u001b[49m\n",
      "File \u001b[0;32m~/miniconda3/envs/gpu/lib/python3.8/site-packages/sklearn/model_selection/_validation.py:751\u001b[0m, in \u001b[0;36m_fit_and_score\u001b[0;34m(estimator, X, y, scorer, train, test, verbose, parameters, fit_params, return_train_score, return_parameters, return_n_test_samples, return_times, return_estimator, split_progress, candidate_progress, error_score)\u001b[0m\n\u001b[1;32m    748\u001b[0m result[\u001b[38;5;124m\"\u001b[39m\u001b[38;5;124mfit_error\u001b[39m\u001b[38;5;124m\"\u001b[39m] \u001b[38;5;241m=\u001b[39m \u001b[38;5;28;01mNone\u001b[39;00m\n\u001b[1;32m    750\u001b[0m fit_time \u001b[38;5;241m=\u001b[39m time\u001b[38;5;241m.\u001b[39mtime() \u001b[38;5;241m-\u001b[39m start_time\n\u001b[0;32m--> 751\u001b[0m test_scores \u001b[38;5;241m=\u001b[39m \u001b[43m_score\u001b[49m\u001b[43m(\u001b[49m\u001b[43mestimator\u001b[49m\u001b[43m,\u001b[49m\u001b[43m \u001b[49m\u001b[43mX_test\u001b[49m\u001b[43m,\u001b[49m\u001b[43m \u001b[49m\u001b[43my_test\u001b[49m\u001b[43m,\u001b[49m\u001b[43m \u001b[49m\u001b[43mscorer\u001b[49m\u001b[43m,\u001b[49m\u001b[43m \u001b[49m\u001b[43merror_score\u001b[49m\u001b[43m)\u001b[49m\n\u001b[1;32m    752\u001b[0m score_time \u001b[38;5;241m=\u001b[39m time\u001b[38;5;241m.\u001b[39mtime() \u001b[38;5;241m-\u001b[39m start_time \u001b[38;5;241m-\u001b[39m fit_time\n\u001b[1;32m    753\u001b[0m \u001b[38;5;28;01mif\u001b[39;00m return_train_score:\n",
      "File \u001b[0;32m~/miniconda3/envs/gpu/lib/python3.8/site-packages/sklearn/model_selection/_validation.py:810\u001b[0m, in \u001b[0;36m_score\u001b[0;34m(estimator, X_test, y_test, scorer, error_score)\u001b[0m\n\u001b[1;32m    808\u001b[0m         scores \u001b[38;5;241m=\u001b[39m scorer(estimator, X_test)\n\u001b[1;32m    809\u001b[0m     \u001b[38;5;28;01melse\u001b[39;00m:\n\u001b[0;32m--> 810\u001b[0m         scores \u001b[38;5;241m=\u001b[39m \u001b[43mscorer\u001b[49m\u001b[43m(\u001b[49m\u001b[43mestimator\u001b[49m\u001b[43m,\u001b[49m\u001b[43m \u001b[49m\u001b[43mX_test\u001b[49m\u001b[43m,\u001b[49m\u001b[43m \u001b[49m\u001b[43my_test\u001b[49m\u001b[43m)\u001b[49m\n\u001b[1;32m    811\u001b[0m \u001b[38;5;28;01mexcept\u001b[39;00m \u001b[38;5;167;01mException\u001b[39;00m:\n\u001b[1;32m    812\u001b[0m     \u001b[38;5;28;01mif\u001b[39;00m \u001b[38;5;28misinstance\u001b[39m(scorer, _MultimetricScorer):\n\u001b[1;32m    813\u001b[0m         \u001b[38;5;66;03m# If `_MultimetricScorer` raises exception, the `error_score`\u001b[39;00m\n\u001b[1;32m    814\u001b[0m         \u001b[38;5;66;03m# parameter is equal to \"raise\".\u001b[39;00m\n",
      "File \u001b[0;32m~/miniconda3/envs/gpu/lib/python3.8/site-packages/sklearn/metrics/_scorer.py:136\u001b[0m, in \u001b[0;36m_MultimetricScorer.__call__\u001b[0;34m(self, estimator, *args, **kwargs)\u001b[0m\n\u001b[1;32m    134\u001b[0m \u001b[38;5;28;01mtry\u001b[39;00m:\n\u001b[1;32m    135\u001b[0m     \u001b[38;5;28;01mif\u001b[39;00m \u001b[38;5;28misinstance\u001b[39m(scorer, _BaseScorer):\n\u001b[0;32m--> 136\u001b[0m         score \u001b[38;5;241m=\u001b[39m \u001b[43mscorer\u001b[49m\u001b[38;5;241;43m.\u001b[39;49m\u001b[43m_score\u001b[49m\u001b[43m(\u001b[49m\n\u001b[1;32m    137\u001b[0m \u001b[43m            \u001b[49m\u001b[43mcached_call\u001b[49m\u001b[43m,\u001b[49m\u001b[43m \u001b[49m\u001b[43mestimator\u001b[49m\u001b[43m,\u001b[49m\u001b[43m \u001b[49m\u001b[38;5;241;43m*\u001b[39;49m\u001b[43margs\u001b[49m\u001b[43m,\u001b[49m\u001b[43m \u001b[49m\u001b[38;5;241;43m*\u001b[39;49m\u001b[38;5;241;43m*\u001b[39;49m\u001b[43mrouted_params\u001b[49m\u001b[38;5;241;43m.\u001b[39;49m\u001b[43mget\u001b[49m\u001b[43m(\u001b[49m\u001b[43mname\u001b[49m\u001b[43m)\u001b[49m\u001b[38;5;241;43m.\u001b[39;49m\u001b[43mscore\u001b[49m\n\u001b[1;32m    138\u001b[0m \u001b[43m        \u001b[49m\u001b[43m)\u001b[49m\n\u001b[1;32m    139\u001b[0m     \u001b[38;5;28;01melse\u001b[39;00m:\n\u001b[1;32m    140\u001b[0m         score \u001b[38;5;241m=\u001b[39m scorer(estimator, \u001b[38;5;241m*\u001b[39margs, \u001b[38;5;241m*\u001b[39m\u001b[38;5;241m*\u001b[39mrouted_params\u001b[38;5;241m.\u001b[39mget(name)\u001b[38;5;241m.\u001b[39mscore)\n",
      "File \u001b[0;32m~/miniconda3/envs/gpu/lib/python3.8/site-packages/sklearn/metrics/_scorer.py:353\u001b[0m, in \u001b[0;36m_PredictScorer._score\u001b[0;34m(self, method_caller, estimator, X, y_true, **kwargs)\u001b[0m\n\u001b[1;32m    316\u001b[0m \u001b[38;5;250m\u001b[39m\u001b[38;5;124;03m\"\"\"Evaluate predicted target values for X relative to y_true.\u001b[39;00m\n\u001b[1;32m    317\u001b[0m \n\u001b[1;32m    318\u001b[0m \u001b[38;5;124;03mParameters\u001b[39;00m\n\u001b[0;32m   (...)\u001b[0m\n\u001b[1;32m    343\u001b[0m \u001b[38;5;124;03m    Score function applied to prediction of estimator on X.\u001b[39;00m\n\u001b[1;32m    344\u001b[0m \u001b[38;5;124;03m\"\"\"\u001b[39;00m\n\u001b[1;32m    345\u001b[0m \u001b[38;5;28mself\u001b[39m\u001b[38;5;241m.\u001b[39m_warn_overlap(\n\u001b[1;32m    346\u001b[0m     message\u001b[38;5;241m=\u001b[39m(\n\u001b[1;32m    347\u001b[0m         \u001b[38;5;124m\"\u001b[39m\u001b[38;5;124mThere is an overlap between set kwargs of this scorer instance and\u001b[39m\u001b[38;5;124m\"\u001b[39m\n\u001b[0;32m   (...)\u001b[0m\n\u001b[1;32m    351\u001b[0m     kwargs\u001b[38;5;241m=\u001b[39mkwargs,\n\u001b[1;32m    352\u001b[0m )\n\u001b[0;32m--> 353\u001b[0m y_pred \u001b[38;5;241m=\u001b[39m \u001b[43mmethod_caller\u001b[49m\u001b[43m(\u001b[49m\u001b[43mestimator\u001b[49m\u001b[43m,\u001b[49m\u001b[43m \u001b[49m\u001b[38;5;124;43m\"\u001b[39;49m\u001b[38;5;124;43mpredict\u001b[39;49m\u001b[38;5;124;43m\"\u001b[39;49m\u001b[43m,\u001b[49m\u001b[43m \u001b[49m\u001b[43mX\u001b[49m\u001b[43m)\u001b[49m\n\u001b[1;32m    354\u001b[0m scoring_kwargs \u001b[38;5;241m=\u001b[39m {\u001b[38;5;241m*\u001b[39m\u001b[38;5;241m*\u001b[39m\u001b[38;5;28mself\u001b[39m\u001b[38;5;241m.\u001b[39m_kwargs, \u001b[38;5;241m*\u001b[39m\u001b[38;5;241m*\u001b[39mkwargs}\n\u001b[1;32m    355\u001b[0m \u001b[38;5;28;01mreturn\u001b[39;00m \u001b[38;5;28mself\u001b[39m\u001b[38;5;241m.\u001b[39m_sign \u001b[38;5;241m*\u001b[39m \u001b[38;5;28mself\u001b[39m\u001b[38;5;241m.\u001b[39m_score_func(y_true, y_pred, \u001b[38;5;241m*\u001b[39m\u001b[38;5;241m*\u001b[39mscoring_kwargs)\n",
      "File \u001b[0;32m~/miniconda3/envs/gpu/lib/python3.8/site-packages/sklearn/metrics/_scorer.py:86\u001b[0m, in \u001b[0;36m_cached_call\u001b[0;34m(cache, estimator, response_method, *args, **kwargs)\u001b[0m\n\u001b[1;32m     83\u001b[0m \u001b[38;5;28;01mif\u001b[39;00m cache \u001b[38;5;129;01mis\u001b[39;00m \u001b[38;5;129;01mnot\u001b[39;00m \u001b[38;5;28;01mNone\u001b[39;00m \u001b[38;5;129;01mand\u001b[39;00m response_method \u001b[38;5;129;01min\u001b[39;00m cache:\n\u001b[1;32m     84\u001b[0m     \u001b[38;5;28;01mreturn\u001b[39;00m cache[response_method]\n\u001b[0;32m---> 86\u001b[0m result, _ \u001b[38;5;241m=\u001b[39m \u001b[43m_get_response_values\u001b[49m\u001b[43m(\u001b[49m\n\u001b[1;32m     87\u001b[0m \u001b[43m    \u001b[49m\u001b[43mestimator\u001b[49m\u001b[43m,\u001b[49m\u001b[43m \u001b[49m\u001b[38;5;241;43m*\u001b[39;49m\u001b[43margs\u001b[49m\u001b[43m,\u001b[49m\u001b[43m \u001b[49m\u001b[43mresponse_method\u001b[49m\u001b[38;5;241;43m=\u001b[39;49m\u001b[43mresponse_method\u001b[49m\u001b[43m,\u001b[49m\u001b[43m \u001b[49m\u001b[38;5;241;43m*\u001b[39;49m\u001b[38;5;241;43m*\u001b[39;49m\u001b[43mkwargs\u001b[49m\n\u001b[1;32m     88\u001b[0m \u001b[43m\u001b[49m\u001b[43m)\u001b[49m\n\u001b[1;32m     90\u001b[0m \u001b[38;5;28;01mif\u001b[39;00m cache \u001b[38;5;129;01mis\u001b[39;00m \u001b[38;5;129;01mnot\u001b[39;00m \u001b[38;5;28;01mNone\u001b[39;00m:\n\u001b[1;32m     91\u001b[0m     cache[response_method] \u001b[38;5;241m=\u001b[39m result\n",
      "File \u001b[0;32m~/miniconda3/envs/gpu/lib/python3.8/site-packages/sklearn/utils/_response.py:194\u001b[0m, in \u001b[0;36m_get_response_values\u001b[0;34m(estimator, X, response_method, pos_label)\u001b[0m\n\u001b[1;32m    191\u001b[0m     \u001b[38;5;28;01melif\u001b[39;00m pos_label \u001b[38;5;129;01mis\u001b[39;00m \u001b[38;5;28;01mNone\u001b[39;00m \u001b[38;5;129;01mand\u001b[39;00m target_type \u001b[38;5;241m==\u001b[39m \u001b[38;5;124m\"\u001b[39m\u001b[38;5;124mbinary\u001b[39m\u001b[38;5;124m\"\u001b[39m:\n\u001b[1;32m    192\u001b[0m         pos_label \u001b[38;5;241m=\u001b[39m classes[\u001b[38;5;241m-\u001b[39m\u001b[38;5;241m1\u001b[39m]\n\u001b[0;32m--> 194\u001b[0m y_pred \u001b[38;5;241m=\u001b[39m \u001b[43mprediction_method\u001b[49m\u001b[43m(\u001b[49m\u001b[43mX\u001b[49m\u001b[43m)\u001b[49m\n\u001b[1;32m    196\u001b[0m \u001b[38;5;28;01mif\u001b[39;00m prediction_method\u001b[38;5;241m.\u001b[39m\u001b[38;5;18m__name__\u001b[39m \u001b[38;5;241m==\u001b[39m \u001b[38;5;124m\"\u001b[39m\u001b[38;5;124mpredict_proba\u001b[39m\u001b[38;5;124m\"\u001b[39m:\n\u001b[1;32m    197\u001b[0m     y_pred \u001b[38;5;241m=\u001b[39m _process_predict_proba(\n\u001b[1;32m    198\u001b[0m         y_pred\u001b[38;5;241m=\u001b[39my_pred,\n\u001b[1;32m    199\u001b[0m         target_type\u001b[38;5;241m=\u001b[39mtarget_type,\n\u001b[1;32m    200\u001b[0m         classes\u001b[38;5;241m=\u001b[39mclasses,\n\u001b[1;32m    201\u001b[0m         pos_label\u001b[38;5;241m=\u001b[39mpos_label,\n\u001b[1;32m    202\u001b[0m     )\n",
      "File \u001b[0;32m~/miniconda3/envs/gpu/lib/python3.8/site-packages/sklearn/neighbors/_classification.py:266\u001b[0m, in \u001b[0;36mKNeighborsClassifier.predict\u001b[0;34m(self, X)\u001b[0m\n\u001b[1;32m    263\u001b[0m         \u001b[38;5;28;01mreturn\u001b[39;00m \u001b[38;5;28mself\u001b[39m\u001b[38;5;241m.\u001b[39mclasses_[np\u001b[38;5;241m.\u001b[39margmax(probabilities, axis\u001b[38;5;241m=\u001b[39m\u001b[38;5;241m1\u001b[39m)]\n\u001b[1;32m    264\u001b[0m     \u001b[38;5;66;03m# In that case, we do not need the distances to perform\u001b[39;00m\n\u001b[1;32m    265\u001b[0m     \u001b[38;5;66;03m# the weighting so we do not compute them.\u001b[39;00m\n\u001b[0;32m--> 266\u001b[0m     neigh_ind \u001b[38;5;241m=\u001b[39m \u001b[38;5;28;43mself\u001b[39;49m\u001b[38;5;241;43m.\u001b[39;49m\u001b[43mkneighbors\u001b[49m\u001b[43m(\u001b[49m\u001b[43mX\u001b[49m\u001b[43m,\u001b[49m\u001b[43m \u001b[49m\u001b[43mreturn_distance\u001b[49m\u001b[38;5;241;43m=\u001b[39;49m\u001b[38;5;28;43;01mFalse\u001b[39;49;00m\u001b[43m)\u001b[49m\n\u001b[1;32m    267\u001b[0m     neigh_dist \u001b[38;5;241m=\u001b[39m \u001b[38;5;28;01mNone\u001b[39;00m\n\u001b[1;32m    268\u001b[0m \u001b[38;5;28;01melse\u001b[39;00m:\n",
      "File \u001b[0;32m~/miniconda3/envs/gpu/lib/python3.8/site-packages/sklearn/neighbors/_base.py:822\u001b[0m, in \u001b[0;36mKNeighborsMixin.kneighbors\u001b[0;34m(self, X, n_neighbors, return_distance)\u001b[0m\n\u001b[1;32m    815\u001b[0m use_pairwise_distances_reductions \u001b[38;5;241m=\u001b[39m (\n\u001b[1;32m    816\u001b[0m     \u001b[38;5;28mself\u001b[39m\u001b[38;5;241m.\u001b[39m_fit_method \u001b[38;5;241m==\u001b[39m \u001b[38;5;124m\"\u001b[39m\u001b[38;5;124mbrute\u001b[39m\u001b[38;5;124m\"\u001b[39m\n\u001b[1;32m    817\u001b[0m     \u001b[38;5;129;01mand\u001b[39;00m ArgKmin\u001b[38;5;241m.\u001b[39mis_usable_for(\n\u001b[1;32m    818\u001b[0m         X \u001b[38;5;28;01mif\u001b[39;00m X \u001b[38;5;129;01mis\u001b[39;00m \u001b[38;5;129;01mnot\u001b[39;00m \u001b[38;5;28;01mNone\u001b[39;00m \u001b[38;5;28;01melse\u001b[39;00m \u001b[38;5;28mself\u001b[39m\u001b[38;5;241m.\u001b[39m_fit_X, \u001b[38;5;28mself\u001b[39m\u001b[38;5;241m.\u001b[39m_fit_X, \u001b[38;5;28mself\u001b[39m\u001b[38;5;241m.\u001b[39meffective_metric_\n\u001b[1;32m    819\u001b[0m     )\n\u001b[1;32m    820\u001b[0m )\n\u001b[1;32m    821\u001b[0m \u001b[38;5;28;01mif\u001b[39;00m use_pairwise_distances_reductions:\n\u001b[0;32m--> 822\u001b[0m     results \u001b[38;5;241m=\u001b[39m \u001b[43mArgKmin\u001b[49m\u001b[38;5;241;43m.\u001b[39;49m\u001b[43mcompute\u001b[49m\u001b[43m(\u001b[49m\n\u001b[1;32m    823\u001b[0m \u001b[43m        \u001b[49m\u001b[43mX\u001b[49m\u001b[38;5;241;43m=\u001b[39;49m\u001b[43mX\u001b[49m\u001b[43m,\u001b[49m\n\u001b[1;32m    824\u001b[0m \u001b[43m        \u001b[49m\u001b[43mY\u001b[49m\u001b[38;5;241;43m=\u001b[39;49m\u001b[38;5;28;43mself\u001b[39;49m\u001b[38;5;241;43m.\u001b[39;49m\u001b[43m_fit_X\u001b[49m\u001b[43m,\u001b[49m\n\u001b[1;32m    825\u001b[0m \u001b[43m        \u001b[49m\u001b[43mk\u001b[49m\u001b[38;5;241;43m=\u001b[39;49m\u001b[43mn_neighbors\u001b[49m\u001b[43m,\u001b[49m\n\u001b[1;32m    826\u001b[0m \u001b[43m        \u001b[49m\u001b[43mmetric\u001b[49m\u001b[38;5;241;43m=\u001b[39;49m\u001b[38;5;28;43mself\u001b[39;49m\u001b[38;5;241;43m.\u001b[39;49m\u001b[43meffective_metric_\u001b[49m\u001b[43m,\u001b[49m\n\u001b[1;32m    827\u001b[0m \u001b[43m        \u001b[49m\u001b[43mmetric_kwargs\u001b[49m\u001b[38;5;241;43m=\u001b[39;49m\u001b[38;5;28;43mself\u001b[39;49m\u001b[38;5;241;43m.\u001b[39;49m\u001b[43meffective_metric_params_\u001b[49m\u001b[43m,\u001b[49m\n\u001b[1;32m    828\u001b[0m \u001b[43m        \u001b[49m\u001b[43mstrategy\u001b[49m\u001b[38;5;241;43m=\u001b[39;49m\u001b[38;5;124;43m\"\u001b[39;49m\u001b[38;5;124;43mauto\u001b[39;49m\u001b[38;5;124;43m\"\u001b[39;49m\u001b[43m,\u001b[49m\n\u001b[1;32m    829\u001b[0m \u001b[43m        \u001b[49m\u001b[43mreturn_distance\u001b[49m\u001b[38;5;241;43m=\u001b[39;49m\u001b[43mreturn_distance\u001b[49m\u001b[43m,\u001b[49m\n\u001b[1;32m    830\u001b[0m \u001b[43m    \u001b[49m\u001b[43m)\u001b[49m\n\u001b[1;32m    832\u001b[0m \u001b[38;5;28;01melif\u001b[39;00m (\n\u001b[1;32m    833\u001b[0m     \u001b[38;5;28mself\u001b[39m\u001b[38;5;241m.\u001b[39m_fit_method \u001b[38;5;241m==\u001b[39m \u001b[38;5;124m\"\u001b[39m\u001b[38;5;124mbrute\u001b[39m\u001b[38;5;124m\"\u001b[39m \u001b[38;5;129;01mand\u001b[39;00m \u001b[38;5;28mself\u001b[39m\u001b[38;5;241m.\u001b[39mmetric \u001b[38;5;241m==\u001b[39m \u001b[38;5;124m\"\u001b[39m\u001b[38;5;124mprecomputed\u001b[39m\u001b[38;5;124m\"\u001b[39m \u001b[38;5;129;01mand\u001b[39;00m issparse(X)\n\u001b[1;32m    834\u001b[0m ):\n\u001b[1;32m    835\u001b[0m     results \u001b[38;5;241m=\u001b[39m _kneighbors_from_graph(\n\u001b[1;32m    836\u001b[0m         X, n_neighbors\u001b[38;5;241m=\u001b[39mn_neighbors, return_distance\u001b[38;5;241m=\u001b[39mreturn_distance\n\u001b[1;32m    837\u001b[0m     )\n",
      "File \u001b[0;32m~/miniconda3/envs/gpu/lib/python3.8/site-packages/sklearn/metrics/_pairwise_distances_reduction/_dispatcher.py:259\u001b[0m, in \u001b[0;36mArgKmin.compute\u001b[0;34m(cls, X, Y, k, metric, chunk_size, metric_kwargs, strategy, return_distance)\u001b[0m\n\u001b[1;32m    178\u001b[0m \u001b[38;5;250m\u001b[39m\u001b[38;5;124;03m\"\"\"Compute the argkmin reduction.\u001b[39;00m\n\u001b[1;32m    179\u001b[0m \n\u001b[1;32m    180\u001b[0m \u001b[38;5;124;03mParameters\u001b[39;00m\n\u001b[0;32m   (...)\u001b[0m\n\u001b[1;32m    256\u001b[0m \u001b[38;5;124;03mreturns.\u001b[39;00m\n\u001b[1;32m    257\u001b[0m \u001b[38;5;124;03m\"\"\"\u001b[39;00m\n\u001b[1;32m    258\u001b[0m \u001b[38;5;28;01mif\u001b[39;00m X\u001b[38;5;241m.\u001b[39mdtype \u001b[38;5;241m==\u001b[39m Y\u001b[38;5;241m.\u001b[39mdtype \u001b[38;5;241m==\u001b[39m np\u001b[38;5;241m.\u001b[39mfloat64:\n\u001b[0;32m--> 259\u001b[0m     \u001b[38;5;28;01mreturn\u001b[39;00m \u001b[43mArgKmin64\u001b[49m\u001b[38;5;241;43m.\u001b[39;49m\u001b[43mcompute\u001b[49m\u001b[43m(\u001b[49m\n\u001b[1;32m    260\u001b[0m \u001b[43m        \u001b[49m\u001b[43mX\u001b[49m\u001b[38;5;241;43m=\u001b[39;49m\u001b[43mX\u001b[49m\u001b[43m,\u001b[49m\n\u001b[1;32m    261\u001b[0m \u001b[43m        \u001b[49m\u001b[43mY\u001b[49m\u001b[38;5;241;43m=\u001b[39;49m\u001b[43mY\u001b[49m\u001b[43m,\u001b[49m\n\u001b[1;32m    262\u001b[0m \u001b[43m        \u001b[49m\u001b[43mk\u001b[49m\u001b[38;5;241;43m=\u001b[39;49m\u001b[43mk\u001b[49m\u001b[43m,\u001b[49m\n\u001b[1;32m    263\u001b[0m \u001b[43m        \u001b[49m\u001b[43mmetric\u001b[49m\u001b[38;5;241;43m=\u001b[39;49m\u001b[43mmetric\u001b[49m\u001b[43m,\u001b[49m\n\u001b[1;32m    264\u001b[0m \u001b[43m        \u001b[49m\u001b[43mchunk_size\u001b[49m\u001b[38;5;241;43m=\u001b[39;49m\u001b[43mchunk_size\u001b[49m\u001b[43m,\u001b[49m\n\u001b[1;32m    265\u001b[0m \u001b[43m        \u001b[49m\u001b[43mmetric_kwargs\u001b[49m\u001b[38;5;241;43m=\u001b[39;49m\u001b[43mmetric_kwargs\u001b[49m\u001b[43m,\u001b[49m\n\u001b[1;32m    266\u001b[0m \u001b[43m        \u001b[49m\u001b[43mstrategy\u001b[49m\u001b[38;5;241;43m=\u001b[39;49m\u001b[43mstrategy\u001b[49m\u001b[43m,\u001b[49m\n\u001b[1;32m    267\u001b[0m \u001b[43m        \u001b[49m\u001b[43mreturn_distance\u001b[49m\u001b[38;5;241;43m=\u001b[39;49m\u001b[43mreturn_distance\u001b[49m\u001b[43m,\u001b[49m\n\u001b[1;32m    268\u001b[0m \u001b[43m    \u001b[49m\u001b[43m)\u001b[49m\n\u001b[1;32m    270\u001b[0m \u001b[38;5;28;01mif\u001b[39;00m X\u001b[38;5;241m.\u001b[39mdtype \u001b[38;5;241m==\u001b[39m Y\u001b[38;5;241m.\u001b[39mdtype \u001b[38;5;241m==\u001b[39m np\u001b[38;5;241m.\u001b[39mfloat32:\n\u001b[1;32m    271\u001b[0m     \u001b[38;5;28;01mreturn\u001b[39;00m ArgKmin32\u001b[38;5;241m.\u001b[39mcompute(\n\u001b[1;32m    272\u001b[0m         X\u001b[38;5;241m=\u001b[39mX,\n\u001b[1;32m    273\u001b[0m         Y\u001b[38;5;241m=\u001b[39mY,\n\u001b[0;32m   (...)\u001b[0m\n\u001b[1;32m    279\u001b[0m         return_distance\u001b[38;5;241m=\u001b[39mreturn_distance,\n\u001b[1;32m    280\u001b[0m     )\n",
      "File \u001b[0;32msklearn/metrics/_pairwise_distances_reduction/_argkmin.pyx:90\u001b[0m, in \u001b[0;36msklearn.metrics._pairwise_distances_reduction._argkmin.ArgKmin64.compute\u001b[0;34m()\u001b[0m\n",
      "File \u001b[0;32m~/miniconda3/envs/gpu/lib/python3.8/site-packages/threadpoolctl.py:601\u001b[0m, in \u001b[0;36m_ThreadpoolLimiter.__exit__\u001b[0;34m(self, type, value, traceback)\u001b[0m\n\u001b[1;32m    598\u001b[0m \u001b[38;5;28;01mdef\u001b[39;00m \u001b[38;5;21m__enter__\u001b[39m(\u001b[38;5;28mself\u001b[39m):\n\u001b[1;32m    599\u001b[0m     \u001b[38;5;28;01mreturn\u001b[39;00m \u001b[38;5;28mself\u001b[39m\n\u001b[0;32m--> 601\u001b[0m \u001b[38;5;28;01mdef\u001b[39;00m \u001b[38;5;21m__exit__\u001b[39m(\u001b[38;5;28mself\u001b[39m, \u001b[38;5;28mtype\u001b[39m, value, traceback):\n\u001b[1;32m    602\u001b[0m     \u001b[38;5;28mself\u001b[39m\u001b[38;5;241m.\u001b[39mrestore_original_limits()\n\u001b[1;32m    604\u001b[0m \u001b[38;5;129m@classmethod\u001b[39m\n\u001b[1;32m    605\u001b[0m \u001b[38;5;28;01mdef\u001b[39;00m \u001b[38;5;21mwrap\u001b[39m(\u001b[38;5;28mcls\u001b[39m, controller, \u001b[38;5;241m*\u001b[39m, limits\u001b[38;5;241m=\u001b[39m\u001b[38;5;28;01mNone\u001b[39;00m, user_api\u001b[38;5;241m=\u001b[39m\u001b[38;5;28;01mNone\u001b[39;00m):\n",
      "\u001b[0;31mKeyboardInterrupt\u001b[0m: "
     ]
    }
   ],
   "source": [
    "# Initialize variables to track the best model and best performance\n",
    "best_k = None\n",
    "best_score = -1\n",
    "best_model = None\n",
    "\n",
    "seconds = time.time()\n",
    "\n",
    "for k in range(3, 21, 2):\n",
    "    wandb.init(project=\"pipeline-knn-cicids-dataset\", name=str(k)+\" neighbours\")\n",
    "    print(\"k: \", k)\n",
    "    \n",
    "    # Step 1: Train KNN to classify\n",
    "    # knn = KNeighborsClassifier(n_neighbors=k)\n",
    "    # knn.fit(X_train_scaled_df, y_train_df)\n",
    "    # knn.fit(X_train_df, y_train_df)\n",
    "    \n",
    "    # Step 2: Predict classes for the test set\n",
    "    # X_test_df = X_test_df[:TEST_COUNT]\n",
    "    # X_test_scaled_df = X_test_scaled_df[:TEST_COUNT]\n",
    "    # y_test_df = y_test_df[:TEST_COUNT]\n",
    "\n",
    "    # Step 1: Initialize KNN classifier with current k\n",
    "    knn = KNeighborsClassifier(n_neighbors=k)\n",
    "    \n",
    "    # Step 2: Perform 5-fold cross-validation on the training set\n",
    "    cv_scores = cross_val_score(knn, X_train_df, y_train_df, cv=5, scoring='accuracy')\n",
    "    avg_cv_score = cv_scores.mean()  # Get the average cross-validation score\n",
    "    print(f\"Cross-validation score for k={k}: {avg_cv_score}\")\n",
    "    \n",
    "    # knn_predictions = knn.predict(X_test_scaled)\n",
    "    # predictions = knn.predict(X_test_df)\n",
    "    # print('knn_predictions', predictions)\n",
    "    \n",
    "    op_time = time.time() - seconds\n",
    "    print(\"Total operation time: = \", op_time, \"seconds\")\n",
    "    \n",
    "    # conf_matrix, class_report, acc_score = evaluate(y_test_df, predictions, heading='-----KNN Evaluation-----')\n",
    "    # wandb_log(conf_matrix, class_report, acc_score)\n",
    "    \n",
    "    wandb.log({\n",
    "        \"Cross-validation Score\": avg_cv_score,\n",
    "        \"Total operation time\": op_time\n",
    "    })\n",
    "\n",
    "     # Step 3: Track the best `k` based on the highest cross-validation score\n",
    "    if avg_cv_score > best_score:\n",
    "        best_score = avg_cv_score\n",
    "        best_k = k\n",
    "        best_model = knn  # Save the KNN model with the best `k`\n",
    "\n",
    "    wandb.finish()\n",
    "\n",
    "# After the loop: Train the best KNN model on the entire training set\n",
    "print(f\"The best k is {best_k} with a cross-validation score of {best_score}\")\n",
    "best_model.fit(X_train_df, y_train_df)\n",
    "\n",
    "# Step 4: Evaluate the best model on the test set\n",
    "X_test_df = X_test_df[:TEST_COUNT]\n",
    "y_test_df = y_test_df[:TEST_COUNT]\n",
    "\n",
    "# Make predictions on the test set\n",
    "knn_predictions = best_model.predict(X_test_df)\n",
    "print(\"Final predictions using the best model:\", knn_predictions)\n",
    "\n",
    "# Evaluate the performance on the test set\n",
    "conf_matrix, class_report, acc_score = evaluate(y_test_df, knn_predictions, heading=\"Best KNN Model Evaluation\")\n",
    "print(f\"Accuracy on test set with best k={best_k}: {acc_score}\")\n",
    "\n",
    "# Log the final test results to W&B\n",
    "wandb.init(project=\"pipeline-knn-cicids-dataset\", name=\"best_model_evaluation\")\n",
    "wandb_log(conf_matrix, class_report, acc_score)\n",
    "wandb.finish()"
   ]
  },
  {
   "cell_type": "code",
   "execution_count": 24,
   "metadata": {},
   "outputs": [
    {
     "data": {
      "application/vnd.jupyter.widget-view+json": {
       "model_id": "",
       "version_major": 2,
       "version_minor": 0
      },
      "text/plain": [
       "VBox(children=(Label(value='0.003 MB of 0.003 MB uploaded\\r'), FloatProgress(value=1.0, max=1.0)))"
      ]
     },
     "metadata": {},
     "output_type": "display_data"
    },
    {
     "data": {
      "text/html": [
       " View run <strong style=\"color:#cdcd00\">3 neighbours</strong> at: <a href='https://wandb.ai/brinashong/pipeline-knn-cicids-dataset/runs/ya3xb7ra' target=\"_blank\">https://wandb.ai/brinashong/pipeline-knn-cicids-dataset/runs/ya3xb7ra</a><br/> View job at <a href='https://wandb.ai/brinashong/pipeline-knn-cicids-dataset/jobs/QXJ0aWZhY3RDb2xsZWN0aW9uOjQ3MjY1NDg2Nw==/version_details/v0' target=\"_blank\">https://wandb.ai/brinashong/pipeline-knn-cicids-dataset/jobs/QXJ0aWZhY3RDb2xsZWN0aW9uOjQ3MjY1NDg2Nw==/version_details/v0</a><br/>Synced 6 W&B file(s), 0 media file(s), 2 artifact file(s) and 0 other file(s)"
      ],
      "text/plain": [
       "<IPython.core.display.HTML object>"
      ]
     },
     "metadata": {},
     "output_type": "display_data"
    },
    {
     "data": {
      "text/html": [
       "Find logs at: <code>./wandb/run-20241013_135430-ya3xb7ra/logs</code>"
      ],
      "text/plain": [
       "<IPython.core.display.HTML object>"
      ]
     },
     "metadata": {},
     "output_type": "display_data"
    }
   ],
   "source": [
    "wandb.finish()"
   ]
  },
  {
   "cell_type": "code",
   "execution_count": 25,
   "metadata": {},
   "outputs": [
    {
     "name": "stdout",
     "output_type": "stream",
     "text": [
      "knn_predictions [0 4 0 3 0 0 0 0 0 0 0 0 3 0 0 0 0 1 3 2 0 3 0 0 0 0 0 0 3 0 0 0 0 0 0 4 0\n",
      " 0 0 0 2 0 4 0 3 0 0 0 4 1 0 0 4 0 0 0 0 0 4 3 0 0 0 0 0 0 0 0 0 4 0 0 3 0\n",
      " 4 0 0 0 0 0 0 0 0 0 3 3 0 0 0 0 0 0 1 0 0 0 3 0 2 0 0 0 0 0 0 3 0 0 0 0 3\n",
      " 0 0 3 0 4 0 4 0 0 0 3 4 0 3 0 4 0 0 0 0 0 0 0 0 2 0 4 1 0 0 0 0 3 0 0 0 0\n",
      " 0 1 0 0 0 0 0 0 4 0 1 0 0 0 0 0 0 3 1 0 0 0 0 3 0 0 0 3 0 3 3 3 0 0 0 0 0\n",
      " 0 0 3 0 3 0 0 0 3 0 0 0 0 4 4 0 4 0 4 0 0 0 0 0 0 0 0 0 0 3 1 3 0 0 0 0 0\n",
      " 3 0 0 0 3 0 0 0 0 3 3 0 0 0 0 0 1 0 0 0 3 0 0 0 0 0 0 0 0 0 0 0 0 0 0 3 4\n",
      " 3 0 0 0 0 0 0 0 3 0 3 0 0 0 4 0 0 0 0 0 0 3 0 0 0 0 0 3 0 0 0 0 0 0 0 0 0\n",
      " 0 0 0 0 0 0 0 0 3 0 0 0 0 0 0 0 0 0 2 0 0 0 0 0 0 3 0 0 0 0 3 0 0 0 0 0 3\n",
      " 3 3 0 0 0 0 0 0 0 4 3 0 0 0 0 0 0 0 0 0 3 0 0 3 0 0 0 3 3 3 0 0 3 0 0 0 0\n",
      " 0 0 0 0 0 0 4 4 0 0 0 0 0 0 0 0 0 2 0 0 0 0 0 0 0 0 0 0 4 3 0 0 0 3 0 0 0\n",
      " 0 3 0 0 0 0 0 0 4 0 0 0 0 0 0 0 1 0 0 3 2 3 0 0 0 0 0 3 0 0 1 0 3 0 0 0 0\n",
      " 0 0 0 3 0 0 0 3 3 0 0 0 0 0 0 0 0 0 0 0 0 0 3 0 0 0 0 0 0 0 4 0 0 0 0 0 0\n",
      " 0 0 0 3 0 1 0 0 0 0 0 0 0 0 0 0 0 3 0]\n",
      "Total operation time: =  1.1395132541656494 seconds\n"
     ]
    }
   ],
   "source": [
    "seconds = time.time()\n",
    "\n",
    "# Step 1: Train KNN to classify\n",
    "knn = KNeighborsClassifier(n_neighbors=5)\n",
    "# knn.fit(X_train_scaled_df, y_train_df)\n",
    "knn.fit(X_train_df, y_train_df)\n",
    "\n",
    "# Step 2: Predict classes for the test set\n",
    "X_test_df = X_test_df[:TEST_COUNT]\n",
    "X_test_scaled_df = X_test_scaled_df[:TEST_COUNT]\n",
    "y_test_df = y_test_df[:TEST_COUNT]\n",
    "\n",
    "# knn_predictions = knn.predict(X_test_scaled)\n",
    "knn_predictions = knn.predict(X_test_df)\n",
    "print('knn_predictions', knn_predictions)\n",
    "\n",
    "print(\"Total operation time: = \",time.time()- seconds ,\"seconds\")"
   ]
  },
  {
   "cell_type": "code",
   "execution_count": 26,
   "metadata": {},
   "outputs": [
    {
     "name": "stdout",
     "output_type": "stream",
     "text": [
      "500\n"
     ]
    }
   ],
   "source": [
    "print(len(X_test_scaled_df))"
   ]
  },
  {
   "cell_type": "code",
   "execution_count": 27,
   "metadata": {},
   "outputs": [
    {
     "name": "stdout",
     "output_type": "stream",
     "text": [
      "{'Portscan': SVC(), 'Botnet': SVC(), 'Bruteforce': SVC(), 'Webattack': SVC(), 'DoS': SVC(), 'Infiltration': SVC(), 'DDoS': SVC()}\n"
     ]
    }
   ],
   "source": [
    "print(SVMs)"
   ]
  },
  {
   "cell_type": "code",
   "execution_count": 28,
   "metadata": {},
   "outputs": [
    {
     "name": "stdout",
     "output_type": "stream",
     "text": [
      "predicted_label DoS\n",
      "svm prediction:  [0] knn prediction:  4 actual value:  4\n",
      "predicted_label DDoS\n",
      "svm prediction:  [0] knn prediction:  3 actual value:  3\n",
      "predicted_label DDoS\n",
      "svm prediction:  [0] knn prediction:  3 actual value:  3\n",
      "predicted_label Botnet\n",
      "svm prediction:  [1] knn prediction:  1 actual value:  1\n",
      "predicted_label DDoS\n",
      "svm prediction:  [0] knn prediction:  3 actual value:  3\n",
      "predicted_label Bruteforce\n",
      "svm prediction:  [0] knn prediction:  2 actual value:  2\n",
      "predicted_label DDoS\n",
      "svm prediction:  [0] knn prediction:  3 actual value:  3\n",
      "predicted_label DDoS\n",
      "svm prediction:  [1] knn prediction:  3 actual value:  3\n",
      "predicted_label DoS\n",
      "svm prediction:  [0] knn prediction:  4 actual value:  4\n",
      "predicted_label Bruteforce\n",
      "svm prediction:  [0] knn prediction:  2 actual value:  2\n",
      "predicted_label DoS\n",
      "svm prediction:  [0] knn prediction:  4 actual value:  4\n",
      "predicted_label DDoS\n",
      "svm prediction:  [0] knn prediction:  3 actual value:  3\n",
      "predicted_label DoS\n",
      "svm prediction:  [0] knn prediction:  4 actual value:  4\n",
      "predicted_label Botnet\n",
      "svm prediction:  [1] knn prediction:  1 actual value:  1\n",
      "predicted_label DoS\n",
      "svm prediction:  [0] knn prediction:  4 actual value:  4\n",
      "predicted_label DoS\n",
      "svm prediction:  [0] knn prediction:  4 actual value:  4\n",
      "predicted_label DDoS\n",
      "svm prediction:  [0] knn prediction:  3 actual value:  3\n",
      "predicted_label DoS\n",
      "svm prediction:  [0] knn prediction:  4 actual value:  4\n",
      "predicted_label DDoS\n",
      "svm prediction:  [0] knn prediction:  3 actual value:  3\n",
      "predicted_label DoS\n",
      "svm prediction:  [0] knn prediction:  4 actual value:  4\n",
      "predicted_label DDoS\n",
      "svm prediction:  [0] knn prediction:  3 actual value:  3\n",
      "predicted_label DDoS\n",
      "svm prediction:  [0] knn prediction:  3 actual value:  3\n",
      "predicted_label Botnet\n",
      "svm prediction:  [1] knn prediction:  1 actual value:  1\n",
      "predicted_label DDoS\n",
      "svm prediction:  [0] knn prediction:  3 actual value:  3\n",
      "predicted_label Bruteforce\n",
      "svm prediction:  [0] knn prediction:  2 actual value:  2\n",
      "predicted_label DDoS\n",
      "svm prediction:  [0] knn prediction:  3 actual value:  3\n",
      "predicted_label DDoS\n",
      "svm prediction:  [0] knn prediction:  3 actual value:  3\n",
      "predicted_label DDoS\n",
      "svm prediction:  [0] knn prediction:  3 actual value:  3\n",
      "predicted_label DoS\n",
      "svm prediction:  [0] knn prediction:  4 actual value:  4\n",
      "predicted_label DoS\n",
      "svm prediction:  [0] knn prediction:  4 actual value:  4\n",
      "predicted_label DDoS\n",
      "svm prediction:  [1] knn prediction:  3 actual value:  3\n",
      "predicted_label DoS\n",
      "svm prediction:  [0] knn prediction:  4 actual value:  4\n",
      "predicted_label DDoS\n",
      "svm prediction:  [0] knn prediction:  3 actual value:  3\n",
      "predicted_label DoS\n",
      "svm prediction:  [0] knn prediction:  4 actual value:  4\n",
      "predicted_label Bruteforce\n",
      "svm prediction:  [0] knn prediction:  2 actual value:  2\n",
      "predicted_label DoS\n",
      "svm prediction:  [0] knn prediction:  4 actual value:  4\n",
      "predicted_label Botnet\n",
      "svm prediction:  [1] knn prediction:  1 actual value:  1\n",
      "predicted_label DDoS\n",
      "svm prediction:  [1] knn prediction:  3 actual value:  3\n",
      "predicted_label Botnet\n",
      "svm prediction:  [1] knn prediction:  1 actual value:  1\n",
      "predicted_label DoS\n",
      "svm prediction:  [0] knn prediction:  4 actual value:  4\n",
      "predicted_label Botnet\n",
      "svm prediction:  [1] knn prediction:  1 actual value:  1\n",
      "predicted_label DDoS\n",
      "svm prediction:  [0] knn prediction:  3 actual value:  3\n",
      "predicted_label Botnet\n",
      "svm prediction:  [1] knn prediction:  1 actual value:  1\n",
      "predicted_label DDoS\n",
      "svm prediction:  [0] knn prediction:  3 actual value:  3\n",
      "predicted_label DDoS\n",
      "svm prediction:  [0] knn prediction:  3 actual value:  3\n",
      "predicted_label DDoS\n",
      "svm prediction:  [0] knn prediction:  3 actual value:  3\n",
      "predicted_label DDoS\n",
      "svm prediction:  [1] knn prediction:  3 actual value:  0\n",
      "predicted_label DDoS\n",
      "svm prediction:  [0] knn prediction:  3 actual value:  3\n",
      "predicted_label DDoS\n",
      "svm prediction:  [0] knn prediction:  3 actual value:  3\n",
      "predicted_label DDoS\n",
      "svm prediction:  [0] knn prediction:  3 actual value:  3\n",
      "predicted_label DDoS\n",
      "svm prediction:  [0] knn prediction:  3 actual value:  3\n",
      "predicted_label DoS\n",
      "svm prediction:  [0] knn prediction:  4 actual value:  4\n",
      "predicted_label DoS\n",
      "svm prediction:  [0] knn prediction:  4 actual value:  4\n",
      "predicted_label DoS\n",
      "svm prediction:  [0] knn prediction:  4 actual value:  4\n",
      "predicted_label DoS\n",
      "svm prediction:  [0] knn prediction:  4 actual value:  4\n",
      "predicted_label DDoS\n",
      "svm prediction:  [0] knn prediction:  3 actual value:  3\n",
      "predicted_label Botnet\n",
      "svm prediction:  [1] knn prediction:  1 actual value:  1\n",
      "predicted_label DDoS\n",
      "svm prediction:  [0] knn prediction:  3 actual value:  3\n",
      "predicted_label DDoS\n",
      "svm prediction:  [0] knn prediction:  3 actual value:  3\n",
      "predicted_label DDoS\n",
      "svm prediction:  [0] knn prediction:  3 actual value:  3\n",
      "predicted_label DDoS\n",
      "svm prediction:  [0] knn prediction:  3 actual value:  3\n",
      "predicted_label DDoS\n",
      "svm prediction:  [0] knn prediction:  3 actual value:  3\n",
      "predicted_label Botnet\n",
      "svm prediction:  [1] knn prediction:  1 actual value:  1\n",
      "predicted_label DDoS\n",
      "svm prediction:  [0] knn prediction:  3 actual value:  3\n",
      "predicted_label DDoS\n",
      "svm prediction:  [0] knn prediction:  3 actual value:  0\n",
      "predicted_label DoS\n",
      "svm prediction:  [0] knn prediction:  4 actual value:  4\n",
      "predicted_label DDoS\n",
      "svm prediction:  [0] knn prediction:  3 actual value:  3\n",
      "predicted_label DDoS\n",
      "svm prediction:  [0] knn prediction:  3 actual value:  3\n",
      "predicted_label DDoS\n",
      "svm prediction:  [0] knn prediction:  3 actual value:  3\n",
      "predicted_label DoS\n",
      "svm prediction:  [0] knn prediction:  4 actual value:  4\n",
      "predicted_label DDoS\n",
      "svm prediction:  [0] knn prediction:  3 actual value:  3\n",
      "predicted_label DDoS\n",
      "svm prediction:  [0] knn prediction:  3 actual value:  3\n",
      "predicted_label DDoS\n",
      "svm prediction:  [0] knn prediction:  3 actual value:  3\n",
      "predicted_label Bruteforce\n",
      "svm prediction:  [0] knn prediction:  2 actual value:  2\n",
      "predicted_label DDoS\n",
      "svm prediction:  [0] knn prediction:  3 actual value:  3\n",
      "predicted_label DDoS\n",
      "svm prediction:  [0] knn prediction:  3 actual value:  3\n",
      "predicted_label DDoS\n",
      "svm prediction:  [0] knn prediction:  3 actual value:  3\n",
      "predicted_label DDoS\n",
      "svm prediction:  [0] knn prediction:  3 actual value:  3\n",
      "predicted_label DDoS\n",
      "svm prediction:  [0] knn prediction:  3 actual value:  3\n",
      "predicted_label DoS\n",
      "svm prediction:  [0] knn prediction:  4 actual value:  4\n",
      "predicted_label DDoS\n",
      "svm prediction:  [0] knn prediction:  3 actual value:  3\n",
      "predicted_label DDoS\n",
      "svm prediction:  [0] knn prediction:  3 actual value:  3\n",
      "predicted_label DDoS\n",
      "svm prediction:  [1] knn prediction:  3 actual value:  3\n",
      "predicted_label DDoS\n",
      "svm prediction:  [0] knn prediction:  3 actual value:  3\n",
      "predicted_label DDoS\n",
      "svm prediction:  [0] knn prediction:  3 actual value:  3\n",
      "predicted_label DDoS\n",
      "svm prediction:  [0] knn prediction:  3 actual value:  3\n",
      "predicted_label DDoS\n",
      "svm prediction:  [0] knn prediction:  3 actual value:  3\n",
      "predicted_label DoS\n",
      "svm prediction:  [0] knn prediction:  4 actual value:  4\n",
      "predicted_label DoS\n",
      "svm prediction:  [0] knn prediction:  4 actual value:  4\n",
      "predicted_label Bruteforce\n",
      "svm prediction:  [0] knn prediction:  2 actual value:  2\n",
      "predicted_label DoS\n",
      "svm prediction:  [0] knn prediction:  4 actual value:  4\n",
      "predicted_label DDoS\n",
      "svm prediction:  [0] knn prediction:  3 actual value:  3\n",
      "predicted_label DDoS\n",
      "svm prediction:  [0] knn prediction:  3 actual value:  3\n",
      "predicted_label DDoS\n",
      "svm prediction:  [0] knn prediction:  3 actual value:  3\n",
      "predicted_label DoS\n",
      "svm prediction:  [0] knn prediction:  4 actual value:  4\n",
      "predicted_label Botnet\n",
      "svm prediction:  [1] knn prediction:  1 actual value:  1\n",
      "predicted_label DDoS\n",
      "svm prediction:  [0] knn prediction:  3 actual value:  3\n",
      "predicted_label Bruteforce\n",
      "svm prediction:  [0] knn prediction:  2 actual value:  2\n",
      "predicted_label DDoS\n",
      "svm prediction:  [0] knn prediction:  3 actual value:  3\n",
      "predicted_label DDoS\n",
      "svm prediction:  [0] knn prediction:  3 actual value:  3\n",
      "predicted_label Botnet\n",
      "svm prediction:  [1] knn prediction:  1 actual value:  1\n",
      "predicted_label DDoS\n",
      "svm prediction:  [0] knn prediction:  3 actual value:  3\n",
      "predicted_label DDoS\n",
      "svm prediction:  [0] knn prediction:  3 actual value:  3\n",
      "predicted_label DDoS\n",
      "svm prediction:  [0] knn prediction:  3 actual value:  3\n",
      "predicted_label DDoS\n",
      "svm prediction:  [0] knn prediction:  3 actual value:  3\n",
      "predicted_label DDoS\n",
      "svm prediction:  [0] knn prediction:  3 actual value:  3\n",
      "predicted_label DoS\n",
      "svm prediction:  [1] knn prediction:  4 actual value:  0\n",
      "predicted_label DDoS\n",
      "svm prediction:  [0] knn prediction:  3 actual value:  3\n",
      "predicted_label Botnet\n",
      "svm prediction:  [1] knn prediction:  1 actual value:  1\n",
      "predicted_label DDoS\n",
      "svm prediction:  [0] knn prediction:  3 actual value:  3\n",
      "Total operation time: =  0.7406413555145264 seconds\n"
     ]
    }
   ],
   "source": [
    "svm_predictions = []\n",
    "seconds = time.time()\n",
    "\n",
    "X_test_df = X_test_df[:TEST_COUNT]\n",
    "X_test_scaled_df = X_test_scaled_df[:TEST_COUNT]\n",
    "y_test_df = y_test_df[:TEST_COUNT]\n",
    "\n",
    "for i in range(len(X_test_scaled_df)):\n",
    "    test_instance_df = X_test_scaled_df.iloc[i].to_frame().T\n",
    "    if knn_predictions[i] == NORMAL_TARGET:\n",
    "        svm_predictions.append((0, NORMAL_TARGET, y_test_df.iloc[i]))\n",
    "        continue\n",
    "    predicted_label = TARGET_DICT[knn_predictions[i]]\n",
    "    print('predicted_label', predicted_label)\n",
    "    selected_features = feature_importances[predicted_label]\n",
    "    # print('selected_features', selected_features)\n",
    "    svm_model = SVMs[predicted_label]\n",
    "    \n",
    "    # Select features for the SVM\n",
    "    test_instance_selected_df = test_instance_df[selected_features]\n",
    "    svm_prediction = svm_model.predict(test_instance_selected_df)\n",
    "    print('svm prediction: ', svm_prediction, 'knn prediction: ', INV_TARGET_DICT[predicted_label], 'actual value: ', y_test_df.iloc[i])\n",
    "    svm_predictions.append((svm_prediction, INV_TARGET_DICT[predicted_label], y_test_df.iloc[i]))\n",
    "\n",
    "print(\"Total operation time: = \", time.time() - seconds, \"seconds\")"
   ]
  },
  {
   "cell_type": "code",
   "execution_count": 31,
   "metadata": {},
   "outputs": [
    {
     "name": "stdout",
     "output_type": "stream",
     "text": [
      "Requirement already satisfied: seaborn in /home/brina/miniconda3/envs/gpu/lib/python3.8/site-packages (0.13.2)\n",
      "Requirement already satisfied: numpy!=1.24.0,>=1.20 in /home/brina/miniconda3/envs/gpu/lib/python3.8/site-packages (from seaborn) (1.24.4)\n",
      "Requirement already satisfied: pandas>=1.2 in /home/brina/miniconda3/envs/gpu/lib/python3.8/site-packages (from seaborn) (1.3.4)\n",
      "Requirement already satisfied: matplotlib!=3.6.1,>=3.4 in /home/brina/miniconda3/envs/gpu/lib/python3.8/site-packages (from seaborn) (3.6.3)\n",
      "Requirement already satisfied: contourpy>=1.0.1 in /home/brina/miniconda3/envs/gpu/lib/python3.8/site-packages (from matplotlib!=3.6.1,>=3.4->seaborn) (1.1.1)\n",
      "Requirement already satisfied: cycler>=0.10 in /home/brina/miniconda3/envs/gpu/lib/python3.8/site-packages (from matplotlib!=3.6.1,>=3.4->seaborn) (0.12.1)\n",
      "Requirement already satisfied: fonttools>=4.22.0 in /home/brina/miniconda3/envs/gpu/lib/python3.8/site-packages (from matplotlib!=3.6.1,>=3.4->seaborn) (4.51.0)\n",
      "Requirement already satisfied: kiwisolver>=1.0.1 in /home/brina/miniconda3/envs/gpu/lib/python3.8/site-packages (from matplotlib!=3.6.1,>=3.4->seaborn) (1.4.5)\n",
      "Requirement already satisfied: packaging>=20.0 in /home/brina/miniconda3/envs/gpu/lib/python3.8/site-packages (from matplotlib!=3.6.1,>=3.4->seaborn) (24.0)\n",
      "Requirement already satisfied: pillow>=6.2.0 in /home/brina/miniconda3/envs/gpu/lib/python3.8/site-packages (from matplotlib!=3.6.1,>=3.4->seaborn) (7.1.2)\n",
      "Requirement already satisfied: pyparsing>=2.2.1 in /home/brina/miniconda3/envs/gpu/lib/python3.8/site-packages (from matplotlib!=3.6.1,>=3.4->seaborn) (3.1.2)\n",
      "Requirement already satisfied: python-dateutil>=2.7 in /home/brina/miniconda3/envs/gpu/lib/python3.8/site-packages (from matplotlib!=3.6.1,>=3.4->seaborn) (2.8.2)\n",
      "Requirement already satisfied: pytz>=2017.3 in /home/brina/miniconda3/envs/gpu/lib/python3.8/site-packages (from pandas>=1.2->seaborn) (2024.1)\n",
      "Requirement already satisfied: six>=1.5 in /home/brina/miniconda3/envs/gpu/lib/python3.8/site-packages (from python-dateutil>=2.7->matplotlib!=3.6.1,>=3.4->seaborn) (1.15.0)\n"
     ]
    }
   ],
   "source": [
    "!pip install seaborn\n",
    "import seaborn as sns"
   ]
  },
  {
   "cell_type": "code",
   "execution_count": 32,
   "metadata": {},
   "outputs": [
    {
     "data": {
      "text/html": [
       "Finishing last run (ID:qkmu8753) before initializing another..."
      ],
      "text/plain": [
       "<IPython.core.display.HTML object>"
      ]
     },
     "metadata": {},
     "output_type": "display_data"
    },
    {
     "data": {
      "application/vnd.jupyter.widget-view+json": {
       "model_id": "",
       "version_major": 2,
       "version_minor": 0
      },
      "text/plain": [
       "VBox(children=(Label(value='0.003 MB of 0.003 MB uploaded\\r'), FloatProgress(value=1.0, max=1.0)))"
      ]
     },
     "metadata": {},
     "output_type": "display_data"
    },
    {
     "data": {
      "text/html": [
       " View run <strong style=\"color:#cdcd00\">anomalies-svm-only</strong> at: <a href='https://wandb.ai/brinashong/pipeline-cicids-dataset/runs/qkmu8753' target=\"_blank\">https://wandb.ai/brinashong/pipeline-cicids-dataset/runs/qkmu8753</a><br/> View job at <a href='https://wandb.ai/brinashong/pipeline-cicids-dataset/jobs/QXJ0aWZhY3RDb2xsZWN0aW9uOjQ3MjY2NTMyMQ==/version_details/v0' target=\"_blank\">https://wandb.ai/brinashong/pipeline-cicids-dataset/jobs/QXJ0aWZhY3RDb2xsZWN0aW9uOjQ3MjY2NTMyMQ==/version_details/v0</a><br/>Synced 6 W&B file(s), 0 media file(s), 2 artifact file(s) and 0 other file(s)"
      ],
      "text/plain": [
       "<IPython.core.display.HTML object>"
      ]
     },
     "metadata": {},
     "output_type": "display_data"
    },
    {
     "data": {
      "text/html": [
       "Find logs at: <code>./wandb/run-20241013_142816-qkmu8753/logs</code>"
      ],
      "text/plain": [
       "<IPython.core.display.HTML object>"
      ]
     },
     "metadata": {},
     "output_type": "display_data"
    },
    {
     "data": {
      "text/html": [
       "Successfully finished last run (ID:qkmu8753). Initializing new run:<br/>"
      ],
      "text/plain": [
       "<IPython.core.display.HTML object>"
      ]
     },
     "metadata": {},
     "output_type": "display_data"
    },
    {
     "data": {
      "application/vnd.jupyter.widget-view+json": {
       "model_id": "804df10946eb4a2fb9fa006f7da9afe2",
       "version_major": 2,
       "version_minor": 0
      },
      "text/plain": [
       "VBox(children=(Label(value='Waiting for wandb.init()...\\r'), FloatProgress(value=0.011113032155521473, max=1.0…"
      ]
     },
     "metadata": {},
     "output_type": "display_data"
    },
    {
     "data": {
      "text/html": [
       "wandb version 0.18.3 is available!  To upgrade, please run:\n",
       " $ pip install wandb --upgrade"
      ],
      "text/plain": [
       "<IPython.core.display.HTML object>"
      ]
     },
     "metadata": {},
     "output_type": "display_data"
    },
    {
     "data": {
      "text/html": [
       "Tracking run with wandb version 0.16.4"
      ],
      "text/plain": [
       "<IPython.core.display.HTML object>"
      ]
     },
     "metadata": {},
     "output_type": "display_data"
    },
    {
     "data": {
      "text/html": [
       "Run data is saved locally in <code>/home/brina/nus-mcomp/sem2/cs5344-big-data-analytics-technology/CS5344_Project/work/wandb/run-20241013_142948-yrqe75yg</code>"
      ],
      "text/plain": [
       "<IPython.core.display.HTML object>"
      ]
     },
     "metadata": {},
     "output_type": "display_data"
    },
    {
     "data": {
      "text/html": [
       "Syncing run <strong><a href='https://wandb.ai/brinashong/pipeline-cicids-dataset/runs/yrqe75yg' target=\"_blank\">anomalies-svm-only</a></strong> to <a href='https://wandb.ai/brinashong/pipeline-cicids-dataset' target=\"_blank\">Weights & Biases</a> (<a href='https://wandb.me/run' target=\"_blank\">docs</a>)<br/>"
      ],
      "text/plain": [
       "<IPython.core.display.HTML object>"
      ]
     },
     "metadata": {},
     "output_type": "display_data"
    },
    {
     "data": {
      "text/html": [
       " View project at <a href='https://wandb.ai/brinashong/pipeline-cicids-dataset' target=\"_blank\">https://wandb.ai/brinashong/pipeline-cicids-dataset</a>"
      ],
      "text/plain": [
       "<IPython.core.display.HTML object>"
      ]
     },
     "metadata": {},
     "output_type": "display_data"
    },
    {
     "data": {
      "text/html": [
       " View run at <a href='https://wandb.ai/brinashong/pipeline-cicids-dataset/runs/yrqe75yg' target=\"_blank\">https://wandb.ai/brinashong/pipeline-cicids-dataset/runs/yrqe75yg</a>"
      ],
      "text/plain": [
       "<IPython.core.display.HTML object>"
      ]
     },
     "metadata": {},
     "output_type": "display_data"
    },
    {
     "name": "stdout",
     "output_type": "stream",
     "text": [
      "anomaly_mask 500\n",
      "[0, 4, 0, 3, 0, 0, 0, 0, 0, 0, 0, 0, 3, 0, 0, 0, 0, 1, 3, 2, 0, 3, 0, 0, 0, 0, 0, 0, 3, 0, 0, 0, 0, 0, 0, 4, 0, 0, 0, 0, 2, 0, 4, 0, 3, 0, 0, 0, 4, 1, 0, 0, 4, 0, 0, 0, 0, 0, 4, 3, 0, 0, 0, 0, 0, 0, 0, 0, 0, 4, 0, 0, 3, 0, 4, 0, 0, 0, 0, 0, 0, 0, 0, 0, 3, 3, 0, 0, 0, 0, 0, 0, 1, 0, 0, 0, 3, 0, 2, 0, 0, 0, 0, 0, 0, 3, 0, 0, 0, 0, 3, 0, 0, 3, 0, 4, 0, 4, 0, 0, 0, 3, 4, 0, 3, 0, 4, 0, 0, 0, 0, 0, 0, 0, 0, 2, 0, 4, 1, 0, 0, 0, 0, 3, 0, 0, 0, 0, 0, 1, 0, 0, 0, 0, 0, 0, 4, 0, 1, 0, 0, 0, 0, 0, 0, 3, 1, 0, 0, 0, 0, 3, 0, 0, 0, 3, 0, 3, 3, 3, 0, 0, 0, 0, 0, 0, 0, 3, 0, 3, 0, 0, 0, 3, 0, 0, 0, 0, 4, 4, 0, 4, 0, 4, 0, 0, 0, 0, 0, 0, 0, 0, 0, 0, 3, 1, 3, 0, 0, 0, 0, 0, 3, 0, 0, 0, 3, 0, 0, 0, 0, 3, 3, 0, 0, 0, 0, 0, 1, 0, 0, 0, 3, 0, 0, 0, 0, 0, 0, 0, 0, 0, 0, 0, 0, 0, 0, 3, 4, 3, 0, 0, 0, 0, 0, 0, 0, 3, 0, 3, 0, 0, 0, 4, 0, 0, 0, 0, 0, 0, 3, 0, 0, 0, 0, 0, 3, 0, 0, 0, 0, 0, 0, 0, 0, 0, 0, 0, 0, 0, 0, 0, 0, 0, 3, 0, 0, 0, 0, 0, 0, 0, 0, 0, 2, 0, 0, 0, 0, 0, 0, 3, 0, 0, 0, 0, 3, 0, 0, 0, 0, 0, 3, 3, 3, 0, 0, 0, 0, 0, 0, 0, 4, 3, 0, 0, 0, 0, 0, 0, 0, 0, 0, 3, 0, 0, 3, 0, 0, 0, 3, 3, 3, 0, 0, 3, 0, 0, 0, 0, 0, 0, 0, 0, 0, 0, 4, 4, 0, 0, 0, 0, 0, 0, 0, 0, 0, 2, 0, 0, 0, 0, 0, 0, 0, 0, 0, 0, 4, 3, 0, 0, 0, 3, 0, 0, 0, 0, 3, 0, 0, 0, 0, 0, 0, 4, 0, 0, 0, 0, 0, 0, 0, 1, 0, 0, 3, 2, 3, 0, 0, 0, 0, 0, 3, 0, 0, 1, 0, 3, 0, 0, 0, 0, 0, 0, 0, 3, 0, 0, 0, 3, 3, 0, 0, 0, 0, 0, 0, 0, 0, 0, 0, 0, 0, 0, 3, 0, 0, 0, 0, 0, 0, 0, 4, 0, 0, 0, 0, 0, 0, 0, 0, 0, 3, 0, 1, 0, 0, 0, 0, 0, 0, 0, 0, 0, 0, 0, 3, 0]\n",
      "Lengths:  110 110\n",
      "SVM Evaluation (for anomalies)\n",
      "Confusion Matrix:\n",
      "[[ 0  0  0  2  1]\n",
      " [ 0 12  0  0  0]\n",
      " [ 0  0  7  0  0]\n",
      " [ 0  0  0 63  0]\n",
      " [ 0  0  0  0 25]]\n"
     ]
    },
    {
     "data": {
      "image/png": "[encoded data removed]",
      "text/plain": [
       "<Figure size 1500x1000 with 2 Axes>"
      ]
     },
     "metadata": {},
     "output_type": "display_data"
    },
    {
     "name": "stdout",
     "output_type": "stream",
     "text": [
      "\n",
      "Classification Report:\n",
      "{'0': {'precision': 0.0, 'recall': 0.0, 'f1-score': 0.0, 'support': 3.0}, '1': {'precision': 1.0, 'recall': 1.0, 'f1-score': 1.0, 'support': 12.0}, '2': {'precision': 1.0, 'recall': 1.0, 'f1-score': 1.0, 'support': 7.0}, '3': {'precision': 0.9692307692307692, 'recall': 1.0, 'f1-score': 0.9843749999999999, 'support': 63.0}, '4': {'precision': 0.9615384615384616, 'recall': 1.0, 'f1-score': 0.9803921568627451, 'support': 25.0}, 'accuracy': 0.9727272727272728, 'macro avg': {'precision': 0.7861538461538462, 'recall': 0.8, 'f1-score': 0.792953431372549, 'support': 110.0}, 'weighted avg': {'precision': 0.9463636363636363, 'recall': 0.9727272727272728, 'f1-score': 0.9593220811051693, 'support': 110.0}}\n",
      "Accuracy: 0.9727272727272728\n"
     ]
    },
    {
     "name": "stderr",
     "output_type": "stream",
     "text": [
      "/home/brina/miniconda3/envs/gpu/lib/python3.8/site-packages/sklearn/metrics/_classification.py:1471: UndefinedMetricWarning: Precision and F-score are ill-defined and being set to 0.0 in labels with no predicted samples. Use `zero_division` parameter to control this behavior.\n",
      "  _warn_prf(average, modifier, msg_start, len(result))\n",
      "/home/brina/miniconda3/envs/gpu/lib/python3.8/site-packages/sklearn/metrics/_classification.py:1471: UndefinedMetricWarning: Precision and F-score are ill-defined and being set to 0.0 in labels with no predicted samples. Use `zero_division` parameter to control this behavior.\n",
      "  _warn_prf(average, modifier, msg_start, len(result))\n",
      "/home/brina/miniconda3/envs/gpu/lib/python3.8/site-packages/sklearn/metrics/_classification.py:1471: UndefinedMetricWarning: Precision and F-score are ill-defined and being set to 0.0 in labels with no predicted samples. Use `zero_division` parameter to control this behavior.\n",
      "  _warn_prf(average, modifier, msg_start, len(result))\n"
     ]
    },
    {
     "data": {
      "application/vnd.jupyter.widget-view+json": {
       "model_id": "",
       "version_major": 2,
       "version_minor": 0
      },
      "text/plain": [
       "VBox(children=(Label(value='0.005 MB of 0.005 MB uploaded\\r'), FloatProgress(value=0.9751430262379167, max=1.0…"
      ]
     },
     "metadata": {},
     "output_type": "display_data"
    },
    {
     "data": {
      "text/html": [
       "<style>\n",
       "    table.wandb td:nth-child(1) { padding: 0 10px; text-align: left ; width: auto;} td:nth-child(2) {text-align: left ; width: 100%}\n",
       "    .wandb-row { display: flex; flex-direction: row; flex-wrap: wrap; justify-content: flex-start; width: 100% }\n",
       "    .wandb-col { display: flex; flex-direction: column; flex-basis: 100%; flex: 1; padding: 10px; }\n",
       "    </style>\n",
       "<div class=\"wandb-row\"><div class=\"wandb-col\"><h3>Run history:</h3><br/><table class=\"wandb\"><tr><td>Accuracy Score</td><td>▁</td></tr><tr><td>f1-score_avg</td><td>▁</td></tr><tr><td>precision_avg</td><td>▁</td></tr><tr><td>recall_avg</td><td>▁</td></tr></table><br/></div><div class=\"wandb-col\"><h3>Run summary:</h3><br/><table class=\"wandb\"><tr><td>Accuracy Score</td><td>0.97273</td></tr><tr><td>f1-score_avg</td><td>0.95932</td></tr><tr><td>precision_avg</td><td>0.94636</td></tr><tr><td>recall_avg</td><td>0.97273</td></tr></table><br/></div></div>"
      ],
      "text/plain": [
       "<IPython.core.display.HTML object>"
      ]
     },
     "metadata": {},
     "output_type": "display_data"
    },
    {
     "data": {
      "text/html": [
       " View run <strong style=\"color:#cdcd00\">anomalies-svm-only</strong> at: <a href='https://wandb.ai/brinashong/pipeline-cicids-dataset/runs/yrqe75yg' target=\"_blank\">https://wandb.ai/brinashong/pipeline-cicids-dataset/runs/yrqe75yg</a><br/> View job at <a href='https://wandb.ai/brinashong/pipeline-cicids-dataset/jobs/QXJ0aWZhY3RDb2xsZWN0aW9uOjQ3MjY2NTMyMQ==/version_details/v1' target=\"_blank\">https://wandb.ai/brinashong/pipeline-cicids-dataset/jobs/QXJ0aWZhY3RDb2xsZWN0aW9uOjQ3MjY2NTMyMQ==/version_details/v1</a><br/>Synced 6 W&B file(s), 2 media file(s), 4 artifact file(s) and 0 other file(s)"
      ],
      "text/plain": [
       "<IPython.core.display.HTML object>"
      ]
     },
     "metadata": {},
     "output_type": "display_data"
    },
    {
     "data": {
      "text/html": [
       "Find logs at: <code>./wandb/run-20241013_142948-yrqe75yg/logs</code>"
      ],
      "text/plain": [
       "<IPython.core.display.HTML object>"
      ]
     },
     "metadata": {},
     "output_type": "display_data"
    },
    {
     "data": {
      "application/vnd.jupyter.widget-view+json": {
       "model_id": "ce763ccad1174189bd4958d2511c94e2",
       "version_major": 2,
       "version_minor": 0
      },
      "text/plain": [
       "VBox(children=(Label(value='Waiting for wandb.init()...\\r'), FloatProgress(value=0.011116756222165552, max=1.0…"
      ]
     },
     "metadata": {},
     "output_type": "display_data"
    },
    {
     "data": {
      "text/html": [
       "wandb version 0.18.3 is available!  To upgrade, please run:\n",
       " $ pip install wandb --upgrade"
      ],
      "text/plain": [
       "<IPython.core.display.HTML object>"
      ]
     },
     "metadata": {},
     "output_type": "display_data"
    },
    {
     "data": {
      "text/html": [
       "Tracking run with wandb version 0.16.4"
      ],
      "text/plain": [
       "<IPython.core.display.HTML object>"
      ]
     },
     "metadata": {},
     "output_type": "display_data"
    },
    {
     "data": {
      "text/html": [
       "Run data is saved locally in <code>/home/brina/nus-mcomp/sem2/cs5344-big-data-analytics-technology/CS5344_Project/work/wandb/run-20241013_143025-x10gpsoh</code>"
      ],
      "text/plain": [
       "<IPython.core.display.HTML object>"
      ]
     },
     "metadata": {},
     "output_type": "display_data"
    },
    {
     "data": {
      "text/html": [
       "Syncing run <strong><a href='https://wandb.ai/brinashong/pipeline-cicids-dataset/runs/x10gpsoh' target=\"_blank\">overall-svm-only</a></strong> to <a href='https://wandb.ai/brinashong/pipeline-cicids-dataset' target=\"_blank\">Weights & Biases</a> (<a href='https://wandb.me/run' target=\"_blank\">docs</a>)<br/>"
      ],
      "text/plain": [
       "<IPython.core.display.HTML object>"
      ]
     },
     "metadata": {},
     "output_type": "display_data"
    },
    {
     "data": {
      "text/html": [
       " View project at <a href='https://wandb.ai/brinashong/pipeline-cicids-dataset' target=\"_blank\">https://wandb.ai/brinashong/pipeline-cicids-dataset</a>"
      ],
      "text/plain": [
       "<IPython.core.display.HTML object>"
      ]
     },
     "metadata": {},
     "output_type": "display_data"
    },
    {
     "data": {
      "text/html": [
       " View run at <a href='https://wandb.ai/brinashong/pipeline-cicids-dataset/runs/x10gpsoh' target=\"_blank\">https://wandb.ai/brinashong/pipeline-cicids-dataset/runs/x10gpsoh</a>"
      ],
      "text/plain": [
       "<IPython.core.display.HTML object>"
      ]
     },
     "metadata": {},
     "output_type": "display_data"
    },
    {
     "name": "stdout",
     "output_type": "stream",
     "text": [
      "SVM Evaluation (for all)\n",
      "Confusion Matrix:\n",
      "[[383   0   0   2   1   0]\n",
      " [  0  12   0   0   0   0]\n",
      " [  0   0   7   0   0   0]\n",
      " [  0   0   0  63   0   0]\n",
      " [  0   0   0   0  25   0]\n",
      " [  7   0   0   0   0   0]]\n"
     ]
    },
    {
     "data": {
      "image/png": "[encoded data removed]",
      "text/plain": [
       "<Figure size 1500x1000 with 2 Axes>"
      ]
     },
     "metadata": {},
     "output_type": "display_data"
    },
    {
     "name": "stderr",
     "output_type": "stream",
     "text": [
      "/home/brina/miniconda3/envs/gpu/lib/python3.8/site-packages/sklearn/metrics/_classification.py:1471: UndefinedMetricWarning: Precision and F-score are ill-defined and being set to 0.0 in labels with no predicted samples. Use `zero_division` parameter to control this behavior.\n",
      "  _warn_prf(average, modifier, msg_start, len(result))\n",
      "/home/brina/miniconda3/envs/gpu/lib/python3.8/site-packages/sklearn/metrics/_classification.py:1471: UndefinedMetricWarning: Precision and F-score are ill-defined and being set to 0.0 in labels with no predicted samples. Use `zero_division` parameter to control this behavior.\n",
      "  _warn_prf(average, modifier, msg_start, len(result))\n",
      "/home/brina/miniconda3/envs/gpu/lib/python3.8/site-packages/sklearn/metrics/_classification.py:1471: UndefinedMetricWarning: Precision and F-score are ill-defined and being set to 0.0 in labels with no predicted samples. Use `zero_division` parameter to control this behavior.\n",
      "  _warn_prf(average, modifier, msg_start, len(result))\n"
     ]
    },
    {
     "name": "stdout",
     "output_type": "stream",
     "text": [
      "\n",
      "Classification Report:\n",
      "{'0': {'precision': 0.982051282051282, 'recall': 0.9922279792746114, 'f1-score': 0.9871134020618556, 'support': 386.0}, '1': {'precision': 1.0, 'recall': 1.0, 'f1-score': 1.0, 'support': 12.0}, '2': {'precision': 1.0, 'recall': 1.0, 'f1-score': 1.0, 'support': 7.0}, '3': {'precision': 0.9692307692307692, 'recall': 1.0, 'f1-score': 0.9843749999999999, 'support': 63.0}, '4': {'precision': 0.9615384615384616, 'recall': 1.0, 'f1-score': 0.9803921568627451, 'support': 25.0}, '5': {'precision': 0.0, 'recall': 0.0, 'f1-score': 0.0, 'support': 7.0}, 'accuracy': 0.98, 'macro avg': {'precision': 0.8188034188034189, 'recall': 0.8320379965457686, 'f1-score': 0.8253134264874334, 'support': 500.0}, 'weighted avg': {'precision': 0.9663435897435897, 'recall': 0.98, 'f1-score': 0.9731024042348897, 'support': 500.0}}\n",
      "Accuracy: 0.98\n"
     ]
    },
    {
     "data": {
      "application/vnd.jupyter.widget-view+json": {
       "model_id": "",
       "version_major": 2,
       "version_minor": 0
      },
      "text/plain": [
       "VBox(children=(Label(value='0.005 MB of 0.005 MB uploaded\\r'), FloatProgress(value=0.9692307692307692, max=1.0…"
      ]
     },
     "metadata": {},
     "output_type": "display_data"
    },
    {
     "data": {
      "text/html": [
       "<style>\n",
       "    table.wandb td:nth-child(1) { padding: 0 10px; text-align: left ; width: auto;} td:nth-child(2) {text-align: left ; width: 100%}\n",
       "    .wandb-row { display: flex; flex-direction: row; flex-wrap: wrap; justify-content: flex-start; width: 100% }\n",
       "    .wandb-col { display: flex; flex-direction: column; flex-basis: 100%; flex: 1; padding: 10px; }\n",
       "    </style>\n",
       "<div class=\"wandb-row\"><div class=\"wandb-col\"><h3>Run history:</h3><br/><table class=\"wandb\"><tr><td>Accuracy Score</td><td>▁</td></tr><tr><td>f1-score_avg</td><td>▁</td></tr><tr><td>precision_avg</td><td>▁</td></tr><tr><td>recall_avg</td><td>▁</td></tr></table><br/></div><div class=\"wandb-col\"><h3>Run summary:</h3><br/><table class=\"wandb\"><tr><td>Accuracy Score</td><td>0.98</td></tr><tr><td>f1-score_avg</td><td>0.9731</td></tr><tr><td>precision_avg</td><td>0.96634</td></tr><tr><td>recall_avg</td><td>0.98</td></tr></table><br/></div></div>"
      ],
      "text/plain": [
       "<IPython.core.display.HTML object>"
      ]
     },
     "metadata": {},
     "output_type": "display_data"
    },
    {
     "data": {
      "text/html": [
       " View run <strong style=\"color:#cdcd00\">overall-svm-only</strong> at: <a href='https://wandb.ai/brinashong/pipeline-cicids-dataset/runs/x10gpsoh' target=\"_blank\">https://wandb.ai/brinashong/pipeline-cicids-dataset/runs/x10gpsoh</a><br/> View job at <a href='https://wandb.ai/brinashong/pipeline-cicids-dataset/jobs/QXJ0aWZhY3RDb2xsZWN0aW9uOjQ3MjY2NTMyMQ==/version_details/v1' target=\"_blank\">https://wandb.ai/brinashong/pipeline-cicids-dataset/jobs/QXJ0aWZhY3RDb2xsZWN0aW9uOjQ3MjY2NTMyMQ==/version_details/v1</a><br/>Synced 6 W&B file(s), 2 media file(s), 2 artifact file(s) and 0 other file(s)"
      ],
      "text/plain": [
       "<IPython.core.display.HTML object>"
      ]
     },
     "metadata": {},
     "output_type": "display_data"
    },
    {
     "data": {
      "text/html": [
       "Find logs at: <code>./wandb/run-20241013_143025-x10gpsoh/logs</code>"
      ],
      "text/plain": [
       "<IPython.core.display.HTML object>"
      ]
     },
     "metadata": {},
     "output_type": "display_data"
    }
   ],
   "source": [
    "wandb.init(project=\"pipeline-cicids-dataset\", name=\"anomalies-svm-only\")\n",
    "\n",
    "# Now evaluate SVM predictions only for the anomalies detected by KNN\n",
    "# Create a mask for test instances that KNN classified as anomalies\n",
    "anomaly_mask = knn_predictions != NORMAL_TARGET  # Assuming normal_target is your normal class\n",
    "print('anomaly_mask', len(anomaly_mask))\n",
    "\n",
    "# Get true labels and predictions for anomalies\n",
    "svm_predictions_actual = [t[1] for t in svm_predictions]\n",
    "print(svm_predictions_actual)\n",
    "# svm_predictions_actual = np.array(svm_predictions_actual)\n",
    "svm_predictions_actual_df = pd.DataFrame(svm_predictions_actual, columns=[TARGET_COLUMN])\n",
    "y_test_anomalies_df = y_test_df[anomaly_mask]\n",
    "svm_predictions_anomalies_df = svm_predictions_actual_df[anomaly_mask]\n",
    "print('Lengths: ', len(y_test_anomalies_df), len(svm_predictions_anomalies_df))\n",
    "\n",
    "# Evaluate SVM only on the anomalies\n",
    "conf_matrix, class_report, acc_score = evaluate(y_test_anomalies_df, svm_predictions_anomalies_df, heading='SVM Evaluation (for anomalies)')\n",
    "wandb_log(conf_matrix, class_report, acc_score)\n",
    "wandb.finish()\n",
    "\n",
    "# Evaluate SVM on all test data\n",
    "wandb.init(project=\"pipeline-cicids-dataset\", name=\"overall-svm-only\")\n",
    "conf_matrix, class_report, acc_score = evaluate(y_test_df, svm_predictions_actual_df, heading='SVM Evaluation (for all)')\n",
    "wandb_log(conf_matrix, class_report, acc_score)\n",
    "wandb.finish()"
   ]
  },
  {
   "cell_type": "code",
   "execution_count": 33,
   "metadata": {},
   "outputs": [
    {
     "name": "stdout",
     "output_type": "stream",
     "text": [
      "ensemble prediction:  [0] knn prediction:  4 actual value:  4\n",
      "ensemble prediction:  [0] knn prediction:  3 actual value:  3\n",
      "ensemble prediction:  [0] knn prediction:  3 actual value:  3\n",
      "ensemble prediction:  [0] knn prediction:  1 actual value:  1\n",
      "ensemble prediction:  [0] knn prediction:  3 actual value:  3\n",
      "ensemble prediction:  [0] knn prediction:  2 actual value:  2\n",
      "ensemble prediction:  [0] knn prediction:  3 actual value:  3\n",
      "ensemble prediction:  [0] knn prediction:  3 actual value:  3\n",
      "ensemble prediction:  [0] knn prediction:  4 actual value:  4\n",
      "ensemble prediction:  [0] knn prediction:  2 actual value:  2\n",
      "ensemble prediction:  [0] knn prediction:  4 actual value:  4\n",
      "ensemble prediction:  [0] knn prediction:  3 actual value:  3\n",
      "ensemble prediction:  [0] knn prediction:  4 actual value:  4\n",
      "ensemble prediction:  [0] knn prediction:  1 actual value:  1\n",
      "ensemble prediction:  [0] knn prediction:  4 actual value:  4\n",
      "ensemble prediction:  [0] knn prediction:  4 actual value:  4\n",
      "ensemble prediction:  [0] knn prediction:  3 actual value:  3\n",
      "ensemble prediction:  [0] knn prediction:  4 actual value:  4\n",
      "ensemble prediction:  [0] knn prediction:  3 actual value:  3\n",
      "ensemble prediction:  [0] knn prediction:  4 actual value:  4\n",
      "ensemble prediction:  [0] knn prediction:  3 actual value:  3\n",
      "ensemble prediction:  [0] knn prediction:  3 actual value:  3\n",
      "ensemble prediction:  [0] knn prediction:  1 actual value:  1\n",
      "ensemble prediction:  [0] knn prediction:  3 actual value:  3\n",
      "ensemble prediction:  [0] knn prediction:  2 actual value:  2\n",
      "ensemble prediction:  [0] knn prediction:  3 actual value:  3\n",
      "ensemble prediction:  [0] knn prediction:  3 actual value:  3\n",
      "ensemble prediction:  [0] knn prediction:  3 actual value:  3\n",
      "ensemble prediction:  [0] knn prediction:  4 actual value:  4\n",
      "ensemble prediction:  [0] knn prediction:  4 actual value:  4\n",
      "ensemble prediction:  [0] knn prediction:  3 actual value:  3\n",
      "ensemble prediction:  [0] knn prediction:  4 actual value:  4\n",
      "ensemble prediction:  [0] knn prediction:  3 actual value:  3\n",
      "ensemble prediction:  [0] knn prediction:  4 actual value:  4\n",
      "ensemble prediction:  [0] knn prediction:  2 actual value:  2\n",
      "ensemble prediction:  [0] knn prediction:  4 actual value:  4\n",
      "ensemble prediction:  [0] knn prediction:  1 actual value:  1\n",
      "ensemble prediction:  [0] knn prediction:  3 actual value:  3\n",
      "ensemble prediction:  [0] knn prediction:  1 actual value:  1\n",
      "ensemble prediction:  [0] knn prediction:  4 actual value:  4\n",
      "ensemble prediction:  [0] knn prediction:  1 actual value:  1\n",
      "ensemble prediction:  [0] knn prediction:  3 actual value:  3\n",
      "ensemble prediction:  [0] knn prediction:  1 actual value:  1\n",
      "ensemble prediction:  [0] knn prediction:  3 actual value:  3\n",
      "ensemble prediction:  [0] knn prediction:  3 actual value:  3\n",
      "ensemble prediction:  [0] knn prediction:  3 actual value:  3\n",
      "ensemble prediction:  [1] knn prediction:  3 actual value:  0\n",
      "ensemble prediction:  [0] knn prediction:  3 actual value:  3\n",
      "ensemble prediction:  [0] knn prediction:  3 actual value:  3\n",
      "ensemble prediction:  [0] knn prediction:  3 actual value:  3\n",
      "ensemble prediction:  [0] knn prediction:  3 actual value:  3\n",
      "ensemble prediction:  [0] knn prediction:  4 actual value:  4\n",
      "ensemble prediction:  [0] knn prediction:  4 actual value:  4\n",
      "ensemble prediction:  [0] knn prediction:  4 actual value:  4\n",
      "ensemble prediction:  [0] knn prediction:  4 actual value:  4\n",
      "ensemble prediction:  [1] knn prediction:  3 actual value:  3\n",
      "ensemble prediction:  [0] knn prediction:  1 actual value:  1\n",
      "ensemble prediction:  [0] knn prediction:  3 actual value:  3\n",
      "ensemble prediction:  [0] knn prediction:  3 actual value:  3\n",
      "ensemble prediction:  [0] knn prediction:  3 actual value:  3\n",
      "ensemble prediction:  [0] knn prediction:  3 actual value:  3\n",
      "ensemble prediction:  [1] knn prediction:  3 actual value:  3\n",
      "ensemble prediction:  [0] knn prediction:  1 actual value:  1\n",
      "ensemble prediction:  [0] knn prediction:  3 actual value:  3\n",
      "ensemble prediction:  [0] knn prediction:  3 actual value:  0\n",
      "ensemble prediction:  [0] knn prediction:  4 actual value:  4\n",
      "ensemble prediction:  [0] knn prediction:  3 actual value:  3\n",
      "ensemble prediction:  [0] knn prediction:  3 actual value:  3\n",
      "ensemble prediction:  [0] knn prediction:  3 actual value:  3\n",
      "ensemble prediction:  [0] knn prediction:  4 actual value:  4\n",
      "ensemble prediction:  [0] knn prediction:  3 actual value:  3\n",
      "ensemble prediction:  [0] knn prediction:  3 actual value:  3\n",
      "ensemble prediction:  [0] knn prediction:  3 actual value:  3\n",
      "ensemble prediction:  [0] knn prediction:  2 actual value:  2\n",
      "ensemble prediction:  [0] knn prediction:  3 actual value:  3\n",
      "ensemble prediction:  [0] knn prediction:  3 actual value:  3\n",
      "ensemble prediction:  [0] knn prediction:  3 actual value:  3\n",
      "ensemble prediction:  [0] knn prediction:  3 actual value:  3\n",
      "ensemble prediction:  [0] knn prediction:  3 actual value:  3\n",
      "ensemble prediction:  [0] knn prediction:  4 actual value:  4\n",
      "ensemble prediction:  [0] knn prediction:  3 actual value:  3\n",
      "ensemble prediction:  [0] knn prediction:  3 actual value:  3\n",
      "ensemble prediction:  [0] knn prediction:  3 actual value:  3\n",
      "ensemble prediction:  [0] knn prediction:  3 actual value:  3\n",
      "ensemble prediction:  [0] knn prediction:  3 actual value:  3\n",
      "ensemble prediction:  [0] knn prediction:  3 actual value:  3\n",
      "ensemble prediction:  [0] knn prediction:  3 actual value:  3\n",
      "ensemble prediction:  [0] knn prediction:  4 actual value:  4\n",
      "ensemble prediction:  [0] knn prediction:  4 actual value:  4\n",
      "ensemble prediction:  [0] knn prediction:  2 actual value:  2\n",
      "ensemble prediction:  [0] knn prediction:  4 actual value:  4\n",
      "ensemble prediction:  [0] knn prediction:  3 actual value:  3\n",
      "ensemble prediction:  [0] knn prediction:  3 actual value:  3\n",
      "ensemble prediction:  [0] knn prediction:  3 actual value:  3\n",
      "ensemble prediction:  [0] knn prediction:  4 actual value:  4\n",
      "ensemble prediction:  [0] knn prediction:  1 actual value:  1\n",
      "ensemble prediction:  [0] knn prediction:  3 actual value:  3\n",
      "ensemble prediction:  [0] knn prediction:  2 actual value:  2\n",
      "ensemble prediction:  [0] knn prediction:  3 actual value:  3\n",
      "ensemble prediction:  [0] knn prediction:  3 actual value:  3\n",
      "ensemble prediction:  [0] knn prediction:  1 actual value:  1\n",
      "ensemble prediction:  [0] knn prediction:  3 actual value:  3\n",
      "ensemble prediction:  [0] knn prediction:  3 actual value:  3\n",
      "ensemble prediction:  [0] knn prediction:  3 actual value:  3\n",
      "ensemble prediction:  [0] knn prediction:  3 actual value:  3\n",
      "ensemble prediction:  [0] knn prediction:  3 actual value:  3\n",
      "ensemble prediction:  [1] knn prediction:  4 actual value:  0\n",
      "ensemble prediction:  [0] knn prediction:  3 actual value:  3\n",
      "ensemble prediction:  [0] knn prediction:  1 actual value:  1\n",
      "ensemble prediction:  [0] knn prediction:  3 actual value:  3\n",
      "Total operation time: =  1.3075761795043945 seconds\n"
     ]
    }
   ],
   "source": [
    "ensemble_predictions = []\n",
    "seconds = time.time()\n",
    "\n",
    "for i in range(len(X_test_scaled_df)):\n",
    "    test_instance_df = X_test_scaled_df.iloc[i].to_frame().T\n",
    "    if knn_predictions[i] == NORMAL_TARGET:\n",
    "        ensemble_predictions.append((0, NORMAL_TARGET, y_test_df.iloc[i]))\n",
    "        continue\n",
    "    predicted_label = TARGET_DICT[knn_predictions[i]]\n",
    "    # print('predicted_label', predicted_label)\n",
    "    selected_features = feature_importances[predicted_label]\n",
    "    # print('selected_features', selected_features)\n",
    "    model = ensemble_models[predicted_label]\n",
    "    \n",
    "    # Select features for the ensemble\n",
    "    test_instance_selected_df = test_instance_df[selected_features]\n",
    "    ensemble_prediction = model.predict(test_instance_selected_df)\n",
    "    print('ensemble prediction: ', ensemble_prediction, 'knn prediction: ', INV_TARGET_DICT[predicted_label], 'actual value: ', y_test_df.iloc[i])\n",
    "    ensemble_predictions.append((ensemble_prediction, INV_TARGET_DICT[predicted_label], y_test_df.iloc[i]))\n",
    "\n",
    "print(\"Total operation time: = \", time.time() - seconds, \"seconds\")"
   ]
  },
  {
   "cell_type": "code",
   "execution_count": 34,
   "metadata": {},
   "outputs": [
    {
     "data": {
      "text/html": [
       "wandb version 0.18.3 is available!  To upgrade, please run:\n",
       " $ pip install wandb --upgrade"
      ],
      "text/plain": [
       "<IPython.core.display.HTML object>"
      ]
     },
     "metadata": {},
     "output_type": "display_data"
    },
    {
     "data": {
      "text/html": [
       "Tracking run with wandb version 0.16.4"
      ],
      "text/plain": [
       "<IPython.core.display.HTML object>"
      ]
     },
     "metadata": {},
     "output_type": "display_data"
    },
    {
     "data": {
      "text/html": [
       "Run data is saved locally in <code>/home/brina/nus-mcomp/sem2/cs5344-big-data-analytics-technology/CS5344_Project/work/wandb/run-20241013_143121-6rfndaoy</code>"
      ],
      "text/plain": [
       "<IPython.core.display.HTML object>"
      ]
     },
     "metadata": {},
     "output_type": "display_data"
    },
    {
     "data": {
      "text/html": [
       "Syncing run <strong><a href='https://wandb.ai/brinashong/pipeline-cicids-dataset/runs/6rfndaoy' target=\"_blank\">anomalies-ensemble</a></strong> to <a href='https://wandb.ai/brinashong/pipeline-cicids-dataset' target=\"_blank\">Weights & Biases</a> (<a href='https://wandb.me/run' target=\"_blank\">docs</a>)<br/>"
      ],
      "text/plain": [
       "<IPython.core.display.HTML object>"
      ]
     },
     "metadata": {},
     "output_type": "display_data"
    },
    {
     "data": {
      "text/html": [
       " View project at <a href='https://wandb.ai/brinashong/pipeline-cicids-dataset' target=\"_blank\">https://wandb.ai/brinashong/pipeline-cicids-dataset</a>"
      ],
      "text/plain": [
       "<IPython.core.display.HTML object>"
      ]
     },
     "metadata": {},
     "output_type": "display_data"
    },
    {
     "data": {
      "text/html": [
       " View run at <a href='https://wandb.ai/brinashong/pipeline-cicids-dataset/runs/6rfndaoy' target=\"_blank\">https://wandb.ai/brinashong/pipeline-cicids-dataset/runs/6rfndaoy</a>"
      ],
      "text/plain": [
       "<IPython.core.display.HTML object>"
      ]
     },
     "metadata": {},
     "output_type": "display_data"
    },
    {
     "name": "stdout",
     "output_type": "stream",
     "text": [
      "anomaly_mask 500\n",
      "[0, 4, 0, 3, 0, 0, 0, 0, 0, 0, 0, 0, 3, 0, 0, 0, 0, 1, 3, 2, 0, 3, 0, 0, 0, 0, 0, 0, 3, 0, 0, 0, 0, 0, 0, 4, 0, 0, 0, 0, 2, 0, 4, 0, 3, 0, 0, 0, 4, 1, 0, 0, 4, 0, 0, 0, 0, 0, 4, 3, 0, 0, 0, 0, 0, 0, 0, 0, 0, 4, 0, 0, 3, 0, 4, 0, 0, 0, 0, 0, 0, 0, 0, 0, 3, 3, 0, 0, 0, 0, 0, 0, 1, 0, 0, 0, 3, 0, 2, 0, 0, 0, 0, 0, 0, 3, 0, 0, 0, 0, 3, 0, 0, 3, 0, 4, 0, 4, 0, 0, 0, 3, 4, 0, 3, 0, 4, 0, 0, 0, 0, 0, 0, 0, 0, 2, 0, 4, 1, 0, 0, 0, 0, 3, 0, 0, 0, 0, 0, 1, 0, 0, 0, 0, 0, 0, 4, 0, 1, 0, 0, 0, 0, 0, 0, 3, 1, 0, 0, 0, 0, 3, 0, 0, 0, 3, 0, 3, 3, 3, 0, 0, 0, 0, 0, 0, 0, 3, 0, 3, 0, 0, 0, 3, 0, 0, 0, 0, 4, 4, 0, 4, 0, 4, 0, 0, 0, 0, 0, 0, 0, 0, 0, 0, 3, 1, 3, 0, 0, 0, 0, 0, 3, 0, 0, 0, 3, 0, 0, 0, 0, 3, 3, 0, 0, 0, 0, 0, 1, 0, 0, 0, 3, 0, 0, 0, 0, 0, 0, 0, 0, 0, 0, 0, 0, 0, 0, 3, 4, 3, 0, 0, 0, 0, 0, 0, 0, 3, 0, 3, 0, 0, 0, 4, 0, 0, 0, 0, 0, 0, 3, 0, 0, 0, 0, 0, 3, 0, 0, 0, 0, 0, 0, 0, 0, 0, 0, 0, 0, 0, 0, 0, 0, 0, 3, 0, 0, 0, 0, 0, 0, 0, 0, 0, 2, 0, 0, 0, 0, 0, 0, 3, 0, 0, 0, 0, 3, 0, 0, 0, 0, 0, 3, 3, 3, 0, 0, 0, 0, 0, 0, 0, 4, 3, 0, 0, 0, 0, 0, 0, 0, 0, 0, 3, 0, 0, 3, 0, 0, 0, 3, 3, 3, 0, 0, 3, 0, 0, 0, 0, 0, 0, 0, 0, 0, 0, 4, 4, 0, 0, 0, 0, 0, 0, 0, 0, 0, 2, 0, 0, 0, 0, 0, 0, 0, 0, 0, 0, 4, 3, 0, 0, 0, 3, 0, 0, 0, 0, 3, 0, 0, 0, 0, 0, 0, 4, 0, 0, 0, 0, 0, 0, 0, 1, 0, 0, 3, 2, 3, 0, 0, 0, 0, 0, 3, 0, 0, 1, 0, 3, 0, 0, 0, 0, 0, 0, 0, 3, 0, 0, 0, 3, 3, 0, 0, 0, 0, 0, 0, 0, 0, 0, 0, 0, 0, 0, 3, 0, 0, 0, 0, 0, 0, 0, 4, 0, 0, 0, 0, 0, 0, 0, 0, 0, 3, 0, 1, 0, 0, 0, 0, 0, 0, 0, 0, 0, 0, 0, 3, 0]\n",
      "Lengths:  110 110\n",
      "Ensemble Evaluation (for anomalies)\n",
      "Confusion Matrix:\n",
      "[[ 0  0  0  2  1]\n",
      " [ 0 12  0  0  0]\n",
      " [ 0  0  7  0  0]\n",
      " [ 0  0  0 63  0]\n",
      " [ 0  0  0  0 25]]\n"
     ]
    },
    {
     "data": {
      "image/png": "[encoded data removed]",
      "text/plain": [
       "<Figure size 1500x1000 with 2 Axes>"
      ]
     },
     "metadata": {},
     "output_type": "display_data"
    },
    {
     "name": "stdout",
     "output_type": "stream",
     "text": [
      "\n",
      "Classification Report:\n",
      "{'0': {'precision': 0.0, 'recall': 0.0, 'f1-score': 0.0, 'support': 3.0}, '1': {'precision': 1.0, 'recall': 1.0, 'f1-score': 1.0, 'support': 12.0}, '2': {'precision': 1.0, 'recall': 1.0, 'f1-score': 1.0, 'support': 7.0}, '3': {'precision': 0.9692307692307692, 'recall': 1.0, 'f1-score': 0.9843749999999999, 'support': 63.0}, '4': {'precision': 0.9615384615384616, 'recall': 1.0, 'f1-score': 0.9803921568627451, 'support': 25.0}, 'accuracy': 0.9727272727272728, 'macro avg': {'precision': 0.7861538461538462, 'recall': 0.8, 'f1-score': 0.792953431372549, 'support': 110.0}, 'weighted avg': {'precision': 0.9463636363636363, 'recall': 0.9727272727272728, 'f1-score': 0.9593220811051693, 'support': 110.0}}\n",
      "Accuracy: 0.9727272727272728\n"
     ]
    },
    {
     "name": "stderr",
     "output_type": "stream",
     "text": [
      "/home/brina/miniconda3/envs/gpu/lib/python3.8/site-packages/sklearn/metrics/_classification.py:1471: UndefinedMetricWarning: Precision and F-score are ill-defined and being set to 0.0 in labels with no predicted samples. Use `zero_division` parameter to control this behavior.\n",
      "  _warn_prf(average, modifier, msg_start, len(result))\n",
      "/home/brina/miniconda3/envs/gpu/lib/python3.8/site-packages/sklearn/metrics/_classification.py:1471: UndefinedMetricWarning: Precision and F-score are ill-defined and being set to 0.0 in labels with no predicted samples. Use `zero_division` parameter to control this behavior.\n",
      "  _warn_prf(average, modifier, msg_start, len(result))\n",
      "/home/brina/miniconda3/envs/gpu/lib/python3.8/site-packages/sklearn/metrics/_classification.py:1471: UndefinedMetricWarning: Precision and F-score are ill-defined and being set to 0.0 in labels with no predicted samples. Use `zero_division` parameter to control this behavior.\n",
      "  _warn_prf(average, modifier, msg_start, len(result))\n"
     ]
    },
    {
     "data": {
      "application/vnd.jupyter.widget-view+json": {
       "model_id": "",
       "version_major": 2,
       "version_minor": 0
      },
      "text/plain": [
       "VBox(children=(Label(value='0.005 MB of 0.005 MB uploaded\\r'), FloatProgress(value=0.9751919669226226, max=1.0…"
      ]
     },
     "metadata": {},
     "output_type": "display_data"
    },
    {
     "data": {
      "text/html": [
       "<style>\n",
       "    table.wandb td:nth-child(1) { padding: 0 10px; text-align: left ; width: auto;} td:nth-child(2) {text-align: left ; width: 100%}\n",
       "    .wandb-row { display: flex; flex-direction: row; flex-wrap: wrap; justify-content: flex-start; width: 100% }\n",
       "    .wandb-col { display: flex; flex-direction: column; flex-basis: 100%; flex: 1; padding: 10px; }\n",
       "    </style>\n",
       "<div class=\"wandb-row\"><div class=\"wandb-col\"><h3>Run history:</h3><br/><table class=\"wandb\"><tr><td>Accuracy Score</td><td>▁</td></tr><tr><td>f1-score_avg</td><td>▁</td></tr><tr><td>precision_avg</td><td>▁</td></tr><tr><td>recall_avg</td><td>▁</td></tr></table><br/></div><div class=\"wandb-col\"><h3>Run summary:</h3><br/><table class=\"wandb\"><tr><td>Accuracy Score</td><td>0.97273</td></tr><tr><td>f1-score_avg</td><td>0.95932</td></tr><tr><td>precision_avg</td><td>0.94636</td></tr><tr><td>recall_avg</td><td>0.97273</td></tr></table><br/></div></div>"
      ],
      "text/plain": [
       "<IPython.core.display.HTML object>"
      ]
     },
     "metadata": {},
     "output_type": "display_data"
    },
    {
     "data": {
      "text/html": [
       " View run <strong style=\"color:#cdcd00\">anomalies-ensemble</strong> at: <a href='https://wandb.ai/brinashong/pipeline-cicids-dataset/runs/6rfndaoy' target=\"_blank\">https://wandb.ai/brinashong/pipeline-cicids-dataset/runs/6rfndaoy</a><br/> View job at <a href='https://wandb.ai/brinashong/pipeline-cicids-dataset/jobs/QXJ0aWZhY3RDb2xsZWN0aW9uOjQ3MjY2NTMyMQ==/version_details/v1' target=\"_blank\">https://wandb.ai/brinashong/pipeline-cicids-dataset/jobs/QXJ0aWZhY3RDb2xsZWN0aW9uOjQ3MjY2NTMyMQ==/version_details/v1</a><br/>Synced 6 W&B file(s), 2 media file(s), 2 artifact file(s) and 0 other file(s)"
      ],
      "text/plain": [
       "<IPython.core.display.HTML object>"
      ]
     },
     "metadata": {},
     "output_type": "display_data"
    },
    {
     "data": {
      "text/html": [
       "Find logs at: <code>./wandb/run-20241013_143121-6rfndaoy/logs</code>"
      ],
      "text/plain": [
       "<IPython.core.display.HTML object>"
      ]
     },
     "metadata": {},
     "output_type": "display_data"
    },
    {
     "data": {
      "application/vnd.jupyter.widget-view+json": {
       "model_id": "b630076e84bb43c491c4af699719b029",
       "version_major": 2,
       "version_minor": 0
      },
      "text/plain": [
       "VBox(children=(Label(value='Waiting for wandb.init()...\\r'), FloatProgress(value=0.011113574477753395, max=1.0…"
      ]
     },
     "metadata": {},
     "output_type": "display_data"
    },
    {
     "data": {
      "text/html": [
       "wandb version 0.18.3 is available!  To upgrade, please run:\n",
       " $ pip install wandb --upgrade"
      ],
      "text/plain": [
       "<IPython.core.display.HTML object>"
      ]
     },
     "metadata": {},
     "output_type": "display_data"
    },
    {
     "data": {
      "text/html": [
       "Tracking run with wandb version 0.16.4"
      ],
      "text/plain": [
       "<IPython.core.display.HTML object>"
      ]
     },
     "metadata": {},
     "output_type": "display_data"
    },
    {
     "data": {
      "text/html": [
       "Run data is saved locally in <code>/home/brina/nus-mcomp/sem2/cs5344-big-data-analytics-technology/CS5344_Project/work/wandb/run-20241013_143142-s7heizjj</code>"
      ],
      "text/plain": [
       "<IPython.core.display.HTML object>"
      ]
     },
     "metadata": {},
     "output_type": "display_data"
    },
    {
     "data": {
      "text/html": [
       "Syncing run <strong><a href='https://wandb.ai/brinashong/pipeline-cicids-dataset/runs/s7heizjj' target=\"_blank\">overall-ensemble</a></strong> to <a href='https://wandb.ai/brinashong/pipeline-cicids-dataset' target=\"_blank\">Weights & Biases</a> (<a href='https://wandb.me/run' target=\"_blank\">docs</a>)<br/>"
      ],
      "text/plain": [
       "<IPython.core.display.HTML object>"
      ]
     },
     "metadata": {},
     "output_type": "display_data"
    },
    {
     "data": {
      "text/html": [
       " View project at <a href='https://wandb.ai/brinashong/pipeline-cicids-dataset' target=\"_blank\">https://wandb.ai/brinashong/pipeline-cicids-dataset</a>"
      ],
      "text/plain": [
       "<IPython.core.display.HTML object>"
      ]
     },
     "metadata": {},
     "output_type": "display_data"
    },
    {
     "data": {
      "text/html": [
       " View run at <a href='https://wandb.ai/brinashong/pipeline-cicids-dataset/runs/s7heizjj' target=\"_blank\">https://wandb.ai/brinashong/pipeline-cicids-dataset/runs/s7heizjj</a>"
      ],
      "text/plain": [
       "<IPython.core.display.HTML object>"
      ]
     },
     "metadata": {},
     "output_type": "display_data"
    },
    {
     "name": "stdout",
     "output_type": "stream",
     "text": [
      "Ensemble Evaluation (for all)\n",
      "Confusion Matrix:\n",
      "[[383   0   0   2   1   0]\n",
      " [  0  12   0   0   0   0]\n",
      " [  0   0   7   0   0   0]\n",
      " [  0   0   0  63   0   0]\n",
      " [  0   0   0   0  25   0]\n",
      " [  7   0   0   0   0   0]]\n"
     ]
    },
    {
     "data": {
      "image/png": "[encoded data removed]",
      "text/plain": [
       "<Figure size 1500x1000 with 2 Axes>"
      ]
     },
     "metadata": {},
     "output_type": "display_data"
    },
    {
     "name": "stdout",
     "output_type": "stream",
     "text": [
      "\n",
      "Classification Report:\n",
      "{'0': {'precision': 0.982051282051282, 'recall': 0.9922279792746114, 'f1-score': 0.9871134020618556, 'support': 386.0}, '1': {'precision': 1.0, 'recall': 1.0, 'f1-score': 1.0, 'support': 12.0}, '2': {'precision': 1.0, 'recall': 1.0, 'f1-score': 1.0, 'support': 7.0}, '3': {'precision': 0.9692307692307692, 'recall': 1.0, 'f1-score': 0.9843749999999999, 'support': 63.0}, '4': {'precision': 0.9615384615384616, 'recall': 1.0, 'f1-score': 0.9803921568627451, 'support': 25.0}, '5': {'precision': 0.0, 'recall': 0.0, 'f1-score': 0.0, 'support': 7.0}, 'accuracy': 0.98, 'macro avg': {'precision': 0.8188034188034189, 'recall': 0.8320379965457686, 'f1-score': 0.8253134264874334, 'support': 500.0}, 'weighted avg': {'precision': 0.9663435897435897, 'recall': 0.98, 'f1-score': 0.9731024042348897, 'support': 500.0}}\n",
      "Accuracy: 0.98\n"
     ]
    },
    {
     "name": "stderr",
     "output_type": "stream",
     "text": [
      "/home/brina/miniconda3/envs/gpu/lib/python3.8/site-packages/sklearn/metrics/_classification.py:1471: UndefinedMetricWarning: Precision and F-score are ill-defined and being set to 0.0 in labels with no predicted samples. Use `zero_division` parameter to control this behavior.\n",
      "  _warn_prf(average, modifier, msg_start, len(result))\n",
      "/home/brina/miniconda3/envs/gpu/lib/python3.8/site-packages/sklearn/metrics/_classification.py:1471: UndefinedMetricWarning: Precision and F-score are ill-defined and being set to 0.0 in labels with no predicted samples. Use `zero_division` parameter to control this behavior.\n",
      "  _warn_prf(average, modifier, msg_start, len(result))\n",
      "/home/brina/miniconda3/envs/gpu/lib/python3.8/site-packages/sklearn/metrics/_classification.py:1471: UndefinedMetricWarning: Precision and F-score are ill-defined and being set to 0.0 in labels with no predicted samples. Use `zero_division` parameter to control this behavior.\n",
      "  _warn_prf(average, modifier, msg_start, len(result))\n"
     ]
    },
    {
     "data": {
      "application/vnd.jupyter.widget-view+json": {
       "model_id": "",
       "version_major": 2,
       "version_minor": 0
      },
      "text/plain": [
       "VBox(children=(Label(value='0.005 MB of 0.005 MB uploaded\\r'), FloatProgress(value=0.9692250648869114, max=1.0…"
      ]
     },
     "metadata": {},
     "output_type": "display_data"
    },
    {
     "data": {
      "text/html": [
       "<style>\n",
       "    table.wandb td:nth-child(1) { padding: 0 10px; text-align: left ; width: auto;} td:nth-child(2) {text-align: left ; width: 100%}\n",
       "    .wandb-row { display: flex; flex-direction: row; flex-wrap: wrap; justify-content: flex-start; width: 100% }\n",
       "    .wandb-col { display: flex; flex-direction: column; flex-basis: 100%; flex: 1; padding: 10px; }\n",
       "    </style>\n",
       "<div class=\"wandb-row\"><div class=\"wandb-col\"><h3>Run history:</h3><br/><table class=\"wandb\"><tr><td>Accuracy Score</td><td>▁</td></tr><tr><td>f1-score_avg</td><td>▁</td></tr><tr><td>precision_avg</td><td>▁</td></tr><tr><td>recall_avg</td><td>▁</td></tr></table><br/></div><div class=\"wandb-col\"><h3>Run summary:</h3><br/><table class=\"wandb\"><tr><td>Accuracy Score</td><td>0.98</td></tr><tr><td>f1-score_avg</td><td>0.9731</td></tr><tr><td>precision_avg</td><td>0.96634</td></tr><tr><td>recall_avg</td><td>0.98</td></tr></table><br/></div></div>"
      ],
      "text/plain": [
       "<IPython.core.display.HTML object>"
      ]
     },
     "metadata": {},
     "output_type": "display_data"
    },
    {
     "data": {
      "text/html": [
       " View run <strong style=\"color:#cdcd00\">overall-ensemble</strong> at: <a href='https://wandb.ai/brinashong/pipeline-cicids-dataset/runs/s7heizjj' target=\"_blank\">https://wandb.ai/brinashong/pipeline-cicids-dataset/runs/s7heizjj</a><br/> View job at <a href='https://wandb.ai/brinashong/pipeline-cicids-dataset/jobs/QXJ0aWZhY3RDb2xsZWN0aW9uOjQ3MjY2NTMyMQ==/version_details/v1' target=\"_blank\">https://wandb.ai/brinashong/pipeline-cicids-dataset/jobs/QXJ0aWZhY3RDb2xsZWN0aW9uOjQ3MjY2NTMyMQ==/version_details/v1</a><br/>Synced 6 W&B file(s), 2 media file(s), 2 artifact file(s) and 0 other file(s)"
      ],
      "text/plain": [
       "<IPython.core.display.HTML object>"
      ]
     },
     "metadata": {},
     "output_type": "display_data"
    },
    {
     "data": {
      "text/html": [
       "Find logs at: <code>./wandb/run-20241013_143142-s7heizjj/logs</code>"
      ],
      "text/plain": [
       "<IPython.core.display.HTML object>"
      ]
     },
     "metadata": {},
     "output_type": "display_data"
    }
   ],
   "source": [
    "wandb.init(project=\"pipeline-cicids-dataset\", name=\"anomalies-ensemble\")\n",
    "\n",
    "# Now evaluate ensemble predictions only for the anomalies detected by KNN\n",
    "# Create a mask for test instances that KNN classified as anomalies\n",
    "anomaly_mask = knn_predictions != NORMAL_TARGET  # Assuming normal_target is your normal class\n",
    "print('anomaly_mask', len(anomaly_mask))\n",
    "\n",
    "# Get true labels and predictions for anomalies\n",
    "ensemble_predictions_actual = [t[1] for t in ensemble_predictions]\n",
    "print(ensemble_predictions_actual)\n",
    "ensemble_predictions_actual_df = pd.DataFrame(ensemble_predictions_actual, columns=[TARGET_COLUMN])\n",
    "y_test_anomalies_df = y_test_df[anomaly_mask]\n",
    "ensemble_predictions_anomalies_df = ensemble_predictions_actual_df[anomaly_mask]\n",
    "print('Lengths: ', len(y_test_anomalies_df), len(ensemble_predictions_anomalies_df))\n",
    "\n",
    "# Evaluate ensemble only on the anomalies\n",
    "conf_matrix, class_report, acc_score = evaluate(y_test_anomalies_df, ensemble_predictions_anomalies_df, heading='Ensemble Evaluation (for anomalies)')\n",
    "wandb_log(conf_matrix, class_report, acc_score)\n",
    "wandb.finish()\n",
    "\n",
    "# Evaluate ensemble on all test data\n",
    "wandb.init(project=\"pipeline-cicids-dataset\", name=\"overall-ensemble\")\n",
    "conf_matrix, class_report, acc_score = evaluate(y_test_df, ensemble_predictions_actual_df, heading='Ensemble Evaluation (for all)')\n",
    "wandb_log(conf_matrix, class_report, acc_score)\n",
    "wandb.finish()"
   ]
  },
  {
   "cell_type": "code",
   "execution_count": null,
   "metadata": {},
   "outputs": [],
   "source": []
  }
 ],
 "metadata": {
  "kernelspec": {
   "display_name": "Python 3 (ipykernel)",
   "language": "python",
   "name": "python3"
  },
  "language_info": {
   "codemirror_mode": {
    "name": "ipython",
    "version": 3
   },
   "file_extension": ".py",
   "mimetype": "text/x-python",
   "name": "python",
   "nbconvert_exporter": "python",
   "pygments_lexer": "ipython3",
   "version": "3.8.18"
  }
 },
 "nbformat": 4,
 "nbformat_minor": 4
}
