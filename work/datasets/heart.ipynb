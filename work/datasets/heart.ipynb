{
 "cells": [
  {
   "cell_type": "code",
   "execution_count": null,
   "id": "65477e59-d200-4fc1-a9ad-b399814d11b9",
   "metadata": {},
   "outputs": [],
   "source": [
    "import pandas as pd\n",
    "import sys\n",
    "import os\n",
    "\n",
    "sys.path.append(os.path.abspath(\"..\"))\n",
    "from common import common"
   ]
  },
  {
   "cell_type": "code",
   "execution_count": 73,
   "id": "d1d72e79-71a1-4e69-918f-dfd75defdd67",
   "metadata": {},
   "outputs": [],
   "source": [
    "base_path = common.base_path"
   ]
  },
  {
   "cell_type": "code",
   "execution_count": 74,
   "id": "20c7e10f-2e2c-4edd-8016-cf7f16111a9a",
   "metadata": {},
   "outputs": [],
   "source": [
    "def get_heart_df():\n",
    "    config = {\n",
    "        'NORMAL_TARGET': 0,\n",
    "        'TARGET_COLUMN': 'num',\n",
    "        'TARGET_DICT': {\n",
    "            0: 'Absense',\n",
    "            1: 'Slight Presence',\n",
    "            2: 'Presence',\n",
    "            3: 'Moderate Presence',\n",
    "            4: 'High Presence'\n",
    "        },\n",
    "        'INV_TARGET_DICT': {\n",
    "            'Absense': 0,\n",
    "            'Slight Presence': 1,\n",
    "            'Presence': 2,\n",
    "            'Moderate Presence': 3,\n",
    "            'High Presence': 4\n",
    "        },\n",
    "        \n",
    "        # List of numerical columns (these are to be standardized)\n",
    "        'NUMERICAL_COLUMNS': ['age', 'trestbps', 'chol', 'thalch', 'oldpeak'],\n",
    "        # List of categorical columns (these are to be one hot encoded)\n",
    "        'CATEGORICAL_COLUMNS': ['sex','cp', 'fbs', 'restecg', 'exang'],\n",
    "        # List of ordinal columns (these are to be label encoded)\n",
    "        'ORDINAL_COLUMNS': [],\n",
    "    }\n",
    "    target_column = config['TARGET_COLUMN']\n",
    "    all_df = pd.read_csv(f'{base_path}/datasources/heart/heart_disease_uci.csv')\n",
    "    \n",
    "    # Headers of column\n",
    "    main_labels = all_df.columns\n",
    "    \n",
    "    print('Normal class: ', all_df[target_column].mode())\n",
    "    return (all_df, main_labels, config)"
   ]
  },
  {
   "cell_type": "code",
   "execution_count": null,
   "id": "7b4d161f-1a56-4e2f-ba87-f9e14237a618",
   "metadata": {},
   "outputs": [],
   "source": [
    "def get_processed_heart_df():\n",
    "    all_df, main_labels, config = get_heart_df()\n",
    "    # print('main_labels', main_labels)\n",
    "\n",
    "    # Drop columns\n",
    "    all_df = all_df.drop(['id','dataset'], axis=1)\n",
    "    \n",
    "    # Fill values\n",
    "    median_chol = all_df.loc[all_df['chol']!=0, 'chol'].median()\n",
    "    all_df = all_df.fillna(value={'chol': median_chol})\n",
    "    all_df.loc[all_df['chol']==0, 'chol'] = median_chol \n",
    "\n",
    "    mean_bp = all_df.loc[all_df['trestbps']!=0,'trestbps'].mean()\n",
    "    all_df = all_df.fillna(value={'trestbps': mean_bp})\n",
    "    all_df.loc[all_df['trestbps']==0, 'trestbps'] = mean_bp\n",
    "\n",
    "    mean_hr = all_df.loc[all_df['thalch']!=0,'thalch'].mean()\n",
    "    all_df = all_df.fillna(value={'thalch': mean_hr})\n",
    "    all_df.loc[all_df['thalch']==0, 'thalch'] = mean_hr\n",
    "\n",
    "    mean_peak = all_df.oldpeak.mean()\n",
    "    all_df = all_df.fillna(value={'oldpeak': mean_peak})\n",
    "    all_df.loc[all_df['oldpeak']==0, 'oldpeak'] = mean_peak\n",
    "\n",
    "    all_df.drop(labels=['ca','thal','slope'], axis=1, inplace=True)\n",
    "    all_df = all_df.astype({'sex':'category', 'cp':'category', 'fbs':'bool', 'restecg':'category', 'exang':'bool'})\n",
    "    all_df.dropna(inplace=True)\n",
    "\n",
    "    # One Hot Encoder\n",
    "    ohe, all_df = common.one_hot_encode(all_df, config['CATEGORICAL_COLUMNS'])\n",
    "\n",
    "    main_labels = all_df.columns\n",
    "    # print('main_labels', main_labels)\n",
    "    \n",
    "    return (all_df, main_labels, config)"
   ]
  },
  {
   "cell_type": "code",
   "execution_count": null,
   "id": "12e294a3-9d6b-40dc-bf44-c68fa2c555fd",
   "metadata": {},
   "outputs": [],
   "source": []
  }
 ],
 "metadata": {
  "kernelspec": {
   "display_name": "Python 3 (ipykernel)",
   "language": "python",
   "name": "python3"
  },
  "language_info": {
   "codemirror_mode": {
    "name": "ipython",
    "version": 3
   },
   "file_extension": ".py",
   "mimetype": "text/x-python",
   "name": "python",
   "nbconvert_exporter": "python",
   "pygments_lexer": "ipython3",
   "version": "3.12.6"
  }
 },
 "nbformat": 4,
 "nbformat_minor": 5
}
