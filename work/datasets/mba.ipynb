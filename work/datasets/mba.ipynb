{
 "cells": [
  {
   "cell_type": "code",
   "execution_count": 23,
   "id": "65477e59-d200-4fc1-a9ad-b399814d11b9",
   "metadata": {},
   "outputs": [],
   "source": [
    "import numpy as np\n",
    "import pandas as pd\n",
    "import sys\n",
    "import os\n",
    "from sklearn.datasets import fetch_covtype\n",
    "from sklearn.preprocessing import OneHotEncoder, StandardScaler, LabelEncoder\n",
    "from sklearn.impute import SimpleImputer\n",
    "\n",
    "sys.path.append(os.path.abspath(\"..\"))\n",
    "from common import common"
   ]
  },
  {
   "cell_type": "code",
   "execution_count": 24,
   "id": "d1d72e79-71a1-4e69-918f-dfd75defdd67",
   "metadata": {},
   "outputs": [],
   "source": [
    "base_path = common.base_path"
   ]
  },
  {
   "cell_type": "code",
   "execution_count": 25,
   "id": "20c7e10f-2e2c-4edd-8016-cf7f16111a9a",
   "metadata": {},
   "outputs": [],
   "source": [
    "def get_mba_df():\n",
    "    config = {\n",
    "        'TARGET_COLUMN': 'admission',\n",
    "        # List of numerical columns (these are to be standardized)\n",
    "        'NUMERICAL_COLUMNS': ['gpa', 'gmat', 'work_exp'],\n",
    "        # List of categorical columns (these are to be one hot encoded)\n",
    "        'CATEGORICAL_COLUMNS': [],\n",
    "        # List of ordinal columns (these are to be label encoded)\n",
    "        'ORDINAL_COLUMNS': ['gender', 'international', 'major', 'race', 'work_industry'],\n",
    "    }\n",
    "    target_column = config['TARGET_COLUMN']\n",
    "    all_df = pd.read_csv(f'{base_path}/datasources/mba/MBA.csv')\n",
    "    \n",
    "    # Headers of column\n",
    "    main_labels = all_df.columns\n",
    "    \n",
    "    print('Normal class: ', all_df[target_column].mode())\n",
    "    return (all_df, main_labels, config)"
   ]
  },
  {
   "cell_type": "code",
   "execution_count": 31,
   "id": "7b4d161f-1a56-4e2f-ba87-f9e14237a618",
   "metadata": {},
   "outputs": [],
   "source": [
    "def get_processed_mba_df():\n",
    "    all_df, main_labels, config = get_mba_df()\n",
    "    # print('main_labels', main_labels)\n",
    "    target_column = config['TARGET_COLUMN']\n",
    "\n",
    "    # Preprocess\n",
    "    all_df = all_df.drop('application_id',axis=1)\n",
    "    all_df['race'] = all_df['race'].fillna('Unknown')\n",
    "    all_df['admission'] = all_df['admission'].fillna('Deny')\n",
    "    \n",
    "    # Label Encoder\n",
    "    le, all_df = common.label_encode(all_df, [target_column])\n",
    "    \n",
    "    config['TARGET_DICT'] = {index: label for index, label in enumerate(le.classes_)}\n",
    "    config['INV_TARGET_DICT'] = {v: k for k, v in config['TARGET_DICT'].items()}\n",
    "    print('TARGET_DICT', config['TARGET_DICT'])\n",
    "    le, all_df = common.label_encode(all_df, config['ORDINAL_COLUMNS'])\n",
    "    \n",
    "    config['NORMAL_TARGET'] = config['INV_TARGET_DICT']['Deny']\n",
    "    print('NORMAL_TARGET', config['NORMAL_TARGET'])\n",
    "\n",
    "    # One Hot Encoder\n",
    "    ohe, all_df = common.one_hot_encode(all_df, config['CATEGORICAL_COLUMNS'])\n",
    "    \n",
    "    main_labels = list(all_df.columns)\n",
    "    print('main_labels', main_labels)\n",
    "    \n",
    "    return (all_df, main_labels, config)"
   ]
  },
  {
   "cell_type": "code",
   "execution_count": null,
   "id": "305891c0-7588-45da-a160-39e0366f032d",
   "metadata": {},
   "outputs": [],
   "source": []
  }
 ],
 "metadata": {
  "kernelspec": {
   "display_name": "Python 3 (ipykernel)",
   "language": "python",
   "name": "python3"
  },
  "language_info": {
   "codemirror_mode": {
    "name": "ipython",
    "version": 3
   },
   "file_extension": ".py",
   "mimetype": "text/x-python",
   "name": "python",
   "nbconvert_exporter": "python",
   "pygments_lexer": "ipython3",
   "version": "3.12.6"
  }
 },
 "nbformat": 4,
 "nbformat_minor": 5
}
