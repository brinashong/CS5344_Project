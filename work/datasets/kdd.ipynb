{
 "cells": [
  {
   "cell_type": "code",
   "execution_count": 9,
   "id": "edbbb7c5-c4dd-45cc-afe7-0b1a640c5286",
   "metadata": {},
   "outputs": [],
   "source": [
    "import numpy as np\n",
    "import pandas as pd\n",
    "import os\n",
    "import sys\n",
    "from sklearn.datasets import fetch_covtype\n",
    "from sklearn.preprocessing import OneHotEncoder, StandardScaler, LabelEncoder\n",
    "\n",
    "sys.path.append(os.path.abspath(\"..\"))\n",
    "from common import common"
   ]
  },
  {
   "cell_type": "code",
   "execution_count": 10,
   "id": "e87af493-6624-4ee6-ac90-c4f88c39080f",
   "metadata": {},
   "outputs": [],
   "source": [
    "base_path = common.base_path"
   ]
  },
  {
   "cell_type": "code",
   "execution_count": 11,
   "id": "77789581-43da-40f7-a0c3-43cfeb70ff73",
   "metadata": {},
   "outputs": [],
   "source": [
    "def get_kdd_df():\n",
    "    config = {\n",
    "        'TARGET_COLUMN': 'attack',\n",
    "    \n",
    "        # List of numerical columns (these are to be standardized)\n",
    "        'NUMERICAL_COLUMNS': ['duration', 'src_bytes', 'dst_bytes',\n",
    "                             'wrong_fragment', 'urgent', 'hot', 'num_failed_logins', 'num_compromised', \n",
    "                             'root_shell', 'su_attempted', 'num_file_creations', 'num_shells', 'num_access_files', \n",
    "                             'num_outbound_cmds', 'count', 'srv_count', 'serror_rate', \n",
    "                             'rerror_rate', 'same_srv_rate', 'diff_srv_rate', 'srv_diff_host_rate', 'dst_host_count', \n",
    "                             'dst_host_srv_count', 'dst_host_diff_srv_rate', 'dst_host_same_src_port_rate', 'dst_host_srv_diff_host_rate'],\n",
    "        # List of categorical columns (these are to be one hot encoded)\n",
    "        'CATEGORICAL_COLUMNS': ['protocol_type', 'service', 'flag'],\n",
    "        # List of ordinal columns (these are to be label encoded)\n",
    "        'ORDINAL_COLUMNS': [],\n",
    "    }\n",
    "    target_column = config['TARGET_COLUMN']\n",
    "    \n",
    "    cols = open(f\"{base_path}/datasources/kdd/kddcup.names\",'r').read()\n",
    "    cols = [c[:c.index(':')] for c in cols.split('\\n')[1:-1]]\n",
    "    cols.append('attack')\n",
    "    \n",
    "    all_df = pd.read_csv(f\"{base_path}/datasources/kdd/corrected\", names = cols)\n",
    "    \n",
    "    main_labels = cols\n",
    "    \n",
    "    print('Normal class: ', all_df[target_column].mode())\n",
    "    return (all_df, main_labels, config)"
   ]
  },
  {
   "cell_type": "code",
   "execution_count": 27,
   "id": "09994b62-b024-4eaa-ba7f-693bae1ca905",
   "metadata": {},
   "outputs": [],
   "source": [
    "def get_processed_kdd_df():\n",
    "    all_df, main_labels, config = get_kdd_df()\n",
    "    # print('main_labels', main_labels)\n",
    "    target_column = config['TARGET_COLUMN']\n",
    "    \n",
    "    # Label Encoder\n",
    "    all_df[target_column] = all_df[target_column].str[:-1]\n",
    "    le, all_df = common.label_encode(all_df, [target_column])\n",
    "    \n",
    "    config['TARGET_DICT'] = {index: label for index, label in enumerate(le.classes_)}\n",
    "    config['INV_TARGET_DICT'] = {v: k for k, v in config['TARGET_DICT'].items()}\n",
    "    print('TARGET_DICT', config['TARGET_DICT'])\n",
    "    \n",
    "    config['NORMAL_TARGET'] = config['INV_TARGET_DICT']['normal']\n",
    "    print('NORMAL_TARGET', config['NORMAL_TARGET'])\n",
    "\n",
    "    # One Hot Encoder\n",
    "    ohe, all_df = common.one_hot_encode(all_df, config['CATEGORICAL_COLUMNS'])\n",
    "    \n",
    "    main_labels = list(all_df.columns)\n",
    "    print('main_labels', main_labels)\n",
    "    \n",
    "    return (all_df, main_labels, config)"
   ]
  },
  {
   "cell_type": "code",
   "execution_count": null,
   "id": "d16e8b62-44b0-482b-a058-752434c39af2",
   "metadata": {},
   "outputs": [],
   "source": []
  }
 ],
 "metadata": {
  "kernelspec": {
   "display_name": "Python 3 (ipykernel)",
   "language": "python",
   "name": "python3"
  },
  "language_info": {
   "codemirror_mode": {
    "name": "ipython",
    "version": 3
   },
   "file_extension": ".py",
   "mimetype": "text/x-python",
   "name": "python",
   "nbconvert_exporter": "python",
   "pygments_lexer": "ipython3",
   "version": "3.12.6"
  }
 },
 "nbformat": 4,
 "nbformat_minor": 5
}
