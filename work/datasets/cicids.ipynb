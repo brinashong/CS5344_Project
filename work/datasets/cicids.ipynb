{
 "cells": [
  {
   "cell_type": "code",
   "execution_count": 2,
   "id": "65477e59-d200-4fc1-a9ad-b399814d11b9",
   "metadata": {},
   "outputs": [],
   "source": [
    "import numpy as np\n",
    "import pandas as pd\n",
    "import sys\n",
    "import os\n",
    "from sklearn.datasets import fetch_covtype\n",
    "from sklearn.preprocessing import OneHotEncoder, StandardScaler, LabelEncoder\n",
    "\n",
    "sys.path.append(os.path.abspath(\"..\"))\n",
    "from common import common"
   ]
  },
  {
   "cell_type": "code",
   "execution_count": 3,
   "id": "d1d72e79-71a1-4e69-918f-dfd75defdd67",
   "metadata": {},
   "outputs": [],
   "source": [
    "base_path = common.base_path"
   ]
  },
  {
   "cell_type": "code",
   "execution_count": 4,
   "id": "20c7e10f-2e2c-4edd-8016-cf7f16111a9a",
   "metadata": {},
   "outputs": [],
   "source": [
    "def get_cicids_df():\n",
    "    config = {\n",
    "        'TARGET_COLUMN': 'ClassLabel',\n",
    "        \n",
    "        # List of numerical columns (these are to be standardized)\n",
    "        'NUMERICAL_COLUMNS': ['Flow Duration', 'Total Fwd Packets', 'Total Backward Packets',\n",
    "               'Fwd Packets Length Total', 'Bwd Packets Length Total',\n",
    "               'Fwd Packet Length Max', 'Fwd Packet Length Mean',\n",
    "               'Fwd Packet Length Std', 'Bwd Packet Length Max',\n",
    "               'Bwd Packet Length Mean', 'Bwd Packet Length Std', 'Flow Bytes/s',\n",
    "               'Flow Packets/s', 'Flow IAT Mean', 'Flow IAT Std', 'Flow IAT Max',\n",
    "               'Flow IAT Min', 'Fwd IAT Total', 'Fwd IAT Mean', 'Fwd IAT Std',\n",
    "               'Fwd IAT Max', 'Fwd IAT Min', 'Bwd IAT Total', 'Bwd IAT Mean',\n",
    "               'Bwd IAT Std', 'Bwd IAT Max', 'Bwd IAT Min', 'Fwd PSH Flags',\n",
    "               'Fwd Header Length', 'Bwd Header Length', 'Fwd Packets/s',\n",
    "               'Bwd Packets/s', 'Packet Length Max', 'Packet Length Mean',\n",
    "               'Packet Length Std', 'Packet Length Variance', 'Avg Packet Size', 'Avg Fwd Segment Size',\n",
    "               'Avg Bwd Segment Size', 'Subflow Fwd Packets', 'Subflow Fwd Bytes',\n",
    "               'Subflow Bwd Packets', 'Subflow Bwd Bytes', 'Init Fwd Win Bytes',\n",
    "               'Init Bwd Win Bytes', 'Fwd Act Data Packets', 'Fwd Seg Size Min',\n",
    "               'Active Mean', 'Active Std', 'Active Max', 'Active Min', 'Idle Mean',\n",
    "               'Idle Std', 'Idle Max', 'Idle Min'],\n",
    "        # List of categorical columns (these are to be one hot encoded)\n",
    "        'CATEGORICAL_COLUMNS': [],\n",
    "        # List of ordinal columns (these are to be label encoded)\n",
    "        'ORDINAL_COLUMNS': [],\n",
    "    }\n",
    "    target_column = config['TARGET_COLUMN']\n",
    "    all_df = pd.read_csv(f'{base_path}/datasources/cicids/cic-collection-sample.csv')\n",
    "    \n",
    "    # Headers of column\n",
    "    main_labels = all_df.columns\n",
    "    \n",
    "    print('Normal class: ', all_df[target_column].mode())\n",
    "    return (all_df, main_labels, config)"
   ]
  },
  {
   "cell_type": "code",
   "execution_count": 5,
   "id": "7b4d161f-1a56-4e2f-ba87-f9e14237a618",
   "metadata": {},
   "outputs": [],
   "source": [
    "def get_processed_cicids_df():\n",
    "    all_df, main_labels, config = get_cicids_df()\n",
    "    # print('main_labels', main_labels)\n",
    "    target_column = config['TARGET_COLUMN']\n",
    "\n",
    "    # Drop columns\n",
    "    all_df = all_df.drop(columns='Label')\n",
    "    all_df = all_df.loc[:, ~all_df.columns.str.contains('^Unnamed')]\n",
    "    \n",
    "    # Label Encoder\n",
    "    le, all_df = common.label_encode(all_df, [target_column])\n",
    "    \n",
    "    config['TARGET_DICT'] = {index: label for index, label in enumerate(le.classes_)}\n",
    "    config['INV_TARGET_DICT'] = {v: k for k, v in config['TARGET_DICT'].items()}\n",
    "    print('TARGET_DICT', config['TARGET_DICT'])\n",
    "    \n",
    "    config['NORMAL_TARGET'] = config['INV_TARGET_DICT']['Benign']\n",
    "    print('NORMAL_TARGET', config['NORMAL_TARGET'])\n",
    "\n",
    "    main_labels = all_df.columns\n",
    "    print('main_labels', main_labels)\n",
    "    \n",
    "    return (all_df, main_labels, config)"
   ]
  },
  {
   "cell_type": "code",
   "execution_count": null,
   "id": "3d60fb62-a26f-4211-b668-ba485290d845",
   "metadata": {},
   "outputs": [],
   "source": []
  }
 ],
 "metadata": {
  "kernelspec": {
   "display_name": "Python 3 (ipykernel)",
   "language": "python",
   "name": "python3"
  },
  "language_info": {
   "codemirror_mode": {
    "name": "ipython",
    "version": 3
   },
   "file_extension": ".py",
   "mimetype": "text/x-python",
   "name": "python",
   "nbconvert_exporter": "python",
   "pygments_lexer": "ipython3",
   "version": "3.12.6"
  }
 },
 "nbformat": 4,
 "nbformat_minor": 5
}
