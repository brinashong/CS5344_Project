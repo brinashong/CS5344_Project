{
 "cells": [
  {
   "cell_type": "code",
   "execution_count": 4,
   "id": "65477e59-d200-4fc1-a9ad-b399814d11b9",
   "metadata": {},
   "outputs": [],
   "source": [
    "import numpy as np\n",
    "import pandas as pd\n",
    "import sys\n",
    "import os\n",
    "from sklearn.datasets import fetch_covtype\n",
    "from sklearn.preprocessing import OneHotEncoder, StandardScaler, LabelEncoder\n",
    "from sklearn.impute import SimpleImputer\n",
    "from sklearn.pipeline import Pipeline\n",
    "from sklearn.compose import ColumnTransformer\n",
    "\n",
    "sys.path.append(os.path.abspath(\"..\"))\n",
    "from common import common"
   ]
  },
  {
   "cell_type": "code",
   "execution_count": 5,
   "id": "d1d72e79-71a1-4e69-918f-dfd75defdd67",
   "metadata": {},
   "outputs": [],
   "source": [
    "base_path = common.base_path"
   ]
  },
  {
   "cell_type": "code",
   "execution_count": 6,
   "id": "20c7e10f-2e2c-4edd-8016-cf7f16111a9a",
   "metadata": {},
   "outputs": [],
   "source": [
    "def get_tii_ssrc_df():\n",
    "    config = {\n",
    "        'TARGET_COLUMN': 'Traffic Type',\n",
    "        # List of numerical columns (these are to be standardized)\n",
    "        'NUMERICAL_COLUMNS': [],\n",
    "        # List of categorical columns (these are to be one hot encoded)\n",
    "        'CATEGORICAL_COLUMNS': [],\n",
    "        # List of ordinal columns (these are to be label encoded)\n",
    "        'ORDINAL_COLUMNS': [],\n",
    "    }\n",
    "    target_column = config['TARGET_COLUMN']\n",
    "    all_df = pd.read_csv(f'{base_path}/datasources/tii-ssrc/sampled_data.csv')\n",
    "    \n",
    "    # Headers of column\n",
    "    main_labels = all_df.columns\n",
    "    \n",
    "    print('Normal class: ', all_df[target_column].mode())\n",
    "    return (all_df, main_labels, config)"
   ]
  },
  {
   "cell_type": "code",
   "execution_count": 9,
   "id": "7b4d161f-1a56-4e2f-ba87-f9e14237a618",
   "metadata": {},
   "outputs": [],
   "source": [
    "def get_processed_tii_ssrc_df():\n",
    "    all_df, main_labels, config = get_tii_ssrc_df()\n",
    "    # print('main_labels', main_labels)\n",
    "    target_column = config['TARGET_COLUMN']\n",
    "\n",
    "    # Preprocess\n",
    "    DROP_COLUMNS = ['Flow ID', 'Src IP', 'Src Port', 'Dst IP', 'Dst Port', 'Timestamp']\n",
    "    all_df = all_df.drop(columns=DROP_COLUMNS)\n",
    "    \n",
    "    # Filter out duplicates within the same target\n",
    "    all_df = all_df.round(3)\n",
    "    all_df = all_df.drop_duplicates()\n",
    "    all_df = all_df.drop(columns=['Label', 'Traffic Subtype'])\n",
    "\n",
    "    numerical_cols = all_df.select_dtypes(include=[np.number]).columns.to_list()\n",
    "    numerical_cols.remove('Protocol')\n",
    "    print('numerical_cols', numerical_cols)\n",
    "    categorical_cols = all_df.select_dtypes(include=[object]).columns.to_list()\n",
    "    categorical_cols.append('Protocol')\n",
    "    print('categorical_cols', categorical_cols)\n",
    "    \n",
    "    # Pipelines for Numerical and Categorical Data Transformations\n",
    "    numerical_transformer = Pipeline(steps=[\n",
    "        ('imputer', SimpleImputer(strategy='mean')),\n",
    "        ('scaler', StandardScaler())\n",
    "    ])\n",
    "    \n",
    "    categorical_transformer = Pipeline(steps=[\n",
    "        ('imputer', SimpleImputer(strategy='most_frequent')),\n",
    "        ('onehot', OneHotEncoder(handle_unknown='ignore'))\n",
    "    ])\n",
    "    \n",
    "    # Column Transformer combining both pipelines\n",
    "    preprocessor = ColumnTransformer(\n",
    "        transformers=[\n",
    "            ('num', numerical_transformer, numerical_cols),\n",
    "            ('cat', categorical_transformer, categorical_cols)\n",
    "        ]\n",
    "    )\n",
    "    \n",
    "    # Apply preprocessor to train and test data\n",
    "    preprocessor.fit(all_df)\n",
    "\n",
    "    # Label Encoder\n",
    "    le, all_df = common.label_encode(all_df, [target_column])\n",
    "    \n",
    "    config['TARGET_DICT'] = {index: label for index, label in enumerate(le.classes_)}\n",
    "    config['INV_TARGET_DICT'] = {v: k for k, v in config['TARGET_DICT'].items()}\n",
    "    print('TARGET_DICT', config['TARGET_DICT'])\n",
    "    le, all_df = common.label_encode(all_df, config['ORDINAL_COLUMNS'])\n",
    "    \n",
    "    config['NORMAL_TARGET'] = config['INV_TARGET_DICT']['Bruteforce']\n",
    "    print('NORMAL_TARGET', config['NORMAL_TARGET'])\n",
    "\n",
    "    # One Hot Encoder\n",
    "    ohe, all_df = common.one_hot_encode(all_df, config['CATEGORICAL_COLUMNS'])\n",
    "    \n",
    "    main_labels = list(all_df.columns)\n",
    "    print('main_labels', main_labels)\n",
    "    \n",
    "    return (all_df, main_labels, config)"
   ]
  },
  {
   "cell_type": "code",
   "execution_count": 10,
   "id": "6fb42bfc-5daa-423c-be58-a8de304eefd7",
   "metadata": {},
   "outputs": [
    {
     "name": "stdout",
     "output_type": "stream",
     "text": [
      "Normal class:  0    DoS\n",
      "Name: Traffic Type, dtype: object\n",
      "numerical_cols ['Flow Duration', 'Total Fwd Packet', 'Total Bwd packets', 'Total Length of Fwd Packet', 'Total Length of Bwd Packet', 'Fwd Packet Length Max', 'Fwd Packet Length Min', 'Fwd Packet Length Mean', 'Fwd Packet Length Std', 'Bwd Packet Length Max', 'Bwd Packet Length Min', 'Bwd Packet Length Mean', 'Bwd Packet Length Std', 'Flow Bytes/s', 'Flow Packets/s', 'Flow IAT Mean', 'Flow IAT Std', 'Flow IAT Max', 'Flow IAT Min', 'Fwd IAT Total', 'Fwd IAT Mean', 'Fwd IAT Std', 'Fwd IAT Max', 'Fwd IAT Min', 'Bwd IAT Total', 'Bwd IAT Mean', 'Bwd IAT Std', 'Bwd IAT Max', 'Bwd IAT Min', 'Fwd PSH Flags', 'Bwd PSH Flags', 'Fwd URG Flags', 'Bwd URG Flags', 'Fwd Header Length', 'Bwd Header Length', 'Fwd Packets/s', 'Bwd Packets/s', 'Packet Length Min', 'Packet Length Max', 'Packet Length Mean', 'Packet Length Std', 'Packet Length Variance', 'FIN Flag Count', 'SYN Flag Count', 'RST Flag Count', 'PSH Flag Count', 'ACK Flag Count', 'URG Flag Count', 'CWR Flag Count', 'ECE Flag Count', 'Down/Up Ratio', 'Average Packet Size', 'Fwd Segment Size Avg', 'Bwd Segment Size Avg', 'Fwd Bytes/Bulk Avg', 'Fwd Packet/Bulk Avg', 'Fwd Bulk Rate Avg', 'Bwd Bytes/Bulk Avg', 'Bwd Packet/Bulk Avg', 'Bwd Bulk Rate Avg', 'Subflow Fwd Packets', 'Subflow Fwd Bytes', 'Subflow Bwd Packets', 'Subflow Bwd Bytes', 'FWD Init Win Bytes', 'Bwd Init Win Bytes', 'Fwd Act Data Pkts', 'Fwd Seg Size Min', 'Active Mean', 'Active Std', 'Active Max', 'Active Min', 'Idle Mean', 'Idle Std', 'Idle Max', 'Idle Min']\n",
      "categorical_cols ['Traffic Type', 'Protocol']\n",
      "TARGET_DICT {0: 'Audio', 1: 'Background', 2: 'Bruteforce', 3: 'DoS', 4: 'Information Gathering', 5: 'Mirai', 6: 'Text', 7: 'Video'}\n"
     ]
    },
    {
     "ename": "KeyError",
     "evalue": "'Deny'",
     "output_type": "error",
     "traceback": [
      "\u001b[0;31m---------------------------------------------------------------------------\u001b[0m",
      "\u001b[0;31mKeyError\u001b[0m                                  Traceback (most recent call last)",
      "Cell \u001b[0;32mIn[10], line 1\u001b[0m\n\u001b[0;32m----> 1\u001b[0m df,m,c\u001b[38;5;241m=\u001b[39m\u001b[43mget_processed_tii_ssrc_df\u001b[49m\u001b[43m(\u001b[49m\u001b[43m)\u001b[49m\n",
      "Cell \u001b[0;32mIn[9], line 52\u001b[0m, in \u001b[0;36mget_processed_tii_ssrc_df\u001b[0;34m()\u001b[0m\n\u001b[1;32m     49\u001b[0m \u001b[38;5;28mprint\u001b[39m(\u001b[38;5;124m'\u001b[39m\u001b[38;5;124mTARGET_DICT\u001b[39m\u001b[38;5;124m'\u001b[39m, config[\u001b[38;5;124m'\u001b[39m\u001b[38;5;124mTARGET_DICT\u001b[39m\u001b[38;5;124m'\u001b[39m])\n\u001b[1;32m     50\u001b[0m le, all_df \u001b[38;5;241m=\u001b[39m common\u001b[38;5;241m.\u001b[39mlabel_encode(all_df, config[\u001b[38;5;124m'\u001b[39m\u001b[38;5;124mORDINAL_COLUMNS\u001b[39m\u001b[38;5;124m'\u001b[39m])\n\u001b[0;32m---> 52\u001b[0m config[\u001b[38;5;124m'\u001b[39m\u001b[38;5;124mNORMAL_TARGET\u001b[39m\u001b[38;5;124m'\u001b[39m] \u001b[38;5;241m=\u001b[39m \u001b[43mconfig\u001b[49m\u001b[43m[\u001b[49m\u001b[38;5;124;43m'\u001b[39;49m\u001b[38;5;124;43mINV_TARGET_DICT\u001b[39;49m\u001b[38;5;124;43m'\u001b[39;49m\u001b[43m]\u001b[49m\u001b[43m[\u001b[49m\u001b[38;5;124;43m'\u001b[39;49m\u001b[38;5;124;43mDeny\u001b[39;49m\u001b[38;5;124;43m'\u001b[39;49m\u001b[43m]\u001b[49m\n\u001b[1;32m     53\u001b[0m \u001b[38;5;28mprint\u001b[39m(\u001b[38;5;124m'\u001b[39m\u001b[38;5;124mNORMAL_TARGET\u001b[39m\u001b[38;5;124m'\u001b[39m, config[\u001b[38;5;124m'\u001b[39m\u001b[38;5;124mNORMAL_TARGET\u001b[39m\u001b[38;5;124m'\u001b[39m])\n\u001b[1;32m     55\u001b[0m \u001b[38;5;66;03m# One Hot Encoder\u001b[39;00m\n",
      "\u001b[0;31mKeyError\u001b[0m: 'Deny'"
     ]
    }
   ],
   "source": [
    "df,m,c=get_processed_tii_ssrc_df()"
   ]
  },
  {
   "cell_type": "code",
   "execution_count": null,
   "id": "c30d2126-6c4f-40c4-82e3-706df6f35fa6",
   "metadata": {},
   "outputs": [],
   "source": []
  }
 ],
 "metadata": {
  "kernelspec": {
   "display_name": "Python 3 (ipykernel)",
   "language": "python",
   "name": "python3"
  },
  "language_info": {
   "codemirror_mode": {
    "name": "ipython",
    "version": 3
   },
   "file_extension": ".py",
   "mimetype": "text/x-python",
   "name": "python",
   "nbconvert_exporter": "python",
   "pygments_lexer": "ipython3",
   "version": "3.12.6"
  }
 },
 "nbformat": 4,
 "nbformat_minor": 5
}
