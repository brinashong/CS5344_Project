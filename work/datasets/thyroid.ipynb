{
 "cells": [
  {
   "cell_type": "code",
   "execution_count": 29,
   "id": "65477e59-d200-4fc1-a9ad-b399814d11b9",
   "metadata": {},
   "outputs": [],
   "source": [
    "import numpy as np\n",
    "import pandas as pd\n",
    "import sys\n",
    "import os\n",
    "from sklearn.datasets import fetch_covtype\n",
    "from sklearn.preprocessing import OneHotEncoder, StandardScaler, LabelEncoder\n",
    "\n",
    "sys.path.append(os.path.abspath(\"..\"))\n",
    "from common import common"
   ]
  },
  {
   "cell_type": "code",
   "execution_count": 30,
   "id": "d1d72e79-71a1-4e69-918f-dfd75defdd67",
   "metadata": {},
   "outputs": [],
   "source": [
    "base_path = '/Users/suyeetan/Downloads/CS5344_Project/work/'"
   ]
  },
  {
   "cell_type": "code",
   "execution_count": 31,
   "id": "20c7e10f-2e2c-4edd-8016-cf7f16111a9a",
   "metadata": {},
   "outputs": [],
   "source": [
    "def get_thyroid_df():\n",
    "    config = {\n",
    "        'TARGET_COLUMN': 'target',\n",
    "        \n",
    "        # List of numerical columns (these are to be standardized)\n",
    "        'NUMERICAL_COLUMNS': ['age', 'TSH', 'T3', 'TT4', 'T4U', 'FTI', 'TBG'],\n",
    "        # List of categorical columns (these are to be one hot encoded)\n",
    "        'CATEGORICAL_COLUMNS': [],\n",
    "        # List of ordinal columns (these are to be label encoded)\n",
    "        'ORDINAL_COLUMNS': [],\n",
    "    }\n",
    "    target_column = config['TARGET_COLUMN']\n",
    "    all_df = pd.read_csv(f'{base_path}/datasources/thyroid/thyroidDF.csv')\n",
    "    \n",
    "    # Headers of column\n",
    "    main_labels = all_df.columns\n",
    "    \n",
    "    print('Normal class: ', all_df[target_column].mode())\n",
    "    return (all_df, main_labels, config)"
   ]
  },
  {
   "cell_type": "code",
   "execution_count": 39,
   "id": "7b4d161f-1a56-4e2f-ba87-f9e14237a618",
   "metadata": {},
   "outputs": [],
   "source": [
    "def map_column_values(df):\n",
    "    df_mapped = df.copy()\n",
    "    columns = ['sex', 'on_thyroxine', 'query_on_thyroxine', 'on_antithyroid_meds', 'sick', 'pregnant', \n",
    "               'thyroid_surgery', 'I131_treatment', 'query_hypothyroid', 'query_hyperthyroid', \n",
    "               'lithium', 'goitre', 'tumor', 'hypopituitary', 'psych', 'TSH_measured', 'T3_measured', \n",
    "               'TT4_measured', 'T4U_measured', 'FTI_measured', 'TBG_measured', 'referral_source']\n",
    "    for col in columns:\n",
    "        if col == 'sex':\n",
    "            df_mapped['sex'] = df_mapped['sex'].map({'M': 1, 'F': 0})\n",
    "        elif col == 'referral_source':\n",
    "            df_mapped['referral_source'] = df_mapped['referral_source'].map({'SVI': 1, 'other': 0})\n",
    "        else:\n",
    "            df_mapped[col] = df_mapped[col].map({'t': 1, 'f': 0})\n",
    "    return df_mapped\n",
    "\n",
    "def fill_na(df):\n",
    "    df_filled = df.copy()\n",
    "    df_filled['sex'] = df_filled['sex'].fillna(0)\n",
    "    df_filled['referral_source'] = df_filled['referral_source'].fillna(0)\n",
    "    df_filled['TSH'] = df_filled['TSH'].fillna(df_filled['TSH'].mean())\n",
    "    df_filled['T3'] = df_filled['T3'].fillna(df_filled['T3'].mean())\n",
    "    df_filled['TT4'] = df_filled['TT4'].fillna(df_filled['TT4'].mean())\n",
    "    df_filled['T4U'] = df_filled['T4U'].fillna(df_filled['T4U'].mean())\n",
    "    df_filled['FTI'] = df_filled['FTI'].fillna(df_filled['FTI'].mean())\n",
    "    df_filled['TBG'] = df_filled['TBG'].fillna(df_filled['TBG'].mean())\n",
    "    return df_filled\n",
    "\n",
    "def get_processed_thyroid_df():\n",
    "    all_df, main_labels, config = get_thyroid_df()\n",
    "    # print('main_labels', main_labels)\n",
    "    target_column = config['TARGET_COLUMN']\n",
    "\n",
    "    # Drop column\n",
    "    # all_df.dropna(inplace=True)\n",
    "    all_df = all_df.drop(columns='patient_id')\n",
    "\n",
    "    # Map values\n",
    "    all_df[target_column] = all_df[target_column].apply(lambda x:\"None\" if x == \"-\" else x)\n",
    "    all_df = map_column_values(all_df)\n",
    "    all_df = fill_na(all_df)\n",
    "    \n",
    "    # Label Encoder\n",
    "    le, all_df = common.label_encode(all_df, [target_column])\n",
    "\n",
    "    config['TARGET_DICT'] = {index: label for index, label in enumerate(le.classes_)}\n",
    "    config['INV_TARGET_DICT'] = {v: k for k, v in config['TARGET_DICT'].items()}\n",
    "    print('TARGET_DICT', config['TARGET_DICT'])\n",
    "    \n",
    "    config['NORMAL_TARGET'] = config['INV_TARGET_DICT']['None']\n",
    "    print('NORMAL_TARGET', config['NORMAL_TARGET'])\n",
    "\n",
    "    # One Hot Encoder\n",
    "    # ohe, all_df = common.one_hot_encode(all_df, config['CATEGORICAL_COLUMNS'])\n",
    "    \n",
    "    main_labels = all_df.columns\n",
    "    print('main_labels', main_labels)\n",
    "    \n",
    "    return (all_df, main_labels, config)"
   ]
  },
  {
   "cell_type": "code",
   "execution_count": null,
   "id": "0dbfbe95-11c2-43e4-94d5-396b6fdd849e",
   "metadata": {},
   "outputs": [],
   "source": []
  }
 ],
 "metadata": {
  "kernelspec": {
   "display_name": "Python 3 (ipykernel)",
   "language": "python",
   "name": "python3"
  },
  "language_info": {
   "codemirror_mode": {
    "name": "ipython",
    "version": 3
   },
   "file_extension": ".py",
   "mimetype": "text/x-python",
   "name": "python",
   "nbconvert_exporter": "python",
   "pygments_lexer": "ipython3",
   "version": "3.12.6"
  }
 },
 "nbformat": 4,
 "nbformat_minor": 5
}
