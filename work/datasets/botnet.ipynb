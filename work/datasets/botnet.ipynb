{
 "cells": [
  {
   "cell_type": "code",
   "execution_count": 4,
   "id": "65477e59-d200-4fc1-a9ad-b399814d11b9",
   "metadata": {},
   "outputs": [],
   "source": [
    "import numpy as np\n",
    "import pandas as pd\n",
    "import sys\n",
    "import os\n",
    "import re\n",
    "from sklearn.datasets import fetch_covtype\n",
    "from sklearn.preprocessing import OneHotEncoder, StandardScaler, LabelEncoder\n",
    "\n",
    "sys.path.append(os.path.abspath(\"..\"))\n",
    "from common import common"
   ]
  },
  {
   "cell_type": "code",
   "execution_count": 5,
   "id": "d1d72e79-71a1-4e69-918f-dfd75defdd67",
   "metadata": {},
   "outputs": [],
   "source": [
    "base_path = common.base_path"
   ]
  },
  {
   "cell_type": "code",
   "execution_count": 6,
   "id": "20c7e10f-2e2c-4edd-8016-cf7f16111a9a",
   "metadata": {},
   "outputs": [],
   "source": [
    "def get_botnet_df():\n",
    "    config = {\n",
    "        'TARGET_COLUMN': 'category',\n",
    "        \n",
    "        # List of numerical columns (these are to be standardized)\n",
    "        'NUMERICAL_COLUMNS': ['pkSeqID', 'flgs_number', 'proto_number', 'pkts', 'bytes', 'state_number', 'seq', 'spkts', 'dpkts', \n",
    "                              'sbytes', 'dbytes', 'TnBPSrcIP', 'TnBPDstIP', 'TnP_PSrcIP', 'TnP_PDstIP', 'TnP_PerProto', 'TnP_Per_Dport',\n",
    "                              'N_IN_Conn_P_DstIP', 'N_IN_Conn_P_SrcIP', 'Pkts_P_State_P_Protocol_P_DestIP', 'Pkts_P_State_P_Protocol_P_SrcIP', \n",
    "                              'stime', 'ltime', 'dur', 'mean', 'stddev', 'sum', 'min', 'max', 'rate', 'srate', 'drate', \n",
    "                              'AR_P_Proto_P_SrcIP', 'AR_P_Proto_P_DstIP', 'AR_P_Proto_P_Sport', 'AR_P_Proto_P_Dport'],\n",
    "        # List of categorical columns (these are to be one hot encoded)\n",
    "        'CATEGORICAL_COLUMNS': ['flgs', 'proto', 'saddr', 'sport', 'daddr', 'dport', 'state'],\n",
    "        # List of ordinal columns (these are to be label encoded)\n",
    "        'ORDINAL_COLUMNS': [],\n",
    "    }\n",
    "    target_column = config['TARGET_COLUMN']\n",
    "    all_df = pd.DataFrame()\n",
    "    for dirname, _, filenames in os.walk(f'{base_path}/datasources/botnet/'):\n",
    "        for filename in filenames:\n",
    "            if re.match(r'reduced_.*\\.csv$', filename):\n",
    "                print(os.path.join(dirname, filename))\n",
    "                temp_df = pd.read_csv(os.path.join(dirname, filename), low_memory = False)\n",
    "                all_df = pd.concat([all_df, temp_df], axis = 0, ignore_index = True)\n",
    "            \n",
    "    # Headers of column\n",
    "    main_labels = all_df.columns\n",
    "    \n",
    "    print('Normal class: ', all_df[target_column].mode())\n",
    "    return (all_df.sample(50000), main_labels, config)"
   ]
  },
  {
   "cell_type": "code",
   "execution_count": 7,
   "id": "7b4d161f-1a56-4e2f-ba87-f9e14237a618",
   "metadata": {},
   "outputs": [],
   "source": [
    "def get_processed_botnet_df():\n",
    "    all_df, main_labels, config = get_botnet_df()\n",
    "    # print('main_labels', main_labels)\n",
    "    target_column = config['TARGET_COLUMN']\n",
    "    print(all_df.shape)\n",
    "\n",
    "    # Drop column\n",
    "    all_df = all_df.drop(columns='attack')\n",
    "    all_df = all_df.drop(columns='subcategory')\n",
    "\n",
    "    # Label Encoder\n",
    "    le, all_df = common.label_encode(all_df, [target_column])\n",
    "\n",
    "    config['TARGET_DICT'] = {index: label for index, label in enumerate(le.classes_)}\n",
    "    config['INV_TARGET_DICT'] = {v: k for k, v in config['TARGET_DICT'].items()}\n",
    "    print('TARGET_DICT', config['TARGET_DICT'])\n",
    "    \n",
    "    config['NORMAL_TARGET'] = config['INV_TARGET_DICT']['DDoS']\n",
    "    print('NORMAL_TARGET', config['NORMAL_TARGET'])\n",
    "\n",
    "    # One Hot Encoder\n",
    "    print(config)\n",
    "    ohe, all_df = common.one_hot_encode(all_df, config['CATEGORICAL_COLUMNS'])\n",
    "    \n",
    "    main_labels = all_df.columns\n",
    "    print('main_labels', main_labels)\n",
    "    \n",
    "    return (all_df, main_labels, config)"
   ]
  },
  {
   "cell_type": "code",
   "execution_count": null,
   "id": "4597222e-c3e0-4b37-a1f0-3ab0cb3cdff8",
   "metadata": {},
   "outputs": [
    {
     "name": "stdout",
     "output_type": "stream",
     "text": [
      "/Users/suyeetan/Downloads/CS5344_Project/work//datasources/botnet/reduced_data_1.csv\n",
      "/Users/suyeetan/Downloads/CS5344_Project/work//datasources/botnet/reduced_data_2.csv\n",
      "/Users/suyeetan/Downloads/CS5344_Project/work//datasources/botnet/reduced_data_3.csv\n",
      "/Users/suyeetan/Downloads/CS5344_Project/work//datasources/botnet/reduced_data_4.csv\n",
      "Normal class:  0    DDoS\n",
      "Name: category, dtype: object\n",
      "(50000, 46)\n",
      "TARGET_DICT {0: 'DDoS', 1: 'DoS', 2: 'Normal', 3: 'Reconnaissance', 4: 'Theft'}\n",
      "NORMAL_TARGET 0\n",
      "{'TARGET_COLUMN': 'category', 'NUMERICAL_COLUMNS': ['pkSeqID', 'flgs_number', 'proto_number', 'pkts', 'bytes', 'state_number', 'seq', 'spkts', 'dpkts', 'sbytes', 'dbytes', 'TnBPSrcIP', 'TnBPDstIP', 'TnP_PSrcIP', 'TnP_PDstIP', 'TnP_PerProto', 'TnP_Per_Dport', 'N_IN_Conn_P_DstIP', 'N_IN_Conn_P_SrcIP', 'Pkts_P_State_P_Protocol_P_DestIP', 'Pkts_P_State_P_Protocol_P_SrcIP', 'stime', 'ltime', 'dur', 'mean', 'stddev', 'sum', 'min', 'max', 'rate', 'srate', 'drate', 'AR_P_Proto_P_SrcIP', 'AR_P_Proto_P_DstIP', 'AR_P_Proto_P_Sport', 'AR_P_Proto_P_Dport'], 'CATEGORICAL_COLUMNS': ['flgs', 'proto', 'saddr', 'sport', 'daddr', 'dport', 'state'], 'ORDINAL_COLUMNS': [], 'TARGET_DICT': {0: 'DDoS', 1: 'DoS', 2: 'Normal', 3: 'Reconnaissance', 4: 'Theft'}, 'INV_TARGET_DICT': {'DDoS': 0, 'DoS': 1, 'Normal': 2, 'Reconnaissance': 3, 'Theft': 4}, 'NORMAL_TARGET': 0}\n"
     ]
    }
   ],
   "source": [
    "df,m,c = get_processed_botnet_df()"
   ]
  },
  {
   "cell_type": "code",
   "execution_count": null,
   "id": "28f50263-5a8f-4615-981e-f513fc5ca8fd",
   "metadata": {},
   "outputs": [],
   "source": []
  }
 ],
 "metadata": {
  "kernelspec": {
   "display_name": "Python 3 (ipykernel)",
   "language": "python",
   "name": "python3"
  },
  "language_info": {
   "codemirror_mode": {
    "name": "ipython",
    "version": 3
   },
   "file_extension": ".py",
   "mimetype": "text/x-python",
   "name": "python",
   "nbconvert_exporter": "python",
   "pygments_lexer": "ipython3",
   "version": "3.12.6"
  }
 },
 "nbformat": 4,
 "nbformat_minor": 5
}
