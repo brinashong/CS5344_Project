{
 "cells": [
  {
   "cell_type": "code",
   "execution_count": 12,
   "id": "65477e59-d200-4fc1-a9ad-b399814d11b9",
   "metadata": {},
   "outputs": [],
   "source": [
    "import numpy as np\n",
    "import pandas as pd\n",
    "import sys\n",
    "import os\n",
    "from sklearn.datasets import fetch_covtype\n",
    "from sklearn.preprocessing import OneHotEncoder, StandardScaler, LabelEncoder\n",
    "\n",
    "sys.path.append(os.path.abspath(\"..\"))\n",
    "from common import common"
   ]
  },
  {
   "cell_type": "code",
   "execution_count": 13,
   "id": "d1d72e79-71a1-4e69-918f-dfd75defdd67",
   "metadata": {},
   "outputs": [],
   "source": [
    "base_path = common.base_path"
   ]
  },
  {
   "cell_type": "code",
   "execution_count": 14,
   "id": "20c7e10f-2e2c-4edd-8016-cf7f16111a9a",
   "metadata": {},
   "outputs": [],
   "source": [
    "def get_hepatitis_df():\n",
    "    config = {\n",
    "        'TARGET_COLUMN': 'Category',\n",
    "        \n",
    "        # List of numerical columns (these are to be standardized)\n",
    "        'NUMERICAL_COLUMNS': ['Age', 'ALB', 'ALP', 'ALT', 'AST','BIL', 'CHE', 'CHOL', 'CREA', 'GGT', 'PROT'],\n",
    "        # List of categorical columns (these are to be one hot encoded)\n",
    "        'CATEGORICAL_COLUMNS': ['Sex'],\n",
    "        # List of ordinal columns (these are to be label encoded)\n",
    "        'ORDINAL_COLUMNS': [],\n",
    "    }\n",
    "    target_column = config['TARGET_COLUMN']\n",
    "    all_df = pd.read_csv(f'{base_path}/datasources/hepatitis/HepatitisCdata.csv')\n",
    "    \n",
    "    # Headers of column\n",
    "    main_labels = all_df.columns\n",
    "    \n",
    "    print('Normal class: ', all_df[target_column].mode())\n",
    "    return (all_df, main_labels, config)"
   ]
  },
  {
   "cell_type": "code",
   "execution_count": 32,
   "id": "7b4d161f-1a56-4e2f-ba87-f9e14237a618",
   "metadata": {},
   "outputs": [],
   "source": [
    "def get_processed_hepatitis_df():\n",
    "    all_df, main_labels, config = get_hepatitis_df()\n",
    "    # print('main_labels', main_labels)\n",
    "    target_column = config['TARGET_COLUMN']\n",
    "\n",
    "    # Drop column\n",
    "    all_df.drop(['Unnamed: 0'],axis=1,inplace=True)\n",
    "\n",
    "    # Fix missing values\n",
    "    all_df[c['NUMERICAL_COLUMNS']] = all_df[c['NUMERICAL_COLUMNS']].fillna(all_df[c['NUMERICAL_COLUMNS']].median())\n",
    "    \n",
    "    # Label Encoder\n",
    "    le, all_df = common.label_encode(all_df, [target_column])\n",
    "\n",
    "    config['TARGET_DICT'] = {index: label for index, label in enumerate(le.classes_)}\n",
    "    config['INV_TARGET_DICT'] = {v: k for k, v in config['TARGET_DICT'].items()}\n",
    "    print('TARGET_DICT', config['TARGET_DICT'])\n",
    "    \n",
    "    config['NORMAL_TARGET'] = config['INV_TARGET_DICT']['0=Blood Donor']\n",
    "    print('NORMAL_TARGET', config['NORMAL_TARGET'])\n",
    "\n",
    "    # One Hot Encoder\n",
    "    ohe, all_df = common.one_hot_encode(all_df, config['CATEGORICAL_COLUMNS'])\n",
    "    \n",
    "    main_labels = all_df.columns\n",
    "    print('main_labels', main_labels)\n",
    "    \n",
    "    return (all_df, main_labels, config)"
   ]
  },
  {
   "cell_type": "code",
   "execution_count": null,
   "id": "f931de63-4cc4-4f13-9bef-ba1be91b538e",
   "metadata": {},
   "outputs": [],
   "source": []
  }
 ],
 "metadata": {
  "kernelspec": {
   "display_name": "Python 3 (ipykernel)",
   "language": "python",
   "name": "python3"
  },
  "language_info": {
   "codemirror_mode": {
    "name": "ipython",
    "version": 3
   },
   "file_extension": ".py",
   "mimetype": "text/x-python",
   "name": "python",
   "nbconvert_exporter": "python",
   "pygments_lexer": "ipython3",
   "version": "3.12.6"
  }
 },
 "nbformat": 4,
 "nbformat_minor": 5
}
