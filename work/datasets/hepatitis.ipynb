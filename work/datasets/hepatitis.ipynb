{
 "cells": [
  {
   "cell_type": "code",
   "execution_count": 12,
   "id": "65477e59-d200-4fc1-a9ad-b399814d11b9",
   "metadata": {},
   "outputs": [],
   "source": [
    "import numpy as np\n",
    "import pandas as pd\n",
    "import sys\n",
    "import os\n",
    "from sklearn.datasets import fetch_covtype\n",
    "from sklearn.preprocessing import OneHotEncoder, StandardScaler, LabelEncoder\n",
    "\n",
    "sys.path.append(os.path.abspath(\"..\"))\n",
    "from common import common"
   ]
  },
  {
   "cell_type": "code",
   "execution_count": 13,
   "id": "d1d72e79-71a1-4e69-918f-dfd75defdd67",
   "metadata": {},
   "outputs": [],
   "source": [
    "base_path = common.base_path"
   ]
  },
  {
   "cell_type": "code",
   "execution_count": 14,
   "id": "20c7e10f-2e2c-4edd-8016-cf7f16111a9a",
   "metadata": {},
   "outputs": [],
   "source": [
    "def get_hepatitis_df():\n",
    "    config = {\n",
    "        'TARGET_COLUMN': 'Category',\n",
    "        \n",
    "        # List of numerical columns (these are to be standardized)\n",
    "        'NUMERICAL_COLUMNS': ['Age', 'ALB', 'ALP', 'ALT', 'AST','BIL', 'CHE', 'CHOL', 'CREA', 'GGT', 'PROT'],\n",
    "        # List of categorical columns (these are to be one hot encoded)\n",
    "        'CATEGORICAL_COLUMNS': ['Sex'],\n",
    "        # List of ordinal columns (these are to be label encoded)\n",
    "        'ORDINAL_COLUMNS': [],\n",
    "    }\n",
    "    target_column = config['TARGET_COLUMN']\n",
    "    all_df = pd.read_csv(f'{base_path}/datasources/hepatitis/HepatitisCdata.csv')\n",
    "    \n",
    "    # Headers of column\n",
    "    main_labels = all_df.columns\n",
    "    \n",
    "    print('Normal class: ', all_df[target_column].mode())\n",
    "    return (all_df, main_labels, config)"
   ]
  },
  {
   "cell_type": "code",
   "execution_count": 32,
   "id": "7b4d161f-1a56-4e2f-ba87-f9e14237a618",
   "metadata": {},
   "outputs": [],
   "source": [
    "def get_processed_hepatitis_df():\n",
    "    all_df, main_labels, config = get_hepatitis_df()\n",
    "    # print('main_labels', main_labels)\n",
    "    target_column = config['TARGET_COLUMN']\n",
    "\n",
    "    # Drop column\n",
    "    all_df.drop(['Unnamed: 0'],axis=1,inplace=True)\n",
    "\n",
    "    # Fix missing values\n",
    "    all_df[c['NUMERICAL_COLUMNS']] = all_df[c['NUMERICAL_COLUMNS']].fillna(all_df[c['NUMERICAL_COLUMNS']].median())\n",
    "    \n",
    "    # Label Encoder\n",
    "    le, all_df = common.label_encode(all_df, [target_column])\n",
    "\n",
    "    config['TARGET_DICT'] = {index: label for index, label in enumerate(le.classes_)}\n",
    "    config['INV_TARGET_DICT'] = {v: k for k, v in config['TARGET_DICT'].items()}\n",
    "    print('TARGET_DICT', config['TARGET_DICT'])\n",
    "    \n",
    "    config['NORMAL_TARGET'] = config['INV_TARGET_DICT']['0=Blood Donor']\n",
    "    print('NORMAL_TARGET', config['NORMAL_TARGET'])\n",
    "\n",
    "    # One Hot Encoder\n",
    "    ohe, all_df = common.one_hot_encode(all_df, config['CATEGORICAL_COLUMNS'])\n",
    "    \n",
    "    main_labels = all_df.columns\n",
    "    print('main_labels', main_labels)\n",
    "    \n",
    "    return (all_df, main_labels, config)"
   ]
  },
  {
   "cell_type": "code",
   "execution_count": 37,
   "id": "cbe4d3ec-b8ba-4a95-b8d8-266428343a0e",
   "metadata": {},
   "outputs": [
    {
     "name": "stdout",
     "output_type": "stream",
     "text": [
      "Normal class:  0    0=Blood Donor\n",
      "Name: Category, dtype: object\n",
      "TARGET_DICT {0: '0=Blood Donor', 1: '0s=suspect Blood Donor', 2: '1=Hepatitis', 3: '2=Fibrosis', 4: '3=Cirrhosis'}\n",
      "NORMAL_TARGET 0\n",
      "main_labels Index(['Category', 'Age', 'ALB', 'ALP', 'ALT', 'AST', 'BIL', 'CHE', 'CHOL',\n",
      "       'CREA', 'GGT', 'PROT', 'Sex_f', 'Sex_m'],\n",
      "      dtype='object')\n"
     ]
    },
    {
     "data": {
      "text/plain": [
       "(     Category  Age   ALB    ALP    ALT    AST   BIL    CHE  CHOL   CREA  \\\n",
       " 0           0   32  38.5   52.5    7.7   22.1   7.5   6.93  3.23  106.0   \n",
       " 1           0   32  38.5   70.3   18.0   24.7   3.9  11.17  4.80   74.0   \n",
       " 2           0   32  46.9   74.7   36.2   52.6   6.1   8.84  5.20   86.0   \n",
       " 3           0   32  43.2   52.0   30.6   22.6  18.9   7.33  4.74   80.0   \n",
       " 4           0   32  39.2   74.1   32.6   24.8   9.6   9.15  4.32   76.0   \n",
       " ..        ...  ...   ...    ...    ...    ...   ...    ...   ...    ...   \n",
       " 610         4   62  32.0  416.6    5.9  110.3  50.0   5.57  6.30   55.7   \n",
       " 611         4   64  24.0  102.8    2.9   44.4  20.0   1.54  3.02   63.0   \n",
       " 612         4   64  29.0   87.3    3.5   99.0  48.0   1.66  3.63   66.7   \n",
       " 613         4   46  33.0   66.2   39.0   62.0  20.0   3.56  4.20   52.0   \n",
       " 614         4   59  36.0   66.2  100.0   80.0  12.0   9.07  5.30   67.0   \n",
       " \n",
       "        GGT  PROT  Sex_f  Sex_m  \n",
       " 0     12.1  69.0    0.0    1.0  \n",
       " 1     15.6  76.5    0.0    1.0  \n",
       " 2     33.2  79.3    0.0    1.0  \n",
       " 3     33.8  75.7    0.0    1.0  \n",
       " 4     29.9  68.7    0.0    1.0  \n",
       " ..     ...   ...    ...    ...  \n",
       " 610  650.9  68.5    1.0    0.0  \n",
       " 611   35.9  71.3    1.0    0.0  \n",
       " 612   64.2  82.0    1.0    0.0  \n",
       " 613   50.0  71.0    1.0    0.0  \n",
       " 614   34.0  68.0    1.0    0.0  \n",
       " \n",
       " [615 rows x 14 columns],\n",
       " Index(['Category', 'Age', 'ALB', 'ALP', 'ALT', 'AST', 'BIL', 'CHE', 'CHOL',\n",
       "        'CREA', 'GGT', 'PROT', 'Sex_f', 'Sex_m'],\n",
       "       dtype='object'),\n",
       " {'TARGET_COLUMN': 'Category',\n",
       "  'NUMERICAL_COLUMNS': ['Age',\n",
       "   'ALB',\n",
       "   'ALP',\n",
       "   'ALT',\n",
       "   'AST',\n",
       "   'BIL',\n",
       "   'CHE',\n",
       "   'CHOL',\n",
       "   'CREA',\n",
       "   'GGT',\n",
       "   'PROT'],\n",
       "  'CATEGORICAL_COLUMNS': ['Sex'],\n",
       "  'ORDINAL_COLUMNS': [],\n",
       "  'TARGET_DICT': {0: '0=Blood Donor',\n",
       "   1: '0s=suspect Blood Donor',\n",
       "   2: '1=Hepatitis',\n",
       "   3: '2=Fibrosis',\n",
       "   4: '3=Cirrhosis'},\n",
       "  'INV_TARGET_DICT': {'0=Blood Donor': 0,\n",
       "   '0s=suspect Blood Donor': 1,\n",
       "   '1=Hepatitis': 2,\n",
       "   '2=Fibrosis': 3,\n",
       "   '3=Cirrhosis': 4},\n",
       "  'NORMAL_TARGET': 0})"
      ]
     },
     "execution_count": 37,
     "metadata": {},
     "output_type": "execute_result"
    }
   ],
   "source": [
    "get_processed_hepatitis_df()"
   ]
  },
  {
   "cell_type": "code",
   "execution_count": null,
   "id": "f931de63-4cc4-4f13-9bef-ba1be91b538e",
   "metadata": {},
   "outputs": [],
   "source": []
  }
 ],
 "metadata": {
  "kernelspec": {
   "display_name": "Python 3 (ipykernel)",
   "language": "python",
   "name": "python3"
  },
  "language_info": {
   "codemirror_mode": {
    "name": "ipython",
    "version": 3
   },
   "file_extension": ".py",
   "mimetype": "text/x-python",
   "name": "python",
   "nbconvert_exporter": "python",
   "pygments_lexer": "ipython3",
   "version": "3.12.6"
  }
 },
 "nbformat": 4,
 "nbformat_minor": 5
}
