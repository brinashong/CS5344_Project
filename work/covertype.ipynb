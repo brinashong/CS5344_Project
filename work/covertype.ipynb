{
 "cells": [
  {
   "cell_type": "code",
   "execution_count": 47,
   "id": "edbbb7c5-c4dd-45cc-afe7-0b1a640c5286",
   "metadata": {},
   "outputs": [],
   "source": [
    "import numpy as np\n",
    "import pandas as pd\n",
    "import os\n",
    "import sys\n",
    "from sklearn.datasets import fetch_covtype"
   ]
  },
  {
   "cell_type": "code",
   "execution_count": null,
   "id": "3392c8b0-a6ac-4039-874a-5b11fd01dd7a",
   "metadata": {},
   "outputs": [],
   "source": [
    "base_path = '/Users/suyeetan/Downloads/CS5344_Project/work/'"
   ]
  },
  {
   "cell_type": "code",
   "execution_count": 48,
   "id": "97a8c7f9-a1d1-4fea-9be2-dba05132da64",
   "metadata": {},
   "outputs": [],
   "source": [
    "%run \"{base_path}/common.ipynb\""
   ]
  },
  {
   "cell_type": "code",
   "execution_count": 49,
   "id": "77789581-43da-40f7-a0c3-43cfeb70ff73",
   "metadata": {},
   "outputs": [],
   "source": [
    "def get_covtype_df():\n",
    "    config = {\n",
    "        'NORMAL_TARGET': 2,\n",
    "        'TARGET_COLUMN': 'Cover_Type',\n",
    "        # List of target class names\n",
    "        'TARGET_DICT': {\n",
    "            1: \"Spruce-Fir\",\n",
    "            2: \"LodgepolePine\",\n",
    "            3: \"PonderosaPine\",\n",
    "            4: \"CottonwoodWillow\",\n",
    "            5: \"Aspen\",\n",
    "            6: \"DouglasFir\",\n",
    "            7: \"Krummholz\"\n",
    "        },\n",
    "        'INV_TARGET_DICT': {\n",
    "            \"Spruce-Fir\": 1,\n",
    "            \"LodgepolePine\": 2,\n",
    "            \"PonderosaPine\": 3,\n",
    "            \"CottonwoodWillow\": 4,\n",
    "            \"Aspen\": 5,\n",
    "            \"DouglasFir\": 6,\n",
    "            \"Krummholz\": 7,\n",
    "        },\n",
    "    \n",
    "        # List of numerical columns (these are to be standardized)\n",
    "        'NUMERICAL_COLUMNS': ['Elevation', 'Aspect', 'Slope', 'Horizontal_Distance_To_Hydrology', \n",
    "                            'Vertical_Distance_To_Hydrology', 'Horizontal_Distance_To_Roadways', \n",
    "                            'Hillshade_9am', 'Hillshade_Noon', 'Hillshade_3pm', \n",
    "                            'Horizontal_Distance_To_Fire_Points'],\n",
    "        # List of categorical columns (these are to be one hot encoded)\n",
    "        'CATEGORICAL_COLUMNS': [],\n",
    "        # List of ordinal columns (these are to be label encoded)\n",
    "        'ORDINAL_COLUMNS': [],\n",
    "    }\n",
    "\n",
    "    data = fetch_covtype(as_frame=True)\n",
    "    X_data = data['data']\n",
    "    y_data = data['target']\n",
    "    \n",
    "    # Combine features and target into one DataFrame\n",
    "    all_df = pd.concat([X_data, y_data], axis=1)\n",
    "\n",
    "    target_column = config['TARGET_COLUMN']\n",
    "    \n",
    "    # Headers of column\n",
    "    main_labels = data.feature_names[:]\n",
    "    main_labels.append(target_column)\n",
    "    \n",
    "    print('Normal class: ', all_df[target_column].mode())\n",
    "    return (all_df, main_labels, config)"
   ]
  },
  {
   "cell_type": "code",
   "execution_count": 50,
   "id": "09994b62-b024-4eaa-ba7f-693bae1ca905",
   "metadata": {},
   "outputs": [],
   "source": [
    "def get_processed_covtype_df():\n",
    "    all_df, main_labels, config = get_covtype_df()\n",
    "    # print('main_labels', main_labels)\n",
    "    return (all_df, main_labels, config)"
   ]
  },
  {
   "cell_type": "code",
   "execution_count": null,
   "id": "266f551a-9b0e-4344-b797-bf53643c13e0",
   "metadata": {},
   "outputs": [],
   "source": []
  }
 ],
 "metadata": {
  "kernelspec": {
   "display_name": "Python 3 (ipykernel)",
   "language": "python",
   "name": "python3"
  },
  "language_info": {
   "codemirror_mode": {
    "name": "ipython",
    "version": 3
   },
   "file_extension": ".py",
   "mimetype": "text/x-python",
   "name": "python",
   "nbconvert_exporter": "python",
   "pygments_lexer": "ipython3",
   "version": "3.12.6"
  }
 },
 "nbformat": 4,
 "nbformat_minor": 5
}
