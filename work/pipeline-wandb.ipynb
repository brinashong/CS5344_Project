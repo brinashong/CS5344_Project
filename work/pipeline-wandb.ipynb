{
 "cells": [
  {
   "cell_type": "code",
   "execution_count": 535,
   "metadata": {},
   "outputs": [],
   "source": [
    "import wandb\n",
    "import numpy as np\n",
    "import os\n",
    "import random\n",
    "import glob\n",
    "import pandas as pd\n",
    "import time\n",
    "import sklearn as sk\n",
    "import seaborn as sns\n",
    "import matplotlib.pyplot as plt\n",
    "%matplotlib inline\n",
    "import importlib\n",
    "from common import common\n",
    "from sklearn.linear_model import LogisticRegression\n",
    "from sklearn.tree import DecisionTreeClassifier\n",
    "from sklearn.ensemble import ExtraTreesClassifier, RandomForestClassifier\n",
    "from sklearn.ensemble import RandomForestRegressor, GradientBoostingClassifier, VotingClassifier\n",
    "from sklearn.datasets import fetch_covtype\n",
    "from sklearn.neighbors import KNeighborsClassifier\n",
    "from sklearn.preprocessing import OneHotEncoder, StandardScaler, LabelEncoder\n",
    "from sklearn.svm import SVC\n",
    "from sklearn.model_selection import train_test_split, cross_val_score\n",
    "from sklearn.metrics import classification_report, confusion_matrix, accuracy_score\n",
    "from scipy.io import arff\n",
    "from sklearn.datasets import fetch_openml\n",
    "from joblib import Parallel, delayed\n",
    "from concurrent.futures import ProcessPoolExecutor\n",
    "from functools import partial\n",
    "from sklearn.pipeline import Pipeline\n",
    "from sklearn.feature_selection import SelectFromModel\n",
    "from sklearn.model_selection import GridSearchCV, RandomizedSearchCV"
   ]
  },
  {
   "cell_type": "code",
   "execution_count": 536,
   "metadata": {},
   "outputs": [
    {
     "data": {
      "text/plain": [
       "True"
      ]
     },
     "execution_count": 536,
     "metadata": {},
     "output_type": "execute_result"
    }
   ],
   "source": [
    "wandb.login()"
   ]
  },
  {
   "cell_type": "code",
   "execution_count": 537,
   "metadata": {},
   "outputs": [
    {
     "data": {
      "text/plain": [
       "<module 'common.common' from '/Users/bytedance/Downloads/work/CS5344_Project/work/common/common.py'>"
      ]
     },
     "execution_count": 537,
     "metadata": {},
     "output_type": "execute_result"
    }
   ],
   "source": [
    "# Reload common module\n",
    "importlib.reload(common)"
   ]
  },
  {
   "cell_type": "code",
   "execution_count": 538,
   "metadata": {},
   "outputs": [],
   "source": [
    "# Shared variables\n",
    "OUTPUT_FOLDER = 'csv_files'\n",
    "FEATURE_FOLDER = 'features'"
   ]
  },
  {
   "cell_type": "code",
   "execution_count": 596,
   "metadata": {},
   "outputs": [],
   "source": [
    "# project name should correspond to dataset below\n",
    "# project_name = \"covertype\"\n",
    "# project_name = \"kdd\"\n",
    "# project_name = \"cicids\"\n",
    "# project_name = \"thyroid\"\n",
    "# project_name = \"unsw\"\n",
    "# project_name = \"customer\"\n",
    "# project_name = \"satellite\"\n",
    "# project_name = \"drug\"\n",
    "project_name = \"mba\""
   ]
  },
  {
   "cell_type": "code",
   "execution_count": 597,
   "metadata": {},
   "outputs": [
    {
     "name": "stdout",
     "output_type": "stream",
     "text": [
      "Normal class:  0    Admit\n",
      "Name: admission, dtype: object\n",
      "TARGET_DICT {0: 'Admit', 1: 'Deny', 2: 'Waitlist'}\n",
      "NORMAL_TARGET 1\n",
      "main_labels ['gender', 'international', 'gpa', 'major', 'race', 'gmat', 'work_exp', 'work_industry', 'admission']\n",
      "Normal class:  0    Admit\n",
      "Name: admission, dtype: object\n",
      "TARGET_DICT {0: 'Admit', 1: 'Deny', 2: 'Waitlist'}\n",
      "NORMAL_TARGET 1\n",
      "main_labels ['gender', 'international', 'gpa', 'major', 'race', 'gmat', 'work_exp', 'work_industry', 'admission']\n"
     ]
    }
   ],
   "source": [
    "if project_name == \"covertype\":\n",
    "    %run datasets/covertype.ipynb\n",
    "    all_df, main_labels, config = get_processed_covtype_df()\n",
    "elif project_name == \"kdd\":\n",
    "    %run datasets/kdd.ipynb\n",
    "    all_df, main_labels, config = get_processed_kdd_df()\n",
    "elif project_name == \"cicids\":\n",
    "    %run datasets/cicids.ipynb\n",
    "    all_df, main_labels, config = get_processed_cicids_df()\n",
    "elif project_name == \"thyroid\":\n",
    "    %run datasets/thyroid.ipynb\n",
    "    all_df, main_labels, config = get_processed_thyroid_df()\n",
    "elif project_name == \"unsw\":\n",
    "    %run datasets/unsw.ipynb\n",
    "    all_df, main_labels, config = get_processed_unsw_df()\n",
    "elif project_name == \"customer\":\n",
    "    %run datasets/customer.ipynb\n",
    "    all_df, main_labels, config = get_processed_customer_df()\n",
    "elif project_name == \"satellite\":\n",
    "    %run datasets/satellite.ipynb\n",
    "    all_df, main_labels, config = get_processed_satellite_df()\n",
    "elif project_name == \"drug\":\n",
    "    %run datasets/drug.ipynb\n",
    "    all_df, main_labels, config = get_processed_drug_df()\n",
    "else:\n",
    "    %run datasets/mba.ipynb\n",
    "    all_df, main_labels, config = get_processed_mba_df()"
   ]
  },
  {
   "cell_type": "code",
   "execution_count": 598,
   "metadata": {},
   "outputs": [
    {
     "data": {
      "text/html": [
       "<div>\n",
       "<style scoped>\n",
       "    .dataframe tbody tr th:only-of-type {\n",
       "        vertical-align: middle;\n",
       "    }\n",
       "\n",
       "    .dataframe tbody tr th {\n",
       "        vertical-align: top;\n",
       "    }\n",
       "\n",
       "    .dataframe thead th {\n",
       "        text-align: right;\n",
       "    }\n",
       "</style>\n",
       "<table border=\"1\" class=\"dataframe\">\n",
       "  <thead>\n",
       "    <tr style=\"text-align: right;\">\n",
       "      <th></th>\n",
       "      <th>gender</th>\n",
       "      <th>international</th>\n",
       "      <th>gpa</th>\n",
       "      <th>major</th>\n",
       "      <th>race</th>\n",
       "      <th>gmat</th>\n",
       "      <th>work_exp</th>\n",
       "      <th>work_industry</th>\n",
       "      <th>admission</th>\n",
       "    </tr>\n",
       "  </thead>\n",
       "  <tbody>\n",
       "    <tr>\n",
       "      <th>0</th>\n",
       "      <td>0</td>\n",
       "      <td>0</td>\n",
       "      <td>3.30</td>\n",
       "      <td>0</td>\n",
       "      <td>0</td>\n",
       "      <td>620.0</td>\n",
       "      <td>3.0</td>\n",
       "      <td>3</td>\n",
       "      <td>0</td>\n",
       "    </tr>\n",
       "    <tr>\n",
       "      <th>1</th>\n",
       "      <td>1</td>\n",
       "      <td>0</td>\n",
       "      <td>3.28</td>\n",
       "      <td>1</td>\n",
       "      <td>1</td>\n",
       "      <td>680.0</td>\n",
       "      <td>5.0</td>\n",
       "      <td>6</td>\n",
       "      <td>1</td>\n",
       "    </tr>\n",
       "    <tr>\n",
       "      <th>2</th>\n",
       "      <td>0</td>\n",
       "      <td>1</td>\n",
       "      <td>3.30</td>\n",
       "      <td>0</td>\n",
       "      <td>4</td>\n",
       "      <td>710.0</td>\n",
       "      <td>5.0</td>\n",
       "      <td>13</td>\n",
       "      <td>0</td>\n",
       "    </tr>\n",
       "    <tr>\n",
       "      <th>3</th>\n",
       "      <td>1</td>\n",
       "      <td>0</td>\n",
       "      <td>3.47</td>\n",
       "      <td>2</td>\n",
       "      <td>1</td>\n",
       "      <td>690.0</td>\n",
       "      <td>6.0</td>\n",
       "      <td>13</td>\n",
       "      <td>1</td>\n",
       "    </tr>\n",
       "    <tr>\n",
       "      <th>4</th>\n",
       "      <td>1</td>\n",
       "      <td>0</td>\n",
       "      <td>3.35</td>\n",
       "      <td>2</td>\n",
       "      <td>2</td>\n",
       "      <td>590.0</td>\n",
       "      <td>5.0</td>\n",
       "      <td>1</td>\n",
       "      <td>1</td>\n",
       "    </tr>\n",
       "  </tbody>\n",
       "</table>\n",
       "</div>"
      ],
      "text/plain": [
       "   gender  international   gpa  major  race   gmat  work_exp  work_industry  \\\n",
       "0       0              0  3.30      0     0  620.0       3.0              3   \n",
       "1       1              0  3.28      1     1  680.0       5.0              6   \n",
       "2       0              1  3.30      0     4  710.0       5.0             13   \n",
       "3       1              0  3.47      2     1  690.0       6.0             13   \n",
       "4       1              0  3.35      2     2  590.0       5.0              1   \n",
       "\n",
       "   admission  \n",
       "0          0  \n",
       "1          1  \n",
       "2          0  \n",
       "3          1  \n",
       "4          1  "
      ]
     },
     "execution_count": 598,
     "metadata": {},
     "output_type": "execute_result"
    }
   ],
   "source": [
    "# Should already be one hot encoded and label encoded\n",
    "\n",
    "TARGET_COLUMN = config['TARGET_COLUMN']\n",
    "NORMAL_TARGET = config['NORMAL_TARGET']\n",
    "TARGET_DICT = config['TARGET_DICT']\n",
    "INV_TARGET_DICT = config['INV_TARGET_DICT']\n",
    "NUMERICAL_COLUMNS = config['NUMERICAL_COLUMNS']\n",
    "CATEGORICAL_COLUMNS = config['CATEGORICAL_COLUMNS']\n",
    "ORDINAL_COLUMNS = config['ORDINAL_COLUMNS']\n",
    "all_df.head()"
   ]
  },
  {
   "cell_type": "code",
   "execution_count": 599,
   "metadata": {},
   "outputs": [
    {
     "data": {
      "text/plain": [
       "(6194, 9)"
      ]
     },
     "execution_count": 599,
     "metadata": {},
     "output_type": "execute_result"
    }
   ],
   "source": [
    "all_df.shape"
   ]
  },
  {
   "cell_type": "code",
   "execution_count": 600,
   "metadata": {},
   "outputs": [
    {
     "name": "stdout",
     "output_type": "stream",
     "text": [
      "All files in csv_files have been removed.\n",
      "All files in features have been removed.\n"
     ]
    }
   ],
   "source": [
    "# Create a folder to save the CSVs\n",
    "common.remove_files_from_directory(OUTPUT_FOLDER)\n",
    "common.remove_files_from_directory(FEATURE_FOLDER)\n",
    "os.makedirs(OUTPUT_FOLDER, exist_ok=True)\n",
    "os.makedirs(FEATURE_FOLDER, exist_ok=True)"
   ]
  },
  {
   "cell_type": "code",
   "execution_count": 601,
   "metadata": {},
   "outputs": [],
   "source": [
    "# Save all data as csv\n",
    "all_df.to_csv('all_data.csv' ,index = False)"
   ]
  },
  {
   "cell_type": "code",
   "execution_count": 602,
   "metadata": {},
   "outputs": [
    {
     "name": "stdout",
     "output_type": "stream",
     "text": [
      "(4955, 8) (1239, 8) (4955,) (1239,)\n"
     ]
    }
   ],
   "source": [
    "# Get X and y from all_df\n",
    "X_df = all_df.drop(columns=[TARGET_COLUMN])\n",
    "y_df = all_df[TARGET_COLUMN]\n",
    "\n",
    "# Split the data into training and test sets\n",
    "X_train_df, X_test_df, y_train_df, y_test_df = train_test_split(X_df, y_df, test_size=0.2, random_state=42)\n",
    "print(X_train_df.shape, X_test_df.shape, y_train_df.shape, y_test_df.shape)"
   ]
  },
  {
   "cell_type": "code",
   "execution_count": 603,
   "metadata": {},
   "outputs": [
    {
     "data": {
      "text/html": [
       "<div>\n",
       "<style scoped>\n",
       "    .dataframe tbody tr th:only-of-type {\n",
       "        vertical-align: middle;\n",
       "    }\n",
       "\n",
       "    .dataframe tbody tr th {\n",
       "        vertical-align: top;\n",
       "    }\n",
       "\n",
       "    .dataframe thead th {\n",
       "        text-align: right;\n",
       "    }\n",
       "</style>\n",
       "<table border=\"1\" class=\"dataframe\">\n",
       "  <thead>\n",
       "    <tr style=\"text-align: right;\">\n",
       "      <th></th>\n",
       "      <th>gender</th>\n",
       "      <th>international</th>\n",
       "      <th>gpa</th>\n",
       "      <th>major</th>\n",
       "      <th>race</th>\n",
       "      <th>gmat</th>\n",
       "      <th>work_exp</th>\n",
       "      <th>work_industry</th>\n",
       "      <th>admission</th>\n",
       "    </tr>\n",
       "  </thead>\n",
       "  <tbody>\n",
       "    <tr>\n",
       "      <th>6189</th>\n",
       "      <td>1</td>\n",
       "      <td>0</td>\n",
       "      <td>3.49</td>\n",
       "      <td>0</td>\n",
       "      <td>5</td>\n",
       "      <td>640.0</td>\n",
       "      <td>5.0</td>\n",
       "      <td>9</td>\n",
       "      <td>1</td>\n",
       "    </tr>\n",
       "    <tr>\n",
       "      <th>711</th>\n",
       "      <td>0</td>\n",
       "      <td>0</td>\n",
       "      <td>3.51</td>\n",
       "      <td>1</td>\n",
       "      <td>3</td>\n",
       "      <td>690.0</td>\n",
       "      <td>4.0</td>\n",
       "      <td>1</td>\n",
       "      <td>0</td>\n",
       "    </tr>\n",
       "    <tr>\n",
       "      <th>3954</th>\n",
       "      <td>0</td>\n",
       "      <td>0</td>\n",
       "      <td>3.43</td>\n",
       "      <td>2</td>\n",
       "      <td>0</td>\n",
       "      <td>660.0</td>\n",
       "      <td>4.0</td>\n",
       "      <td>1</td>\n",
       "      <td>0</td>\n",
       "    </tr>\n",
       "    <tr>\n",
       "      <th>1020</th>\n",
       "      <td>0</td>\n",
       "      <td>1</td>\n",
       "      <td>3.25</td>\n",
       "      <td>1</td>\n",
       "      <td>4</td>\n",
       "      <td>670.0</td>\n",
       "      <td>3.0</td>\n",
       "      <td>1</td>\n",
       "      <td>0</td>\n",
       "    </tr>\n",
       "    <tr>\n",
       "      <th>5726</th>\n",
       "      <td>1</td>\n",
       "      <td>0</td>\n",
       "      <td>3.16</td>\n",
       "      <td>0</td>\n",
       "      <td>0</td>\n",
       "      <td>640.0</td>\n",
       "      <td>5.0</td>\n",
       "      <td>12</td>\n",
       "      <td>1</td>\n",
       "    </tr>\n",
       "  </tbody>\n",
       "</table>\n",
       "</div>"
      ],
      "text/plain": [
       "      gender  international   gpa  major  race   gmat  work_exp  \\\n",
       "6189       1              0  3.49      0     5  640.0       5.0   \n",
       "711        0              0  3.51      1     3  690.0       4.0   \n",
       "3954       0              0  3.43      2     0  660.0       4.0   \n",
       "1020       0              1  3.25      1     4  670.0       3.0   \n",
       "5726       1              0  3.16      0     0  640.0       5.0   \n",
       "\n",
       "      work_industry  admission  \n",
       "6189              9          1  \n",
       "711               1          0  \n",
       "3954              1          0  \n",
       "1020              1          0  \n",
       "5726             12          1  "
      ]
     },
     "execution_count": 603,
     "metadata": {},
     "output_type": "execute_result"
    }
   ],
   "source": [
    "# Concatenate X_train and y_train along the columns (axis=1)\n",
    "X_y_train_df = pd.concat([X_train_df, y_train_df], axis=1)\n",
    "X_y_train_df.head()"
   ]
  },
  {
   "cell_type": "code",
   "execution_count": 604,
   "metadata": {},
   "outputs": [],
   "source": [
    "# Fit and transform the numeric columns\n",
    "scaler, X_train_scaled_df = common.standardise(X_train_df, NUMERICAL_COLUMNS)\n",
    "# print('X_train_scaled_df', X_train_scaled_df)\n",
    "\n",
    "# Use the same scaler to transform X_test\n",
    "scaler, X_test_scaled_df = common.standardise(X_test_df, NUMERICAL_COLUMNS, scaler=scaler)\n",
    "# print('X_test_scaled_df', X_test_scaled_df)"
   ]
  },
  {
   "cell_type": "code",
   "execution_count": 605,
   "metadata": {},
   "outputs": [
    {
     "data": {
      "text/html": [
       "<div>\n",
       "<style scoped>\n",
       "    .dataframe tbody tr th:only-of-type {\n",
       "        vertical-align: middle;\n",
       "    }\n",
       "\n",
       "    .dataframe tbody tr th {\n",
       "        vertical-align: top;\n",
       "    }\n",
       "\n",
       "    .dataframe thead th {\n",
       "        text-align: right;\n",
       "    }\n",
       "</style>\n",
       "<table border=\"1\" class=\"dataframe\">\n",
       "  <thead>\n",
       "    <tr style=\"text-align: right;\">\n",
       "      <th></th>\n",
       "      <th>gender</th>\n",
       "      <th>international</th>\n",
       "      <th>gpa</th>\n",
       "      <th>major</th>\n",
       "      <th>race</th>\n",
       "      <th>gmat</th>\n",
       "      <th>work_exp</th>\n",
       "      <th>work_industry</th>\n",
       "    </tr>\n",
       "  </thead>\n",
       "  <tbody>\n",
       "    <tr>\n",
       "      <th>4370</th>\n",
       "      <td>1</td>\n",
       "      <td>0</td>\n",
       "      <td>1.514856</td>\n",
       "      <td>1</td>\n",
       "      <td>5</td>\n",
       "      <td>-0.425427</td>\n",
       "      <td>-0.021366</td>\n",
       "      <td>8</td>\n",
       "    </tr>\n",
       "    <tr>\n",
       "      <th>3470</th>\n",
       "      <td>1</td>\n",
       "      <td>0</td>\n",
       "      <td>0.124529</td>\n",
       "      <td>0</td>\n",
       "      <td>5</td>\n",
       "      <td>-0.831199</td>\n",
       "      <td>0.949892</td>\n",
       "      <td>10</td>\n",
       "    </tr>\n",
       "    <tr>\n",
       "      <th>4953</th>\n",
       "      <td>1</td>\n",
       "      <td>0</td>\n",
       "      <td>0.389353</td>\n",
       "      <td>2</td>\n",
       "      <td>0</td>\n",
       "      <td>0.386119</td>\n",
       "      <td>0.949892</td>\n",
       "      <td>8</td>\n",
       "    </tr>\n",
       "    <tr>\n",
       "      <th>996</th>\n",
       "      <td>1</td>\n",
       "      <td>1</td>\n",
       "      <td>0.256941</td>\n",
       "      <td>1</td>\n",
       "      <td>4</td>\n",
       "      <td>0.183232</td>\n",
       "      <td>-0.021366</td>\n",
       "      <td>10</td>\n",
       "    </tr>\n",
       "    <tr>\n",
       "      <th>2764</th>\n",
       "      <td>1</td>\n",
       "      <td>1</td>\n",
       "      <td>-1.530623</td>\n",
       "      <td>2</td>\n",
       "      <td>4</td>\n",
       "      <td>-1.642745</td>\n",
       "      <td>-1.963882</td>\n",
       "      <td>10</td>\n",
       "    </tr>\n",
       "  </tbody>\n",
       "</table>\n",
       "</div>"
      ],
      "text/plain": [
       "      gender  international       gpa  major  race      gmat  work_exp  \\\n",
       "4370       1              0  1.514856      1     5 -0.425427 -0.021366   \n",
       "3470       1              0  0.124529      0     5 -0.831199  0.949892   \n",
       "4953       1              0  0.389353      2     0  0.386119  0.949892   \n",
       "996        1              1  0.256941      1     4  0.183232 -0.021366   \n",
       "2764       1              1 -1.530623      2     4 -1.642745 -1.963882   \n",
       "\n",
       "      work_industry  \n",
       "4370              8  \n",
       "3470             10  \n",
       "4953              8  \n",
       "996              10  \n",
       "2764             10  "
      ]
     },
     "execution_count": 605,
     "metadata": {},
     "output_type": "execute_result"
    }
   ],
   "source": [
    "X_test_scaled_df.head()"
   ]
  },
  {
   "cell_type": "code",
   "execution_count": 606,
   "metadata": {},
   "outputs": [
    {
     "name": "stdout",
     "output_type": "stream",
     "text": [
      "abnormal_type_dict {1: 5194, 0: 900, 2: 100}\n",
      "Admit.csv created with 2700 rows. (1800 benign and 900 abnormal rows)\n",
      "Waitlist.csv created with 300 rows. (200 benign and 100 abnormal rows)\n",
      "All datasets created successfully!\n",
      "Total operation time: = 0.006540060043334961 seconds\n"
     ]
    }
   ],
   "source": [
    "seconds = time.time()\n",
    "\n",
    "benign = 2359289\n",
    "abnormal_type_counts = all_df[TARGET_COLUMN].value_counts()\n",
    "abnormal_type_dict = abnormal_type_counts.to_dict()\n",
    "print('abnormal_type_dict', abnormal_type_dict)\n",
    "target_index = all_df.columns.get_loc(TARGET_COLUMN)\n",
    "benign_ratio = 2  # Adjust this ratio as needed\n",
    "min_benign_samples = 50  # Ensure at least 50 benign samples are always included\n",
    "\n",
    "# Linear method\n",
    "for label, name in TARGET_DICT.items():\n",
    "    if label == NORMAL_TARGET:\n",
    "        continue  # Skip the normal target\n",
    "    \n",
    "    common.create_dataset_for_label(label, name, benign, abnormal_type_dict, benign_ratio, min_benign_samples, all_df, target_index, TARGET_COLUMN, NORMAL_TARGET, OUTPUT_FOLDER, main_labels)\n",
    "    \n",
    "# Parallel execution to create the anomaly datasets for each anomaly class\n",
    "# def create_dataset(label, name, benign, abnormal_type_dict, benign_ratio, min_benign_samples, all_df, target_index, TARGET_COLUMN, NORMAL_TARGET, OUTPUT_FOLDER, main_labels):\n",
    "#     return common.create_dataset_for_label(label, name, benign, abnormal_type_dict, benign_ratio, min_benign_samples, all_df, target_index, TARGET_COLUMN, NORMAL_TARGET, OUTPUT_FOLDER, main_labels)\n",
    "\n",
    "# # Using Joblib to parallelize the dataset creation\n",
    "# results = Parallel(n_jobs=-1)(\n",
    "#     delayed(create_dataset)(label, name, benign, abnormal_type_dict, benign_ratio, min_benign_samples, all_df, target_index, TARGET_COLUMN, NORMAL_TARGET, OUTPUT_FOLDER, main_labels)\n",
    "#     for label, name in TARGET_DICT.items() if label != NORMAL_TARGET\n",
    "# )\n",
    "\n",
    "print(\"All datasets created successfully!\")\n",
    "print(\"Total operation time: =\", time.time() - seconds, \"seconds\")"
   ]
  },
  {
   "cell_type": "code",
   "execution_count": 607,
   "metadata": {},
   "outputs": [
    {
     "data": {
      "text/plain": [
       "9"
      ]
     },
     "execution_count": 607,
     "metadata": {},
     "output_type": "execute_result"
    }
   ],
   "source": [
    "len(main_labels)"
   ]
  },
  {
   "cell_type": "code",
   "execution_count": 608,
   "metadata": {
    "scrolled": true
   },
   "outputs": [
    {
     "name": "stdout",
     "output_type": "stream",
     "text": [
      "csv_files ['Waitlist.csv', 'Admit.csv']\n",
      "Processing CSV file: Waitlist.csv\n",
      "Waitlist importance list:\n",
      "Waitlist \n",
      "                importance\n",
      "Features                 \n",
      "gmat             0.282582\n",
      "gpa              0.271816\n",
      "work_industry    0.117914\n",
      "gender           0.086194\n",
      "work_exp         0.084239\n",
      "race             0.083628\n",
      "major            0.053580\n",
      "international    0.020047 \n",
      "\n",
      "\n",
      "\n",
      "Waitlist=[\"gmat\",\"gpa\",\"work_industry\",\"gender\",\"work_exp\"]\n"
     ]
    },
    {
     "data": {
      "image/png": "[encoded data removed]",
      "text/plain": [
       "<Figure size 1000x500 with 1 Axes>"
      ]
     },
     "metadata": {},
     "output_type": "display_data"
    },
    {
     "name": "stdout",
     "output_type": "stream",
     "text": [
      "-----------------------------------------------------------------------------------------------\n",
      "\n",
      "\n",
      "\n",
      "\n",
      "Processing CSV file: Admit.csv\n",
      "Admit importance list:\n",
      "Admit \n",
      "                importance\n",
      "Features                 \n",
      "gmat             0.362811\n",
      "gpa              0.277511\n",
      "work_industry    0.115905\n",
      "work_exp         0.079542\n",
      "race             0.061906\n",
      "major            0.052722\n",
      "gender           0.034803\n",
      "international    0.014800 \n",
      "\n",
      "\n",
      "\n",
      "Admit=[\"gmat\",\"gpa\",\"work_industry\",\"work_exp\",\"race\"]\n"
     ]
    },
    {
     "data": {
      "image/png": "[encoded data removed]",
      "text/plain": [
       "<Figure size 1000x500 with 1 Axes>"
      ]
     },
     "metadata": {},
     "output_type": "display_data"
    },
    {
     "name": "stdout",
     "output_type": "stream",
     "text": [
      "-----------------------------------------------------------------------------------------------\n",
      "\n",
      "\n",
      "\n",
      "\n",
      "feature_importances: {'Waitlist': ['gmat', 'gpa', 'work_industry', 'gender', 'work_exp'], 'Admit': ['gmat', 'gpa', 'work_industry', 'work_exp', 'race']}\n",
      "Total operation time: = 0.8478491306304932 seconds\n"
     ]
    }
   ],
   "source": [
    "seconds = time.time()\n",
    "\n",
    "# CSV files names:\n",
    "csv_files=os.listdir(OUTPUT_FOLDER)\n",
    "print('csv_files',csv_files)\n",
    "\n",
    "feature_importances = {}\n",
    "KNNs = {}\n",
    "\n",
    "# Linear way\n",
    "for csv in csv_files:\n",
    "    label, important_features, knn, impor_bars = common.process_csv_with_args(csv, \n",
    "        main_labels=main_labels, \n",
    "        target_column=TARGET_COLUMN, \n",
    "        normal_target=NORMAL_TARGET, \n",
    "        numerical_columns=NUMERICAL_COLUMNS, \n",
    "        output_folder=OUTPUT_FOLDER,\n",
    "        scaler=scaler)\n",
    "    feature_importances[label] = important_features\n",
    "    KNNs[label] = knn\n",
    "    common.show_feature_importance(impor_bars, label, FEATURE_FOLDER)\n",
    "    print(\"-----------------------------------------------------------------------------------------------\\n\\n\\n\\n\")\n",
    "\n",
    "# process_csv_with_args = partial(\n",
    "#         common.process_csv, \n",
    "#         main_labels=main_labels, \n",
    "#         target_column=TARGET_COLUMN, \n",
    "#         normal_target=NORMAL_TARGET, \n",
    "#         numerical_columns=NUMERICAL_COLUMNS, \n",
    "#         output_folder=OUTPUT_FOLDER,\n",
    "#         scaler=scaler \n",
    "#     )\n",
    "\n",
    "# with ProcessPoolExecutor() as executor:\n",
    "#         results = list(executor.map(process_csv_with_args, csv_files))\n",
    "\n",
    "# # Collect results from the futures\n",
    "# for label, important_features, svm, impor_bars in results:\n",
    "#     feature_importances[label] = important_features\n",
    "#     SVMs[label] = svm\n",
    "\n",
    "#     # Show feature importance\n",
    "#     common.show_feature_importance(impor_bars, label, FEATURE_FOLDER)\n",
    "#     print(\"-----------------------------------------------------------------------------------------------\\n\\n\\n\\n\")\n",
    "\n",
    "print('feature_importances:', feature_importances)\n",
    "print(\"Total operation time: =\", time.time() - seconds, \"seconds\")"
   ]
  },
  {
   "cell_type": "code",
   "execution_count": 609,
   "metadata": {},
   "outputs": [
    {
     "name": "stdout",
     "output_type": "stream",
     "text": [
      "test_predictions [1 1 1 ... 1 1 1]\n",
      "Total operation time: =  0.0878300666809082 seconds\n"
     ]
    }
   ],
   "source": [
    "seconds = time.time()\n",
    "\n",
    "# Define the model\n",
    "rf = RandomForestClassifier(n_estimators=100, random_state=42, n_jobs=-1)\n",
    "rf.fit(X_train_df, y_train_df)\n",
    "\n",
    "# # Define the parameter grid to search\n",
    "# param_distributions = {\n",
    "#     'n_estimators': [100, 200, 300, 400, 500],               # Number of trees\n",
    "#     'max_depth': [None, 10, 20, 30, 40, 50],                 # Tree depth\n",
    "#     'min_samples_split': [2, 5, 10],                         # Minimum samples to split a node\n",
    "#     'min_samples_leaf': [1, 2, 4],                           # Minimum samples at a leaf\n",
    "#     'max_features': ['auto', 'sqrt', 'log2'],                # Number of features to consider at each split\n",
    "#     'bootstrap': [True, False]                               # Use bootstrap samples or not\n",
    "# }\n",
    "\n",
    "# # Perform random search with cross-validation\n",
    "# random_search = RandomizedSearchCV(estimator=rf, \n",
    "#                                    param_distributions=param_distributions, \n",
    "#                                    n_iter=100,  # Number of parameter settings sampled\n",
    "#                                    cv=3,        # 3-fold cross-validation\n",
    "#                                    random_state=42, \n",
    "#                                    n_jobs=-1)   # Use all cores\n",
    "\n",
    "# Fit the model\n",
    "# random_search.fit(X_train_df, y_train_df)\n",
    "\n",
    "# Best parameters found\n",
    "# print(\"Best parameters found: \", random_search.best_params_)\n",
    "# print(\"Best score: \", random_search.best_score_)\n",
    "\n",
    "# Predict classes for the test set\n",
    "test_predictions = rf.predict(X_test_df)\n",
    "print('test_predictions', test_predictions)\n",
    "\n",
    "print(\"Total operation time: = \", time.time() - seconds, \"seconds\")"
   ]
  },
  {
   "cell_type": "code",
   "execution_count": 610,
   "metadata": {},
   "outputs": [
    {
     "data": {
      "text/html": [
       "Tracking run with wandb version 0.18.3"
      ],
      "text/plain": [
       "<IPython.core.display.HTML object>"
      ]
     },
     "metadata": {},
     "output_type": "display_data"
    },
    {
     "data": {
      "text/html": [
       "Run data is saved locally in <code>/Users/bytedance/Downloads/work/CS5344_Project/work/wandb/run-20241029_180203-mzwv3hk1</code>"
      ],
      "text/plain": [
       "<IPython.core.display.HTML object>"
      ]
     },
     "metadata": {},
     "output_type": "display_data"
    },
    {
     "data": {
      "text/html": [
       "Syncing run <strong><a href='https://wandb.ai/suyee-tan21-nus/pipeline-mba/runs/mzwv3hk1' target=\"_blank\">classification</a></strong> to <a href='https://wandb.ai/suyee-tan21-nus/pipeline-mba' target=\"_blank\">Weights & Biases</a> (<a href='https://wandb.me/run' target=\"_blank\">docs</a>)<br/>"
      ],
      "text/plain": [
       "<IPython.core.display.HTML object>"
      ]
     },
     "metadata": {},
     "output_type": "display_data"
    },
    {
     "data": {
      "text/html": [
       " View project at <a href='https://wandb.ai/suyee-tan21-nus/pipeline-mba' target=\"_blank\">https://wandb.ai/suyee-tan21-nus/pipeline-mba</a>"
      ],
      "text/plain": [
       "<IPython.core.display.HTML object>"
      ]
     },
     "metadata": {},
     "output_type": "display_data"
    },
    {
     "data": {
      "text/html": [
       " View run at <a href='https://wandb.ai/suyee-tan21-nus/pipeline-mba/runs/mzwv3hk1' target=\"_blank\">https://wandb.ai/suyee-tan21-nus/pipeline-mba/runs/mzwv3hk1</a>"
      ],
      "text/plain": [
       "<IPython.core.display.HTML object>"
      ]
     },
     "metadata": {},
     "output_type": "display_data"
    },
    {
     "name": "stdout",
     "output_type": "stream",
     "text": [
      "Multiclass Classification Evaluation\n"
     ]
    },
    {
     "name": "stderr",
     "output_type": "stream",
     "text": [
      "/Users/bytedance/Downloads/work/venv/lib/python3.13/site-packages/sklearn/metrics/_classification.py:1531: UndefinedMetricWarning: Precision is ill-defined and being set to 0.0 in labels with no predicted samples. Use `zero_division` parameter to control this behavior.\n",
      "  _warn_prf(average, modifier, f\"{metric.capitalize()} is\", len(result))\n",
      "/Users/bytedance/Downloads/work/venv/lib/python3.13/site-packages/sklearn/metrics/_classification.py:1531: UndefinedMetricWarning: Precision is ill-defined and being set to 0.0 in labels with no predicted samples. Use `zero_division` parameter to control this behavior.\n",
      "  _warn_prf(average, modifier, f\"{metric.capitalize()} is\", len(result))\n",
      "/Users/bytedance/Downloads/work/venv/lib/python3.13/site-packages/sklearn/metrics/_classification.py:1531: UndefinedMetricWarning: Precision is ill-defined and being set to 0.0 in labels with no predicted samples. Use `zero_division` parameter to control this behavior.\n",
      "  _warn_prf(average, modifier, f\"{metric.capitalize()} is\", len(result))\n"
     ]
    },
    {
     "data": {
      "image/png": "[encoded data removed]",
      "text/plain": [
       "<Figure size 1200x600 with 4 Axes>"
      ]
     },
     "metadata": {},
     "output_type": "display_data"
    },
    {
     "name": "stdout",
     "output_type": "stream",
     "text": [
      "Accuracy: 0.8240516545601292\n"
     ]
    },
    {
     "data": {
      "text/html": [
       "<style>\n",
       "    table.wandb td:nth-child(1) { padding: 0 10px; text-align: left ; width: auto;} td:nth-child(2) {text-align: left ; width: 100%}\n",
       "    .wandb-row { display: flex; flex-direction: row; flex-wrap: wrap; justify-content: flex-start; width: 100% }\n",
       "    .wandb-col { display: flex; flex-direction: column; flex-basis: 100%; flex: 1; padding: 10px; }\n",
       "    </style>\n",
       "<div class=\"wandb-row\"><div class=\"wandb-col\"><h3>Run history:</h3><br/><table class=\"wandb\"><tr><td>Accuracy Score</td><td>▁</td></tr><tr><td>f1-score_avg</td><td>▁</td></tr><tr><td>precision_avg</td><td>▁</td></tr><tr><td>recall_avg</td><td>▁</td></tr></table><br/></div><div class=\"wandb-col\"><h3>Run summary:</h3><br/><table class=\"wandb\"><tr><td>Accuracy Score</td><td>0.82405</td></tr><tr><td>f1-score_avg</td><td>0.78845</td></tr><tr><td>precision_avg</td><td>0.77647</td></tr><tr><td>recall_avg</td><td>0.82405</td></tr></table><br/></div></div>"
      ],
      "text/plain": [
       "<IPython.core.display.HTML object>"
      ]
     },
     "metadata": {},
     "output_type": "display_data"
    },
    {
     "data": {
      "text/html": [
       " View run <strong style=\"color:#cdcd00\">classification</strong> at: <a href='https://wandb.ai/suyee-tan21-nus/pipeline-mba/runs/mzwv3hk1' target=\"_blank\">https://wandb.ai/suyee-tan21-nus/pipeline-mba/runs/mzwv3hk1</a><br/> View project at: <a href='https://wandb.ai/suyee-tan21-nus/pipeline-mba' target=\"_blank\">https://wandb.ai/suyee-tan21-nus/pipeline-mba</a><br/>Synced 5 W&B file(s), 0 media file(s), 6 artifact file(s) and 2 other file(s)"
      ],
      "text/plain": [
       "<IPython.core.display.HTML object>"
      ]
     },
     "metadata": {},
     "output_type": "display_data"
    },
    {
     "data": {
      "text/html": [
       "Find logs at: <code>./wandb/run-20241029_180203-mzwv3hk1/logs</code>"
      ],
      "text/plain": [
       "<IPython.core.display.HTML object>"
      ]
     },
     "metadata": {},
     "output_type": "display_data"
    }
   ],
   "source": [
    "pn = \"pipeline-\" + project_name\n",
    "wandb.init(project=pn, name=\"classification\")\n",
    "common.evaluate(y_test_df, test_predictions, heading='Multiclass Classification Evaluation')\n",
    "wandb.finish()"
   ]
  },
  {
   "cell_type": "code",
   "execution_count": 613,
   "metadata": {
    "scrolled": true
   },
   "outputs": [
    {
     "name": "stdout",
     "output_type": "stream",
     "text": [
      "[0]\n",
      "[0]\n",
      "[0]\n",
      "[0]\n",
      "[0]\n",
      "[1]\n",
      "[0]\n",
      "[0]\n",
      "[0]\n",
      "[0]\n",
      "[1]\n",
      "[0]\n",
      "[0]\n",
      "[1]\n",
      "[1]\n",
      "[0]\n",
      "[1]\n",
      "[0]\n",
      "[0]\n",
      "[0]\n",
      "[0]\n",
      "[0]\n",
      "[0]\n",
      "[1]\n",
      "[0]\n",
      "[0]\n",
      "[0]\n",
      "[0]\n",
      "[1]\n",
      "[1]\n",
      "[0]\n",
      "[0]\n",
      "[0]\n",
      "[0]\n",
      "[0]\n",
      "[0]\n",
      "[0]\n",
      "[0]\n",
      "[0]\n",
      "[0]\n",
      "[0]\n",
      "[1]\n",
      "[1]\n",
      "[0]\n",
      "[1]\n",
      "[0]\n",
      "[0]\n",
      "[1]\n",
      "[1]\n",
      "[0]\n",
      "[0]\n",
      "[0]\n",
      "[1]\n",
      "[0]\n",
      "[0]\n",
      "[0]\n",
      "[0]\n",
      "[0]\n",
      "[1]\n",
      "[1]\n",
      "[0]\n",
      "[0]\n",
      "[1]\n",
      "[0]\n",
      "[0]\n",
      "[1]\n",
      "[0]\n",
      "[0]\n",
      "[0]\n",
      "[1]\n",
      "[1]\n",
      "[0]\n",
      "[0]\n",
      "[0]\n",
      "[0]\n",
      "[1]\n",
      "[0]\n",
      "[0]\n",
      "[0]\n",
      "[0]\n",
      "[0]\n",
      "improve_cnt 0 deprove_cnt 0\n",
      "Total operation time: =  1.2512447834014893 seconds\n"
     ]
    }
   ],
   "source": [
    "knn_predictions = []\n",
    "seconds = time.time()\n",
    "THRESHOLD = 0.5\n",
    "improve_cnt = 0\n",
    "deprove_cnt = 0\n",
    "\n",
    "def predict_knn(predicted_label, test_instance_df):\n",
    "    selected_features = feature_importances[predicted_label]\n",
    "    knn_model = KNNs[predicted_label]\n",
    "    # Select features for the KNN\n",
    "    test_instance_selected_df = test_instance_df[selected_features]\n",
    "    knn_prediction = knn_model.predict_proba(test_instance_selected_df)\n",
    "    # print(knn_prediction)\n",
    "    normal_class_prob = knn_prediction[:, 1]\n",
    "    abnormal_class_prob = knn_prediction[:, 0]\n",
    "    \n",
    "    return (abnormal_class_prob, normal_class_prob)\n",
    "\n",
    "for i in range(len(X_test_scaled_df)):\n",
    "    test_instance_df = X_test_scaled_df.iloc[i].to_frame().T\n",
    "    \n",
    "    if test_predictions[i] == NORMAL_TARGET:\n",
    "        # class_probabilities = {}\n",
    "        \n",
    "        # # Test the normal data point with all anomaly models\n",
    "        # for class_label, svm_model in SVMs.items():\n",
    "        #     # Select features for the SVM\n",
    "        #     selected_features = feature_importances[class_label]\n",
    "        #     test_instance_selected_df = test_instance_df[selected_features]\n",
    "        #     proba = svm_model.predict_proba(test_instance_selected_df)\n",
    "            \n",
    "        #     # We take the probability of class 0 (anomaly class)\n",
    "        #     anomaly_proba = proba[0][0]\n",
    "        #     class_probabilities[class_label] = anomaly_proba\n",
    "\n",
    "        # # Get the class with the highest probability\n",
    "        # most_probable_class = max(class_probabilities, key=class_probabilities.get)\n",
    "        \n",
    "        # # If the highest probability class has a probability greater than a threshold (e.g., 0.5), classify it as anomaly\n",
    "        # if class_probabilities[most_probable_class] > 0.5:\n",
    "        #     svm_predictions.append((0, INV_TARGET_DICT[most_probable_class], y_test_df.iloc[i]))\n",
    "        # else:\n",
    "            # Otherwise, classify it as normal\n",
    "\n",
    "        # New method\n",
    "        # knn_predictions.append((NORMAL_TARGET, y_test_df.iloc[i]))\n",
    "        # Old method\n",
    "        knn_predictions.append((1, NORMAL_TARGET, y_test_df.iloc[i]))\n",
    "    else:\n",
    "        # New method\n",
    "        # predicted_label = TARGET_DICT[test_predictions[i]]\n",
    "        # abnormal_class_prob, normal_class_prob = predict_knn(predicted_label, test_instance_df)\n",
    "        # max_prob = abnormal_class_prob if abnormal_class_prob > normal_class_prob else normal_class_prob\n",
    "        # final_class_1 = INV_TARGET_DICT[predicted_label] if abnormal_class_prob > normal_class_prob else NORMAL_TARGET\n",
    "        # final_class_2 = final_class_1\n",
    "\n",
    "        # if normal_class_prob < THRESHOLD:\n",
    "        #     for key, knn in KNNs.items():\n",
    "        #         if key != predicted_label:\n",
    "        #             sub_abnormal_class_prob, sub_normal_class_prob = predict_knn(key, test_instance_df)\n",
    "        #             if sub_abnormal_class_prob > sub_normal_class_prob and sub_abnormal_class_prob > max_prob:\n",
    "        #                 max_prob = sub_abnormal_class_prob\n",
    "        #                 final_class_2 = INV_TARGET_DICT[key]\n",
    "\n",
    "        # status = ''\n",
    "        # if final_class_1 != final_class_2 and final_class_2 == y_test_df.iloc[i]:\n",
    "        #     improve_cnt += 1\n",
    "        #     status = 'improve'\n",
    "        # if final_class_1 != final_class_2 and final_class_1 == y_test_df.iloc[i]:\n",
    "        #     deprove_cnt += 1\n",
    "        #     status = 'deprove'\n",
    "        # print('final_class1', final_class_1, 'final_class2', final_class_2, 'actual', y_test_df.iloc[i], status, abnormal_class_prob, normal_class_prob)\n",
    "        # knn_predictions.append((final_class_2, y_test_df.iloc[i]))\n",
    "\n",
    "        # Old method\n",
    "        predicted_label = TARGET_DICT[test_predictions[i]]\n",
    "        selected_features = feature_importances[predicted_label]\n",
    "        knn_model = KNNs[predicted_label]\n",
    "        test_instance_selected_df = test_instance_df[selected_features]\n",
    "        knn_prediction = knn_model.predict(test_instance_selected_df)\n",
    "        print(knn_prediction)\n",
    "        knn_predictions.append((knn_prediction[0], INV_TARGET_DICT[predicted_label], y_test_df.iloc[i]))\n",
    "print('improve_cnt', improve_cnt, 'deprove_cnt', deprove_cnt)\n",
    "print(\"Total operation time: = \", time.time() - seconds, \"seconds\")"
   ]
  },
  {
   "cell_type": "code",
   "execution_count": 614,
   "metadata": {},
   "outputs": [
    {
     "data": {
      "text/html": [
       "Tracking run with wandb version 0.18.3"
      ],
      "text/plain": [
       "<IPython.core.display.HTML object>"
      ]
     },
     "metadata": {},
     "output_type": "display_data"
    },
    {
     "data": {
      "text/html": [
       "Run data is saved locally in <code>/Users/bytedance/Downloads/work/CS5344_Project/work/wandb/run-20241029_180306-tuxq0tgg</code>"
      ],
      "text/plain": [
       "<IPython.core.display.HTML object>"
      ]
     },
     "metadata": {},
     "output_type": "display_data"
    },
    {
     "data": {
      "text/html": [
       "Syncing run <strong><a href='https://wandb.ai/suyee-tan21-nus/pipeline-mba/runs/tuxq0tgg' target=\"_blank\">final</a></strong> to <a href='https://wandb.ai/suyee-tan21-nus/pipeline-mba' target=\"_blank\">Weights & Biases</a> (<a href='https://wandb.me/run' target=\"_blank\">docs</a>)<br/>"
      ],
      "text/plain": [
       "<IPython.core.display.HTML object>"
      ]
     },
     "metadata": {},
     "output_type": "display_data"
    },
    {
     "data": {
      "text/html": [
       " View project at <a href='https://wandb.ai/suyee-tan21-nus/pipeline-mba' target=\"_blank\">https://wandb.ai/suyee-tan21-nus/pipeline-mba</a>"
      ],
      "text/plain": [
       "<IPython.core.display.HTML object>"
      ]
     },
     "metadata": {},
     "output_type": "display_data"
    },
    {
     "data": {
      "text/html": [
       " View run at <a href='https://wandb.ai/suyee-tan21-nus/pipeline-mba/runs/tuxq0tgg' target=\"_blank\">https://wandb.ai/suyee-tan21-nus/pipeline-mba/runs/tuxq0tgg</a>"
      ],
      "text/plain": [
       "<IPython.core.display.HTML object>"
      ]
     },
     "metadata": {},
     "output_type": "display_data"
    },
    {
     "name": "stdout",
     "output_type": "stream",
     "text": [
      "KNN Evaluation (overall)\n"
     ]
    },
    {
     "name": "stderr",
     "output_type": "stream",
     "text": [
      "/Users/bytedance/Downloads/work/venv/lib/python3.13/site-packages/sklearn/metrics/_classification.py:1531: UndefinedMetricWarning: Precision is ill-defined and being set to 0.0 in labels with no predicted samples. Use `zero_division` parameter to control this behavior.\n",
      "  _warn_prf(average, modifier, f\"{metric.capitalize()} is\", len(result))\n",
      "/Users/bytedance/Downloads/work/venv/lib/python3.13/site-packages/sklearn/metrics/_classification.py:1531: UndefinedMetricWarning: Precision is ill-defined and being set to 0.0 in labels with no predicted samples. Use `zero_division` parameter to control this behavior.\n",
      "  _warn_prf(average, modifier, f\"{metric.capitalize()} is\", len(result))\n",
      "/Users/bytedance/Downloads/work/venv/lib/python3.13/site-packages/sklearn/metrics/_classification.py:1531: UndefinedMetricWarning: Precision is ill-defined and being set to 0.0 in labels with no predicted samples. Use `zero_division` parameter to control this behavior.\n",
      "  _warn_prf(average, modifier, f\"{metric.capitalize()} is\", len(result))\n"
     ]
    },
    {
     "data": {
      "image/png": "[encoded data removed]",
      "text/plain": [
       "<Figure size 1200x600 with 4 Axes>"
      ]
     },
     "metadata": {},
     "output_type": "display_data"
    },
    {
     "name": "stdout",
     "output_type": "stream",
     "text": [
      "Accuracy: 0.841000807102502\n"
     ]
    },
    {
     "data": {
      "text/html": [
       "<style>\n",
       "    table.wandb td:nth-child(1) { padding: 0 10px; text-align: left ; width: auto;} td:nth-child(2) {text-align: left ; width: 100%}\n",
       "    .wandb-row { display: flex; flex-direction: row; flex-wrap: wrap; justify-content: flex-start; width: 100% }\n",
       "    .wandb-col { display: flex; flex-direction: column; flex-basis: 100%; flex: 1; padding: 10px; }\n",
       "    </style>\n",
       "<div class=\"wandb-row\"><div class=\"wandb-col\"><h3>Run history:</h3><br/><table class=\"wandb\"><tr><td>Accuracy Score</td><td>▁</td></tr><tr><td>f1-score_avg</td><td>▁</td></tr><tr><td>precision_avg</td><td>▁</td></tr><tr><td>recall_avg</td><td>▁</td></tr></table><br/></div><div class=\"wandb-col\"><h3>Run summary:</h3><br/><table class=\"wandb\"><tr><td>Accuracy Score</td><td>0.841</td></tr><tr><td>f1-score_avg</td><td>0.80067</td></tr><tr><td>precision_avg</td><td>0.80467</td></tr><tr><td>recall_avg</td><td>0.841</td></tr></table><br/></div></div>"
      ],
      "text/plain": [
       "<IPython.core.display.HTML object>"
      ]
     },
     "metadata": {},
     "output_type": "display_data"
    },
    {
     "data": {
      "text/html": [
       " View run <strong style=\"color:#cdcd00\">final</strong> at: <a href='https://wandb.ai/suyee-tan21-nus/pipeline-mba/runs/tuxq0tgg' target=\"_blank\">https://wandb.ai/suyee-tan21-nus/pipeline-mba/runs/tuxq0tgg</a><br/> View project at: <a href='https://wandb.ai/suyee-tan21-nus/pipeline-mba' target=\"_blank\">https://wandb.ai/suyee-tan21-nus/pipeline-mba</a><br/>Synced 5 W&B file(s), 0 media file(s), 4 artifact file(s) and 2 other file(s)"
      ],
      "text/plain": [
       "<IPython.core.display.HTML object>"
      ]
     },
     "metadata": {},
     "output_type": "display_data"
    },
    {
     "data": {
      "text/html": [
       "Find logs at: <code>./wandb/run-20241029_180306-tuxq0tgg/logs</code>"
      ],
      "text/plain": [
       "<IPython.core.display.HTML object>"
      ]
     },
     "metadata": {},
     "output_type": "display_data"
    }
   ],
   "source": [
    "# Evaluate KNN on all test data\n",
    "pn = \"pipeline-\" + project_name\n",
    "wandb.init(project=pn, name=\"final\")\n",
    "\n",
    "# Modify the list and extract the second element in one step\n",
    "# final_knn_predictions = [t[0] for t in knn_predictions] # New\n",
    "final_knn_predictions = [(lambda t: (t[0], NORMAL_TARGET, t[2]) if t[0] == 1 else t)(t)[1] for t in knn_predictions] # Old\n",
    "final_knn_predictions_df = pd.DataFrame(final_knn_predictions, columns=[TARGET_COLUMN])\n",
    "common.evaluate(y_test_df, final_knn_predictions_df, heading='KNN Evaluation (overall)')\n",
    "wandb.finish()"
   ]
  },
  {
   "cell_type": "code",
   "execution_count": null,
   "metadata": {},
   "outputs": [],
   "source": []
  }
 ],
 "metadata": {
  "kernelspec": {
   "display_name": "Python 3 (ipykernel)",
   "language": "python",
   "name": "python3"
  },
  "language_info": {
   "codemirror_mode": {
    "name": "ipython",
    "version": 3
   },
   "file_extension": ".py",
   "mimetype": "text/x-python",
   "name": "python",
   "nbconvert_exporter": "python",
   "pygments_lexer": "ipython3",
   "version": "3.13.0"
  }
 },
 "nbformat": 4,
 "nbformat_minor": 4
}
