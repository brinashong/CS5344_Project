{
 "cells": [
  {
   "cell_type": "code",
   "execution_count": 1,
   "metadata": {},
   "outputs": [
    {
     "name": "stderr",
     "output_type": "stream",
     "text": [
      "/home/brina/miniconda3/envs/gpu/lib/python3.8/site-packages/scipy/__init__.py:146: UserWarning: A NumPy version >=1.16.5 and <1.23.0 is required for this version of SciPy (detected version 1.24.4\n",
      "  warnings.warn(f\"A NumPy version >={np_minversion} and <{np_maxversion}\"\n"
     ]
    }
   ],
   "source": [
    "import wandb\n",
    "import numpy as np\n",
    "import os\n",
    "import random\n",
    "import glob\n",
    "import pandas as pd\n",
    "import time\n",
    "import sklearn as sk\n",
    "import seaborn as sns\n",
    "import matplotlib.pyplot as plt\n",
    "%matplotlib inline\n",
    "import importlib\n",
    "from common import common\n",
    "from sklearn.linear_model import LogisticRegression\n",
    "from sklearn.tree import DecisionTreeClassifier\n",
    "from sklearn.ensemble import ExtraTreesClassifier, RandomForestClassifier\n",
    "from sklearn.ensemble import RandomForestRegressor, GradientBoostingClassifier, VotingClassifier\n",
    "from sklearn.datasets import fetch_covtype\n",
    "from sklearn.neighbors import KNeighborsClassifier\n",
    "from sklearn.preprocessing import OneHotEncoder, StandardScaler, LabelEncoder\n",
    "from sklearn.svm import SVC\n",
    "from sklearn.model_selection import train_test_split, cross_val_score\n",
    "from sklearn.metrics import classification_report, confusion_matrix, accuracy_score\n",
    "from scipy.io import arff\n",
    "from sklearn.datasets import fetch_openml\n",
    "from joblib import Parallel, delayed\n",
    "from concurrent.futures import ProcessPoolExecutor\n",
    "from functools import partial\n",
    "from sklearn.pipeline import Pipeline\n",
    "from sklearn.feature_selection import SelectFromModel\n",
    "from sklearn.model_selection import GridSearchCV, RandomizedSearchCV"
   ]
  },
  {
   "cell_type": "code",
   "execution_count": 2,
   "metadata": {},
   "outputs": [
    {
     "name": "stderr",
     "output_type": "stream",
     "text": [
      "\u001b[34m\u001b[1mwandb\u001b[0m: Currently logged in as: \u001b[33mbrinashong\u001b[0m. Use \u001b[1m`wandb login --relogin`\u001b[0m to force relogin\n"
     ]
    },
    {
     "data": {
      "text/plain": [
       "True"
      ]
     },
     "execution_count": 2,
     "metadata": {},
     "output_type": "execute_result"
    }
   ],
   "source": [
    "wandb.login()"
   ]
  },
  {
   "cell_type": "code",
   "execution_count": 68,
   "metadata": {},
   "outputs": [
    {
     "data": {
      "text/plain": [
       "<module 'common.common' from '/home/brina/nus-mcomp/sem2/cs5344-big-data-analytics-technology/CS5344_Project.git/sy/work/common/common.py'>"
      ]
     },
     "execution_count": 68,
     "metadata": {},
     "output_type": "execute_result"
    }
   ],
   "source": [
    "# Reload common module\n",
    "importlib.reload(common)"
   ]
  },
  {
   "cell_type": "code",
   "execution_count": 4,
   "metadata": {},
   "outputs": [],
   "source": [
    "# Shared variables\n",
    "OUTPUT_FOLDER = 'csv_files'\n",
    "FEATURE_FOLDER = 'features'\n",
    "TEST_COUNT = 500"
   ]
  },
  {
   "cell_type": "code",
   "execution_count": 5,
   "metadata": {},
   "outputs": [],
   "source": [
    "# project name should correspond to dataset below\n",
    "# project_name = \"covertype\"\n",
    "# project_name = \"kdd\"\n",
    "# project_name = \"cicids\"\n",
    "# project_name = \"thyroid\"\n",
    "project_name = \"unsw\""
   ]
  },
  {
   "cell_type": "code",
   "execution_count": 6,
   "metadata": {},
   "outputs": [],
   "source": [
    "# %run datasets/covertype.ipynb\n",
    "# %run datasets/kdd.ipynb\n",
    "# %run datasets/cicids.ipynb\n",
    "# %run datasets/thyroid.ipynb\n",
    "%run datasets/unsw.ipynb"
   ]
  },
  {
   "cell_type": "code",
   "execution_count": 7,
   "metadata": {},
   "outputs": [
    {
     "name": "stdout",
     "output_type": "stream",
     "text": [
      "Normal class:  0    Normal\n",
      "Name: attack_cat, dtype: category\n",
      "Categories (10, object): ['Analysis', 'Backdoor', 'DoS', 'Exploits', ..., 'Normal', 'Reconnaissance', 'Shellcode', 'Worms']\n",
      "TARGET_DICT {0: 'Analysis', 1: 'Backdoor', 2: 'DoS', 3: 'Exploits', 4: 'Fuzzers', 5: 'Generic', 6: 'Normal', 7: 'Reconnaissance', 8: 'Shellcode', 9: 'Worms'}\n",
      "NORMAL_TARGET 6\n",
      "main_labels Index(['dur', 'spkts', 'dpkts', 'sbytes', 'dbytes', 'rate', 'sload', 'dload',\n",
      "       'sloss', 'dloss',\n",
      "       ...\n",
      "       'service_ssl', 'state_CON', 'state_ECO', 'state_FIN', 'state_INT',\n",
      "       'state_PAR', 'state_REQ', 'state_RST', 'state_URN', 'state_no'],\n",
      "      dtype='object', length=187)\n"
     ]
    },
    {
     "data": {
      "text/html": [
       "<div>\n",
       "<style scoped>\n",
       "    .dataframe tbody tr th:only-of-type {\n",
       "        vertical-align: middle;\n",
       "    }\n",
       "\n",
       "    .dataframe tbody tr th {\n",
       "        vertical-align: top;\n",
       "    }\n",
       "\n",
       "    .dataframe thead th {\n",
       "        text-align: right;\n",
       "    }\n",
       "</style>\n",
       "<table border=\"1\" class=\"dataframe\">\n",
       "  <thead>\n",
       "    <tr style=\"text-align: right;\">\n",
       "      <th></th>\n",
       "      <th>dur</th>\n",
       "      <th>spkts</th>\n",
       "      <th>dpkts</th>\n",
       "      <th>sbytes</th>\n",
       "      <th>dbytes</th>\n",
       "      <th>rate</th>\n",
       "      <th>sload</th>\n",
       "      <th>dload</th>\n",
       "      <th>sloss</th>\n",
       "      <th>dloss</th>\n",
       "      <th>...</th>\n",
       "      <th>service_ssl</th>\n",
       "      <th>state_CON</th>\n",
       "      <th>state_ECO</th>\n",
       "      <th>state_FIN</th>\n",
       "      <th>state_INT</th>\n",
       "      <th>state_PAR</th>\n",
       "      <th>state_REQ</th>\n",
       "      <th>state_RST</th>\n",
       "      <th>state_URN</th>\n",
       "      <th>state_no</th>\n",
       "    </tr>\n",
       "  </thead>\n",
       "  <tbody>\n",
       "    <tr>\n",
       "      <th>0</th>\n",
       "      <td>0.121478</td>\n",
       "      <td>6</td>\n",
       "      <td>4</td>\n",
       "      <td>258</td>\n",
       "      <td>172</td>\n",
       "      <td>74.087486</td>\n",
       "      <td>14158.942383</td>\n",
       "      <td>8495.365234</td>\n",
       "      <td>0</td>\n",
       "      <td>0</td>\n",
       "      <td>...</td>\n",
       "      <td>0.0</td>\n",
       "      <td>0.0</td>\n",
       "      <td>0.0</td>\n",
       "      <td>1.0</td>\n",
       "      <td>0.0</td>\n",
       "      <td>0.0</td>\n",
       "      <td>0.0</td>\n",
       "      <td>0.0</td>\n",
       "      <td>0.0</td>\n",
       "      <td>0.0</td>\n",
       "    </tr>\n",
       "    <tr>\n",
       "      <th>1</th>\n",
       "      <td>0.649902</td>\n",
       "      <td>14</td>\n",
       "      <td>38</td>\n",
       "      <td>734</td>\n",
       "      <td>42014</td>\n",
       "      <td>78.473373</td>\n",
       "      <td>8395.112305</td>\n",
       "      <td>503571.312500</td>\n",
       "      <td>2</td>\n",
       "      <td>17</td>\n",
       "      <td>...</td>\n",
       "      <td>0.0</td>\n",
       "      <td>0.0</td>\n",
       "      <td>0.0</td>\n",
       "      <td>1.0</td>\n",
       "      <td>0.0</td>\n",
       "      <td>0.0</td>\n",
       "      <td>0.0</td>\n",
       "      <td>0.0</td>\n",
       "      <td>0.0</td>\n",
       "      <td>0.0</td>\n",
       "    </tr>\n",
       "    <tr>\n",
       "      <th>2</th>\n",
       "      <td>1.623129</td>\n",
       "      <td>8</td>\n",
       "      <td>16</td>\n",
       "      <td>364</td>\n",
       "      <td>13186</td>\n",
       "      <td>14.170161</td>\n",
       "      <td>1572.271851</td>\n",
       "      <td>60929.230469</td>\n",
       "      <td>1</td>\n",
       "      <td>6</td>\n",
       "      <td>...</td>\n",
       "      <td>0.0</td>\n",
       "      <td>0.0</td>\n",
       "      <td>0.0</td>\n",
       "      <td>1.0</td>\n",
       "      <td>0.0</td>\n",
       "      <td>0.0</td>\n",
       "      <td>0.0</td>\n",
       "      <td>0.0</td>\n",
       "      <td>0.0</td>\n",
       "      <td>0.0</td>\n",
       "    </tr>\n",
       "    <tr>\n",
       "      <th>3</th>\n",
       "      <td>1.681642</td>\n",
       "      <td>12</td>\n",
       "      <td>12</td>\n",
       "      <td>628</td>\n",
       "      <td>770</td>\n",
       "      <td>13.677108</td>\n",
       "      <td>2740.178955</td>\n",
       "      <td>3358.622070</td>\n",
       "      <td>1</td>\n",
       "      <td>3</td>\n",
       "      <td>...</td>\n",
       "      <td>0.0</td>\n",
       "      <td>0.0</td>\n",
       "      <td>0.0</td>\n",
       "      <td>1.0</td>\n",
       "      <td>0.0</td>\n",
       "      <td>0.0</td>\n",
       "      <td>0.0</td>\n",
       "      <td>0.0</td>\n",
       "      <td>0.0</td>\n",
       "      <td>0.0</td>\n",
       "    </tr>\n",
       "    <tr>\n",
       "      <th>4</th>\n",
       "      <td>0.449454</td>\n",
       "      <td>10</td>\n",
       "      <td>6</td>\n",
       "      <td>534</td>\n",
       "      <td>268</td>\n",
       "      <td>33.373825</td>\n",
       "      <td>8561.499023</td>\n",
       "      <td>3987.059814</td>\n",
       "      <td>2</td>\n",
       "      <td>1</td>\n",
       "      <td>...</td>\n",
       "      <td>0.0</td>\n",
       "      <td>0.0</td>\n",
       "      <td>0.0</td>\n",
       "      <td>1.0</td>\n",
       "      <td>0.0</td>\n",
       "      <td>0.0</td>\n",
       "      <td>0.0</td>\n",
       "      <td>0.0</td>\n",
       "      <td>0.0</td>\n",
       "      <td>0.0</td>\n",
       "    </tr>\n",
       "  </tbody>\n",
       "</table>\n",
       "<p>5 rows × 187 columns</p>\n",
       "</div>"
      ],
      "text/plain": [
       "        dur  spkts  dpkts  sbytes  dbytes       rate         sload  \\\n",
       "0  0.121478      6      4     258     172  74.087486  14158.942383   \n",
       "1  0.649902     14     38     734   42014  78.473373   8395.112305   \n",
       "2  1.623129      8     16     364   13186  14.170161   1572.271851   \n",
       "3  1.681642     12     12     628     770  13.677108   2740.178955   \n",
       "4  0.449454     10      6     534     268  33.373825   8561.499023   \n",
       "\n",
       "           dload  sloss  dloss  ...  service_ssl  state_CON  state_ECO  \\\n",
       "0    8495.365234      0      0  ...          0.0        0.0        0.0   \n",
       "1  503571.312500      2     17  ...          0.0        0.0        0.0   \n",
       "2   60929.230469      1      6  ...          0.0        0.0        0.0   \n",
       "3    3358.622070      1      3  ...          0.0        0.0        0.0   \n",
       "4    3987.059814      2      1  ...          0.0        0.0        0.0   \n",
       "\n",
       "   state_FIN  state_INT  state_PAR  state_REQ  state_RST  state_URN  state_no  \n",
       "0        1.0        0.0        0.0        0.0        0.0        0.0       0.0  \n",
       "1        1.0        0.0        0.0        0.0        0.0        0.0       0.0  \n",
       "2        1.0        0.0        0.0        0.0        0.0        0.0       0.0  \n",
       "3        1.0        0.0        0.0        0.0        0.0        0.0       0.0  \n",
       "4        1.0        0.0        0.0        0.0        0.0        0.0       0.0  \n",
       "\n",
       "[5 rows x 187 columns]"
      ]
     },
     "execution_count": 7,
     "metadata": {},
     "output_type": "execute_result"
    }
   ],
   "source": [
    "# Should already be one hot encoded and label encoded\n",
    "# all_df, main_labels, config = get_processed_covtype_df()\n",
    "# all_df, main_labels, config = get_processed_kdd_df()\n",
    "# all_df, main_labels, config = get_processed_cicids_df()\n",
    "# all_df, main_labels, config = get_processed_thyroid_df()\n",
    "all_df, main_labels, config = get_processed_unsw_df()\n",
    "\n",
    "TARGET_COLUMN = config['TARGET_COLUMN']\n",
    "NORMAL_TARGET = config['NORMAL_TARGET']\n",
    "TARGET_DICT = config['TARGET_DICT']\n",
    "INV_TARGET_DICT = config['INV_TARGET_DICT']\n",
    "NUMERICAL_COLUMNS = config['NUMERICAL_COLUMNS']\n",
    "CATEGORICAL_COLUMNS = config['CATEGORICAL_COLUMNS']\n",
    "ORDINAL_COLUMNS = config['ORDINAL_COLUMNS']\n",
    "all_df.head()"
   ]
  },
  {
   "cell_type": "code",
   "execution_count": 9,
   "metadata": {},
   "outputs": [
    {
     "data": {
      "text/plain": [
       "(175341, 187)"
      ]
     },
     "execution_count": 9,
     "metadata": {},
     "output_type": "execute_result"
    }
   ],
   "source": [
    "all_df.shape"
   ]
  },
  {
   "cell_type": "code",
   "execution_count": 10,
   "metadata": {},
   "outputs": [
    {
     "name": "stdout",
     "output_type": "stream",
     "text": [
      "All files in csv_files have been removed.\n",
      "All files in features have been removed.\n"
     ]
    }
   ],
   "source": [
    "# Create a folder to save the CSVs\n",
    "common.remove_files_from_directory(OUTPUT_FOLDER)\n",
    "common.remove_files_from_directory(FEATURE_FOLDER)\n",
    "os.makedirs(OUTPUT_FOLDER, exist_ok=True)\n",
    "os.makedirs(FEATURE_FOLDER, exist_ok=True)"
   ]
  },
  {
   "cell_type": "code",
   "execution_count": 9,
   "metadata": {},
   "outputs": [],
   "source": [
    "# Save all data as csv\n",
    "all_df.to_csv('all_data.csv' ,index = False)"
   ]
  },
  {
   "cell_type": "code",
   "execution_count": 10,
   "metadata": {},
   "outputs": [
    {
     "name": "stdout",
     "output_type": "stream",
     "text": [
      "(140272, 186) (35069, 186) (140272,) (35069,)\n"
     ]
    }
   ],
   "source": [
    "# Get X and y from all_df\n",
    "X_df = all_df.drop(columns=[TARGET_COLUMN])\n",
    "y_df = all_df[TARGET_COLUMN]\n",
    "\n",
    "# Split the data into training and test sets\n",
    "X_train_df, X_test_df, y_train_df, y_test_df = train_test_split(X_df, y_df, test_size=0.2, random_state=42)\n",
    "print(X_train_df.shape, X_test_df.shape, y_train_df.shape, y_test_df.shape)"
   ]
  },
  {
   "cell_type": "code",
   "execution_count": 11,
   "metadata": {},
   "outputs": [
    {
     "data": {
      "text/html": [
       "<div>\n",
       "<style scoped>\n",
       "    .dataframe tbody tr th:only-of-type {\n",
       "        vertical-align: middle;\n",
       "    }\n",
       "\n",
       "    .dataframe tbody tr th {\n",
       "        vertical-align: top;\n",
       "    }\n",
       "\n",
       "    .dataframe thead th {\n",
       "        text-align: right;\n",
       "    }\n",
       "</style>\n",
       "<table border=\"1\" class=\"dataframe\">\n",
       "  <thead>\n",
       "    <tr style=\"text-align: right;\">\n",
       "      <th></th>\n",
       "      <th>dur</th>\n",
       "      <th>spkts</th>\n",
       "      <th>dpkts</th>\n",
       "      <th>sbytes</th>\n",
       "      <th>dbytes</th>\n",
       "      <th>rate</th>\n",
       "      <th>sload</th>\n",
       "      <th>dload</th>\n",
       "      <th>sloss</th>\n",
       "      <th>dloss</th>\n",
       "      <th>...</th>\n",
       "      <th>state_CON</th>\n",
       "      <th>state_ECO</th>\n",
       "      <th>state_FIN</th>\n",
       "      <th>state_INT</th>\n",
       "      <th>state_PAR</th>\n",
       "      <th>state_REQ</th>\n",
       "      <th>state_RST</th>\n",
       "      <th>state_URN</th>\n",
       "      <th>state_no</th>\n",
       "      <th>attack_cat</th>\n",
       "    </tr>\n",
       "  </thead>\n",
       "  <tbody>\n",
       "    <tr>\n",
       "      <th>96203</th>\n",
       "      <td>0.518188</td>\n",
       "      <td>10</td>\n",
       "      <td>8</td>\n",
       "      <td>794</td>\n",
       "      <td>1158</td>\n",
       "      <td>32.806625</td>\n",
       "      <td>1.103846e+04</td>\n",
       "      <td>15654.549805</td>\n",
       "      <td>2</td>\n",
       "      <td>2</td>\n",
       "      <td>...</td>\n",
       "      <td>0.0</td>\n",
       "      <td>0.0</td>\n",
       "      <td>1.0</td>\n",
       "      <td>0.0</td>\n",
       "      <td>0.0</td>\n",
       "      <td>0.0</td>\n",
       "      <td>0.0</td>\n",
       "      <td>0.0</td>\n",
       "      <td>0.0</td>\n",
       "      <td>6</td>\n",
       "    </tr>\n",
       "    <tr>\n",
       "      <th>58960</th>\n",
       "      <td>0.000009</td>\n",
       "      <td>2</td>\n",
       "      <td>0</td>\n",
       "      <td>200</td>\n",
       "      <td>0</td>\n",
       "      <td>111111.109375</td>\n",
       "      <td>8.888889e+07</td>\n",
       "      <td>0.000000</td>\n",
       "      <td>0</td>\n",
       "      <td>0</td>\n",
       "      <td>...</td>\n",
       "      <td>0.0</td>\n",
       "      <td>0.0</td>\n",
       "      <td>0.0</td>\n",
       "      <td>1.0</td>\n",
       "      <td>0.0</td>\n",
       "      <td>0.0</td>\n",
       "      <td>0.0</td>\n",
       "      <td>0.0</td>\n",
       "      <td>0.0</td>\n",
       "      <td>0</td>\n",
       "    </tr>\n",
       "    <tr>\n",
       "      <th>65069</th>\n",
       "      <td>0.919013</td>\n",
       "      <td>18</td>\n",
       "      <td>12</td>\n",
       "      <td>6070</td>\n",
       "      <td>678</td>\n",
       "      <td>31.555592</td>\n",
       "      <td>4.990571e+04</td>\n",
       "      <td>5414.504395</td>\n",
       "      <td>5</td>\n",
       "      <td>4</td>\n",
       "      <td>...</td>\n",
       "      <td>0.0</td>\n",
       "      <td>0.0</td>\n",
       "      <td>1.0</td>\n",
       "      <td>0.0</td>\n",
       "      <td>0.0</td>\n",
       "      <td>0.0</td>\n",
       "      <td>0.0</td>\n",
       "      <td>0.0</td>\n",
       "      <td>0.0</td>\n",
       "      <td>6</td>\n",
       "    </tr>\n",
       "    <tr>\n",
       "      <th>64133</th>\n",
       "      <td>1.003319</td>\n",
       "      <td>10</td>\n",
       "      <td>10</td>\n",
       "      <td>762</td>\n",
       "      <td>4220</td>\n",
       "      <td>18.937147</td>\n",
       "      <td>5.469845e+03</td>\n",
       "      <td>30283.488281</td>\n",
       "      <td>2</td>\n",
       "      <td>3</td>\n",
       "      <td>...</td>\n",
       "      <td>0.0</td>\n",
       "      <td>0.0</td>\n",
       "      <td>1.0</td>\n",
       "      <td>0.0</td>\n",
       "      <td>0.0</td>\n",
       "      <td>0.0</td>\n",
       "      <td>0.0</td>\n",
       "      <td>0.0</td>\n",
       "      <td>0.0</td>\n",
       "      <td>3</td>\n",
       "    </tr>\n",
       "    <tr>\n",
       "      <th>111445</th>\n",
       "      <td>0.000005</td>\n",
       "      <td>2</td>\n",
       "      <td>0</td>\n",
       "      <td>200</td>\n",
       "      <td>0</td>\n",
       "      <td>200000.000000</td>\n",
       "      <td>1.600000e+08</td>\n",
       "      <td>0.000000</td>\n",
       "      <td>0</td>\n",
       "      <td>0</td>\n",
       "      <td>...</td>\n",
       "      <td>0.0</td>\n",
       "      <td>0.0</td>\n",
       "      <td>0.0</td>\n",
       "      <td>1.0</td>\n",
       "      <td>0.0</td>\n",
       "      <td>0.0</td>\n",
       "      <td>0.0</td>\n",
       "      <td>0.0</td>\n",
       "      <td>0.0</td>\n",
       "      <td>3</td>\n",
       "    </tr>\n",
       "  </tbody>\n",
       "</table>\n",
       "<p>5 rows × 187 columns</p>\n",
       "</div>"
      ],
      "text/plain": [
       "             dur  spkts  dpkts  sbytes  dbytes           rate         sload  \\\n",
       "96203   0.518188     10      8     794    1158      32.806625  1.103846e+04   \n",
       "58960   0.000009      2      0     200       0  111111.109375  8.888889e+07   \n",
       "65069   0.919013     18     12    6070     678      31.555592  4.990571e+04   \n",
       "64133   1.003319     10     10     762    4220      18.937147  5.469845e+03   \n",
       "111445  0.000005      2      0     200       0  200000.000000  1.600000e+08   \n",
       "\n",
       "               dload  sloss  dloss  ...  state_CON  state_ECO  state_FIN  \\\n",
       "96203   15654.549805      2      2  ...        0.0        0.0        1.0   \n",
       "58960       0.000000      0      0  ...        0.0        0.0        0.0   \n",
       "65069    5414.504395      5      4  ...        0.0        0.0        1.0   \n",
       "64133   30283.488281      2      3  ...        0.0        0.0        1.0   \n",
       "111445      0.000000      0      0  ...        0.0        0.0        0.0   \n",
       "\n",
       "        state_INT  state_PAR  state_REQ  state_RST  state_URN  state_no  \\\n",
       "96203         0.0        0.0        0.0        0.0        0.0       0.0   \n",
       "58960         1.0        0.0        0.0        0.0        0.0       0.0   \n",
       "65069         0.0        0.0        0.0        0.0        0.0       0.0   \n",
       "64133         0.0        0.0        0.0        0.0        0.0       0.0   \n",
       "111445        1.0        0.0        0.0        0.0        0.0       0.0   \n",
       "\n",
       "        attack_cat  \n",
       "96203            6  \n",
       "58960            0  \n",
       "65069            6  \n",
       "64133            3  \n",
       "111445           3  \n",
       "\n",
       "[5 rows x 187 columns]"
      ]
     },
     "execution_count": 11,
     "metadata": {},
     "output_type": "execute_result"
    }
   ],
   "source": [
    "# Concatenate X_train and y_train along the columns (axis=1)\n",
    "X_y_train_df = pd.concat([X_train_df, y_train_df], axis=1)\n",
    "X_y_train_df.head()"
   ]
  },
  {
   "cell_type": "code",
   "execution_count": 12,
   "metadata": {},
   "outputs": [],
   "source": [
    "# Fit and transform the numeric columns\n",
    "scaler, X_train_scaled_df = common.standardise(X_train_df, NUMERICAL_COLUMNS)\n",
    "# print('X_train_scaled_df', X_train_scaled_df)\n",
    "\n",
    "# Use the same scaler to transform X_test\n",
    "scaler, X_test_scaled_df = common.standardise(X_test_df, NUMERICAL_COLUMNS, scaler=scaler)\n",
    "# print('X_test_scaled_df', X_test_scaled_df)"
   ]
  },
  {
   "cell_type": "code",
   "execution_count": 17,
   "metadata": {},
   "outputs": [
    {
     "name": "stdout",
     "output_type": "stream",
     "text": [
      "abnormal_type_dict {6: 56000, 5: 40000, 3: 33393, 4: 18184, 2: 12264, 7: 10491, 0: 2000, 1: 1746, 8: 1133, 9: 130}\n",
      "Analysis.csv created with 6000 rows. (4000 benign and 2000 abnormal rows)\n",
      "Backdoor.csv created with 5238 rows. (3492 benign and 1746 abnormal rows)\n",
      "DoS.csv created with 36792 rows. (24528 benign and 12264 abnormal rows)\n",
      "Exploits.csv created with 89393 rows. (56000 benign and 33393 abnormal rows)\n",
      "Fuzzers.csv created with 54552 rows. (36368 benign and 18184 abnormal rows)\n",
      "Generic.csv created with 96000 rows. (56000 benign and 40000 abnormal rows)\n",
      "Reconnaissance.csv created with 31473 rows. (20982 benign and 10491 abnormal rows)\n",
      "Shellcode.csv created with 3399 rows. (2266 benign and 1133 abnormal rows)\n",
      "Worms.csv created with 390 rows. (260 benign and 130 abnormal rows)\n",
      "All datasets created successfully!\n"
     ]
    }
   ],
   "source": [
    "# Loop through each cover type and create a dataset\n",
    "benign = 2359289\n",
    "abnormal_type_counts = all_df[TARGET_COLUMN].value_counts()\n",
    "abnormal_type_dict = abnormal_type_counts.to_dict()\n",
    "print('abnormal_type_dict', abnormal_type_dict)\n",
    "target_index = all_df.columns.get_loc(TARGET_COLUMN)\n",
    "benign_ratio = 2  # Adjust this ratio as needed\n",
    "min_benign_samples = 50  # Ensure at least 50 benign samples are always included\n",
    "\n",
    "for label, name in TARGET_DICT.items():\n",
    "    if label == NORMAL_TARGET:\n",
    "        continue  # Skip the normal target\n",
    "    \n",
    "    a, b = 0, 0  # Track abnormal and benign sample counts\n",
    "    \n",
    "    # Open the output file for writing\n",
    "    output_path = os.path.join(OUTPUT_FOLDER, f\"{name}.csv\")\n",
    "    with open(output_path, \"w\") as ths:\n",
    "        ths.write(','.join(main_labels) + \"\\n\")\n",
    "        \n",
    "        # Calculate the number of benign samples based on the fixed ratio\n",
    "        abnormal_count = abnormal_type_dict[label]\n",
    "        benign_num = max(min(int(abnormal_count * benign_ratio), benign), min_benign_samples)\n",
    "        # print(f'Creating {name}.csv with {benign_num} benign samples and {abnormal_count} abnormal samples.')\n",
    "\n",
    "        # Collect normal (benign) rows and abnormal rows\n",
    "        benign_rows = []\n",
    "        abnormal_rows = []\n",
    "\n",
    "        # Read all_data.csv line by line and collect rows\n",
    "        with open(\"all_data.csv\", \"r\") as file:\n",
    "            for i, line in enumerate(file):\n",
    "                if i == 0:\n",
    "                    continue  # Skip the header row\n",
    "                k = line.strip().split(\",\")  # Strip newline and split the line\n",
    "                \n",
    "                # Collect normal rows\n",
    "                if int(k[target_index]) == NORMAL_TARGET:\n",
    "                    benign_rows.append(line)\n",
    "                \n",
    "                # Collect abnormal rows that match the current label\n",
    "                elif int(k[target_index]) == label:\n",
    "                    abnormal_rows.append(line)\n",
    "\n",
    "        # Randomly sample benign rows\n",
    "        if len(benign_rows) > benign_num:\n",
    "            benign_rows = random.sample(benign_rows, benign_num)\n",
    "        else:\n",
    "            benign_rows = random.sample(benign_rows, len(benign_rows))  # Shuffle if fewer than required\n",
    "\n",
    "        # Concatenate benign and abnormal rows\n",
    "        combined_rows = benign_rows + abnormal_rows\n",
    "        \n",
    "        # Shuffle the combined rows\n",
    "        random.shuffle(combined_rows)\n",
    "\n",
    "        # Write the shuffled rows to the output file\n",
    "        for row in combined_rows:\n",
    "            ths.write(row)\n",
    "\n",
    "        # Print number of rows written\n",
    "        b = len(benign_rows)\n",
    "        a = len(abnormal_rows)\n",
    "        print(f\"{name}.csv created with {a + b} rows. ({b} benign and {a} abnormal rows)\")\n",
    "\n",
    "print(\"All datasets created successfully!\")"
   ]
  },
  {
   "cell_type": "code",
   "execution_count": 18,
   "metadata": {},
   "outputs": [
    {
     "data": {
      "text/plain": [
       "187"
      ]
     },
     "execution_count": 18,
     "metadata": {},
     "output_type": "execute_result"
    }
   ],
   "source": [
    "len(main_labels)"
   ]
  },
  {
   "cell_type": "code",
   "execution_count": null,
   "metadata": {},
   "outputs": [
    {
     "name": "stdout",
     "output_type": "stream",
     "text": [
      "csv_files ['Exploits.csv', 'Analysis.csv', 'Worms.csv', 'Shellcode.csv', 'Fuzzers.csv', 'DoS.csv', 'Reconnaissance.csv', 'Generic.csv', 'Backdoor.csv']\n",
      "Processing CSV file:Processing CSV file:Processing CSV file:Processing CSV file:Processing CSV file:Processing CSV file:Processing CSV file:Processing CSV file:Processing CSV file:         Analysis.csvShellcode.csvExploits.csvDoS.csvWorms.csvFuzzers.csvReconnaissance.csvGeneric.csvBackdoor.csv\n",
      "\n",
      "\n",
      "\n",
      "\n",
      "\n",
      "\n",
      "\n",
      "\n"
     ]
    }
   ],
   "source": [
    "seconds = time.time()\n",
    "\n",
    "# CSV files names:\n",
    "csv_files=os.listdir(OUTPUT_FOLDER)\n",
    "print('csv_files',csv_files)\n",
    "\n",
    "feature_importances = {}\n",
    "SVMs = {}\n",
    "ensembles = {}\n",
    "\n",
    "process_csv_with_args = partial(\n",
    "        common.process_csv, \n",
    "        main_labels=main_labels, \n",
    "        target_column=TARGET_COLUMN, \n",
    "        normal_target=NORMAL_TARGET, \n",
    "        numerical_columns=NUMERICAL_COLUMNS, \n",
    "        output_folder=OUTPUT_FOLDER,\n",
    "        scaler=scaler \n",
    "    )\n",
    "\n",
    "with ProcessPoolExecutor() as executor:\n",
    "        results = list(executor.map(process_csv_with_args, csv_files))\n",
    "\n",
    "# Collect results from the futures\n",
    "for label, important_features, svm, impor_bars in results:\n",
    "    feature_importances[label] = important_features\n",
    "    SVMs[label] = svm\n",
    "    # ensembles[label] = ensemble\n",
    "\n",
    "    # Show feature importance\n",
    "    common.show_feature_importance(impor_bars, label, FEATURE_FOLDER)\n",
    "    print(\"-----------------------------------------------------------------------------------------------\\n\\n\\n\\n\")\n",
    "\n",
    "print('feature_importances:', feature_importances)\n",
    "print(\"Total operation time: =\", time.time() - seconds, \"seconds\")"
   ]
  },
  {
   "cell_type": "code",
   "execution_count": 64,
   "metadata": {},
   "outputs": [
    {
     "name": "stdout",
     "output_type": "stream",
     "text": [
      "test_predictions [6 5 3 ... 6 6 4]\n",
      "Total operation time: =  3.9136481285095215 seconds\n"
     ]
    }
   ],
   "source": [
    "seconds = time.time()\n",
    "\n",
    "# Define the model\n",
    "rf = RandomForestClassifier(n_estimators=100, random_state=42, n_jobs=-1)\n",
    "\n",
    "# # Define the parameter grid to search\n",
    "# param_distributions = {\n",
    "#     'n_estimators': [100, 200, 300, 400, 500],               # Number of trees\n",
    "#     'max_depth': [None, 10, 20, 30, 40, 50],                 # Tree depth\n",
    "#     'min_samples_split': [2, 5, 10],                         # Minimum samples to split a node\n",
    "#     'min_samples_leaf': [1, 2, 4],                           # Minimum samples at a leaf\n",
    "#     'max_features': ['auto', 'sqrt', 'log2'],                # Number of features to consider at each split\n",
    "#     'bootstrap': [True, False]                               # Use bootstrap samples or not\n",
    "# }\n",
    "\n",
    "# # Perform random search with cross-validation\n",
    "# random_search = RandomizedSearchCV(estimator=rf, \n",
    "#                                    param_distributions=param_distributions, \n",
    "#                                    n_iter=100,  # Number of parameter settings sampled\n",
    "#                                    cv=3,        # 3-fold cross-validation\n",
    "#                                    random_state=42, \n",
    "#                                    n_jobs=-1)   # Use all cores\n",
    "\n",
    "# Fit the model\n",
    "# random_search.fit(X_train_df, y_train_df)\n",
    "rf.fit(X_train_df, y_train_df)\n",
    "\n",
    "# Best parameters found\n",
    "# print(\"Best parameters found: \", random_search.best_params_)\n",
    "# print(\"Best score: \", random_search.best_score_)\n",
    "\n",
    "# Predict classes for the test set\n",
    "test_predictions = rf.predict(X_test_df)\n",
    "print('test_predictions', test_predictions)\n",
    "\n",
    "print(\"Total operation time: = \", time.time() - seconds, \"seconds\")"
   ]
  },
  {
   "cell_type": "code",
   "execution_count": 65,
   "metadata": {},
   "outputs": [
    {
     "data": {
      "text/html": [
       "wandb version 0.18.5 is available!  To upgrade, please run:\n",
       " $ pip install wandb --upgrade"
      ],
      "text/plain": [
       "<IPython.core.display.HTML object>"
      ]
     },
     "metadata": {},
     "output_type": "display_data"
    },
    {
     "data": {
      "text/html": [
       "Tracking run with wandb version 0.16.4"
      ],
      "text/plain": [
       "<IPython.core.display.HTML object>"
      ]
     },
     "metadata": {},
     "output_type": "display_data"
    },
    {
     "data": {
      "text/html": [
       "Run data is saved locally in <code>/home/brina/nus-mcomp/sem2/cs5344-big-data-analytics-technology/CS5344_Project.git/sy/work/wandb/run-20241019_174053-5i3talr1</code>"
      ],
      "text/plain": [
       "<IPython.core.display.HTML object>"
      ]
     },
     "metadata": {},
     "output_type": "display_data"
    },
    {
     "data": {
      "text/html": [
       "Syncing run <strong><a href='https://wandb.ai/brinashong/pipeline-unsw/runs/5i3talr1' target=\"_blank\">classification</a></strong> to <a href='https://wandb.ai/brinashong/pipeline-unsw' target=\"_blank\">Weights & Biases</a> (<a href='https://wandb.me/run' target=\"_blank\">docs</a>)<br/>"
      ],
      "text/plain": [
       "<IPython.core.display.HTML object>"
      ]
     },
     "metadata": {},
     "output_type": "display_data"
    },
    {
     "data": {
      "text/html": [
       " View project at <a href='https://wandb.ai/brinashong/pipeline-unsw' target=\"_blank\">https://wandb.ai/brinashong/pipeline-unsw</a>"
      ],
      "text/plain": [
       "<IPython.core.display.HTML object>"
      ]
     },
     "metadata": {},
     "output_type": "display_data"
    },
    {
     "data": {
      "text/html": [
       " View run at <a href='https://wandb.ai/brinashong/pipeline-unsw/runs/5i3talr1' target=\"_blank\">https://wandb.ai/brinashong/pipeline-unsw/runs/5i3talr1</a>"
      ],
      "text/plain": [
       "<IPython.core.display.HTML object>"
      ]
     },
     "metadata": {},
     "output_type": "display_data"
    },
    {
     "name": "stdout",
     "output_type": "stream",
     "text": [
      "Multiclass Classification Evaluation\n",
      "Confusion Matrix:\n",
      "[[   54     3    42   248     2     0    44     0     0     0]\n",
      " [    2    37    42   267     4     0     2     4     2     0]\n",
      " [    3     3   314  1971    33     0    23    16     7     0]\n",
      " [    3     0   509  5922   101     6    89   126    16     0]\n",
      " [    5     3    52   315  2594     6   566     3    26     0]\n",
      " [    0     1    23   137    16  7896     4     0     0     2]\n",
      " [    4     0     1    96   842     0 10203    15     7     1]\n",
      " [    0     2    73   437     3     0     2  1581     0     0]\n",
      " [    0     0     6    26    62     2    38     2    97     0]\n",
      " [    0     0     0    23     1     0     0     0     0     1]]\n"
     ]
    },
    {
     "data": {
      "image/png": "[encoded data removed]",
      "text/plain": [
       "<Figure size 1500x1000 with 2 Axes>"
      ]
     },
     "metadata": {},
     "output_type": "display_data"
    },
    {
     "name": "stdout",
     "output_type": "stream",
     "text": [
      "\n",
      "Classification Report:\n",
      "{'0': {'precision': 0.7605633802816901, 'recall': 0.13740458015267176, 'f1-score': 0.2327586206896552, 'support': 393.0}, '1': {'precision': 0.7551020408163265, 'recall': 0.10277777777777777, 'f1-score': 0.18092909535452323, 'support': 360.0}, '2': {'precision': 0.295668549905838, 'recall': 0.13248945147679325, 'f1-score': 0.18298368298368298, 'support': 2370.0}, '3': {'precision': 0.6271976276212666, 'recall': 0.8744831659775546, 'f1-score': 0.7304798322437399, 'support': 6772.0}, '4': {'precision': 0.7091306724986332, 'recall': 0.726610644257703, 'f1-score': 0.7177642501383508, 'support': 3570.0}, '5': {'precision': 0.9982300884955753, 'recall': 0.9773486817675455, 'f1-score': 0.9876790293326662, 'support': 8079.0}, '6': {'precision': 0.9299972655181843, 'recall': 0.9135106097233414, 'f1-score': 0.9216802168021679, 'support': 11169.0}, '7': {'precision': 0.9049799656554093, 'recall': 0.7535748331744518, 'f1-score': 0.822366710013004, 'support': 2098.0}, '8': {'precision': 0.6258064516129033, 'recall': 0.41630901287553645, 'f1-score': 0.5, 'support': 233.0}, '9': {'precision': 0.25, 'recall': 0.04, 'f1-score': 0.06896551724137932, 'support': 25.0}, 'accuracy': 0.8183580940431721, 'macro avg': {'precision': 0.6856676042405827, 'recall': 0.5074508757183376, 'f1-score': 0.5345606954799169, 'support': 35069.0}, 'weighted avg': {'precision': 0.814194948706606, 'recall': 0.8183580940431721, 'f1-score': 0.8046069877344335, 'support': 35069.0}}\n",
      "Accuracy: 0.8183580940431721\n"
     ]
    },
    {
     "data": {
      "application/vnd.jupyter.widget-view+json": {
       "model_id": "",
       "version_major": 2,
       "version_minor": 0
      },
      "text/plain": [
       "VBox(children=(Label(value='0.006 MB of 0.007 MB uploaded\\r'), FloatProgress(value=0.9396038232442167, max=1.0…"
      ]
     },
     "metadata": {},
     "output_type": "display_data"
    },
    {
     "data": {
      "text/html": [
       "<style>\n",
       "    table.wandb td:nth-child(1) { padding: 0 10px; text-align: left ; width: auto;} td:nth-child(2) {text-align: left ; width: 100%}\n",
       "    .wandb-row { display: flex; flex-direction: row; flex-wrap: wrap; justify-content: flex-start; width: 100% }\n",
       "    .wandb-col { display: flex; flex-direction: column; flex-basis: 100%; flex: 1; padding: 10px; }\n",
       "    </style>\n",
       "<div class=\"wandb-row\"><div class=\"wandb-col\"><h3>Run history:</h3><br/><table class=\"wandb\"><tr><td>Accuracy Score</td><td>▁</td></tr><tr><td>f1-score_avg</td><td>▁</td></tr><tr><td>precision_avg</td><td>▁</td></tr><tr><td>recall_avg</td><td>▁</td></tr></table><br/></div><div class=\"wandb-col\"><h3>Run summary:</h3><br/><table class=\"wandb\"><tr><td>Accuracy Score</td><td>0.81836</td></tr><tr><td>f1-score_avg</td><td>0.80461</td></tr><tr><td>precision_avg</td><td>0.81419</td></tr><tr><td>recall_avg</td><td>0.81836</td></tr></table><br/></div></div>"
      ],
      "text/plain": [
       "<IPython.core.display.HTML object>"
      ]
     },
     "metadata": {},
     "output_type": "display_data"
    },
    {
     "data": {
      "text/html": [
       " View run <strong style=\"color:#cdcd00\">classification</strong> at: <a href='https://wandb.ai/brinashong/pipeline-unsw/runs/5i3talr1' target=\"_blank\">https://wandb.ai/brinashong/pipeline-unsw/runs/5i3talr1</a><br/> View job at <a href='https://wandb.ai/brinashong/pipeline-unsw/jobs/QXJ0aWZhY3RDb2xsZWN0aW9uOjQ3ODg4MzU4Ng==/version_details/v2' target=\"_blank\">https://wandb.ai/brinashong/pipeline-unsw/jobs/QXJ0aWZhY3RDb2xsZWN0aW9uOjQ3ODg4MzU4Ng==/version_details/v2</a><br/>Synced 6 W&B file(s), 2 media file(s), 2 artifact file(s) and 0 other file(s)"
      ],
      "text/plain": [
       "<IPython.core.display.HTML object>"
      ]
     },
     "metadata": {},
     "output_type": "display_data"
    },
    {
     "data": {
      "text/html": [
       "Find logs at: <code>./wandb/run-20241019_174053-5i3talr1/logs</code>"
      ],
      "text/plain": [
       "<IPython.core.display.HTML object>"
      ]
     },
     "metadata": {},
     "output_type": "display_data"
    }
   ],
   "source": [
    "pn = \"pipeline-\" + project_name\n",
    "wandb.init(project=pn, name=\"classification\")\n",
    "common.evaluate(y_test_df, test_predictions, heading='Multiclass Classification Evaluation')\n",
    "wandb.finish()"
   ]
  },
  {
   "cell_type": "code",
   "execution_count": 66,
   "metadata": {},
   "outputs": [
    {
     "name": "stdout",
     "output_type": "stream",
     "text": [
      "Total operation time: =  35.84372019767761 seconds\n"
     ]
    }
   ],
   "source": [
    "svm_predictions = []\n",
    "seconds = time.time()\n",
    "\n",
    "for i in range(len(X_test_scaled_df)):\n",
    "    test_instance_df = X_test_scaled_df.iloc[i].to_frame().T\n",
    "    \n",
    "    if test_predictions[i] == NORMAL_TARGET:\n",
    "        # class_probabilities = {}\n",
    "        \n",
    "        # # Test the normal data point with all anomaly models\n",
    "        # for class_label, svm_model in SVMs.items():\n",
    "        #     # Select features for the SVM\n",
    "        #     selected_features = feature_importances[class_label]\n",
    "        #     test_instance_selected_df = test_instance_df[selected_features]\n",
    "        #     proba = svm_model.predict_proba(test_instance_selected_df)\n",
    "            \n",
    "        #     # We take the probability of class 0 (anomaly class)\n",
    "        #     anomaly_proba = proba[0][0]\n",
    "        #     class_probabilities[class_label] = anomaly_proba\n",
    "\n",
    "        # # Get the class with the highest probability\n",
    "        # most_probable_class = max(class_probabilities, key=class_probabilities.get)\n",
    "        \n",
    "        # # If the highest probability class has a probability greater than a threshold (e.g., 0.5), classify it as anomaly\n",
    "        # if class_probabilities[most_probable_class] > 0.5:\n",
    "        #     svm_predictions.append((0, INV_TARGET_DICT[most_probable_class], y_test_df.iloc[i]))\n",
    "        # else:\n",
    "            # Otherwise, classify it as normal\n",
    "        svm_predictions.append((1, NORMAL_TARGET, y_test_df.iloc[i]))\n",
    "    else:\n",
    "        # if test_predictions[i] == NORMAL_TARGET:\n",
    "        #     svm_predictions.append((0, NORMAL_TARGET, y_test_df.iloc[i]))\n",
    "        #     continue\n",
    "        predicted_label = TARGET_DICT[test_predictions[i]]\n",
    "        # print('predicted_label', predicted_label)\n",
    "        selected_features = feature_importances[predicted_label]\n",
    "        # print('selected_features', selected_features)\n",
    "        svm_model = SVMs[predicted_label]\n",
    "        \n",
    "        # Select features for the SVM\n",
    "        test_instance_selected_df = test_instance_df[selected_features]\n",
    "        svm_prediction = svm_model.predict(test_instance_selected_df)\n",
    "        # print('svm prediction: ', svm_prediction[0], 'knn prediction: ', INV_TARGET_DICT[predicted_label], 'actual value: ', y_test_df.iloc[i])\n",
    "        svm_predictions.append((svm_prediction[0], INV_TARGET_DICT[predicted_label], y_test_df.iloc[i]))\n",
    "\n",
    "print(\"Total operation time: = \", time.time() - seconds, \"seconds\")"
   ]
  },
  {
   "cell_type": "code",
   "execution_count": 67,
   "metadata": {},
   "outputs": [
    {
     "data": {
      "text/html": [
       "wandb version 0.18.5 is available!  To upgrade, please run:\n",
       " $ pip install wandb --upgrade"
      ],
      "text/plain": [
       "<IPython.core.display.HTML object>"
      ]
     },
     "metadata": {},
     "output_type": "display_data"
    },
    {
     "data": {
      "text/html": [
       "Tracking run with wandb version 0.16.4"
      ],
      "text/plain": [
       "<IPython.core.display.HTML object>"
      ]
     },
     "metadata": {},
     "output_type": "display_data"
    },
    {
     "data": {
      "text/html": [
       "Run data is saved locally in <code>/home/brina/nus-mcomp/sem2/cs5344-big-data-analytics-technology/CS5344_Project.git/sy/work/wandb/run-20241019_174155-r88xpkst</code>"
      ],
      "text/plain": [
       "<IPython.core.display.HTML object>"
      ]
     },
     "metadata": {},
     "output_type": "display_data"
    },
    {
     "data": {
      "text/html": [
       "Syncing run <strong><a href='https://wandb.ai/brinashong/pipeline-unsw/runs/r88xpkst' target=\"_blank\">final</a></strong> to <a href='https://wandb.ai/brinashong/pipeline-unsw' target=\"_blank\">Weights & Biases</a> (<a href='https://wandb.me/run' target=\"_blank\">docs</a>)<br/>"
      ],
      "text/plain": [
       "<IPython.core.display.HTML object>"
      ]
     },
     "metadata": {},
     "output_type": "display_data"
    },
    {
     "data": {
      "text/html": [
       " View project at <a href='https://wandb.ai/brinashong/pipeline-unsw' target=\"_blank\">https://wandb.ai/brinashong/pipeline-unsw</a>"
      ],
      "text/plain": [
       "<IPython.core.display.HTML object>"
      ]
     },
     "metadata": {},
     "output_type": "display_data"
    },
    {
     "data": {
      "text/html": [
       " View run at <a href='https://wandb.ai/brinashong/pipeline-unsw/runs/r88xpkst' target=\"_blank\">https://wandb.ai/brinashong/pipeline-unsw/runs/r88xpkst</a>"
      ],
      "text/plain": [
       "<IPython.core.display.HTML object>"
      ]
     },
     "metadata": {},
     "output_type": "display_data"
    },
    {
     "name": "stdout",
     "output_type": "stream",
     "text": [
      "SVM Evaluation (overall)\n",
      "Confusion Matrix:\n",
      "[[    0     3    35    10     0     0   345     0     0     0]\n",
      " [    0     1    38    16     1     0   300     4     0     0]\n",
      " [    0     0   183   262     4     0  1901    15     5     0]\n",
      " [    0     0   382  3438    35     1  2781   126     9     0]\n",
      " [    0     0    39    58   911     1  2532     3    26     0]\n",
      " [    0     0    15    84     9  7845   126     0     0     0]\n",
      " [    0     0     0    83   313     0 10750    15     7     1]\n",
      " [    0     0    61   121     0     0   335  1581     0     0]\n",
      " [    0     0     5    19    20     1    97     2    89     0]\n",
      " [    0     0     0    21     1     0     2     0     0     1]]\n"
     ]
    },
    {
     "data": {
      "image/png": "[encoded data removed]",
      "text/plain": [
       "<Figure size 1500x1000 with 2 Axes>"
      ]
     },
     "metadata": {},
     "output_type": "display_data"
    },
    {
     "name": "stdout",
     "output_type": "stream",
     "text": [
      "\n",
      "Classification Report:\n",
      "{'0': {'precision': 0.0, 'recall': 0.0, 'f1-score': 0.0, 'support': 393.0}, '1': {'precision': 0.25, 'recall': 0.002777777777777778, 'f1-score': 0.005494505494505495, 'support': 360.0}, '2': {'precision': 0.24142480211081793, 'recall': 0.07721518987341772, 'f1-score': 0.1170076726342711, 'support': 2370.0}, '3': {'precision': 0.8360894941634242, 'recall': 0.5076786769049025, 'f1-score': 0.6317530319735392, 'support': 6772.0}, '4': {'precision': 0.7040185471406492, 'recall': 0.25518207282913163, 'f1-score': 0.3745888157894737, 'support': 3570.0}, '5': {'precision': 0.9996177370030581, 'recall': 0.9710360193093205, 'f1-score': 0.9851196082124695, 'support': 8079.0}, '6': {'precision': 0.5608012937555428, 'recall': 0.9624854508013251, 'f1-score': 0.708682180763399, 'support': 11169.0}, '7': {'precision': 0.9054982817869416, 'recall': 0.7535748331744518, 'f1-score': 0.8225806451612903, 'support': 2098.0}, '8': {'precision': 0.6544117647058824, 'recall': 0.38197424892703863, 'f1-score': 0.48238482384823844, 'support': 233.0}, '9': {'precision': 0.5, 'recall': 0.04, 'f1-score': 0.07407407407407407, 'support': 25.0}, 'accuracy': 0.7071487638655223, 'macro avg': {'precision': 0.5651861920666316, 'recall': 0.39519242695973655, 'f1-score': 0.4201685357951261, 'support': 35069.0}, 'weighted avg': {'precision': 0.7197734675165619, 'recall': 0.7071487638655223, 'f1-score': 0.6732120708336792, 'support': 35069.0}}\n",
      "Accuracy: 0.7071487638655223\n"
     ]
    },
    {
     "name": "stderr",
     "output_type": "stream",
     "text": [
      "/home/brina/miniconda3/envs/gpu/lib/python3.8/site-packages/sklearn/metrics/_classification.py:1471: UndefinedMetricWarning: Precision and F-score are ill-defined and being set to 0.0 in labels with no predicted samples. Use `zero_division` parameter to control this behavior.\n",
      "  _warn_prf(average, modifier, msg_start, len(result))\n",
      "/home/brina/miniconda3/envs/gpu/lib/python3.8/site-packages/sklearn/metrics/_classification.py:1471: UndefinedMetricWarning: Precision and F-score are ill-defined and being set to 0.0 in labels with no predicted samples. Use `zero_division` parameter to control this behavior.\n",
      "  _warn_prf(average, modifier, msg_start, len(result))\n",
      "/home/brina/miniconda3/envs/gpu/lib/python3.8/site-packages/sklearn/metrics/_classification.py:1471: UndefinedMetricWarning: Precision and F-score are ill-defined and being set to 0.0 in labels with no predicted samples. Use `zero_division` parameter to control this behavior.\n",
      "  _warn_prf(average, modifier, msg_start, len(result))\n"
     ]
    },
    {
     "data": {
      "application/vnd.jupyter.widget-view+json": {
       "model_id": "",
       "version_major": 2,
       "version_minor": 0
      },
      "text/plain": [
       "VBox(children=(Label(value='0.006 MB of 0.007 MB uploaded\\r'), FloatProgress(value=0.9389099061230208, max=1.0…"
      ]
     },
     "metadata": {},
     "output_type": "display_data"
    },
    {
     "data": {
      "text/html": [
       "<style>\n",
       "    table.wandb td:nth-child(1) { padding: 0 10px; text-align: left ; width: auto;} td:nth-child(2) {text-align: left ; width: 100%}\n",
       "    .wandb-row { display: flex; flex-direction: row; flex-wrap: wrap; justify-content: flex-start; width: 100% }\n",
       "    .wandb-col { display: flex; flex-direction: column; flex-basis: 100%; flex: 1; padding: 10px; }\n",
       "    </style>\n",
       "<div class=\"wandb-row\"><div class=\"wandb-col\"><h3>Run history:</h3><br/><table class=\"wandb\"><tr><td>Accuracy Score</td><td>▁</td></tr><tr><td>f1-score_avg</td><td>▁</td></tr><tr><td>precision_avg</td><td>▁</td></tr><tr><td>recall_avg</td><td>▁</td></tr></table><br/></div><div class=\"wandb-col\"><h3>Run summary:</h3><br/><table class=\"wandb\"><tr><td>Accuracy Score</td><td>0.70715</td></tr><tr><td>f1-score_avg</td><td>0.67321</td></tr><tr><td>precision_avg</td><td>0.71977</td></tr><tr><td>recall_avg</td><td>0.70715</td></tr></table><br/></div></div>"
      ],
      "text/plain": [
       "<IPython.core.display.HTML object>"
      ]
     },
     "metadata": {},
     "output_type": "display_data"
    },
    {
     "data": {
      "text/html": [
       " View run <strong style=\"color:#cdcd00\">final</strong> at: <a href='https://wandb.ai/brinashong/pipeline-unsw/runs/r88xpkst' target=\"_blank\">https://wandb.ai/brinashong/pipeline-unsw/runs/r88xpkst</a><br/> View job at <a href='https://wandb.ai/brinashong/pipeline-unsw/jobs/QXJ0aWZhY3RDb2xsZWN0aW9uOjQ3ODg4MzU4Ng==/version_details/v2' target=\"_blank\">https://wandb.ai/brinashong/pipeline-unsw/jobs/QXJ0aWZhY3RDb2xsZWN0aW9uOjQ3ODg4MzU4Ng==/version_details/v2</a><br/>Synced 6 W&B file(s), 2 media file(s), 2 artifact file(s) and 0 other file(s)"
      ],
      "text/plain": [
       "<IPython.core.display.HTML object>"
      ]
     },
     "metadata": {},
     "output_type": "display_data"
    },
    {
     "data": {
      "text/html": [
       "Find logs at: <code>./wandb/run-20241019_174155-r88xpkst/logs</code>"
      ],
      "text/plain": [
       "<IPython.core.display.HTML object>"
      ]
     },
     "metadata": {},
     "output_type": "display_data"
    }
   ],
   "source": [
    "# Evaluate SVM on all test data\n",
    "pn = \"pipeline-\" + project_name\n",
    "wandb.init(project=pn, name=\"final\")\n",
    "\n",
    "# Modify the list and extract the second element in one step\n",
    "final_svm_predictions = [(lambda t: (t[0], NORMAL_TARGET, t[2]) if t[0] == 1 else t)(t)[1] for t in svm_predictions]\n",
    "final_svm_predictions_df = pd.DataFrame(final_svm_predictions, columns=[TARGET_COLUMN])\n",
    "common.evaluate(y_test_df, final_svm_predictions_df, heading='SVM Evaluation (overall)')\n",
    "wandb.finish()"
   ]
  },
  {
   "cell_type": "code",
   "execution_count": null,
   "metadata": {},
   "outputs": [],
   "source": []
  }
 ],
 "metadata": {
  "kernelspec": {
   "display_name": "Python 3 (ipykernel)",
   "language": "python",
   "name": "python3"
  },
  "language_info": {
   "codemirror_mode": {
    "name": "ipython",
    "version": 3
   },
   "file_extension": ".py",
   "mimetype": "text/x-python",
   "name": "python",
   "nbconvert_exporter": "python",
   "pygments_lexer": "ipython3",
   "version": "3.8.18"
  }
 },
 "nbformat": 4,
 "nbformat_minor": 4
}
