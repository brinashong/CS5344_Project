{
 "cells": [
  {
   "cell_type": "code",
   "execution_count": 1,
   "id": "8b16da7f-91fb-495d-bade-a254058e90c8",
   "metadata": {},
   "outputs": [],
   "source": [
    "def evaluate(y_test, predictions, heading='-----Evaluation-----'):\n",
    "    print(heading)\n",
    "    print(\"Confusion Matrix:\")\n",
    "    print(confusion_matrix(y_test, predictions))\n",
    "    print(\"\\nClassification Report:\")\n",
    "    print(classification_report(y_test, predictions))\n",
    "    print(\"Accuracy:\", accuracy_score(y_test, predictions))\n",
    "\n",
    "def remove_files_from_directory(directory):\n",
    "    # Get all files in the directory\n",
    "    files = glob.glob(os.path.join(directory, \"*\"))\n",
    "    \n",
    "    # Loop through the files and remove each one\n",
    "    for file in files:\n",
    "        if os.path.isfile(file):\n",
    "            os.remove(file)\n",
    "    \n",
    "    print(f\"All files in {directory} have been removed.\")"
   ]
  },
  {
   "cell_type": "code",
   "execution_count": null,
   "id": "19b2db07-4c69-4ac5-8465-061761bf7d16",
   "metadata": {},
   "outputs": [],
   "source": []
  }
 ],
 "metadata": {
  "kernelspec": {
   "display_name": "Python 3 (ipykernel)",
   "language": "python",
   "name": "python3"
  },
  "language_info": {
   "codemirror_mode": {
    "name": "ipython",
    "version": 3
   },
   "file_extension": ".py",
   "mimetype": "text/x-python",
   "name": "python",
   "nbconvert_exporter": "python",
   "pygments_lexer": "ipython3",
   "version": "3.12.6"
  }
 },
 "nbformat": 4,
 "nbformat_minor": 5
}
