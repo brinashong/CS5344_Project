{
 "cells": [
  {
   "cell_type": "code",
   "execution_count": 10,
   "id": "edbbb7c5-c4dd-45cc-afe7-0b1a640c5286",
   "metadata": {},
   "outputs": [],
   "source": [
    "import numpy as np\n",
    "import pandas as pd\n",
    "from sklearn.datasets import fetch_covtype\n",
    "from sklearn.preprocessing import OneHotEncoder, StandardScaler, LabelEncoder"
   ]
  },
  {
   "cell_type": "code",
   "execution_count": 15,
   "id": "e87af493-6624-4ee6-ac90-c4f88c39080f",
   "metadata": {},
   "outputs": [],
   "source": [
    "base_path = '/Users/suyeetan/Downloads/CS5344_Project/work/'"
   ]
  },
  {
   "cell_type": "code",
   "execution_count": 16,
   "id": "97a8c7f9-a1d1-4fea-9be2-dba05132da64",
   "metadata": {},
   "outputs": [],
   "source": [
    "%run \"{base_path}/common.ipynb\""
   ]
  },
  {
   "cell_type": "code",
   "execution_count": 17,
   "id": "77789581-43da-40f7-a0c3-43cfeb70ff73",
   "metadata": {},
   "outputs": [],
   "source": [
    "def get_kdd_df():\n",
    "    config = {\n",
    "        'TARGET_COLUMN': 'attack',\n",
    "    \n",
    "        # List of numerical columns (these are to be standardized)\n",
    "        'NUMERICAL_COLUMNS': ['duration', 'src_bytes', 'dst_bytes',\n",
    "                             'wrong_fragment', 'urgent', 'hot', 'num_failed_logins', 'num_compromised', \n",
    "                             'root_shell', 'su_attempted', 'num_file_creations', 'num_shells', 'num_access_files', \n",
    "                             'num_outbound_cmds', 'count', 'srv_count', 'serror_rate', \n",
    "                             'rerror_rate', 'same_srv_rate', 'diff_srv_rate', 'srv_diff_host_rate', 'dst_host_count', \n",
    "                             'dst_host_srv_count', 'dst_host_diff_srv_rate', 'dst_host_same_src_port_rate', 'dst_host_srv_diff_host_rate'],\n",
    "        # List of categorical columns (these are to be one hot encoded)\n",
    "        'CATEGORICAL_COLUMNS': ['protocol_type', 'service', 'flag'],\n",
    "        # List of ordinal columns (these are to be label encoded)\n",
    "        'ORDINAL_COLUMNS': [],\n",
    "    }\n",
    "    target_column = config['TARGET_COLUMN']\n",
    "    \n",
    "    cols = open(f\"{base_path}/datasets/kdd/kddcup.names\",'r').read()\n",
    "    cols = [c[:c.index(':')] for c in cols.split('\\n')[1:-1]]\n",
    "    cols.append('attack')\n",
    "    \n",
    "    all_df = pd.read_csv(f\"{base_path}/datasets/kdd/corrected\", names = cols)\n",
    "    \n",
    "    main_labels = cols\n",
    "    \n",
    "    print('Normal class: ', all_df[target_column].mode())\n",
    "    return (all_df, main_labels, config)"
   ]
  },
  {
   "cell_type": "code",
   "execution_count": 35,
   "id": "09994b62-b024-4eaa-ba7f-693bae1ca905",
   "metadata": {},
   "outputs": [],
   "source": [
    "def get_processed_kdd_df():\n",
    "    all_df, main_labels, config = get_kdd_df()\n",
    "    # print('main_labels', main_labels)\n",
    "    target_column = config['TARGET_COLUMN']\n",
    "    print(1, len(all_df[all_df['attack']=='named.']))\n",
    "    # Label Encoder\n",
    "    encoder = LabelEncoder()\n",
    "    all_df[target_column] = all_df[target_column].str[:-1]\n",
    "    all_df[target_column] = encoder.fit_transform(all_df[target_column])\n",
    "    config['TARGET_DICT'] = {index: label for index, label in enumerate(encoder.classes_)}\n",
    "    config['INV_TARGET_DICT'] = {v: k for k, v in config['TARGET_DICT'].items()}\n",
    "    print('TARGET_DICT', config['TARGET_DICT'])\n",
    "    print(2, len(all_df[all_df['attack']==13]))\n",
    "    config['NORMAL_TARGET'] = config['INV_TARGET_DICT']['normal']\n",
    "    print('NORMAL_TARGET', config['NORMAL_TARGET'])\n",
    "\n",
    "    # One Hot Encoder\n",
    "    ohe, all_df = one_hot_encode(all_df, config['CATEGORICAL_COLUMNS'])\n",
    "    main_lables = all_df.columns\n",
    "    print('main_labels', main_labels)\n",
    "    print(3, len(all_df[all_df['attack']==13]))\n",
    "    return (all_df, main_labels, config)"
   ]
  }
 ],
 "metadata": {
  "kernelspec": {
   "display_name": "Python 3 (ipykernel)",
   "language": "python",
   "name": "python3"
  },
  "language_info": {
   "codemirror_mode": {
    "name": "ipython",
    "version": 3
   },
   "file_extension": ".py",
   "mimetype": "text/x-python",
   "name": "python",
   "nbconvert_exporter": "python",
   "pygments_lexer": "ipython3",
   "version": "3.12.6"
  }
 },
 "nbformat": 4,
 "nbformat_minor": 5
}
