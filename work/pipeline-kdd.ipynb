{
 "cells": [
  {
   "cell_type": "code",
   "execution_count": 2,
   "metadata": {},
   "outputs": [],
   "source": [
    "import wandb\n",
    "import numpy as np\n",
    "import os\n",
    "import random\n",
    "import glob\n",
    "import pandas as pd\n",
    "import time\n",
    "import sklearn as sk\n",
    "import seaborn as sns\n",
    "import matplotlib.pyplot as plt\n",
    "%matplotlib inline\n",
    "from sklearn.linear_model import LogisticRegression\n",
    "from sklearn.tree import DecisionTreeClassifier\n",
    "from sklearn.ensemble import ExtraTreesClassifier, RandomForestClassifier\n",
    "from sklearn.ensemble import RandomForestRegressor, GradientBoostingClassifier, VotingClassifier\n",
    "from sklearn.datasets import fetch_covtype\n",
    "from sklearn.neighbors import KNeighborsClassifier\n",
    "from sklearn.preprocessing import OneHotEncoder, StandardScaler, LabelEncoder\n",
    "from sklearn.svm import SVC\n",
    "from sklearn.model_selection import train_test_split, cross_val_score\n",
    "from sklearn.metrics import classification_report, confusion_matrix, accuracy_score\n",
    "from scipy.io import arff\n",
    "from sklearn.datasets import fetch_openml\n",
    "from joblib import Parallel, delayed"
   ]
  },
  {
   "cell_type": "code",
   "execution_count": 3,
   "metadata": {},
   "outputs": [
    {
     "name": "stderr",
     "output_type": "stream",
     "text": [
      "\u001b[34m\u001b[1mwandb\u001b[0m: Currently logged in as: \u001b[33mbrinashong\u001b[0m. Use \u001b[1m`wandb login --relogin`\u001b[0m to force relogin\n"
     ]
    },
    {
     "data": {
      "text/plain": [
       "True"
      ]
     },
     "execution_count": 3,
     "metadata": {},
     "output_type": "execute_result"
    }
   ],
   "source": [
    "wandb.login()"
   ]
  },
  {
   "cell_type": "code",
   "execution_count": 4,
   "metadata": {},
   "outputs": [],
   "source": [
    "%run 'common.ipynb'"
   ]
  },
  {
   "cell_type": "code",
   "execution_count": 5,
   "metadata": {},
   "outputs": [],
   "source": [
    "# Shared variables\n",
    "OUTPUT_FOLDER = 'csv_files'\n",
    "FEATURE_FOLDER = 'features'\n",
    "TEST_COUNT = 500"
   ]
  },
  {
   "cell_type": "code",
   "execution_count": 6,
   "metadata": {},
   "outputs": [],
   "source": [
    "%run kdd.ipynb"
   ]
  },
  {
   "cell_type": "code",
   "execution_count": 7,
   "metadata": {},
   "outputs": [
    {
     "name": "stdout",
     "output_type": "stream",
     "text": [
      "Normal class:  0    smurf.\n",
      "dtype: object\n",
      "1 17\n",
      "TARGET_DICT {0: 'apache2', 1: 'back', 2: 'buffer_overflow', 3: 'ftp_write', 4: 'guess_passwd', 5: 'httptunnel', 6: 'imap', 7: 'ipsweep', 8: 'land', 9: 'loadmodule', 10: 'mailbomb', 11: 'mscan', 12: 'multihop', 13: 'named', 14: 'neptune', 15: 'nmap', 16: 'normal', 17: 'perl', 18: 'phf', 19: 'pod', 20: 'portsweep', 21: 'processtable', 22: 'ps', 23: 'rootkit', 24: 'saint', 25: 'satan', 26: 'sendmail', 27: 'smurf', 28: 'snmpgetattack', 29: 'snmpguess', 30: 'sqlattack', 31: 'teardrop', 32: 'udpstorm', 33: 'warezmaster', 34: 'worm', 35: 'xlock', 36: 'xsnoop', 37: 'xterm'}\n",
      "2 17\n",
      "NORMAL_TARGET 16\n",
      "['duration', 'protocol_type_icmp', 'protocol_type_tcp', 'protocol_type_udp', 'service_IRC', 'service_X11', 'service_Z39_50', 'service_auth', 'service_bgp', 'service_courier', 'service_csnet_ns', 'service_ctf', 'service_daytime', 'service_discard', 'service_domain', 'service_domain_u', 'service_echo', 'service_eco_i', 'service_ecr_i', 'service_efs', 'service_exec', 'service_finger', 'service_ftp', 'service_ftp_data', 'service_gopher', 'service_hostnames', 'service_http', 'service_http_443', 'service_icmp', 'service_imap4', 'service_iso_tsap', 'service_klogin', 'service_kshell', 'service_ldap', 'service_link', 'service_login', 'service_mtp', 'service_name', 'service_netbios_dgm', 'service_netbios_ns', 'service_netbios_ssn', 'service_netstat', 'service_nnsp', 'service_nntp', 'service_ntp_u', 'service_other', 'service_pm_dump', 'service_pop_2', 'service_pop_3', 'service_printer', 'service_private', 'service_remote_job', 'service_rje', 'service_shell', 'service_smtp', 'service_sql_net', 'service_ssh', 'service_sunrpc', 'service_supdup', 'service_systat', 'service_telnet', 'service_tftp_u', 'service_tim_i', 'service_time', 'service_urp_i', 'service_uucp', 'service_uucp_path', 'service_vmnet', 'service_whois', 'flag_OTH', 'flag_REJ', 'flag_RSTO', 'flag_RSTOS0', 'flag_RSTR', 'flag_S0', 'flag_S1', 'flag_S2', 'flag_S3', 'flag_SF', 'flag_SH', 'src_bytes', 'dst_bytes', 'land', 'wrong_fragment', 'urgent', 'hot', 'num_failed_logins', 'logged_in', 'num_compromised', 'root_shell', 'su_attempted', 'num_root', 'num_file_creations', 'num_shells', 'num_access_files', 'num_outbound_cmds', 'is_host_login', 'is_guest_login', 'count', 'srv_count', 'serror_rate', 'srv_serror_rate', 'rerror_rate', 'srv_rerror_rate', 'same_srv_rate', 'diff_srv_rate', 'srv_diff_host_rate', 'dst_host_count', 'dst_host_srv_count', 'dst_host_same_srv_rate', 'dst_host_diff_srv_rate', 'dst_host_same_src_port_rate', 'dst_host_srv_diff_host_rate', 'dst_host_serror_rate', 'dst_host_srv_serror_rate', 'dst_host_rerror_rate', 'dst_host_srv_rerror_rate', 'attack']\n",
      "main_labels ['duration', 'protocol_type', 'service', 'flag', 'src_bytes', 'dst_bytes', 'land', 'wrong_fragment', 'urgent', 'hot', 'num_failed_logins', 'logged_in', 'num_compromised', 'root_shell', 'su_attempted', 'num_root', 'num_file_creations', 'num_shells', 'num_access_files', 'num_outbound_cmds', 'is_host_login', 'is_guest_login', 'count', 'srv_count', 'serror_rate', 'srv_serror_rate', 'rerror_rate', 'srv_rerror_rate', 'same_srv_rate', 'diff_srv_rate', 'srv_diff_host_rate', 'dst_host_count', 'dst_host_srv_count', 'dst_host_same_srv_rate', 'dst_host_diff_srv_rate', 'dst_host_same_src_port_rate', 'dst_host_srv_diff_host_rate', 'dst_host_serror_rate', 'dst_host_srv_serror_rate', 'dst_host_rerror_rate', 'dst_host_srv_rerror_rate', 'attack']\n",
      "3 17\n"
     ]
    },
    {
     "data": {
      "text/html": [
       "<div>\n",
       "<style scoped>\n",
       "    .dataframe tbody tr th:only-of-type {\n",
       "        vertical-align: middle;\n",
       "    }\n",
       "\n",
       "    .dataframe tbody tr th {\n",
       "        vertical-align: top;\n",
       "    }\n",
       "\n",
       "    .dataframe thead th {\n",
       "        text-align: right;\n",
       "    }\n",
       "</style>\n",
       "<table border=\"1\" class=\"dataframe\">\n",
       "  <thead>\n",
       "    <tr style=\"text-align: right;\">\n",
       "      <th></th>\n",
       "      <th>duration</th>\n",
       "      <th>protocol_type_icmp</th>\n",
       "      <th>protocol_type_tcp</th>\n",
       "      <th>protocol_type_udp</th>\n",
       "      <th>service_IRC</th>\n",
       "      <th>service_X11</th>\n",
       "      <th>service_Z39_50</th>\n",
       "      <th>service_auth</th>\n",
       "      <th>service_bgp</th>\n",
       "      <th>service_courier</th>\n",
       "      <th>...</th>\n",
       "      <th>dst_host_srv_count</th>\n",
       "      <th>dst_host_same_srv_rate</th>\n",
       "      <th>dst_host_diff_srv_rate</th>\n",
       "      <th>dst_host_same_src_port_rate</th>\n",
       "      <th>dst_host_srv_diff_host_rate</th>\n",
       "      <th>dst_host_serror_rate</th>\n",
       "      <th>dst_host_srv_serror_rate</th>\n",
       "      <th>dst_host_rerror_rate</th>\n",
       "      <th>dst_host_srv_rerror_rate</th>\n",
       "      <th>attack</th>\n",
       "    </tr>\n",
       "  </thead>\n",
       "  <tbody>\n",
       "    <tr>\n",
       "      <th>0</th>\n",
       "      <td>0</td>\n",
       "      <td>0.0</td>\n",
       "      <td>0.0</td>\n",
       "      <td>1.0</td>\n",
       "      <td>0.0</td>\n",
       "      <td>0.0</td>\n",
       "      <td>0.0</td>\n",
       "      <td>0.0</td>\n",
       "      <td>0.0</td>\n",
       "      <td>0.0</td>\n",
       "      <td>...</td>\n",
       "      <td>254</td>\n",
       "      <td>1.0</td>\n",
       "      <td>0.01</td>\n",
       "      <td>0.00</td>\n",
       "      <td>0.0</td>\n",
       "      <td>0.0</td>\n",
       "      <td>0.0</td>\n",
       "      <td>0.0</td>\n",
       "      <td>0.0</td>\n",
       "      <td>16</td>\n",
       "    </tr>\n",
       "    <tr>\n",
       "      <th>1</th>\n",
       "      <td>0</td>\n",
       "      <td>0.0</td>\n",
       "      <td>0.0</td>\n",
       "      <td>1.0</td>\n",
       "      <td>0.0</td>\n",
       "      <td>0.0</td>\n",
       "      <td>0.0</td>\n",
       "      <td>0.0</td>\n",
       "      <td>0.0</td>\n",
       "      <td>0.0</td>\n",
       "      <td>...</td>\n",
       "      <td>254</td>\n",
       "      <td>1.0</td>\n",
       "      <td>0.01</td>\n",
       "      <td>0.00</td>\n",
       "      <td>0.0</td>\n",
       "      <td>0.0</td>\n",
       "      <td>0.0</td>\n",
       "      <td>0.0</td>\n",
       "      <td>0.0</td>\n",
       "      <td>16</td>\n",
       "    </tr>\n",
       "    <tr>\n",
       "      <th>2</th>\n",
       "      <td>0</td>\n",
       "      <td>0.0</td>\n",
       "      <td>0.0</td>\n",
       "      <td>1.0</td>\n",
       "      <td>0.0</td>\n",
       "      <td>0.0</td>\n",
       "      <td>0.0</td>\n",
       "      <td>0.0</td>\n",
       "      <td>0.0</td>\n",
       "      <td>0.0</td>\n",
       "      <td>...</td>\n",
       "      <td>254</td>\n",
       "      <td>1.0</td>\n",
       "      <td>0.01</td>\n",
       "      <td>0.00</td>\n",
       "      <td>0.0</td>\n",
       "      <td>0.0</td>\n",
       "      <td>0.0</td>\n",
       "      <td>0.0</td>\n",
       "      <td>0.0</td>\n",
       "      <td>16</td>\n",
       "    </tr>\n",
       "    <tr>\n",
       "      <th>3</th>\n",
       "      <td>0</td>\n",
       "      <td>0.0</td>\n",
       "      <td>0.0</td>\n",
       "      <td>1.0</td>\n",
       "      <td>0.0</td>\n",
       "      <td>0.0</td>\n",
       "      <td>0.0</td>\n",
       "      <td>0.0</td>\n",
       "      <td>0.0</td>\n",
       "      <td>0.0</td>\n",
       "      <td>...</td>\n",
       "      <td>254</td>\n",
       "      <td>1.0</td>\n",
       "      <td>0.01</td>\n",
       "      <td>0.00</td>\n",
       "      <td>0.0</td>\n",
       "      <td>0.0</td>\n",
       "      <td>0.0</td>\n",
       "      <td>0.0</td>\n",
       "      <td>0.0</td>\n",
       "      <td>28</td>\n",
       "    </tr>\n",
       "    <tr>\n",
       "      <th>4</th>\n",
       "      <td>0</td>\n",
       "      <td>0.0</td>\n",
       "      <td>0.0</td>\n",
       "      <td>1.0</td>\n",
       "      <td>0.0</td>\n",
       "      <td>0.0</td>\n",
       "      <td>0.0</td>\n",
       "      <td>0.0</td>\n",
       "      <td>0.0</td>\n",
       "      <td>0.0</td>\n",
       "      <td>...</td>\n",
       "      <td>254</td>\n",
       "      <td>1.0</td>\n",
       "      <td>0.01</td>\n",
       "      <td>0.01</td>\n",
       "      <td>0.0</td>\n",
       "      <td>0.0</td>\n",
       "      <td>0.0</td>\n",
       "      <td>0.0</td>\n",
       "      <td>0.0</td>\n",
       "      <td>28</td>\n",
       "    </tr>\n",
       "  </tbody>\n",
       "</table>\n",
       "<p>5 rows × 118 columns</p>\n",
       "</div>"
      ],
      "text/plain": [
       "   duration  protocol_type_icmp  protocol_type_tcp  protocol_type_udp  \\\n",
       "0         0                 0.0                0.0                1.0   \n",
       "1         0                 0.0                0.0                1.0   \n",
       "2         0                 0.0                0.0                1.0   \n",
       "3         0                 0.0                0.0                1.0   \n",
       "4         0                 0.0                0.0                1.0   \n",
       "\n",
       "   service_IRC  service_X11  service_Z39_50  service_auth  service_bgp  \\\n",
       "0          0.0          0.0             0.0           0.0          0.0   \n",
       "1          0.0          0.0             0.0           0.0          0.0   \n",
       "2          0.0          0.0             0.0           0.0          0.0   \n",
       "3          0.0          0.0             0.0           0.0          0.0   \n",
       "4          0.0          0.0             0.0           0.0          0.0   \n",
       "\n",
       "   service_courier  ...  dst_host_srv_count  dst_host_same_srv_rate  \\\n",
       "0              0.0  ...                 254                     1.0   \n",
       "1              0.0  ...                 254                     1.0   \n",
       "2              0.0  ...                 254                     1.0   \n",
       "3              0.0  ...                 254                     1.0   \n",
       "4              0.0  ...                 254                     1.0   \n",
       "\n",
       "   dst_host_diff_srv_rate  dst_host_same_src_port_rate  \\\n",
       "0                    0.01                         0.00   \n",
       "1                    0.01                         0.00   \n",
       "2                    0.01                         0.00   \n",
       "3                    0.01                         0.00   \n",
       "4                    0.01                         0.01   \n",
       "\n",
       "   dst_host_srv_diff_host_rate  dst_host_serror_rate  \\\n",
       "0                          0.0                   0.0   \n",
       "1                          0.0                   0.0   \n",
       "2                          0.0                   0.0   \n",
       "3                          0.0                   0.0   \n",
       "4                          0.0                   0.0   \n",
       "\n",
       "   dst_host_srv_serror_rate  dst_host_rerror_rate  dst_host_srv_rerror_rate  \\\n",
       "0                       0.0                   0.0                       0.0   \n",
       "1                       0.0                   0.0                       0.0   \n",
       "2                       0.0                   0.0                       0.0   \n",
       "3                       0.0                   0.0                       0.0   \n",
       "4                       0.0                   0.0                       0.0   \n",
       "\n",
       "   attack  \n",
       "0      16  \n",
       "1      16  \n",
       "2      16  \n",
       "3      28  \n",
       "4      28  \n",
       "\n",
       "[5 rows x 118 columns]"
      ]
     },
     "execution_count": 7,
     "metadata": {},
     "output_type": "execute_result"
    }
   ],
   "source": [
    "# Should already be one hot encoded and label encoded\n",
    "# all_df, main_labels, config = get_processed_covtype_df()\n",
    "# all_df, main_labels, config = get_processed_cicids_df()\n",
    "all_df, main_labels, config = get_processed_kdd_df()\n",
    "TARGET_COLUMN = config['TARGET_COLUMN']\n",
    "NORMAL_TARGET = config['NORMAL_TARGET']\n",
    "TARGET_DICT = config['TARGET_DICT']\n",
    "INV_TARGET_DICT = config['INV_TARGET_DICT']\n",
    "NUMERICAL_COLUMNS = config['NUMERICAL_COLUMNS']\n",
    "CATEGORICAL_COLUMNS = config['CATEGORICAL_COLUMNS']\n",
    "ORDINAL_COLUMNS = config['ORDINAL_COLUMNS']\n",
    "all_df.head()"
   ]
  },
  {
   "cell_type": "code",
   "execution_count": 8,
   "metadata": {},
   "outputs": [
    {
     "data": {
      "text/plain": [
       "(311029, 118)"
      ]
     },
     "execution_count": 8,
     "metadata": {},
     "output_type": "execute_result"
    }
   ],
   "source": [
    "all_df.shape"
   ]
  },
  {
   "cell_type": "code",
   "execution_count": 9,
   "metadata": {},
   "outputs": [
    {
     "name": "stdout",
     "output_type": "stream",
     "text": [
      "All files in csv_files have been removed.\n",
      "All files in features have been removed.\n"
     ]
    }
   ],
   "source": [
    "# Create a folder to save the CSVs\n",
    "remove_files_from_directory(OUTPUT_FOLDER)\n",
    "remove_files_from_directory(FEATURE_FOLDER)\n",
    "os.makedirs(OUTPUT_FOLDER, exist_ok=True)\n",
    "os.makedirs(FEATURE_FOLDER, exist_ok=True)"
   ]
  },
  {
   "cell_type": "code",
   "execution_count": 10,
   "metadata": {},
   "outputs": [],
   "source": [
    "# Save all data as csv\n",
    "all_df.to_csv('all_data.csv' ,index = False)"
   ]
  },
  {
   "cell_type": "code",
   "execution_count": 13,
   "metadata": {},
   "outputs": [
    {
     "name": "stdout",
     "output_type": "stream",
     "text": [
      "(248823, 117) (62206, 117) (248823,) (62206,)\n"
     ]
    }
   ],
   "source": [
    "# Get X and y from all_df\n",
    "X_df = all_df.drop(columns=[TARGET_COLUMN])\n",
    "y_df = all_df[TARGET_COLUMN]\n",
    "\n",
    "# Split the data into training and test sets\n",
    "X_train_df, X_test_df, y_train_df, y_test_df = train_test_split(X_df, y_df, test_size=0.2, random_state=42)\n",
    "print(X_train_df.shape, X_test_df.shape, y_train_df.shape, y_test_df.shape)"
   ]
  },
  {
   "cell_type": "code",
   "execution_count": 14,
   "metadata": {},
   "outputs": [
    {
     "data": {
      "text/html": [
       "<div>\n",
       "<style scoped>\n",
       "    .dataframe tbody tr th:only-of-type {\n",
       "        vertical-align: middle;\n",
       "    }\n",
       "\n",
       "    .dataframe tbody tr th {\n",
       "        vertical-align: top;\n",
       "    }\n",
       "\n",
       "    .dataframe thead th {\n",
       "        text-align: right;\n",
       "    }\n",
       "</style>\n",
       "<table border=\"1\" class=\"dataframe\">\n",
       "  <thead>\n",
       "    <tr style=\"text-align: right;\">\n",
       "      <th></th>\n",
       "      <th>duration</th>\n",
       "      <th>protocol_type_icmp</th>\n",
       "      <th>protocol_type_tcp</th>\n",
       "      <th>protocol_type_udp</th>\n",
       "      <th>service_IRC</th>\n",
       "      <th>service_X11</th>\n",
       "      <th>service_Z39_50</th>\n",
       "      <th>service_auth</th>\n",
       "      <th>service_bgp</th>\n",
       "      <th>service_courier</th>\n",
       "      <th>...</th>\n",
       "      <th>dst_host_srv_count</th>\n",
       "      <th>dst_host_same_srv_rate</th>\n",
       "      <th>dst_host_diff_srv_rate</th>\n",
       "      <th>dst_host_same_src_port_rate</th>\n",
       "      <th>dst_host_srv_diff_host_rate</th>\n",
       "      <th>dst_host_serror_rate</th>\n",
       "      <th>dst_host_srv_serror_rate</th>\n",
       "      <th>dst_host_rerror_rate</th>\n",
       "      <th>dst_host_srv_rerror_rate</th>\n",
       "      <th>attack</th>\n",
       "    </tr>\n",
       "  </thead>\n",
       "  <tbody>\n",
       "    <tr>\n",
       "      <th>147391</th>\n",
       "      <td>0</td>\n",
       "      <td>0.0</td>\n",
       "      <td>1.0</td>\n",
       "      <td>0.0</td>\n",
       "      <td>0.0</td>\n",
       "      <td>0.0</td>\n",
       "      <td>0.0</td>\n",
       "      <td>0.0</td>\n",
       "      <td>0.0</td>\n",
       "      <td>0.0</td>\n",
       "      <td>...</td>\n",
       "      <td>231</td>\n",
       "      <td>1.00</td>\n",
       "      <td>0.00</td>\n",
       "      <td>0.02</td>\n",
       "      <td>0.01</td>\n",
       "      <td>0.0</td>\n",
       "      <td>0.0</td>\n",
       "      <td>0.0</td>\n",
       "      <td>0.0</td>\n",
       "      <td>16</td>\n",
       "    </tr>\n",
       "    <tr>\n",
       "      <th>107622</th>\n",
       "      <td>0</td>\n",
       "      <td>0.0</td>\n",
       "      <td>1.0</td>\n",
       "      <td>0.0</td>\n",
       "      <td>0.0</td>\n",
       "      <td>0.0</td>\n",
       "      <td>0.0</td>\n",
       "      <td>0.0</td>\n",
       "      <td>0.0</td>\n",
       "      <td>0.0</td>\n",
       "      <td>...</td>\n",
       "      <td>17</td>\n",
       "      <td>0.07</td>\n",
       "      <td>0.06</td>\n",
       "      <td>0.00</td>\n",
       "      <td>0.00</td>\n",
       "      <td>0.0</td>\n",
       "      <td>0.0</td>\n",
       "      <td>1.0</td>\n",
       "      <td>1.0</td>\n",
       "      <td>14</td>\n",
       "    </tr>\n",
       "    <tr>\n",
       "      <th>53448</th>\n",
       "      <td>0</td>\n",
       "      <td>1.0</td>\n",
       "      <td>0.0</td>\n",
       "      <td>0.0</td>\n",
       "      <td>0.0</td>\n",
       "      <td>0.0</td>\n",
       "      <td>0.0</td>\n",
       "      <td>0.0</td>\n",
       "      <td>0.0</td>\n",
       "      <td>0.0</td>\n",
       "      <td>...</td>\n",
       "      <td>255</td>\n",
       "      <td>1.00</td>\n",
       "      <td>0.00</td>\n",
       "      <td>1.00</td>\n",
       "      <td>0.00</td>\n",
       "      <td>0.0</td>\n",
       "      <td>0.0</td>\n",
       "      <td>0.0</td>\n",
       "      <td>0.0</td>\n",
       "      <td>27</td>\n",
       "    </tr>\n",
       "    <tr>\n",
       "      <th>3099</th>\n",
       "      <td>0</td>\n",
       "      <td>1.0</td>\n",
       "      <td>0.0</td>\n",
       "      <td>0.0</td>\n",
       "      <td>0.0</td>\n",
       "      <td>0.0</td>\n",
       "      <td>0.0</td>\n",
       "      <td>0.0</td>\n",
       "      <td>0.0</td>\n",
       "      <td>0.0</td>\n",
       "      <td>...</td>\n",
       "      <td>255</td>\n",
       "      <td>1.00</td>\n",
       "      <td>0.00</td>\n",
       "      <td>1.00</td>\n",
       "      <td>0.00</td>\n",
       "      <td>0.0</td>\n",
       "      <td>0.0</td>\n",
       "      <td>0.0</td>\n",
       "      <td>0.0</td>\n",
       "      <td>27</td>\n",
       "    </tr>\n",
       "    <tr>\n",
       "      <th>208489</th>\n",
       "      <td>0</td>\n",
       "      <td>1.0</td>\n",
       "      <td>0.0</td>\n",
       "      <td>0.0</td>\n",
       "      <td>0.0</td>\n",
       "      <td>0.0</td>\n",
       "      <td>0.0</td>\n",
       "      <td>0.0</td>\n",
       "      <td>0.0</td>\n",
       "      <td>0.0</td>\n",
       "      <td>...</td>\n",
       "      <td>255</td>\n",
       "      <td>1.00</td>\n",
       "      <td>0.00</td>\n",
       "      <td>1.00</td>\n",
       "      <td>0.00</td>\n",
       "      <td>0.0</td>\n",
       "      <td>0.0</td>\n",
       "      <td>0.0</td>\n",
       "      <td>0.0</td>\n",
       "      <td>27</td>\n",
       "    </tr>\n",
       "  </tbody>\n",
       "</table>\n",
       "<p>5 rows × 118 columns</p>\n",
       "</div>"
      ],
      "text/plain": [
       "        duration  protocol_type_icmp  protocol_type_tcp  protocol_type_udp  \\\n",
       "147391         0                 0.0                1.0                0.0   \n",
       "107622         0                 0.0                1.0                0.0   \n",
       "53448          0                 1.0                0.0                0.0   \n",
       "3099           0                 1.0                0.0                0.0   \n",
       "208489         0                 1.0                0.0                0.0   \n",
       "\n",
       "        service_IRC  service_X11  service_Z39_50  service_auth  service_bgp  \\\n",
       "147391          0.0          0.0             0.0           0.0          0.0   \n",
       "107622          0.0          0.0             0.0           0.0          0.0   \n",
       "53448           0.0          0.0             0.0           0.0          0.0   \n",
       "3099            0.0          0.0             0.0           0.0          0.0   \n",
       "208489          0.0          0.0             0.0           0.0          0.0   \n",
       "\n",
       "        service_courier  ...  dst_host_srv_count  dst_host_same_srv_rate  \\\n",
       "147391              0.0  ...                 231                    1.00   \n",
       "107622              0.0  ...                  17                    0.07   \n",
       "53448               0.0  ...                 255                    1.00   \n",
       "3099                0.0  ...                 255                    1.00   \n",
       "208489              0.0  ...                 255                    1.00   \n",
       "\n",
       "        dst_host_diff_srv_rate  dst_host_same_src_port_rate  \\\n",
       "147391                    0.00                         0.02   \n",
       "107622                    0.06                         0.00   \n",
       "53448                     0.00                         1.00   \n",
       "3099                      0.00                         1.00   \n",
       "208489                    0.00                         1.00   \n",
       "\n",
       "        dst_host_srv_diff_host_rate  dst_host_serror_rate  \\\n",
       "147391                         0.01                   0.0   \n",
       "107622                         0.00                   0.0   \n",
       "53448                          0.00                   0.0   \n",
       "3099                           0.00                   0.0   \n",
       "208489                         0.00                   0.0   \n",
       "\n",
       "        dst_host_srv_serror_rate  dst_host_rerror_rate  \\\n",
       "147391                       0.0                   0.0   \n",
       "107622                       0.0                   1.0   \n",
       "53448                        0.0                   0.0   \n",
       "3099                         0.0                   0.0   \n",
       "208489                       0.0                   0.0   \n",
       "\n",
       "        dst_host_srv_rerror_rate  attack  \n",
       "147391                       0.0      16  \n",
       "107622                       1.0      14  \n",
       "53448                        0.0      27  \n",
       "3099                         0.0      27  \n",
       "208489                       0.0      27  \n",
       "\n",
       "[5 rows x 118 columns]"
      ]
     },
     "execution_count": 14,
     "metadata": {},
     "output_type": "execute_result"
    }
   ],
   "source": [
    "# Concatenate X_train and y_train along the columns (axis=1)\n",
    "X_y_train_df = pd.concat([X_train_df, y_train_df], axis=1)\n",
    "X_y_train_df.head()"
   ]
  },
  {
   "cell_type": "code",
   "execution_count": 15,
   "metadata": {},
   "outputs": [],
   "source": [
    "# Initialize the standard scaler\n",
    "scaler = StandardScaler()\n",
    "\n",
    "# Fit and transform the numeric columns\n",
    "X_train_scaled_df = X_train_df.copy()\n",
    "X_train_scaled_df[NUMERICAL_COLUMNS] = scaler.fit_transform(X_train_scaled_df[NUMERICAL_COLUMNS])\n",
    "# print('X_train_scaled_df', X_train_scaled_df)\n",
    "\n",
    "# Use the same scaler to transform X_test\n",
    "X_test_scaled_df = X_test_df.copy()\n",
    "X_test_scaled_df[NUMERICAL_COLUMNS] = scaler.transform(X_test_scaled_df[NUMERICAL_COLUMNS])\n",
    "# print('X_test_scaled_df', X_test_scaled_df)"
   ]
  },
  {
   "cell_type": "code",
   "execution_count": 22,
   "metadata": {},
   "outputs": [
    {
     "name": "stdout",
     "output_type": "stream",
     "text": [
      "abnormal_type_dict {27: 164091, 16: 60593, 14: 58001, 28: 7741, 10: 5000, 4: 4367, 29: 2406, 25: 1633, 33: 1602, 1: 1098, 11: 1053, 0: 794, 21: 759, 24: 736, 20: 354, 7: 306, 5: 158, 19: 87, 15: 84, 2: 22, 12: 18, 13: 17, 26: 17, 22: 16, 23: 13, 37: 13, 31: 12, 35: 9, 8: 9, 36: 4, 3: 3, 9: 2, 17: 2, 32: 2, 34: 2, 18: 2, 30: 2, 6: 1}\n",
      "apache2.csv created with 2382 rows. (1588 benign and 794 abnormal rows)\n",
      "back.csv created with 3294 rows. (2196 benign and 1098 abnormal rows)\n",
      "buffer_overflow.csv created with 72 rows. (50 benign and 22 abnormal rows)\n",
      "ftp_write.csv created with 53 rows. (50 benign and 3 abnormal rows)\n",
      "guess_passwd.csv created with 13101 rows. (8734 benign and 4367 abnormal rows)\n",
      "httptunnel.csv created with 474 rows. (316 benign and 158 abnormal rows)\n",
      "imap.csv created with 51 rows. (50 benign and 1 abnormal rows)\n",
      "ipsweep.csv created with 918 rows. (612 benign and 306 abnormal rows)\n",
      "land.csv created with 59 rows. (50 benign and 9 abnormal rows)\n",
      "loadmodule.csv created with 52 rows. (50 benign and 2 abnormal rows)\n",
      "mailbomb.csv created with 15000 rows. (10000 benign and 5000 abnormal rows)\n",
      "mscan.csv created with 3159 rows. (2106 benign and 1053 abnormal rows)\n",
      "multihop.csv created with 68 rows. (50 benign and 18 abnormal rows)\n",
      "named.csv created with 67 rows. (50 benign and 17 abnormal rows)\n",
      "neptune.csv created with 118594 rows. (60593 benign and 58001 abnormal rows)\n",
      "nmap.csv created with 252 rows. (168 benign and 84 abnormal rows)\n",
      "perl.csv created with 52 rows. (50 benign and 2 abnormal rows)\n",
      "phf.csv created with 52 rows. (50 benign and 2 abnormal rows)\n",
      "pod.csv created with 261 rows. (174 benign and 87 abnormal rows)\n",
      "portsweep.csv created with 1062 rows. (708 benign and 354 abnormal rows)\n",
      "processtable.csv created with 2277 rows. (1518 benign and 759 abnormal rows)\n",
      "ps.csv created with 66 rows. (50 benign and 16 abnormal rows)\n",
      "rootkit.csv created with 63 rows. (50 benign and 13 abnormal rows)\n",
      "saint.csv created with 2208 rows. (1472 benign and 736 abnormal rows)\n",
      "satan.csv created with 4899 rows. (3266 benign and 1633 abnormal rows)\n",
      "sendmail.csv created with 67 rows. (50 benign and 17 abnormal rows)\n",
      "smurf.csv created with 224684 rows. (60593 benign and 164091 abnormal rows)\n",
      "snmpgetattack.csv created with 23223 rows. (15482 benign and 7741 abnormal rows)\n",
      "snmpguess.csv created with 7218 rows. (4812 benign and 2406 abnormal rows)\n",
      "sqlattack.csv created with 52 rows. (50 benign and 2 abnormal rows)\n",
      "teardrop.csv created with 62 rows. (50 benign and 12 abnormal rows)\n",
      "udpstorm.csv created with 52 rows. (50 benign and 2 abnormal rows)\n",
      "warezmaster.csv created with 4806 rows. (3204 benign and 1602 abnormal rows)\n",
      "worm.csv created with 52 rows. (50 benign and 2 abnormal rows)\n",
      "xlock.csv created with 59 rows. (50 benign and 9 abnormal rows)\n",
      "xsnoop.csv created with 54 rows. (50 benign and 4 abnormal rows)\n",
      "xterm.csv created with 63 rows. (50 benign and 13 abnormal rows)\n",
      "All datasets created successfully!\n"
     ]
    }
   ],
   "source": [
    "# Loop through each cover type and create a dataset\n",
    "benign = 2359289\n",
    "abnormal_type_counts = all_df[TARGET_COLUMN].value_counts()\n",
    "abnormal_type_dict = abnormal_type_counts.to_dict()\n",
    "print('abnormal_type_dict', abnormal_type_dict)\n",
    "\n",
    "benign_ratio = 2  # Adjust this ratio as needed\n",
    "min_benign_samples = 50  # Ensure at least 50 benign samples are always included\n",
    "\n",
    "for label, name in TARGET_DICT.items():\n",
    "    if label == NORMAL_TARGET:\n",
    "        continue  # Skip the normal target\n",
    "    \n",
    "    a, b = 0, 0  # Track abnormal and benign sample counts\n",
    "    \n",
    "    # Open the output file for writing\n",
    "    output_path = os.path.join(OUTPUT_FOLDER, f\"{name}.csv\")\n",
    "    with open(output_path, \"w\") as ths:\n",
    "        ths.write(','.join(main_labels) + \"\\n\")\n",
    "        \n",
    "        # Calculate the number of benign samples based on the fixed ratio\n",
    "        abnormal_count = abnormal_type_dict[label]\n",
    "        benign_num = max(min(int(abnormal_count * benign_ratio), benign), min_benign_samples)\n",
    "        # print(f'Creating {name}.csv with {benign_num} benign samples and {abnormal_count} abnormal samples.')\n",
    "\n",
    "        # Collect normal (benign) rows and abnormal rows\n",
    "        benign_rows = []\n",
    "        abnormal_rows = []\n",
    "\n",
    "        # Read all_data.csv line by line and collect rows\n",
    "        with open(\"all_data.csv\", \"r\") as file:\n",
    "            for i, line in enumerate(file):\n",
    "                if i == 0:\n",
    "                    continue  # Skip the header row\n",
    "                k = line.strip().split(\",\")  # Strip newline and split the line\n",
    "                \n",
    "                # Collect normal rows\n",
    "                if int(k[-1]) == NORMAL_TARGET:\n",
    "                    benign_rows.append(line)\n",
    "                \n",
    "                # Collect abnormal rows that match the current label\n",
    "                elif int(k[-1]) == label:\n",
    "                    abnormal_rows.append(line)\n",
    "\n",
    "        # Randomly sample benign rows\n",
    "        if len(benign_rows) > benign_num:\n",
    "            benign_rows = random.sample(benign_rows, benign_num)\n",
    "        else:\n",
    "            benign_rows = random.sample(benign_rows, len(benign_rows))  # Shuffle if fewer than required\n",
    "\n",
    "        # Concatenate benign and abnormal rows\n",
    "        combined_rows = benign_rows + abnormal_rows\n",
    "        \n",
    "        # Shuffle the combined rows\n",
    "        random.shuffle(combined_rows)\n",
    "\n",
    "        # Write the shuffled rows to the output file\n",
    "        for row in combined_rows:\n",
    "            ths.write(row)\n",
    "\n",
    "        # Print number of rows written\n",
    "        b = len(benign_rows)\n",
    "        a = len(abnormal_rows)\n",
    "        print(f\"{name}.csv created with {a + b} rows. ({b} benign and {a} abnormal rows)\")\n",
    "\n",
    "print(\"All datasets created successfully!\")"
   ]
  },
  {
   "cell_type": "code",
   "execution_count": 25,
   "metadata": {},
   "outputs": [
    {
     "data": {
      "text/plain": [
       "array([16,  6])"
      ]
     },
     "execution_count": 25,
     "metadata": {},
     "output_type": "execute_result"
    }
   ],
   "source": [
    "# tdf = pd.read_csv('csv_files/imap.csv')\n",
    "# tdf['attack'].unique()\n",
    "show_missing_values("
   ]
  },
  {
   "cell_type": "code",
   "execution_count": 23,
   "metadata": {},
   "outputs": [
    {
     "name": "stdout",
     "output_type": "stream",
     "text": [
      "csv_files ['named.csv', 'snmpgetattack.csv', 'ipsweep.csv', 'httptunnel.csv', 'sendmail.csv', 'guess_passwd.csv', 'satan.csv', 'ps.csv', 'ftp_write.csv', 'xlock.csv', 'udpstorm.csv', 'teardrop.csv', 'phf.csv', 'pod.csv', 'perl.csv', 'nmap.csv', 'portsweep.csv', 'saint.csv', 'rootkit.csv', 'warezmaster.csv', 'xsnoop.csv', 'sqlattack.csv', 'processtable.csv', 'snmpguess.csv', 'mailbomb.csv', 'imap.csv', 'neptune.csv', 'xterm.csv', 'mscan.csv', 'buffer_overflow.csv', 'loadmodule.csv', 'worm.csv', 'multihop.csv', 'back.csv', 'apache2.csv', '.ipynb_checkpoints', 'land.csv', 'smurf.csv']\n"
     ]
    },
    {
     "ename": "ValueError",
     "evalue": "The number of classes has to be greater than one; got 1 class",
     "output_type": "error",
     "traceback": [
      "\u001b[0;31m---------------------------------------------------------------------------\u001b[0m",
      "\u001b[0;31m_RemoteTraceback\u001b[0m                          Traceback (most recent call last)",
      "\u001b[0;31m_RemoteTraceback\u001b[0m: \n\"\"\"\njoblib.externals.loky.process_executor._RemoteTraceback: \n\"\"\"\nTraceback (most recent call last):\n  File \"/home/brina/miniconda3/envs/gpu/lib/python3.8/site-packages/joblib/_parallel_backends.py\", line 273, in _wrap_func_call\n    return func()\n  File \"/home/brina/miniconda3/envs/gpu/lib/python3.8/site-packages/joblib/parallel.py\", line 589, in __call__\n    return [func(*args, **kwargs)\n  File \"/home/brina/miniconda3/envs/gpu/lib/python3.8/site-packages/joblib/parallel.py\", line 589, in <listcomp>\n    return [func(*args, **kwargs)\n  File \"/tmp/ipykernel_9800/3415465329.py\", line 13, in train_individual_model\n  File \"/home/brina/miniconda3/envs/gpu/lib/python3.8/site-packages/sklearn/base.py\", line 1152, in wrapper\n    return fit_method(estimator, *args, **kwargs)\n  File \"/home/brina/miniconda3/envs/gpu/lib/python3.8/site-packages/sklearn/svm/_base.py\", line 199, in fit\n    y = self._validate_targets(y)\n  File \"/home/brina/miniconda3/envs/gpu/lib/python3.8/site-packages/sklearn/svm/_base.py\", line 747, in _validate_targets\n    raise ValueError(\nValueError: The number of classes has to be greater than one; got 1 class\n\"\"\"\n\nThe above exception was the direct cause of the following exception:\n\nTraceback (most recent call last):\n  File \"/home/brina/miniconda3/envs/gpu/lib/python3.8/site-packages/joblib/externals/loky/process_executor.py\", line 463, in _process_worker\n    r = call_item()\n  File \"/home/brina/miniconda3/envs/gpu/lib/python3.8/site-packages/joblib/externals/loky/process_executor.py\", line 291, in __call__\n    return self.fn(*self.args, **self.kwargs)\n  File \"/home/brina/miniconda3/envs/gpu/lib/python3.8/site-packages/joblib/parallel.py\", line 589, in __call__\n    return [func(*args, **kwargs)\n  File \"/home/brina/miniconda3/envs/gpu/lib/python3.8/site-packages/joblib/parallel.py\", line 589, in <listcomp>\n    return [func(*args, **kwargs)\n  File \"/tmp/ipykernel_9800/3415465329.py\", line 58, in train_models\n  File \"/home/brina/miniconda3/envs/gpu/lib/python3.8/site-packages/joblib/parallel.py\", line 1952, in __call__\n    return output if self.return_generator else list(output)\n  File \"/home/brina/miniconda3/envs/gpu/lib/python3.8/site-packages/joblib/parallel.py\", line 1595, in _get_outputs\n    yield from self._retrieve()\n  File \"/home/brina/miniconda3/envs/gpu/lib/python3.8/site-packages/joblib/parallel.py\", line 1699, in _retrieve\n    self._raise_error_fast()\n  File \"/home/brina/miniconda3/envs/gpu/lib/python3.8/site-packages/joblib/parallel.py\", line 1734, in _raise_error_fast\n    error_job.get_result(self.timeout)\n  File \"/home/brina/miniconda3/envs/gpu/lib/python3.8/site-packages/joblib/parallel.py\", line 736, in get_result\n    return self._return_or_raise()\n  File \"/home/brina/miniconda3/envs/gpu/lib/python3.8/site-packages/joblib/parallel.py\", line 754, in _return_or_raise\n    raise self._result\nValueError: The number of classes has to be greater than one; got 1 class\n\"\"\"",
      "\nThe above exception was the direct cause of the following exception:\n",
      "\u001b[0;31mValueError\u001b[0m                                Traceback (most recent call last)",
      "Cell \u001b[0;32mIn[23], line 114\u001b[0m\n\u001b[1;32m    111\u001b[0m     \u001b[38;5;28;01mreturn\u001b[39;00m feature_importances, ensemble_models, SVMs\n\u001b[1;32m    113\u001b[0m \u001b[38;5;66;03m# Parallelize the training across multiple CSV files\u001b[39;00m\n\u001b[0;32m--> 114\u001b[0m results \u001b[38;5;241m=\u001b[39m \u001b[43mParallel\u001b[49m\u001b[43m(\u001b[49m\u001b[43mn_jobs\u001b[49m\u001b[38;5;241;43m=\u001b[39;49m\u001b[38;5;241;43m-\u001b[39;49m\u001b[38;5;241;43m1\u001b[39;49m\u001b[43m)\u001b[49m\u001b[43m(\u001b[49m\u001b[43mdelayed\u001b[49m\u001b[43m(\u001b[49m\u001b[43mtrain_models\u001b[49m\u001b[43m)\u001b[49m\u001b[43m(\u001b[49m\u001b[43mcsv_file\u001b[49m\u001b[43m)\u001b[49m\u001b[43m \u001b[49m\u001b[38;5;28;43;01mfor\u001b[39;49;00m\u001b[43m \u001b[49m\u001b[43mcsv_file\u001b[49m\u001b[43m \u001b[49m\u001b[38;5;129;43;01min\u001b[39;49;00m\u001b[43m \u001b[49m\u001b[43mcsv_files\u001b[49m\u001b[43m)\u001b[49m\n\u001b[1;32m    116\u001b[0m \u001b[38;5;66;03m# After parallel execution, collect results\u001b[39;00m\n\u001b[1;32m    117\u001b[0m \u001b[38;5;28;01mfor\u001b[39;00m feature_importances_res, ensemble_models_res, SVMs_res \u001b[38;5;129;01min\u001b[39;00m results:\n",
      "File \u001b[0;32m~/miniconda3/envs/gpu/lib/python3.8/site-packages/joblib/parallel.py:1952\u001b[0m, in \u001b[0;36mParallel.__call__\u001b[0;34m(self, iterable)\u001b[0m\n\u001b[1;32m   1946\u001b[0m \u001b[38;5;66;03m# The first item from the output is blank, but it makes the interpreter\u001b[39;00m\n\u001b[1;32m   1947\u001b[0m \u001b[38;5;66;03m# progress until it enters the Try/Except block of the generator and\u001b[39;00m\n\u001b[1;32m   1948\u001b[0m \u001b[38;5;66;03m# reach the first `yield` statement. This starts the aynchronous\u001b[39;00m\n\u001b[1;32m   1949\u001b[0m \u001b[38;5;66;03m# dispatch of the tasks to the workers.\u001b[39;00m\n\u001b[1;32m   1950\u001b[0m \u001b[38;5;28mnext\u001b[39m(output)\n\u001b[0;32m-> 1952\u001b[0m \u001b[38;5;28;01mreturn\u001b[39;00m output \u001b[38;5;28;01mif\u001b[39;00m \u001b[38;5;28mself\u001b[39m\u001b[38;5;241m.\u001b[39mreturn_generator \u001b[38;5;28;01melse\u001b[39;00m \u001b[38;5;28;43mlist\u001b[39;49m\u001b[43m(\u001b[49m\u001b[43moutput\u001b[49m\u001b[43m)\u001b[49m\n",
      "File \u001b[0;32m~/miniconda3/envs/gpu/lib/python3.8/site-packages/joblib/parallel.py:1595\u001b[0m, in \u001b[0;36mParallel._get_outputs\u001b[0;34m(self, iterator, pre_dispatch)\u001b[0m\n\u001b[1;32m   1592\u001b[0m     \u001b[38;5;28;01myield\u001b[39;00m\n\u001b[1;32m   1594\u001b[0m     \u001b[38;5;28;01mwith\u001b[39;00m \u001b[38;5;28mself\u001b[39m\u001b[38;5;241m.\u001b[39m_backend\u001b[38;5;241m.\u001b[39mretrieval_context():\n\u001b[0;32m-> 1595\u001b[0m         \u001b[38;5;28;01myield from\u001b[39;00m \u001b[38;5;28mself\u001b[39m\u001b[38;5;241m.\u001b[39m_retrieve()\n\u001b[1;32m   1597\u001b[0m \u001b[38;5;28;01mexcept\u001b[39;00m \u001b[38;5;167;01mGeneratorExit\u001b[39;00m:\n\u001b[1;32m   1598\u001b[0m     \u001b[38;5;66;03m# The generator has been garbage collected before being fully\u001b[39;00m\n\u001b[1;32m   1599\u001b[0m     \u001b[38;5;66;03m# consumed. This aborts the remaining tasks if possible and warn\u001b[39;00m\n\u001b[1;32m   1600\u001b[0m     \u001b[38;5;66;03m# the user if necessary.\u001b[39;00m\n\u001b[1;32m   1601\u001b[0m     \u001b[38;5;28mself\u001b[39m\u001b[38;5;241m.\u001b[39m_exception \u001b[38;5;241m=\u001b[39m \u001b[38;5;28;01mTrue\u001b[39;00m\n",
      "File \u001b[0;32m~/miniconda3/envs/gpu/lib/python3.8/site-packages/joblib/parallel.py:1699\u001b[0m, in \u001b[0;36mParallel._retrieve\u001b[0;34m(self)\u001b[0m\n\u001b[1;32m   1692\u001b[0m \u001b[38;5;28;01mwhile\u001b[39;00m \u001b[38;5;28mself\u001b[39m\u001b[38;5;241m.\u001b[39m_wait_retrieval():\n\u001b[1;32m   1693\u001b[0m \n\u001b[1;32m   1694\u001b[0m     \u001b[38;5;66;03m# If the callback thread of a worker has signaled that its task\u001b[39;00m\n\u001b[1;32m   1695\u001b[0m     \u001b[38;5;66;03m# triggered an exception, or if the retrieval loop has raised an\u001b[39;00m\n\u001b[1;32m   1696\u001b[0m     \u001b[38;5;66;03m# exception (e.g. `GeneratorExit`), exit the loop and surface the\u001b[39;00m\n\u001b[1;32m   1697\u001b[0m     \u001b[38;5;66;03m# worker traceback.\u001b[39;00m\n\u001b[1;32m   1698\u001b[0m     \u001b[38;5;28;01mif\u001b[39;00m \u001b[38;5;28mself\u001b[39m\u001b[38;5;241m.\u001b[39m_aborting:\n\u001b[0;32m-> 1699\u001b[0m         \u001b[38;5;28;43mself\u001b[39;49m\u001b[38;5;241;43m.\u001b[39;49m\u001b[43m_raise_error_fast\u001b[49m\u001b[43m(\u001b[49m\u001b[43m)\u001b[49m\n\u001b[1;32m   1700\u001b[0m         \u001b[38;5;28;01mbreak\u001b[39;00m\n\u001b[1;32m   1702\u001b[0m     \u001b[38;5;66;03m# If the next job is not ready for retrieval yet, we just wait for\u001b[39;00m\n\u001b[1;32m   1703\u001b[0m     \u001b[38;5;66;03m# async callbacks to progress.\u001b[39;00m\n",
      "File \u001b[0;32m~/miniconda3/envs/gpu/lib/python3.8/site-packages/joblib/parallel.py:1734\u001b[0m, in \u001b[0;36mParallel._raise_error_fast\u001b[0;34m(self)\u001b[0m\n\u001b[1;32m   1730\u001b[0m \u001b[38;5;66;03m# If this error job exists, immediatly raise the error by\u001b[39;00m\n\u001b[1;32m   1731\u001b[0m \u001b[38;5;66;03m# calling get_result. This job might not exists if abort has been\u001b[39;00m\n\u001b[1;32m   1732\u001b[0m \u001b[38;5;66;03m# called directly or if the generator is gc'ed.\u001b[39;00m\n\u001b[1;32m   1733\u001b[0m \u001b[38;5;28;01mif\u001b[39;00m error_job \u001b[38;5;129;01mis\u001b[39;00m \u001b[38;5;129;01mnot\u001b[39;00m \u001b[38;5;28;01mNone\u001b[39;00m:\n\u001b[0;32m-> 1734\u001b[0m     \u001b[43merror_job\u001b[49m\u001b[38;5;241;43m.\u001b[39;49m\u001b[43mget_result\u001b[49m\u001b[43m(\u001b[49m\u001b[38;5;28;43mself\u001b[39;49m\u001b[38;5;241;43m.\u001b[39;49m\u001b[43mtimeout\u001b[49m\u001b[43m)\u001b[49m\n",
      "File \u001b[0;32m~/miniconda3/envs/gpu/lib/python3.8/site-packages/joblib/parallel.py:736\u001b[0m, in \u001b[0;36mBatchCompletionCallBack.get_result\u001b[0;34m(self, timeout)\u001b[0m\n\u001b[1;32m    730\u001b[0m backend \u001b[38;5;241m=\u001b[39m \u001b[38;5;28mself\u001b[39m\u001b[38;5;241m.\u001b[39mparallel\u001b[38;5;241m.\u001b[39m_backend\n\u001b[1;32m    732\u001b[0m \u001b[38;5;28;01mif\u001b[39;00m backend\u001b[38;5;241m.\u001b[39msupports_retrieve_callback:\n\u001b[1;32m    733\u001b[0m     \u001b[38;5;66;03m# We assume that the result has already been retrieved by the\u001b[39;00m\n\u001b[1;32m    734\u001b[0m     \u001b[38;5;66;03m# callback thread, and is stored internally. It's just waiting to\u001b[39;00m\n\u001b[1;32m    735\u001b[0m     \u001b[38;5;66;03m# be returned.\u001b[39;00m\n\u001b[0;32m--> 736\u001b[0m     \u001b[38;5;28;01mreturn\u001b[39;00m \u001b[38;5;28;43mself\u001b[39;49m\u001b[38;5;241;43m.\u001b[39;49m\u001b[43m_return_or_raise\u001b[49m\u001b[43m(\u001b[49m\u001b[43m)\u001b[49m\n\u001b[1;32m    738\u001b[0m \u001b[38;5;66;03m# For other backends, the main thread needs to run the retrieval step.\u001b[39;00m\n\u001b[1;32m    739\u001b[0m \u001b[38;5;28;01mtry\u001b[39;00m:\n",
      "File \u001b[0;32m~/miniconda3/envs/gpu/lib/python3.8/site-packages/joblib/parallel.py:754\u001b[0m, in \u001b[0;36mBatchCompletionCallBack._return_or_raise\u001b[0;34m(self)\u001b[0m\n\u001b[1;32m    752\u001b[0m \u001b[38;5;28;01mtry\u001b[39;00m:\n\u001b[1;32m    753\u001b[0m     \u001b[38;5;28;01mif\u001b[39;00m \u001b[38;5;28mself\u001b[39m\u001b[38;5;241m.\u001b[39mstatus \u001b[38;5;241m==\u001b[39m TASK_ERROR:\n\u001b[0;32m--> 754\u001b[0m         \u001b[38;5;28;01mraise\u001b[39;00m \u001b[38;5;28mself\u001b[39m\u001b[38;5;241m.\u001b[39m_result\n\u001b[1;32m    755\u001b[0m     \u001b[38;5;28;01mreturn\u001b[39;00m \u001b[38;5;28mself\u001b[39m\u001b[38;5;241m.\u001b[39m_result\n\u001b[1;32m    756\u001b[0m \u001b[38;5;28;01mfinally\u001b[39;00m:\n",
      "\u001b[0;31mValueError\u001b[0m: The number of classes has to be greater than one; got 1 class"
     ]
    }
   ],
   "source": [
    "seconds = time.time()\n",
    "\n",
    "# CSV files names:\n",
    "csv_files=os.listdir(OUTPUT_FOLDER)# It creates a list of file names in the \"attacks\" folder.\n",
    "print('csv_files',csv_files)\n",
    "\n",
    "ths = open(\"importance_list.csv\", \"w\")\n",
    "feature_importances = {}\n",
    "ensemble_models = {}\n",
    "SVMs = {}\n",
    "\n",
    "def train_individual_model(model, X, y):\n",
    "    model.fit(X, y)\n",
    "    return model\n",
    "    \n",
    "def train_models(csv_file):\n",
    "    print('csv file', csv_file)\n",
    "    \n",
    "    X_df, y_df, df = get_anomaly_X_y_from_csv(csv_file, main_labels, TARGET_COLUMN, NORMAL_TARGET, OUTPUT_FOLDER)\n",
    "\n",
    "    #computing the feature importances\n",
    "    forest = sk.ensemble.RandomForestRegressor(n_estimators=250,random_state=0)\n",
    "    forest.fit(X_df, y_df)\n",
    "    importances = forest.feature_importances_\n",
    "    label = csv_file.split(\".\")[0]\n",
    "    print('importances', importances, label)\n",
    "    std = np.std([tree.feature_importances_ for tree in forest.estimators_],\n",
    "                 axis=0)\n",
    "    indices = np.argsort(importances)[::-1]\n",
    "    refclasscol=list(df.columns.values)\n",
    "    impor_bars = pd.DataFrame({'Features':refclasscol[0:20],'importance':importances[0:20]})\n",
    "    impor_bars = impor_bars.sort_values('importance',ascending=False)\n",
    "    important_features = impor_bars['Features'].to_list()[:5]\n",
    "    impor_bars = impor_bars.set_index('Features')\n",
    "    print('important_features', important_features)\n",
    "    feature_importances[label] = important_features\n",
    "\n",
    "    X_scaled_df = X_df.copy()\n",
    "    X_scaled_df[NUMERICAL_COLUMNS] = scaler.transform(X_scaled_df[NUMERICAL_COLUMNS])\n",
    "\n",
    "    svm = SVC()\n",
    "    knn = KNeighborsClassifier(n_neighbors=5)\n",
    "    decision_tree = DecisionTreeClassifier()\n",
    "    random_forest = RandomForestClassifier(n_estimators=100, random_state=42)\n",
    "    logistic_regression = LogisticRegression(max_iter=1000)\n",
    "    gradient_boosting = GradientBoostingClassifier(n_estimators=100, random_state=42)\n",
    "    \n",
    "    X_train_class = df.iloc[:, df.columns.get_indexer(important_features)]\n",
    "    X_train_class_scaled = X_scaled_df.iloc[:, df.columns.get_indexer(important_features)]\n",
    "    # print('X_train_class', X_train_class)\n",
    "    y_train_class = y_df\n",
    "    # print('y_train_class', y_train_class)\n",
    "    if len(y_train_class) > 0:  # Ensure there are samples for this class\n",
    "        scaled_models = [svm, knn, logistic_regression]\n",
    "        non_scaled_models = [decision_tree, random_forest, gradient_boosting]\n",
    "        \n",
    "        # Train scaled models\n",
    "        scaled_models = Parallel(n_jobs=-1)(\n",
    "            delayed(train_individual_model)(model, X_train_class_scaled, y_train_class)\n",
    "            for model in scaled_models\n",
    "        )\n",
    "        \n",
    "        # Train non-scaled models\n",
    "        non_scaled_models = Parallel(n_jobs=-1)(\n",
    "            delayed(train_individual_model)(model, X_train_class, y_train_class)\n",
    "            for model in non_scaled_models\n",
    "        )\n",
    "        \n",
    "        # Combine trained models\n",
    "        svm, knn, logistic_regression = scaled_models\n",
    "        decision_tree, random_forest, gradient_boosting = non_scaled_models\n",
    "    else:\n",
    "        print(f'no data for {label}')\n",
    "        \n",
    "    SVMs[label] = svm\n",
    "\n",
    "    # Create an ensemble from the classifiers using VotingClassifier\n",
    "    voting_clf = VotingClassifier(estimators=[\n",
    "        ('svm', svm),\n",
    "        ('knn', knn),\n",
    "        ('dt', decision_tree),\n",
    "        ('rf', random_forest),\n",
    "        ('lr', logistic_regression),\n",
    "        ('gb', gradient_boosting)\n",
    "    ], voting='hard')  # Use 'soft' for probability-based voting\n",
    "    voting_clf.fit(X_train_class_scaled, y_train_class)\n",
    "    ensemble_models[label] = voting_clf\n",
    "    \n",
    "    plt.rcParams['figure.figsize'] = (10, 5)\n",
    "    impor_bars.plot.bar();\n",
    "    # #printing the feature importances  \n",
    "    count=0\n",
    "    fea_ture=label+\"=[\"\n",
    "    for i in impor_bars.index:\n",
    "        fea_ture=fea_ture+\"\\\"\"+str(i)+\"\\\",\"\n",
    "        count+=1\n",
    "        if count==5:\n",
    "            fea_ture=fea_ture[0:-1]+\"]\"\n",
    "            break     \n",
    "    print(label,\"importance list:\")\n",
    "    print(label,\"\\n\",impor_bars.head(20),\"\\n\\n\\n\")\n",
    "    print(fea_ture)\n",
    "    plt.title(label+\" Cover type - Feature Importance\")\n",
    "    plt.ylabel('Importance')\n",
    "    plt.savefig(os.path.join(FEATURE_FOLDER, label+\".pdf\"),bbox_inches='tight', format = 'pdf')\n",
    "    # ths.write((  fea_ture ) )\n",
    "    plt.tight_layout()\n",
    "    plt.show()\n",
    "    print(\"-----------------------------------------------------------------------------------------------\\n\\n\\n\\n\")\n",
    "\n",
    "    return feature_importances, ensemble_models, SVMs\n",
    "\n",
    "# Parallelize the training across multiple CSV files\n",
    "results = Parallel(n_jobs=-1)(delayed(train_models)(csv_file) for csv_file in csv_files)\n",
    "\n",
    "# After parallel execution, collect results\n",
    "for feature_importances_res, ensemble_models_res, SVMs_res in results:\n",
    "    feature_importances.update(feature_importances_res)\n",
    "    ensemble_models.update(ensemble_models_res)\n",
    "    SVMs.update(SVMs_res)\n",
    "\n",
    "# Write feature importances to a CSV file after parallel processing\n",
    "# with open(\"importance_list.csv\", \"w\") as ths:\n",
    "#     for label, features in feature_importances.items():\n",
    "#         fea_ture = f\"{label}=[{','.join(f'\\\"{feat}\\\"' for feat in features)}]\\n\"\n",
    "#         ths.write(fea_ture)\n",
    "  \n",
    "print('feature_importances', feature_importances)\n",
    "print(\"Total operation time: = \", time.time() - seconds, \"seconds\")\n",
    "ths.close()"
   ]
  },
  {
   "cell_type": "code",
   "execution_count": 21,
   "metadata": {},
   "outputs": [
    {
     "name": "stdout",
     "output_type": "stream",
     "text": [
      "csv_files ['named.csv', 'snmpgetattack.csv', 'ipsweep.csv', 'httptunnel.csv', 'sendmail.csv', 'guess_passwd.csv', 'satan.csv', 'ps.csv', 'ftp_write.csv', 'xlock.csv', 'udpstorm.csv', 'teardrop.csv', 'phf.csv', 'pod.csv', 'perl.csv', 'nmap.csv', 'portsweep.csv', 'saint.csv', 'rootkit.csv', 'warezmaster.csv', 'xsnoop.csv', 'sqlattack.csv', 'processtable.csv', 'snmpguess.csv', 'mailbomb.csv', 'imap.csv', 'neptune.csv', 'xterm.csv', 'mscan.csv', 'buffer_overflow.csv', 'loadmodule.csv', 'worm.csv', 'multihop.csv', 'back.csv', 'apache2.csv', '.ipynb_checkpoints', 'land.csv', 'smurf.csv']\n"
     ]
    },
    {
     "ename": "ValueError",
     "evalue": "The number of classes has to be greater than one; got 1 class",
     "output_type": "error",
     "traceback": [
      "\u001b[0;31m---------------------------------------------------------------------------\u001b[0m",
      "\u001b[0;31m_RemoteTraceback\u001b[0m                          Traceback (most recent call last)",
      "\u001b[0;31m_RemoteTraceback\u001b[0m: \n\"\"\"\nTraceback (most recent call last):\n  File \"/home/brina/miniconda3/envs/gpu/lib/python3.8/site-packages/joblib/externals/loky/process_executor.py\", line 463, in _process_worker\n    r = call_item()\n  File \"/home/brina/miniconda3/envs/gpu/lib/python3.8/site-packages/joblib/externals/loky/process_executor.py\", line 291, in __call__\n    return self.fn(*self.args, **self.kwargs)\n  File \"/home/brina/miniconda3/envs/gpu/lib/python3.8/site-packages/joblib/parallel.py\", line 589, in __call__\n    return [func(*args, **kwargs)\n  File \"/home/brina/miniconda3/envs/gpu/lib/python3.8/site-packages/joblib/parallel.py\", line 589, in <listcomp>\n    return [func(*args, **kwargs)\n  File \"/tmp/ipykernel_9800/3449832184.py\", line 50, in train_models\n  File \"/home/brina/miniconda3/envs/gpu/lib/python3.8/site-packages/sklearn/base.py\", line 1152, in wrapper\n    return fit_method(estimator, *args, **kwargs)\n  File \"/home/brina/miniconda3/envs/gpu/lib/python3.8/site-packages/sklearn/svm/_base.py\", line 199, in fit\n    y = self._validate_targets(y)\n  File \"/home/brina/miniconda3/envs/gpu/lib/python3.8/site-packages/sklearn/svm/_base.py\", line 747, in _validate_targets\n    raise ValueError(\nValueError: The number of classes has to be greater than one; got 1 class\n\"\"\"",
      "\nThe above exception was the direct cause of the following exception:\n",
      "\u001b[0;31mValueError\u001b[0m                                Traceback (most recent call last)",
      "Cell \u001b[0;32mIn[21], line 97\u001b[0m\n\u001b[1;32m     94\u001b[0m     \u001b[38;5;28;01mreturn\u001b[39;00m feature_importances, ensemble_models, SVMs\n\u001b[1;32m     96\u001b[0m \u001b[38;5;66;03m# Parallelize the training across multiple CSV files\u001b[39;00m\n\u001b[0;32m---> 97\u001b[0m results \u001b[38;5;241m=\u001b[39m \u001b[43mParallel\u001b[49m\u001b[43m(\u001b[49m\u001b[43mn_jobs\u001b[49m\u001b[38;5;241;43m=\u001b[39;49m\u001b[38;5;241;43m-\u001b[39;49m\u001b[38;5;241;43m1\u001b[39;49m\u001b[43m)\u001b[49m\u001b[43m(\u001b[49m\u001b[43mdelayed\u001b[49m\u001b[43m(\u001b[49m\u001b[43mtrain_models\u001b[49m\u001b[43m)\u001b[49m\u001b[43m(\u001b[49m\u001b[43mcsv_file\u001b[49m\u001b[43m)\u001b[49m\u001b[43m \u001b[49m\u001b[38;5;28;43;01mfor\u001b[39;49;00m\u001b[43m \u001b[49m\u001b[43mcsv_file\u001b[49m\u001b[43m \u001b[49m\u001b[38;5;129;43;01min\u001b[39;49;00m\u001b[43m \u001b[49m\u001b[43mcsv_files\u001b[49m\u001b[43m)\u001b[49m\n\u001b[1;32m     99\u001b[0m \u001b[38;5;66;03m# After parallel execution, collect results\u001b[39;00m\n\u001b[1;32m    100\u001b[0m \u001b[38;5;28;01mfor\u001b[39;00m feature_importances_res, ensemble_models_res, SVMs_res \u001b[38;5;129;01min\u001b[39;00m results:\n",
      "File \u001b[0;32m~/miniconda3/envs/gpu/lib/python3.8/site-packages/joblib/parallel.py:1952\u001b[0m, in \u001b[0;36mParallel.__call__\u001b[0;34m(self, iterable)\u001b[0m\n\u001b[1;32m   1946\u001b[0m \u001b[38;5;66;03m# The first item from the output is blank, but it makes the interpreter\u001b[39;00m\n\u001b[1;32m   1947\u001b[0m \u001b[38;5;66;03m# progress until it enters the Try/Except block of the generator and\u001b[39;00m\n\u001b[1;32m   1948\u001b[0m \u001b[38;5;66;03m# reach the first `yield` statement. This starts the aynchronous\u001b[39;00m\n\u001b[1;32m   1949\u001b[0m \u001b[38;5;66;03m# dispatch of the tasks to the workers.\u001b[39;00m\n\u001b[1;32m   1950\u001b[0m \u001b[38;5;28mnext\u001b[39m(output)\n\u001b[0;32m-> 1952\u001b[0m \u001b[38;5;28;01mreturn\u001b[39;00m output \u001b[38;5;28;01mif\u001b[39;00m \u001b[38;5;28mself\u001b[39m\u001b[38;5;241m.\u001b[39mreturn_generator \u001b[38;5;28;01melse\u001b[39;00m \u001b[38;5;28;43mlist\u001b[39;49m\u001b[43m(\u001b[49m\u001b[43moutput\u001b[49m\u001b[43m)\u001b[49m\n",
      "File \u001b[0;32m~/miniconda3/envs/gpu/lib/python3.8/site-packages/joblib/parallel.py:1595\u001b[0m, in \u001b[0;36mParallel._get_outputs\u001b[0;34m(self, iterator, pre_dispatch)\u001b[0m\n\u001b[1;32m   1592\u001b[0m     \u001b[38;5;28;01myield\u001b[39;00m\n\u001b[1;32m   1594\u001b[0m     \u001b[38;5;28;01mwith\u001b[39;00m \u001b[38;5;28mself\u001b[39m\u001b[38;5;241m.\u001b[39m_backend\u001b[38;5;241m.\u001b[39mretrieval_context():\n\u001b[0;32m-> 1595\u001b[0m         \u001b[38;5;28;01myield from\u001b[39;00m \u001b[38;5;28mself\u001b[39m\u001b[38;5;241m.\u001b[39m_retrieve()\n\u001b[1;32m   1597\u001b[0m \u001b[38;5;28;01mexcept\u001b[39;00m \u001b[38;5;167;01mGeneratorExit\u001b[39;00m:\n\u001b[1;32m   1598\u001b[0m     \u001b[38;5;66;03m# The generator has been garbage collected before being fully\u001b[39;00m\n\u001b[1;32m   1599\u001b[0m     \u001b[38;5;66;03m# consumed. This aborts the remaining tasks if possible and warn\u001b[39;00m\n\u001b[1;32m   1600\u001b[0m     \u001b[38;5;66;03m# the user if necessary.\u001b[39;00m\n\u001b[1;32m   1601\u001b[0m     \u001b[38;5;28mself\u001b[39m\u001b[38;5;241m.\u001b[39m_exception \u001b[38;5;241m=\u001b[39m \u001b[38;5;28;01mTrue\u001b[39;00m\n",
      "File \u001b[0;32m~/miniconda3/envs/gpu/lib/python3.8/site-packages/joblib/parallel.py:1699\u001b[0m, in \u001b[0;36mParallel._retrieve\u001b[0;34m(self)\u001b[0m\n\u001b[1;32m   1692\u001b[0m \u001b[38;5;28;01mwhile\u001b[39;00m \u001b[38;5;28mself\u001b[39m\u001b[38;5;241m.\u001b[39m_wait_retrieval():\n\u001b[1;32m   1693\u001b[0m \n\u001b[1;32m   1694\u001b[0m     \u001b[38;5;66;03m# If the callback thread of a worker has signaled that its task\u001b[39;00m\n\u001b[1;32m   1695\u001b[0m     \u001b[38;5;66;03m# triggered an exception, or if the retrieval loop has raised an\u001b[39;00m\n\u001b[1;32m   1696\u001b[0m     \u001b[38;5;66;03m# exception (e.g. `GeneratorExit`), exit the loop and surface the\u001b[39;00m\n\u001b[1;32m   1697\u001b[0m     \u001b[38;5;66;03m# worker traceback.\u001b[39;00m\n\u001b[1;32m   1698\u001b[0m     \u001b[38;5;28;01mif\u001b[39;00m \u001b[38;5;28mself\u001b[39m\u001b[38;5;241m.\u001b[39m_aborting:\n\u001b[0;32m-> 1699\u001b[0m         \u001b[38;5;28;43mself\u001b[39;49m\u001b[38;5;241;43m.\u001b[39;49m\u001b[43m_raise_error_fast\u001b[49m\u001b[43m(\u001b[49m\u001b[43m)\u001b[49m\n\u001b[1;32m   1700\u001b[0m         \u001b[38;5;28;01mbreak\u001b[39;00m\n\u001b[1;32m   1702\u001b[0m     \u001b[38;5;66;03m# If the next job is not ready for retrieval yet, we just wait for\u001b[39;00m\n\u001b[1;32m   1703\u001b[0m     \u001b[38;5;66;03m# async callbacks to progress.\u001b[39;00m\n",
      "File \u001b[0;32m~/miniconda3/envs/gpu/lib/python3.8/site-packages/joblib/parallel.py:1734\u001b[0m, in \u001b[0;36mParallel._raise_error_fast\u001b[0;34m(self)\u001b[0m\n\u001b[1;32m   1730\u001b[0m \u001b[38;5;66;03m# If this error job exists, immediatly raise the error by\u001b[39;00m\n\u001b[1;32m   1731\u001b[0m \u001b[38;5;66;03m# calling get_result. This job might not exists if abort has been\u001b[39;00m\n\u001b[1;32m   1732\u001b[0m \u001b[38;5;66;03m# called directly or if the generator is gc'ed.\u001b[39;00m\n\u001b[1;32m   1733\u001b[0m \u001b[38;5;28;01mif\u001b[39;00m error_job \u001b[38;5;129;01mis\u001b[39;00m \u001b[38;5;129;01mnot\u001b[39;00m \u001b[38;5;28;01mNone\u001b[39;00m:\n\u001b[0;32m-> 1734\u001b[0m     \u001b[43merror_job\u001b[49m\u001b[38;5;241;43m.\u001b[39;49m\u001b[43mget_result\u001b[49m\u001b[43m(\u001b[49m\u001b[38;5;28;43mself\u001b[39;49m\u001b[38;5;241;43m.\u001b[39;49m\u001b[43mtimeout\u001b[49m\u001b[43m)\u001b[49m\n",
      "File \u001b[0;32m~/miniconda3/envs/gpu/lib/python3.8/site-packages/joblib/parallel.py:736\u001b[0m, in \u001b[0;36mBatchCompletionCallBack.get_result\u001b[0;34m(self, timeout)\u001b[0m\n\u001b[1;32m    730\u001b[0m backend \u001b[38;5;241m=\u001b[39m \u001b[38;5;28mself\u001b[39m\u001b[38;5;241m.\u001b[39mparallel\u001b[38;5;241m.\u001b[39m_backend\n\u001b[1;32m    732\u001b[0m \u001b[38;5;28;01mif\u001b[39;00m backend\u001b[38;5;241m.\u001b[39msupports_retrieve_callback:\n\u001b[1;32m    733\u001b[0m     \u001b[38;5;66;03m# We assume that the result has already been retrieved by the\u001b[39;00m\n\u001b[1;32m    734\u001b[0m     \u001b[38;5;66;03m# callback thread, and is stored internally. It's just waiting to\u001b[39;00m\n\u001b[1;32m    735\u001b[0m     \u001b[38;5;66;03m# be returned.\u001b[39;00m\n\u001b[0;32m--> 736\u001b[0m     \u001b[38;5;28;01mreturn\u001b[39;00m \u001b[38;5;28;43mself\u001b[39;49m\u001b[38;5;241;43m.\u001b[39;49m\u001b[43m_return_or_raise\u001b[49m\u001b[43m(\u001b[49m\u001b[43m)\u001b[49m\n\u001b[1;32m    738\u001b[0m \u001b[38;5;66;03m# For other backends, the main thread needs to run the retrieval step.\u001b[39;00m\n\u001b[1;32m    739\u001b[0m \u001b[38;5;28;01mtry\u001b[39;00m:\n",
      "File \u001b[0;32m~/miniconda3/envs/gpu/lib/python3.8/site-packages/joblib/parallel.py:754\u001b[0m, in \u001b[0;36mBatchCompletionCallBack._return_or_raise\u001b[0;34m(self)\u001b[0m\n\u001b[1;32m    752\u001b[0m \u001b[38;5;28;01mtry\u001b[39;00m:\n\u001b[1;32m    753\u001b[0m     \u001b[38;5;28;01mif\u001b[39;00m \u001b[38;5;28mself\u001b[39m\u001b[38;5;241m.\u001b[39mstatus \u001b[38;5;241m==\u001b[39m TASK_ERROR:\n\u001b[0;32m--> 754\u001b[0m         \u001b[38;5;28;01mraise\u001b[39;00m \u001b[38;5;28mself\u001b[39m\u001b[38;5;241m.\u001b[39m_result\n\u001b[1;32m    755\u001b[0m     \u001b[38;5;28;01mreturn\u001b[39;00m \u001b[38;5;28mself\u001b[39m\u001b[38;5;241m.\u001b[39m_result\n\u001b[1;32m    756\u001b[0m \u001b[38;5;28;01mfinally\u001b[39;00m:\n",
      "\u001b[0;31mValueError\u001b[0m: The number of classes has to be greater than one; got 1 class"
     ]
    }
   ],
   "source": [
    "seconds = time.time()\n",
    "\n",
    "# CSV files names:\n",
    "csv_files=os.listdir(OUTPUT_FOLDER)# It creates a list of file names in the \"attacks\" folder.\n",
    "print('csv_files',csv_files)\n",
    "\n",
    "ths = open(\"importance_list.csv\", \"w\")\n",
    "feature_importances = {}\n",
    "ensemble_models = {}\n",
    "SVMs = {}\n",
    "\n",
    "def train_models(csv_file):\n",
    "    print('csv file', csv_file)\n",
    "    \n",
    "    X_df, y_df, df = get_anomaly_X_y_from_csv(csv_file, main_labels, TARGET_COLUMN, NORMAL_TARGET, OUTPUT_FOLDER)\n",
    "\n",
    "    #computing the feature importances\n",
    "    forest = sk.ensemble.RandomForestRegressor(n_estimators=250,random_state=0)\n",
    "    forest.fit(X_df, y_df)\n",
    "    importances = forest.feature_importances_\n",
    "    label = csv_file.split(\".\")[0]\n",
    "    print('importances', importances, label)\n",
    "    std = np.std([tree.feature_importances_ for tree in forest.estimators_],\n",
    "                 axis=0)\n",
    "    indices = np.argsort(importances)[::-1]\n",
    "    refclasscol=list(df.columns.values)\n",
    "    impor_bars = pd.DataFrame({'Features':refclasscol[0:20],'importance':importances[0:20]})\n",
    "    impor_bars = impor_bars.sort_values('importance',ascending=False)\n",
    "    important_features = impor_bars['Features'].to_list()[:5]\n",
    "    impor_bars = impor_bars.set_index('Features')\n",
    "    print('important_features', important_features)\n",
    "    feature_importances[label] = important_features\n",
    "\n",
    "    X_scaled_df = X_df.copy()\n",
    "    X_scaled_df[NUMERICAL_COLUMNS] = scaler.transform(X_scaled_df[NUMERICAL_COLUMNS])\n",
    "\n",
    "    svm = SVC()\n",
    "    knn = KNeighborsClassifier(n_neighbors=5)\n",
    "    decision_tree = DecisionTreeClassifier()\n",
    "    random_forest = RandomForestClassifier(n_estimators=100, random_state=42)\n",
    "    logistic_regression = LogisticRegression(max_iter=1000)\n",
    "    gradient_boosting = GradientBoostingClassifier(n_estimators=100, random_state=42)\n",
    "    \n",
    "    X_train_class = df.iloc[:, df.columns.get_indexer(important_features)]\n",
    "    X_train_class_scaled = X_scaled_df.iloc[:, df.columns.get_indexer(important_features)]\n",
    "    # print('X_train_class', X_train_class)\n",
    "    y_train_class = y_df\n",
    "    # print('y_train_class', y_train_class)\n",
    "    if len(y_train_class) > 0:  # Ensure there are samples for this class\n",
    "        svm.fit(X_train_class_scaled, y_train_class)\n",
    "        knn.fit(X_train_class_scaled, y_train_class)\n",
    "        decision_tree.fit(X_train_class, y_train_class)\n",
    "        random_forest.fit(X_train_class, y_train_class)\n",
    "        logistic_regression.fit(X_train_class_scaled, y_train_class)\n",
    "        gradient_boosting.fit(X_train_class, y_train_class)\n",
    "    else:\n",
    "        print(f'no data for {label}')\n",
    "    SVMs[label] = svm\n",
    "\n",
    "    # Create an ensemble from the classifiers using VotingClassifier\n",
    "    voting_clf = VotingClassifier(estimators=[\n",
    "        ('svm', svm),\n",
    "        ('knn', knn),\n",
    "        ('dt', decision_tree),\n",
    "        ('rf', random_forest),\n",
    "        ('lr', logistic_regression),\n",
    "        ('gb', gradient_boosting)\n",
    "    ], voting='hard')  # Use 'soft' for probability-based voting\n",
    "    voting_clf.fit(X_train_class_scaled, y_train_class)\n",
    "    ensemble_models[label] = voting_clf\n",
    "    \n",
    "    plt.rcParams['figure.figsize'] = (10, 5)\n",
    "    impor_bars.plot.bar();\n",
    "    # #printing the feature importances  \n",
    "    count=0\n",
    "    fea_ture=label+\"=[\"\n",
    "    for i in impor_bars.index:\n",
    "        fea_ture=fea_ture+\"\\\"\"+str(i)+\"\\\",\"\n",
    "        count+=1\n",
    "        if count==5:\n",
    "            fea_ture=fea_ture[0:-1]+\"]\"\n",
    "            break     \n",
    "    print(label,\"importance list:\")\n",
    "    print(label,\"\\n\",impor_bars.head(20),\"\\n\\n\\n\")\n",
    "    print(fea_ture)\n",
    "    plt.title(label+\" Cover type - Feature Importance\")\n",
    "    plt.ylabel('Importance')\n",
    "    plt.savefig(os.path.join(FEATURE_FOLDER, label+\".pdf\"),bbox_inches='tight', format = 'pdf')\n",
    "    # ths.write((  fea_ture ) )\n",
    "    plt.tight_layout()\n",
    "    plt.show()\n",
    "    print(\"-----------------------------------------------------------------------------------------------\\n\\n\\n\\n\")\n",
    "\n",
    "    return feature_importances, ensemble_models, SVMs\n",
    "\n",
    "# Parallelize the training across multiple CSV files\n",
    "results = Parallel(n_jobs=-1)(delayed(train_models)(csv_file) for csv_file in csv_files)\n",
    "\n",
    "# After parallel execution, collect results\n",
    "for feature_importances_res, ensemble_models_res, SVMs_res in results:\n",
    "    feature_importances.update(feature_importances_res)\n",
    "    ensemble_models.update(ensemble_models_res)\n",
    "    SVMs.update(SVMs_res)\n",
    "\n",
    "# Write feature importances to a CSV file after parallel processing\n",
    "# with open(\"importance_list.csv\", \"w\") as ths:\n",
    "#     for label, features in feature_importances.items():\n",
    "#         fea_ture = f\"{label}=[{','.join(f'\\\"{feat}\\\"' for feat in features)}]\\n\"\n",
    "#         ths.write(fea_ture)\n",
    "  \n",
    "print('feature_importances', feature_importances)\n",
    "print(\"Total operation time: = \", time.time() - seconds, \"seconds\")\n",
    "ths.close()"
   ]
  },
  {
   "cell_type": "code",
   "execution_count": 14,
   "metadata": {},
   "outputs": [
    {
     "data": {
      "text/html": [
       "wandb version 0.18.3 is available!  To upgrade, please run:\n",
       " $ pip install wandb --upgrade"
      ],
      "text/plain": [
       "<IPython.core.display.HTML object>"
      ]
     },
     "metadata": {},
     "output_type": "display_data"
    },
    {
     "data": {
      "text/html": [
       "Tracking run with wandb version 0.16.4"
      ],
      "text/plain": [
       "<IPython.core.display.HTML object>"
      ]
     },
     "metadata": {},
     "output_type": "display_data"
    },
    {
     "data": {
      "text/html": [
       "Run data is saved locally in <code>/home/brina/nus-mcomp/sem2/cs5344-big-data-analytics-technology/CS5344_Project/work/wandb/run-20241008_115540-fvz5dwvv</code>"
      ],
      "text/plain": [
       "<IPython.core.display.HTML object>"
      ]
     },
     "metadata": {},
     "output_type": "display_data"
    },
    {
     "data": {
      "text/html": [
       "Syncing run <strong><a href='https://wandb.ai/brinashong/pipeline-knn-covertype-dataset/runs/fvz5dwvv' target=\"_blank\">3 neighbours</a></strong> to <a href='https://wandb.ai/brinashong/pipeline-knn-covertype-dataset' target=\"_blank\">Weights & Biases</a> (<a href='https://wandb.me/run' target=\"_blank\">docs</a>)<br/>"
      ],
      "text/plain": [
       "<IPython.core.display.HTML object>"
      ]
     },
     "metadata": {},
     "output_type": "display_data"
    },
    {
     "data": {
      "text/html": [
       " View project at <a href='https://wandb.ai/brinashong/pipeline-knn-covertype-dataset' target=\"_blank\">https://wandb.ai/brinashong/pipeline-knn-covertype-dataset</a>"
      ],
      "text/plain": [
       "<IPython.core.display.HTML object>"
      ]
     },
     "metadata": {},
     "output_type": "display_data"
    },
    {
     "data": {
      "text/html": [
       " View run at <a href='https://wandb.ai/brinashong/pipeline-knn-covertype-dataset/runs/fvz5dwvv' target=\"_blank\">https://wandb.ai/brinashong/pipeline-knn-covertype-dataset/runs/fvz5dwvv</a>"
      ],
      "text/plain": [
       "<IPython.core.display.HTML object>"
      ]
     },
     "metadata": {},
     "output_type": "display_data"
    },
    {
     "name": "stdout",
     "output_type": "stream",
     "text": [
      "k:  3\n",
      "Cross-validation score for k=3: 0.9658289756892552\n",
      "Total operation time: =  148.28774857521057 seconds\n"
     ]
    },
    {
     "data": {
      "application/vnd.jupyter.widget-view+json": {
       "model_id": "",
       "version_major": 2,
       "version_minor": 0
      },
      "text/plain": [
       "VBox(children=(Label(value='0.003 MB of 0.003 MB uploaded\\r'), FloatProgress(value=1.0, max=1.0)))"
      ]
     },
     "metadata": {},
     "output_type": "display_data"
    },
    {
     "data": {
      "text/html": [
       "<style>\n",
       "    table.wandb td:nth-child(1) { padding: 0 10px; text-align: left ; width: auto;} td:nth-child(2) {text-align: left ; width: 100%}\n",
       "    .wandb-row { display: flex; flex-direction: row; flex-wrap: wrap; justify-content: flex-start; width: 100% }\n",
       "    .wandb-col { display: flex; flex-direction: column; flex-basis: 100%; flex: 1; padding: 10px; }\n",
       "    </style>\n",
       "<div class=\"wandb-row\"><div class=\"wandb-col\"><h3>Run history:</h3><br/><table class=\"wandb\"><tr><td>Cross-validation Score</td><td>▁</td></tr><tr><td>Total operation time</td><td>▁</td></tr></table><br/></div><div class=\"wandb-col\"><h3>Run summary:</h3><br/><table class=\"wandb\"><tr><td>Cross-validation Score</td><td>0.96583</td></tr><tr><td>Total operation time</td><td>148.28775</td></tr></table><br/></div></div>"
      ],
      "text/plain": [
       "<IPython.core.display.HTML object>"
      ]
     },
     "metadata": {},
     "output_type": "display_data"
    },
    {
     "data": {
      "text/html": [
       " View run <strong style=\"color:#cdcd00\">3 neighbours</strong> at: <a href='https://wandb.ai/brinashong/pipeline-knn-covertype-dataset/runs/fvz5dwvv' target=\"_blank\">https://wandb.ai/brinashong/pipeline-knn-covertype-dataset/runs/fvz5dwvv</a><br/> View job at <a href='https://wandb.ai/brinashong/pipeline-knn-covertype-dataset/jobs/QXJ0aWZhY3RDb2xsZWN0aW9uOjQ2NzEzMzU1Ng==/version_details/v3' target=\"_blank\">https://wandb.ai/brinashong/pipeline-knn-covertype-dataset/jobs/QXJ0aWZhY3RDb2xsZWN0aW9uOjQ2NzEzMzU1Ng==/version_details/v3</a><br/>Synced 6 W&B file(s), 0 media file(s), 0 artifact file(s) and 0 other file(s)"
      ],
      "text/plain": [
       "<IPython.core.display.HTML object>"
      ]
     },
     "metadata": {},
     "output_type": "display_data"
    },
    {
     "data": {
      "text/html": [
       "Find logs at: <code>./wandb/run-20241008_115540-fvz5dwvv/logs</code>"
      ],
      "text/plain": [
       "<IPython.core.display.HTML object>"
      ]
     },
     "metadata": {},
     "output_type": "display_data"
    },
    {
     "name": "stdout",
     "output_type": "stream",
     "text": [
      "The best k is 3 with a cross-validation score of 0.9658289756892552\n",
      "Final predictions using the best model: [1 2 2 2 2 3 2 1 2 2 2 1 5 2 2 1 2 5 3 2 1 2 2 1 6 1 1 2 1 2 1 2 2 3 1 2 2\n",
      " 2 2 1 2 1 1 2 2 1 2 2 7 2 1 1 6 2 1 1 7 2 2 2 2 1 1 2 2 2 3 2 2 1 5 1 2 3\n",
      " 1 3 2 1 1 2 2 1 2 2 2 1 1 3 1 2 1 1 2 1 3 3 2 2 1 1 6 6 2 2 1 2 5 6 6 1 2\n",
      " 1 2 1 1 1 3 1 2 3 1 1 1 1 2 2 1 1 1 2 1 2 2 2 5 1 1 1 2 3 1 2 2 3 1 1 1 2\n",
      " 2 2 1 7 2 2 1 1 2 2 1 2 1 3 1 2 2 2 2 2 2 2 2 1 2 1 1 1 1 2 2 2 1 2 2 2 2\n",
      " 2 1 2 2 1 1 1 2 2 1 3 3 2 1 1 2 7 1 1 1 1 2 2 2 3 2 5 3 3 2 1 2 1 2 2 3 1\n",
      " 2 2 3 2 2 2 1 1 2 5 1 1 1 2 2 1 2 2 1 1 2 1 1 6 2 1 2 7 2 1 3 5 1 2 3 2 2\n",
      " 1 2 2 1 2 2 2 2 1 1 2 1 2 1 1 2 6 1 3 2 7 1 1 2 2 2 2 2 2 7 1 1 1 1 1 2 2\n",
      " 5 2 2 2 1 6 2 1 1 2 7 1 2 3 2 2 2 2 2 6 1 5 2 2 1 6 2 2 1 1 1 1 2 2 2 7 3\n",
      " 3 2 1 2 2 2 3 2 2 1 2 1 1 2 1 7 2 1 3 3 5 2 2 1 3 3 2 2 1 2 2 2 2 2 2 1 2\n",
      " 2 1 2 2 1 2 1 1 2 2 2 1 2 1 3 1 3 2 2 2 6 2 3 2 2 1 2 2 6 1 2 1 2 2 2 2 1\n",
      " 2 2 7 2 2 3 1 2 1 1 2 2 2 1 7 1 2 2 1 6 2 2 1 1 2 2 2 6 2 2 5 1 6 1 1 2 1\n",
      " 2 1 1 6 1 1 1 3 1 1 1 2 2 1 6 2 2 2 2 2 2 2 2 1 2 2 1 2 2 2 6 1 2 1 1 1 1\n",
      " 2 7 1 1 7 6 1 1 2 2 2 1 2 1 1 1 7 6 3]\n",
      "Best KNN Model Evaluation\n",
      "Confusion Matrix:\n",
      "[[175   1   0   0   0   0   0]\n",
      " [  2 235   0   0   0   0   0]\n",
      " [  0   0  36   0   0   1   0]\n",
      " [  0   0   0   0   0   1   0]\n",
      " [  0   1   1   0  12   0   0]\n",
      " [  0   0   1   0   0  19   0]\n",
      " [  0   0   0   0   0   0  15]]\n",
      "\n",
      "Classification Report:\n",
      "{'1': {'precision': 0.9887005649717514, 'recall': 0.9943181818181818, 'f1-score': 0.9915014164305949, 'support': 176.0}, '2': {'precision': 0.9915611814345991, 'recall': 0.9915611814345991, 'f1-score': 0.9915611814345991, 'support': 237.0}, '3': {'precision': 0.9473684210526315, 'recall': 0.972972972972973, 'f1-score': 0.9599999999999999, 'support': 37.0}, '4': {'precision': 0.0, 'recall': 0.0, 'f1-score': 0.0, 'support': 1.0}, '5': {'precision': 1.0, 'recall': 0.8571428571428571, 'f1-score': 0.923076923076923, 'support': 14.0}, '6': {'precision': 0.9047619047619048, 'recall': 0.95, 'f1-score': 0.9268292682926829, 'support': 20.0}, '7': {'precision': 1.0, 'recall': 1.0, 'f1-score': 1.0, 'support': 15.0}, 'accuracy': 0.984, 'macro avg': {'precision': 0.8331988674601266, 'recall': 0.8237135990526587, 'f1-score': 0.8275669698906858, 'support': 500.0}, 'weighted avg': {'precision': 0.9823183382184275, 'recall': 0.984, 'f1-score': 0.9829678231614306, 'support': 500.0}}\n",
      "Accuracy: 0.984\n",
      "Accuracy on test set with best k=3: 0.984\n"
     ]
    },
    {
     "name": "stderr",
     "output_type": "stream",
     "text": [
      "/home/brina/miniconda3/envs/gpu/lib/python3.8/site-packages/sklearn/metrics/_classification.py:1471: UndefinedMetricWarning: Precision and F-score are ill-defined and being set to 0.0 in labels with no predicted samples. Use `zero_division` parameter to control this behavior.\n",
      "  _warn_prf(average, modifier, msg_start, len(result))\n",
      "/home/brina/miniconda3/envs/gpu/lib/python3.8/site-packages/sklearn/metrics/_classification.py:1471: UndefinedMetricWarning: Precision and F-score are ill-defined and being set to 0.0 in labels with no predicted samples. Use `zero_division` parameter to control this behavior.\n",
      "  _warn_prf(average, modifier, msg_start, len(result))\n",
      "/home/brina/miniconda3/envs/gpu/lib/python3.8/site-packages/sklearn/metrics/_classification.py:1471: UndefinedMetricWarning: Precision and F-score are ill-defined and being set to 0.0 in labels with no predicted samples. Use `zero_division` parameter to control this behavior.\n",
      "  _warn_prf(average, modifier, msg_start, len(result))\n",
      "/home/brina/miniconda3/envs/gpu/lib/python3.8/site-packages/sklearn/metrics/_classification.py:1471: UndefinedMetricWarning: Precision and F-score are ill-defined and being set to 0.0 in labels with no predicted samples. Use `zero_division` parameter to control this behavior.\n",
      "  _warn_prf(average, modifier, msg_start, len(result))\n",
      "/home/brina/miniconda3/envs/gpu/lib/python3.8/site-packages/sklearn/metrics/_classification.py:1471: UndefinedMetricWarning: Precision and F-score are ill-defined and being set to 0.0 in labels with no predicted samples. Use `zero_division` parameter to control this behavior.\n",
      "  _warn_prf(average, modifier, msg_start, len(result))\n",
      "/home/brina/miniconda3/envs/gpu/lib/python3.8/site-packages/sklearn/metrics/_classification.py:1471: UndefinedMetricWarning: Precision and F-score are ill-defined and being set to 0.0 in labels with no predicted samples. Use `zero_division` parameter to control this behavior.\n",
      "  _warn_prf(average, modifier, msg_start, len(result))\n"
     ]
    },
    {
     "data": {
      "application/vnd.jupyter.widget-view+json": {
       "model_id": "6e636acbaec14991a4c15de4aaed7584",
       "version_major": 2,
       "version_minor": 0
      },
      "text/plain": [
       "VBox(children=(Label(value='Waiting for wandb.init()...\\r'), FloatProgress(value=0.011120529222211593, max=1.0…"
      ]
     },
     "metadata": {},
     "output_type": "display_data"
    },
    {
     "data": {
      "text/html": [
       "wandb version 0.18.3 is available!  To upgrade, please run:\n",
       " $ pip install wandb --upgrade"
      ],
      "text/plain": [
       "<IPython.core.display.HTML object>"
      ]
     },
     "metadata": {},
     "output_type": "display_data"
    },
    {
     "data": {
      "text/html": [
       "Tracking run with wandb version 0.16.4"
      ],
      "text/plain": [
       "<IPython.core.display.HTML object>"
      ]
     },
     "metadata": {},
     "output_type": "display_data"
    },
    {
     "data": {
      "text/html": [
       "Run data is saved locally in <code>/home/brina/nus-mcomp/sem2/cs5344-big-data-analytics-technology/CS5344_Project/work/wandb/run-20241008_115815-m2rzkz48</code>"
      ],
      "text/plain": [
       "<IPython.core.display.HTML object>"
      ]
     },
     "metadata": {},
     "output_type": "display_data"
    },
    {
     "data": {
      "text/html": [
       "Syncing run <strong><a href='https://wandb.ai/brinashong/pipeline-knn-covertype-dataset/runs/m2rzkz48' target=\"_blank\">best_model_evaluation</a></strong> to <a href='https://wandb.ai/brinashong/pipeline-knn-covertype-dataset' target=\"_blank\">Weights & Biases</a> (<a href='https://wandb.me/run' target=\"_blank\">docs</a>)<br/>"
      ],
      "text/plain": [
       "<IPython.core.display.HTML object>"
      ]
     },
     "metadata": {},
     "output_type": "display_data"
    },
    {
     "data": {
      "text/html": [
       " View project at <a href='https://wandb.ai/brinashong/pipeline-knn-covertype-dataset' target=\"_blank\">https://wandb.ai/brinashong/pipeline-knn-covertype-dataset</a>"
      ],
      "text/plain": [
       "<IPython.core.display.HTML object>"
      ]
     },
     "metadata": {},
     "output_type": "display_data"
    },
    {
     "data": {
      "text/html": [
       " View run at <a href='https://wandb.ai/brinashong/pipeline-knn-covertype-dataset/runs/m2rzkz48' target=\"_blank\">https://wandb.ai/brinashong/pipeline-knn-covertype-dataset/runs/m2rzkz48</a>"
      ],
      "text/plain": [
       "<IPython.core.display.HTML object>"
      ]
     },
     "metadata": {},
     "output_type": "display_data"
    },
    {
     "data": {
      "application/vnd.jupyter.widget-view+json": {
       "model_id": "",
       "version_major": 2,
       "version_minor": 0
      },
      "text/plain": [
       "VBox(children=(Label(value='0.005 MB of 0.006 MB uploaded\\r'), FloatProgress(value=0.963471102726805, max=1.0)…"
      ]
     },
     "metadata": {},
     "output_type": "display_data"
    },
    {
     "data": {
      "text/html": [
       "<style>\n",
       "    table.wandb td:nth-child(1) { padding: 0 10px; text-align: left ; width: auto;} td:nth-child(2) {text-align: left ; width: 100%}\n",
       "    .wandb-row { display: flex; flex-direction: row; flex-wrap: wrap; justify-content: flex-start; width: 100% }\n",
       "    .wandb-col { display: flex; flex-direction: column; flex-basis: 100%; flex: 1; padding: 10px; }\n",
       "    </style>\n",
       "<div class=\"wandb-row\"><div class=\"wandb-col\"><h3>Run history:</h3><br/><table class=\"wandb\"><tr><td>Accuracy Score</td><td>▁</td></tr><tr><td>f1-score_avg</td><td>▁</td></tr><tr><td>precision_avg</td><td>▁</td></tr><tr><td>recall_avg</td><td>▁</td></tr></table><br/></div><div class=\"wandb-col\"><h3>Run summary:</h3><br/><table class=\"wandb\"><tr><td>Accuracy Score</td><td>0.984</td></tr><tr><td>f1-score_avg</td><td>0.98297</td></tr><tr><td>precision_avg</td><td>0.98232</td></tr><tr><td>recall_avg</td><td>0.984</td></tr></table><br/></div></div>"
      ],
      "text/plain": [
       "<IPython.core.display.HTML object>"
      ]
     },
     "metadata": {},
     "output_type": "display_data"
    },
    {
     "data": {
      "text/html": [
       " View run <strong style=\"color:#cdcd00\">best_model_evaluation</strong> at: <a href='https://wandb.ai/brinashong/pipeline-knn-covertype-dataset/runs/m2rzkz48' target=\"_blank\">https://wandb.ai/brinashong/pipeline-knn-covertype-dataset/runs/m2rzkz48</a><br/> View job at <a href='https://wandb.ai/brinashong/pipeline-knn-covertype-dataset/jobs/QXJ0aWZhY3RDb2xsZWN0aW9uOjQ2NzEzMzU1Ng==/version_details/v2' target=\"_blank\">https://wandb.ai/brinashong/pipeline-knn-covertype-dataset/jobs/QXJ0aWZhY3RDb2xsZWN0aW9uOjQ2NzEzMzU1Ng==/version_details/v2</a><br/>Synced 5 W&B file(s), 2 media file(s), 2 artifact file(s) and 0 other file(s)"
      ],
      "text/plain": [
       "<IPython.core.display.HTML object>"
      ]
     },
     "metadata": {},
     "output_type": "display_data"
    },
    {
     "data": {
      "text/html": [
       "Find logs at: <code>./wandb/run-20241008_115815-m2rzkz48/logs</code>"
      ],
      "text/plain": [
       "<IPython.core.display.HTML object>"
      ]
     },
     "metadata": {},
     "output_type": "display_data"
    },
    {
     "name": "stdout",
     "output_type": "stream",
     "text": [
      "csv file Spruce-Fir.csv\n",
      "importances [3.27792519e-01 2.79286653e-02 1.63415314e-02 6.75524954e-02\n",
      " 4.69016726e-02 1.58180294e-01 2.81521628e-02 3.90647018e-02\n",
      " 2.19325803e-02 1.57215058e-01 8.00204582e-03 5.00552027e-03\n",
      " 1.04513981e-02 1.67397951e-07 0.00000000e+00 1.42215969e-05\n",
      " 1.47483326e-05 1.93429342e-04 0.00000000e+00 0.00000000e+00\n",
      " 6.95393215e-07 9.52867953e-05 1.83302616e-04 8.15366337e-04\n",
      " 3.42573691e-04 1.53201802e-03 3.25231064e-03 0.00000000e+00\n",
      " 0.00000000e+00 1.18171505e-03 2.42002225e-04 4.89926975e-06\n",
      " 1.24509056e-03 3.00706212e-03 7.68923201e-04 1.23347759e-02\n",
      " 1.08121855e-02 7.57167704e-03 1.39963583e-05 1.38922156e-04\n",
      " 1.55518227e-03 1.18679619e-04 1.02146627e-02 2.72535698e-03\n",
      " 6.58068874e-03 1.11305597e-02 6.67661334e-03 7.52689844e-04\n",
      " 5.81856816e-06 1.06369486e-04 0.00000000e+00 6.02698132e-04\n",
      " 7.64023417e-04 4.80643156e-04] Spruce-Fir\n",
      "important_features ['Elevation', 'Horizontal_Distance_To_Roadways', 'Horizontal_Distance_To_Fire_Points', 'Horizontal_Distance_To_Hydrology', 'Vertical_Distance_To_Hydrology']\n",
      "Spruce-Fir importance list:\n",
      "Spruce-Fir \n",
      "                                       importance\n",
      "Features                                        \n",
      "Elevation                           3.277925e-01\n",
      "Horizontal_Distance_To_Roadways     1.581803e-01\n",
      "Horizontal_Distance_To_Fire_Points  1.572151e-01\n",
      "Horizontal_Distance_To_Hydrology    6.755250e-02\n",
      "Vertical_Distance_To_Hydrology      4.690167e-02\n",
      "Hillshade_Noon                      3.906470e-02\n",
      "Hillshade_9am                       2.815216e-02\n",
      "Aspect                              2.792867e-02\n",
      "Hillshade_3pm                       2.193258e-02\n",
      "Slope                               1.634153e-02\n",
      "Wilderness_Area_2                   1.045140e-02\n",
      "Wilderness_Area_0                   8.002046e-03\n",
      "Wilderness_Area_1                   5.005520e-03\n",
      "Soil_Type_3                         1.934293e-04\n",
      "Soil_Type_2                         1.474833e-05\n",
      "Soil_Type_1                         1.422160e-05\n",
      "Wilderness_Area_3                   1.673980e-07\n",
      "Soil_Type_0                         0.000000e+00\n",
      "Soil_Type_4                         0.000000e+00\n",
      "Soil_Type_5                         0.000000e+00 \n",
      "\n",
      "\n",
      "\n",
      "Spruce-Fir=[\"Elevation\",\"Horizontal_Distance_To_Roadways\",\"Horizontal_Distance_To_Fire_Points\",\"Horizontal_Distance_To_Hydrology\",\"Vertical_Distance_To_Hydrology\"]\n",
      "Figure(1000x500)\n",
      "-----------------------------------------------------------------------------------------------\n",
      "\n",
      "\n",
      "\n",
      "\n"
     ]
    }
   ],
   "source": [
    "# Initialize variables to track the best model and best performance\n",
    "best_k = None\n",
    "best_score = -1\n",
    "best_model = None\n",
    "\n",
    "seconds = time.time()\n",
    "\n",
    "for k in range(3, 21, 2):\n",
    "    wandb.init(project=\"pipeline-knn-kdd-dataset\", name=str(k)+\" neighbours\")\n",
    "    print(\"k: \", k)\n",
    "    \n",
    "    # Step 1: Train KNN to classify\n",
    "    # knn = KNeighborsClassifier(n_neighbors=k)\n",
    "    # knn.fit(X_train_scaled_df, y_train_df)\n",
    "    # knn.fit(X_train_df, y_train_df)\n",
    "    \n",
    "    # Step 2: Predict classes for the test set\n",
    "    # X_test_df = X_test_df[:TEST_COUNT]\n",
    "    # X_test_scaled_df = X_test_scaled_df[:TEST_COUNT]\n",
    "    # y_test_df = y_test_df[:TEST_COUNT]\n",
    "\n",
    "    # Step 1: Initialize KNN classifier with current k\n",
    "    knn = KNeighborsClassifier(n_neighbors=k)\n",
    "    \n",
    "    # Step 2: Perform 5-fold cross-validation on the training set\n",
    "    cv_scores = cross_val_score(knn, X_train_df, y_train_df, cv=5, scoring='accuracy')\n",
    "    avg_cv_score = cv_scores.mean()  # Get the average cross-validation score\n",
    "    print(f\"Cross-validation score for k={k}: {avg_cv_score}\")\n",
    "    \n",
    "    # knn_predictions = knn.predict(X_test_scaled)\n",
    "    # predictions = knn.predict(X_test_df)\n",
    "    # print('knn_predictions', predictions)\n",
    "    \n",
    "    op_time = time.time() - seconds\n",
    "    print(\"Total operation time: = \", op_time, \"seconds\")\n",
    "    \n",
    "    # conf_matrix, class_report, acc_score = evaluate(y_test_df, predictions, heading='-----KNN Evaluation-----')\n",
    "    # wandb_log(conf_matrix, class_report, acc_score)\n",
    "    \n",
    "    wandb.log({\n",
    "        \"Cross-validation Score\": avg_cv_score,\n",
    "        \"Total operation time\": op_time\n",
    "    })\n",
    "\n",
    "     # Step 3: Track the best `k` based on the highest cross-validation score\n",
    "    if avg_cv_score > best_score:\n",
    "        best_score = avg_cv_score\n",
    "        best_k = k\n",
    "        best_model = knn  # Save the KNN model with the best `k`\n",
    "\n",
    "    wandb.finish()\n",
    "\n",
    "# After the loop: Train the best KNN model on the entire training set\n",
    "print(f\"The best k is {best_k} with a cross-validation score of {best_score}\")\n",
    "best_model.fit(X_train_df, y_train_df)\n",
    "\n",
    "# Step 4: Evaluate the best model on the test set\n",
    "X_test_df = X_test_df[:TEST_COUNT]\n",
    "y_test_df = y_test_df[:TEST_COUNT]\n",
    "\n",
    "# Make predictions on the test set\n",
    "knn_predictions = best_model.predict(X_test_df)\n",
    "print(\"Final predictions using the best model:\", knn_predictions)\n",
    "\n",
    "# Evaluate the performance on the test set\n",
    "conf_matrix, class_report, acc_score = evaluate(y_test_df, knn_predictions, heading=\"Best KNN Model Evaluation\")\n",
    "print(f\"Accuracy on test set with best k={best_k}: {acc_score}\")\n",
    "\n",
    "# Log the final test results to W&B\n",
    "wandb.init(project=\"pipeline-knn-kdd-dataset\", name=\"best_model_evaluation\")\n",
    "wandb_log(conf_matrix, class_report, acc_score)\n",
    "wandb.finish()"
   ]
  },
  {
   "cell_type": "code",
   "execution_count": 20,
   "metadata": {},
   "outputs": [
    {
     "name": "stdout",
     "output_type": "stream",
     "text": [
      "116203\n"
     ]
    }
   ],
   "source": [
    "print(len(X_test_scaled_df))"
   ]
  },
  {
   "cell_type": "code",
   "execution_count": 15,
   "metadata": {},
   "outputs": [
    {
     "name": "stdout",
     "output_type": "stream",
     "text": [
      "{'Krummholz': SVC(), 'CottonwoodWillow': SVC(), 'Spruce-Fir': SVC(), 'Aspen': SVC(), 'DouglasFir': SVC(), 'PonderosaPine': SVC()}\n"
     ]
    }
   ],
   "source": [
    "print(SVMs)"
   ]
  },
  {
   "cell_type": "code",
   "execution_count": 21,
   "metadata": {},
   "outputs": [
    {
     "name": "stdout",
     "output_type": "stream",
     "text": [
      "predicted_label Spruce-Fir\n",
      "svm prediction:  [0] knn prediction:  1 actual value:  1\n",
      "predicted_label PonderosaPine\n",
      "svm prediction:  [0] knn prediction:  3 actual value:  3\n",
      "predicted_label Spruce-Fir\n",
      "svm prediction:  [0] knn prediction:  1 actual value:  1\n",
      "predicted_label Spruce-Fir\n",
      "svm prediction:  [0] knn prediction:  1 actual value:  1\n",
      "predicted_label Aspen\n",
      "svm prediction:  [0] knn prediction:  5 actual value:  5\n",
      "predicted_label Spruce-Fir\n",
      "svm prediction:  [1] knn prediction:  1 actual value:  1\n",
      "predicted_label Aspen\n",
      "svm prediction:  [1] knn prediction:  5 actual value:  5\n",
      "predicted_label PonderosaPine\n",
      "svm prediction:  [0] knn prediction:  3 actual value:  3\n",
      "predicted_label Spruce-Fir\n",
      "svm prediction:  [0] knn prediction:  1 actual value:  1\n",
      "predicted_label Spruce-Fir\n",
      "svm prediction:  [0] knn prediction:  1 actual value:  1\n",
      "predicted_label DouglasFir\n",
      "svm prediction:  [0] knn prediction:  6 actual value:  6\n",
      "predicted_label Spruce-Fir\n",
      "svm prediction:  [0] knn prediction:  1 actual value:  1\n",
      "predicted_label Spruce-Fir\n",
      "svm prediction:  [1] knn prediction:  1 actual value:  1\n",
      "predicted_label Spruce-Fir\n",
      "svm prediction:  [0] knn prediction:  1 actual value:  1\n",
      "predicted_label Spruce-Fir\n",
      "svm prediction:  [0] knn prediction:  1 actual value:  1\n",
      "predicted_label PonderosaPine\n",
      "svm prediction:  [0] knn prediction:  3 actual value:  3\n",
      "predicted_label Spruce-Fir\n",
      "svm prediction:  [1] knn prediction:  1 actual value:  1\n",
      "predicted_label Spruce-Fir\n",
      "svm prediction:  [0] knn prediction:  1 actual value:  1\n",
      "predicted_label Spruce-Fir\n",
      "svm prediction:  [0] knn prediction:  1 actual value:  1\n",
      "predicted_label Spruce-Fir\n",
      "svm prediction:  [0] knn prediction:  1 actual value:  1\n",
      "predicted_label Spruce-Fir\n",
      "svm prediction:  [0] knn prediction:  1 actual value:  1\n",
      "predicted_label Krummholz\n",
      "svm prediction:  [0] knn prediction:  7 actual value:  7\n",
      "predicted_label Spruce-Fir\n",
      "svm prediction:  [0] knn prediction:  1 actual value:  1\n",
      "predicted_label Spruce-Fir\n",
      "svm prediction:  [1] knn prediction:  1 actual value:  2\n",
      "predicted_label DouglasFir\n",
      "svm prediction:  [0] knn prediction:  6 actual value:  6\n",
      "predicted_label Spruce-Fir\n",
      "svm prediction:  [0] knn prediction:  1 actual value:  1\n",
      "predicted_label Spruce-Fir\n",
      "svm prediction:  [1] knn prediction:  1 actual value:  1\n",
      "predicted_label Krummholz\n",
      "svm prediction:  [0] knn prediction:  7 actual value:  7\n",
      "predicted_label Spruce-Fir\n",
      "svm prediction:  [0] knn prediction:  1 actual value:  1\n",
      "predicted_label Spruce-Fir\n",
      "svm prediction:  [0] knn prediction:  1 actual value:  1\n",
      "predicted_label PonderosaPine\n",
      "svm prediction:  [1] knn prediction:  3 actual value:  3\n",
      "predicted_label Spruce-Fir\n",
      "svm prediction:  [0] knn prediction:  1 actual value:  1\n",
      "predicted_label Aspen\n",
      "svm prediction:  [0] knn prediction:  5 actual value:  5\n",
      "predicted_label Spruce-Fir\n",
      "svm prediction:  [0] knn prediction:  1 actual value:  1\n",
      "predicted_label PonderosaPine\n",
      "svm prediction:  [0] knn prediction:  3 actual value:  3\n",
      "predicted_label Spruce-Fir\n",
      "svm prediction:  [1] knn prediction:  1 actual value:  1\n",
      "predicted_label PonderosaPine\n",
      "svm prediction:  [0] knn prediction:  3 actual value:  3\n",
      "predicted_label Spruce-Fir\n",
      "svm prediction:  [1] knn prediction:  1 actual value:  1\n",
      "predicted_label Spruce-Fir\n",
      "svm prediction:  [0] knn prediction:  1 actual value:  1\n",
      "predicted_label Spruce-Fir\n",
      "svm prediction:  [0] knn prediction:  1 actual value:  1\n",
      "predicted_label Spruce-Fir\n",
      "svm prediction:  [0] knn prediction:  1 actual value:  1\n",
      "predicted_label Spruce-Fir\n",
      "svm prediction:  [0] knn prediction:  1 actual value:  1\n",
      "predicted_label PonderosaPine\n",
      "svm prediction:  [0] knn prediction:  3 actual value:  3\n",
      "predicted_label Spruce-Fir\n",
      "svm prediction:  [1] knn prediction:  1 actual value:  1\n",
      "predicted_label Spruce-Fir\n",
      "svm prediction:  [0] knn prediction:  1 actual value:  1\n",
      "predicted_label Spruce-Fir\n",
      "svm prediction:  [0] knn prediction:  1 actual value:  1\n",
      "predicted_label Spruce-Fir\n",
      "svm prediction:  [0] knn prediction:  1 actual value:  1\n",
      "predicted_label PonderosaPine\n",
      "svm prediction:  [0] knn prediction:  3 actual value:  3\n",
      "predicted_label PonderosaPine\n",
      "svm prediction:  [0] knn prediction:  3 actual value:  3\n",
      "predicted_label Spruce-Fir\n",
      "svm prediction:  [1] knn prediction:  1 actual value:  1\n",
      "predicted_label Spruce-Fir\n",
      "svm prediction:  [1] knn prediction:  1 actual value:  1\n",
      "predicted_label DouglasFir\n",
      "svm prediction:  [0] knn prediction:  6 actual value:  6\n",
      "predicted_label DouglasFir\n",
      "svm prediction:  [0] knn prediction:  6 actual value:  6\n",
      "predicted_label Spruce-Fir\n",
      "svm prediction:  [0] knn prediction:  1 actual value:  1\n",
      "predicted_label Aspen\n",
      "svm prediction:  [0] knn prediction:  5 actual value:  5\n",
      "predicted_label DouglasFir\n",
      "svm prediction:  [0] knn prediction:  6 actual value:  4\n",
      "predicted_label DouglasFir\n",
      "svm prediction:  [0] knn prediction:  6 actual value:  6\n",
      "predicted_label Spruce-Fir\n",
      "svm prediction:  [0] knn prediction:  1 actual value:  1\n",
      "predicted_label Spruce-Fir\n",
      "svm prediction:  [0] knn prediction:  1 actual value:  1\n",
      "predicted_label Spruce-Fir\n",
      "svm prediction:  [0] knn prediction:  1 actual value:  1\n",
      "predicted_label Spruce-Fir\n",
      "svm prediction:  [0] knn prediction:  1 actual value:  1\n",
      "predicted_label Spruce-Fir\n",
      "svm prediction:  [0] knn prediction:  1 actual value:  1\n",
      "predicted_label PonderosaPine\n",
      "svm prediction:  [0] knn prediction:  3 actual value:  3\n",
      "predicted_label Spruce-Fir\n",
      "svm prediction:  [0] knn prediction:  1 actual value:  1\n",
      "predicted_label PonderosaPine\n",
      "svm prediction:  [0] knn prediction:  3 actual value:  3\n",
      "predicted_label Spruce-Fir\n",
      "svm prediction:  [0] knn prediction:  1 actual value:  1\n",
      "predicted_label Spruce-Fir\n",
      "svm prediction:  [1] knn prediction:  1 actual value:  1\n",
      "predicted_label Spruce-Fir\n",
      "svm prediction:  [0] knn prediction:  1 actual value:  1\n",
      "predicted_label Spruce-Fir\n",
      "svm prediction:  [0] knn prediction:  1 actual value:  1\n",
      "predicted_label Spruce-Fir\n",
      "svm prediction:  [0] knn prediction:  1 actual value:  1\n",
      "predicted_label Spruce-Fir\n",
      "svm prediction:  [1] knn prediction:  1 actual value:  1\n",
      "predicted_label Spruce-Fir\n",
      "svm prediction:  [0] knn prediction:  1 actual value:  1\n",
      "predicted_label Spruce-Fir\n",
      "svm prediction:  [0] knn prediction:  1 actual value:  1\n",
      "predicted_label Aspen\n",
      "svm prediction:  [0] knn prediction:  5 actual value:  5\n",
      "predicted_label Spruce-Fir\n",
      "svm prediction:  [1] knn prediction:  1 actual value:  1\n",
      "predicted_label Spruce-Fir\n",
      "svm prediction:  [0] knn prediction:  1 actual value:  1\n",
      "predicted_label Spruce-Fir\n",
      "svm prediction:  [0] knn prediction:  1 actual value:  1\n",
      "predicted_label PonderosaPine\n",
      "svm prediction:  [0] knn prediction:  3 actual value:  6\n",
      "predicted_label Spruce-Fir\n",
      "svm prediction:  [0] knn prediction:  1 actual value:  1\n",
      "predicted_label PonderosaPine\n",
      "svm prediction:  [0] knn prediction:  3 actual value:  3\n",
      "predicted_label Spruce-Fir\n",
      "svm prediction:  [0] knn prediction:  1 actual value:  1\n",
      "predicted_label Spruce-Fir\n",
      "svm prediction:  [1] knn prediction:  1 actual value:  1\n",
      "predicted_label Spruce-Fir\n",
      "svm prediction:  [0] knn prediction:  1 actual value:  1\n",
      "predicted_label Spruce-Fir\n",
      "svm prediction:  [0] knn prediction:  1 actual value:  1\n",
      "predicted_label Krummholz\n",
      "svm prediction:  [0] knn prediction:  7 actual value:  7\n",
      "predicted_label Spruce-Fir\n",
      "svm prediction:  [0] knn prediction:  1 actual value:  1\n",
      "predicted_label Spruce-Fir\n",
      "svm prediction:  [0] knn prediction:  1 actual value:  1\n",
      "predicted_label Spruce-Fir\n",
      "svm prediction:  [0] knn prediction:  1 actual value:  1\n",
      "predicted_label Spruce-Fir\n",
      "svm prediction:  [1] knn prediction:  1 actual value:  1\n",
      "predicted_label PonderosaPine\n",
      "svm prediction:  [0] knn prediction:  3 actual value:  3\n",
      "predicted_label Spruce-Fir\n",
      "svm prediction:  [0] knn prediction:  1 actual value:  1\n",
      "predicted_label Spruce-Fir\n",
      "svm prediction:  [0] knn prediction:  1 actual value:  1\n",
      "predicted_label Spruce-Fir\n",
      "svm prediction:  [0] knn prediction:  1 actual value:  1\n",
      "predicted_label Spruce-Fir\n",
      "svm prediction:  [0] knn prediction:  1 actual value:  1\n",
      "predicted_label Spruce-Fir\n",
      "svm prediction:  [0] knn prediction:  1 actual value:  1\n",
      "predicted_label Spruce-Fir\n",
      "svm prediction:  [0] knn prediction:  1 actual value:  1\n",
      "predicted_label Spruce-Fir\n",
      "svm prediction:  [0] knn prediction:  1 actual value:  1\n",
      "predicted_label Spruce-Fir\n",
      "svm prediction:  [0] knn prediction:  1 actual value:  1\n",
      "predicted_label Spruce-Fir\n",
      "svm prediction:  [0] knn prediction:  1 actual value:  1\n",
      "predicted_label Spruce-Fir\n",
      "svm prediction:  [0] knn prediction:  1 actual value:  1\n",
      "predicted_label Spruce-Fir\n",
      "svm prediction:  [0] knn prediction:  1 actual value:  1\n",
      "predicted_label Spruce-Fir\n",
      "svm prediction:  [0] knn prediction:  1 actual value:  1\n",
      "predicted_label PonderosaPine\n",
      "svm prediction:  [0] knn prediction:  3 actual value:  3\n",
      "predicted_label PonderosaPine\n",
      "svm prediction:  [0] knn prediction:  3 actual value:  3\n",
      "predicted_label Spruce-Fir\n",
      "svm prediction:  [1] knn prediction:  1 actual value:  1\n",
      "predicted_label Spruce-Fir\n",
      "svm prediction:  [0] knn prediction:  1 actual value:  1\n",
      "predicted_label Krummholz\n",
      "svm prediction:  [0] knn prediction:  7 actual value:  7\n",
      "predicted_label Spruce-Fir\n",
      "svm prediction:  [1] knn prediction:  1 actual value:  1\n",
      "predicted_label Spruce-Fir\n",
      "svm prediction:  [1] knn prediction:  1 actual value:  1\n",
      "predicted_label Spruce-Fir\n",
      "svm prediction:  [1] knn prediction:  1 actual value:  1\n",
      "predicted_label Spruce-Fir\n",
      "svm prediction:  [0] knn prediction:  1 actual value:  1\n",
      "predicted_label PonderosaPine\n",
      "svm prediction:  [0] knn prediction:  3 actual value:  3\n",
      "predicted_label Aspen\n",
      "svm prediction:  [1] knn prediction:  5 actual value:  5\n",
      "predicted_label PonderosaPine\n",
      "svm prediction:  [0] knn prediction:  3 actual value:  3\n",
      "predicted_label PonderosaPine\n",
      "svm prediction:  [0] knn prediction:  3 actual value:  3\n",
      "predicted_label Spruce-Fir\n",
      "svm prediction:  [0] knn prediction:  1 actual value:  1\n",
      "predicted_label Spruce-Fir\n",
      "svm prediction:  [0] knn prediction:  1 actual value:  1\n",
      "predicted_label PonderosaPine\n",
      "svm prediction:  [0] knn prediction:  3 actual value:  3\n",
      "predicted_label Spruce-Fir\n",
      "svm prediction:  [1] knn prediction:  1 actual value:  1\n",
      "predicted_label PonderosaPine\n",
      "svm prediction:  [0] knn prediction:  3 actual value:  3\n",
      "predicted_label Spruce-Fir\n",
      "svm prediction:  [0] knn prediction:  1 actual value:  1\n",
      "predicted_label Spruce-Fir\n",
      "svm prediction:  [1] knn prediction:  1 actual value:  1\n",
      "predicted_label Aspen\n",
      "svm prediction:  [0] knn prediction:  5 actual value:  5\n",
      "predicted_label Spruce-Fir\n",
      "svm prediction:  [0] knn prediction:  1 actual value:  1\n",
      "predicted_label Spruce-Fir\n",
      "svm prediction:  [1] knn prediction:  1 actual value:  1\n",
      "predicted_label Spruce-Fir\n",
      "svm prediction:  [0] knn prediction:  1 actual value:  1\n",
      "predicted_label Spruce-Fir\n",
      "svm prediction:  [0] knn prediction:  1 actual value:  1\n",
      "predicted_label Spruce-Fir\n",
      "svm prediction:  [0] knn prediction:  1 actual value:  1\n",
      "predicted_label Spruce-Fir\n",
      "svm prediction:  [1] knn prediction:  1 actual value:  1\n",
      "predicted_label Spruce-Fir\n",
      "svm prediction:  [1] knn prediction:  1 actual value:  1\n",
      "predicted_label Spruce-Fir\n",
      "svm prediction:  [0] knn prediction:  1 actual value:  1\n",
      "predicted_label DouglasFir\n",
      "svm prediction:  [0] knn prediction:  6 actual value:  6\n",
      "predicted_label Spruce-Fir\n",
      "svm prediction:  [0] knn prediction:  1 actual value:  1\n",
      "predicted_label Krummholz\n",
      "svm prediction:  [0] knn prediction:  7 actual value:  7\n",
      "predicted_label Spruce-Fir\n",
      "svm prediction:  [0] knn prediction:  1 actual value:  1\n",
      "predicted_label PonderosaPine\n",
      "svm prediction:  [0] knn prediction:  3 actual value:  3\n",
      "predicted_label Aspen\n",
      "svm prediction:  [1] knn prediction:  5 actual value:  5\n",
      "predicted_label Spruce-Fir\n",
      "svm prediction:  [0] knn prediction:  1 actual value:  1\n",
      "predicted_label PonderosaPine\n",
      "svm prediction:  [0] knn prediction:  3 actual value:  3\n",
      "predicted_label Spruce-Fir\n",
      "svm prediction:  [1] knn prediction:  1 actual value:  1\n",
      "predicted_label Spruce-Fir\n",
      "svm prediction:  [0] knn prediction:  1 actual value:  1\n",
      "predicted_label Spruce-Fir\n",
      "svm prediction:  [0] knn prediction:  1 actual value:  1\n",
      "predicted_label Spruce-Fir\n",
      "svm prediction:  [0] knn prediction:  1 actual value:  1\n",
      "predicted_label Spruce-Fir\n",
      "svm prediction:  [0] knn prediction:  1 actual value:  1\n",
      "predicted_label Spruce-Fir\n",
      "svm prediction:  [0] knn prediction:  1 actual value:  1\n",
      "predicted_label Spruce-Fir\n",
      "svm prediction:  [0] knn prediction:  1 actual value:  1\n",
      "predicted_label DouglasFir\n",
      "svm prediction:  [0] knn prediction:  6 actual value:  6\n",
      "predicted_label Spruce-Fir\n",
      "svm prediction:  [0] knn prediction:  1 actual value:  1\n",
      "predicted_label PonderosaPine\n",
      "svm prediction:  [0] knn prediction:  3 actual value:  3\n",
      "predicted_label Krummholz\n",
      "svm prediction:  [1] knn prediction:  7 actual value:  7\n",
      "predicted_label Spruce-Fir\n",
      "svm prediction:  [1] knn prediction:  1 actual value:  1\n",
      "predicted_label Spruce-Fir\n",
      "svm prediction:  [1] knn prediction:  1 actual value:  1\n",
      "predicted_label Krummholz\n",
      "svm prediction:  [0] knn prediction:  7 actual value:  7\n",
      "predicted_label Spruce-Fir\n",
      "svm prediction:  [0] knn prediction:  1 actual value:  1\n",
      "predicted_label Spruce-Fir\n",
      "svm prediction:  [1] knn prediction:  1 actual value:  1\n",
      "predicted_label Spruce-Fir\n",
      "svm prediction:  [0] knn prediction:  1 actual value:  1\n",
      "predicted_label Spruce-Fir\n",
      "svm prediction:  [1] knn prediction:  1 actual value:  1\n",
      "predicted_label Spruce-Fir\n",
      "svm prediction:  [0] knn prediction:  1 actual value:  1\n",
      "predicted_label Aspen\n",
      "svm prediction:  [0] knn prediction:  5 actual value:  5\n",
      "predicted_label Spruce-Fir\n",
      "svm prediction:  [0] knn prediction:  1 actual value:  1\n",
      "predicted_label DouglasFir\n",
      "svm prediction:  [0] knn prediction:  6 actual value:  6\n",
      "predicted_label Spruce-Fir\n",
      "svm prediction:  [0] knn prediction:  1 actual value:  1\n",
      "predicted_label Spruce-Fir\n",
      "svm prediction:  [1] knn prediction:  1 actual value:  1\n",
      "predicted_label Krummholz\n",
      "svm prediction:  [0] knn prediction:  7 actual value:  7\n",
      "predicted_label Spruce-Fir\n",
      "svm prediction:  [0] knn prediction:  1 actual value:  1\n",
      "predicted_label PonderosaPine\n",
      "svm prediction:  [0] knn prediction:  3 actual value:  3\n",
      "predicted_label DouglasFir\n",
      "svm prediction:  [0] knn prediction:  6 actual value:  6\n",
      "predicted_label Spruce-Fir\n",
      "svm prediction:  [0] knn prediction:  1 actual value:  1\n",
      "predicted_label Aspen\n",
      "svm prediction:  [0] knn prediction:  5 actual value:  5\n",
      "predicted_label Spruce-Fir\n",
      "svm prediction:  [1] knn prediction:  1 actual value:  1\n",
      "predicted_label DouglasFir\n",
      "svm prediction:  [0] knn prediction:  6 actual value:  6\n",
      "predicted_label Spruce-Fir\n",
      "svm prediction:  [0] knn prediction:  1 actual value:  1\n",
      "predicted_label Spruce-Fir\n",
      "svm prediction:  [1] knn prediction:  1 actual value:  1\n",
      "predicted_label Spruce-Fir\n",
      "svm prediction:  [0] knn prediction:  1 actual value:  1\n",
      "predicted_label Spruce-Fir\n",
      "svm prediction:  [0] knn prediction:  1 actual value:  1\n",
      "predicted_label Krummholz\n",
      "svm prediction:  [0] knn prediction:  7 actual value:  7\n",
      "predicted_label PonderosaPine\n",
      "svm prediction:  [0] knn prediction:  3 actual value:  3\n",
      "predicted_label PonderosaPine\n",
      "svm prediction:  [0] knn prediction:  3 actual value:  3\n",
      "predicted_label Spruce-Fir\n",
      "svm prediction:  [0] knn prediction:  1 actual value:  1\n",
      "predicted_label PonderosaPine\n",
      "svm prediction:  [0] knn prediction:  3 actual value:  3\n",
      "predicted_label Spruce-Fir\n",
      "svm prediction:  [0] knn prediction:  1 actual value:  1\n",
      "predicted_label Spruce-Fir\n",
      "svm prediction:  [1] knn prediction:  1 actual value:  1\n",
      "predicted_label Spruce-Fir\n",
      "svm prediction:  [1] knn prediction:  1 actual value:  1\n",
      "predicted_label Spruce-Fir\n",
      "svm prediction:  [0] knn prediction:  1 actual value:  1\n",
      "predicted_label Krummholz\n",
      "svm prediction:  [0] knn prediction:  7 actual value:  7\n",
      "predicted_label Spruce-Fir\n",
      "svm prediction:  [0] knn prediction:  1 actual value:  1\n",
      "predicted_label PonderosaPine\n",
      "svm prediction:  [0] knn prediction:  3 actual value:  3\n",
      "predicted_label PonderosaPine\n",
      "svm prediction:  [0] knn prediction:  3 actual value:  3\n",
      "predicted_label Aspen\n",
      "svm prediction:  [1] knn prediction:  5 actual value:  5\n",
      "predicted_label Spruce-Fir\n",
      "svm prediction:  [1] knn prediction:  1 actual value:  1\n",
      "predicted_label PonderosaPine\n",
      "svm prediction:  [0] knn prediction:  3 actual value:  3\n",
      "predicted_label PonderosaPine\n",
      "svm prediction:  [0] knn prediction:  3 actual value:  3\n",
      "predicted_label Spruce-Fir\n",
      "svm prediction:  [0] knn prediction:  1 actual value:  1\n",
      "predicted_label Spruce-Fir\n",
      "svm prediction:  [0] knn prediction:  1 actual value:  1\n",
      "predicted_label Spruce-Fir\n",
      "svm prediction:  [1] knn prediction:  1 actual value:  1\n",
      "predicted_label Spruce-Fir\n",
      "svm prediction:  [1] knn prediction:  1 actual value:  1\n",
      "predicted_label Spruce-Fir\n",
      "svm prediction:  [1] knn prediction:  1 actual value:  1\n",
      "predicted_label Spruce-Fir\n",
      "svm prediction:  [0] knn prediction:  1 actual value:  1\n",
      "predicted_label Spruce-Fir\n",
      "svm prediction:  [0] knn prediction:  1 actual value:  1\n",
      "predicted_label Spruce-Fir\n",
      "svm prediction:  [0] knn prediction:  1 actual value:  1\n",
      "predicted_label PonderosaPine\n",
      "svm prediction:  [0] knn prediction:  3 actual value:  3\n",
      "predicted_label Spruce-Fir\n",
      "svm prediction:  [0] knn prediction:  1 actual value:  1\n",
      "predicted_label PonderosaPine\n",
      "svm prediction:  [0] knn prediction:  3 actual value:  3\n",
      "predicted_label DouglasFir\n",
      "svm prediction:  [0] knn prediction:  6 actual value:  6\n",
      "predicted_label PonderosaPine\n",
      "svm prediction:  [0] knn prediction:  3 actual value:  3\n",
      "predicted_label Spruce-Fir\n",
      "svm prediction:  [0] knn prediction:  1 actual value:  1\n",
      "predicted_label DouglasFir\n",
      "svm prediction:  [0] knn prediction:  6 actual value:  6\n",
      "predicted_label Spruce-Fir\n",
      "svm prediction:  [0] knn prediction:  1 actual value:  1\n",
      "predicted_label Spruce-Fir\n",
      "svm prediction:  [0] knn prediction:  1 actual value:  1\n",
      "predicted_label Spruce-Fir\n",
      "svm prediction:  [0] knn prediction:  1 actual value:  1\n",
      "predicted_label Krummholz\n",
      "svm prediction:  [0] knn prediction:  7 actual value:  7\n",
      "predicted_label PonderosaPine\n",
      "svm prediction:  [0] knn prediction:  3 actual value:  5\n",
      "predicted_label Spruce-Fir\n",
      "svm prediction:  [0] knn prediction:  1 actual value:  1\n",
      "predicted_label Spruce-Fir\n",
      "svm prediction:  [0] knn prediction:  1 actual value:  1\n",
      "predicted_label Spruce-Fir\n",
      "svm prediction:  [0] knn prediction:  1 actual value:  1\n",
      "predicted_label Spruce-Fir\n",
      "svm prediction:  [0] knn prediction:  1 actual value:  1\n",
      "predicted_label Krummholz\n",
      "svm prediction:  [0] knn prediction:  7 actual value:  7\n",
      "predicted_label Spruce-Fir\n",
      "svm prediction:  [0] knn prediction:  1 actual value:  1\n",
      "predicted_label Spruce-Fir\n",
      "svm prediction:  [0] knn prediction:  1 actual value:  1\n",
      "predicted_label DouglasFir\n",
      "svm prediction:  [0] knn prediction:  6 actual value:  6\n",
      "predicted_label Spruce-Fir\n",
      "svm prediction:  [1] knn prediction:  1 actual value:  1\n",
      "predicted_label Spruce-Fir\n",
      "svm prediction:  [0] knn prediction:  1 actual value:  1\n",
      "predicted_label DouglasFir\n",
      "svm prediction:  [0] knn prediction:  6 actual value:  6\n",
      "predicted_label Aspen\n",
      "svm prediction:  [0] knn prediction:  5 actual value:  5\n",
      "predicted_label Spruce-Fir\n",
      "svm prediction:  [0] knn prediction:  1 actual value:  1\n",
      "predicted_label DouglasFir\n",
      "svm prediction:  [0] knn prediction:  6 actual value:  6\n",
      "predicted_label Spruce-Fir\n",
      "svm prediction:  [0] knn prediction:  1 actual value:  2\n",
      "predicted_label Spruce-Fir\n",
      "svm prediction:  [0] knn prediction:  1 actual value:  1\n",
      "predicted_label Spruce-Fir\n",
      "svm prediction:  [0] knn prediction:  1 actual value:  1\n",
      "predicted_label Spruce-Fir\n",
      "svm prediction:  [1] knn prediction:  1 actual value:  1\n",
      "predicted_label Spruce-Fir\n",
      "svm prediction:  [0] knn prediction:  1 actual value:  1\n",
      "predicted_label DouglasFir\n",
      "svm prediction:  [0] knn prediction:  6 actual value:  6\n",
      "predicted_label Spruce-Fir\n",
      "svm prediction:  [0] knn prediction:  1 actual value:  1\n",
      "predicted_label Spruce-Fir\n",
      "svm prediction:  [0] knn prediction:  1 actual value:  1\n",
      "predicted_label Spruce-Fir\n",
      "svm prediction:  [0] knn prediction:  1 actual value:  1\n",
      "predicted_label PonderosaPine\n",
      "svm prediction:  [0] knn prediction:  3 actual value:  3\n",
      "predicted_label Spruce-Fir\n",
      "svm prediction:  [0] knn prediction:  1 actual value:  1\n",
      "predicted_label Spruce-Fir\n",
      "svm prediction:  [0] knn prediction:  1 actual value:  1\n",
      "predicted_label Spruce-Fir\n",
      "svm prediction:  [1] knn prediction:  1 actual value:  1\n",
      "predicted_label Spruce-Fir\n",
      "svm prediction:  [0] knn prediction:  1 actual value:  1\n",
      "predicted_label DouglasFir\n",
      "svm prediction:  [0] knn prediction:  6 actual value:  6\n",
      "predicted_label Spruce-Fir\n",
      "svm prediction:  [0] knn prediction:  1 actual value:  1\n",
      "predicted_label Spruce-Fir\n",
      "svm prediction:  [0] knn prediction:  1 actual value:  1\n",
      "predicted_label DouglasFir\n",
      "svm prediction:  [0] knn prediction:  6 actual value:  6\n",
      "predicted_label Spruce-Fir\n",
      "svm prediction:  [0] knn prediction:  1 actual value:  1\n",
      "predicted_label Spruce-Fir\n",
      "svm prediction:  [0] knn prediction:  1 actual value:  1\n",
      "predicted_label Spruce-Fir\n",
      "svm prediction:  [0] knn prediction:  1 actual value:  1\n",
      "predicted_label Spruce-Fir\n",
      "svm prediction:  [0] knn prediction:  1 actual value:  1\n",
      "predicted_label Spruce-Fir\n",
      "svm prediction:  [0] knn prediction:  1 actual value:  1\n",
      "predicted_label Krummholz\n",
      "svm prediction:  [0] knn prediction:  7 actual value:  7\n",
      "predicted_label Spruce-Fir\n",
      "svm prediction:  [0] knn prediction:  1 actual value:  1\n",
      "predicted_label Spruce-Fir\n",
      "svm prediction:  [0] knn prediction:  1 actual value:  1\n",
      "predicted_label Krummholz\n",
      "svm prediction:  [0] knn prediction:  7 actual value:  7\n",
      "predicted_label DouglasFir\n",
      "svm prediction:  [0] knn prediction:  6 actual value:  3\n",
      "predicted_label Spruce-Fir\n",
      "svm prediction:  [1] knn prediction:  1 actual value:  1\n",
      "predicted_label Spruce-Fir\n",
      "svm prediction:  [0] knn prediction:  1 actual value:  1\n",
      "predicted_label Spruce-Fir\n",
      "svm prediction:  [0] knn prediction:  1 actual value:  1\n",
      "predicted_label Spruce-Fir\n",
      "svm prediction:  [0] knn prediction:  1 actual value:  1\n",
      "predicted_label Spruce-Fir\n",
      "svm prediction:  [0] knn prediction:  1 actual value:  1\n",
      "predicted_label Spruce-Fir\n",
      "svm prediction:  [0] knn prediction:  1 actual value:  1\n",
      "predicted_label Krummholz\n",
      "svm prediction:  [0] knn prediction:  7 actual value:  7\n",
      "predicted_label DouglasFir\n",
      "svm prediction:  [0] knn prediction:  6 actual value:  6\n",
      "predicted_label PonderosaPine\n",
      "svm prediction:  [0] knn prediction:  3 actual value:  3\n",
      "Total operation time: =  1.2631471157073975 seconds\n"
     ]
    }
   ],
   "source": [
    "svm_predictions = []\n",
    "seconds = time.time()\n",
    "\n",
    "X_test_df = X_test_df[:TEST_COUNT]\n",
    "X_test_scaled_df = X_test_scaled_df[:TEST_COUNT]\n",
    "y_test_df = y_test_df[:TEST_COUNT]\n",
    "\n",
    "for i in range(len(X_test_scaled_df)):\n",
    "    test_instance_df = X_test_scaled_df.iloc[i].to_frame().T\n",
    "    if knn_predictions[i] == NORMAL_TARGET:\n",
    "        svm_predictions.append((0, NORMAL_TARGET, y_test_df.iloc[i]))\n",
    "        continue\n",
    "    predicted_label = TARGET_DICT[knn_predictions[i]]\n",
    "    print('predicted_label', predicted_label)\n",
    "    selected_features = feature_importances[predicted_label]\n",
    "    # print('selected_features', selected_features)\n",
    "    svm_model = SVMs[predicted_label]\n",
    "    \n",
    "    # Select features for the SVM\n",
    "    test_instance_selected_df = test_instance_df[selected_features]\n",
    "    svm_prediction = svm_model.predict(test_instance_selected_df)\n",
    "    print('svm prediction: ', svm_prediction, 'knn prediction: ', INV_TARGET_DICT[predicted_label], 'actual value: ', y_test_df.iloc[i])\n",
    "    svm_predictions.append((svm_prediction, INV_TARGET_DICT[predicted_label], y_test_df.iloc[i]))\n",
    "\n",
    "print(\"Total operation time: = \", time.time() - seconds, \"seconds\")"
   ]
  },
  {
   "cell_type": "code",
   "execution_count": 22,
   "metadata": {},
   "outputs": [
    {
     "data": {
      "text/html": [
       "wandb version 0.18.3 is available!  To upgrade, please run:\n",
       " $ pip install wandb --upgrade"
      ],
      "text/plain": [
       "<IPython.core.display.HTML object>"
      ]
     },
     "metadata": {},
     "output_type": "display_data"
    },
    {
     "data": {
      "text/html": [
       "Tracking run with wandb version 0.16.4"
      ],
      "text/plain": [
       "<IPython.core.display.HTML object>"
      ]
     },
     "metadata": {},
     "output_type": "display_data"
    },
    {
     "data": {
      "text/html": [
       "Run data is saved locally in <code>/home/brina/nus-mcomp/sem2/cs5344-big-data-analytics-technology/CS5344_Project/work/wandb/run-20241008_161321-gk46giyi</code>"
      ],
      "text/plain": [
       "<IPython.core.display.HTML object>"
      ]
     },
     "metadata": {},
     "output_type": "display_data"
    },
    {
     "data": {
      "text/html": [
       "Syncing run <strong><a href='https://wandb.ai/brinashong/pipeline-covertype-dataset/runs/gk46giyi' target=\"_blank\">anomalies-svm-only</a></strong> to <a href='https://wandb.ai/brinashong/pipeline-covertype-dataset' target=\"_blank\">Weights & Biases</a> (<a href='https://wandb.me/run' target=\"_blank\">docs</a>)<br/>"
      ],
      "text/plain": [
       "<IPython.core.display.HTML object>"
      ]
     },
     "metadata": {},
     "output_type": "display_data"
    },
    {
     "data": {
      "text/html": [
       " View project at <a href='https://wandb.ai/brinashong/pipeline-covertype-dataset' target=\"_blank\">https://wandb.ai/brinashong/pipeline-covertype-dataset</a>"
      ],
      "text/plain": [
       "<IPython.core.display.HTML object>"
      ]
     },
     "metadata": {},
     "output_type": "display_data"
    },
    {
     "data": {
      "text/html": [
       " View run at <a href='https://wandb.ai/brinashong/pipeline-covertype-dataset/runs/gk46giyi' target=\"_blank\">https://wandb.ai/brinashong/pipeline-covertype-dataset/runs/gk46giyi</a>"
      ],
      "text/plain": [
       "<IPython.core.display.HTML object>"
      ]
     },
     "metadata": {},
     "output_type": "display_data"
    },
    {
     "name": "stdout",
     "output_type": "stream",
     "text": [
      "anomaly_mask 500\n",
      "[1, 2, 2, 2, 2, 3, 2, 1, 2, 2, 2, 1, 5, 2, 2, 1, 2, 5, 3, 2, 1, 2, 2, 1, 6, 1, 1, 2, 1, 2, 1, 2, 2, 3, 1, 2, 2, 2, 2, 1, 2, 1, 1, 2, 2, 1, 2, 2, 7, 2, 1, 1, 6, 2, 1, 1, 7, 2, 2, 2, 2, 1, 1, 2, 2, 2, 3, 2, 2, 1, 5, 1, 2, 3, 1, 3, 2, 1, 1, 2, 2, 1, 2, 2, 2, 1, 1, 3, 1, 2, 1, 1, 2, 1, 3, 3, 2, 2, 1, 1, 6, 6, 2, 2, 1, 2, 5, 6, 6, 1, 2, 1, 2, 1, 1, 1, 3, 1, 2, 3, 1, 1, 1, 1, 2, 2, 1, 1, 1, 2, 1, 2, 2, 2, 5, 1, 1, 1, 2, 3, 1, 2, 2, 3, 1, 1, 1, 2, 2, 2, 1, 7, 2, 2, 1, 1, 2, 2, 1, 2, 1, 3, 1, 2, 2, 2, 2, 2, 2, 2, 2, 1, 2, 1, 1, 1, 1, 2, 2, 2, 1, 2, 2, 2, 2, 2, 1, 2, 2, 1, 1, 1, 2, 2, 1, 3, 3, 2, 1, 1, 2, 7, 1, 1, 1, 1, 2, 2, 2, 3, 2, 5, 3, 3, 2, 1, 2, 1, 2, 2, 3, 1, 2, 2, 3, 2, 2, 2, 1, 1, 2, 5, 1, 1, 1, 2, 2, 1, 2, 2, 1, 1, 2, 1, 1, 6, 2, 1, 2, 7, 2, 1, 3, 5, 1, 2, 3, 2, 2, 1, 2, 2, 1, 2, 2, 2, 2, 1, 1, 2, 1, 2, 1, 1, 2, 6, 1, 3, 2, 7, 1, 1, 2, 2, 2, 2, 2, 2, 7, 1, 1, 1, 1, 1, 2, 2, 5, 2, 2, 2, 1, 6, 2, 1, 1, 2, 7, 1, 2, 3, 2, 2, 2, 2, 2, 6, 1, 5, 2, 2, 1, 6, 2, 2, 1, 1, 1, 1, 2, 2, 2, 7, 3, 3, 2, 1, 2, 2, 2, 3, 2, 2, 1, 2, 1, 1, 2, 1, 7, 2, 1, 3, 3, 5, 2, 2, 1, 3, 3, 2, 2, 1, 2, 2, 2, 2, 2, 2, 1, 2, 2, 1, 2, 2, 1, 2, 1, 1, 2, 2, 2, 1, 2, 1, 3, 1, 3, 2, 2, 2, 6, 2, 3, 2, 2, 1, 2, 2, 6, 1, 2, 1, 2, 2, 2, 2, 1, 2, 2, 7, 2, 2, 3, 1, 2, 1, 1, 2, 2, 2, 1, 7, 1, 2, 2, 1, 6, 2, 2, 1, 1, 2, 2, 2, 6, 2, 2, 5, 1, 6, 1, 1, 2, 1, 2, 1, 1, 6, 1, 1, 1, 3, 1, 1, 1, 2, 2, 1, 6, 2, 2, 2, 2, 2, 2, 2, 2, 1, 2, 2, 1, 2, 2, 2, 6, 1, 2, 1, 1, 1, 1, 2, 7, 1, 1, 7, 6, 1, 1, 2, 2, 2, 1, 2, 1, 1, 1, 7, 6, 3]\n",
      "Lengths:  263 263\n",
      "SVM Evaluation (for anomalies)\n",
      "Confusion Matrix:\n",
      "[[175   0   0   0   0   0   0]\n",
      " [  2   0   0   0   0   0   0]\n",
      " [  0   0  36   0   0   1   0]\n",
      " [  0   0   0   0   0   1   0]\n",
      " [  0   0   1   0  12   0   0]\n",
      " [  0   0   1   0   0  19   0]\n",
      " [  0   0   0   0   0   0  15]]\n",
      "\n",
      "Classification Report:\n",
      "{'1': {'precision': 0.9887005649717514, 'recall': 1.0, 'f1-score': 0.9943181818181819, 'support': 175.0}, '2': {'precision': 0.0, 'recall': 0.0, 'f1-score': 0.0, 'support': 2.0}, '3': {'precision': 0.9473684210526315, 'recall': 0.972972972972973, 'f1-score': 0.9599999999999999, 'support': 37.0}, '4': {'precision': 0.0, 'recall': 0.0, 'f1-score': 0.0, 'support': 1.0}, '5': {'precision': 1.0, 'recall': 0.9230769230769231, 'f1-score': 0.9600000000000001, 'support': 13.0}, '6': {'precision': 0.9047619047619048, 'recall': 0.95, 'f1-score': 0.9268292682926829, 'support': 20.0}, '7': {'precision': 1.0, 'recall': 1.0, 'f1-score': 1.0, 'support': 15.0}, 'accuracy': 0.9771863117870723, 'macro avg': {'precision': 0.6915472701123269, 'recall': 0.6922928422928424, 'f1-score': 0.6915924928729806, 'support': 263.0}, 'weighted avg': {'precision': 0.9664276370503497, 'recall': 0.9771863117870723, 'f1-score': 0.971643601460211, 'support': 263.0}}\n",
      "Accuracy: 0.9771863117870723\n"
     ]
    },
    {
     "name": "stderr",
     "output_type": "stream",
     "text": [
      "/home/brina/miniconda3/envs/gpu/lib/python3.8/site-packages/sklearn/metrics/_classification.py:1471: UndefinedMetricWarning: Precision and F-score are ill-defined and being set to 0.0 in labels with no predicted samples. Use `zero_division` parameter to control this behavior.\n",
      "  _warn_prf(average, modifier, msg_start, len(result))\n",
      "/home/brina/miniconda3/envs/gpu/lib/python3.8/site-packages/sklearn/metrics/_classification.py:1471: UndefinedMetricWarning: Precision and F-score are ill-defined and being set to 0.0 in labels with no predicted samples. Use `zero_division` parameter to control this behavior.\n",
      "  _warn_prf(average, modifier, msg_start, len(result))\n",
      "/home/brina/miniconda3/envs/gpu/lib/python3.8/site-packages/sklearn/metrics/_classification.py:1471: UndefinedMetricWarning: Precision and F-score are ill-defined and being set to 0.0 in labels with no predicted samples. Use `zero_division` parameter to control this behavior.\n",
      "  _warn_prf(average, modifier, msg_start, len(result))\n",
      "/home/brina/miniconda3/envs/gpu/lib/python3.8/site-packages/sklearn/metrics/_classification.py:1471: UndefinedMetricWarning: Precision and F-score are ill-defined and being set to 0.0 in labels with no predicted samples. Use `zero_division` parameter to control this behavior.\n",
      "  _warn_prf(average, modifier, msg_start, len(result))\n",
      "/home/brina/miniconda3/envs/gpu/lib/python3.8/site-packages/sklearn/metrics/_classification.py:1471: UndefinedMetricWarning: Precision and F-score are ill-defined and being set to 0.0 in labels with no predicted samples. Use `zero_division` parameter to control this behavior.\n",
      "  _warn_prf(average, modifier, msg_start, len(result))\n",
      "/home/brina/miniconda3/envs/gpu/lib/python3.8/site-packages/sklearn/metrics/_classification.py:1471: UndefinedMetricWarning: Precision and F-score are ill-defined and being set to 0.0 in labels with no predicted samples. Use `zero_division` parameter to control this behavior.\n",
      "  _warn_prf(average, modifier, msg_start, len(result))\n"
     ]
    },
    {
     "data": {
      "application/vnd.jupyter.widget-view+json": {
       "model_id": "",
       "version_major": 2,
       "version_minor": 0
      },
      "text/plain": [
       "VBox(children=(Label(value='0.005 MB of 0.005 MB uploaded\\r'), FloatProgress(value=0.9630408127517954, max=1.0…"
      ]
     },
     "metadata": {},
     "output_type": "display_data"
    },
    {
     "data": {
      "text/html": [
       "<style>\n",
       "    table.wandb td:nth-child(1) { padding: 0 10px; text-align: left ; width: auto;} td:nth-child(2) {text-align: left ; width: 100%}\n",
       "    .wandb-row { display: flex; flex-direction: row; flex-wrap: wrap; justify-content: flex-start; width: 100% }\n",
       "    .wandb-col { display: flex; flex-direction: column; flex-basis: 100%; flex: 1; padding: 10px; }\n",
       "    </style>\n",
       "<div class=\"wandb-row\"><div class=\"wandb-col\"><h3>Run history:</h3><br/><table class=\"wandb\"><tr><td>Accuracy Score</td><td>▁</td></tr><tr><td>f1-score_avg</td><td>▁</td></tr><tr><td>precision_avg</td><td>▁</td></tr><tr><td>recall_avg</td><td>▁</td></tr></table><br/></div><div class=\"wandb-col\"><h3>Run summary:</h3><br/><table class=\"wandb\"><tr><td>Accuracy Score</td><td>0.97719</td></tr><tr><td>f1-score_avg</td><td>0.97164</td></tr><tr><td>precision_avg</td><td>0.96643</td></tr><tr><td>recall_avg</td><td>0.97719</td></tr></table><br/></div></div>"
      ],
      "text/plain": [
       "<IPython.core.display.HTML object>"
      ]
     },
     "metadata": {},
     "output_type": "display_data"
    },
    {
     "data": {
      "text/html": [
       " View run <strong style=\"color:#cdcd00\">anomalies-svm-only</strong> at: <a href='https://wandb.ai/brinashong/pipeline-covertype-dataset/runs/gk46giyi' target=\"_blank\">https://wandb.ai/brinashong/pipeline-covertype-dataset/runs/gk46giyi</a><br/> View job at <a href='https://wandb.ai/brinashong/pipeline-covertype-dataset/jobs/QXJ0aWZhY3RDb2xsZWN0aW9uOjQ2NzIyMzQwNQ==/version_details/v0' target=\"_blank\">https://wandb.ai/brinashong/pipeline-covertype-dataset/jobs/QXJ0aWZhY3RDb2xsZWN0aW9uOjQ2NzIyMzQwNQ==/version_details/v0</a><br/>Synced 6 W&B file(s), 2 media file(s), 4 artifact file(s) and 0 other file(s)"
      ],
      "text/plain": [
       "<IPython.core.display.HTML object>"
      ]
     },
     "metadata": {},
     "output_type": "display_data"
    },
    {
     "data": {
      "text/html": [
       "Find logs at: <code>./wandb/run-20241008_161321-gk46giyi/logs</code>"
      ],
      "text/plain": [
       "<IPython.core.display.HTML object>"
      ]
     },
     "metadata": {},
     "output_type": "display_data"
    },
    {
     "data": {
      "application/vnd.jupyter.widget-view+json": {
       "model_id": "1015f933936a479893c67597e2798ff1",
       "version_major": 2,
       "version_minor": 0
      },
      "text/plain": [
       "VBox(children=(Label(value='Waiting for wandb.init()...\\r'), FloatProgress(value=0.01111370556666063, max=1.0)…"
      ]
     },
     "metadata": {},
     "output_type": "display_data"
    },
    {
     "data": {
      "text/html": [
       "wandb version 0.18.3 is available!  To upgrade, please run:\n",
       " $ pip install wandb --upgrade"
      ],
      "text/plain": [
       "<IPython.core.display.HTML object>"
      ]
     },
     "metadata": {},
     "output_type": "display_data"
    },
    {
     "data": {
      "text/html": [
       "Tracking run with wandb version 0.16.4"
      ],
      "text/plain": [
       "<IPython.core.display.HTML object>"
      ]
     },
     "metadata": {},
     "output_type": "display_data"
    },
    {
     "data": {
      "text/html": [
       "Run data is saved locally in <code>/home/brina/nus-mcomp/sem2/cs5344-big-data-analytics-technology/CS5344_Project/work/wandb/run-20241008_161343-oqdqjzd6</code>"
      ],
      "text/plain": [
       "<IPython.core.display.HTML object>"
      ]
     },
     "metadata": {},
     "output_type": "display_data"
    },
    {
     "data": {
      "text/html": [
       "Syncing run <strong><a href='https://wandb.ai/brinashong/pipeline-covertype-dataset/runs/oqdqjzd6' target=\"_blank\">overall-svm-only</a></strong> to <a href='https://wandb.ai/brinashong/pipeline-covertype-dataset' target=\"_blank\">Weights & Biases</a> (<a href='https://wandb.me/run' target=\"_blank\">docs</a>)<br/>"
      ],
      "text/plain": [
       "<IPython.core.display.HTML object>"
      ]
     },
     "metadata": {},
     "output_type": "display_data"
    },
    {
     "data": {
      "text/html": [
       " View project at <a href='https://wandb.ai/brinashong/pipeline-covertype-dataset' target=\"_blank\">https://wandb.ai/brinashong/pipeline-covertype-dataset</a>"
      ],
      "text/plain": [
       "<IPython.core.display.HTML object>"
      ]
     },
     "metadata": {},
     "output_type": "display_data"
    },
    {
     "data": {
      "text/html": [
       " View run at <a href='https://wandb.ai/brinashong/pipeline-covertype-dataset/runs/oqdqjzd6' target=\"_blank\">https://wandb.ai/brinashong/pipeline-covertype-dataset/runs/oqdqjzd6</a>"
      ],
      "text/plain": [
       "<IPython.core.display.HTML object>"
      ]
     },
     "metadata": {},
     "output_type": "display_data"
    },
    {
     "name": "stdout",
     "output_type": "stream",
     "text": [
      "SVM Evaluation (for all)\n",
      "Confusion Matrix:\n",
      "[[175   1   0   0   0   0   0]\n",
      " [  2 235   0   0   0   0   0]\n",
      " [  0   0  36   0   0   1   0]\n",
      " [  0   0   0   0   0   1   0]\n",
      " [  0   1   1   0  12   0   0]\n",
      " [  0   0   1   0   0  19   0]\n",
      " [  0   0   0   0   0   0  15]]\n",
      "\n",
      "Classification Report:\n",
      "{'1': {'precision': 0.9887005649717514, 'recall': 0.9943181818181818, 'f1-score': 0.9915014164305949, 'support': 176.0}, '2': {'precision': 0.9915611814345991, 'recall': 0.9915611814345991, 'f1-score': 0.9915611814345991, 'support': 237.0}, '3': {'precision': 0.9473684210526315, 'recall': 0.972972972972973, 'f1-score': 0.9599999999999999, 'support': 37.0}, '4': {'precision': 0.0, 'recall': 0.0, 'f1-score': 0.0, 'support': 1.0}, '5': {'precision': 1.0, 'recall': 0.8571428571428571, 'f1-score': 0.923076923076923, 'support': 14.0}, '6': {'precision': 0.9047619047619048, 'recall': 0.95, 'f1-score': 0.9268292682926829, 'support': 20.0}, '7': {'precision': 1.0, 'recall': 1.0, 'f1-score': 1.0, 'support': 15.0}, 'accuracy': 0.984, 'macro avg': {'precision': 0.8331988674601266, 'recall': 0.8237135990526587, 'f1-score': 0.8275669698906858, 'support': 500.0}, 'weighted avg': {'precision': 0.9823183382184275, 'recall': 0.984, 'f1-score': 0.9829678231614306, 'support': 500.0}}\n",
      "Accuracy: 0.984\n"
     ]
    },
    {
     "name": "stderr",
     "output_type": "stream",
     "text": [
      "/home/brina/miniconda3/envs/gpu/lib/python3.8/site-packages/sklearn/metrics/_classification.py:1471: UndefinedMetricWarning: Precision and F-score are ill-defined and being set to 0.0 in labels with no predicted samples. Use `zero_division` parameter to control this behavior.\n",
      "  _warn_prf(average, modifier, msg_start, len(result))\n",
      "/home/brina/miniconda3/envs/gpu/lib/python3.8/site-packages/sklearn/metrics/_classification.py:1471: UndefinedMetricWarning: Precision and F-score are ill-defined and being set to 0.0 in labels with no predicted samples. Use `zero_division` parameter to control this behavior.\n",
      "  _warn_prf(average, modifier, msg_start, len(result))\n",
      "/home/brina/miniconda3/envs/gpu/lib/python3.8/site-packages/sklearn/metrics/_classification.py:1471: UndefinedMetricWarning: Precision and F-score are ill-defined and being set to 0.0 in labels with no predicted samples. Use `zero_division` parameter to control this behavior.\n",
      "  _warn_prf(average, modifier, msg_start, len(result))\n",
      "/home/brina/miniconda3/envs/gpu/lib/python3.8/site-packages/sklearn/metrics/_classification.py:1471: UndefinedMetricWarning: Precision and F-score are ill-defined and being set to 0.0 in labels with no predicted samples. Use `zero_division` parameter to control this behavior.\n",
      "  _warn_prf(average, modifier, msg_start, len(result))\n",
      "/home/brina/miniconda3/envs/gpu/lib/python3.8/site-packages/sklearn/metrics/_classification.py:1471: UndefinedMetricWarning: Precision and F-score are ill-defined and being set to 0.0 in labels with no predicted samples. Use `zero_division` parameter to control this behavior.\n",
      "  _warn_prf(average, modifier, msg_start, len(result))\n",
      "/home/brina/miniconda3/envs/gpu/lib/python3.8/site-packages/sklearn/metrics/_classification.py:1471: UndefinedMetricWarning: Precision and F-score are ill-defined and being set to 0.0 in labels with no predicted samples. Use `zero_division` parameter to control this behavior.\n",
      "  _warn_prf(average, modifier, msg_start, len(result))\n"
     ]
    },
    {
     "data": {
      "application/vnd.jupyter.widget-view+json": {
       "model_id": "",
       "version_major": 2,
       "version_minor": 0
      },
      "text/plain": [
       "VBox(children=(Label(value='0.006 MB of 0.006 MB uploaded\\r'), FloatProgress(value=1.0, max=1.0)))"
      ]
     },
     "metadata": {},
     "output_type": "display_data"
    },
    {
     "data": {
      "text/html": [
       "<style>\n",
       "    table.wandb td:nth-child(1) { padding: 0 10px; text-align: left ; width: auto;} td:nth-child(2) {text-align: left ; width: 100%}\n",
       "    .wandb-row { display: flex; flex-direction: row; flex-wrap: wrap; justify-content: flex-start; width: 100% }\n",
       "    .wandb-col { display: flex; flex-direction: column; flex-basis: 100%; flex: 1; padding: 10px; }\n",
       "    </style>\n",
       "<div class=\"wandb-row\"><div class=\"wandb-col\"><h3>Run history:</h3><br/><table class=\"wandb\"><tr><td>Accuracy Score</td><td>▁</td></tr><tr><td>f1-score_avg</td><td>▁</td></tr><tr><td>precision_avg</td><td>▁</td></tr><tr><td>recall_avg</td><td>▁</td></tr></table><br/></div><div class=\"wandb-col\"><h3>Run summary:</h3><br/><table class=\"wandb\"><tr><td>Accuracy Score</td><td>0.984</td></tr><tr><td>f1-score_avg</td><td>0.98297</td></tr><tr><td>precision_avg</td><td>0.98232</td></tr><tr><td>recall_avg</td><td>0.984</td></tr></table><br/></div></div>"
      ],
      "text/plain": [
       "<IPython.core.display.HTML object>"
      ]
     },
     "metadata": {},
     "output_type": "display_data"
    },
    {
     "data": {
      "text/html": [
       " View run <strong style=\"color:#cdcd00\">overall-svm-only</strong> at: <a href='https://wandb.ai/brinashong/pipeline-covertype-dataset/runs/oqdqjzd6' target=\"_blank\">https://wandb.ai/brinashong/pipeline-covertype-dataset/runs/oqdqjzd6</a><br/> View job at <a href='https://wandb.ai/brinashong/pipeline-covertype-dataset/jobs/QXJ0aWZhY3RDb2xsZWN0aW9uOjQ2NzIyMzQwNQ==/version_details/v0' target=\"_blank\">https://wandb.ai/brinashong/pipeline-covertype-dataset/jobs/QXJ0aWZhY3RDb2xsZWN0aW9uOjQ2NzIyMzQwNQ==/version_details/v0</a><br/>Synced 6 W&B file(s), 2 media file(s), 2 artifact file(s) and 0 other file(s)"
      ],
      "text/plain": [
       "<IPython.core.display.HTML object>"
      ]
     },
     "metadata": {},
     "output_type": "display_data"
    },
    {
     "data": {
      "text/html": [
       "Find logs at: <code>./wandb/run-20241008_161343-oqdqjzd6/logs</code>"
      ],
      "text/plain": [
       "<IPython.core.display.HTML object>"
      ]
     },
     "metadata": {},
     "output_type": "display_data"
    }
   ],
   "source": [
    "wandb.init(project=\"pipeline-kdd-dataset\", name=\"anomalies-svm-only\")\n",
    "\n",
    "# Now evaluate SVM predictions only for the anomalies detected by KNN\n",
    "# Create a mask for test instances that KNN classified as anomalies\n",
    "anomaly_mask = knn_predictions != NORMAL_TARGET  # Assuming normal_target is your normal class\n",
    "print('anomaly_mask', len(anomaly_mask))\n",
    "\n",
    "# Get true labels and predictions for anomalies\n",
    "svm_predictions_actual = [t[1] for t in svm_predictions]\n",
    "print(svm_predictions_actual)\n",
    "# svm_predictions_actual = np.array(svm_predictions_actual)\n",
    "svm_predictions_actual_df = pd.DataFrame(svm_predictions_actual, columns=[TARGET_COLUMN])\n",
    "y_test_anomalies_df = y_test_df[anomaly_mask]\n",
    "svm_predictions_anomalies_df = svm_predictions_actual_df[anomaly_mask]\n",
    "print('Lengths: ', len(y_test_anomalies_df), len(svm_predictions_anomalies_df))\n",
    "\n",
    "# Evaluate SVM only on the anomalies\n",
    "conf_matrix, class_report, acc_score = evaluate(y_test_anomalies_df, svm_predictions_anomalies_df, heading='SVM Evaluation (for anomalies)')\n",
    "wandb_log(conf_matrix, class_report, acc_score)\n",
    "wandb.finish()\n",
    "\n",
    "# Evaluate SVM on all test data\n",
    "wandb.init(project=\"pipeline-kdd-dataset\", name=\"overall-svm-only\")\n",
    "conf_matrix, class_report, acc_score = evaluate(y_test_df, svm_predictions_actual_df, heading='SVM Evaluation (for all)')\n",
    "wandb_log(conf_matrix, class_report, acc_score)\n",
    "wandb.finish()"
   ]
  },
  {
   "cell_type": "code",
   "execution_count": 23,
   "metadata": {},
   "outputs": [
    {
     "name": "stdout",
     "output_type": "stream",
     "text": [
      "ensemble prediction:  [1] knn prediction:  1 actual value:  1\n",
      "ensemble prediction:  [0] knn prediction:  3 actual value:  3\n",
      "ensemble prediction:  [1] knn prediction:  1 actual value:  1\n",
      "ensemble prediction:  [1] knn prediction:  1 actual value:  1\n",
      "ensemble prediction:  [1] knn prediction:  5 actual value:  5\n",
      "ensemble prediction:  [1] knn prediction:  1 actual value:  1\n",
      "ensemble prediction:  [1] knn prediction:  5 actual value:  5\n",
      "ensemble prediction:  [0] knn prediction:  3 actual value:  3\n",
      "ensemble prediction:  [1] knn prediction:  1 actual value:  1\n",
      "ensemble prediction:  [1] knn prediction:  1 actual value:  1\n",
      "ensemble prediction:  [0] knn prediction:  6 actual value:  6\n",
      "ensemble prediction:  [1] knn prediction:  1 actual value:  1\n",
      "ensemble prediction:  [1] knn prediction:  1 actual value:  1\n",
      "ensemble prediction:  [1] knn prediction:  1 actual value:  1\n",
      "ensemble prediction:  [1] knn prediction:  1 actual value:  1\n",
      "ensemble prediction:  [0] knn prediction:  3 actual value:  3\n",
      "ensemble prediction:  [1] knn prediction:  1 actual value:  1\n",
      "ensemble prediction:  [1] knn prediction:  1 actual value:  1\n",
      "ensemble prediction:  [1] knn prediction:  1 actual value:  1\n",
      "ensemble prediction:  [1] knn prediction:  1 actual value:  1\n",
      "ensemble prediction:  [1] knn prediction:  1 actual value:  1\n",
      "ensemble prediction:  [1] knn prediction:  7 actual value:  7\n",
      "ensemble prediction:  [1] knn prediction:  1 actual value:  1\n",
      "ensemble prediction:  [1] knn prediction:  1 actual value:  2\n",
      "ensemble prediction:  [0] knn prediction:  6 actual value:  6\n",
      "ensemble prediction:  [1] knn prediction:  1 actual value:  1\n",
      "ensemble prediction:  [1] knn prediction:  1 actual value:  1\n",
      "ensemble prediction:  [1] knn prediction:  7 actual value:  7\n",
      "ensemble prediction:  [1] knn prediction:  1 actual value:  1\n",
      "ensemble prediction:  [1] knn prediction:  1 actual value:  1\n",
      "ensemble prediction:  [0] knn prediction:  3 actual value:  3\n",
      "ensemble prediction:  [1] knn prediction:  1 actual value:  1\n",
      "ensemble prediction:  [1] knn prediction:  5 actual value:  5\n",
      "ensemble prediction:  [1] knn prediction:  1 actual value:  1\n",
      "ensemble prediction:  [0] knn prediction:  3 actual value:  3\n",
      "ensemble prediction:  [1] knn prediction:  1 actual value:  1\n",
      "ensemble prediction:  [0] knn prediction:  3 actual value:  3\n",
      "ensemble prediction:  [1] knn prediction:  1 actual value:  1\n",
      "ensemble prediction:  [1] knn prediction:  1 actual value:  1\n",
      "ensemble prediction:  [1] knn prediction:  1 actual value:  1\n",
      "ensemble prediction:  [1] knn prediction:  1 actual value:  1\n",
      "ensemble prediction:  [1] knn prediction:  1 actual value:  1\n",
      "ensemble prediction:  [0] knn prediction:  3 actual value:  3\n",
      "ensemble prediction:  [1] knn prediction:  1 actual value:  1\n",
      "ensemble prediction:  [1] knn prediction:  1 actual value:  1\n",
      "ensemble prediction:  [1] knn prediction:  1 actual value:  1\n",
      "ensemble prediction:  [1] knn prediction:  1 actual value:  1\n",
      "ensemble prediction:  [0] knn prediction:  3 actual value:  3\n",
      "ensemble prediction:  [0] knn prediction:  3 actual value:  3\n",
      "ensemble prediction:  [1] knn prediction:  1 actual value:  1\n",
      "ensemble prediction:  [1] knn prediction:  1 actual value:  1\n",
      "ensemble prediction:  [0] knn prediction:  6 actual value:  6\n",
      "ensemble prediction:  [0] knn prediction:  6 actual value:  6\n",
      "ensemble prediction:  [1] knn prediction:  1 actual value:  1\n",
      "ensemble prediction:  [1] knn prediction:  5 actual value:  5\n",
      "ensemble prediction:  [0] knn prediction:  6 actual value:  4\n",
      "ensemble prediction:  [0] knn prediction:  6 actual value:  6\n",
      "ensemble prediction:  [1] knn prediction:  1 actual value:  1\n",
      "ensemble prediction:  [1] knn prediction:  1 actual value:  1\n",
      "ensemble prediction:  [1] knn prediction:  1 actual value:  1\n",
      "ensemble prediction:  [1] knn prediction:  1 actual value:  1\n",
      "ensemble prediction:  [1] knn prediction:  1 actual value:  1\n",
      "ensemble prediction:  [0] knn prediction:  3 actual value:  3\n",
      "ensemble prediction:  [1] knn prediction:  1 actual value:  1\n",
      "ensemble prediction:  [0] knn prediction:  3 actual value:  3\n",
      "ensemble prediction:  [1] knn prediction:  1 actual value:  1\n",
      "ensemble prediction:  [1] knn prediction:  1 actual value:  1\n",
      "ensemble prediction:  [1] knn prediction:  1 actual value:  1\n",
      "ensemble prediction:  [1] knn prediction:  1 actual value:  1\n",
      "ensemble prediction:  [1] knn prediction:  1 actual value:  1\n",
      "ensemble prediction:  [1] knn prediction:  1 actual value:  1\n",
      "ensemble prediction:  [1] knn prediction:  1 actual value:  1\n",
      "ensemble prediction:  [1] knn prediction:  1 actual value:  1\n",
      "ensemble prediction:  [1] knn prediction:  5 actual value:  5\n",
      "ensemble prediction:  [1] knn prediction:  1 actual value:  1\n",
      "ensemble prediction:  [1] knn prediction:  1 actual value:  1\n",
      "ensemble prediction:  [1] knn prediction:  1 actual value:  1\n",
      "ensemble prediction:  [0] knn prediction:  3 actual value:  6\n",
      "ensemble prediction:  [1] knn prediction:  1 actual value:  1\n",
      "ensemble prediction:  [0] knn prediction:  3 actual value:  3\n",
      "ensemble prediction:  [1] knn prediction:  1 actual value:  1\n",
      "ensemble prediction:  [1] knn prediction:  1 actual value:  1\n",
      "ensemble prediction:  [1] knn prediction:  1 actual value:  1\n",
      "ensemble prediction:  [1] knn prediction:  1 actual value:  1\n",
      "ensemble prediction:  [1] knn prediction:  7 actual value:  7\n",
      "ensemble prediction:  [1] knn prediction:  1 actual value:  1\n",
      "ensemble prediction:  [1] knn prediction:  1 actual value:  1\n",
      "ensemble prediction:  [1] knn prediction:  1 actual value:  1\n",
      "ensemble prediction:  [1] knn prediction:  1 actual value:  1\n",
      "ensemble prediction:  [0] knn prediction:  3 actual value:  3\n",
      "ensemble prediction:  [1] knn prediction:  1 actual value:  1\n",
      "ensemble prediction:  [1] knn prediction:  1 actual value:  1\n",
      "ensemble prediction:  [1] knn prediction:  1 actual value:  1\n",
      "ensemble prediction:  [1] knn prediction:  1 actual value:  1\n",
      "ensemble prediction:  [1] knn prediction:  1 actual value:  1\n",
      "ensemble prediction:  [1] knn prediction:  1 actual value:  1\n",
      "ensemble prediction:  [1] knn prediction:  1 actual value:  1\n",
      "ensemble prediction:  [1] knn prediction:  1 actual value:  1\n",
      "ensemble prediction:  [1] knn prediction:  1 actual value:  1\n",
      "ensemble prediction:  [1] knn prediction:  1 actual value:  1\n",
      "ensemble prediction:  [1] knn prediction:  1 actual value:  1\n",
      "ensemble prediction:  [1] knn prediction:  1 actual value:  1\n",
      "ensemble prediction:  [0] knn prediction:  3 actual value:  3\n",
      "ensemble prediction:  [0] knn prediction:  3 actual value:  3\n",
      "ensemble prediction:  [1] knn prediction:  1 actual value:  1\n",
      "ensemble prediction:  [1] knn prediction:  1 actual value:  1\n",
      "ensemble prediction:  [1] knn prediction:  7 actual value:  7\n",
      "ensemble prediction:  [1] knn prediction:  1 actual value:  1\n",
      "ensemble prediction:  [1] knn prediction:  1 actual value:  1\n",
      "ensemble prediction:  [1] knn prediction:  1 actual value:  1\n",
      "ensemble prediction:  [1] knn prediction:  1 actual value:  1\n",
      "ensemble prediction:  [0] knn prediction:  3 actual value:  3\n",
      "ensemble prediction:  [1] knn prediction:  5 actual value:  5\n",
      "ensemble prediction:  [0] knn prediction:  3 actual value:  3\n",
      "ensemble prediction:  [0] knn prediction:  3 actual value:  3\n",
      "ensemble prediction:  [1] knn prediction:  1 actual value:  1\n",
      "ensemble prediction:  [1] knn prediction:  1 actual value:  1\n",
      "ensemble prediction:  [0] knn prediction:  3 actual value:  3\n",
      "ensemble prediction:  [1] knn prediction:  1 actual value:  1\n",
      "ensemble prediction:  [0] knn prediction:  3 actual value:  3\n",
      "ensemble prediction:  [1] knn prediction:  1 actual value:  1\n",
      "ensemble prediction:  [1] knn prediction:  1 actual value:  1\n",
      "ensemble prediction:  [1] knn prediction:  5 actual value:  5\n",
      "ensemble prediction:  [1] knn prediction:  1 actual value:  1\n",
      "ensemble prediction:  [1] knn prediction:  1 actual value:  1\n",
      "ensemble prediction:  [1] knn prediction:  1 actual value:  1\n",
      "ensemble prediction:  [1] knn prediction:  1 actual value:  1\n",
      "ensemble prediction:  [1] knn prediction:  1 actual value:  1\n",
      "ensemble prediction:  [1] knn prediction:  1 actual value:  1\n",
      "ensemble prediction:  [1] knn prediction:  1 actual value:  1\n",
      "ensemble prediction:  [1] knn prediction:  1 actual value:  1\n",
      "ensemble prediction:  [0] knn prediction:  6 actual value:  6\n",
      "ensemble prediction:  [1] knn prediction:  1 actual value:  1\n",
      "ensemble prediction:  [1] knn prediction:  7 actual value:  7\n",
      "ensemble prediction:  [1] knn prediction:  1 actual value:  1\n",
      "ensemble prediction:  [0] knn prediction:  3 actual value:  3\n",
      "ensemble prediction:  [1] knn prediction:  5 actual value:  5\n",
      "ensemble prediction:  [1] knn prediction:  1 actual value:  1\n",
      "ensemble prediction:  [0] knn prediction:  3 actual value:  3\n",
      "ensemble prediction:  [1] knn prediction:  1 actual value:  1\n",
      "ensemble prediction:  [1] knn prediction:  1 actual value:  1\n",
      "ensemble prediction:  [1] knn prediction:  1 actual value:  1\n",
      "ensemble prediction:  [1] knn prediction:  1 actual value:  1\n",
      "ensemble prediction:  [1] knn prediction:  1 actual value:  1\n",
      "ensemble prediction:  [1] knn prediction:  1 actual value:  1\n",
      "ensemble prediction:  [1] knn prediction:  1 actual value:  1\n",
      "ensemble prediction:  [0] knn prediction:  6 actual value:  6\n",
      "ensemble prediction:  [1] knn prediction:  1 actual value:  1\n",
      "ensemble prediction:  [0] knn prediction:  3 actual value:  3\n",
      "ensemble prediction:  [1] knn prediction:  7 actual value:  7\n",
      "ensemble prediction:  [1] knn prediction:  1 actual value:  1\n",
      "ensemble prediction:  [1] knn prediction:  1 actual value:  1\n",
      "ensemble prediction:  [1] knn prediction:  7 actual value:  7\n",
      "ensemble prediction:  [1] knn prediction:  1 actual value:  1\n",
      "ensemble prediction:  [1] knn prediction:  1 actual value:  1\n",
      "ensemble prediction:  [1] knn prediction:  1 actual value:  1\n",
      "ensemble prediction:  [1] knn prediction:  1 actual value:  1\n",
      "ensemble prediction:  [1] knn prediction:  1 actual value:  1\n",
      "ensemble prediction:  [1] knn prediction:  5 actual value:  5\n",
      "ensemble prediction:  [1] knn prediction:  1 actual value:  1\n",
      "ensemble prediction:  [0] knn prediction:  6 actual value:  6\n",
      "ensemble prediction:  [1] knn prediction:  1 actual value:  1\n",
      "ensemble prediction:  [1] knn prediction:  1 actual value:  1\n",
      "ensemble prediction:  [1] knn prediction:  7 actual value:  7\n",
      "ensemble prediction:  [1] knn prediction:  1 actual value:  1\n",
      "ensemble prediction:  [0] knn prediction:  3 actual value:  3\n",
      "ensemble prediction:  [0] knn prediction:  6 actual value:  6\n",
      "ensemble prediction:  [1] knn prediction:  1 actual value:  1\n",
      "ensemble prediction:  [1] knn prediction:  5 actual value:  5\n",
      "ensemble prediction:  [1] knn prediction:  1 actual value:  1\n",
      "ensemble prediction:  [0] knn prediction:  6 actual value:  6\n",
      "ensemble prediction:  [1] knn prediction:  1 actual value:  1\n",
      "ensemble prediction:  [1] knn prediction:  1 actual value:  1\n",
      "ensemble prediction:  [1] knn prediction:  1 actual value:  1\n",
      "ensemble prediction:  [1] knn prediction:  1 actual value:  1\n",
      "ensemble prediction:  [1] knn prediction:  7 actual value:  7\n",
      "ensemble prediction:  [0] knn prediction:  3 actual value:  3\n",
      "ensemble prediction:  [0] knn prediction:  3 actual value:  3\n",
      "ensemble prediction:  [1] knn prediction:  1 actual value:  1\n",
      "ensemble prediction:  [0] knn prediction:  3 actual value:  3\n",
      "ensemble prediction:  [1] knn prediction:  1 actual value:  1\n",
      "ensemble prediction:  [1] knn prediction:  1 actual value:  1\n",
      "ensemble prediction:  [1] knn prediction:  1 actual value:  1\n",
      "ensemble prediction:  [1] knn prediction:  1 actual value:  1\n",
      "ensemble prediction:  [1] knn prediction:  7 actual value:  7\n",
      "ensemble prediction:  [1] knn prediction:  1 actual value:  1\n",
      "ensemble prediction:  [0] knn prediction:  3 actual value:  3\n",
      "ensemble prediction:  [0] knn prediction:  3 actual value:  3\n",
      "ensemble prediction:  [1] knn prediction:  5 actual value:  5\n",
      "ensemble prediction:  [1] knn prediction:  1 actual value:  1\n",
      "ensemble prediction:  [0] knn prediction:  3 actual value:  3\n",
      "ensemble prediction:  [0] knn prediction:  3 actual value:  3\n",
      "ensemble prediction:  [1] knn prediction:  1 actual value:  1\n",
      "ensemble prediction:  [1] knn prediction:  1 actual value:  1\n",
      "ensemble prediction:  [1] knn prediction:  1 actual value:  1\n",
      "ensemble prediction:  [1] knn prediction:  1 actual value:  1\n",
      "ensemble prediction:  [1] knn prediction:  1 actual value:  1\n",
      "ensemble prediction:  [1] knn prediction:  1 actual value:  1\n",
      "ensemble prediction:  [1] knn prediction:  1 actual value:  1\n",
      "ensemble prediction:  [1] knn prediction:  1 actual value:  1\n",
      "ensemble prediction:  [0] knn prediction:  3 actual value:  3\n",
      "ensemble prediction:  [1] knn prediction:  1 actual value:  1\n",
      "ensemble prediction:  [0] knn prediction:  3 actual value:  3\n",
      "ensemble prediction:  [0] knn prediction:  6 actual value:  6\n",
      "ensemble prediction:  [0] knn prediction:  3 actual value:  3\n",
      "ensemble prediction:  [1] knn prediction:  1 actual value:  1\n",
      "ensemble prediction:  [0] knn prediction:  6 actual value:  6\n",
      "ensemble prediction:  [1] knn prediction:  1 actual value:  1\n",
      "ensemble prediction:  [1] knn prediction:  1 actual value:  1\n",
      "ensemble prediction:  [1] knn prediction:  1 actual value:  1\n",
      "ensemble prediction:  [1] knn prediction:  7 actual value:  7\n",
      "ensemble prediction:  [0] knn prediction:  3 actual value:  5\n",
      "ensemble prediction:  [1] knn prediction:  1 actual value:  1\n",
      "ensemble prediction:  [1] knn prediction:  1 actual value:  1\n",
      "ensemble prediction:  [1] knn prediction:  1 actual value:  1\n",
      "ensemble prediction:  [1] knn prediction:  1 actual value:  1\n",
      "ensemble prediction:  [1] knn prediction:  7 actual value:  7\n",
      "ensemble prediction:  [1] knn prediction:  1 actual value:  1\n",
      "ensemble prediction:  [1] knn prediction:  1 actual value:  1\n",
      "ensemble prediction:  [0] knn prediction:  6 actual value:  6\n",
      "ensemble prediction:  [1] knn prediction:  1 actual value:  1\n",
      "ensemble prediction:  [1] knn prediction:  1 actual value:  1\n",
      "ensemble prediction:  [0] knn prediction:  6 actual value:  6\n",
      "ensemble prediction:  [1] knn prediction:  5 actual value:  5\n",
      "ensemble prediction:  [1] knn prediction:  1 actual value:  1\n",
      "ensemble prediction:  [0] knn prediction:  6 actual value:  6\n",
      "ensemble prediction:  [1] knn prediction:  1 actual value:  2\n",
      "ensemble prediction:  [1] knn prediction:  1 actual value:  1\n",
      "ensemble prediction:  [1] knn prediction:  1 actual value:  1\n",
      "ensemble prediction:  [1] knn prediction:  1 actual value:  1\n",
      "ensemble prediction:  [1] knn prediction:  1 actual value:  1\n",
      "ensemble prediction:  [0] knn prediction:  6 actual value:  6\n",
      "ensemble prediction:  [1] knn prediction:  1 actual value:  1\n",
      "ensemble prediction:  [1] knn prediction:  1 actual value:  1\n",
      "ensemble prediction:  [1] knn prediction:  1 actual value:  1\n",
      "ensemble prediction:  [0] knn prediction:  3 actual value:  3\n",
      "ensemble prediction:  [1] knn prediction:  1 actual value:  1\n",
      "ensemble prediction:  [1] knn prediction:  1 actual value:  1\n",
      "ensemble prediction:  [1] knn prediction:  1 actual value:  1\n",
      "ensemble prediction:  [1] knn prediction:  1 actual value:  1\n",
      "ensemble prediction:  [0] knn prediction:  6 actual value:  6\n",
      "ensemble prediction:  [1] knn prediction:  1 actual value:  1\n",
      "ensemble prediction:  [1] knn prediction:  1 actual value:  1\n",
      "ensemble prediction:  [0] knn prediction:  6 actual value:  6\n",
      "ensemble prediction:  [1] knn prediction:  1 actual value:  1\n",
      "ensemble prediction:  [1] knn prediction:  1 actual value:  1\n",
      "ensemble prediction:  [1] knn prediction:  1 actual value:  1\n",
      "ensemble prediction:  [1] knn prediction:  1 actual value:  1\n",
      "ensemble prediction:  [1] knn prediction:  1 actual value:  1\n",
      "ensemble prediction:  [1] knn prediction:  7 actual value:  7\n",
      "ensemble prediction:  [1] knn prediction:  1 actual value:  1\n",
      "ensemble prediction:  [1] knn prediction:  1 actual value:  1\n",
      "ensemble prediction:  [1] knn prediction:  7 actual value:  7\n",
      "ensemble prediction:  [0] knn prediction:  6 actual value:  3\n",
      "ensemble prediction:  [1] knn prediction:  1 actual value:  1\n",
      "ensemble prediction:  [1] knn prediction:  1 actual value:  1\n",
      "ensemble prediction:  [1] knn prediction:  1 actual value:  1\n",
      "ensemble prediction:  [1] knn prediction:  1 actual value:  1\n",
      "ensemble prediction:  [1] knn prediction:  1 actual value:  1\n",
      "ensemble prediction:  [1] knn prediction:  1 actual value:  1\n",
      "ensemble prediction:  [1] knn prediction:  7 actual value:  7\n",
      "ensemble prediction:  [0] knn prediction:  6 actual value:  6\n",
      "ensemble prediction:  [0] knn prediction:  3 actual value:  3\n",
      "Total operation time: =  2.7353014945983887 seconds\n"
     ]
    }
   ],
   "source": [
    "ensemble_predictions = []\n",
    "seconds = time.time()\n",
    "\n",
    "for i in range(len(X_test_scaled_df)):\n",
    "    test_instance_df = X_test_scaled_df.iloc[i].to_frame().T\n",
    "    if knn_predictions[i] == NORMAL_TARGET:\n",
    "        ensemble_predictions.append((0, NORMAL_TARGET, y_test_df.iloc[i]))\n",
    "        continue\n",
    "    predicted_label = TARGET_DICT[knn_predictions[i]]\n",
    "    # print('predicted_label', predicted_label)\n",
    "    selected_features = feature_importances[predicted_label]\n",
    "    # print('selected_features', selected_features)\n",
    "    model = ensemble_models[predicted_label]\n",
    "    \n",
    "    # Select features for the ensemble\n",
    "    test_instance_selected_df = test_instance_df[selected_features]\n",
    "    ensemble_prediction = model.predict(test_instance_selected_df)\n",
    "    print('ensemble prediction: ', ensemble_prediction, 'knn prediction: ', INV_TARGET_DICT[predicted_label], 'actual value: ', y_test_df.iloc[i])\n",
    "    ensemble_predictions.append((ensemble_prediction, INV_TARGET_DICT[predicted_label], y_test_df.iloc[i]))\n",
    "\n",
    "print(\"Total operation time: = \", time.time() - seconds, \"seconds\")"
   ]
  },
  {
   "cell_type": "code",
   "execution_count": 24,
   "metadata": {},
   "outputs": [
    {
     "data": {
      "text/html": [
       "wandb version 0.18.3 is available!  To upgrade, please run:\n",
       " $ pip install wandb --upgrade"
      ],
      "text/plain": [
       "<IPython.core.display.HTML object>"
      ]
     },
     "metadata": {},
     "output_type": "display_data"
    },
    {
     "data": {
      "text/html": [
       "Tracking run with wandb version 0.16.4"
      ],
      "text/plain": [
       "<IPython.core.display.HTML object>"
      ]
     },
     "metadata": {},
     "output_type": "display_data"
    },
    {
     "data": {
      "text/html": [
       "Run data is saved locally in <code>/home/brina/nus-mcomp/sem2/cs5344-big-data-analytics-technology/CS5344_Project/work/wandb/run-20241008_161604-cdwa1czt</code>"
      ],
      "text/plain": [
       "<IPython.core.display.HTML object>"
      ]
     },
     "metadata": {},
     "output_type": "display_data"
    },
    {
     "data": {
      "text/html": [
       "Syncing run <strong><a href='https://wandb.ai/brinashong/pipeline-covertype-dataset/runs/cdwa1czt' target=\"_blank\">anomalies-ensemble</a></strong> to <a href='https://wandb.ai/brinashong/pipeline-covertype-dataset' target=\"_blank\">Weights & Biases</a> (<a href='https://wandb.me/run' target=\"_blank\">docs</a>)<br/>"
      ],
      "text/plain": [
       "<IPython.core.display.HTML object>"
      ]
     },
     "metadata": {},
     "output_type": "display_data"
    },
    {
     "data": {
      "text/html": [
       " View project at <a href='https://wandb.ai/brinashong/pipeline-covertype-dataset' target=\"_blank\">https://wandb.ai/brinashong/pipeline-covertype-dataset</a>"
      ],
      "text/plain": [
       "<IPython.core.display.HTML object>"
      ]
     },
     "metadata": {},
     "output_type": "display_data"
    },
    {
     "data": {
      "text/html": [
       " View run at <a href='https://wandb.ai/brinashong/pipeline-covertype-dataset/runs/cdwa1czt' target=\"_blank\">https://wandb.ai/brinashong/pipeline-covertype-dataset/runs/cdwa1czt</a>"
      ],
      "text/plain": [
       "<IPython.core.display.HTML object>"
      ]
     },
     "metadata": {},
     "output_type": "display_data"
    },
    {
     "name": "stdout",
     "output_type": "stream",
     "text": [
      "anomaly_mask 500\n",
      "[1, 2, 2, 2, 2, 3, 2, 1, 2, 2, 2, 1, 5, 2, 2, 1, 2, 5, 3, 2, 1, 2, 2, 1, 6, 1, 1, 2, 1, 2, 1, 2, 2, 3, 1, 2, 2, 2, 2, 1, 2, 1, 1, 2, 2, 1, 2, 2, 7, 2, 1, 1, 6, 2, 1, 1, 7, 2, 2, 2, 2, 1, 1, 2, 2, 2, 3, 2, 2, 1, 5, 1, 2, 3, 1, 3, 2, 1, 1, 2, 2, 1, 2, 2, 2, 1, 1, 3, 1, 2, 1, 1, 2, 1, 3, 3, 2, 2, 1, 1, 6, 6, 2, 2, 1, 2, 5, 6, 6, 1, 2, 1, 2, 1, 1, 1, 3, 1, 2, 3, 1, 1, 1, 1, 2, 2, 1, 1, 1, 2, 1, 2, 2, 2, 5, 1, 1, 1, 2, 3, 1, 2, 2, 3, 1, 1, 1, 2, 2, 2, 1, 7, 2, 2, 1, 1, 2, 2, 1, 2, 1, 3, 1, 2, 2, 2, 2, 2, 2, 2, 2, 1, 2, 1, 1, 1, 1, 2, 2, 2, 1, 2, 2, 2, 2, 2, 1, 2, 2, 1, 1, 1, 2, 2, 1, 3, 3, 2, 1, 1, 2, 7, 1, 1, 1, 1, 2, 2, 2, 3, 2, 5, 3, 3, 2, 1, 2, 1, 2, 2, 3, 1, 2, 2, 3, 2, 2, 2, 1, 1, 2, 5, 1, 1, 1, 2, 2, 1, 2, 2, 1, 1, 2, 1, 1, 6, 2, 1, 2, 7, 2, 1, 3, 5, 1, 2, 3, 2, 2, 1, 2, 2, 1, 2, 2, 2, 2, 1, 1, 2, 1, 2, 1, 1, 2, 6, 1, 3, 2, 7, 1, 1, 2, 2, 2, 2, 2, 2, 7, 1, 1, 1, 1, 1, 2, 2, 5, 2, 2, 2, 1, 6, 2, 1, 1, 2, 7, 1, 2, 3, 2, 2, 2, 2, 2, 6, 1, 5, 2, 2, 1, 6, 2, 2, 1, 1, 1, 1, 2, 2, 2, 7, 3, 3, 2, 1, 2, 2, 2, 3, 2, 2, 1, 2, 1, 1, 2, 1, 7, 2, 1, 3, 3, 5, 2, 2, 1, 3, 3, 2, 2, 1, 2, 2, 2, 2, 2, 2, 1, 2, 2, 1, 2, 2, 1, 2, 1, 1, 2, 2, 2, 1, 2, 1, 3, 1, 3, 2, 2, 2, 6, 2, 3, 2, 2, 1, 2, 2, 6, 1, 2, 1, 2, 2, 2, 2, 1, 2, 2, 7, 2, 2, 3, 1, 2, 1, 1, 2, 2, 2, 1, 7, 1, 2, 2, 1, 6, 2, 2, 1, 1, 2, 2, 2, 6, 2, 2, 5, 1, 6, 1, 1, 2, 1, 2, 1, 1, 6, 1, 1, 1, 3, 1, 1, 1, 2, 2, 1, 6, 2, 2, 2, 2, 2, 2, 2, 2, 1, 2, 2, 1, 2, 2, 2, 6, 1, 2, 1, 1, 1, 1, 2, 7, 1, 1, 7, 6, 1, 1, 2, 2, 2, 1, 2, 1, 1, 1, 7, 6, 3]\n",
      "Lengths:  263 263\n",
      "Ensemble Evaluation (for anomalies)\n",
      "Confusion Matrix:\n",
      "[[175   0   0   0   0   0   0]\n",
      " [  2   0   0   0   0   0   0]\n",
      " [  0   0  36   0   0   1   0]\n",
      " [  0   0   0   0   0   1   0]\n",
      " [  0   0   1   0  12   0   0]\n",
      " [  0   0   1   0   0  19   0]\n",
      " [  0   0   0   0   0   0  15]]\n",
      "\n",
      "Classification Report:\n",
      "{'1': {'precision': 0.9887005649717514, 'recall': 1.0, 'f1-score': 0.9943181818181819, 'support': 175.0}, '2': {'precision': 0.0, 'recall': 0.0, 'f1-score': 0.0, 'support': 2.0}, '3': {'precision': 0.9473684210526315, 'recall': 0.972972972972973, 'f1-score': 0.9599999999999999, 'support': 37.0}, '4': {'precision': 0.0, 'recall': 0.0, 'f1-score': 0.0, 'support': 1.0}, '5': {'precision': 1.0, 'recall': 0.9230769230769231, 'f1-score': 0.9600000000000001, 'support': 13.0}, '6': {'precision': 0.9047619047619048, 'recall': 0.95, 'f1-score': 0.9268292682926829, 'support': 20.0}, '7': {'precision': 1.0, 'recall': 1.0, 'f1-score': 1.0, 'support': 15.0}, 'accuracy': 0.9771863117870723, 'macro avg': {'precision': 0.6915472701123269, 'recall': 0.6922928422928424, 'f1-score': 0.6915924928729806, 'support': 263.0}, 'weighted avg': {'precision': 0.9664276370503497, 'recall': 0.9771863117870723, 'f1-score': 0.971643601460211, 'support': 263.0}}\n",
      "Accuracy: 0.9771863117870723\n"
     ]
    },
    {
     "name": "stderr",
     "output_type": "stream",
     "text": [
      "/home/brina/miniconda3/envs/gpu/lib/python3.8/site-packages/sklearn/metrics/_classification.py:1471: UndefinedMetricWarning: Precision and F-score are ill-defined and being set to 0.0 in labels with no predicted samples. Use `zero_division` parameter to control this behavior.\n",
      "  _warn_prf(average, modifier, msg_start, len(result))\n",
      "/home/brina/miniconda3/envs/gpu/lib/python3.8/site-packages/sklearn/metrics/_classification.py:1471: UndefinedMetricWarning: Precision and F-score are ill-defined and being set to 0.0 in labels with no predicted samples. Use `zero_division` parameter to control this behavior.\n",
      "  _warn_prf(average, modifier, msg_start, len(result))\n",
      "/home/brina/miniconda3/envs/gpu/lib/python3.8/site-packages/sklearn/metrics/_classification.py:1471: UndefinedMetricWarning: Precision and F-score are ill-defined and being set to 0.0 in labels with no predicted samples. Use `zero_division` parameter to control this behavior.\n",
      "  _warn_prf(average, modifier, msg_start, len(result))\n",
      "/home/brina/miniconda3/envs/gpu/lib/python3.8/site-packages/sklearn/metrics/_classification.py:1471: UndefinedMetricWarning: Precision and F-score are ill-defined and being set to 0.0 in labels with no predicted samples. Use `zero_division` parameter to control this behavior.\n",
      "  _warn_prf(average, modifier, msg_start, len(result))\n",
      "/home/brina/miniconda3/envs/gpu/lib/python3.8/site-packages/sklearn/metrics/_classification.py:1471: UndefinedMetricWarning: Precision and F-score are ill-defined and being set to 0.0 in labels with no predicted samples. Use `zero_division` parameter to control this behavior.\n",
      "  _warn_prf(average, modifier, msg_start, len(result))\n",
      "/home/brina/miniconda3/envs/gpu/lib/python3.8/site-packages/sklearn/metrics/_classification.py:1471: UndefinedMetricWarning: Precision and F-score are ill-defined and being set to 0.0 in labels with no predicted samples. Use `zero_division` parameter to control this behavior.\n",
      "  _warn_prf(average, modifier, msg_start, len(result))\n"
     ]
    },
    {
     "data": {
      "application/vnd.jupyter.widget-view+json": {
       "model_id": "",
       "version_major": 2,
       "version_minor": 0
      },
      "text/plain": [
       "VBox(children=(Label(value='0.005 MB of 0.005 MB uploaded\\r'), FloatProgress(value=0.9630602240896359, max=1.0…"
      ]
     },
     "metadata": {},
     "output_type": "display_data"
    },
    {
     "data": {
      "text/html": [
       "<style>\n",
       "    table.wandb td:nth-child(1) { padding: 0 10px; text-align: left ; width: auto;} td:nth-child(2) {text-align: left ; width: 100%}\n",
       "    .wandb-row { display: flex; flex-direction: row; flex-wrap: wrap; justify-content: flex-start; width: 100% }\n",
       "    .wandb-col { display: flex; flex-direction: column; flex-basis: 100%; flex: 1; padding: 10px; }\n",
       "    </style>\n",
       "<div class=\"wandb-row\"><div class=\"wandb-col\"><h3>Run history:</h3><br/><table class=\"wandb\"><tr><td>Accuracy Score</td><td>▁</td></tr><tr><td>f1-score_avg</td><td>▁</td></tr><tr><td>precision_avg</td><td>▁</td></tr><tr><td>recall_avg</td><td>▁</td></tr></table><br/></div><div class=\"wandb-col\"><h3>Run summary:</h3><br/><table class=\"wandb\"><tr><td>Accuracy Score</td><td>0.97719</td></tr><tr><td>f1-score_avg</td><td>0.97164</td></tr><tr><td>precision_avg</td><td>0.96643</td></tr><tr><td>recall_avg</td><td>0.97719</td></tr></table><br/></div></div>"
      ],
      "text/plain": [
       "<IPython.core.display.HTML object>"
      ]
     },
     "metadata": {},
     "output_type": "display_data"
    },
    {
     "data": {
      "text/html": [
       " View run <strong style=\"color:#cdcd00\">anomalies-ensemble</strong> at: <a href='https://wandb.ai/brinashong/pipeline-covertype-dataset/runs/cdwa1czt' target=\"_blank\">https://wandb.ai/brinashong/pipeline-covertype-dataset/runs/cdwa1czt</a><br/> View job at <a href='https://wandb.ai/brinashong/pipeline-covertype-dataset/jobs/QXJ0aWZhY3RDb2xsZWN0aW9uOjQ2NzIyMzQwNQ==/version_details/v0' target=\"_blank\">https://wandb.ai/brinashong/pipeline-covertype-dataset/jobs/QXJ0aWZhY3RDb2xsZWN0aW9uOjQ2NzIyMzQwNQ==/version_details/v0</a><br/>Synced 6 W&B file(s), 2 media file(s), 2 artifact file(s) and 0 other file(s)"
      ],
      "text/plain": [
       "<IPython.core.display.HTML object>"
      ]
     },
     "metadata": {},
     "output_type": "display_data"
    },
    {
     "data": {
      "text/html": [
       "Find logs at: <code>./wandb/run-20241008_161604-cdwa1czt/logs</code>"
      ],
      "text/plain": [
       "<IPython.core.display.HTML object>"
      ]
     },
     "metadata": {},
     "output_type": "display_data"
    },
    {
     "data": {
      "application/vnd.jupyter.widget-view+json": {
       "model_id": "d5f8dec8ae584742a735a5792f10104f",
       "version_major": 2,
       "version_minor": 0
      },
      "text/plain": [
       "VBox(children=(Label(value='Waiting for wandb.init()...\\r'), FloatProgress(value=0.011112557288894702, max=1.0…"
      ]
     },
     "metadata": {},
     "output_type": "display_data"
    },
    {
     "data": {
      "text/html": [
       "wandb version 0.18.3 is available!  To upgrade, please run:\n",
       " $ pip install wandb --upgrade"
      ],
      "text/plain": [
       "<IPython.core.display.HTML object>"
      ]
     },
     "metadata": {},
     "output_type": "display_data"
    },
    {
     "data": {
      "text/html": [
       "Tracking run with wandb version 0.16.4"
      ],
      "text/plain": [
       "<IPython.core.display.HTML object>"
      ]
     },
     "metadata": {},
     "output_type": "display_data"
    },
    {
     "data": {
      "text/html": [
       "Run data is saved locally in <code>/home/brina/nus-mcomp/sem2/cs5344-big-data-analytics-technology/CS5344_Project/work/wandb/run-20241008_161625-7hmelfcr</code>"
      ],
      "text/plain": [
       "<IPython.core.display.HTML object>"
      ]
     },
     "metadata": {},
     "output_type": "display_data"
    },
    {
     "data": {
      "text/html": [
       "Syncing run <strong><a href='https://wandb.ai/brinashong/pipeline-covertype-dataset/runs/7hmelfcr' target=\"_blank\">overall-ensemble</a></strong> to <a href='https://wandb.ai/brinashong/pipeline-covertype-dataset' target=\"_blank\">Weights & Biases</a> (<a href='https://wandb.me/run' target=\"_blank\">docs</a>)<br/>"
      ],
      "text/plain": [
       "<IPython.core.display.HTML object>"
      ]
     },
     "metadata": {},
     "output_type": "display_data"
    },
    {
     "data": {
      "text/html": [
       " View project at <a href='https://wandb.ai/brinashong/pipeline-covertype-dataset' target=\"_blank\">https://wandb.ai/brinashong/pipeline-covertype-dataset</a>"
      ],
      "text/plain": [
       "<IPython.core.display.HTML object>"
      ]
     },
     "metadata": {},
     "output_type": "display_data"
    },
    {
     "data": {
      "text/html": [
       " View run at <a href='https://wandb.ai/brinashong/pipeline-covertype-dataset/runs/7hmelfcr' target=\"_blank\">https://wandb.ai/brinashong/pipeline-covertype-dataset/runs/7hmelfcr</a>"
      ],
      "text/plain": [
       "<IPython.core.display.HTML object>"
      ]
     },
     "metadata": {},
     "output_type": "display_data"
    },
    {
     "name": "stdout",
     "output_type": "stream",
     "text": [
      "Ensemble Evaluation (for all)\n",
      "Confusion Matrix:\n",
      "[[175   1   0   0   0   0   0]\n",
      " [  2 235   0   0   0   0   0]\n",
      " [  0   0  36   0   0   1   0]\n",
      " [  0   0   0   0   0   1   0]\n",
      " [  0   1   1   0  12   0   0]\n",
      " [  0   0   1   0   0  19   0]\n",
      " [  0   0   0   0   0   0  15]]\n",
      "\n",
      "Classification Report:\n",
      "{'1': {'precision': 0.9887005649717514, 'recall': 0.9943181818181818, 'f1-score': 0.9915014164305949, 'support': 176.0}, '2': {'precision': 0.9915611814345991, 'recall': 0.9915611814345991, 'f1-score': 0.9915611814345991, 'support': 237.0}, '3': {'precision': 0.9473684210526315, 'recall': 0.972972972972973, 'f1-score': 0.9599999999999999, 'support': 37.0}, '4': {'precision': 0.0, 'recall': 0.0, 'f1-score': 0.0, 'support': 1.0}, '5': {'precision': 1.0, 'recall': 0.8571428571428571, 'f1-score': 0.923076923076923, 'support': 14.0}, '6': {'precision': 0.9047619047619048, 'recall': 0.95, 'f1-score': 0.9268292682926829, 'support': 20.0}, '7': {'precision': 1.0, 'recall': 1.0, 'f1-score': 1.0, 'support': 15.0}, 'accuracy': 0.984, 'macro avg': {'precision': 0.8331988674601266, 'recall': 0.8237135990526587, 'f1-score': 0.8275669698906858, 'support': 500.0}, 'weighted avg': {'precision': 0.9823183382184275, 'recall': 0.984, 'f1-score': 0.9829678231614306, 'support': 500.0}}\n",
      "Accuracy: 0.984\n"
     ]
    },
    {
     "name": "stderr",
     "output_type": "stream",
     "text": [
      "/home/brina/miniconda3/envs/gpu/lib/python3.8/site-packages/sklearn/metrics/_classification.py:1471: UndefinedMetricWarning: Precision and F-score are ill-defined and being set to 0.0 in labels with no predicted samples. Use `zero_division` parameter to control this behavior.\n",
      "  _warn_prf(average, modifier, msg_start, len(result))\n",
      "/home/brina/miniconda3/envs/gpu/lib/python3.8/site-packages/sklearn/metrics/_classification.py:1471: UndefinedMetricWarning: Precision and F-score are ill-defined and being set to 0.0 in labels with no predicted samples. Use `zero_division` parameter to control this behavior.\n",
      "  _warn_prf(average, modifier, msg_start, len(result))\n",
      "/home/brina/miniconda3/envs/gpu/lib/python3.8/site-packages/sklearn/metrics/_classification.py:1471: UndefinedMetricWarning: Precision and F-score are ill-defined and being set to 0.0 in labels with no predicted samples. Use `zero_division` parameter to control this behavior.\n",
      "  _warn_prf(average, modifier, msg_start, len(result))\n",
      "/home/brina/miniconda3/envs/gpu/lib/python3.8/site-packages/sklearn/metrics/_classification.py:1471: UndefinedMetricWarning: Precision and F-score are ill-defined and being set to 0.0 in labels with no predicted samples. Use `zero_division` parameter to control this behavior.\n",
      "  _warn_prf(average, modifier, msg_start, len(result))\n",
      "/home/brina/miniconda3/envs/gpu/lib/python3.8/site-packages/sklearn/metrics/_classification.py:1471: UndefinedMetricWarning: Precision and F-score are ill-defined and being set to 0.0 in labels with no predicted samples. Use `zero_division` parameter to control this behavior.\n",
      "  _warn_prf(average, modifier, msg_start, len(result))\n",
      "/home/brina/miniconda3/envs/gpu/lib/python3.8/site-packages/sklearn/metrics/_classification.py:1471: UndefinedMetricWarning: Precision and F-score are ill-defined and being set to 0.0 in labels with no predicted samples. Use `zero_division` parameter to control this behavior.\n",
      "  _warn_prf(average, modifier, msg_start, len(result))\n"
     ]
    },
    {
     "data": {
      "application/vnd.jupyter.widget-view+json": {
       "model_id": "",
       "version_major": 2,
       "version_minor": 0
      },
      "text/plain": [
       "VBox(children=(Label(value='0.005 MB of 0.006 MB uploaded\\r'), FloatProgress(value=0.9634271978021978, max=1.0…"
      ]
     },
     "metadata": {},
     "output_type": "display_data"
    },
    {
     "data": {
      "text/html": [
       "<style>\n",
       "    table.wandb td:nth-child(1) { padding: 0 10px; text-align: left ; width: auto;} td:nth-child(2) {text-align: left ; width: 100%}\n",
       "    .wandb-row { display: flex; flex-direction: row; flex-wrap: wrap; justify-content: flex-start; width: 100% }\n",
       "    .wandb-col { display: flex; flex-direction: column; flex-basis: 100%; flex: 1; padding: 10px; }\n",
       "    </style>\n",
       "<div class=\"wandb-row\"><div class=\"wandb-col\"><h3>Run history:</h3><br/><table class=\"wandb\"><tr><td>Accuracy Score</td><td>▁</td></tr><tr><td>f1-score_avg</td><td>▁</td></tr><tr><td>precision_avg</td><td>▁</td></tr><tr><td>recall_avg</td><td>▁</td></tr></table><br/></div><div class=\"wandb-col\"><h3>Run summary:</h3><br/><table class=\"wandb\"><tr><td>Accuracy Score</td><td>0.984</td></tr><tr><td>f1-score_avg</td><td>0.98297</td></tr><tr><td>precision_avg</td><td>0.98232</td></tr><tr><td>recall_avg</td><td>0.984</td></tr></table><br/></div></div>"
      ],
      "text/plain": [
       "<IPython.core.display.HTML object>"
      ]
     },
     "metadata": {},
     "output_type": "display_data"
    },
    {
     "data": {
      "text/html": [
       " View run <strong style=\"color:#cdcd00\">overall-ensemble</strong> at: <a href='https://wandb.ai/brinashong/pipeline-covertype-dataset/runs/7hmelfcr' target=\"_blank\">https://wandb.ai/brinashong/pipeline-covertype-dataset/runs/7hmelfcr</a><br/> View job at <a href='https://wandb.ai/brinashong/pipeline-covertype-dataset/jobs/QXJ0aWZhY3RDb2xsZWN0aW9uOjQ2NzIyMzQwNQ==/version_details/v0' target=\"_blank\">https://wandb.ai/brinashong/pipeline-covertype-dataset/jobs/QXJ0aWZhY3RDb2xsZWN0aW9uOjQ2NzIyMzQwNQ==/version_details/v0</a><br/>Synced 6 W&B file(s), 2 media file(s), 2 artifact file(s) and 0 other file(s)"
      ],
      "text/plain": [
       "<IPython.core.display.HTML object>"
      ]
     },
     "metadata": {},
     "output_type": "display_data"
    },
    {
     "data": {
      "text/html": [
       "Find logs at: <code>./wandb/run-20241008_161625-7hmelfcr/logs</code>"
      ],
      "text/plain": [
       "<IPython.core.display.HTML object>"
      ]
     },
     "metadata": {},
     "output_type": "display_data"
    }
   ],
   "source": [
    "wandb.init(project=\"pipeline-kdd-dataset\", name=\"anomalies-ensemble\")\n",
    "\n",
    "# Now evaluate ensemble predictions only for the anomalies detected by KNN\n",
    "# Create a mask for test instances that KNN classified as anomalies\n",
    "anomaly_mask = knn_predictions != NORMAL_TARGET  # Assuming normal_target is your normal class\n",
    "print('anomaly_mask', len(anomaly_mask))\n",
    "\n",
    "# Get true labels and predictions for anomalies\n",
    "ensemble_predictions_actual = [t[1] for t in ensemble_predictions]\n",
    "print(ensemble_predictions_actual)\n",
    "ensemble_predictions_actual_df = pd.DataFrame(ensemble_predictions_actual, columns=[TARGET_COLUMN])\n",
    "y_test_anomalies_df = y_test_df[anomaly_mask]\n",
    "ensemble_predictions_anomalies_df = ensemble_predictions_actual_df[anomaly_mask]\n",
    "print('Lengths: ', len(y_test_anomalies_df), len(ensemble_predictions_anomalies_df))\n",
    "\n",
    "# Evaluate ensemble only on the anomalies\n",
    "conf_matrix, class_report, acc_score = evaluate(y_test_anomalies_df, ensemble_predictions_anomalies_df, heading='Ensemble Evaluation (for anomalies)')\n",
    "wandb_log(conf_matrix, class_report, acc_score)\n",
    "wandb.finish()\n",
    "\n",
    "# Evaluate ensemble on all test data\n",
    "wandb.init(project=\"pipeline-kdd-dataset\", name=\"overall-ensemble\")\n",
    "conf_matrix, class_report, acc_score = evaluate(y_test_df, ensemble_predictions_actual_df, heading='Ensemble Evaluation (for all)')\n",
    "wandb_log(conf_matrix, class_report, acc_score)\n",
    "wandb.finish()"
   ]
  },
  {
   "cell_type": "code",
   "execution_count": null,
   "metadata": {},
   "outputs": [],
   "source": []
  }
 ],
 "metadata": {
  "kernelspec": {
   "display_name": "Python 3 (ipykernel)",
   "language": "python",
   "name": "python3"
  },
  "language_info": {
   "codemirror_mode": {
    "name": "ipython",
    "version": 3
   },
   "file_extension": ".py",
   "mimetype": "text/x-python",
   "name": "python",
   "nbconvert_exporter": "python",
   "pygments_lexer": "ipython3",
   "version": "3.8.18"
  }
 },
 "nbformat": 4,
 "nbformat_minor": 4
}
