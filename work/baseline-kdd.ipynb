{
 "cells": [
  {
   "cell_type": "code",
   "execution_count": 1,
   "id": "a0236b2f-d576-4924-96e8-9eb2c8e85f2e",
   "metadata": {},
   "outputs": [
    {
     "name": "stdout",
     "output_type": "stream",
     "text": [
      "Requirement already satisfied: wandb in /home/brina/miniconda3/envs/gpu/lib/python3.8/site-packages (0.16.4)\n",
      "Requirement already satisfied: Click!=8.0.0,>=7.1 in /home/brina/miniconda3/envs/gpu/lib/python3.8/site-packages (from wandb) (8.1.7)\n",
      "Requirement already satisfied: GitPython!=3.1.29,>=1.0.0 in /home/brina/miniconda3/envs/gpu/lib/python3.8/site-packages (from wandb) (3.1.24)\n",
      "Requirement already satisfied: requests<3,>=2.0.0 in /home/brina/miniconda3/envs/gpu/lib/python3.8/site-packages (from wandb) (2.32.3)\n",
      "Requirement already satisfied: psutil>=5.0.0 in /home/brina/miniconda3/envs/gpu/lib/python3.8/site-packages (from wandb) (5.9.8)\n",
      "Requirement already satisfied: sentry-sdk>=1.0.0 in /home/brina/miniconda3/envs/gpu/lib/python3.8/site-packages (from wandb) (1.43.0)\n",
      "Requirement already satisfied: docker-pycreds>=0.4.0 in /home/brina/miniconda3/envs/gpu/lib/python3.8/site-packages (from wandb) (0.4.0)\n",
      "Requirement already satisfied: PyYAML in /home/brina/miniconda3/envs/gpu/lib/python3.8/site-packages (from wandb) (5.4.1)\n",
      "Requirement already satisfied: setproctitle in /home/brina/miniconda3/envs/gpu/lib/python3.8/site-packages (from wandb) (1.3.3)\n",
      "Requirement already satisfied: setuptools in /home/brina/miniconda3/envs/gpu/lib/python3.8/site-packages (from wandb) (68.2.2)\n",
      "Requirement already satisfied: appdirs>=1.4.3 in /home/brina/miniconda3/envs/gpu/lib/python3.8/site-packages (from wandb) (1.4.4)\n",
      "Requirement already satisfied: typing-extensions in /home/brina/miniconda3/envs/gpu/lib/python3.8/site-packages (from wandb) (4.12.2)\n",
      "Requirement already satisfied: protobuf!=4.21.0,<5,>=3.12.0 in /home/brina/miniconda3/envs/gpu/lib/python3.8/site-packages (from wandb) (3.20.3)\n",
      "Requirement already satisfied: six>=1.4.0 in /home/brina/miniconda3/envs/gpu/lib/python3.8/site-packages (from docker-pycreds>=0.4.0->wandb) (1.15.0)\n",
      "Requirement already satisfied: gitdb<5,>=4.0.1 in /home/brina/miniconda3/envs/gpu/lib/python3.8/site-packages (from GitPython!=3.1.29,>=1.0.0->wandb) (4.0.11)\n",
      "Requirement already satisfied: charset-normalizer<4,>=2 in /home/brina/miniconda3/envs/gpu/lib/python3.8/site-packages (from requests<3,>=2.0.0->wandb) (2.0.12)\n",
      "Requirement already satisfied: idna<4,>=2.5 in /home/brina/miniconda3/envs/gpu/lib/python3.8/site-packages (from requests<3,>=2.0.0->wandb) (3.6)\n",
      "Requirement already satisfied: urllib3<3,>=1.21.1 in /home/brina/miniconda3/envs/gpu/lib/python3.8/site-packages (from requests<3,>=2.0.0->wandb) (1.26.20)\n",
      "Requirement already satisfied: certifi>=2017.4.17 in /home/brina/miniconda3/envs/gpu/lib/python3.8/site-packages (from requests<3,>=2.0.0->wandb) (2024.2.2)\n",
      "Requirement already satisfied: smmap<6,>=3.0.1 in /home/brina/miniconda3/envs/gpu/lib/python3.8/site-packages (from gitdb<5,>=4.0.1->GitPython!=3.1.29,>=1.0.0->wandb) (5.0.1)\n"
     ]
    }
   ],
   "source": [
    "!pip install wandb"
   ]
  },
  {
   "cell_type": "code",
   "execution_count": 1,
   "id": "fcd8ef74-fabc-49fd-a05b-2673a6d224bb",
   "metadata": {},
   "outputs": [],
   "source": [
    "import wandb\n",
    "import numpy as np\n",
    "import pandas as pd\n",
    "import time\n",
    "import matplotlib.pyplot as plt\n",
    "import seaborn as sns\n",
    "from sklearn.model_selection import train_test_split\n",
    "from sklearn.preprocessing import StandardScaler\n",
    "from sklearn.linear_model import LogisticRegression\n",
    "from sklearn.tree import DecisionTreeClassifier\n",
    "from sklearn.ensemble import RandomForestClassifier, GradientBoostingClassifier\n",
    "from sklearn.neighbors import KNeighborsClassifier\n",
    "from sklearn.svm import SVC\n",
    "from sklearn.metrics import classification_report, accuracy_score, confusion_matrix\n",
    "from sklearn.datasets import fetch_covtype"
   ]
  },
  {
   "cell_type": "code",
   "execution_count": 2,
   "id": "a22610f3-599a-4e38-9afc-02fb3146df55",
   "metadata": {},
   "outputs": [
    {
     "name": "stderr",
     "output_type": "stream",
     "text": [
      "\u001b[34m\u001b[1mwandb\u001b[0m: Currently logged in as: \u001b[33mbrinashong\u001b[0m. Use \u001b[1m`wandb login --relogin`\u001b[0m to force relogin\n"
     ]
    },
    {
     "data": {
      "text/plain": [
       "True"
      ]
     },
     "execution_count": 2,
     "metadata": {},
     "output_type": "execute_result"
    }
   ],
   "source": [
    "wandb.login()"
   ]
  },
  {
   "cell_type": "code",
   "execution_count": 3,
   "id": "6efa38a8-1a2c-4734-9441-06e8d68f0b21",
   "metadata": {},
   "outputs": [],
   "source": [
    "%run 'common.ipynb'"
   ]
  },
  {
   "cell_type": "code",
   "execution_count": 4,
   "id": "efc12412-c7f3-4a4b-adb6-2f98a2d05885",
   "metadata": {},
   "outputs": [],
   "source": [
    "# Function to evaluate and print model performance\n",
    "def evaluate_model(model, X_train, y_train, X_test, y_test):\n",
    "    seconds = time.time()\n",
    "    # Train the model\n",
    "    model.fit(X_train, y_train)\n",
    "    training_time = time.time() - seconds\n",
    "    print(\"Train operation time: = \", training_time, \"seconds\")\n",
    "    wandb.log({\"Training time (seconds)\": training_time})\n",
    "    \n",
    "    # Make predictions on the test set\n",
    "    y_pred = model.predict(X_test)\n",
    "    \n",
    "    # Print model evaluation metrics\n",
    "    return evaluate(y_test, y_pred, f\"\\nModel: {model.__class__.__name__}\")"
   ]
  },
  {
   "cell_type": "code",
   "execution_count": 16,
   "id": "c743da3c-33ea-43fa-9c4c-0dfd4d58e661",
   "metadata": {},
   "outputs": [],
   "source": [
    "# Dictionary to store models and their names\n",
    "models = {\n",
    "    \"Logistic Regression\": LogisticRegression(max_iter=1000),\n",
    "    \"Decision Tree\": DecisionTreeClassifier(),\n",
    "    \"Random Forest\": RandomForestClassifier(n_estimators=100, random_state=42),\n",
    "    \"Gradient Boosting\": GradientBoostingClassifier(n_estimators=100, random_state=42),\n",
    "    \"K-Nearest Neighbors\": KNeighborsClassifier(n_neighbors=5),\n",
    "    \"Support Vector Machine (SVM)\": SVC()\n",
    "}"
   ]
  },
  {
   "cell_type": "code",
   "execution_count": 6,
   "id": "70483db2-3224-42ec-903f-50dc54ae433b",
   "metadata": {},
   "outputs": [
    {
     "name": "stdout",
     "output_type": "stream",
     "text": [
      "Normal class:  0    smurf.\n",
      "dtype: object\n",
      "Feature names:  ['duration', 'protocol_type', 'service', 'flag', 'src_bytes', 'dst_bytes', 'land', 'wrong_fragment', 'urgent', 'hot', 'num_failed_logins', 'logged_in', 'num_compromised', 'root_shell', 'su_attempted', 'num_root', 'num_file_creations', 'num_shells', 'num_access_files', 'num_outbound_cmds', 'is_host_login', 'is_guest_login', 'count', 'srv_count', 'serror_rate', 'srv_serror_rate', 'rerror_rate', 'srv_rerror_rate', 'same_srv_rate', 'diff_srv_rate', 'srv_diff_host_rate', 'dst_host_count', 'dst_host_srv_count', 'dst_host_same_srv_rate', 'dst_host_diff_srv_rate', 'dst_host_same_src_port_rate', 'dst_host_srv_diff_host_rate', 'dst_host_serror_rate', 'dst_host_srv_serror_rate', 'dst_host_rerror_rate', 'dst_host_srv_rerror_rate', 'attack']\n",
      "NORMAL_TARGET 16\n",
      "TARGET_DICT {0: 'apache2', 1: 'back', 2: 'buffer_overflow', 3: 'ftp_write', 4: 'guess_passwd', 5: 'httptunnel', 6: 'imap', 7: 'ipsweep', 8: 'land', 9: 'loadmodule', 10: 'mailbomb', 11: 'mscan', 12: 'multihop', 13: 'named', 14: 'neptune', 15: 'nmap', 16: 'normal', 17: 'perl', 18: 'phf', 19: 'pod', 20: 'portsweep', 21: 'processtable', 22: 'ps', 23: 'rootkit', 24: 'saint', 25: 'satan', 26: 'sendmail', 27: 'smurf', 28: 'snmpgetattack', 29: 'snmpguess', 30: 'sqlattack', 31: 'teardrop', 32: 'udpstorm', 33: 'warezmaster', 34: 'worm', 35: 'xlock', 36: 'xsnoop', 37: 'xterm'}\n",
      "['duration', 'protocol_type_icmp', 'protocol_type_tcp', 'protocol_type_udp', 'service_IRC', 'service_X11', 'service_Z39_50', 'service_auth', 'service_bgp', 'service_courier', 'service_csnet_ns', 'service_ctf', 'service_daytime', 'service_discard', 'service_domain', 'service_domain_u', 'service_echo', 'service_eco_i', 'service_ecr_i', 'service_efs', 'service_exec', 'service_finger', 'service_ftp', 'service_ftp_data', 'service_gopher', 'service_hostnames', 'service_http', 'service_http_443', 'service_icmp', 'service_imap4', 'service_iso_tsap', 'service_klogin', 'service_kshell', 'service_ldap', 'service_link', 'service_login', 'service_mtp', 'service_name', 'service_netbios_dgm', 'service_netbios_ns', 'service_netbios_ssn', 'service_netstat', 'service_nnsp', 'service_nntp', 'service_ntp_u', 'service_other', 'service_pm_dump', 'service_pop_2', 'service_pop_3', 'service_printer', 'service_private', 'service_remote_job', 'service_rje', 'service_shell', 'service_smtp', 'service_sql_net', 'service_ssh', 'service_sunrpc', 'service_supdup', 'service_systat', 'service_telnet', 'service_tftp_u', 'service_tim_i', 'service_time', 'service_urp_i', 'service_uucp', 'service_uucp_path', 'service_vmnet', 'service_whois', 'flag_OTH', 'flag_REJ', 'flag_RSTO', 'flag_RSTOS0', 'flag_RSTR', 'flag_S0', 'flag_S1', 'flag_S2', 'flag_S3', 'flag_SF', 'flag_SH', 'src_bytes', 'dst_bytes', 'land', 'wrong_fragment', 'urgent', 'hot', 'num_failed_logins', 'logged_in', 'num_compromised', 'root_shell', 'su_attempted', 'num_root', 'num_file_creations', 'num_shells', 'num_access_files', 'num_outbound_cmds', 'is_host_login', 'is_guest_login', 'count', 'srv_count', 'serror_rate', 'srv_serror_rate', 'rerror_rate', 'srv_rerror_rate', 'same_srv_rate', 'diff_srv_rate', 'srv_diff_host_rate', 'dst_host_count', 'dst_host_srv_count', 'dst_host_same_srv_rate', 'dst_host_diff_srv_rate', 'dst_host_same_src_port_rate', 'dst_host_srv_diff_host_rate', 'dst_host_serror_rate', 'dst_host_srv_serror_rate', 'dst_host_rerror_rate', 'dst_host_srv_rerror_rate', 'attack']\n",
      "main_labels ['duration', 'protocol_type', 'service', 'flag', 'src_bytes', 'dst_bytes', 'land', 'wrong_fragment', 'urgent', 'hot', 'num_failed_logins', 'logged_in', 'num_compromised', 'root_shell', 'su_attempted', 'num_root', 'num_file_creations', 'num_shells', 'num_access_files', 'num_outbound_cmds', 'is_host_login', 'is_guest_login', 'count', 'srv_count', 'serror_rate', 'srv_serror_rate', 'rerror_rate', 'srv_rerror_rate', 'same_srv_rate', 'diff_srv_rate', 'srv_diff_host_rate', 'dst_host_count', 'dst_host_srv_count', 'dst_host_same_srv_rate', 'dst_host_diff_srv_rate', 'dst_host_same_src_port_rate', 'dst_host_srv_diff_host_rate', 'dst_host_serror_rate', 'dst_host_srv_serror_rate', 'dst_host_rerror_rate', 'dst_host_srv_rerror_rate', 'attack']\n"
     ]
    }
   ],
   "source": [
    "%run kdd.ipynb"
   ]
  },
  {
   "cell_type": "code",
   "execution_count": 7,
   "id": "edf7a9cf-d515-4d73-8e61-8b52263499ba",
   "metadata": {},
   "outputs": [
    {
     "data": {
      "text/html": [
       "<div>\n",
       "<style scoped>\n",
       "    .dataframe tbody tr th:only-of-type {\n",
       "        vertical-align: middle;\n",
       "    }\n",
       "\n",
       "    .dataframe tbody tr th {\n",
       "        vertical-align: top;\n",
       "    }\n",
       "\n",
       "    .dataframe thead th {\n",
       "        text-align: right;\n",
       "    }\n",
       "</style>\n",
       "<table border=\"1\" class=\"dataframe\">\n",
       "  <thead>\n",
       "    <tr style=\"text-align: right;\">\n",
       "      <th></th>\n",
       "      <th>duration</th>\n",
       "      <th>protocol_type_icmp</th>\n",
       "      <th>protocol_type_tcp</th>\n",
       "      <th>protocol_type_udp</th>\n",
       "      <th>service_IRC</th>\n",
       "      <th>service_X11</th>\n",
       "      <th>service_Z39_50</th>\n",
       "      <th>service_auth</th>\n",
       "      <th>service_bgp</th>\n",
       "      <th>service_courier</th>\n",
       "      <th>...</th>\n",
       "      <th>dst_host_srv_count</th>\n",
       "      <th>dst_host_same_srv_rate</th>\n",
       "      <th>dst_host_diff_srv_rate</th>\n",
       "      <th>dst_host_same_src_port_rate</th>\n",
       "      <th>dst_host_srv_diff_host_rate</th>\n",
       "      <th>dst_host_serror_rate</th>\n",
       "      <th>dst_host_srv_serror_rate</th>\n",
       "      <th>dst_host_rerror_rate</th>\n",
       "      <th>dst_host_srv_rerror_rate</th>\n",
       "      <th>attack</th>\n",
       "    </tr>\n",
       "  </thead>\n",
       "  <tbody>\n",
       "    <tr>\n",
       "      <th>0</th>\n",
       "      <td>0</td>\n",
       "      <td>0.0</td>\n",
       "      <td>0.0</td>\n",
       "      <td>1.0</td>\n",
       "      <td>0.0</td>\n",
       "      <td>0.0</td>\n",
       "      <td>0.0</td>\n",
       "      <td>0.0</td>\n",
       "      <td>0.0</td>\n",
       "      <td>0.0</td>\n",
       "      <td>...</td>\n",
       "      <td>254</td>\n",
       "      <td>1.0</td>\n",
       "      <td>0.01</td>\n",
       "      <td>0.00</td>\n",
       "      <td>0.0</td>\n",
       "      <td>0.0</td>\n",
       "      <td>0.0</td>\n",
       "      <td>0.0</td>\n",
       "      <td>0.0</td>\n",
       "      <td>16</td>\n",
       "    </tr>\n",
       "    <tr>\n",
       "      <th>1</th>\n",
       "      <td>0</td>\n",
       "      <td>0.0</td>\n",
       "      <td>0.0</td>\n",
       "      <td>1.0</td>\n",
       "      <td>0.0</td>\n",
       "      <td>0.0</td>\n",
       "      <td>0.0</td>\n",
       "      <td>0.0</td>\n",
       "      <td>0.0</td>\n",
       "      <td>0.0</td>\n",
       "      <td>...</td>\n",
       "      <td>254</td>\n",
       "      <td>1.0</td>\n",
       "      <td>0.01</td>\n",
       "      <td>0.00</td>\n",
       "      <td>0.0</td>\n",
       "      <td>0.0</td>\n",
       "      <td>0.0</td>\n",
       "      <td>0.0</td>\n",
       "      <td>0.0</td>\n",
       "      <td>16</td>\n",
       "    </tr>\n",
       "    <tr>\n",
       "      <th>2</th>\n",
       "      <td>0</td>\n",
       "      <td>0.0</td>\n",
       "      <td>0.0</td>\n",
       "      <td>1.0</td>\n",
       "      <td>0.0</td>\n",
       "      <td>0.0</td>\n",
       "      <td>0.0</td>\n",
       "      <td>0.0</td>\n",
       "      <td>0.0</td>\n",
       "      <td>0.0</td>\n",
       "      <td>...</td>\n",
       "      <td>254</td>\n",
       "      <td>1.0</td>\n",
       "      <td>0.01</td>\n",
       "      <td>0.00</td>\n",
       "      <td>0.0</td>\n",
       "      <td>0.0</td>\n",
       "      <td>0.0</td>\n",
       "      <td>0.0</td>\n",
       "      <td>0.0</td>\n",
       "      <td>16</td>\n",
       "    </tr>\n",
       "    <tr>\n",
       "      <th>3</th>\n",
       "      <td>0</td>\n",
       "      <td>0.0</td>\n",
       "      <td>0.0</td>\n",
       "      <td>1.0</td>\n",
       "      <td>0.0</td>\n",
       "      <td>0.0</td>\n",
       "      <td>0.0</td>\n",
       "      <td>0.0</td>\n",
       "      <td>0.0</td>\n",
       "      <td>0.0</td>\n",
       "      <td>...</td>\n",
       "      <td>254</td>\n",
       "      <td>1.0</td>\n",
       "      <td>0.01</td>\n",
       "      <td>0.00</td>\n",
       "      <td>0.0</td>\n",
       "      <td>0.0</td>\n",
       "      <td>0.0</td>\n",
       "      <td>0.0</td>\n",
       "      <td>0.0</td>\n",
       "      <td>28</td>\n",
       "    </tr>\n",
       "    <tr>\n",
       "      <th>4</th>\n",
       "      <td>0</td>\n",
       "      <td>0.0</td>\n",
       "      <td>0.0</td>\n",
       "      <td>1.0</td>\n",
       "      <td>0.0</td>\n",
       "      <td>0.0</td>\n",
       "      <td>0.0</td>\n",
       "      <td>0.0</td>\n",
       "      <td>0.0</td>\n",
       "      <td>0.0</td>\n",
       "      <td>...</td>\n",
       "      <td>254</td>\n",
       "      <td>1.0</td>\n",
       "      <td>0.01</td>\n",
       "      <td>0.01</td>\n",
       "      <td>0.0</td>\n",
       "      <td>0.0</td>\n",
       "      <td>0.0</td>\n",
       "      <td>0.0</td>\n",
       "      <td>0.0</td>\n",
       "      <td>28</td>\n",
       "    </tr>\n",
       "  </tbody>\n",
       "</table>\n",
       "<p>5 rows × 118 columns</p>\n",
       "</div>"
      ],
      "text/plain": [
       "   duration  protocol_type_icmp  protocol_type_tcp  protocol_type_udp  \\\n",
       "0         0                 0.0                0.0                1.0   \n",
       "1         0                 0.0                0.0                1.0   \n",
       "2         0                 0.0                0.0                1.0   \n",
       "3         0                 0.0                0.0                1.0   \n",
       "4         0                 0.0                0.0                1.0   \n",
       "\n",
       "   service_IRC  service_X11  service_Z39_50  service_auth  service_bgp  \\\n",
       "0          0.0          0.0             0.0           0.0          0.0   \n",
       "1          0.0          0.0             0.0           0.0          0.0   \n",
       "2          0.0          0.0             0.0           0.0          0.0   \n",
       "3          0.0          0.0             0.0           0.0          0.0   \n",
       "4          0.0          0.0             0.0           0.0          0.0   \n",
       "\n",
       "   service_courier  ...  dst_host_srv_count  dst_host_same_srv_rate  \\\n",
       "0              0.0  ...                 254                     1.0   \n",
       "1              0.0  ...                 254                     1.0   \n",
       "2              0.0  ...                 254                     1.0   \n",
       "3              0.0  ...                 254                     1.0   \n",
       "4              0.0  ...                 254                     1.0   \n",
       "\n",
       "   dst_host_diff_srv_rate  dst_host_same_src_port_rate  \\\n",
       "0                    0.01                         0.00   \n",
       "1                    0.01                         0.00   \n",
       "2                    0.01                         0.00   \n",
       "3                    0.01                         0.00   \n",
       "4                    0.01                         0.01   \n",
       "\n",
       "   dst_host_srv_diff_host_rate  dst_host_serror_rate  \\\n",
       "0                          0.0                   0.0   \n",
       "1                          0.0                   0.0   \n",
       "2                          0.0                   0.0   \n",
       "3                          0.0                   0.0   \n",
       "4                          0.0                   0.0   \n",
       "\n",
       "   dst_host_srv_serror_rate  dst_host_rerror_rate  dst_host_srv_rerror_rate  \\\n",
       "0                       0.0                   0.0                       0.0   \n",
       "1                       0.0                   0.0                       0.0   \n",
       "2                       0.0                   0.0                       0.0   \n",
       "3                       0.0                   0.0                       0.0   \n",
       "4                       0.0                   0.0                       0.0   \n",
       "\n",
       "   attack  \n",
       "0      16  \n",
       "1      16  \n",
       "2      16  \n",
       "3      28  \n",
       "4      28  \n",
       "\n",
       "[5 rows x 118 columns]"
      ]
     },
     "execution_count": 7,
     "metadata": {},
     "output_type": "execute_result"
    }
   ],
   "source": [
    "# Should already be one hot encoded and label encoded\n",
    "all_df.head()"
   ]
  },
  {
   "cell_type": "code",
   "execution_count": 8,
   "id": "d121a1c5-c0d7-4bf9-89f5-1fb750869eab",
   "metadata": {},
   "outputs": [
    {
     "name": "stdout",
     "output_type": "stream",
     "text": [
      "(248823, 117) (62206, 117) (248823,) (62206,)\n"
     ]
    }
   ],
   "source": [
    "# Get X and y from all_df\n",
    "X_df = all_df.drop(columns=[TARGET_COLUMN])\n",
    "y_df = all_df[TARGET_COLUMN]\n",
    "\n",
    "# Split the data into training and testing sets (80% train, 20% test)\n",
    "X_train_df, X_test_df, y_train_df, y_test_df = train_test_split(X_df, y_df, test_size=0.2, random_state=42)\n",
    "print(X_train_df.shape, X_test_df.shape, y_train_df.shape, y_test_df.shape)"
   ]
  },
  {
   "cell_type": "code",
   "execution_count": 9,
   "id": "5c10230c-c0d7-46e7-bbbe-df0a40106c56",
   "metadata": {},
   "outputs": [],
   "source": [
    "# Scale the features (required for some models, especially SVM)\n",
    "scaler = StandardScaler()\n",
    "\n",
    "X_train_scaled_df = X_train_df.copy()\n",
    "X_train_scaled_df[NUMERICAL_COLUMNS] = scaler.fit_transform(X_train_scaled_df[NUMERICAL_COLUMNS])\n",
    "\n",
    "X_test_scaled_df = X_test_df.copy()\n",
    "X_test_scaled_df[NUMERICAL_COLUMNS] = scaler.transform(X_test_scaled_df[NUMERICAL_COLUMNS])"
   ]
  },
  {
   "cell_type": "code",
   "execution_count": 17,
   "id": "466e05c2-ec47-4f67-8716-9197a9e687f4",
   "metadata": {},
   "outputs": [
    {
     "data": {
      "text/html": [
       "wandb version 0.18.3 is available!  To upgrade, please run:\n",
       " $ pip install wandb --upgrade"
      ],
      "text/plain": [
       "<IPython.core.display.HTML object>"
      ]
     },
     "metadata": {},
     "output_type": "display_data"
    },
    {
     "data": {
      "text/html": [
       "Tracking run with wandb version 0.16.4"
      ],
      "text/plain": [
       "<IPython.core.display.HTML object>"
      ]
     },
     "metadata": {},
     "output_type": "display_data"
    },
    {
     "data": {
      "text/html": [
       "Run data is saved locally in <code>/home/brina/nus-mcomp/sem2/cs5344-big-data-analytics-technology/CS5344_Project/work/wandb/run-20241006_230246-mtqv9wau</code>"
      ],
      "text/plain": [
       "<IPython.core.display.HTML object>"
      ]
     },
     "metadata": {},
     "output_type": "display_data"
    },
    {
     "data": {
      "text/html": [
       "Syncing run <strong><a href='https://wandb.ai/brinashong/ML-model-baselines-kdd-dataset/runs/mtqv9wau' target=\"_blank\">Logistic Regression</a></strong> to <a href='https://wandb.ai/brinashong/ML-model-baselines-kdd-dataset' target=\"_blank\">Weights & Biases</a> (<a href='https://wandb.me/run' target=\"_blank\">docs</a>)<br/>"
      ],
      "text/plain": [
       "<IPython.core.display.HTML object>"
      ]
     },
     "metadata": {},
     "output_type": "display_data"
    },
    {
     "data": {
      "text/html": [
       " View project at <a href='https://wandb.ai/brinashong/ML-model-baselines-kdd-dataset' target=\"_blank\">https://wandb.ai/brinashong/ML-model-baselines-kdd-dataset</a>"
      ],
      "text/plain": [
       "<IPython.core.display.HTML object>"
      ]
     },
     "metadata": {},
     "output_type": "display_data"
    },
    {
     "data": {
      "text/html": [
       " View run at <a href='https://wandb.ai/brinashong/ML-model-baselines-kdd-dataset/runs/mtqv9wau' target=\"_blank\">https://wandb.ai/brinashong/ML-model-baselines-kdd-dataset/runs/mtqv9wau</a>"
      ],
      "text/plain": [
       "<IPython.core.display.HTML object>"
      ]
     },
     "metadata": {},
     "output_type": "display_data"
    },
    {
     "name": "stderr",
     "output_type": "stream",
     "text": [
      "/home/brina/miniconda3/envs/gpu/lib/python3.8/site-packages/sklearn/linear_model/_logistic.py:460: ConvergenceWarning: lbfgs failed to converge (status=1):\n",
      "STOP: TOTAL NO. of ITERATIONS REACHED LIMIT.\n",
      "\n",
      "Increase the number of iterations (max_iter) or scale the data as shown in:\n",
      "    https://scikit-learn.org/stable/modules/preprocessing.html\n",
      "Please also refer to the documentation for alternative solver options:\n",
      "    https://scikit-learn.org/stable/modules/linear_model.html#logistic-regression\n",
      "  n_iter_i = _check_optimize_result(\n",
      "/home/brina/miniconda3/envs/gpu/lib/python3.8/site-packages/sklearn/metrics/_classification.py:1471: UndefinedMetricWarning: Precision and F-score are ill-defined and being set to 0.0 in labels with no predicted samples. Use `zero_division` parameter to control this behavior.\n",
      "  _warn_prf(average, modifier, msg_start, len(result))\n",
      "/home/brina/miniconda3/envs/gpu/lib/python3.8/site-packages/sklearn/metrics/_classification.py:1471: UndefinedMetricWarning: Recall and F-score are ill-defined and being set to 0.0 in labels with no true samples. Use `zero_division` parameter to control this behavior.\n",
      "  _warn_prf(average, modifier, msg_start, len(result))\n",
      "/home/brina/miniconda3/envs/gpu/lib/python3.8/site-packages/sklearn/metrics/_classification.py:1471: UndefinedMetricWarning: Precision and F-score are ill-defined and being set to 0.0 in labels with no predicted samples. Use `zero_division` parameter to control this behavior.\n",
      "  _warn_prf(average, modifier, msg_start, len(result))\n",
      "/home/brina/miniconda3/envs/gpu/lib/python3.8/site-packages/sklearn/metrics/_classification.py:1471: UndefinedMetricWarning: Recall and F-score are ill-defined and being set to 0.0 in labels with no true samples. Use `zero_division` parameter to control this behavior.\n",
      "  _warn_prf(average, modifier, msg_start, len(result))\n",
      "/home/brina/miniconda3/envs/gpu/lib/python3.8/site-packages/sklearn/metrics/_classification.py:1471: UndefinedMetricWarning: Precision and F-score are ill-defined and being set to 0.0 in labels with no predicted samples. Use `zero_division` parameter to control this behavior.\n",
      "  _warn_prf(average, modifier, msg_start, len(result))\n",
      "/home/brina/miniconda3/envs/gpu/lib/python3.8/site-packages/sklearn/metrics/_classification.py:1471: UndefinedMetricWarning: Recall and F-score are ill-defined and being set to 0.0 in labels with no true samples. Use `zero_division` parameter to control this behavior.\n",
      "  _warn_prf(average, modifier, msg_start, len(result))\n",
      "/home/brina/miniconda3/envs/gpu/lib/python3.8/site-packages/sklearn/metrics/_classification.py:1471: UndefinedMetricWarning: Precision and F-score are ill-defined and being set to 0.0 in labels with no predicted samples. Use `zero_division` parameter to control this behavior.\n",
      "  _warn_prf(average, modifier, msg_start, len(result))\n",
      "/home/brina/miniconda3/envs/gpu/lib/python3.8/site-packages/sklearn/metrics/_classification.py:1471: UndefinedMetricWarning: Recall and F-score are ill-defined and being set to 0.0 in labels with no true samples. Use `zero_division` parameter to control this behavior.\n",
      "  _warn_prf(average, modifier, msg_start, len(result))\n",
      "/home/brina/miniconda3/envs/gpu/lib/python3.8/site-packages/sklearn/metrics/_classification.py:1471: UndefinedMetricWarning: Precision and F-score are ill-defined and being set to 0.0 in labels with no predicted samples. Use `zero_division` parameter to control this behavior.\n",
      "  _warn_prf(average, modifier, msg_start, len(result))\n",
      "/home/brina/miniconda3/envs/gpu/lib/python3.8/site-packages/sklearn/metrics/_classification.py:1471: UndefinedMetricWarning: Recall and F-score are ill-defined and being set to 0.0 in labels with no true samples. Use `zero_division` parameter to control this behavior.\n",
      "  _warn_prf(average, modifier, msg_start, len(result))\n",
      "/home/brina/miniconda3/envs/gpu/lib/python3.8/site-packages/sklearn/metrics/_classification.py:1471: UndefinedMetricWarning: Precision and F-score are ill-defined and being set to 0.0 in labels with no predicted samples. Use `zero_division` parameter to control this behavior.\n",
      "  _warn_prf(average, modifier, msg_start, len(result))\n",
      "/home/brina/miniconda3/envs/gpu/lib/python3.8/site-packages/sklearn/metrics/_classification.py:1471: UndefinedMetricWarning: Recall and F-score are ill-defined and being set to 0.0 in labels with no true samples. Use `zero_division` parameter to control this behavior.\n",
      "  _warn_prf(average, modifier, msg_start, len(result))\n"
     ]
    },
    {
     "name": "stdout",
     "output_type": "stream",
     "text": [
      "Train operation time: =  297.9739234447479 seconds\n",
      "\n",
      "Model: LogisticRegression\n",
      "Confusion Matrix:\n",
      "[[181   0   0 ...   0   0   0]\n",
      " [  0 217   0 ...   0   0   0]\n",
      " [  0   0   1 ...   0   0   0]\n",
      " ...\n",
      " [  0   0   0 ...   0   0   0]\n",
      " [  0   0   0 ...   0   0   0]\n",
      " [  0   0   0 ...   0   0   1]]\n",
      "\n",
      "Classification Report:\n",
      "{'0': {'precision': 1.0, 'recall': 1.0, 'f1-score': 1.0, 'support': 181.0}, '1': {'precision': 0.9774774774774775, 'recall': 0.9819004524886877, 'f1-score': 0.9796839729119639, 'support': 221.0}, '2': {'precision': 0.25, 'recall': 0.3333333333333333, 'f1-score': 0.28571428571428575, 'support': 3.0}, '4': {'precision': 0.9966666666666667, 'recall': 1.0, 'f1-score': 0.9983305509181971, 'support': 897.0}, '5': {'precision': 1.0, 'recall': 0.9259259259259259, 'f1-score': 0.9615384615384615, 'support': 27.0}, '7': {'precision': 0.9649122807017544, 'recall': 0.9821428571428571, 'f1-score': 0.9734513274336283, 'support': 56.0}, '9': {'precision': 0.0, 'recall': 0.0, 'f1-score': 0.0, 'support': 0.0}, '10': {'precision': 0.9927760577915377, 'recall': 1.0, 'f1-score': 0.9963749352667012, 'support': 962.0}, '11': {'precision': 1.0, 'recall': 0.9951923076923077, 'f1-score': 0.9975903614457832, 'support': 208.0}, '12': {'precision': 0.0, 'recall': 0.0, 'f1-score': 0.0, 'support': 2.0}, '13': {'precision': 0.0, 'recall': 0.0, 'f1-score': 0.0, 'support': 1.0}, '14': {'precision': 0.9999149225795474, 'recall': 0.9997448111602586, 'f1-score': 0.9998298596341982, 'support': 11756.0}, '15': {'precision': 1.0, 'recall': 1.0, 'f1-score': 1.0, 'support': 15.0}, '16': {'precision': 0.867930029154519, 'recall': 0.9920026657780739, 'f1-score': 0.9258280205255792, 'support': 12004.0}, '17': {'precision': 0.0, 'recall': 0.0, 'f1-score': 0.0, 'support': 1.0}, '19': {'precision': 1.0, 'recall': 0.9444444444444444, 'f1-score': 0.9714285714285714, 'support': 18.0}, '20': {'precision': 0.9508196721311475, 'recall': 0.8923076923076924, 'f1-score': 0.9206349206349206, 'support': 65.0}, '21': {'precision': 1.0, 'recall': 1.0, 'f1-score': 1.0, 'support': 149.0}, '22': {'precision': 0.0, 'recall': 0.0, 'f1-score': 0.0, 'support': 7.0}, '23': {'precision': 0.0, 'recall': 0.0, 'f1-score': 0.0, 'support': 4.0}, '24': {'precision': 0.8275862068965517, 'recall': 0.1702127659574468, 'f1-score': 0.2823529411764706, 'support': 141.0}, '25': {'precision': 0.7130242825607064, 'recall': 0.9847560975609756, 'f1-score': 0.8271446862996158, 'support': 328.0}, '26': {'precision': 0.0, 'recall': 0.0, 'f1-score': 0.0, 'support': 0.0}, '27': {'precision': 1.0, 'recall': 0.9999695168419448, 'f1-score': 0.9999847581886631, 'support': 32805.0}, '28': {'precision': 0.0, 'recall': 0.0, 'f1-score': 0.0, 'support': 1550.0}, '29': {'precision': 0.8493589743589743, 'recall': 0.5578947368421052, 'f1-score': 0.6734434561626429, 'support': 475.0}, '30': {'precision': 0.0, 'recall': 0.0, 'f1-score': 0.0, 'support': 0.0}, '31': {'precision': 0.0, 'recall': 0.0, 'f1-score': 0.0, 'support': 0.0}, '32': {'precision': 0.0, 'recall': 0.0, 'f1-score': 0.0, 'support': 1.0}, '33': {'precision': 0.9589905362776026, 'recall': 0.9382716049382716, 'f1-score': 0.9485179407176286, 'support': 324.0}, '35': {'precision': 0.0, 'recall': 0.0, 'f1-score': 0.0, 'support': 1.0}, '36': {'precision': 0.0, 'recall': 0.0, 'f1-score': 0.0, 'support': 1.0}, '37': {'precision': 1.0, 'recall': 0.3333333333333333, 'f1-score': 0.5, 'support': 3.0}, 'accuracy': 0.9672057357811144, 'macro avg': {'precision': 0.556044154745348, 'recall': 0.5161040165378079, 'f1-score': 0.5224802742423428, 'support': 62206.0}, 'weighted avg': {'precision': 0.9456647818983475, 'recall': 0.9672057357811144, 'f1-score': 0.9547896206440875, 'support': 62206.0}}\n",
      "Accuracy: 0.9672057357811144\n"
     ]
    },
    {
     "data": {
      "application/vnd.jupyter.widget-view+json": {
       "model_id": "",
       "version_major": 2,
       "version_minor": 0
      },
      "text/plain": [
       "VBox(children=(Label(value='0.013 MB of 0.017 MB uploaded\\r'), FloatProgress(value=0.7989043597352202, max=1.0…"
      ]
     },
     "metadata": {},
     "output_type": "display_data"
    },
    {
     "data": {
      "text/html": [
       "<style>\n",
       "    table.wandb td:nth-child(1) { padding: 0 10px; text-align: left ; width: auto;} td:nth-child(2) {text-align: left ; width: 100%}\n",
       "    .wandb-row { display: flex; flex-direction: row; flex-wrap: wrap; justify-content: flex-start; width: 100% }\n",
       "    .wandb-col { display: flex; flex-direction: column; flex-basis: 100%; flex: 1; padding: 10px; }\n",
       "    </style>\n",
       "<div class=\"wandb-row\"><div class=\"wandb-col\"><h3>Run history:</h3><br/><table class=\"wandb\"><tr><td>Accuracy Score</td><td>▁</td></tr><tr><td>Training time (seconds)</td><td>▁</td></tr><tr><td>f1-score_avg</td><td>▁</td></tr><tr><td>precision_avg</td><td>▁</td></tr><tr><td>recall_avg</td><td>▁</td></tr></table><br/></div><div class=\"wandb-col\"><h3>Run summary:</h3><br/><table class=\"wandb\"><tr><td>Accuracy Score</td><td>0.96721</td></tr><tr><td>Training time (seconds)</td><td>297.97392</td></tr><tr><td>f1-score_avg</td><td>0.95479</td></tr><tr><td>precision_avg</td><td>0.94566</td></tr><tr><td>recall_avg</td><td>0.96721</td></tr></table><br/></div></div>"
      ],
      "text/plain": [
       "<IPython.core.display.HTML object>"
      ]
     },
     "metadata": {},
     "output_type": "display_data"
    },
    {
     "data": {
      "text/html": [
       " View run <strong style=\"color:#cdcd00\">Logistic Regression</strong> at: <a href='https://wandb.ai/brinashong/ML-model-baselines-kdd-dataset/runs/mtqv9wau' target=\"_blank\">https://wandb.ai/brinashong/ML-model-baselines-kdd-dataset/runs/mtqv9wau</a><br/> View job at <a href='https://wandb.ai/brinashong/ML-model-baselines-kdd-dataset/jobs/QXJ0aWZhY3RDb2xsZWN0aW9uOjQ2Njc4OTc0Nw==/version_details/v0' target=\"_blank\">https://wandb.ai/brinashong/ML-model-baselines-kdd-dataset/jobs/QXJ0aWZhY3RDb2xsZWN0aW9uOjQ2Njc4OTc0Nw==/version_details/v0</a><br/>Synced 6 W&B file(s), 2 media file(s), 4 artifact file(s) and 0 other file(s)"
      ],
      "text/plain": [
       "<IPython.core.display.HTML object>"
      ]
     },
     "metadata": {},
     "output_type": "display_data"
    },
    {
     "data": {
      "text/html": [
       "Find logs at: <code>./wandb/run-20241006_230246-mtqv9wau/logs</code>"
      ],
      "text/plain": [
       "<IPython.core.display.HTML object>"
      ]
     },
     "metadata": {},
     "output_type": "display_data"
    },
    {
     "data": {
      "application/vnd.jupyter.widget-view+json": {
       "model_id": "ba4eddeac8044a2fae820e443a6c6754",
       "version_major": 2,
       "version_minor": 0
      },
      "text/plain": [
       "VBox(children=(Label(value='Waiting for wandb.init()...\\r'), FloatProgress(value=0.011119160322212135, max=1.0…"
      ]
     },
     "metadata": {},
     "output_type": "display_data"
    },
    {
     "data": {
      "text/html": [
       "wandb version 0.18.3 is available!  To upgrade, please run:\n",
       " $ pip install wandb --upgrade"
      ],
      "text/plain": [
       "<IPython.core.display.HTML object>"
      ]
     },
     "metadata": {},
     "output_type": "display_data"
    },
    {
     "data": {
      "text/html": [
       "Tracking run with wandb version 0.16.4"
      ],
      "text/plain": [
       "<IPython.core.display.HTML object>"
      ]
     },
     "metadata": {},
     "output_type": "display_data"
    },
    {
     "data": {
      "text/html": [
       "Run data is saved locally in <code>/home/brina/nus-mcomp/sem2/cs5344-big-data-analytics-technology/CS5344_Project/work/wandb/run-20241006_230805-7k30425a</code>"
      ],
      "text/plain": [
       "<IPython.core.display.HTML object>"
      ]
     },
     "metadata": {},
     "output_type": "display_data"
    },
    {
     "data": {
      "text/html": [
       "Syncing run <strong><a href='https://wandb.ai/brinashong/ML-model-baselines-kdd-dataset/runs/7k30425a' target=\"_blank\">Decision Tree</a></strong> to <a href='https://wandb.ai/brinashong/ML-model-baselines-kdd-dataset' target=\"_blank\">Weights & Biases</a> (<a href='https://wandb.me/run' target=\"_blank\">docs</a>)<br/>"
      ],
      "text/plain": [
       "<IPython.core.display.HTML object>"
      ]
     },
     "metadata": {},
     "output_type": "display_data"
    },
    {
     "data": {
      "text/html": [
       " View project at <a href='https://wandb.ai/brinashong/ML-model-baselines-kdd-dataset' target=\"_blank\">https://wandb.ai/brinashong/ML-model-baselines-kdd-dataset</a>"
      ],
      "text/plain": [
       "<IPython.core.display.HTML object>"
      ]
     },
     "metadata": {},
     "output_type": "display_data"
    },
    {
     "data": {
      "text/html": [
       " View run at <a href='https://wandb.ai/brinashong/ML-model-baselines-kdd-dataset/runs/7k30425a' target=\"_blank\">https://wandb.ai/brinashong/ML-model-baselines-kdd-dataset/runs/7k30425a</a>"
      ],
      "text/plain": [
       "<IPython.core.display.HTML object>"
      ]
     },
     "metadata": {},
     "output_type": "display_data"
    },
    {
     "name": "stdout",
     "output_type": "stream",
     "text": [
      "Train operation time: =  0.6720561981201172 seconds\n",
      "\n",
      "Model: DecisionTreeClassifier\n",
      "Confusion Matrix:\n",
      "[[181   0   0 ...   0   0   0]\n",
      " [  0 220   0 ...   0   0   0]\n",
      " [  0   0   2 ...   0   0   0]\n",
      " ...\n",
      " [  0   0   0 ...   0   0   0]\n",
      " [  0   0   0 ...   0   0   0]\n",
      " [  0   0   0 ...   0   0   1]]\n",
      "\n",
      "Classification Report:\n",
      "{'0': {'precision': 0.9890710382513661, 'recall': 1.0, 'f1-score': 0.9945054945054945, 'support': 181.0}, '1': {'precision': 0.995475113122172, 'recall': 0.995475113122172, 'f1-score': 0.995475113122172, 'support': 221.0}, '2': {'precision': 0.6666666666666666, 'recall': 0.6666666666666666, 'f1-score': 0.6666666666666666, 'support': 3.0}, '4': {'precision': 0.9966592427616926, 'recall': 0.9977703455964325, 'f1-score': 0.9972144846796657, 'support': 897.0}, '5': {'precision': 1.0, 'recall': 0.8888888888888888, 'f1-score': 0.9411764705882353, 'support': 27.0}, '7': {'precision': 1.0, 'recall': 1.0, 'f1-score': 1.0, 'support': 56.0}, '9': {'precision': 0.0, 'recall': 0.0, 'f1-score': 0.0, 'support': 0.0}, '10': {'precision': 1.0, 'recall': 1.0, 'f1-score': 1.0, 'support': 962.0}, '11': {'precision': 1.0, 'recall': 0.9903846153846154, 'f1-score': 0.9951690821256038, 'support': 208.0}, '12': {'precision': 0.0, 'recall': 0.0, 'f1-score': 0.0, 'support': 2.0}, '13': {'precision': 0.25, 'recall': 1.0, 'f1-score': 0.4, 'support': 1.0}, '14': {'precision': 0.9995748660828161, 'recall': 1.0, 'f1-score': 0.9997873878470893, 'support': 11756.0}, '15': {'precision': 1.0, 'recall': 1.0, 'f1-score': 1.0, 'support': 15.0}, '16': {'precision': 0.9522417967771563, 'recall': 0.9500999666777741, 'f1-score': 0.9511696759934949, 'support': 12004.0}, '17': {'precision': 0.0, 'recall': 0.0, 'f1-score': 0.0, 'support': 1.0}, '19': {'precision': 1.0, 'recall': 0.9444444444444444, 'f1-score': 0.9714285714285714, 'support': 18.0}, '20': {'precision': 0.984375, 'recall': 0.9692307692307692, 'f1-score': 0.9767441860465116, 'support': 65.0}, '21': {'precision': 1.0, 'recall': 1.0, 'f1-score': 1.0, 'support': 149.0}, '22': {'precision': 0.5, 'recall': 0.14285714285714285, 'f1-score': 0.22222222222222224, 'support': 7.0}, '23': {'precision': 0.2, 'recall': 0.25, 'f1-score': 0.22222222222222224, 'support': 4.0}, '24': {'precision': 0.9370629370629371, 'recall': 0.950354609929078, 'f1-score': 0.943661971830986, 'support': 141.0}, '25': {'precision': 0.9696048632218845, 'recall': 0.9725609756097561, 'f1-score': 0.9710806697108066, 'support': 328.0}, '26': {'precision': 0.0, 'recall': 0.0, 'f1-score': 0.0, 'support': 0.0}, '27': {'precision': 1.0, 'recall': 1.0, 'f1-score': 1.0, 'support': 32805.0}, '28': {'precision': 0.6335877862595419, 'recall': 0.6425806451612903, 'f1-score': 0.6380525304292121, 'support': 1550.0}, '29': {'precision': 0.9978991596638656, 'recall': 1.0, 'f1-score': 0.9989484752891693, 'support': 475.0}, '31': {'precision': 0.0, 'recall': 0.0, 'f1-score': 0.0, 'support': 0.0}, '32': {'precision': 0.0, 'recall': 0.0, 'f1-score': 0.0, 'support': 1.0}, '33': {'precision': 0.99375, 'recall': 0.9814814814814815, 'f1-score': 0.9875776397515528, 'support': 324.0}, '34': {'precision': 0.0, 'recall': 0.0, 'f1-score': 0.0, 'support': 0.0}, '35': {'precision': 0.0, 'recall': 0.0, 'f1-score': 0.0, 'support': 1.0}, '36': {'precision': 0.0, 'recall': 0.0, 'f1-score': 0.0, 'support': 1.0}, '37': {'precision': 0.5, 'recall': 0.3333333333333333, 'f1-score': 0.4, 'support': 3.0}, 'accuracy': 0.9806449538629715, 'macro avg': {'precision': 0.6232111657536394, 'recall': 0.6265493635873892, 'f1-score': 0.6143364504381719, 'support': 62206.0}, 'weighted avg': {'precision': 0.9808534010653085, 'recall': 0.9806449538629715, 'f1-score': 0.9807301799654549, 'support': 62206.0}}\n",
      "Accuracy: 0.9806449538629715\n"
     ]
    },
    {
     "name": "stderr",
     "output_type": "stream",
     "text": [
      "/home/brina/miniconda3/envs/gpu/lib/python3.8/site-packages/sklearn/metrics/_classification.py:1471: UndefinedMetricWarning: Precision and F-score are ill-defined and being set to 0.0 in labels with no predicted samples. Use `zero_division` parameter to control this behavior.\n",
      "  _warn_prf(average, modifier, msg_start, len(result))\n",
      "/home/brina/miniconda3/envs/gpu/lib/python3.8/site-packages/sklearn/metrics/_classification.py:1471: UndefinedMetricWarning: Recall and F-score are ill-defined and being set to 0.0 in labels with no true samples. Use `zero_division` parameter to control this behavior.\n",
      "  _warn_prf(average, modifier, msg_start, len(result))\n",
      "/home/brina/miniconda3/envs/gpu/lib/python3.8/site-packages/sklearn/metrics/_classification.py:1471: UndefinedMetricWarning: Precision and F-score are ill-defined and being set to 0.0 in labels with no predicted samples. Use `zero_division` parameter to control this behavior.\n",
      "  _warn_prf(average, modifier, msg_start, len(result))\n",
      "/home/brina/miniconda3/envs/gpu/lib/python3.8/site-packages/sklearn/metrics/_classification.py:1471: UndefinedMetricWarning: Recall and F-score are ill-defined and being set to 0.0 in labels with no true samples. Use `zero_division` parameter to control this behavior.\n",
      "  _warn_prf(average, modifier, msg_start, len(result))\n",
      "/home/brina/miniconda3/envs/gpu/lib/python3.8/site-packages/sklearn/metrics/_classification.py:1471: UndefinedMetricWarning: Precision and F-score are ill-defined and being set to 0.0 in labels with no predicted samples. Use `zero_division` parameter to control this behavior.\n",
      "  _warn_prf(average, modifier, msg_start, len(result))\n",
      "/home/brina/miniconda3/envs/gpu/lib/python3.8/site-packages/sklearn/metrics/_classification.py:1471: UndefinedMetricWarning: Recall and F-score are ill-defined and being set to 0.0 in labels with no true samples. Use `zero_division` parameter to control this behavior.\n",
      "  _warn_prf(average, modifier, msg_start, len(result))\n",
      "/home/brina/miniconda3/envs/gpu/lib/python3.8/site-packages/sklearn/metrics/_classification.py:1471: UndefinedMetricWarning: Precision and F-score are ill-defined and being set to 0.0 in labels with no predicted samples. Use `zero_division` parameter to control this behavior.\n",
      "  _warn_prf(average, modifier, msg_start, len(result))\n",
      "/home/brina/miniconda3/envs/gpu/lib/python3.8/site-packages/sklearn/metrics/_classification.py:1471: UndefinedMetricWarning: Recall and F-score are ill-defined and being set to 0.0 in labels with no true samples. Use `zero_division` parameter to control this behavior.\n",
      "  _warn_prf(average, modifier, msg_start, len(result))\n",
      "/home/brina/miniconda3/envs/gpu/lib/python3.8/site-packages/sklearn/metrics/_classification.py:1471: UndefinedMetricWarning: Precision and F-score are ill-defined and being set to 0.0 in labels with no predicted samples. Use `zero_division` parameter to control this behavior.\n",
      "  _warn_prf(average, modifier, msg_start, len(result))\n",
      "/home/brina/miniconda3/envs/gpu/lib/python3.8/site-packages/sklearn/metrics/_classification.py:1471: UndefinedMetricWarning: Recall and F-score are ill-defined and being set to 0.0 in labels with no true samples. Use `zero_division` parameter to control this behavior.\n",
      "  _warn_prf(average, modifier, msg_start, len(result))\n",
      "/home/brina/miniconda3/envs/gpu/lib/python3.8/site-packages/sklearn/metrics/_classification.py:1471: UndefinedMetricWarning: Precision and F-score are ill-defined and being set to 0.0 in labels with no predicted samples. Use `zero_division` parameter to control this behavior.\n",
      "  _warn_prf(average, modifier, msg_start, len(result))\n",
      "/home/brina/miniconda3/envs/gpu/lib/python3.8/site-packages/sklearn/metrics/_classification.py:1471: UndefinedMetricWarning: Recall and F-score are ill-defined and being set to 0.0 in labels with no true samples. Use `zero_division` parameter to control this behavior.\n",
      "  _warn_prf(average, modifier, msg_start, len(result))\n"
     ]
    },
    {
     "data": {
      "application/vnd.jupyter.widget-view+json": {
       "model_id": "",
       "version_major": 2,
       "version_minor": 0
      },
      "text/plain": [
       "VBox(children=(Label(value='0.013 MB of 0.017 MB uploaded\\r'), FloatProgress(value=0.7988, max=1.0)))"
      ]
     },
     "metadata": {},
     "output_type": "display_data"
    },
    {
     "data": {
      "text/html": [
       "<style>\n",
       "    table.wandb td:nth-child(1) { padding: 0 10px; text-align: left ; width: auto;} td:nth-child(2) {text-align: left ; width: 100%}\n",
       "    .wandb-row { display: flex; flex-direction: row; flex-wrap: wrap; justify-content: flex-start; width: 100% }\n",
       "    .wandb-col { display: flex; flex-direction: column; flex-basis: 100%; flex: 1; padding: 10px; }\n",
       "    </style>\n",
       "<div class=\"wandb-row\"><div class=\"wandb-col\"><h3>Run history:</h3><br/><table class=\"wandb\"><tr><td>Accuracy Score</td><td>▁</td></tr><tr><td>Training time (seconds)</td><td>▁</td></tr><tr><td>f1-score_avg</td><td>▁</td></tr><tr><td>precision_avg</td><td>▁</td></tr><tr><td>recall_avg</td><td>▁</td></tr></table><br/></div><div class=\"wandb-col\"><h3>Run summary:</h3><br/><table class=\"wandb\"><tr><td>Accuracy Score</td><td>0.98064</td></tr><tr><td>Training time (seconds)</td><td>0.67206</td></tr><tr><td>f1-score_avg</td><td>0.98073</td></tr><tr><td>precision_avg</td><td>0.98085</td></tr><tr><td>recall_avg</td><td>0.98064</td></tr></table><br/></div></div>"
      ],
      "text/plain": [
       "<IPython.core.display.HTML object>"
      ]
     },
     "metadata": {},
     "output_type": "display_data"
    },
    {
     "data": {
      "text/html": [
       " View run <strong style=\"color:#cdcd00\">Decision Tree</strong> at: <a href='https://wandb.ai/brinashong/ML-model-baselines-kdd-dataset/runs/7k30425a' target=\"_blank\">https://wandb.ai/brinashong/ML-model-baselines-kdd-dataset/runs/7k30425a</a><br/> View job at <a href='https://wandb.ai/brinashong/ML-model-baselines-kdd-dataset/jobs/QXJ0aWZhY3RDb2xsZWN0aW9uOjQ2Njc4OTc0Nw==/version_details/v0' target=\"_blank\">https://wandb.ai/brinashong/ML-model-baselines-kdd-dataset/jobs/QXJ0aWZhY3RDb2xsZWN0aW9uOjQ2Njc4OTc0Nw==/version_details/v0</a><br/>Synced 6 W&B file(s), 2 media file(s), 2 artifact file(s) and 0 other file(s)"
      ],
      "text/plain": [
       "<IPython.core.display.HTML object>"
      ]
     },
     "metadata": {},
     "output_type": "display_data"
    },
    {
     "data": {
      "text/html": [
       "Find logs at: <code>./wandb/run-20241006_230805-7k30425a/logs</code>"
      ],
      "text/plain": [
       "<IPython.core.display.HTML object>"
      ]
     },
     "metadata": {},
     "output_type": "display_data"
    },
    {
     "data": {
      "application/vnd.jupyter.widget-view+json": {
       "model_id": "bb9df934f82e4ad6bd7d5c2adee1865c",
       "version_major": 2,
       "version_minor": 0
      },
      "text/plain": [
       "VBox(children=(Label(value='Waiting for wandb.init()...\\r'), FloatProgress(value=0.011117883066658073, max=1.0…"
      ]
     },
     "metadata": {},
     "output_type": "display_data"
    },
    {
     "data": {
      "text/html": [
       "wandb version 0.18.3 is available!  To upgrade, please run:\n",
       " $ pip install wandb --upgrade"
      ],
      "text/plain": [
       "<IPython.core.display.HTML object>"
      ]
     },
     "metadata": {},
     "output_type": "display_data"
    },
    {
     "data": {
      "text/html": [
       "Tracking run with wandb version 0.16.4"
      ],
      "text/plain": [
       "<IPython.core.display.HTML object>"
      ]
     },
     "metadata": {},
     "output_type": "display_data"
    },
    {
     "data": {
      "text/html": [
       "Run data is saved locally in <code>/home/brina/nus-mcomp/sem2/cs5344-big-data-analytics-technology/CS5344_Project/work/wandb/run-20241006_230826-my3ug396</code>"
      ],
      "text/plain": [
       "<IPython.core.display.HTML object>"
      ]
     },
     "metadata": {},
     "output_type": "display_data"
    },
    {
     "data": {
      "text/html": [
       "Syncing run <strong><a href='https://wandb.ai/brinashong/ML-model-baselines-kdd-dataset/runs/my3ug396' target=\"_blank\">Random Forest</a></strong> to <a href='https://wandb.ai/brinashong/ML-model-baselines-kdd-dataset' target=\"_blank\">Weights & Biases</a> (<a href='https://wandb.me/run' target=\"_blank\">docs</a>)<br/>"
      ],
      "text/plain": [
       "<IPython.core.display.HTML object>"
      ]
     },
     "metadata": {},
     "output_type": "display_data"
    },
    {
     "data": {
      "text/html": [
       " View project at <a href='https://wandb.ai/brinashong/ML-model-baselines-kdd-dataset' target=\"_blank\">https://wandb.ai/brinashong/ML-model-baselines-kdd-dataset</a>"
      ],
      "text/plain": [
       "<IPython.core.display.HTML object>"
      ]
     },
     "metadata": {},
     "output_type": "display_data"
    },
    {
     "data": {
      "text/html": [
       " View run at <a href='https://wandb.ai/brinashong/ML-model-baselines-kdd-dataset/runs/my3ug396' target=\"_blank\">https://wandb.ai/brinashong/ML-model-baselines-kdd-dataset/runs/my3ug396</a>"
      ],
      "text/plain": [
       "<IPython.core.display.HTML object>"
      ]
     },
     "metadata": {},
     "output_type": "display_data"
    },
    {
     "name": "stdout",
     "output_type": "stream",
     "text": [
      "Train operation time: =  8.593595027923584 seconds\n",
      "\n",
      "Model: RandomForestClassifier\n",
      "Confusion Matrix:\n",
      "[[  181     0     0     0     0     0     0     0     0     0     0     0\n",
      "      0     0     0     0     0     0     0     0     0     0     0     0\n",
      "      0     0     0     0     0     0]\n",
      " [    0   221     0     0     0     0     0     0     0     0     0     0\n",
      "      0     0     0     0     0     0     0     0     0     0     0     0\n",
      "      0     0     0     0     0     0]\n",
      " [    0     0     2     0     0     0     0     0     0     0     0     0\n",
      "      0     0     0     0     0     1     0     0     0     0     0     0\n",
      "      0     0     0     0     0     0]\n",
      " [    0     0     0   897     0     0     0     0     0     0     0     0\n",
      "      0     0     0     0     0     0     0     0     0     0     0     0\n",
      "      0     0     0     0     0     0]\n",
      " [    0     0     0     0    25     0     0     0     0     0     0     0\n",
      "      1     0     0     0     0     0     1     0     0     0     0     0\n",
      "      0     0     0     0     0     0]\n",
      " [    0     0     0     0     0    56     0     0     0     0     0     0\n",
      "      0     0     0     0     0     0     0     0     0     0     0     0\n",
      "      0     0     0     0     0     0]\n",
      " [    0     0     0     0     0     0   962     0     0     0     0     0\n",
      "      0     0     0     0     0     0     0     0     0     0     0     0\n",
      "      0     0     0     0     0     0]\n",
      " [    0     0     0     0     0     0     0   207     0     0     0     0\n",
      "      0     0     0     0     1     0     0     0     0     0     0     0\n",
      "      0     0     0     0     0     0]\n",
      " [    0     0     0     0     0     0     0     0     0     0     0     0\n",
      "      2     0     0     0     0     0     0     0     0     0     0     0\n",
      "      0     0     0     0     0     0]\n",
      " [    0     0     0     0     0     0     0     0     0     1     0     0\n",
      "      0     0     0     0     0     0     0     0     0     0     0     0\n",
      "      0     0     0     0     0     0]\n",
      " [    0     0     0     0     0     0     0     0     0     0 11756     0\n",
      "      0     0     0     0     0     0     0     0     0     0     0     0\n",
      "      0     0     0     0     0     0]\n",
      " [    0     0     0     0     0     0     0     0     0     0     0    15\n",
      "      0     0     0     0     0     0     0     0     0     0     0     0\n",
      "      0     0     0     0     0     0]\n",
      " [    0     0     0     0     0     0     0     0     0     0     1     0\n",
      "  11421     0     0     1     0     0     0     0     0     0   577     1\n",
      "      1     0     2     0     0     0]\n",
      " [    0     0     0     0     0     0     0     0     0     0     0     0\n",
      "      1     0     0     0     0     0     0     0     0     0     0     0\n",
      "      0     0     0     0     0     0]\n",
      " [    0     0     0     0     0     0     0     0     0     0     0     0\n",
      "      0     0    18     0     0     0     0     0     0     0     0     0\n",
      "      0     0     0     0     0     0]\n",
      " [    0     0     0     0     0     0     0     0     0     0     0     0\n",
      "      0     0     0    65     0     0     0     0     0     0     0     0\n",
      "      0     0     0     0     0     0]\n",
      " [    0     0     0     0     0     0     0     0     0     0     0     0\n",
      "      0     0     0     0   149     0     0     0     0     0     0     0\n",
      "      0     0     0     0     0     0]\n",
      " [    0     0     1     0     0     0     0     0     0     0     0     0\n",
      "      3     0     0     0     0     1     1     0     0     0     0     0\n",
      "      0     0     1     0     0     0]\n",
      " [    0     0     0     0     0     0     0     0     1     0     0     0\n",
      "      1     0     0     0     0     0     2     0     0     0     0     0\n",
      "      0     0     0     0     0     0]\n",
      " [    0     0     0     0     0     0     0     0     0     0     0     0\n",
      "      1     0     0     0     0     0     0   134     6     0     0     0\n",
      "      0     0     0     0     0     0]\n",
      " [    0     0     0     0     0     0     0     0     0     0     0     0\n",
      "      2     0     0     0     0     0     0     4   322     0     0     0\n",
      "      0     0     0     0     0     0]\n",
      " [    0     0     0     0     0     0     0     0     0     0     0     0\n",
      "      0     0     0     0     0     0     0     0     0 32805     0     0\n",
      "      0     0     0     0     0     0]\n",
      " [    0     0     0     0     0     0     0     0     0     0     0     0\n",
      "    554     0     0     0     0     0     0     0     0     0   996     0\n",
      "      0     0     0     0     0     0]\n",
      " [    0     0     0     0     0     0     0     0     0     0     0     0\n",
      "      0     0     0     0     0     0     0     0     0     0     0   475\n",
      "      0     0     0     0     0     0]\n",
      " [    0     0     0     0     0     0     0     0     0     0     0     0\n",
      "      0     0     0     0     0     0     0     0     0     0     0     0\n",
      "      0     0     0     0     0     0]\n",
      " [    0     0     0     0     0     0     0     0     0     0     0     0\n",
      "      1     0     0     0     0     0     0     0     0     0     0     0\n",
      "      0     0     0     0     0     0]\n",
      " [    0     0     0     0     0     0     0     0     0     0     0     0\n",
      "      1     0     0     0     0     0     0     0     0     0     0     0\n",
      "      0     0   323     0     0     0]\n",
      " [    0     0     0     0     0     0     0     0     0     0     0     0\n",
      "      1     0     0     0     0     0     0     0     0     0     0     0\n",
      "      0     0     0     0     0     0]\n",
      " [    0     0     0     0     0     0     0     0     0     0     0     0\n",
      "      1     0     0     0     0     0     0     0     0     0     0     0\n",
      "      0     0     0     0     0     0]\n",
      " [    0     0     0     0     0     0     0     0     0     0     0     0\n",
      "      3     0     0     0     0     0     0     0     0     0     0     0\n",
      "      0     0     0     0     0     0]]\n",
      "\n",
      "Classification Report:\n",
      "{'0': {'precision': 1.0, 'recall': 1.0, 'f1-score': 1.0, 'support': 181.0}, '1': {'precision': 1.0, 'recall': 1.0, 'f1-score': 1.0, 'support': 221.0}, '2': {'precision': 0.6666666666666666, 'recall': 0.6666666666666666, 'f1-score': 0.6666666666666666, 'support': 3.0}, '4': {'precision': 1.0, 'recall': 1.0, 'f1-score': 1.0, 'support': 897.0}, '5': {'precision': 1.0, 'recall': 0.9259259259259259, 'f1-score': 0.9615384615384615, 'support': 27.0}, '7': {'precision': 1.0, 'recall': 1.0, 'f1-score': 1.0, 'support': 56.0}, '10': {'precision': 1.0, 'recall': 1.0, 'f1-score': 1.0, 'support': 962.0}, '11': {'precision': 1.0, 'recall': 0.9951923076923077, 'f1-score': 0.9975903614457832, 'support': 208.0}, '12': {'precision': 0.0, 'recall': 0.0, 'f1-score': 0.0, 'support': 2.0}, '13': {'precision': 1.0, 'recall': 1.0, 'f1-score': 1.0, 'support': 1.0}, '14': {'precision': 0.999914944288509, 'recall': 1.0, 'f1-score': 0.999957470335559, 'support': 11756.0}, '15': {'precision': 1.0, 'recall': 1.0, 'f1-score': 1.0, 'support': 15.0}, '16': {'precision': 0.9523055115484033, 'recall': 0.9514328557147618, 'f1-score': 0.9518689836229529, 'support': 12004.0}, '17': {'precision': 0.0, 'recall': 0.0, 'f1-score': 0.0, 'support': 1.0}, '19': {'precision': 1.0, 'recall': 1.0, 'f1-score': 1.0, 'support': 18.0}, '20': {'precision': 0.9848484848484849, 'recall': 1.0, 'f1-score': 0.9923664122137404, 'support': 65.0}, '21': {'precision': 0.9933333333333333, 'recall': 1.0, 'f1-score': 0.9966555183946488, 'support': 149.0}, '22': {'precision': 0.5, 'recall': 0.14285714285714285, 'f1-score': 0.22222222222222224, 'support': 7.0}, '23': {'precision': 0.5, 'recall': 0.5, 'f1-score': 0.5, 'support': 4.0}, '24': {'precision': 0.9710144927536232, 'recall': 0.950354609929078, 'f1-score': 0.9605734767025089, 'support': 141.0}, '25': {'precision': 0.9817073170731707, 'recall': 0.9817073170731707, 'f1-score': 0.9817073170731707, 'support': 328.0}, '27': {'precision': 1.0, 'recall': 1.0, 'f1-score': 1.0, 'support': 32805.0}, '28': {'precision': 0.6331849968213604, 'recall': 0.6425806451612903, 'f1-score': 0.637848222862632, 'support': 1550.0}, '29': {'precision': 0.9978991596638656, 'recall': 1.0, 'f1-score': 0.9989484752891693, 'support': 475.0}, '31': {'precision': 0.0, 'recall': 0.0, 'f1-score': 0.0, 'support': 0.0}, '32': {'precision': 0.0, 'recall': 0.0, 'f1-score': 0.0, 'support': 1.0}, '33': {'precision': 0.99079754601227, 'recall': 0.9969135802469136, 'f1-score': 0.9938461538461539, 'support': 324.0}, '35': {'precision': 0.0, 'recall': 0.0, 'f1-score': 0.0, 'support': 1.0}, '36': {'precision': 0.0, 'recall': 0.0, 'f1-score': 0.0, 'support': 1.0}, '37': {'precision': 0.0, 'recall': 0.0, 'f1-score': 0.0, 'support': 3.0}, 'accuracy': 0.9811593736938559, 'macro avg': {'precision': 0.705722415100323, 'recall': 0.6917877017089087, 'f1-score': 0.6953929914071223, 'support': 62206.0}, 'weighted avg': {'precision': 0.9811331311796971, 'recall': 0.9811593736938559, 'f1-score': 0.9811331537820775, 'support': 62206.0}}\n",
      "Accuracy: 0.9811593736938559\n"
     ]
    },
    {
     "name": "stderr",
     "output_type": "stream",
     "text": [
      "/home/brina/miniconda3/envs/gpu/lib/python3.8/site-packages/sklearn/metrics/_classification.py:1471: UndefinedMetricWarning: Precision and F-score are ill-defined and being set to 0.0 in labels with no predicted samples. Use `zero_division` parameter to control this behavior.\n",
      "  _warn_prf(average, modifier, msg_start, len(result))\n",
      "/home/brina/miniconda3/envs/gpu/lib/python3.8/site-packages/sklearn/metrics/_classification.py:1471: UndefinedMetricWarning: Recall and F-score are ill-defined and being set to 0.0 in labels with no true samples. Use `zero_division` parameter to control this behavior.\n",
      "  _warn_prf(average, modifier, msg_start, len(result))\n",
      "/home/brina/miniconda3/envs/gpu/lib/python3.8/site-packages/sklearn/metrics/_classification.py:1471: UndefinedMetricWarning: Precision and F-score are ill-defined and being set to 0.0 in labels with no predicted samples. Use `zero_division` parameter to control this behavior.\n",
      "  _warn_prf(average, modifier, msg_start, len(result))\n",
      "/home/brina/miniconda3/envs/gpu/lib/python3.8/site-packages/sklearn/metrics/_classification.py:1471: UndefinedMetricWarning: Recall and F-score are ill-defined and being set to 0.0 in labels with no true samples. Use `zero_division` parameter to control this behavior.\n",
      "  _warn_prf(average, modifier, msg_start, len(result))\n",
      "/home/brina/miniconda3/envs/gpu/lib/python3.8/site-packages/sklearn/metrics/_classification.py:1471: UndefinedMetricWarning: Precision and F-score are ill-defined and being set to 0.0 in labels with no predicted samples. Use `zero_division` parameter to control this behavior.\n",
      "  _warn_prf(average, modifier, msg_start, len(result))\n",
      "/home/brina/miniconda3/envs/gpu/lib/python3.8/site-packages/sklearn/metrics/_classification.py:1471: UndefinedMetricWarning: Recall and F-score are ill-defined and being set to 0.0 in labels with no true samples. Use `zero_division` parameter to control this behavior.\n",
      "  _warn_prf(average, modifier, msg_start, len(result))\n",
      "/home/brina/miniconda3/envs/gpu/lib/python3.8/site-packages/sklearn/metrics/_classification.py:1471: UndefinedMetricWarning: Precision and F-score are ill-defined and being set to 0.0 in labels with no predicted samples. Use `zero_division` parameter to control this behavior.\n",
      "  _warn_prf(average, modifier, msg_start, len(result))\n",
      "/home/brina/miniconda3/envs/gpu/lib/python3.8/site-packages/sklearn/metrics/_classification.py:1471: UndefinedMetricWarning: Recall and F-score are ill-defined and being set to 0.0 in labels with no true samples. Use `zero_division` parameter to control this behavior.\n",
      "  _warn_prf(average, modifier, msg_start, len(result))\n",
      "/home/brina/miniconda3/envs/gpu/lib/python3.8/site-packages/sklearn/metrics/_classification.py:1471: UndefinedMetricWarning: Precision and F-score are ill-defined and being set to 0.0 in labels with no predicted samples. Use `zero_division` parameter to control this behavior.\n",
      "  _warn_prf(average, modifier, msg_start, len(result))\n",
      "/home/brina/miniconda3/envs/gpu/lib/python3.8/site-packages/sklearn/metrics/_classification.py:1471: UndefinedMetricWarning: Recall and F-score are ill-defined and being set to 0.0 in labels with no true samples. Use `zero_division` parameter to control this behavior.\n",
      "  _warn_prf(average, modifier, msg_start, len(result))\n",
      "/home/brina/miniconda3/envs/gpu/lib/python3.8/site-packages/sklearn/metrics/_classification.py:1471: UndefinedMetricWarning: Precision and F-score are ill-defined and being set to 0.0 in labels with no predicted samples. Use `zero_division` parameter to control this behavior.\n",
      "  _warn_prf(average, modifier, msg_start, len(result))\n",
      "/home/brina/miniconda3/envs/gpu/lib/python3.8/site-packages/sklearn/metrics/_classification.py:1471: UndefinedMetricWarning: Recall and F-score are ill-defined and being set to 0.0 in labels with no true samples. Use `zero_division` parameter to control this behavior.\n",
      "  _warn_prf(average, modifier, msg_start, len(result))\n"
     ]
    },
    {
     "data": {
      "application/vnd.jupyter.widget-view+json": {
       "model_id": "",
       "version_major": 2,
       "version_minor": 0
      },
      "text/plain": [
       "VBox(children=(Label(value='0.015 MB of 0.015 MB uploaded\\r'), FloatProgress(value=1.0, max=1.0)))"
      ]
     },
     "metadata": {},
     "output_type": "display_data"
    },
    {
     "data": {
      "text/html": [
       "<style>\n",
       "    table.wandb td:nth-child(1) { padding: 0 10px; text-align: left ; width: auto;} td:nth-child(2) {text-align: left ; width: 100%}\n",
       "    .wandb-row { display: flex; flex-direction: row; flex-wrap: wrap; justify-content: flex-start; width: 100% }\n",
       "    .wandb-col { display: flex; flex-direction: column; flex-basis: 100%; flex: 1; padding: 10px; }\n",
       "    </style>\n",
       "<div class=\"wandb-row\"><div class=\"wandb-col\"><h3>Run history:</h3><br/><table class=\"wandb\"><tr><td>Accuracy Score</td><td>▁</td></tr><tr><td>Training time (seconds)</td><td>▁</td></tr><tr><td>f1-score_avg</td><td>▁</td></tr><tr><td>precision_avg</td><td>▁</td></tr><tr><td>recall_avg</td><td>▁</td></tr></table><br/></div><div class=\"wandb-col\"><h3>Run summary:</h3><br/><table class=\"wandb\"><tr><td>Accuracy Score</td><td>0.98116</td></tr><tr><td>Training time (seconds)</td><td>8.5936</td></tr><tr><td>f1-score_avg</td><td>0.98113</td></tr><tr><td>precision_avg</td><td>0.98113</td></tr><tr><td>recall_avg</td><td>0.98116</td></tr></table><br/></div></div>"
      ],
      "text/plain": [
       "<IPython.core.display.HTML object>"
      ]
     },
     "metadata": {},
     "output_type": "display_data"
    },
    {
     "data": {
      "text/html": [
       " View run <strong style=\"color:#cdcd00\">Random Forest</strong> at: <a href='https://wandb.ai/brinashong/ML-model-baselines-kdd-dataset/runs/my3ug396' target=\"_blank\">https://wandb.ai/brinashong/ML-model-baselines-kdd-dataset/runs/my3ug396</a><br/> View job at <a href='https://wandb.ai/brinashong/ML-model-baselines-kdd-dataset/jobs/QXJ0aWZhY3RDb2xsZWN0aW9uOjQ2Njc4OTc0Nw==/version_details/v0' target=\"_blank\">https://wandb.ai/brinashong/ML-model-baselines-kdd-dataset/jobs/QXJ0aWZhY3RDb2xsZWN0aW9uOjQ2Njc4OTc0Nw==/version_details/v0</a><br/>Synced 6 W&B file(s), 2 media file(s), 2 artifact file(s) and 0 other file(s)"
      ],
      "text/plain": [
       "<IPython.core.display.HTML object>"
      ]
     },
     "metadata": {},
     "output_type": "display_data"
    },
    {
     "data": {
      "text/html": [
       "Find logs at: <code>./wandb/run-20241006_230826-my3ug396/logs</code>"
      ],
      "text/plain": [
       "<IPython.core.display.HTML object>"
      ]
     },
     "metadata": {},
     "output_type": "display_data"
    },
    {
     "data": {
      "application/vnd.jupyter.widget-view+json": {
       "model_id": "29ecc90c84f94675a9ca79cde9b99743",
       "version_major": 2,
       "version_minor": 0
      },
      "text/plain": [
       "VBox(children=(Label(value='Waiting for wandb.init()...\\r'), FloatProgress(value=0.011113680711100136, max=1.0…"
      ]
     },
     "metadata": {},
     "output_type": "display_data"
    },
    {
     "data": {
      "text/html": [
       "wandb version 0.18.3 is available!  To upgrade, please run:\n",
       " $ pip install wandb --upgrade"
      ],
      "text/plain": [
       "<IPython.core.display.HTML object>"
      ]
     },
     "metadata": {},
     "output_type": "display_data"
    },
    {
     "data": {
      "text/html": [
       "Tracking run with wandb version 0.16.4"
      ],
      "text/plain": [
       "<IPython.core.display.HTML object>"
      ]
     },
     "metadata": {},
     "output_type": "display_data"
    },
    {
     "data": {
      "text/html": [
       "Run data is saved locally in <code>/home/brina/nus-mcomp/sem2/cs5344-big-data-analytics-technology/CS5344_Project/work/wandb/run-20241006_230854-3defu9cs</code>"
      ],
      "text/plain": [
       "<IPython.core.display.HTML object>"
      ]
     },
     "metadata": {},
     "output_type": "display_data"
    },
    {
     "data": {
      "text/html": [
       "Syncing run <strong><a href='https://wandb.ai/brinashong/ML-model-baselines-kdd-dataset/runs/3defu9cs' target=\"_blank\">Gradient Boosting</a></strong> to <a href='https://wandb.ai/brinashong/ML-model-baselines-kdd-dataset' target=\"_blank\">Weights & Biases</a> (<a href='https://wandb.me/run' target=\"_blank\">docs</a>)<br/>"
      ],
      "text/plain": [
       "<IPython.core.display.HTML object>"
      ]
     },
     "metadata": {},
     "output_type": "display_data"
    },
    {
     "data": {
      "text/html": [
       " View project at <a href='https://wandb.ai/brinashong/ML-model-baselines-kdd-dataset' target=\"_blank\">https://wandb.ai/brinashong/ML-model-baselines-kdd-dataset</a>"
      ],
      "text/plain": [
       "<IPython.core.display.HTML object>"
      ]
     },
     "metadata": {},
     "output_type": "display_data"
    },
    {
     "data": {
      "text/html": [
       " View run at <a href='https://wandb.ai/brinashong/ML-model-baselines-kdd-dataset/runs/3defu9cs' target=\"_blank\">https://wandb.ai/brinashong/ML-model-baselines-kdd-dataset/runs/3defu9cs</a>"
      ],
      "text/plain": [
       "<IPython.core.display.HTML object>"
      ]
     },
     "metadata": {},
     "output_type": "display_data"
    },
    {
     "name": "stdout",
     "output_type": "stream",
     "text": [
      "Train operation time: =  1136.2186801433563 seconds\n",
      "\n",
      "Model: GradientBoostingClassifier\n",
      "Confusion Matrix:\n",
      "[[  181     0     0     0     0     0     0     0     0     0     0     0\n",
      "      0     0     0     0     0     0     0     0     0     0     0     0\n",
      "      0     0     0     0     0     0     0]\n",
      " [    0   220     0     0     0     0     0     0     0     0     0     0\n",
      "      0     0     0     1     0     0     0     0     0     0     0     0\n",
      "      0     0     0     0     0     0     0]\n",
      " [    0     0     2     0     1     0     0     0     0     0     0     0\n",
      "      0     0     0     0     0     0     0     0     0     0     0     0\n",
      "      0     0     0     0     0     0     0]\n",
      " [    0     0     4   865     0     0     0     0     0     0     1     0\n",
      "      4     0     0     0     0     0     0     0     0     0     0     0\n",
      "      0     0     0    23     0     0     0]\n",
      " [    0     0     0     0     6     0     0     0    20     0     0     0\n",
      "      0     0     0     0     0     0     1     0     0     0     0     0\n",
      "      0     0     0     0     0     0     0]\n",
      " [    0     0    55     0     0     0     0     0     0     0     0     0\n",
      "      1     0     0     0     0     0     0     0     0     0     0     0\n",
      "      0     0     0     0     0     0     0]\n",
      " [    0     0     0     0     0     0   962     0     0     0     0     0\n",
      "      0     0     0     0     0     0     0     0     0     0     0     0\n",
      "      0     0     0     0     0     0     0]\n",
      " [    0     0     2     0     0     0     0   195     0     0     4     0\n",
      "      3     0     0     0     0     0     0     1     3     0     0     0\n",
      "      0     0     0     0     0     0     0]\n",
      " [    0     0     0     0     1     0     0     0     0     0     0     0\n",
      "      0     0     0     0     0     0     0     0     0     0     0     0\n",
      "      0     0     0     1     0     0     0]\n",
      " [    0     0     0     0     0     0     0     0     0     1     0     0\n",
      "      0     0     0     0     0     0     0     0     0     0     0     0\n",
      "      0     0     0     0     0     0     0]\n",
      " [    0     0     0     0     1     0     0     0     0     0 11735     0\n",
      "      4     0     0     0     0     0     0     2     4    10     0     0\n",
      "      0     0     0     0     0     0     0]\n",
      " [    0     0     0     0     0     0     0     0     0     0     0     0\n",
      "      0     0     0     0     0     0     0     0    15     0     0     0\n",
      "      0     0     0     0     0     0     0]\n",
      " [    1     0    41     0   214     1     1     4     0     0     5     0\n",
      "  11116     0     0     7     0     0     0    26    26     0     0   531\n",
      "      1     2     0    26     2     0     0]\n",
      " [    0     0     1     0     0     0     0     0     0     0     0     0\n",
      "      0     0     0     0     0     0     0     0     0     0     0     0\n",
      "      0     0     0     0     0     0     0]\n",
      " [    0     0    14     0     0     0     0     0     0     0     0     0\n",
      "      0     0     3     0     0     0     0     0     1     0     0     0\n",
      "      0     0     0     0     0     0     0]\n",
      " [    0     0     0     0     0     0     0     0     0     0     0     0\n",
      "      0     0     0     9     0     0     0     6    50     0     0     0\n",
      "      0     0     0     0     0     0     0]\n",
      " [    0     0     0     0     0     0     0     0     0     0     0     0\n",
      "      0     0     0     0   110     0     0    16    23     0     0     0\n",
      "      0     0     0     0     0     0     0]\n",
      " [    0     0     4     0     1     0     0     0     0     0     0     0\n",
      "      2     0     0     0     0     0     0     0     0     0     0     0\n",
      "      0     0     0     0     0     0     0]\n",
      " [    0     0     0     0     2     0     0     0     0     0     0     0\n",
      "      0     0     0     0     0     0     1     0     0     0     0     0\n",
      "      0     0     0     1     0     0     0]\n",
      " [    0     0    24     0     0     0     0     0     0     0     3     0\n",
      "      0     0     0     1     0     0     0     2   111     0     0     0\n",
      "      0     0     0     0     0     0     0]\n",
      " [    0     0     0     0     0     0     0     0     0     0     2     0\n",
      "     69     0     0    52     0     0     0    16   189     0     0     0\n",
      "      0     0     0     0     0     0     0]\n",
      " [    0     0     0     0     0     0     0     0     0     0     0     0\n",
      "      0     0     0     0     0     0     0     0     0     0     0     0\n",
      "      0     0     0     0     0     0     0]\n",
      " [    0     0     0     0     0     0     0     0     0     0     0     0\n",
      "      0     0     0     0     0     0     0     0     4     0 32801     0\n",
      "      0     0     0     0     0     0     0]\n",
      " [    0     0     0     0     1     0     0     0     0     0     0     0\n",
      "    632     0     0     0     0     0     0     1     0     0     0   916\n",
      "      0     0     0     0     0     0     0]\n",
      " [    0     0     0     0     0     0     0     0     0     0     0     0\n",
      "      1     0     0     0     0     0     0     0     0     0     0     0\n",
      "    474     0     0     0     0     0     0]\n",
      " [    0     0     0     0     0     0     0     0     0     0     0     0\n",
      "      0     0     0     0     0     0     0     0     0     0     0     0\n",
      "      0     0     0     0     0     0     0]\n",
      " [    0     0     0     0     0     0     0     0     0     0     0     0\n",
      "      0     0     0     0     0     0     0     0     1     0     0     0\n",
      "      0     0     0     0     0     0     0]\n",
      " [    0     0    31     0   177     0     0     0     0     0     0     0\n",
      "      0     0     0     0     0     0     0     4     4     0     0     0\n",
      "      0     0     0   108     0     0     0]\n",
      " [    0     0     0     0     0     0     0     0     0     0     0     0\n",
      "      1     0     0     0     0     0     0     0     0     0     0     0\n",
      "      0     0     0     0     0     0     0]\n",
      " [    0     0     0     0     0     0     0     0     0     0     0     0\n",
      "      0     0     0     0     0     0     0     0     0     0     0     0\n",
      "      0     0     0     1     0     0     0]\n",
      " [    0     0     0     0     0     0     0     0     0     0     0     0\n",
      "      1     0     0     0     0     0     0     0     2     0     0     0\n",
      "      0     0     0     0     0     0     0]]\n",
      "\n",
      "Classification Report:\n",
      "{'0': {'precision': 0.9945054945054945, 'recall': 1.0, 'f1-score': 0.9972451790633609, 'support': 181.0}, '1': {'precision': 1.0, 'recall': 0.995475113122172, 'f1-score': 0.9977324263038548, 'support': 221.0}, '2': {'precision': 0.011235955056179775, 'recall': 0.6666666666666666, 'f1-score': 0.022099447513812154, 'support': 3.0}, '4': {'precision': 1.0, 'recall': 0.9643255295429208, 'f1-score': 0.981838819523269, 'support': 897.0}, '5': {'precision': 0.01485148514851485, 'recall': 0.2222222222222222, 'f1-score': 0.02784222737819025, 'support': 27.0}, '7': {'precision': 0.0, 'recall': 0.0, 'f1-score': 0.0, 'support': 56.0}, '10': {'precision': 0.9989615784008308, 'recall': 1.0, 'f1-score': 0.9994805194805195, 'support': 962.0}, '11': {'precision': 0.9798994974874372, 'recall': 0.9375, 'f1-score': 0.9582309582309583, 'support': 208.0}, '12': {'precision': 0.0, 'recall': 0.0, 'f1-score': 0.0, 'support': 2.0}, '13': {'precision': 1.0, 'recall': 1.0, 'f1-score': 1.0, 'support': 1.0}, '14': {'precision': 0.9987234042553191, 'recall': 0.9982136781218102, 'f1-score': 0.9984684761337531, 'support': 11756.0}, '15': {'precision': 0.0, 'recall': 0.0, 'f1-score': 0.0, 'support': 15.0}, '16': {'precision': 0.9393273618387696, 'recall': 0.9260246584471843, 'f1-score': 0.9326285762228376, 'support': 12004.0}, '17': {'precision': 0.0, 'recall': 0.0, 'f1-score': 0.0, 'support': 1.0}, '19': {'precision': 1.0, 'recall': 0.16666666666666666, 'f1-score': 0.2857142857142857, 'support': 18.0}, '20': {'precision': 0.12857142857142856, 'recall': 0.13846153846153847, 'f1-score': 0.13333333333333333, 'support': 65.0}, '21': {'precision': 1.0, 'recall': 0.738255033557047, 'f1-score': 0.8494208494208495, 'support': 149.0}, '22': {'precision': 0.0, 'recall': 0.0, 'f1-score': 0.0, 'support': 7.0}, '23': {'precision': 0.5, 'recall': 0.25, 'f1-score': 0.3333333333333333, 'support': 4.0}, '24': {'precision': 0.02702702702702703, 'recall': 0.014184397163120567, 'f1-score': 0.018604651162790697, 'support': 141.0}, '25': {'precision': 0.43648960739030024, 'recall': 0.5762195121951219, 'f1-score': 0.4967148488830487, 'support': 328.0}, '26': {'precision': 0.0, 'recall': 0.0, 'f1-score': 0.0, 'support': 0.0}, '27': {'precision': 1.0, 'recall': 0.9998780673677793, 'f1-score': 0.9999390299667714, 'support': 32805.0}, '28': {'precision': 0.6330338631651693, 'recall': 0.5909677419354838, 'f1-score': 0.6112779446112779, 'support': 1550.0}, '29': {'precision': 0.9978947368421053, 'recall': 0.9978947368421053, 'f1-score': 0.9978947368421053, 'support': 475.0}, '31': {'precision': 0.0, 'recall': 0.0, 'f1-score': 0.0, 'support': 0.0}, '32': {'precision': 0.0, 'recall': 0.0, 'f1-score': 0.0, 'support': 1.0}, '33': {'precision': 0.675, 'recall': 0.3333333333333333, 'f1-score': 0.4462809917355372, 'support': 324.0}, '35': {'precision': 0.0, 'recall': 0.0, 'f1-score': 0.0, 'support': 1.0}, '36': {'precision': 0.0, 'recall': 0.0, 'f1-score': 0.0, 'support': 1.0}, '37': {'precision': 0.0, 'recall': 0.0, 'f1-score': 0.0, 'support': 3.0}, 'accuracy': 0.9628653184580266, 'macro avg': {'precision': 0.46243617547382504, 'recall': 0.4360093192143604, 'f1-score': 0.4221961495114158, 'support': 62206.0}, 'weighted avg': {'precision': 0.969105509936417, 'recall': 0.9628653184580266, 'f1-score': 0.9654042513609823, 'support': 62206.0}}\n",
      "Accuracy: 0.9628653184580266\n"
     ]
    },
    {
     "name": "stderr",
     "output_type": "stream",
     "text": [
      "/home/brina/miniconda3/envs/gpu/lib/python3.8/site-packages/sklearn/metrics/_classification.py:1471: UndefinedMetricWarning: Precision and F-score are ill-defined and being set to 0.0 in labels with no predicted samples. Use `zero_division` parameter to control this behavior.\n",
      "  _warn_prf(average, modifier, msg_start, len(result))\n",
      "/home/brina/miniconda3/envs/gpu/lib/python3.8/site-packages/sklearn/metrics/_classification.py:1471: UndefinedMetricWarning: Recall and F-score are ill-defined and being set to 0.0 in labels with no true samples. Use `zero_division` parameter to control this behavior.\n",
      "  _warn_prf(average, modifier, msg_start, len(result))\n",
      "/home/brina/miniconda3/envs/gpu/lib/python3.8/site-packages/sklearn/metrics/_classification.py:1471: UndefinedMetricWarning: Precision and F-score are ill-defined and being set to 0.0 in labels with no predicted samples. Use `zero_division` parameter to control this behavior.\n",
      "  _warn_prf(average, modifier, msg_start, len(result))\n",
      "/home/brina/miniconda3/envs/gpu/lib/python3.8/site-packages/sklearn/metrics/_classification.py:1471: UndefinedMetricWarning: Recall and F-score are ill-defined and being set to 0.0 in labels with no true samples. Use `zero_division` parameter to control this behavior.\n",
      "  _warn_prf(average, modifier, msg_start, len(result))\n",
      "/home/brina/miniconda3/envs/gpu/lib/python3.8/site-packages/sklearn/metrics/_classification.py:1471: UndefinedMetricWarning: Precision and F-score are ill-defined and being set to 0.0 in labels with no predicted samples. Use `zero_division` parameter to control this behavior.\n",
      "  _warn_prf(average, modifier, msg_start, len(result))\n",
      "/home/brina/miniconda3/envs/gpu/lib/python3.8/site-packages/sklearn/metrics/_classification.py:1471: UndefinedMetricWarning: Recall and F-score are ill-defined and being set to 0.0 in labels with no true samples. Use `zero_division` parameter to control this behavior.\n",
      "  _warn_prf(average, modifier, msg_start, len(result))\n",
      "/home/brina/miniconda3/envs/gpu/lib/python3.8/site-packages/sklearn/metrics/_classification.py:1471: UndefinedMetricWarning: Precision and F-score are ill-defined and being set to 0.0 in labels with no predicted samples. Use `zero_division` parameter to control this behavior.\n",
      "  _warn_prf(average, modifier, msg_start, len(result))\n",
      "/home/brina/miniconda3/envs/gpu/lib/python3.8/site-packages/sklearn/metrics/_classification.py:1471: UndefinedMetricWarning: Recall and F-score are ill-defined and being set to 0.0 in labels with no true samples. Use `zero_division` parameter to control this behavior.\n",
      "  _warn_prf(average, modifier, msg_start, len(result))\n",
      "/home/brina/miniconda3/envs/gpu/lib/python3.8/site-packages/sklearn/metrics/_classification.py:1471: UndefinedMetricWarning: Precision and F-score are ill-defined and being set to 0.0 in labels with no predicted samples. Use `zero_division` parameter to control this behavior.\n",
      "  _warn_prf(average, modifier, msg_start, len(result))\n",
      "/home/brina/miniconda3/envs/gpu/lib/python3.8/site-packages/sklearn/metrics/_classification.py:1471: UndefinedMetricWarning: Recall and F-score are ill-defined and being set to 0.0 in labels with no true samples. Use `zero_division` parameter to control this behavior.\n",
      "  _warn_prf(average, modifier, msg_start, len(result))\n",
      "/home/brina/miniconda3/envs/gpu/lib/python3.8/site-packages/sklearn/metrics/_classification.py:1471: UndefinedMetricWarning: Precision and F-score are ill-defined and being set to 0.0 in labels with no predicted samples. Use `zero_division` parameter to control this behavior.\n",
      "  _warn_prf(average, modifier, msg_start, len(result))\n",
      "/home/brina/miniconda3/envs/gpu/lib/python3.8/site-packages/sklearn/metrics/_classification.py:1471: UndefinedMetricWarning: Recall and F-score are ill-defined and being set to 0.0 in labels with no true samples. Use `zero_division` parameter to control this behavior.\n",
      "  _warn_prf(average, modifier, msg_start, len(result))\n"
     ]
    },
    {
     "data": {
      "application/vnd.jupyter.widget-view+json": {
       "model_id": "",
       "version_major": 2,
       "version_minor": 0
      },
      "text/plain": [
       "VBox(children=(Label(value='0.013 MB of 0.016 MB uploaded\\r'), FloatProgress(value=0.810745693289965, max=1.0)…"
      ]
     },
     "metadata": {},
     "output_type": "display_data"
    },
    {
     "data": {
      "text/html": [
       "<style>\n",
       "    table.wandb td:nth-child(1) { padding: 0 10px; text-align: left ; width: auto;} td:nth-child(2) {text-align: left ; width: 100%}\n",
       "    .wandb-row { display: flex; flex-direction: row; flex-wrap: wrap; justify-content: flex-start; width: 100% }\n",
       "    .wandb-col { display: flex; flex-direction: column; flex-basis: 100%; flex: 1; padding: 10px; }\n",
       "    </style>\n",
       "<div class=\"wandb-row\"><div class=\"wandb-col\"><h3>Run history:</h3><br/><table class=\"wandb\"><tr><td>Accuracy Score</td><td>▁</td></tr><tr><td>Training time (seconds)</td><td>▁</td></tr><tr><td>f1-score_avg</td><td>▁</td></tr><tr><td>precision_avg</td><td>▁</td></tr><tr><td>recall_avg</td><td>▁</td></tr></table><br/></div><div class=\"wandb-col\"><h3>Run summary:</h3><br/><table class=\"wandb\"><tr><td>Accuracy Score</td><td>0.96287</td></tr><tr><td>Training time (seconds)</td><td>1136.21868</td></tr><tr><td>f1-score_avg</td><td>0.9654</td></tr><tr><td>precision_avg</td><td>0.96911</td></tr><tr><td>recall_avg</td><td>0.96287</td></tr></table><br/></div></div>"
      ],
      "text/plain": [
       "<IPython.core.display.HTML object>"
      ]
     },
     "metadata": {},
     "output_type": "display_data"
    },
    {
     "data": {
      "text/html": [
       " View run <strong style=\"color:#cdcd00\">Gradient Boosting</strong> at: <a href='https://wandb.ai/brinashong/ML-model-baselines-kdd-dataset/runs/3defu9cs' target=\"_blank\">https://wandb.ai/brinashong/ML-model-baselines-kdd-dataset/runs/3defu9cs</a><br/> View job at <a href='https://wandb.ai/brinashong/ML-model-baselines-kdd-dataset/jobs/QXJ0aWZhY3RDb2xsZWN0aW9uOjQ2Njc4OTc0Nw==/version_details/v0' target=\"_blank\">https://wandb.ai/brinashong/ML-model-baselines-kdd-dataset/jobs/QXJ0aWZhY3RDb2xsZWN0aW9uOjQ2Njc4OTc0Nw==/version_details/v0</a><br/>Synced 6 W&B file(s), 2 media file(s), 2 artifact file(s) and 0 other file(s)"
      ],
      "text/plain": [
       "<IPython.core.display.HTML object>"
      ]
     },
     "metadata": {},
     "output_type": "display_data"
    },
    {
     "data": {
      "text/html": [
       "Find logs at: <code>./wandb/run-20241006_230854-3defu9cs/logs</code>"
      ],
      "text/plain": [
       "<IPython.core.display.HTML object>"
      ]
     },
     "metadata": {},
     "output_type": "display_data"
    },
    {
     "data": {
      "application/vnd.jupyter.widget-view+json": {
       "model_id": "86f455936c1a47489c2ca190c695f965",
       "version_major": 2,
       "version_minor": 0
      },
      "text/plain": [
       "VBox(children=(Label(value='Waiting for wandb.init()...\\r'), FloatProgress(value=0.011112776366644539, max=1.0…"
      ]
     },
     "metadata": {},
     "output_type": "display_data"
    },
    {
     "data": {
      "text/html": [
       "wandb version 0.18.3 is available!  To upgrade, please run:\n",
       " $ pip install wandb --upgrade"
      ],
      "text/plain": [
       "<IPython.core.display.HTML object>"
      ]
     },
     "metadata": {},
     "output_type": "display_data"
    },
    {
     "data": {
      "text/html": [
       "Tracking run with wandb version 0.16.4"
      ],
      "text/plain": [
       "<IPython.core.display.HTML object>"
      ]
     },
     "metadata": {},
     "output_type": "display_data"
    },
    {
     "data": {
      "text/html": [
       "Run data is saved locally in <code>/home/brina/nus-mcomp/sem2/cs5344-big-data-analytics-technology/CS5344_Project/work/wandb/run-20241006_232816-civ8inly</code>"
      ],
      "text/plain": [
       "<IPython.core.display.HTML object>"
      ]
     },
     "metadata": {},
     "output_type": "display_data"
    },
    {
     "data": {
      "text/html": [
       "Syncing run <strong><a href='https://wandb.ai/brinashong/ML-model-baselines-kdd-dataset/runs/civ8inly' target=\"_blank\">K-Nearest Neighbors</a></strong> to <a href='https://wandb.ai/brinashong/ML-model-baselines-kdd-dataset' target=\"_blank\">Weights & Biases</a> (<a href='https://wandb.me/run' target=\"_blank\">docs</a>)<br/>"
      ],
      "text/plain": [
       "<IPython.core.display.HTML object>"
      ]
     },
     "metadata": {},
     "output_type": "display_data"
    },
    {
     "data": {
      "text/html": [
       " View project at <a href='https://wandb.ai/brinashong/ML-model-baselines-kdd-dataset' target=\"_blank\">https://wandb.ai/brinashong/ML-model-baselines-kdd-dataset</a>"
      ],
      "text/plain": [
       "<IPython.core.display.HTML object>"
      ]
     },
     "metadata": {},
     "output_type": "display_data"
    },
    {
     "data": {
      "text/html": [
       " View run at <a href='https://wandb.ai/brinashong/ML-model-baselines-kdd-dataset/runs/civ8inly' target=\"_blank\">https://wandb.ai/brinashong/ML-model-baselines-kdd-dataset/runs/civ8inly</a>"
      ],
      "text/plain": [
       "<IPython.core.display.HTML object>"
      ]
     },
     "metadata": {},
     "output_type": "display_data"
    },
    {
     "name": "stdout",
     "output_type": "stream",
     "text": [
      "Train operation time: =  0.06295037269592285 seconds\n",
      "\n",
      "Model: KNeighborsClassifier\n",
      "Confusion Matrix:\n",
      "[[  170     0     0     0     0     0     0     0     0     0     0     5\n",
      "      0     6     0     0     0     0     0     0     0     0     0     0\n",
      "      0     0     0     0     0     0     0]\n",
      " [    1   219     0     0     0     0     0     0     0     0     0     0\n",
      "      0     1     0     0     0     0     0     0     0     0     0     0\n",
      "      0     0     0     0     0     0     0]\n",
      " [    0     0     0     0     0     0     0     0     0     0     0     0\n",
      "      0     3     0     0     0     0     0     0     0     0     0     0\n",
      "      0     0     0     0     0     0     0]\n",
      " [    0     0     0     0     0     0     0     0     0     0     0     0\n",
      "      0     0     0     0     0     0     0     0     0     0     0     0\n",
      "      0     0     0     0     0     0     0]\n",
      " [    0     0     0     0   893     0     0     0     0     0     0     0\n",
      "      0     3     0     0     0     0     0     0     0     0     0     0\n",
      "      1     0     0     0     0     0     0]\n",
      " [    0     0     0     0     0    24     0     0     0     0     0     0\n",
      "      0     2     0     0     1     0     0     0     0     0     0     0\n",
      "      0     0     0     0     0     0     0]\n",
      " [    0     0     0     0     0     0    51     0     1     0     0     0\n",
      "      0     0     0     0     0     0     0     0     2     0     0     0\n",
      "      0     0     0     2     0     0     0]\n",
      " [    0     0     0     0     0     0     0   962     0     0     0     0\n",
      "      0     0     0     0     0     0     0     0     0     0     0     0\n",
      "      0     0     0     0     0     0     0]\n",
      " [    0     0     0     0     2     3     0     0   197     0     0     0\n",
      "      0     6     0     0     0     0     0     0     0     0     0     0\n",
      "      0     0     0     0     0     0     0]\n",
      " [    0     0     0     0     0     0     0     0     0     0     0     0\n",
      "      0     2     0     0     0     0     0     0     0     0     0     0\n",
      "      0     0     0     0     0     0     0]\n",
      " [    0     0     0     0     0     0     0     0     0     0     0     0\n",
      "      0     1     0     0     0     0     0     0     0     0     0     0\n",
      "      0     0     0     0     0     0     0]\n",
      " [    1     0     0     0     0     0     0     0     1     0     0 11749\n",
      "      0     3     0     0     1     0     0     0     0     1     0     0\n",
      "      0     0     0     0     0     0     0]\n",
      " [    0     0     0     0     0     0     0     0     0     0     0     0\n",
      "     15     0     0     0     0     0     0     0     0     0     0     0\n",
      "      0     0     0     0     0     0     0]\n",
      " [    1     1     0     0    17     5     2     0     7     1     0    11\n",
      "      0 11538     0     2     0     0     0     0     3     6     3     0\n",
      "    401     4     0     2     0     0     0]\n",
      " [    0     0     0     0     0     0     0     0     0     0     0     0\n",
      "      0     1     0     0     0     0     0     0     0     0     0     0\n",
      "      0     0     0     0     0     0     0]\n",
      " [    0     0     0     0     0     0     0     0     0     0     0     0\n",
      "      0     0     0    18     0     0     0     0     0     0     0     0\n",
      "      0     0     0     0     0     0     0]\n",
      " [    0     0     0     0     0     0     0     0     2     0     0     0\n",
      "      1     4     0     0    58     0     0     0     0     0     0     0\n",
      "      0     0     0     0     0     0     0]\n",
      " [    0     0     0     0     0     0     0     0     0     0     0     0\n",
      "      0     0     0     0     0   149     0     0     0     0     0     0\n",
      "      0     0     0     0     0     0     0]\n",
      " [    0     0     0     1     1     0     0     0     0     0     0     0\n",
      "      0     5     0     0     0     0     0     0     0     0     0     0\n",
      "      0     0     0     0     0     0     0]\n",
      " [    0     0     0     0     0     0     0     0     0     0     0     0\n",
      "      0     3     0     0     0     0     0     0     0     0     0     0\n",
      "      0     0     0     1     0     0     0]\n",
      " [    0     0     0     0     0     0     0     0     0     0     0     4\n",
      "      0     0     0     0     2     0     0     0   123    12     0     0\n",
      "      0     0     0     0     0     0     0]\n",
      " [    0     0     0     0     0     0     0     0     1     0     0    11\n",
      "      0     2     0     0     0     0     0     0     9   305     0     0\n",
      "      0     0     0     0     0     0     0]\n",
      " [    0     0     0     0     0     0     0     0     0     0     0     0\n",
      "      0     0     0     0     0     0     0     0     0     0     0     0\n",
      "      0     0     0     0     0     0     0]\n",
      " [    0     0     0     0     0     0     0     0     0     0     0     0\n",
      "      0     0     0     0     0     0     0     0     0     0     0 32805\n",
      "      0     0     0     0     0     0     0]\n",
      " [    0     0     0     0     0     0     0     0     0     0     0     0\n",
      "      0   928     0     0     0     0     0     0     0     0     0     0\n",
      "    622     0     0     0     0     0     0]\n",
      " [    0     0     0     0     0     0     0     0     0     0     0     0\n",
      "      0     2     0     0     0     0     0     0     0     0     0     0\n",
      "      0   473     0     0     0     0     0]\n",
      " [    0     0     0     0     0     0     0     0     0     0     0     0\n",
      "      1     0     0     0     0     0     0     0     0     0     0     0\n",
      "      0     0     0     0     0     0     0]\n",
      " [    0     0     0     0     0     2     0     0     4     0     0     0\n",
      "      0     1     0     0     0     0     0     0     0     0     0     0\n",
      "      0     0     0   317     0     0     0]\n",
      " [    0     0     0     0     0     0     0     0     0     0     0     0\n",
      "      0     1     0     0     0     0     0     0     0     0     0     0\n",
      "      0     0     0     0     0     0     0]\n",
      " [    0     0     0     0     0     0     0     0     0     0     0     0\n",
      "      0     1     0     0     0     0     0     0     0     0     0     0\n",
      "      0     0     0     0     0     0     0]\n",
      " [    0     0     0     0     0     0     0     0     0     0     0     0\n",
      "      0     3     0     0     0     0     0     0     0     0     0     0\n",
      "      0     0     0     0     0     0     0]]\n",
      "\n",
      "Classification Report:\n",
      "{'0': {'precision': 0.9826589595375722, 'recall': 0.9392265193370166, 'f1-score': 0.9604519774011299, 'support': 181.0}, '1': {'precision': 0.9954545454545455, 'recall': 0.9909502262443439, 'f1-score': 0.9931972789115646, 'support': 221.0}, '2': {'precision': 0.0, 'recall': 0.0, 'f1-score': 0.0, 'support': 3.0}, '3': {'precision': 0.0, 'recall': 0.0, 'f1-score': 0.0, 'support': 0.0}, '4': {'precision': 0.9780941949616648, 'recall': 0.9955406911928651, 'f1-score': 0.9867403314917128, 'support': 897.0}, '5': {'precision': 0.7058823529411765, 'recall': 0.8888888888888888, 'f1-score': 0.7868852459016393, 'support': 27.0}, '7': {'precision': 0.9622641509433962, 'recall': 0.9107142857142857, 'f1-score': 0.9357798165137615, 'support': 56.0}, '10': {'precision': 1.0, 'recall': 1.0, 'f1-score': 1.0, 'support': 962.0}, '11': {'precision': 0.9248826291079812, 'recall': 0.9471153846153846, 'f1-score': 0.9358669833729216, 'support': 208.0}, '12': {'precision': 0.0, 'recall': 0.0, 'f1-score': 0.0, 'support': 2.0}, '13': {'precision': 0.0, 'recall': 0.0, 'f1-score': 0.0, 'support': 1.0}, '14': {'precision': 0.9973684210526316, 'recall': 0.9994045593739367, 'f1-score': 0.9983854520734194, 'support': 11756.0}, '15': {'precision': 0.8823529411764706, 'recall': 1.0, 'f1-score': 0.9375, 'support': 15.0}, '16': {'precision': 0.9218600191754555, 'recall': 0.9611796067977341, 'f1-score': 0.9411092985318108, 'support': 12004.0}, '17': {'precision': 0.0, 'recall': 0.0, 'f1-score': 0.0, 'support': 1.0}, '19': {'precision': 0.9, 'recall': 1.0, 'f1-score': 0.9473684210526316, 'support': 18.0}, '20': {'precision': 0.9354838709677419, 'recall': 0.8923076923076924, 'f1-score': 0.9133858267716536, 'support': 65.0}, '21': {'precision': 1.0, 'recall': 1.0, 'f1-score': 1.0, 'support': 149.0}, '22': {'precision': 0.0, 'recall': 0.0, 'f1-score': 0.0, 'support': 7.0}, '23': {'precision': 0.0, 'recall': 0.0, 'f1-score': 0.0, 'support': 4.0}, '24': {'precision': 0.8978102189781022, 'recall': 0.8723404255319149, 'f1-score': 0.8848920863309353, 'support': 141.0}, '25': {'precision': 0.941358024691358, 'recall': 0.9298780487804879, 'f1-score': 0.9355828220858895, 'support': 328.0}, '26': {'precision': 0.0, 'recall': 0.0, 'f1-score': 0.0, 'support': 0.0}, '27': {'precision': 1.0, 'recall': 1.0, 'f1-score': 1.0, 'support': 32805.0}, '28': {'precision': 0.607421875, 'recall': 0.4012903225806452, 'f1-score': 0.4832944832944833, 'support': 1550.0}, '29': {'precision': 0.9916142557651991, 'recall': 0.9957894736842106, 'f1-score': 0.9936974789915966, 'support': 475.0}, '32': {'precision': 0.0, 'recall': 0.0, 'f1-score': 0.0, 'support': 1.0}, '33': {'precision': 0.984472049689441, 'recall': 0.9783950617283951, 'f1-score': 0.9814241486068113, 'support': 324.0}, '35': {'precision': 0.0, 'recall': 0.0, 'f1-score': 0.0, 'support': 1.0}, '36': {'precision': 0.0, 'recall': 0.0, 'f1-score': 0.0, 'support': 1.0}, '37': {'precision': 0.0, 'recall': 0.0, 'f1-score': 0.0, 'support': 3.0}, 'accuracy': 0.9755972092724174, 'macro avg': {'precision': 0.5680315648207334, 'recall': 0.5710651995734775, 'f1-score': 0.5682439242365149, 'support': 62206.0}, 'weighted avg': {'precision': 0.9726503438664927, 'recall': 0.9755972092724174, 'f1-score': 0.973508505897595, 'support': 62206.0}}\n",
      "Accuracy: 0.9755972092724174\n"
     ]
    },
    {
     "name": "stderr",
     "output_type": "stream",
     "text": [
      "/home/brina/miniconda3/envs/gpu/lib/python3.8/site-packages/sklearn/metrics/_classification.py:1471: UndefinedMetricWarning: Precision and F-score are ill-defined and being set to 0.0 in labels with no predicted samples. Use `zero_division` parameter to control this behavior.\n",
      "  _warn_prf(average, modifier, msg_start, len(result))\n",
      "/home/brina/miniconda3/envs/gpu/lib/python3.8/site-packages/sklearn/metrics/_classification.py:1471: UndefinedMetricWarning: Recall and F-score are ill-defined and being set to 0.0 in labels with no true samples. Use `zero_division` parameter to control this behavior.\n",
      "  _warn_prf(average, modifier, msg_start, len(result))\n",
      "/home/brina/miniconda3/envs/gpu/lib/python3.8/site-packages/sklearn/metrics/_classification.py:1471: UndefinedMetricWarning: Precision and F-score are ill-defined and being set to 0.0 in labels with no predicted samples. Use `zero_division` parameter to control this behavior.\n",
      "  _warn_prf(average, modifier, msg_start, len(result))\n",
      "/home/brina/miniconda3/envs/gpu/lib/python3.8/site-packages/sklearn/metrics/_classification.py:1471: UndefinedMetricWarning: Recall and F-score are ill-defined and being set to 0.0 in labels with no true samples. Use `zero_division` parameter to control this behavior.\n",
      "  _warn_prf(average, modifier, msg_start, len(result))\n",
      "/home/brina/miniconda3/envs/gpu/lib/python3.8/site-packages/sklearn/metrics/_classification.py:1471: UndefinedMetricWarning: Precision and F-score are ill-defined and being set to 0.0 in labels with no predicted samples. Use `zero_division` parameter to control this behavior.\n",
      "  _warn_prf(average, modifier, msg_start, len(result))\n",
      "/home/brina/miniconda3/envs/gpu/lib/python3.8/site-packages/sklearn/metrics/_classification.py:1471: UndefinedMetricWarning: Recall and F-score are ill-defined and being set to 0.0 in labels with no true samples. Use `zero_division` parameter to control this behavior.\n",
      "  _warn_prf(average, modifier, msg_start, len(result))\n",
      "/home/brina/miniconda3/envs/gpu/lib/python3.8/site-packages/sklearn/metrics/_classification.py:1471: UndefinedMetricWarning: Precision and F-score are ill-defined and being set to 0.0 in labels with no predicted samples. Use `zero_division` parameter to control this behavior.\n",
      "  _warn_prf(average, modifier, msg_start, len(result))\n",
      "/home/brina/miniconda3/envs/gpu/lib/python3.8/site-packages/sklearn/metrics/_classification.py:1471: UndefinedMetricWarning: Recall and F-score are ill-defined and being set to 0.0 in labels with no true samples. Use `zero_division` parameter to control this behavior.\n",
      "  _warn_prf(average, modifier, msg_start, len(result))\n",
      "/home/brina/miniconda3/envs/gpu/lib/python3.8/site-packages/sklearn/metrics/_classification.py:1471: UndefinedMetricWarning: Precision and F-score are ill-defined and being set to 0.0 in labels with no predicted samples. Use `zero_division` parameter to control this behavior.\n",
      "  _warn_prf(average, modifier, msg_start, len(result))\n",
      "/home/brina/miniconda3/envs/gpu/lib/python3.8/site-packages/sklearn/metrics/_classification.py:1471: UndefinedMetricWarning: Recall and F-score are ill-defined and being set to 0.0 in labels with no true samples. Use `zero_division` parameter to control this behavior.\n",
      "  _warn_prf(average, modifier, msg_start, len(result))\n",
      "/home/brina/miniconda3/envs/gpu/lib/python3.8/site-packages/sklearn/metrics/_classification.py:1471: UndefinedMetricWarning: Precision and F-score are ill-defined and being set to 0.0 in labels with no predicted samples. Use `zero_division` parameter to control this behavior.\n",
      "  _warn_prf(average, modifier, msg_start, len(result))\n",
      "/home/brina/miniconda3/envs/gpu/lib/python3.8/site-packages/sklearn/metrics/_classification.py:1471: UndefinedMetricWarning: Recall and F-score are ill-defined and being set to 0.0 in labels with no true samples. Use `zero_division` parameter to control this behavior.\n",
      "  _warn_prf(average, modifier, msg_start, len(result))\n"
     ]
    },
    {
     "data": {
      "application/vnd.jupyter.widget-view+json": {
       "model_id": "23a776039633489ea357a263138981a9",
       "version_major": 2,
       "version_minor": 0
      },
      "text/plain": [
       "VBox(children=(Label(value='0.013 MB of 0.016 MB uploaded\\r'), FloatProgress(value=0.8098103574033552, max=1.0…"
      ]
     },
     "metadata": {},
     "output_type": "display_data"
    },
    {
     "data": {
      "text/html": [
       "<style>\n",
       "    table.wandb td:nth-child(1) { padding: 0 10px; text-align: left ; width: auto;} td:nth-child(2) {text-align: left ; width: 100%}\n",
       "    .wandb-row { display: flex; flex-direction: row; flex-wrap: wrap; justify-content: flex-start; width: 100% }\n",
       "    .wandb-col { display: flex; flex-direction: column; flex-basis: 100%; flex: 1; padding: 10px; }\n",
       "    </style>\n",
       "<div class=\"wandb-row\"><div class=\"wandb-col\"><h3>Run history:</h3><br/><table class=\"wandb\"><tr><td>Accuracy Score</td><td>▁</td></tr><tr><td>Training time (seconds)</td><td>▁</td></tr><tr><td>f1-score_avg</td><td>▁</td></tr><tr><td>precision_avg</td><td>▁</td></tr><tr><td>recall_avg</td><td>▁</td></tr></table><br/></div><div class=\"wandb-col\"><h3>Run summary:</h3><br/><table class=\"wandb\"><tr><td>Accuracy Score</td><td>0.9756</td></tr><tr><td>Training time (seconds)</td><td>0.06295</td></tr><tr><td>f1-score_avg</td><td>0.97351</td></tr><tr><td>precision_avg</td><td>0.97265</td></tr><tr><td>recall_avg</td><td>0.9756</td></tr></table><br/></div></div>"
      ],
      "text/plain": [
       "<IPython.core.display.HTML object>"
      ]
     },
     "metadata": {},
     "output_type": "display_data"
    },
    {
     "data": {
      "text/html": [
       " View run <strong style=\"color:#cdcd00\">K-Nearest Neighbors</strong> at: <a href='https://wandb.ai/brinashong/ML-model-baselines-kdd-dataset/runs/civ8inly' target=\"_blank\">https://wandb.ai/brinashong/ML-model-baselines-kdd-dataset/runs/civ8inly</a><br/> View job at <a href='https://wandb.ai/brinashong/ML-model-baselines-kdd-dataset/jobs/QXJ0aWZhY3RDb2xsZWN0aW9uOjQ2Njc4OTc0Nw==/version_details/v0' target=\"_blank\">https://wandb.ai/brinashong/ML-model-baselines-kdd-dataset/jobs/QXJ0aWZhY3RDb2xsZWN0aW9uOjQ2Njc4OTc0Nw==/version_details/v0</a><br/>Synced 6 W&B file(s), 2 media file(s), 2 artifact file(s) and 0 other file(s)"
      ],
      "text/plain": [
       "<IPython.core.display.HTML object>"
      ]
     },
     "metadata": {},
     "output_type": "display_data"
    },
    {
     "data": {
      "text/html": [
       "Find logs at: <code>./wandb/run-20241006_232816-civ8inly/logs</code>"
      ],
      "text/plain": [
       "<IPython.core.display.HTML object>"
      ]
     },
     "metadata": {},
     "output_type": "display_data"
    },
    {
     "data": {
      "application/vnd.jupyter.widget-view+json": {
       "model_id": "25cf42d762584242b75ba204eeb4fd0f",
       "version_major": 2,
       "version_minor": 0
      },
      "text/plain": [
       "VBox(children=(Label(value='Waiting for wandb.init()...\\r'), FloatProgress(value=0.011120939266644807, max=1.0…"
      ]
     },
     "metadata": {},
     "output_type": "display_data"
    },
    {
     "data": {
      "text/html": [
       "wandb version 0.18.3 is available!  To upgrade, please run:\n",
       " $ pip install wandb --upgrade"
      ],
      "text/plain": [
       "<IPython.core.display.HTML object>"
      ]
     },
     "metadata": {},
     "output_type": "display_data"
    },
    {
     "data": {
      "text/html": [
       "Tracking run with wandb version 0.16.4"
      ],
      "text/plain": [
       "<IPython.core.display.HTML object>"
      ]
     },
     "metadata": {},
     "output_type": "display_data"
    },
    {
     "data": {
      "text/html": [
       "Run data is saved locally in <code>/home/brina/nus-mcomp/sem2/cs5344-big-data-analytics-technology/CS5344_Project/work/wandb/run-20241006_232901-ehpc8adl</code>"
      ],
      "text/plain": [
       "<IPython.core.display.HTML object>"
      ]
     },
     "metadata": {},
     "output_type": "display_data"
    },
    {
     "data": {
      "text/html": [
       "Syncing run <strong><a href='https://wandb.ai/brinashong/ML-model-baselines-kdd-dataset/runs/ehpc8adl' target=\"_blank\">Support Vector Machine (SVM)</a></strong> to <a href='https://wandb.ai/brinashong/ML-model-baselines-kdd-dataset' target=\"_blank\">Weights & Biases</a> (<a href='https://wandb.me/run' target=\"_blank\">docs</a>)<br/>"
      ],
      "text/plain": [
       "<IPython.core.display.HTML object>"
      ]
     },
     "metadata": {},
     "output_type": "display_data"
    },
    {
     "data": {
      "text/html": [
       " View project at <a href='https://wandb.ai/brinashong/ML-model-baselines-kdd-dataset' target=\"_blank\">https://wandb.ai/brinashong/ML-model-baselines-kdd-dataset</a>"
      ],
      "text/plain": [
       "<IPython.core.display.HTML object>"
      ]
     },
     "metadata": {},
     "output_type": "display_data"
    },
    {
     "data": {
      "text/html": [
       " View run at <a href='https://wandb.ai/brinashong/ML-model-baselines-kdd-dataset/runs/ehpc8adl' target=\"_blank\">https://wandb.ai/brinashong/ML-model-baselines-kdd-dataset/runs/ehpc8adl</a>"
      ],
      "text/plain": [
       "<IPython.core.display.HTML object>"
      ]
     },
     "metadata": {},
     "output_type": "display_data"
    },
    {
     "name": "stdout",
     "output_type": "stream",
     "text": [
      "Train operation time: =  167.85579824447632 seconds\n",
      "\n",
      "Model: SVC\n",
      "Confusion Matrix:\n",
      "[[  181     0     0     0     0     0     0     0     0     0     0     0\n",
      "      0     0     0     0     0     0     0     0     0     0     0     0\n",
      "      0     0     0     0     0     0]\n",
      " [    0   218     0     0     0     0     0     0     0     0     0     0\n",
      "      3     0     0     0     0     0     0     0     0     0     0     0\n",
      "      0     0     0     0     0     0]\n",
      " [    0     0     1     0     0     0     0     0     0     0     0     0\n",
      "      0     0     0     0     0     0     0     0     0     0     0     0\n",
      "      0     0     2     0     0     0]\n",
      " [    1     0     0   887     0     0     0     0     0     0     0     0\n",
      "      9     0     0     0     0     0     0     0     0     0     0     0\n",
      "      0     0     0     0     0     0]\n",
      " [    0     0     0     0    25     0     0     0     0     0     0     0\n",
      "      2     0     0     0     0     0     0     0     0     0     0     0\n",
      "      0     0     0     0     0     0]\n",
      " [    0     0     0     0     0    55     0     0     0     0     0     0\n",
      "      1     0     0     0     0     0     0     0     0     0     0     0\n",
      "      0     0     0     0     0     0]\n",
      " [    0     0     0     0     0     0   961     0     0     0     0     0\n",
      "      1     0     0     0     0     0     0     0     0     0     0     0\n",
      "      0     0     0     0     0     0]\n",
      " [    0     0     0     0     0     0     0   202     0     0     3     0\n",
      "      3     0     0     0     0     0     0     0     0     0     0     0\n",
      "      0     0     0     0     0     0]\n",
      " [    0     0     0     0     0     0     0     0     0     0     0     0\n",
      "      2     0     0     0     0     0     0     0     0     0     0     0\n",
      "      0     0     0     0     0     0]\n",
      " [    0     0     0     0     0     0     0     0     0     0     0     0\n",
      "      1     0     0     0     0     0     0     0     0     0     0     0\n",
      "      0     0     0     0     0     0]\n",
      " [    0     0     0     0     0     0     0     1     0     0 11754     0\n",
      "      1     0     0     0     0     0     0     0     0     0     0     0\n",
      "      0     0     0     0     0     0]\n",
      " [    0     0     0     0     0     0     0     0     0     0     0    15\n",
      "      0     0     0     0     0     0     0     0     0     0     0     0\n",
      "      0     0     0     0     0     0]\n",
      " [    0     1     0     2     0     1     0     0     0     0     0     0\n",
      "  11982     0     0     2     0     0     0     1    13     0     0     0\n",
      "      1     0     1     0     0     0]\n",
      " [    0     0     0     0     0     0     0     0     0     0     0     0\n",
      "      1     0     0     0     0     0     0     0     0     0     0     0\n",
      "      0     0     0     0     0     0]\n",
      " [    0     0     0     0     0     0     0     0     0     0     0     0\n",
      "      1     0    17     0     0     0     0     0     0     0     0     0\n",
      "      0     0     0     0     0     0]\n",
      " [    0     0     0     0     1     0     0     0     0     0     0     0\n",
      "      4     0     0    60     0     0     0     0     0     0     0     0\n",
      "      0     0     0     0     0     0]\n",
      " [    0     0     0     0     0     0     0     0     0     0     0     0\n",
      "      0     0     0     0   149     0     0     0     0     0     0     0\n",
      "      0     0     0     0     0     0]\n",
      " [    0     0     0     0     0     0     0     0     0     0     0     0\n",
      "      6     0     0     0     0     1     0     0     0     0     0     0\n",
      "      0     0     0     0     0     0]\n",
      " [    0     0     0     0     0     0     0     0     0     0     0     0\n",
      "      2     0     0     0     0     0     0     0     0     0     0     0\n",
      "      0     0     2     0     0     0]\n",
      " [    0     0     0     0     0     0     0     0     0     0     0     0\n",
      "      1     0     0     0     0     0     0    24   116     0     0     0\n",
      "      0     0     0     0     0     0]\n",
      " [    0     0     0     0     0     0     0     0     0     0     0     0\n",
      "      5     0     0     0     0     0     0     0   323     0     0     0\n",
      "      0     0     0     0     0     0]\n",
      " [    0     0     0     0     0     0     0     0     0     0     0     0\n",
      "      0     0     0     0     0     0     0     0     0 32805     0     0\n",
      "      0     0     0     0     0     0]\n",
      " [    0     0     0     0     0     0     0     0     0     0     0     0\n",
      "   1550     0     0     0     0     0     0     0     0     0     0     0\n",
      "      0     0     0     0     0     0]\n",
      " [    0     0     0     0     0     0     0     0     0     0     0     0\n",
      "    475     0     0     0     0     0     0     0     0     0     0     0\n",
      "      0     0     0     0     0     0]\n",
      " [    0     0     0     0     0     0     0     0     0     0     0     0\n",
      "      0     0     0     0     0     0     0     0     0     0     0     0\n",
      "      0     0     0     0     0     0]\n",
      " [    0     0     0     0     0     0     0     0     0     0     0     0\n",
      "      1     0     0     0     0     0     0     0     0     0     0     0\n",
      "      0     0     0     0     0     0]\n",
      " [    0     0     0     0     0     1     0     0     0     0     0     0\n",
      "     21     0     0     0     0     0     0     0     0     0     0     0\n",
      "      0     0   302     0     0     0]\n",
      " [    0     0     0     0     0     0     0     0     0     0     0     0\n",
      "      1     0     0     0     0     0     0     0     0     0     0     0\n",
      "      0     0     0     0     0     0]\n",
      " [    0     0     0     0     0     0     0     0     0     0     0     0\n",
      "      1     0     0     0     0     0     0     0     0     0     0     0\n",
      "      0     0     0     0     0     0]\n",
      " [    0     0     0     0     0     0     0     0     0     0     0     0\n",
      "      3     0     0     0     0     0     0     0     0     0     0     0\n",
      "      0     0     0     0     0     0]]\n",
      "\n",
      "Classification Report:\n",
      "{'0': {'precision': 0.9945054945054945, 'recall': 1.0, 'f1-score': 0.9972451790633609, 'support': 181.0}, '1': {'precision': 0.9954337899543378, 'recall': 0.9864253393665159, 'f1-score': 0.990909090909091, 'support': 221.0}, '2': {'precision': 1.0, 'recall': 0.3333333333333333, 'f1-score': 0.5, 'support': 3.0}, '4': {'precision': 0.9977502812148481, 'recall': 0.9888517279821628, 'f1-score': 0.9932810750279955, 'support': 897.0}, '5': {'precision': 0.9615384615384616, 'recall': 0.9259259259259259, 'f1-score': 0.9433962264150944, 'support': 27.0}, '7': {'precision': 0.9649122807017544, 'recall': 0.9821428571428571, 'f1-score': 0.9734513274336283, 'support': 56.0}, '10': {'precision': 1.0, 'recall': 0.998960498960499, 'f1-score': 0.999479979199168, 'support': 962.0}, '11': {'precision': 0.9950738916256158, 'recall': 0.9711538461538461, 'f1-score': 0.9829683698296837, 'support': 208.0}, '12': {'precision': 0.0, 'recall': 0.0, 'f1-score': 0.0, 'support': 2.0}, '13': {'precision': 0.0, 'recall': 0.0, 'f1-score': 0.0, 'support': 1.0}, '14': {'precision': 0.999744832865527, 'recall': 0.9998298741068391, 'f1-score': 0.9997873516777953, 'support': 11756.0}, '15': {'precision': 1.0, 'recall': 1.0, 'f1-score': 1.0, 'support': 15.0}, '16': {'precision': 0.8511756766356467, 'recall': 0.9981672775741419, 'f1-score': 0.9188297994708792, 'support': 12004.0}, '17': {'precision': 0.0, 'recall': 0.0, 'f1-score': 0.0, 'support': 1.0}, '19': {'precision': 1.0, 'recall': 0.9444444444444444, 'f1-score': 0.9714285714285714, 'support': 18.0}, '20': {'precision': 0.967741935483871, 'recall': 0.9230769230769231, 'f1-score': 0.9448818897637796, 'support': 65.0}, '21': {'precision': 1.0, 'recall': 1.0, 'f1-score': 1.0, 'support': 149.0}, '22': {'precision': 1.0, 'recall': 0.14285714285714285, 'f1-score': 0.25, 'support': 7.0}, '23': {'precision': 0.0, 'recall': 0.0, 'f1-score': 0.0, 'support': 4.0}, '24': {'precision': 0.96, 'recall': 0.1702127659574468, 'f1-score': 0.2891566265060241, 'support': 141.0}, '25': {'precision': 0.7146017699115044, 'recall': 0.9847560975609756, 'f1-score': 0.8282051282051281, 'support': 328.0}, '27': {'precision': 1.0, 'recall': 1.0, 'f1-score': 1.0, 'support': 32805.0}, '28': {'precision': 0.0, 'recall': 0.0, 'f1-score': 0.0, 'support': 1550.0}, '29': {'precision': 0.0, 'recall': 0.0, 'f1-score': 0.0, 'support': 475.0}, '31': {'precision': 0.0, 'recall': 0.0, 'f1-score': 0.0, 'support': 0.0}, '32': {'precision': 0.0, 'recall': 0.0, 'f1-score': 0.0, 'support': 1.0}, '33': {'precision': 0.9837133550488599, 'recall': 0.9320987654320988, 'f1-score': 0.9572107765451664, 'support': 324.0}, '35': {'precision': 0.0, 'recall': 0.0, 'f1-score': 0.0, 'support': 1.0}, '36': {'precision': 0.0, 'recall': 0.0, 'f1-score': 0.0, 'support': 1.0}, '37': {'precision': 0.0, 'recall': 0.0, 'f1-score': 0.0, 'support': 3.0}, 'accuracy': 0.9639263093592259, 'macro avg': {'precision': 0.6128730589828639, 'recall': 0.5427412273291717, 'f1-score': 0.5513410463825122, 'support': 62206.0}, 'weighted avg': {'precision': 0.9366112460349287, 'recall': 0.9639263093592259, 'f1-score': 0.9483530890661251, 'support': 62206.0}}\n",
      "Accuracy: 0.9639263093592259\n"
     ]
    },
    {
     "name": "stderr",
     "output_type": "stream",
     "text": [
      "/home/brina/miniconda3/envs/gpu/lib/python3.8/site-packages/sklearn/metrics/_classification.py:1471: UndefinedMetricWarning: Precision and F-score are ill-defined and being set to 0.0 in labels with no predicted samples. Use `zero_division` parameter to control this behavior.\n",
      "  _warn_prf(average, modifier, msg_start, len(result))\n",
      "/home/brina/miniconda3/envs/gpu/lib/python3.8/site-packages/sklearn/metrics/_classification.py:1471: UndefinedMetricWarning: Recall and F-score are ill-defined and being set to 0.0 in labels with no true samples. Use `zero_division` parameter to control this behavior.\n",
      "  _warn_prf(average, modifier, msg_start, len(result))\n",
      "/home/brina/miniconda3/envs/gpu/lib/python3.8/site-packages/sklearn/metrics/_classification.py:1471: UndefinedMetricWarning: Precision and F-score are ill-defined and being set to 0.0 in labels with no predicted samples. Use `zero_division` parameter to control this behavior.\n",
      "  _warn_prf(average, modifier, msg_start, len(result))\n",
      "/home/brina/miniconda3/envs/gpu/lib/python3.8/site-packages/sklearn/metrics/_classification.py:1471: UndefinedMetricWarning: Recall and F-score are ill-defined and being set to 0.0 in labels with no true samples. Use `zero_division` parameter to control this behavior.\n",
      "  _warn_prf(average, modifier, msg_start, len(result))\n",
      "/home/brina/miniconda3/envs/gpu/lib/python3.8/site-packages/sklearn/metrics/_classification.py:1471: UndefinedMetricWarning: Precision and F-score are ill-defined and being set to 0.0 in labels with no predicted samples. Use `zero_division` parameter to control this behavior.\n",
      "  _warn_prf(average, modifier, msg_start, len(result))\n",
      "/home/brina/miniconda3/envs/gpu/lib/python3.8/site-packages/sklearn/metrics/_classification.py:1471: UndefinedMetricWarning: Recall and F-score are ill-defined and being set to 0.0 in labels with no true samples. Use `zero_division` parameter to control this behavior.\n",
      "  _warn_prf(average, modifier, msg_start, len(result))\n",
      "/home/brina/miniconda3/envs/gpu/lib/python3.8/site-packages/sklearn/metrics/_classification.py:1471: UndefinedMetricWarning: Precision and F-score are ill-defined and being set to 0.0 in labels with no predicted samples. Use `zero_division` parameter to control this behavior.\n",
      "  _warn_prf(average, modifier, msg_start, len(result))\n",
      "/home/brina/miniconda3/envs/gpu/lib/python3.8/site-packages/sklearn/metrics/_classification.py:1471: UndefinedMetricWarning: Recall and F-score are ill-defined and being set to 0.0 in labels with no true samples. Use `zero_division` parameter to control this behavior.\n",
      "  _warn_prf(average, modifier, msg_start, len(result))\n",
      "/home/brina/miniconda3/envs/gpu/lib/python3.8/site-packages/sklearn/metrics/_classification.py:1471: UndefinedMetricWarning: Precision and F-score are ill-defined and being set to 0.0 in labels with no predicted samples. Use `zero_division` parameter to control this behavior.\n",
      "  _warn_prf(average, modifier, msg_start, len(result))\n",
      "/home/brina/miniconda3/envs/gpu/lib/python3.8/site-packages/sklearn/metrics/_classification.py:1471: UndefinedMetricWarning: Recall and F-score are ill-defined and being set to 0.0 in labels with no true samples. Use `zero_division` parameter to control this behavior.\n",
      "  _warn_prf(average, modifier, msg_start, len(result))\n",
      "/home/brina/miniconda3/envs/gpu/lib/python3.8/site-packages/sklearn/metrics/_classification.py:1471: UndefinedMetricWarning: Precision and F-score are ill-defined and being set to 0.0 in labels with no predicted samples. Use `zero_division` parameter to control this behavior.\n",
      "  _warn_prf(average, modifier, msg_start, len(result))\n",
      "/home/brina/miniconda3/envs/gpu/lib/python3.8/site-packages/sklearn/metrics/_classification.py:1471: UndefinedMetricWarning: Recall and F-score are ill-defined and being set to 0.0 in labels with no true samples. Use `zero_division` parameter to control this behavior.\n",
      "  _warn_prf(average, modifier, msg_start, len(result))\n"
     ]
    },
    {
     "data": {
      "application/vnd.jupyter.widget-view+json": {
       "model_id": "fb0ccbfdc302468a91ba7fa7ff2c4ca7",
       "version_major": 2,
       "version_minor": 0
      },
      "text/plain": [
       "VBox(children=(Label(value='0.015 MB of 0.015 MB uploaded\\r'), FloatProgress(value=1.0, max=1.0)))"
      ]
     },
     "metadata": {},
     "output_type": "display_data"
    },
    {
     "data": {
      "text/html": [
       "<style>\n",
       "    table.wandb td:nth-child(1) { padding: 0 10px; text-align: left ; width: auto;} td:nth-child(2) {text-align: left ; width: 100%}\n",
       "    .wandb-row { display: flex; flex-direction: row; flex-wrap: wrap; justify-content: flex-start; width: 100% }\n",
       "    .wandb-col { display: flex; flex-direction: column; flex-basis: 100%; flex: 1; padding: 10px; }\n",
       "    </style>\n",
       "<div class=\"wandb-row\"><div class=\"wandb-col\"><h3>Run history:</h3><br/><table class=\"wandb\"><tr><td>Accuracy Score</td><td>▁</td></tr><tr><td>Training time (seconds)</td><td>▁</td></tr><tr><td>f1-score_avg</td><td>▁</td></tr><tr><td>precision_avg</td><td>▁</td></tr><tr><td>recall_avg</td><td>▁</td></tr></table><br/></div><div class=\"wandb-col\"><h3>Run summary:</h3><br/><table class=\"wandb\"><tr><td>Accuracy Score</td><td>0.96393</td></tr><tr><td>Training time (seconds)</td><td>167.8558</td></tr><tr><td>f1-score_avg</td><td>0.94835</td></tr><tr><td>precision_avg</td><td>0.93661</td></tr><tr><td>recall_avg</td><td>0.96393</td></tr></table><br/></div></div>"
      ],
      "text/plain": [
       "<IPython.core.display.HTML object>"
      ]
     },
     "metadata": {},
     "output_type": "display_data"
    },
    {
     "data": {
      "text/html": [
       " View run <strong style=\"color:#cdcd00\">Support Vector Machine (SVM)</strong> at: <a href='https://wandb.ai/brinashong/ML-model-baselines-kdd-dataset/runs/ehpc8adl' target=\"_blank\">https://wandb.ai/brinashong/ML-model-baselines-kdd-dataset/runs/ehpc8adl</a><br/> View job at <a href='https://wandb.ai/brinashong/ML-model-baselines-kdd-dataset/jobs/QXJ0aWZhY3RDb2xsZWN0aW9uOjQ2Njc4OTc0Nw==/version_details/v0' target=\"_blank\">https://wandb.ai/brinashong/ML-model-baselines-kdd-dataset/jobs/QXJ0aWZhY3RDb2xsZWN0aW9uOjQ2Njc4OTc0Nw==/version_details/v0</a><br/>Synced 6 W&B file(s), 2 media file(s), 2 artifact file(s) and 0 other file(s)"
      ],
      "text/plain": [
       "<IPython.core.display.HTML object>"
      ]
     },
     "metadata": {},
     "output_type": "display_data"
    },
    {
     "data": {
      "text/html": [
       "Find logs at: <code>./wandb/run-20241006_232901-ehpc8adl/logs</code>"
      ],
      "text/plain": [
       "<IPython.core.display.HTML object>"
      ]
     },
     "metadata": {},
     "output_type": "display_data"
    }
   ],
   "source": [
    "# Loop through models and evaluate each one\n",
    "for model_name, model in models.items():\n",
    "    wandb.init(project=\"ML-model-baselines-kdd-dataset\", name=model_name)\n",
    "    \n",
    "    # For SVM and Logistic Regression, use scaled data\n",
    "    if model_name in [\"Logistic Regression\", \"Support Vector Machine (SVM)\"]:\n",
    "        conf_matrix, class_report, acc_score = evaluate_model(model, X_train_scaled_df, y_train_df, X_test_scaled_df, y_test_df)\n",
    "        wandb_log(conf_matrix, class_report, acc_score)\n",
    "    else:\n",
    "        conf_matrix, class_report, acc_score = evaluate_model(model, X_train_df, y_train_df, X_test_df, y_test_df)\n",
    "        wandb_log(conf_matrix, class_report, acc_score)\n",
    "        \n",
    "    wandb.finish()"
   ]
  },
  {
   "cell_type": "code",
   "execution_count": 15,
   "id": "c13e272c-5e22-4037-8365-317e4e22d3e0",
   "metadata": {},
   "outputs": [
    {
     "data": {
      "application/vnd.jupyter.widget-view+json": {
       "model_id": "",
       "version_major": 2,
       "version_minor": 0
      },
      "text/plain": [
       "VBox(children=(Label(value='0.009 MB of 0.022 MB uploaded (0.005 MB deduped)\\r'), FloatProgress(value=0.395207…"
      ]
     },
     "metadata": {},
     "output_type": "display_data"
    },
    {
     "data": {
      "text/html": [
       "W&B sync reduced upload amount by 23.2%             "
      ],
      "text/plain": [
       "<IPython.core.display.HTML object>"
      ]
     },
     "metadata": {},
     "output_type": "display_data"
    },
    {
     "data": {
      "text/html": [
       " View run <strong style=\"color:#cdcd00\">Random Forest</strong> at: <a href='https://wandb.ai/brinashong/ML-model-baselines-kdd-dataset/runs/itgx2r4i' target=\"_blank\">https://wandb.ai/brinashong/ML-model-baselines-kdd-dataset/runs/itgx2r4i</a><br/> View job at <a href='https://wandb.ai/brinashong/ML-model-baselines-kdd-dataset/jobs/QXJ0aWZhY3RDb2xsZWN0aW9uOjQ2Njc4NzE3OQ==/version_details/v2' target=\"_blank\">https://wandb.ai/brinashong/ML-model-baselines-kdd-dataset/jobs/QXJ0aWZhY3RDb2xsZWN0aW9uOjQ2Njc4NzE3OQ==/version_details/v2</a><br/>Synced 5 W&B file(s), 0 media file(s), 2 artifact file(s) and 0 other file(s)"
      ],
      "text/plain": [
       "<IPython.core.display.HTML object>"
      ]
     },
     "metadata": {},
     "output_type": "display_data"
    },
    {
     "data": {
      "text/html": [
       "Find logs at: <code>./wandb/run-20241006_230126-itgx2r4i/logs</code>"
      ],
      "text/plain": [
       "<IPython.core.display.HTML object>"
      ]
     },
     "metadata": {},
     "output_type": "display_data"
    }
   ],
   "source": [
    "wandb.finish()"
   ]
  },
  {
   "cell_type": "code",
   "execution_count": null,
   "id": "1da61885-b91a-4fe8-b045-aa9979411595",
   "metadata": {},
   "outputs": [],
   "source": []
  }
 ],
 "metadata": {
  "kernelspec": {
   "display_name": "Python 3 (ipykernel)",
   "language": "python",
   "name": "python3"
  },
  "language_info": {
   "codemirror_mode": {
    "name": "ipython",
    "version": 3
   },
   "file_extension": ".py",
   "mimetype": "text/x-python",
   "name": "python",
   "nbconvert_exporter": "python",
   "pygments_lexer": "ipython3",
   "version": "3.8.18"
  }
 },
 "nbformat": 4,
 "nbformat_minor": 5
}
