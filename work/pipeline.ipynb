{
 "cells": [
  {
   "cell_type": "code",
   "execution_count": 97,
   "metadata": {},
   "outputs": [],
   "source": [
    "import numpy as np\n",
    "import os\n",
    "import random\n",
    "import glob\n",
    "import pandas as pd\n",
    "import time\n",
    "import sklearn as sk\n",
    "import matplotlib.pyplot as plt\n",
    "import importlib\n",
    "from common import common\n",
    "from sklearn.ensemble import RandomForestRegressor\n",
    "from sklearn.neighbors import KNeighborsClassifier\n",
    "from sklearn.preprocessing import OneHotEncoder, StandardScaler, LabelEncoder\n",
    "from sklearn.svm import SVC\n",
    "from sklearn.model_selection import train_test_split\n",
    "from sklearn.metrics import classification_report, confusion_matrix, accuracy_score\n",
    "from concurrent.futures import ProcessPoolExecutor\n",
    "from functools import partial"
   ]
  },
  {
   "cell_type": "code",
   "execution_count": 98,
   "metadata": {},
   "outputs": [
    {
     "data": {
      "text/plain": [
       "<module 'common.common' from '/Users/suyeetan/Downloads/CS5344_Project/work/common/common.py'>"
      ]
     },
     "execution_count": 98,
     "metadata": {},
     "output_type": "execute_result"
    }
   ],
   "source": [
    "# Reload common module\n",
    "importlib.reload(common)"
   ]
  },
  {
   "cell_type": "code",
   "execution_count": 80,
   "metadata": {},
   "outputs": [],
   "source": [
    "# Shared variables\n",
    "OUTPUT_FOLDER = 'csv_files'\n",
    "FEATURE_FOLDER = 'features'\n",
    "TEST_COUNT = 500"
   ]
  },
  {
   "cell_type": "code",
   "execution_count": 81,
   "metadata": {},
   "outputs": [],
   "source": [
    "# %run datasets/covertype.ipynb\n",
    "# %run datasets/kdd.ipynb\n",
    "# %run datasets/cicids.ipynb\n",
    "# %run datasets/unsw.ipynb\n",
    "%run datasets/thyroid.ipynb"
   ]
  },
  {
   "cell_type": "code",
   "execution_count": 82,
   "metadata": {},
   "outputs": [
    {
     "name": "stdout",
     "output_type": "stream",
     "text": [
      "Normal class:  0    -\n",
      "Name: target, dtype: object\n",
      "Imputing row 1/6652 with 1 missing, elapsed time: 3.586\n",
      "Imputing row 101/6652 with 0 missing, elapsed time: 3.587\n",
      "Imputing row 201/6652 with 1 missing, elapsed time: 3.588\n",
      "Imputing row 301/6652 with 1 missing, elapsed time: 3.588\n",
      "Imputing row 401/6652 with 0 missing, elapsed time: 3.589\n",
      "Imputing row 501/6652 with 0 missing, elapsed time: 3.589\n",
      "Imputing row 601/6652 with 1 missing, elapsed time: 3.590\n",
      "Imputing row 701/6652 with 0 missing, elapsed time: 3.591\n",
      "Imputing row 801/6652 with 0 missing, elapsed time: 3.591\n",
      "Imputing row 901/6652 with 1 missing, elapsed time: 3.592\n",
      "Imputing row 1001/6652 with 0 missing, elapsed time: 3.592\n",
      "Imputing row 1101/6652 with 0 missing, elapsed time: 3.593\n",
      "Imputing row 1201/6652 with 1 missing, elapsed time: 3.593\n",
      "Imputing row 1301/6652 with 0 missing, elapsed time: 3.594\n",
      "Imputing row 1401/6652 with 0 missing, elapsed time: 3.594\n",
      "Imputing row 1501/6652 with 0 missing, elapsed time: 3.595\n",
      "Imputing row 1601/6652 with 0 missing, elapsed time: 3.595\n",
      "Imputing row 1701/6652 with 0 missing, elapsed time: 3.596\n",
      "Imputing row 1801/6652 with 1 missing, elapsed time: 3.596\n",
      "Imputing row 1901/6652 with 1 missing, elapsed time: 3.597\n",
      "Imputing row 2001/6652 with 0 missing, elapsed time: 3.597\n",
      "Imputing row 2101/6652 with 1 missing, elapsed time: 3.598\n",
      "Imputing row 2201/6652 with 0 missing, elapsed time: 3.598\n",
      "Imputing row 2301/6652 with 0 missing, elapsed time: 3.598\n",
      "Imputing row 2401/6652 with 0 missing, elapsed time: 3.599\n",
      "Imputing row 2501/6652 with 0 missing, elapsed time: 3.599\n",
      "Imputing row 2601/6652 with 0 missing, elapsed time: 3.599\n",
      "Imputing row 2701/6652 with 0 missing, elapsed time: 3.600\n",
      "Imputing row 2801/6652 with 0 missing, elapsed time: 3.600\n",
      "Imputing row 2901/6652 with 0 missing, elapsed time: 3.601\n",
      "Imputing row 3001/6652 with 0 missing, elapsed time: 3.601\n",
      "Imputing row 3101/6652 with 0 missing, elapsed time: 3.601\n",
      "Imputing row 3201/6652 with 0 missing, elapsed time: 3.602\n",
      "Imputing row 3301/6652 with 1 missing, elapsed time: 3.602\n",
      "Imputing row 3401/6652 with 0 missing, elapsed time: 3.603\n",
      "Imputing row 3501/6652 with 0 missing, elapsed time: 3.604\n",
      "Imputing row 3601/6652 with 0 missing, elapsed time: 3.605\n",
      "Imputing row 3701/6652 with 0 missing, elapsed time: 3.606\n",
      "Imputing row 3801/6652 with 1 missing, elapsed time: 3.607\n",
      "Imputing row 3901/6652 with 0 missing, elapsed time: 3.608\n",
      "Imputing row 4001/6652 with 0 missing, elapsed time: 3.610\n",
      "Imputing row 4101/6652 with 0 missing, elapsed time: 3.611\n",
      "Imputing row 4201/6652 with 0 missing, elapsed time: 3.613\n",
      "Imputing row 4301/6652 with 0 missing, elapsed time: 3.614\n",
      "Imputing row 4401/6652 with 1 missing, elapsed time: 3.616\n",
      "Imputing row 4501/6652 with 0 missing, elapsed time: 3.618\n",
      "Imputing row 4601/6652 with 0 missing, elapsed time: 3.620\n",
      "Imputing row 4701/6652 with 0 missing, elapsed time: 3.622\n",
      "Imputing row 4801/6652 with 1 missing, elapsed time: 3.623\n",
      "Imputing row 4901/6652 with 1 missing, elapsed time: 3.624\n",
      "Imputing row 5001/6652 with 1 missing, elapsed time: 3.624\n",
      "Imputing row 5101/6652 with 0 missing, elapsed time: 3.625\n",
      "Imputing row 5201/6652 with 0 missing, elapsed time: 3.626\n",
      "Imputing row 5301/6652 with 0 missing, elapsed time: 3.627\n",
      "Imputing row 5401/6652 with 0 missing, elapsed time: 3.627\n",
      "Imputing row 5501/6652 with 0 missing, elapsed time: 3.628\n",
      "Imputing row 5601/6652 with 0 missing, elapsed time: 3.629\n",
      "Imputing row 5701/6652 with 1 missing, elapsed time: 3.630\n",
      "Imputing row 5801/6652 with 0 missing, elapsed time: 3.632\n",
      "Imputing row 5901/6652 with 1 missing, elapsed time: 3.633\n",
      "Imputing row 6001/6652 with 0 missing, elapsed time: 3.635\n",
      "Imputing row 6101/6652 with 1 missing, elapsed time: 3.636\n",
      "Imputing row 6201/6652 with 1 missing, elapsed time: 3.638\n",
      "Imputing row 6301/6652 with 1 missing, elapsed time: 3.640\n",
      "Imputing row 6401/6652 with 1 missing, elapsed time: 3.642\n",
      "Imputing row 6501/6652 with 0 missing, elapsed time: 3.644\n",
      "Imputing row 6601/6652 with 1 missing, elapsed time: 3.646\n",
      "TARGET_DICT {0: 'Negative', 1: 'Hypothyroid', 2: 'Hyperthyroid'}\n",
      "NORMAL_TARGET 0\n"
     ]
    },
    {
     "name": "stderr",
     "output_type": "stream",
     "text": [
      "/var/folders/r2/_111ch9s3n3gs8f8291g9xj00000gn/T/ipykernel_86746/3002291335.py:52: FutureWarning: Downcasting behavior in `replace` is deprecated and will be removed in a future version. To retain the old behavior, explicitly call `result.infer_objects(copy=False)`. To opt-in to the future behavior, set `pd.set_option('future.no_silent_downcasting', True)`\n",
      "  model_df['pregnant'] = model_df['pregnant'].replace({'t': 1, 'f': 0})\n"
     ]
    },
    {
     "data": {
      "text/html": [
       "<div>\n",
       "<style scoped>\n",
       "    .dataframe tbody tr th:only-of-type {\n",
       "        vertical-align: middle;\n",
       "    }\n",
       "\n",
       "    .dataframe tbody tr th {\n",
       "        vertical-align: top;\n",
       "    }\n",
       "\n",
       "    .dataframe thead th {\n",
       "        text-align: right;\n",
       "    }\n",
       "</style>\n",
       "<table border=\"1\" class=\"dataframe\">\n",
       "  <thead>\n",
       "    <tr style=\"text-align: right;\">\n",
       "      <th></th>\n",
       "      <th>age</th>\n",
       "      <th>TT4</th>\n",
       "      <th>T3</th>\n",
       "      <th>T4U</th>\n",
       "      <th>FTI</th>\n",
       "      <th>TSH</th>\n",
       "      <th>pregnant</th>\n",
       "      <th>target</th>\n",
       "    </tr>\n",
       "  </thead>\n",
       "  <tbody>\n",
       "    <tr>\n",
       "      <th>18</th>\n",
       "      <td>63</td>\n",
       "      <td>48.0</td>\n",
       "      <td>1.287035</td>\n",
       "      <td>1.02</td>\n",
       "      <td>47.0</td>\n",
       "      <td>68.00</td>\n",
       "      <td>0</td>\n",
       "      <td>1</td>\n",
       "    </tr>\n",
       "    <tr>\n",
       "      <th>19</th>\n",
       "      <td>36</td>\n",
       "      <td>90.0</td>\n",
       "      <td>2.400000</td>\n",
       "      <td>1.06</td>\n",
       "      <td>85.0</td>\n",
       "      <td>1.50</td>\n",
       "      <td>0</td>\n",
       "      <td>0</td>\n",
       "    </tr>\n",
       "    <tr>\n",
       "      <th>21</th>\n",
       "      <td>40</td>\n",
       "      <td>104.0</td>\n",
       "      <td>2.300000</td>\n",
       "      <td>1.08</td>\n",
       "      <td>96.0</td>\n",
       "      <td>1.20</td>\n",
       "      <td>0</td>\n",
       "      <td>0</td>\n",
       "    </tr>\n",
       "    <tr>\n",
       "      <th>22</th>\n",
       "      <td>40</td>\n",
       "      <td>88.0</td>\n",
       "      <td>2.100000</td>\n",
       "      <td>0.84</td>\n",
       "      <td>105.0</td>\n",
       "      <td>5.90</td>\n",
       "      <td>0</td>\n",
       "      <td>0</td>\n",
       "    </tr>\n",
       "    <tr>\n",
       "      <th>23</th>\n",
       "      <td>77</td>\n",
       "      <td>107.0</td>\n",
       "      <td>2.400000</td>\n",
       "      <td>1.13</td>\n",
       "      <td>95.0</td>\n",
       "      <td>0.05</td>\n",
       "      <td>0</td>\n",
       "      <td>0</td>\n",
       "    </tr>\n",
       "  </tbody>\n",
       "</table>\n",
       "</div>"
      ],
      "text/plain": [
       "    age    TT4        T3   T4U    FTI    TSH  pregnant  target\n",
       "18   63   48.0  1.287035  1.02   47.0  68.00         0       1\n",
       "19   36   90.0  2.400000  1.06   85.0   1.50         0       0\n",
       "21   40  104.0  2.300000  1.08   96.0   1.20         0       0\n",
       "22   40   88.0  2.100000  0.84  105.0   5.90         0       0\n",
       "23   77  107.0  2.400000  1.13   95.0   0.05         0       0"
      ]
     },
     "execution_count": 82,
     "metadata": {},
     "output_type": "execute_result"
    }
   ],
   "source": [
    "# Should already be one hot encoded and label encoded\n",
    "# all_df, main_labels, config = get_processed_covtype_df()\n",
    "# all_df, main_labels, config = get_processed_kdd_df()\n",
    "# all_df, main_labels, config = get_processed_cicids_df()\n",
    "# all_df, main_labels, config = get_processed_unsw_df()\n",
    "all_df, main_labels, config = get_processed_thyroid_df()\n",
    "TARGET_COLUMN = config['TARGET_COLUMN']\n",
    "NORMAL_TARGET = config['NORMAL_TARGET']\n",
    "TARGET_DICT = config['TARGET_DICT']\n",
    "INV_TARGET_DICT = config['INV_TARGET_DICT']\n",
    "NUMERICAL_COLUMNS = config['NUMERICAL_COLUMNS']\n",
    "CATEGORICAL_COLUMNS = config['CATEGORICAL_COLUMNS']\n",
    "ORDINAL_COLUMNS = config['ORDINAL_COLUMNS']\n",
    "all_df.head()"
   ]
  },
  {
   "cell_type": "code",
   "execution_count": 83,
   "metadata": {},
   "outputs": [
    {
     "data": {
      "text/plain": [
       "(6652, 8)"
      ]
     },
     "execution_count": 83,
     "metadata": {},
     "output_type": "execute_result"
    }
   ],
   "source": [
    "all_df.shape"
   ]
  },
  {
   "cell_type": "code",
   "execution_count": 84,
   "metadata": {},
   "outputs": [
    {
     "name": "stdout",
     "output_type": "stream",
     "text": [
      "All files in csv_files have been removed.\n",
      "All files in features have been removed.\n"
     ]
    }
   ],
   "source": [
    "# Create a folder to save the CSVs\n",
    "common.remove_files_from_directory(OUTPUT_FOLDER)\n",
    "common.remove_files_from_directory(FEATURE_FOLDER)\n",
    "os.makedirs(OUTPUT_FOLDER, exist_ok=True)\n",
    "os.makedirs(FEATURE_FOLDER, exist_ok=True)"
   ]
  },
  {
   "cell_type": "code",
   "execution_count": 85,
   "metadata": {},
   "outputs": [],
   "source": [
    "# Save all data as csv\n",
    "all_df.to_csv('all_data.csv' ,index = False)"
   ]
  },
  {
   "cell_type": "code",
   "execution_count": 86,
   "metadata": {},
   "outputs": [
    {
     "name": "stdout",
     "output_type": "stream",
     "text": [
      "(5321, 7) (1331, 7) (5321,) (1331,)\n"
     ]
    }
   ],
   "source": [
    "# Get X and y from all_df\n",
    "X_df = all_df.drop(columns=[TARGET_COLUMN])\n",
    "y_df = all_df[TARGET_COLUMN]\n",
    "\n",
    "# Split the data into training and test sets\n",
    "X_train_df, X_test_df, y_train_df, y_test_df = train_test_split(X_df, y_df, test_size=0.2, random_state=42)\n",
    "print(X_train_df.shape, X_test_df.shape, y_train_df.shape, y_test_df.shape)"
   ]
  },
  {
   "cell_type": "code",
   "execution_count": 87,
   "metadata": {},
   "outputs": [
    {
     "data": {
      "text/html": [
       "<div>\n",
       "<style scoped>\n",
       "    .dataframe tbody tr th:only-of-type {\n",
       "        vertical-align: middle;\n",
       "    }\n",
       "\n",
       "    .dataframe tbody tr th {\n",
       "        vertical-align: top;\n",
       "    }\n",
       "\n",
       "    .dataframe thead th {\n",
       "        text-align: right;\n",
       "    }\n",
       "</style>\n",
       "<table border=\"1\" class=\"dataframe\">\n",
       "  <thead>\n",
       "    <tr style=\"text-align: right;\">\n",
       "      <th></th>\n",
       "      <th>age</th>\n",
       "      <th>TT4</th>\n",
       "      <th>T3</th>\n",
       "      <th>T4U</th>\n",
       "      <th>FTI</th>\n",
       "      <th>TSH</th>\n",
       "      <th>pregnant</th>\n",
       "      <th>target</th>\n",
       "    </tr>\n",
       "  </thead>\n",
       "  <tbody>\n",
       "    <tr>\n",
       "      <th>5554</th>\n",
       "      <td>61</td>\n",
       "      <td>126.0</td>\n",
       "      <td>2.246201</td>\n",
       "      <td>1.36</td>\n",
       "      <td>93.0</td>\n",
       "      <td>6.900000</td>\n",
       "      <td>0</td>\n",
       "      <td>1</td>\n",
       "    </tr>\n",
       "    <tr>\n",
       "      <th>610</th>\n",
       "      <td>34</td>\n",
       "      <td>93.0</td>\n",
       "      <td>2.700000</td>\n",
       "      <td>1.10</td>\n",
       "      <td>85.0</td>\n",
       "      <td>2.500013</td>\n",
       "      <td>0</td>\n",
       "      <td>0</td>\n",
       "    </tr>\n",
       "    <tr>\n",
       "      <th>5384</th>\n",
       "      <td>46</td>\n",
       "      <td>48.0</td>\n",
       "      <td>1.200000</td>\n",
       "      <td>0.89</td>\n",
       "      <td>54.0</td>\n",
       "      <td>4.600000</td>\n",
       "      <td>0</td>\n",
       "      <td>1</td>\n",
       "    </tr>\n",
       "    <tr>\n",
       "      <th>7260</th>\n",
       "      <td>29</td>\n",
       "      <td>164.0</td>\n",
       "      <td>2.782777</td>\n",
       "      <td>1.10</td>\n",
       "      <td>149.0</td>\n",
       "      <td>0.680000</td>\n",
       "      <td>0</td>\n",
       "      <td>0</td>\n",
       "    </tr>\n",
       "    <tr>\n",
       "      <th>8360</th>\n",
       "      <td>49</td>\n",
       "      <td>80.0</td>\n",
       "      <td>1.717303</td>\n",
       "      <td>0.66</td>\n",
       "      <td>121.0</td>\n",
       "      <td>1.800000</td>\n",
       "      <td>0</td>\n",
       "      <td>0</td>\n",
       "    </tr>\n",
       "  </tbody>\n",
       "</table>\n",
       "</div>"
      ],
      "text/plain": [
       "      age    TT4        T3   T4U    FTI       TSH  pregnant  target\n",
       "5554   61  126.0  2.246201  1.36   93.0  6.900000         0       1\n",
       "610    34   93.0  2.700000  1.10   85.0  2.500013         0       0\n",
       "5384   46   48.0  1.200000  0.89   54.0  4.600000         0       1\n",
       "7260   29  164.0  2.782777  1.10  149.0  0.680000         0       0\n",
       "8360   49   80.0  1.717303  0.66  121.0  1.800000         0       0"
      ]
     },
     "execution_count": 87,
     "metadata": {},
     "output_type": "execute_result"
    }
   ],
   "source": [
    "# Concatenate X_train and y_train along the columns (axis=1)\n",
    "X_y_train_df = pd.concat([X_train_df, y_train_df], axis=1)\n",
    "X_y_train_df.head()"
   ]
  },
  {
   "cell_type": "code",
   "execution_count": 88,
   "metadata": {},
   "outputs": [],
   "source": [
    "# Fit and transform the numeric columns\n",
    "scaler, X_train_scaled_df = common.standardise(X_train_df, NUMERICAL_COLUMNS)\n",
    "# print('X_train_scaled_df', X_train_scaled_df)\n",
    "\n",
    "# Use the same scaler to transform X_test\n",
    "scaler, X_test_scaled_df = common.standardise(X_test_df, NUMERICAL_COLUMNS, scaler=scaler)\n",
    "# print('X_test_scaled_df', X_test_scaled_df)"
   ]
  },
  {
   "cell_type": "code",
   "execution_count": 89,
   "metadata": {},
   "outputs": [
    {
     "name": "stdout",
     "output_type": "stream",
     "text": [
      "abnormal_type_dict {0: 5819, 1: 616, 2: 217}\n",
      "Dataset for Hypothyroid processed.\n",
      "Dataset for Hyperthyroid processed.\n",
      "Hyperthyroid.csv created with 651 rows. (434 benign and 217 abnormal rows)\n",
      "Hypothyroid.csv created with 1848 rows. (1232 benign and 616 abnormal rows)\n",
      "All datasets created successfully!\n"
     ]
    }
   ],
   "source": [
    "benign = 2359289\n",
    "abnormal_type_counts = all_df[TARGET_COLUMN].value_counts()\n",
    "abnormal_type_dict = abnormal_type_counts.to_dict()\n",
    "print('abnormal_type_dict', abnormal_type_dict)\n",
    "target_index = all_df.columns.get_loc(TARGET_COLUMN)\n",
    "benign_ratio = 2  # Adjust this ratio as needed\n",
    "min_benign_samples = 50  # Ensure at least 50 benign samples are always included\n",
    "\n",
    "with ProcessPoolExecutor() as executor:\n",
    "    futures = []\n",
    "    for label, name in TARGET_DICT.items():\n",
    "        if label == NORMAL_TARGET:\n",
    "            continue  # Skip the normal target\n",
    "        \n",
    "        # Submit tasks to the executor\n",
    "        futures.append(executor.submit(common.create_dataset_for_label, label, name, benign, abnormal_type_dict, benign_ratio, min_benign_samples, all_df, target_index, TARGET_COLUMN, NORMAL_TARGET, OUTPUT_FOLDER, main_labels))\n",
    "    \n",
    "    # Retrieve results (optional, here we're just ensuring completion)\n",
    "    for future in futures:\n",
    "        name = future.result()  # Ensures all tasks are done\n",
    "        print(f\"Dataset for {name} processed.\")\n",
    "\n",
    "print(\"All datasets created successfully!\")"
   ]
  },
  {
   "cell_type": "code",
   "execution_count": 90,
   "metadata": {},
   "outputs": [
    {
     "data": {
      "text/html": [
       "<div>\n",
       "<style scoped>\n",
       "    .dataframe tbody tr th:only-of-type {\n",
       "        vertical-align: middle;\n",
       "    }\n",
       "\n",
       "    .dataframe tbody tr th {\n",
       "        vertical-align: top;\n",
       "    }\n",
       "\n",
       "    .dataframe thead th {\n",
       "        text-align: right;\n",
       "    }\n",
       "</style>\n",
       "<table border=\"1\" class=\"dataframe\">\n",
       "  <thead>\n",
       "    <tr style=\"text-align: right;\">\n",
       "      <th></th>\n",
       "      <th>age</th>\n",
       "      <th>TT4</th>\n",
       "      <th>T3</th>\n",
       "      <th>T4U</th>\n",
       "      <th>FTI</th>\n",
       "      <th>TSH</th>\n",
       "      <th>pregnant</th>\n",
       "      <th>target</th>\n",
       "    </tr>\n",
       "  </thead>\n",
       "  <tbody>\n",
       "    <tr>\n",
       "      <th>18</th>\n",
       "      <td>63</td>\n",
       "      <td>48.0</td>\n",
       "      <td>1.287035</td>\n",
       "      <td>1.02</td>\n",
       "      <td>47.0</td>\n",
       "      <td>68.00</td>\n",
       "      <td>0</td>\n",
       "      <td>1</td>\n",
       "    </tr>\n",
       "    <tr>\n",
       "      <th>19</th>\n",
       "      <td>36</td>\n",
       "      <td>90.0</td>\n",
       "      <td>2.400000</td>\n",
       "      <td>1.06</td>\n",
       "      <td>85.0</td>\n",
       "      <td>1.50</td>\n",
       "      <td>0</td>\n",
       "      <td>0</td>\n",
       "    </tr>\n",
       "    <tr>\n",
       "      <th>21</th>\n",
       "      <td>40</td>\n",
       "      <td>104.0</td>\n",
       "      <td>2.300000</td>\n",
       "      <td>1.08</td>\n",
       "      <td>96.0</td>\n",
       "      <td>1.20</td>\n",
       "      <td>0</td>\n",
       "      <td>0</td>\n",
       "    </tr>\n",
       "    <tr>\n",
       "      <th>22</th>\n",
       "      <td>40</td>\n",
       "      <td>88.0</td>\n",
       "      <td>2.100000</td>\n",
       "      <td>0.84</td>\n",
       "      <td>105.0</td>\n",
       "      <td>5.90</td>\n",
       "      <td>0</td>\n",
       "      <td>0</td>\n",
       "    </tr>\n",
       "    <tr>\n",
       "      <th>23</th>\n",
       "      <td>77</td>\n",
       "      <td>107.0</td>\n",
       "      <td>2.400000</td>\n",
       "      <td>1.13</td>\n",
       "      <td>95.0</td>\n",
       "      <td>0.05</td>\n",
       "      <td>0</td>\n",
       "      <td>0</td>\n",
       "    </tr>\n",
       "  </tbody>\n",
       "</table>\n",
       "</div>"
      ],
      "text/plain": [
       "    age    TT4        T3   T4U    FTI    TSH  pregnant  target\n",
       "18   63   48.0  1.287035  1.02   47.0  68.00         0       1\n",
       "19   36   90.0  2.400000  1.06   85.0   1.50         0       0\n",
       "21   40  104.0  2.300000  1.08   96.0   1.20         0       0\n",
       "22   40   88.0  2.100000  0.84  105.0   5.90         0       0\n",
       "23   77  107.0  2.400000  1.13   95.0   0.05         0       0"
      ]
     },
     "execution_count": 90,
     "metadata": {},
     "output_type": "execute_result"
    }
   ],
   "source": [
    "# tdf = pd.read_csv('csv_files/smurf.csv')\n",
    "# tdf['attack'].unique()\n",
    "# len(main_labels)\n",
    "all_df.head()"
   ]
  },
  {
   "cell_type": "code",
   "execution_count": 101,
   "metadata": {
    "scrolled": true
   },
   "outputs": [
    {
     "name": "stdout",
     "output_type": "stream",
     "text": [
      "csv_files ['Hypothyroid.csv', 'Hyperthyroid.csv']\n",
      "Processing CSV file: Hypothyroid.csv\n",
      "['age', 'TT4', 'T3', 'T4U', 'FTI', 'TSH', 'pregnant'] 7\n",
      "[0.00139339 0.00672703 0.00853993 0.00146822 0.01131287 0.97055856\n",
      " 0.        ] 7\n",
      "Processing CSV file: Hyperthyroid.csv\n",
      "['age', 'TT4', 'T3', 'T4U', 'FTI', 'TSH', 'pregnant'] 7\n",
      "[0.01229183 0.04024792 0.21549933 0.01165035 0.67897235 0.03458066\n",
      " 0.00675755] 7\n",
      "Hypothyroid importance list:\n",
      "Hypothyroid \n",
      "           importance\n",
      "Features            \n",
      "TSH         0.970559\n",
      "FTI         0.011313\n",
      "T3          0.008540\n",
      "TT4         0.006727\n",
      "T4U         0.001468\n",
      "age         0.001393\n",
      "pregnant    0.000000 \n",
      "\n",
      "\n",
      "\n",
      "Hypothyroid=[\"TSH\",\"FTI\",\"T3\",\"TT4\",\"T4U\"]\n"
     ]
    },
    {
     "data": {
      "image/png": "[encoded data removed]",
      "text/plain": [
       "<Figure size 1000x500 with 1 Axes>"
      ]
     },
     "metadata": {},
     "output_type": "display_data"
    },
    {
     "name": "stdout",
     "output_type": "stream",
     "text": [
      "-----------------------------------------------------------------------------------------------\n",
      "\n",
      "\n",
      "\n",
      "\n",
      "Hyperthyroid importance list:\n",
      "Hyperthyroid \n",
      "           importance\n",
      "Features            \n",
      "FTI         0.678972\n",
      "T3          0.215499\n",
      "TT4         0.040248\n",
      "TSH         0.034581\n",
      "age         0.012292\n",
      "T4U         0.011650\n",
      "pregnant    0.006758 \n",
      "\n",
      "\n",
      "\n",
      "Hyperthyroid=[\"FTI\",\"T3\",\"TT4\",\"TSH\",\"age\"]\n"
     ]
    },
    {
     "data": {
      "image/png": "[encoded data removed]",
      "text/plain": [
       "<Figure size 1000x500 with 1 Axes>"
      ]
     },
     "metadata": {},
     "output_type": "display_data"
    },
    {
     "name": "stdout",
     "output_type": "stream",
     "text": [
      "-----------------------------------------------------------------------------------------------\n",
      "\n",
      "\n",
      "\n",
      "\n",
      "feature_importances: {'Hypothyroid': ['TSH', 'FTI', 'T3', 'TT4', 'T4U'], 'Hyperthyroid': ['FTI', 'T3', 'TT4', 'TSH', 'age']}\n",
      "Total operation time: = 3.9810807704925537 seconds\n"
     ]
    }
   ],
   "source": [
    "seconds = time.time()\n",
    "\n",
    "# CSV files names:\n",
    "csv_files=os.listdir(OUTPUT_FOLDER)\n",
    "print('csv_files',csv_files)\n",
    "\n",
    "feature_importances = {}\n",
    "SVMs = {}\n",
    "\n",
    "process_csv_with_args = partial(\n",
    "        common.process_csv, \n",
    "        main_labels=main_labels, \n",
    "        target_column=TARGET_COLUMN, \n",
    "        normal_target=NORMAL_TARGET, \n",
    "        numerical_columns=NUMERICAL_COLUMNS, \n",
    "        output_folder=OUTPUT_FOLDER,\n",
    "        scaler=scaler \n",
    "    )\n",
    "\n",
    "with ProcessPoolExecutor() as executor:\n",
    "        results = list(executor.map(process_csv_with_args, csv_files))\n",
    "\n",
    "# Collect results from the futures\n",
    "for label, important_features, svm, impor_bars, voting_clf in results:\n",
    "    feature_importances[label] = important_features\n",
    "    SVMs[label] = svm\n",
    "\n",
    "    # Show feature importance\n",
    "    common.show_feature_importance(impor_bars, label, FEATURE_FOLDER)\n",
    "    print(\"-----------------------------------------------------------------------------------------------\\n\\n\\n\\n\")\n",
    "\n",
    "print('feature_importances:', feature_importances)\n",
    "print(\"Total operation time: =\", time.time() - seconds, \"seconds\")"
   ]
  },
  {
   "cell_type": "code",
   "execution_count": 102,
   "metadata": {},
   "outputs": [
    {
     "name": "stdout",
     "output_type": "stream",
     "text": [
      "knn_predictions [0 0 0 0 0 0 0 0 0 0 0 0 0 0 0 0 0 0 0 0 0 0 0 2 0 0 0 0 0 0 0 0 0 0 0 0 0\n",
      " 0 0 0 0 0 0 0 0 0 0 0 0 0 0 0 0 2 0 2 0 1 0 0 0 0 0 0 0 0 0 0 0 0 0 0 0 0\n",
      " 0 0 0 0 0 0 0 0 0 0 0 0 0 1 0 0 0 0 0 0 0 0 0 0 0 0 0 0 0 0 1 0 0 0 0 0 0\n",
      " 2 0 0 0 0 0 0 0 0 0 0 0 0 0 0 0 0 0 0 0 0 0 0 0 2 0 0 0 0 0 0 0 0 1 0 0 0\n",
      " 0 0 0 0 0 0 0 0 0 0 0 0 1 0 0 0 0 0 0 0 0 0 1 0 0 0 0 1 0 1 0 0 0 0 0 0 0\n",
      " 0 0 0 0 0 0 0 0 1 0 0 0 0 0 0 0 2 0 0 1 0 0 0 0 0 0 2 0 0 0 0 0 0 0 0 0 0\n",
      " 0 0 0 0 0 0 0 0 0 0 0 0 0 0 0 0 0 0 0 0 0 0 0 0 0 0 0 0 0 0 0 0 0 0 0 0 0\n",
      " 0 0 0 0 0 0 0 0 0 0 0 0 0 2 0 0 1 0 0 0 0 0 0 0 0 1 0 0 0 1 0 0 2 0 0 0 0\n",
      " 0 0 0 0 0 0 0 0 0 0 0 0 0 0 0 0 0 0 0 0 0 0 0 0 0 1 0 0 0 0 0 0 0 0 0 0 0\n",
      " 0 2 0 0 0 0 1 0 0 0 2 0 0 0 1 0 0 0 0 0 0 0 0 0 0 0 0 0 0 0 0 0 1 0 0 0 0\n",
      " 0 0 0 0 0 0 0 0 0 0 0 0 0 0 0 0 0 0 0 0 0 0 2 0 0 0 1 0 0 0 0 0 0 0 0 0 0\n",
      " 2 0 0 0 0 0 0 0 0 0 0 0 0 0 0 0 0 0 0 0 0 0 0 0 0 1 0 0 0 0 0 0 0 0 0 0 0\n",
      " 0 0 0 0 0 0 1 0 0 0 1 0 1 0 0 2 2 0 0 0 0 2 0 0 2 0 0 0 0 0 0 2 0 0 0 0 0\n",
      " 0 0 0 0 2 0 0 0 0 0 0 1 0 0 1 0 0 0 0]\n",
      "Total operation time: =  0.03428030014038086 seconds\n"
     ]
    }
   ],
   "source": [
    "seconds = time.time()\n",
    "\n",
    "# Step 1: Train KNN to classify\n",
    "knn = KNeighborsClassifier(n_neighbors=5)\n",
    "# knn.fit(X_train_scaled_df, y_train_df)\n",
    "knn.fit(X_train_df, y_train_df)\n",
    "\n",
    "# Step 2: Predict classes for the test set\n",
    "X_test_df = X_test_df[:TEST_COUNT]\n",
    "X_test_scaled_df = X_test_scaled_df[:TEST_COUNT]\n",
    "y_test_df = y_test_df[:TEST_COUNT]\n",
    "\n",
    "# knn_predictions = knn.predict(X_test_scaled)\n",
    "knn_predictions = knn.predict(X_test_df)\n",
    "print('knn_predictions', knn_predictions)\n",
    "\n",
    "print(\"Total operation time: = \",time.time()- seconds ,\"seconds\")"
   ]
  },
  {
   "cell_type": "code",
   "execution_count": 103,
   "metadata": {},
   "outputs": [
    {
     "name": "stdout",
     "output_type": "stream",
     "text": [
      "-----KNN Evaluation-----\n",
      "Confusion Matrix:\n",
      "[[428   2   3]\n",
      " [ 27  22   0]\n",
      " [  2   0  16]]\n"
     ]
    },
    {
     "data": {
      "image/png": "[encoded data removed]",
      "text/plain": [
       "<Figure size 1500x1000 with 2 Axes>"
      ]
     },
     "metadata": {},
     "output_type": "display_data"
    },
    {
     "name": "stdout",
     "output_type": "stream",
     "text": [
      "\n",
      "Classification Report:\n",
      "{'0': {'precision': 0.936542669584245, 'recall': 0.9884526558891455, 'f1-score': 0.9617977528089887, 'support': 433.0}, '1': {'precision': 0.9166666666666666, 'recall': 0.4489795918367347, 'f1-score': 0.6027397260273972, 'support': 49.0}, '2': {'precision': 0.8421052631578947, 'recall': 0.8888888888888888, 'f1-score': 0.8648648648648649, 'support': 18.0}, 'accuracy': 0.932, 'macro avg': {'precision': 0.8984381998029355, 'recall': 0.7754403788715898, 'f1-score': 0.8098007812337503, 'support': 500.0}, 'weighted avg': {'precision': 0.9311950746669737, 'recall': 0.932, 'f1-score': 0.9231204822184043, 'support': 500.0}}\n",
      "Accuracy: 0.932\n"
     ]
    },
    {
     "data": {
      "text/plain": [
       "(array([[428,   2,   3],\n",
       "        [ 27,  22,   0],\n",
       "        [  2,   0,  16]]),\n",
       " {'0': {'precision': 0.936542669584245,\n",
       "   'recall': 0.9884526558891455,\n",
       "   'f1-score': 0.9617977528089887,\n",
       "   'support': 433.0},\n",
       "  '1': {'precision': 0.9166666666666666,\n",
       "   'recall': 0.4489795918367347,\n",
       "   'f1-score': 0.6027397260273972,\n",
       "   'support': 49.0},\n",
       "  '2': {'precision': 0.8421052631578947,\n",
       "   'recall': 0.8888888888888888,\n",
       "   'f1-score': 0.8648648648648649,\n",
       "   'support': 18.0},\n",
       "  'accuracy': 0.932,\n",
       "  'macro avg': {'precision': 0.8984381998029355,\n",
       "   'recall': 0.7754403788715898,\n",
       "   'f1-score': 0.8098007812337503,\n",
       "   'support': 500.0},\n",
       "  'weighted avg': {'precision': 0.9311950746669737,\n",
       "   'recall': 0.932,\n",
       "   'f1-score': 0.9231204822184043,\n",
       "   'support': 500.0}},\n",
       " 0.932)"
      ]
     },
     "execution_count": 103,
     "metadata": {},
     "output_type": "execute_result"
    }
   ],
   "source": [
    "common.evaluate(y_test_df, knn_predictions, heading='-----KNN Evaluation-----')"
   ]
  },
  {
   "cell_type": "code",
   "execution_count": 104,
   "metadata": {
    "scrolled": true
   },
   "outputs": [
    {
     "name": "stdout",
     "output_type": "stream",
     "text": [
      "svm prediction:  [0] knn prediction:  2 actual value:  2\n",
      "svm prediction:  [0] knn prediction:  2 actual value:  2\n",
      "svm prediction:  [0] knn prediction:  2 actual value:  2\n",
      "svm prediction:  [0] knn prediction:  1 actual value:  1\n",
      "svm prediction:  [0] knn prediction:  1 actual value:  1\n",
      "svm prediction:  [0] knn prediction:  1 actual value:  0\n",
      "svm prediction:  [0] knn prediction:  2 actual value:  2\n",
      "svm prediction:  [0] knn prediction:  2 actual value:  2\n",
      "svm prediction:  [0] knn prediction:  1 actual value:  1\n",
      "svm prediction:  [0] knn prediction:  1 actual value:  1\n",
      "svm prediction:  [0] knn prediction:  1 actual value:  1\n",
      "svm prediction:  [0] knn prediction:  1 actual value:  1\n",
      "svm prediction:  [0] knn prediction:  1 actual value:  1\n",
      "svm prediction:  [0] knn prediction:  1 actual value:  1\n",
      "svm prediction:  [0] knn prediction:  2 actual value:  2\n",
      "svm prediction:  [1] knn prediction:  1 actual value:  0\n",
      "svm prediction:  [0] knn prediction:  2 actual value:  2\n",
      "svm prediction:  [0] knn prediction:  2 actual value:  2\n",
      "svm prediction:  [0] knn prediction:  1 actual value:  1\n",
      "svm prediction:  [0] knn prediction:  1 actual value:  1\n",
      "svm prediction:  [0] knn prediction:  1 actual value:  1\n",
      "svm prediction:  [0] knn prediction:  2 actual value:  0\n",
      "svm prediction:  [0] knn prediction:  1 actual value:  1\n",
      "svm prediction:  [0] knn prediction:  2 actual value:  2\n",
      "svm prediction:  [0] knn prediction:  1 actual value:  1\n",
      "svm prediction:  [0] knn prediction:  2 actual value:  0\n",
      "svm prediction:  [0] knn prediction:  1 actual value:  1\n",
      "svm prediction:  [0] knn prediction:  1 actual value:  1\n",
      "svm prediction:  [0] knn prediction:  2 actual value:  2\n",
      "svm prediction:  [0] knn prediction:  1 actual value:  1\n",
      "svm prediction:  [0] knn prediction:  2 actual value:  2\n",
      "svm prediction:  [0] knn prediction:  1 actual value:  1\n",
      "svm prediction:  [0] knn prediction:  1 actual value:  1\n",
      "svm prediction:  [0] knn prediction:  1 actual value:  1\n",
      "svm prediction:  [0] knn prediction:  1 actual value:  1\n",
      "svm prediction:  [0] knn prediction:  2 actual value:  2\n",
      "svm prediction:  [0] knn prediction:  2 actual value:  2\n",
      "svm prediction:  [0] knn prediction:  2 actual value:  2\n",
      "svm prediction:  [0] knn prediction:  2 actual value:  2\n",
      "svm prediction:  [0] knn prediction:  2 actual value:  2\n",
      "svm prediction:  [0] knn prediction:  2 actual value:  0\n",
      "svm prediction:  [0] knn prediction:  1 actual value:  1\n",
      "svm prediction:  [0] knn prediction:  1 actual value:  1\n",
      "Total operation time: =  0.08306574821472168 seconds\n"
     ]
    }
   ],
   "source": [
    "svm_predictions = []\n",
    "seconds = time.time()\n",
    "\n",
    "for i in range(len(X_test_scaled_df)):\n",
    "    test_instance_df = X_test_scaled_df.iloc[i].to_frame().T\n",
    "    if knn_predictions[i] == NORMAL_TARGET:\n",
    "        svm_predictions.append((0, NORMAL_TARGET, y_test_df.iloc[i]))\n",
    "        continue\n",
    "    predicted_label = TARGET_DICT[knn_predictions[i]]\n",
    "    # print('predicted_label', predicted_label)\n",
    "    selected_features = feature_importances[predicted_label]\n",
    "    # print('selected_features', selected_features)\n",
    "    svm_model = SVMs[predicted_label]\n",
    "    \n",
    "    # Select features for the SVM\n",
    "    test_instance_selected_df = test_instance_df[selected_features]\n",
    "    svm_prediction = svm_model.predict(test_instance_selected_df)\n",
    "    print('svm prediction: ', svm_prediction, 'knn prediction: ', INV_TARGET_DICT[predicted_label], 'actual value: ', y_test_df.iloc[i])\n",
    "    svm_predictions.append((svm_prediction, INV_TARGET_DICT[predicted_label], y_test_df.iloc[i]))\n",
    "\n",
    "print(\"Total operation time: = \",time.time()- seconds ,\"seconds\")"
   ]
  },
  {
   "cell_type": "code",
   "execution_count": 106,
   "metadata": {},
   "outputs": [
    {
     "name": "stdout",
     "output_type": "stream",
     "text": [
      "anomaly_mask 500\n",
      "[0, 0, 0, 0, 0, 0, 0, 0, 0, 0, 0, 0, 0, 0, 0, 0, 0, 0, 0, 0, 0, 0, 0, 2, 0, 0, 0, 0, 0, 0, 0, 0, 0, 0, 0, 0, 0, 0, 0, 0, 0, 0, 0, 0, 0, 0, 0, 0, 0, 0, 0, 0, 0, 2, 0, 2, 0, 1, 0, 0, 0, 0, 0, 0, 0, 0, 0, 0, 0, 0, 0, 0, 0, 0, 0, 0, 0, 0, 0, 0, 0, 0, 0, 0, 0, 0, 0, 1, 0, 0, 0, 0, 0, 0, 0, 0, 0, 0, 0, 0, 0, 0, 0, 0, 1, 0, 0, 0, 0, 0, 0, 2, 0, 0, 0, 0, 0, 0, 0, 0, 0, 0, 0, 0, 0, 0, 0, 0, 0, 0, 0, 0, 0, 0, 0, 2, 0, 0, 0, 0, 0, 0, 0, 0, 1, 0, 0, 0, 0, 0, 0, 0, 0, 0, 0, 0, 0, 0, 0, 0, 1, 0, 0, 0, 0, 0, 0, 0, 0, 0, 1, 0, 0, 0, 0, 1, 0, 1, 0, 0, 0, 0, 0, 0, 0, 0, 0, 0, 0, 0, 0, 0, 0, 1, 0, 0, 0, 0, 0, 0, 0, 2, 0, 0, 0, 0, 0, 0, 0, 0, 0, 2, 0, 0, 0, 0, 0, 0, 0, 0, 0, 0, 0, 0, 0, 0, 0, 0, 0, 0, 0, 0, 0, 0, 0, 0, 0, 0, 0, 0, 0, 0, 0, 0, 0, 0, 0, 0, 0, 0, 0, 0, 0, 0, 0, 0, 0, 0, 0, 0, 0, 0, 0, 0, 0, 0, 0, 0, 0, 0, 0, 0, 2, 0, 0, 1, 0, 0, 0, 0, 0, 0, 0, 0, 1, 0, 0, 0, 1, 0, 0, 2, 0, 0, 0, 0, 0, 0, 0, 0, 0, 0, 0, 0, 0, 0, 0, 0, 0, 0, 0, 0, 0, 0, 0, 0, 0, 0, 0, 0, 0, 1, 0, 0, 0, 0, 0, 0, 0, 0, 0, 0, 0, 0, 2, 0, 0, 0, 0, 1, 0, 0, 0, 2, 0, 0, 0, 1, 0, 0, 0, 0, 0, 0, 0, 0, 0, 0, 0, 0, 0, 0, 0, 0, 0, 1, 0, 0, 0, 0, 0, 0, 0, 0, 0, 0, 0, 0, 0, 0, 0, 0, 0, 0, 0, 0, 0, 0, 0, 0, 0, 0, 2, 0, 0, 0, 1, 0, 0, 0, 0, 0, 0, 0, 0, 0, 0, 2, 0, 0, 0, 0, 0, 0, 0, 0, 0, 0, 0, 0, 0, 0, 0, 0, 0, 0, 0, 0, 0, 0, 0, 0, 1, 0, 0, 0, 0, 0, 0, 0, 0, 0, 0, 0, 0, 0, 0, 0, 0, 0, 1, 0, 0, 0, 1, 0, 1, 0, 0, 2, 2, 0, 0, 0, 0, 2, 0, 0, 2, 0, 0, 0, 0, 0, 0, 2, 0, 0, 0, 0, 0, 0, 0, 0, 0, 2, 0, 0, 0, 0, 0, 0, 1, 0, 0, 1, 0, 0, 0, 0]\n",
      "Lengths:  43 43\n",
      "SVM Evaluation (for anomalies)\n",
      "Confusion Matrix:\n",
      "[[ 1  1  3]\n",
      " [ 0 22  0]\n",
      " [ 0  0 16]]\n"
     ]
    },
    {
     "data": {
      "image/png": "[encoded data removed]",
      "text/plain": [
       "<Figure size 1500x1000 with 2 Axes>"
      ]
     },
     "metadata": {},
     "output_type": "display_data"
    },
    {
     "name": "stdout",
     "output_type": "stream",
     "text": [
      "\n",
      "Classification Report:\n",
      "{'0': {'precision': 1.0, 'recall': 0.2, 'f1-score': 0.3333333333333333, 'support': 5.0}, '1': {'precision': 0.9565217391304348, 'recall': 1.0, 'f1-score': 0.9777777777777777, 'support': 22.0}, '2': {'precision': 0.8421052631578947, 'recall': 1.0, 'f1-score': 0.9142857142857143, 'support': 16.0}, 'accuracy': 0.9069767441860465, 'macro avg': {'precision': 0.9328756674294431, 'recall': 0.7333333333333334, 'f1-score': 0.7417989417989418, 'support': 43.0}, 'weighted avg': {'precision': 0.9190037784045553, 'recall': 0.9069767441860465, 'f1-score': 0.8792174234034699, 'support': 43.0}}\n",
      "Accuracy: 0.9069767441860465\n"
     ]
    },
    {
     "data": {
      "text/plain": [
       "(array([[ 1,  1,  3],\n",
       "        [ 0, 22,  0],\n",
       "        [ 0,  0, 16]]),\n",
       " {'0': {'precision': 1.0,\n",
       "   'recall': 0.2,\n",
       "   'f1-score': 0.3333333333333333,\n",
       "   'support': 5.0},\n",
       "  '1': {'precision': 0.9565217391304348,\n",
       "   'recall': 1.0,\n",
       "   'f1-score': 0.9777777777777777,\n",
       "   'support': 22.0},\n",
       "  '2': {'precision': 0.8421052631578947,\n",
       "   'recall': 1.0,\n",
       "   'f1-score': 0.9142857142857143,\n",
       "   'support': 16.0},\n",
       "  'accuracy': 0.9069767441860465,\n",
       "  'macro avg': {'precision': 0.9328756674294431,\n",
       "   'recall': 0.7333333333333334,\n",
       "   'f1-score': 0.7417989417989418,\n",
       "   'support': 43.0},\n",
       "  'weighted avg': {'precision': 0.9190037784045553,\n",
       "   'recall': 0.9069767441860465,\n",
       "   'f1-score': 0.8792174234034699,\n",
       "   'support': 43.0}},\n",
       " 0.9069767441860465)"
      ]
     },
     "execution_count": 106,
     "metadata": {},
     "output_type": "execute_result"
    }
   ],
   "source": [
    "# Now evaluate SVM predictions only for the anomalies detected by KNN\n",
    "# Create a mask for test instances that KNN classified as anomalies\n",
    "anomaly_mask = knn_predictions != NORMAL_TARGET  # Assuming normal_target is your normal class\n",
    "print('anomaly_mask', len(anomaly_mask))\n",
    "\n",
    "def get_value(t):\n",
    "    pred, knn, y_test = t\n",
    "    if pred == 0:\n",
    "        return knn\n",
    "    else:\n",
    "        return NORMAL_TARGET\n",
    "# Get true labels and predictions for anomalies\n",
    "svm_predictions_actual = [get_value(t) for t in svm_predictions]\n",
    "print(svm_predictions_actual)\n",
    "# svm_predictions_actual = np.array(svm_predictions_actual)\n",
    "svm_predictions_actual_df = pd.DataFrame(svm_predictions_actual, columns=[TARGET_COLUMN])\n",
    "y_test_anomalies_df = y_test_df[anomaly_mask]\n",
    "svm_predictions_anomalies_df = svm_predictions_actual_df[anomaly_mask]\n",
    "print('Lengths: ', len(y_test_anomalies_df), len(svm_predictions_anomalies_df))\n",
    "\n",
    "# Evaluate SVM only on the anomalies\n",
    "common.evaluate(y_test_anomalies_df, svm_predictions_anomalies_df, heading='SVM Evaluation (for anomalies)')"
   ]
  },
  {
   "cell_type": "code",
   "execution_count": 107,
   "metadata": {},
   "outputs": [
    {
     "name": "stdout",
     "output_type": "stream",
     "text": [
      "SVM Evaluation (for all)\n",
      "Confusion Matrix:\n",
      "[[429   1   3]\n",
      " [ 27  22   0]\n",
      " [  2   0  16]]\n"
     ]
    },
    {
     "data": {
      "image/png": "[encoded data removed]",
      "text/plain": [
       "<Figure size 1500x1000 with 2 Axes>"
      ]
     },
     "metadata": {},
     "output_type": "display_data"
    },
    {
     "name": "stdout",
     "output_type": "stream",
     "text": [
      "\n",
      "Classification Report:\n",
      "{'0': {'precision': 0.9366812227074236, 'recall': 0.9907621247113164, 'f1-score': 0.9629629629629629, 'support': 433.0}, '1': {'precision': 0.9565217391304348, 'recall': 0.4489795918367347, 'f1-score': 0.6111111111111112, 'support': 49.0}, '2': {'precision': 0.8421052631578947, 'recall': 0.8888888888888888, 'f1-score': 0.8648648648648649, 'support': 18.0}, 'accuracy': 0.934, 'macro avg': {'precision': 0.9117694083319177, 'recall': 0.7762102018123134, 'f1-score': 0.8129796463129796, 'support': 500.0}, 'weighted avg': {'precision': 0.9352208587730957, 'recall': 0.934, 'f1-score': 0.9249499499499498, 'support': 500.0}}\n",
      "Accuracy: 0.934\n"
     ]
    },
    {
     "data": {
      "text/plain": [
       "(array([[429,   1,   3],\n",
       "        [ 27,  22,   0],\n",
       "        [  2,   0,  16]]),\n",
       " {'0': {'precision': 0.9366812227074236,\n",
       "   'recall': 0.9907621247113164,\n",
       "   'f1-score': 0.9629629629629629,\n",
       "   'support': 433.0},\n",
       "  '1': {'precision': 0.9565217391304348,\n",
       "   'recall': 0.4489795918367347,\n",
       "   'f1-score': 0.6111111111111112,\n",
       "   'support': 49.0},\n",
       "  '2': {'precision': 0.8421052631578947,\n",
       "   'recall': 0.8888888888888888,\n",
       "   'f1-score': 0.8648648648648649,\n",
       "   'support': 18.0},\n",
       "  'accuracy': 0.934,\n",
       "  'macro avg': {'precision': 0.9117694083319177,\n",
       "   'recall': 0.7762102018123134,\n",
       "   'f1-score': 0.8129796463129796,\n",
       "   'support': 500.0},\n",
       "  'weighted avg': {'precision': 0.9352208587730957,\n",
       "   'recall': 0.934,\n",
       "   'f1-score': 0.9249499499499498,\n",
       "   'support': 500.0}},\n",
       " 0.934)"
      ]
     },
     "execution_count": 107,
     "metadata": {},
     "output_type": "execute_result"
    }
   ],
   "source": [
    "common.evaluate(y_test_df, svm_predictions_actual_df, heading='SVM Evaluation (for all)')"
   ]
  },
  {
   "cell_type": "code",
   "execution_count": null,
   "metadata": {},
   "outputs": [],
   "source": []
  }
 ],
 "metadata": {
  "kernelspec": {
   "display_name": "Python 3 (ipykernel)",
   "language": "python",
   "name": "python3"
  },
  "language_info": {
   "codemirror_mode": {
    "name": "ipython",
    "version": 3
   },
   "file_extension": ".py",
   "mimetype": "text/x-python",
   "name": "python",
   "nbconvert_exporter": "python",
   "pygments_lexer": "ipython3",
   "version": "3.12.6"
  }
 },
 "nbformat": 4,
 "nbformat_minor": 4
}
