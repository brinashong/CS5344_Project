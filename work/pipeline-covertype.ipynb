{
 "cells": [
  {
   "cell_type": "code",
   "execution_count": 1,
   "metadata": {},
   "outputs": [],
   "source": [
    "import wandb\n",
    "import numpy as np\n",
    "import os\n",
    "import random\n",
    "import glob\n",
    "import pandas as pd\n",
    "import time\n",
    "import sklearn as sk\n",
    "import matplotlib.pyplot as plt\n",
    "%matplotlib inline\n",
    "from sklearn.linear_model import LogisticRegression\n",
    "from sklearn.tree import DecisionTreeClassifier\n",
    "from sklearn.ensemble import ExtraTreesClassifier, RandomForestClassifier\n",
    "from sklearn.ensemble import RandomForestRegressor, GradientBoostingClassifier, VotingClassifier\n",
    "from sklearn.datasets import fetch_covtype\n",
    "from sklearn.neighbors import KNeighborsClassifier\n",
    "from sklearn.preprocessing import OneHotEncoder, StandardScaler, LabelEncoder\n",
    "from sklearn.svm import SVC\n",
    "from sklearn.model_selection import train_test_split, cross_val_score\n",
    "from sklearn.metrics import classification_report, confusion_matrix, accuracy_score\n",
    "from scipy.io import arff\n",
    "from sklearn.datasets import fetch_openml\n",
    "from joblib import Parallel, delayed"
   ]
  },
  {
   "cell_type": "code",
   "execution_count": 2,
   "metadata": {},
   "outputs": [
    {
     "name": "stderr",
     "output_type": "stream",
     "text": [
      "\u001b[34m\u001b[1mwandb\u001b[0m: Currently logged in as: \u001b[33mbrinashong\u001b[0m. Use \u001b[1m`wandb login --relogin`\u001b[0m to force relogin\n"
     ]
    },
    {
     "data": {
      "text/plain": [
       "True"
      ]
     },
     "execution_count": 2,
     "metadata": {},
     "output_type": "execute_result"
    }
   ],
   "source": [
    "wandb.login()"
   ]
  },
  {
   "cell_type": "code",
   "execution_count": 3,
   "metadata": {},
   "outputs": [],
   "source": [
    "%run 'common.ipynb'"
   ]
  },
  {
   "cell_type": "code",
   "execution_count": 4,
   "metadata": {},
   "outputs": [],
   "source": [
    "# Shared variables\n",
    "OUTPUT_FOLDER = 'csv_files'\n",
    "FEATURE_FOLDER = 'features'\n",
    "TEST_COUNT = 500"
   ]
  },
  {
   "cell_type": "code",
   "execution_count": 5,
   "metadata": {},
   "outputs": [
    {
     "name": "stdout",
     "output_type": "stream",
     "text": [
      "Normal class:  0    2\n",
      "dtype: int32\n",
      "Feature names:  ['Elevation', 'Aspect', 'Slope', 'Horizontal_Distance_To_Hydrology', 'Vertical_Distance_To_Hydrology', 'Horizontal_Distance_To_Roadways', 'Hillshade_9am', 'Hillshade_Noon', 'Hillshade_3pm', 'Horizontal_Distance_To_Fire_Points', 'Wilderness_Area_0', 'Wilderness_Area_1', 'Wilderness_Area_2', 'Wilderness_Area_3', 'Soil_Type_0', 'Soil_Type_1', 'Soil_Type_2', 'Soil_Type_3', 'Soil_Type_4', 'Soil_Type_5', 'Soil_Type_6', 'Soil_Type_7', 'Soil_Type_8', 'Soil_Type_9', 'Soil_Type_10', 'Soil_Type_11', 'Soil_Type_12', 'Soil_Type_13', 'Soil_Type_14', 'Soil_Type_15', 'Soil_Type_16', 'Soil_Type_17', 'Soil_Type_18', 'Soil_Type_19', 'Soil_Type_20', 'Soil_Type_21', 'Soil_Type_22', 'Soil_Type_23', 'Soil_Type_24', 'Soil_Type_25', 'Soil_Type_26', 'Soil_Type_27', 'Soil_Type_28', 'Soil_Type_29', 'Soil_Type_30', 'Soil_Type_31', 'Soil_Type_32', 'Soil_Type_33', 'Soil_Type_34', 'Soil_Type_35', 'Soil_Type_36', 'Soil_Type_37', 'Soil_Type_38', 'Soil_Type_39']\n"
     ]
    }
   ],
   "source": [
    "%run covertype.ipynb"
   ]
  },
  {
   "cell_type": "code",
   "execution_count": 6,
   "metadata": {},
   "outputs": [
    {
     "data": {
      "text/html": [
       "<div>\n",
       "<style scoped>\n",
       "    .dataframe tbody tr th:only-of-type {\n",
       "        vertical-align: middle;\n",
       "    }\n",
       "\n",
       "    .dataframe tbody tr th {\n",
       "        vertical-align: top;\n",
       "    }\n",
       "\n",
       "    .dataframe thead th {\n",
       "        text-align: right;\n",
       "    }\n",
       "</style>\n",
       "<table border=\"1\" class=\"dataframe\">\n",
       "  <thead>\n",
       "    <tr style=\"text-align: right;\">\n",
       "      <th></th>\n",
       "      <th>Elevation</th>\n",
       "      <th>Aspect</th>\n",
       "      <th>Slope</th>\n",
       "      <th>Horizontal_Distance_To_Hydrology</th>\n",
       "      <th>Vertical_Distance_To_Hydrology</th>\n",
       "      <th>Horizontal_Distance_To_Roadways</th>\n",
       "      <th>Hillshade_9am</th>\n",
       "      <th>Hillshade_Noon</th>\n",
       "      <th>Hillshade_3pm</th>\n",
       "      <th>Horizontal_Distance_To_Fire_Points</th>\n",
       "      <th>...</th>\n",
       "      <th>Soil_Type_31</th>\n",
       "      <th>Soil_Type_32</th>\n",
       "      <th>Soil_Type_33</th>\n",
       "      <th>Soil_Type_34</th>\n",
       "      <th>Soil_Type_35</th>\n",
       "      <th>Soil_Type_36</th>\n",
       "      <th>Soil_Type_37</th>\n",
       "      <th>Soil_Type_38</th>\n",
       "      <th>Soil_Type_39</th>\n",
       "      <th>Cover_Type</th>\n",
       "    </tr>\n",
       "  </thead>\n",
       "  <tbody>\n",
       "    <tr>\n",
       "      <th>0</th>\n",
       "      <td>2596.0</td>\n",
       "      <td>51.0</td>\n",
       "      <td>3.0</td>\n",
       "      <td>258.0</td>\n",
       "      <td>0.0</td>\n",
       "      <td>510.0</td>\n",
       "      <td>221.0</td>\n",
       "      <td>232.0</td>\n",
       "      <td>148.0</td>\n",
       "      <td>6279.0</td>\n",
       "      <td>...</td>\n",
       "      <td>0.0</td>\n",
       "      <td>0.0</td>\n",
       "      <td>0.0</td>\n",
       "      <td>0.0</td>\n",
       "      <td>0.0</td>\n",
       "      <td>0.0</td>\n",
       "      <td>0.0</td>\n",
       "      <td>0.0</td>\n",
       "      <td>0.0</td>\n",
       "      <td>5</td>\n",
       "    </tr>\n",
       "    <tr>\n",
       "      <th>1</th>\n",
       "      <td>2590.0</td>\n",
       "      <td>56.0</td>\n",
       "      <td>2.0</td>\n",
       "      <td>212.0</td>\n",
       "      <td>-6.0</td>\n",
       "      <td>390.0</td>\n",
       "      <td>220.0</td>\n",
       "      <td>235.0</td>\n",
       "      <td>151.0</td>\n",
       "      <td>6225.0</td>\n",
       "      <td>...</td>\n",
       "      <td>0.0</td>\n",
       "      <td>0.0</td>\n",
       "      <td>0.0</td>\n",
       "      <td>0.0</td>\n",
       "      <td>0.0</td>\n",
       "      <td>0.0</td>\n",
       "      <td>0.0</td>\n",
       "      <td>0.0</td>\n",
       "      <td>0.0</td>\n",
       "      <td>5</td>\n",
       "    </tr>\n",
       "    <tr>\n",
       "      <th>2</th>\n",
       "      <td>2804.0</td>\n",
       "      <td>139.0</td>\n",
       "      <td>9.0</td>\n",
       "      <td>268.0</td>\n",
       "      <td>65.0</td>\n",
       "      <td>3180.0</td>\n",
       "      <td>234.0</td>\n",
       "      <td>238.0</td>\n",
       "      <td>135.0</td>\n",
       "      <td>6121.0</td>\n",
       "      <td>...</td>\n",
       "      <td>0.0</td>\n",
       "      <td>0.0</td>\n",
       "      <td>0.0</td>\n",
       "      <td>0.0</td>\n",
       "      <td>0.0</td>\n",
       "      <td>0.0</td>\n",
       "      <td>0.0</td>\n",
       "      <td>0.0</td>\n",
       "      <td>0.0</td>\n",
       "      <td>2</td>\n",
       "    </tr>\n",
       "    <tr>\n",
       "      <th>3</th>\n",
       "      <td>2785.0</td>\n",
       "      <td>155.0</td>\n",
       "      <td>18.0</td>\n",
       "      <td>242.0</td>\n",
       "      <td>118.0</td>\n",
       "      <td>3090.0</td>\n",
       "      <td>238.0</td>\n",
       "      <td>238.0</td>\n",
       "      <td>122.0</td>\n",
       "      <td>6211.0</td>\n",
       "      <td>...</td>\n",
       "      <td>0.0</td>\n",
       "      <td>0.0</td>\n",
       "      <td>0.0</td>\n",
       "      <td>0.0</td>\n",
       "      <td>0.0</td>\n",
       "      <td>0.0</td>\n",
       "      <td>0.0</td>\n",
       "      <td>0.0</td>\n",
       "      <td>0.0</td>\n",
       "      <td>2</td>\n",
       "    </tr>\n",
       "    <tr>\n",
       "      <th>4</th>\n",
       "      <td>2595.0</td>\n",
       "      <td>45.0</td>\n",
       "      <td>2.0</td>\n",
       "      <td>153.0</td>\n",
       "      <td>-1.0</td>\n",
       "      <td>391.0</td>\n",
       "      <td>220.0</td>\n",
       "      <td>234.0</td>\n",
       "      <td>150.0</td>\n",
       "      <td>6172.0</td>\n",
       "      <td>...</td>\n",
       "      <td>0.0</td>\n",
       "      <td>0.0</td>\n",
       "      <td>0.0</td>\n",
       "      <td>0.0</td>\n",
       "      <td>0.0</td>\n",
       "      <td>0.0</td>\n",
       "      <td>0.0</td>\n",
       "      <td>0.0</td>\n",
       "      <td>0.0</td>\n",
       "      <td>5</td>\n",
       "    </tr>\n",
       "  </tbody>\n",
       "</table>\n",
       "<p>5 rows × 55 columns</p>\n",
       "</div>"
      ],
      "text/plain": [
       "   Elevation  Aspect  Slope  Horizontal_Distance_To_Hydrology  \\\n",
       "0     2596.0    51.0    3.0                             258.0   \n",
       "1     2590.0    56.0    2.0                             212.0   \n",
       "2     2804.0   139.0    9.0                             268.0   \n",
       "3     2785.0   155.0   18.0                             242.0   \n",
       "4     2595.0    45.0    2.0                             153.0   \n",
       "\n",
       "   Vertical_Distance_To_Hydrology  Horizontal_Distance_To_Roadways  \\\n",
       "0                             0.0                            510.0   \n",
       "1                            -6.0                            390.0   \n",
       "2                            65.0                           3180.0   \n",
       "3                           118.0                           3090.0   \n",
       "4                            -1.0                            391.0   \n",
       "\n",
       "   Hillshade_9am  Hillshade_Noon  Hillshade_3pm  \\\n",
       "0          221.0           232.0          148.0   \n",
       "1          220.0           235.0          151.0   \n",
       "2          234.0           238.0          135.0   \n",
       "3          238.0           238.0          122.0   \n",
       "4          220.0           234.0          150.0   \n",
       "\n",
       "   Horizontal_Distance_To_Fire_Points  ...  Soil_Type_31  Soil_Type_32  \\\n",
       "0                              6279.0  ...           0.0           0.0   \n",
       "1                              6225.0  ...           0.0           0.0   \n",
       "2                              6121.0  ...           0.0           0.0   \n",
       "3                              6211.0  ...           0.0           0.0   \n",
       "4                              6172.0  ...           0.0           0.0   \n",
       "\n",
       "   Soil_Type_33  Soil_Type_34  Soil_Type_35  Soil_Type_36  Soil_Type_37  \\\n",
       "0           0.0           0.0           0.0           0.0           0.0   \n",
       "1           0.0           0.0           0.0           0.0           0.0   \n",
       "2           0.0           0.0           0.0           0.0           0.0   \n",
       "3           0.0           0.0           0.0           0.0           0.0   \n",
       "4           0.0           0.0           0.0           0.0           0.0   \n",
       "\n",
       "   Soil_Type_38  Soil_Type_39  Cover_Type  \n",
       "0           0.0           0.0           5  \n",
       "1           0.0           0.0           5  \n",
       "2           0.0           0.0           2  \n",
       "3           0.0           0.0           2  \n",
       "4           0.0           0.0           5  \n",
       "\n",
       "[5 rows x 55 columns]"
      ]
     },
     "execution_count": 6,
     "metadata": {},
     "output_type": "execute_result"
    }
   ],
   "source": [
    "# Should already be one hot encoded and label encoded\n",
    "all_df.head()"
   ]
  },
  {
   "cell_type": "code",
   "execution_count": 7,
   "metadata": {},
   "outputs": [
    {
     "name": "stdout",
     "output_type": "stream",
     "text": [
      "All files in csv_files have been removed.\n",
      "All files in features have been removed.\n"
     ]
    }
   ],
   "source": [
    "# Create a folder to save the CSVs\n",
    "remove_files_from_directory(OUTPUT_FOLDER)\n",
    "remove_files_from_directory(FEATURE_FOLDER)\n",
    "os.makedirs(OUTPUT_FOLDER, exist_ok=True)\n",
    "os.makedirs(FEATURE_FOLDER, exist_ok=True)"
   ]
  },
  {
   "cell_type": "code",
   "execution_count": 8,
   "metadata": {},
   "outputs": [],
   "source": [
    "# Save all data as csv\n",
    "all_df.to_csv('all_data.csv' ,index = False)"
   ]
  },
  {
   "cell_type": "code",
   "execution_count": 9,
   "metadata": {},
   "outputs": [
    {
     "name": "stdout",
     "output_type": "stream",
     "text": [
      "(464809, 54) (116203, 54) (464809,) (116203,)\n"
     ]
    }
   ],
   "source": [
    "# Get X and y from all_df\n",
    "X_df = all_df.drop(columns=[TARGET_COLUMN])\n",
    "y_df = all_df[TARGET_COLUMN]\n",
    "\n",
    "# Split the data into training and test sets\n",
    "X_train_df, X_test_df, y_train_df, y_test_df = train_test_split(X_df, y_df, test_size=0.2, random_state=42)\n",
    "print(X_train_df.shape, X_test_df.shape, y_train_df.shape, y_test_df.shape)"
   ]
  },
  {
   "cell_type": "code",
   "execution_count": 10,
   "metadata": {},
   "outputs": [
    {
     "data": {
      "text/html": [
       "<div>\n",
       "<style scoped>\n",
       "    .dataframe tbody tr th:only-of-type {\n",
       "        vertical-align: middle;\n",
       "    }\n",
       "\n",
       "    .dataframe tbody tr th {\n",
       "        vertical-align: top;\n",
       "    }\n",
       "\n",
       "    .dataframe thead th {\n",
       "        text-align: right;\n",
       "    }\n",
       "</style>\n",
       "<table border=\"1\" class=\"dataframe\">\n",
       "  <thead>\n",
       "    <tr style=\"text-align: right;\">\n",
       "      <th></th>\n",
       "      <th>Elevation</th>\n",
       "      <th>Aspect</th>\n",
       "      <th>Slope</th>\n",
       "      <th>Horizontal_Distance_To_Hydrology</th>\n",
       "      <th>Vertical_Distance_To_Hydrology</th>\n",
       "      <th>Horizontal_Distance_To_Roadways</th>\n",
       "      <th>Hillshade_9am</th>\n",
       "      <th>Hillshade_Noon</th>\n",
       "      <th>Hillshade_3pm</th>\n",
       "      <th>Horizontal_Distance_To_Fire_Points</th>\n",
       "      <th>...</th>\n",
       "      <th>Soil_Type_31</th>\n",
       "      <th>Soil_Type_32</th>\n",
       "      <th>Soil_Type_33</th>\n",
       "      <th>Soil_Type_34</th>\n",
       "      <th>Soil_Type_35</th>\n",
       "      <th>Soil_Type_36</th>\n",
       "      <th>Soil_Type_37</th>\n",
       "      <th>Soil_Type_38</th>\n",
       "      <th>Soil_Type_39</th>\n",
       "      <th>Cover_Type</th>\n",
       "    </tr>\n",
       "  </thead>\n",
       "  <tbody>\n",
       "    <tr>\n",
       "      <th>519924</th>\n",
       "      <td>3289.0</td>\n",
       "      <td>22.0</td>\n",
       "      <td>19.0</td>\n",
       "      <td>240.0</td>\n",
       "      <td>93.0</td>\n",
       "      <td>1708.0</td>\n",
       "      <td>205.0</td>\n",
       "      <td>196.0</td>\n",
       "      <td>122.0</td>\n",
       "      <td>2598.0</td>\n",
       "      <td>...</td>\n",
       "      <td>0.0</td>\n",
       "      <td>1.0</td>\n",
       "      <td>0.0</td>\n",
       "      <td>0.0</td>\n",
       "      <td>0.0</td>\n",
       "      <td>0.0</td>\n",
       "      <td>0.0</td>\n",
       "      <td>0.0</td>\n",
       "      <td>0.0</td>\n",
       "      <td>1</td>\n",
       "    </tr>\n",
       "    <tr>\n",
       "      <th>318451</th>\n",
       "      <td>2963.0</td>\n",
       "      <td>21.0</td>\n",
       "      <td>18.0</td>\n",
       "      <td>134.0</td>\n",
       "      <td>27.0</td>\n",
       "      <td>1243.0</td>\n",
       "      <td>206.0</td>\n",
       "      <td>200.0</td>\n",
       "      <td>127.0</td>\n",
       "      <td>1140.0</td>\n",
       "      <td>...</td>\n",
       "      <td>0.0</td>\n",
       "      <td>0.0</td>\n",
       "      <td>0.0</td>\n",
       "      <td>0.0</td>\n",
       "      <td>0.0</td>\n",
       "      <td>0.0</td>\n",
       "      <td>0.0</td>\n",
       "      <td>0.0</td>\n",
       "      <td>0.0</td>\n",
       "      <td>1</td>\n",
       "    </tr>\n",
       "    <tr>\n",
       "      <th>22325</th>\n",
       "      <td>3037.0</td>\n",
       "      <td>185.0</td>\n",
       "      <td>9.0</td>\n",
       "      <td>127.0</td>\n",
       "      <td>10.0</td>\n",
       "      <td>6462.0</td>\n",
       "      <td>222.0</td>\n",
       "      <td>246.0</td>\n",
       "      <td>158.0</td>\n",
       "      <td>3037.0</td>\n",
       "      <td>...</td>\n",
       "      <td>0.0</td>\n",
       "      <td>0.0</td>\n",
       "      <td>0.0</td>\n",
       "      <td>0.0</td>\n",
       "      <td>0.0</td>\n",
       "      <td>0.0</td>\n",
       "      <td>0.0</td>\n",
       "      <td>0.0</td>\n",
       "      <td>0.0</td>\n",
       "      <td>2</td>\n",
       "    </tr>\n",
       "    <tr>\n",
       "      <th>449376</th>\n",
       "      <td>3113.0</td>\n",
       "      <td>203.0</td>\n",
       "      <td>13.0</td>\n",
       "      <td>190.0</td>\n",
       "      <td>22.0</td>\n",
       "      <td>2125.0</td>\n",
       "      <td>213.0</td>\n",
       "      <td>251.0</td>\n",
       "      <td>171.0</td>\n",
       "      <td>730.0</td>\n",
       "      <td>...</td>\n",
       "      <td>1.0</td>\n",
       "      <td>0.0</td>\n",
       "      <td>0.0</td>\n",
       "      <td>0.0</td>\n",
       "      <td>0.0</td>\n",
       "      <td>0.0</td>\n",
       "      <td>0.0</td>\n",
       "      <td>0.0</td>\n",
       "      <td>0.0</td>\n",
       "      <td>2</td>\n",
       "    </tr>\n",
       "    <tr>\n",
       "      <th>482753</th>\n",
       "      <td>3128.0</td>\n",
       "      <td>346.0</td>\n",
       "      <td>9.0</td>\n",
       "      <td>120.0</td>\n",
       "      <td>36.0</td>\n",
       "      <td>552.0</td>\n",
       "      <td>203.0</td>\n",
       "      <td>226.0</td>\n",
       "      <td>161.0</td>\n",
       "      <td>924.0</td>\n",
       "      <td>...</td>\n",
       "      <td>0.0</td>\n",
       "      <td>0.0</td>\n",
       "      <td>0.0</td>\n",
       "      <td>0.0</td>\n",
       "      <td>0.0</td>\n",
       "      <td>0.0</td>\n",
       "      <td>0.0</td>\n",
       "      <td>0.0</td>\n",
       "      <td>0.0</td>\n",
       "      <td>1</td>\n",
       "    </tr>\n",
       "  </tbody>\n",
       "</table>\n",
       "<p>5 rows × 55 columns</p>\n",
       "</div>"
      ],
      "text/plain": [
       "        Elevation  Aspect  Slope  Horizontal_Distance_To_Hydrology  \\\n",
       "519924     3289.0    22.0   19.0                             240.0   \n",
       "318451     2963.0    21.0   18.0                             134.0   \n",
       "22325      3037.0   185.0    9.0                             127.0   \n",
       "449376     3113.0   203.0   13.0                             190.0   \n",
       "482753     3128.0   346.0    9.0                             120.0   \n",
       "\n",
       "        Vertical_Distance_To_Hydrology  Horizontal_Distance_To_Roadways  \\\n",
       "519924                            93.0                           1708.0   \n",
       "318451                            27.0                           1243.0   \n",
       "22325                             10.0                           6462.0   \n",
       "449376                            22.0                           2125.0   \n",
       "482753                            36.0                            552.0   \n",
       "\n",
       "        Hillshade_9am  Hillshade_Noon  Hillshade_3pm  \\\n",
       "519924          205.0           196.0          122.0   \n",
       "318451          206.0           200.0          127.0   \n",
       "22325           222.0           246.0          158.0   \n",
       "449376          213.0           251.0          171.0   \n",
       "482753          203.0           226.0          161.0   \n",
       "\n",
       "        Horizontal_Distance_To_Fire_Points  ...  Soil_Type_31  Soil_Type_32  \\\n",
       "519924                              2598.0  ...           0.0           1.0   \n",
       "318451                              1140.0  ...           0.0           0.0   \n",
       "22325                               3037.0  ...           0.0           0.0   \n",
       "449376                               730.0  ...           1.0           0.0   \n",
       "482753                               924.0  ...           0.0           0.0   \n",
       "\n",
       "        Soil_Type_33  Soil_Type_34  Soil_Type_35  Soil_Type_36  Soil_Type_37  \\\n",
       "519924           0.0           0.0           0.0           0.0           0.0   \n",
       "318451           0.0           0.0           0.0           0.0           0.0   \n",
       "22325            0.0           0.0           0.0           0.0           0.0   \n",
       "449376           0.0           0.0           0.0           0.0           0.0   \n",
       "482753           0.0           0.0           0.0           0.0           0.0   \n",
       "\n",
       "        Soil_Type_38  Soil_Type_39  Cover_Type  \n",
       "519924           0.0           0.0           1  \n",
       "318451           0.0           0.0           1  \n",
       "22325            0.0           0.0           2  \n",
       "449376           0.0           0.0           2  \n",
       "482753           0.0           0.0           1  \n",
       "\n",
       "[5 rows x 55 columns]"
      ]
     },
     "execution_count": 10,
     "metadata": {},
     "output_type": "execute_result"
    }
   ],
   "source": [
    "# Concatenate X_train and y_train along the columns (axis=1)\n",
    "X_y_train_df = pd.concat([X_train_df, y_train_df], axis=1)\n",
    "X_y_train_df.head()"
   ]
  },
  {
   "cell_type": "code",
   "execution_count": 11,
   "metadata": {},
   "outputs": [],
   "source": [
    "# Initialize the standard scaler\n",
    "scaler = StandardScaler()\n",
    "\n",
    "# Fit and transform the numeric columns\n",
    "X_train_scaled_df = X_train_df.copy()\n",
    "X_train_scaled_df[NUMERICAL_COLUMNS] = scaler.fit_transform(X_train_scaled_df[NUMERICAL_COLUMNS])\n",
    "# print('X_train_scaled_df', X_train_scaled_df)\n",
    "\n",
    "# Use the same scaler to transform X_test\n",
    "X_test_scaled_df = X_test_df.copy()\n",
    "X_test_scaled_df[NUMERICAL_COLUMNS] = scaler.transform(X_test_scaled_df[NUMERICAL_COLUMNS])\n",
    "# print('X_test_scaled_df', X_test_scaled_df)"
   ]
  },
  {
   "cell_type": "code",
   "execution_count": 12,
   "metadata": {},
   "outputs": [
    {
     "name": "stdout",
     "output_type": "stream",
     "text": [
      "abnormal_type_dict {2: 283301, 1: 211840, 3: 35754, 7: 20510, 6: 17367, 5: 9493, 4: 2747}\n",
      "Spruce-Fir.csv created with 495141 rows. (283301 benign and 211840 abnormal rows)\n",
      "PonderosaPine.csv created with 107262 rows. (71508 benign and 35754 abnormal rows)\n",
      "CottonwoodWillow.csv created with 8241 rows. (5494 benign and 2747 abnormal rows)\n",
      "Aspen.csv created with 28479 rows. (18986 benign and 9493 abnormal rows)\n",
      "DouglasFir.csv created with 52101 rows. (34734 benign and 17367 abnormal rows)\n",
      "Krummholz.csv created with 61530 rows. (41020 benign and 20510 abnormal rows)\n",
      "All datasets created successfully!\n"
     ]
    }
   ],
   "source": [
    "# Loop through each cover type and create a dataset\n",
    "benign = 2359289\n",
    "abnormal_type_counts = all_df[TARGET_COLUMN].value_counts()\n",
    "abnormal_type_dict = abnormal_type_counts.to_dict()\n",
    "print('abnormal_type_dict', abnormal_type_dict)\n",
    "\n",
    "benign_ratio = 2  # Adjust this ratio as needed\n",
    "min_benign_samples = 50  # Ensure at least 50 benign samples are always included\n",
    "\n",
    "for label, name in TARGET_DICT.items():\n",
    "    if label == NORMAL_TARGET:\n",
    "        continue  # Skip the normal target\n",
    "    \n",
    "    a, b = 0, 0  # Track abnormal and benign sample counts\n",
    "    \n",
    "    # Open the output file for writing\n",
    "    output_path = os.path.join(OUTPUT_FOLDER, f\"{name}.csv\")\n",
    "    with open(output_path, \"w\") as ths:\n",
    "        ths.write(','.join(main_labels) + \"\\n\")\n",
    "        \n",
    "        # Calculate the number of benign samples based on the fixed ratio\n",
    "        abnormal_count = abnormal_type_dict[label]\n",
    "        benign_num = max(min(int(abnormal_count * benign_ratio), benign), min_benign_samples)\n",
    "        # print(f'Creating {name}.csv with {benign_num} benign samples and {abnormal_count} abnormal samples.')\n",
    "\n",
    "        # Collect normal (benign) rows and abnormal rows\n",
    "        benign_rows = []\n",
    "        abnormal_rows = []\n",
    "\n",
    "        # Read all_data.csv line by line and collect rows\n",
    "        with open(\"all_data.csv\", \"r\") as file:\n",
    "            for i, line in enumerate(file):\n",
    "                if i == 0:\n",
    "                    continue  # Skip the header row\n",
    "                k = line.strip().split(\",\")  # Strip newline and split the line\n",
    "                \n",
    "                # Collect normal rows\n",
    "                if int(k[-1]) == NORMAL_TARGET:\n",
    "                    benign_rows.append(line)\n",
    "                \n",
    "                # Collect abnormal rows that match the current label\n",
    "                elif int(k[-1]) == label:\n",
    "                    abnormal_rows.append(line)\n",
    "\n",
    "        # Randomly sample benign rows\n",
    "        if len(benign_rows) > benign_num:\n",
    "            benign_rows = random.sample(benign_rows, benign_num)\n",
    "        else:\n",
    "            benign_rows = random.sample(benign_rows, len(benign_rows))  # Shuffle if fewer than required\n",
    "\n",
    "        # Concatenate benign and abnormal rows\n",
    "        combined_rows = benign_rows + abnormal_rows\n",
    "        \n",
    "        # Shuffle the combined rows\n",
    "        random.shuffle(combined_rows)\n",
    "\n",
    "        # Write the shuffled rows to the output file\n",
    "        for row in combined_rows:\n",
    "            ths.write(row)\n",
    "\n",
    "        # Print number of rows written\n",
    "        b = len(benign_rows)\n",
    "        a = len(abnormal_rows)\n",
    "        print(f\"{name}.csv created with {a + b} rows. ({b} benign and {a} abnormal rows)\")\n",
    "\n",
    "print(\"All datasets created successfully!\")"
   ]
  },
  {
   "cell_type": "code",
   "execution_count": 13,
   "metadata": {},
   "outputs": [],
   "source": [
    "# tdf = pd.read_csv('csv_files/smurf.csv')\n",
    "# tdf['attack'].unique()"
   ]
  },
  {
   "cell_type": "code",
   "execution_count": 13,
   "metadata": {},
   "outputs": [
    {
     "name": "stdout",
     "output_type": "stream",
     "text": [
      "csv_files ['Krummholz.csv', 'CottonwoodWillow.csv', 'Spruce-Fir.csv', 'Aspen.csv', 'DouglasFir.csv', 'PonderosaPine.csv']\n",
      "csv file CottonwoodWillow.csv\n",
      "importances [9.57720729e-01 2.84060065e-04 2.81002815e-04 8.82100601e-04\n",
      " 8.05705336e-04 1.29646842e-03 2.15048628e-03 3.21291129e-04\n",
      " 6.21223610e-04 2.88368646e-03 0.00000000e+00 0.00000000e+00\n",
      " 1.53003889e-03 2.18753532e-02 2.81516371e-04 1.93247192e-04\n",
      " 1.65347259e-06 4.03700886e-06 4.49395589e-03 1.63395501e-03\n",
      " 0.00000000e+00 0.00000000e+00 0.00000000e+00 2.71585218e-03\n",
      " 2.92113234e-06 0.00000000e+00 0.00000000e+00 5.81819568e-06\n",
      " 0.00000000e+00 0.00000000e+00 1.48978410e-05 0.00000000e+00\n",
      " 0.00000000e+00 0.00000000e+00 0.00000000e+00 0.00000000e+00\n",
      " 0.00000000e+00 0.00000000e+00 0.00000000e+00 0.00000000e+00\n",
      " 0.00000000e+00 0.00000000e+00 0.00000000e+00 0.00000000e+00\n",
      " 0.00000000e+00 0.00000000e+00 0.00000000e+00 0.00000000e+00\n",
      " 0.00000000e+00 0.00000000e+00 0.00000000e+00 0.00000000e+00\n",
      " 0.00000000e+00 0.00000000e+00] CottonwoodWillow\n",
      "important_features ['Elevation', 'Wilderness_Area_3', 'Soil_Type_4', 'Horizontal_Distance_To_Fire_Points', 'Hillshade_9am']\n",
      "CottonwoodWillow importance list:\n",
      "CottonwoodWillow \n",
      "                                     importance\n",
      "Features                                      \n",
      "Elevation                             0.957721\n",
      "Wilderness_Area_3                     0.021875\n",
      "Soil_Type_4                           0.004494\n",
      "Horizontal_Distance_To_Fire_Points    0.002884\n",
      "Hillshade_9am                         0.002150\n",
      "Soil_Type_5                           0.001634\n",
      "Wilderness_Area_2                     0.001530\n",
      "Horizontal_Distance_To_Roadways       0.001296\n",
      "Horizontal_Distance_To_Hydrology      0.000882\n",
      "Vertical_Distance_To_Hydrology        0.000806\n",
      "Hillshade_3pm                         0.000621\n",
      "Hillshade_Noon                        0.000321\n",
      "Aspect                                0.000284\n",
      "Soil_Type_0                           0.000282\n",
      "Slope                                 0.000281\n",
      "Soil_Type_1                           0.000193\n",
      "Soil_Type_3                           0.000004\n",
      "Soil_Type_2                           0.000002\n",
      "Wilderness_Area_1                     0.000000\n",
      "Wilderness_Area_0                     0.000000 \n",
      "\n",
      "\n",
      "\n",
      "CottonwoodWillow=[\"Elevation\",\"Wilderness_Area_3\",\"Soil_Type_4\",\"Horizontal_Distance_To_Fire_Points\",\"Hillshade_9am\"]\n",
      "Figure(1000x500)\n",
      "-----------------------------------------------------------------------------------------------\n",
      "\n",
      "\n",
      "\n",
      "\n",
      "csv file Aspen.csv\n",
      "importances [3.15151573e-01 3.06716050e-02 2.14221226e-02 3.94214239e-02\n",
      " 3.83496231e-02 1.55840772e-01 4.51563200e-02 4.05129638e-02\n",
      " 2.59560746e-02 1.18594494e-01 3.63930392e-03 0.00000000e+00\n",
      " 1.39534307e-02 2.48341454e-05 0.00000000e+00 5.82632424e-03\n",
      " 1.66546227e-03 6.88289507e-03 0.00000000e+00 5.15335518e-07\n",
      " 0.00000000e+00 0.00000000e+00 4.83476675e-05 4.21323504e-03\n",
      " 5.06713767e-03 5.92259835e-02 8.68848768e-03 0.00000000e+00\n",
      " 0.00000000e+00 2.33814945e-04 9.61828147e-03 1.40013003e-04\n",
      " 1.88313882e-03 1.73627337e-03 0.00000000e+00 3.83643225e-04\n",
      " 6.42704972e-03 2.99494883e-03 0.00000000e+00 1.34403350e-03\n",
      " 0.00000000e+00 3.06620995e-04 1.86557278e-02 5.57629568e-03\n",
      " 2.87406981e-03 2.92638005e-03 4.12592840e-03 4.60535322e-04\n",
      " 0.00000000e+00 0.00000000e+00 0.00000000e+00 3.15806391e-07\n",
      " 0.00000000e+00 0.00000000e+00] Aspen\n",
      "important_features ['Elevation', 'Horizontal_Distance_To_Roadways', 'Horizontal_Distance_To_Fire_Points', 'Hillshade_9am', 'Hillshade_Noon']\n",
      "Aspen importance list:\n",
      "Aspen \n",
      "                                       importance\n",
      "Features                                        \n",
      "Elevation                           3.151516e-01\n",
      "Horizontal_Distance_To_Roadways     1.558408e-01\n",
      "Horizontal_Distance_To_Fire_Points  1.185945e-01\n",
      "Hillshade_9am                       4.515632e-02\n",
      "Hillshade_Noon                      4.051296e-02\n",
      "Horizontal_Distance_To_Hydrology    3.942142e-02\n",
      "Vertical_Distance_To_Hydrology      3.834962e-02\n",
      "Aspect                              3.067160e-02\n",
      "Hillshade_3pm                       2.595607e-02\n",
      "Slope                               2.142212e-02\n",
      "Wilderness_Area_2                   1.395343e-02\n",
      "Soil_Type_3                         6.882895e-03\n",
      "Soil_Type_1                         5.826324e-03\n",
      "Wilderness_Area_0                   3.639304e-03\n",
      "Soil_Type_2                         1.665462e-03\n",
      "Wilderness_Area_3                   2.483415e-05\n",
      "Soil_Type_5                         5.153355e-07\n",
      "Soil_Type_0                         0.000000e+00\n",
      "Wilderness_Area_1                   0.000000e+00\n",
      "Soil_Type_4                         0.000000e+00 \n",
      "\n",
      "\n",
      "\n",
      "Aspen=[\"Elevation\",\"Horizontal_Distance_To_Roadways\",\"Horizontal_Distance_To_Fire_Points\",\"Hillshade_9am\",\"Hillshade_Noon\"]\n",
      "Figure(1000x500)\n",
      "-----------------------------------------------------------------------------------------------\n",
      "\n",
      "\n",
      "\n",
      "\n",
      "csv file DouglasFir.csv\n",
      "importances [6.88412030e-01 2.25472484e-02 4.70513039e-03 9.75749267e-03\n",
      " 1.55437756e-02 3.87003271e-02 8.88470678e-03 9.18836987e-03\n",
      " 6.74631292e-03 3.64733429e-02 1.01453975e-01 0.00000000e+00\n",
      " 1.82123175e-02 1.88053623e-03 1.25782256e-06 1.61121895e-03\n",
      " 3.19630725e-03 1.51501039e-03 1.72498745e-07 7.82944443e-05\n",
      " 0.00000000e+00 0.00000000e+00 0.00000000e+00 2.98219844e-03\n",
      " 8.38030268e-03 5.80377642e-07 8.78415219e-03 1.27134657e-06\n",
      " 0.00000000e+00 1.27826534e-05 4.23704571e-04 0.00000000e+00\n",
      " 0.00000000e+00 1.30211617e-03 0.00000000e+00 0.00000000e+00\n",
      " 8.70571582e-04 1.77386418e-03 0.00000000e+00 0.00000000e+00\n",
      " 0.00000000e+00 9.87847172e-04 1.39785519e-06 0.00000000e+00\n",
      " 2.48503761e-03 6.43562033e-04 2.09335015e-03 3.49433464e-04\n",
      " 0.00000000e+00 0.00000000e+00 0.00000000e+00 0.00000000e+00\n",
      " 0.00000000e+00 0.00000000e+00] DouglasFir\n",
      "important_features ['Elevation', 'Wilderness_Area_0', 'Horizontal_Distance_To_Roadways', 'Horizontal_Distance_To_Fire_Points', 'Aspect']\n",
      "DouglasFir importance list:\n",
      "DouglasFir \n",
      "                                       importance\n",
      "Features                                        \n",
      "Elevation                           6.884120e-01\n",
      "Wilderness_Area_0                   1.014540e-01\n",
      "Horizontal_Distance_To_Roadways     3.870033e-02\n",
      "Horizontal_Distance_To_Fire_Points  3.647334e-02\n",
      "Aspect                              2.254725e-02\n",
      "Wilderness_Area_2                   1.821232e-02\n",
      "Vertical_Distance_To_Hydrology      1.554378e-02\n",
      "Horizontal_Distance_To_Hydrology    9.757493e-03\n",
      "Hillshade_Noon                      9.188370e-03\n",
      "Hillshade_9am                       8.884707e-03\n",
      "Hillshade_3pm                       6.746313e-03\n",
      "Slope                               4.705130e-03\n",
      "Soil_Type_2                         3.196307e-03\n",
      "Wilderness_Area_3                   1.880536e-03\n",
      "Soil_Type_1                         1.611219e-03\n",
      "Soil_Type_3                         1.515010e-03\n",
      "Soil_Type_5                         7.829444e-05\n",
      "Soil_Type_0                         1.257823e-06\n",
      "Soil_Type_4                         1.724987e-07\n",
      "Wilderness_Area_1                   0.000000e+00 \n",
      "\n",
      "\n",
      "\n",
      "DouglasFir=[\"Elevation\",\"Wilderness_Area_0\",\"Horizontal_Distance_To_Roadways\",\"Horizontal_Distance_To_Fire_Points\",\"Aspect\"]\n",
      "Figure(1000x500)\n",
      "-----------------------------------------------------------------------------------------------\n",
      "\n",
      "\n",
      "\n",
      "\n",
      "csv file Krummholz.csv\n",
      "importances [8.18450637e-01 3.41382212e-03 1.55878901e-03 2.33634279e-02\n",
      " 8.80196588e-03 3.98638320e-02 3.66920683e-03 1.12464085e-02\n",
      " 2.64321074e-03 1.94109705e-02 2.53332294e-03 1.82491901e-02\n",
      " 4.40451438e-03 0.00000000e+00 0.00000000e+00 0.00000000e+00\n",
      " 0.00000000e+00 8.74737120e-04 0.00000000e+00 0.00000000e+00\n",
      " 0.00000000e+00 0.00000000e+00 0.00000000e+00 0.00000000e+00\n",
      " 0.00000000e+00 0.00000000e+00 8.04290811e-04 0.00000000e+00\n",
      " 0.00000000e+00 0.00000000e+00 0.00000000e+00 0.00000000e+00\n",
      " 1.44083415e-05 0.00000000e+00 8.72546185e-07 1.48859524e-03\n",
      " 1.57001664e-03 1.82544042e-03 3.91632986e-04 0.00000000e+00\n",
      " 1.13208887e-03 0.00000000e+00 4.43622580e-03 8.52598605e-04\n",
      " 6.37151091e-04 7.34704533e-03 4.16110318e-03 4.72306584e-04\n",
      " 2.46656429e-04 7.51874285e-05 0.00000000e+00 9.31911170e-04\n",
      " 1.47496139e-02 3.78819731e-04] Krummholz\n",
      "important_features ['Elevation', 'Horizontal_Distance_To_Roadways', 'Horizontal_Distance_To_Hydrology', 'Horizontal_Distance_To_Fire_Points', 'Wilderness_Area_1']\n",
      "Krummholz importance list:\n",
      "Krummholz \n",
      "                                     importance\n",
      "Features                                      \n",
      "Elevation                             0.818451\n",
      "Horizontal_Distance_To_Roadways       0.039864\n",
      "Horizontal_Distance_To_Hydrology      0.023363\n",
      "Horizontal_Distance_To_Fire_Points    0.019411\n",
      "Wilderness_Area_1                     0.018249\n",
      "Hillshade_Noon                        0.011246\n",
      "Vertical_Distance_To_Hydrology        0.008802\n",
      "Wilderness_Area_2                     0.004405\n",
      "Hillshade_9am                         0.003669\n",
      "Aspect                                0.003414\n",
      "Hillshade_3pm                         0.002643\n",
      "Wilderness_Area_0                     0.002533\n",
      "Slope                                 0.001559\n",
      "Soil_Type_3                           0.000875\n",
      "Wilderness_Area_3                     0.000000\n",
      "Soil_Type_0                           0.000000\n",
      "Soil_Type_1                           0.000000\n",
      "Soil_Type_2                           0.000000\n",
      "Soil_Type_4                           0.000000\n",
      "Soil_Type_5                           0.000000 \n",
      "\n",
      "\n",
      "\n",
      "Krummholz=[\"Elevation\",\"Horizontal_Distance_To_Roadways\",\"Horizontal_Distance_To_Hydrology\",\"Horizontal_Distance_To_Fire_Points\",\"Wilderness_Area_1\"]\n",
      "Figure(1000x500)\n",
      "-----------------------------------------------------------------------------------------------\n",
      "\n",
      "\n",
      "\n",
      "\n",
      "csv file PonderosaPine.csv\n",
      "importances [6.91812194e-01 6.74769174e-03 3.64571816e-03 1.14352149e-02\n",
      " 8.41086565e-03 3.21903832e-02 6.93434927e-03 7.27445646e-03\n",
      " 4.30500227e-03 2.36553385e-02 9.09721710e-02 0.00000000e+00\n",
      " 1.46848326e-03 1.38367413e-03 8.37318632e-06 4.35991526e-02\n",
      " 1.42580777e-03 4.48123709e-02 6.52482755e-06 9.51867624e-05\n",
      " 0.00000000e+00 0.00000000e+00 0.00000000e+00 5.02971881e-03\n",
      " 8.05100020e-03 3.50791745e-07 1.19236083e-04 2.74073049e-07\n",
      " 0.00000000e+00 1.23855792e-04 1.17835285e-03 0.00000000e+00\n",
      " 0.00000000e+00 3.09117522e-04 0.00000000e+00 0.00000000e+00\n",
      " 2.54216501e-05 8.49190410e-05 0.00000000e+00 0.00000000e+00\n",
      " 0.00000000e+00 9.85164240e-05 1.44235521e-07 0.00000000e+00\n",
      " 1.12662593e-03 1.73583356e-04 3.49501560e-03 9.09457605e-07\n",
      " 0.00000000e+00 0.00000000e+00 0.00000000e+00 0.00000000e+00\n",
      " 0.00000000e+00 0.00000000e+00] PonderosaPine\n",
      "important_features ['Elevation', 'Wilderness_Area_0', 'Soil_Type_3', 'Soil_Type_1', 'Horizontal_Distance_To_Roadways']\n",
      "PonderosaPine importance list:\n",
      "PonderosaPine \n",
      "                                     importance\n",
      "Features                                      \n",
      "Elevation                             0.691812\n",
      "Wilderness_Area_0                     0.090972\n",
      "Soil_Type_3                           0.044812\n",
      "Soil_Type_1                           0.043599\n",
      "Horizontal_Distance_To_Roadways       0.032190\n",
      "Horizontal_Distance_To_Fire_Points    0.023655\n",
      "Horizontal_Distance_To_Hydrology      0.011435\n",
      "Vertical_Distance_To_Hydrology        0.008411\n",
      "Hillshade_Noon                        0.007274\n",
      "Hillshade_9am                         0.006934\n",
      "Aspect                                0.006748\n",
      "Hillshade_3pm                         0.004305\n",
      "Slope                                 0.003646\n",
      "Wilderness_Area_2                     0.001468\n",
      "Soil_Type_2                           0.001426\n",
      "Wilderness_Area_3                     0.001384\n",
      "Soil_Type_5                           0.000095\n",
      "Soil_Type_0                           0.000008\n",
      "Soil_Type_4                           0.000007\n",
      "Wilderness_Area_1                     0.000000 \n",
      "\n",
      "\n",
      "\n",
      "PonderosaPine=[\"Elevation\",\"Wilderness_Area_0\",\"Soil_Type_3\",\"Soil_Type_1\",\"Horizontal_Distance_To_Roadways\"]\n",
      "Figure(1000x500)\n",
      "-----------------------------------------------------------------------------------------------\n",
      "\n",
      "\n",
      "\n",
      "\n",
      "feature_importances {'Krummholz': ['Elevation', 'Horizontal_Distance_To_Roadways', 'Horizontal_Distance_To_Hydrology', 'Horizontal_Distance_To_Fire_Points', 'Wilderness_Area_1'], 'CottonwoodWillow': ['Elevation', 'Wilderness_Area_3', 'Soil_Type_4', 'Horizontal_Distance_To_Fire_Points', 'Hillshade_9am'], 'Spruce-Fir': ['Elevation', 'Horizontal_Distance_To_Roadways', 'Horizontal_Distance_To_Fire_Points', 'Horizontal_Distance_To_Hydrology', 'Vertical_Distance_To_Hydrology'], 'Aspen': ['Elevation', 'Horizontal_Distance_To_Roadways', 'Horizontal_Distance_To_Fire_Points', 'Hillshade_9am', 'Hillshade_Noon'], 'DouglasFir': ['Elevation', 'Wilderness_Area_0', 'Horizontal_Distance_To_Roadways', 'Horizontal_Distance_To_Fire_Points', 'Aspect'], 'PonderosaPine': ['Elevation', 'Wilderness_Area_0', 'Soil_Type_3', 'Soil_Type_1', 'Horizontal_Distance_To_Roadways']}\n",
      "Total operation time: =  8594.364730596542 seconds\n"
     ]
    }
   ],
   "source": [
    "seconds = time.time()\n",
    "\n",
    "# CSV files names:\n",
    "csv_files=os.listdir(OUTPUT_FOLDER)# It creates a list of file names in the \"attacks\" folder.\n",
    "print('csv_files',csv_files)\n",
    "\n",
    "ths = open(\"importance_list.csv\", \"w\")\n",
    "feature_importances = {}\n",
    "ensemble_models = {}\n",
    "SVMs = {}\n",
    "\n",
    "def train_models(csv_file):\n",
    "    print('csv file', csv_file)\n",
    "    \n",
    "    X_df, y_df, df = get_anomaly_X_y_from_csv(csv_file, main_labels, TARGET_COLUMN, NORMAL_TARGET, OUTPUT_FOLDER)\n",
    "\n",
    "    #computing the feature importances\n",
    "    forest = sk.ensemble.RandomForestRegressor(n_estimators=250,random_state=0)\n",
    "    forest.fit(X_df, y_df)\n",
    "    importances = forest.feature_importances_\n",
    "    label = csv_file.split(\".\")[0]\n",
    "    print('importances', importances, label)\n",
    "    std = np.std([tree.feature_importances_ for tree in forest.estimators_],\n",
    "                 axis=0)\n",
    "    indices = np.argsort(importances)[::-1]\n",
    "    refclasscol=list(df.columns.values)\n",
    "    impor_bars = pd.DataFrame({'Features':refclasscol[0:20],'importance':importances[0:20]})\n",
    "    impor_bars = impor_bars.sort_values('importance',ascending=False)\n",
    "    important_features = impor_bars['Features'].to_list()[:5]\n",
    "    impor_bars = impor_bars.set_index('Features')\n",
    "    print('important_features', important_features)\n",
    "    feature_importances[label] = important_features\n",
    "\n",
    "    X_scaled_df = X_df.copy()\n",
    "    X_scaled_df[NUMERICAL_COLUMNS] = scaler.transform(X_scaled_df[NUMERICAL_COLUMNS])\n",
    "\n",
    "    svm = SVC()\n",
    "    knn = KNeighborsClassifier(n_neighbors=5)\n",
    "    decision_tree = DecisionTreeClassifier()\n",
    "    random_forest = RandomForestClassifier(n_estimators=100, random_state=42)\n",
    "    logistic_regression = LogisticRegression(max_iter=1000)\n",
    "    gradient_boosting = GradientBoostingClassifier(n_estimators=100, random_state=42)\n",
    "    \n",
    "    X_train_class = df.iloc[:, df.columns.get_indexer(important_features)]\n",
    "    X_train_class_scaled = X_scaled_df.iloc[:, df.columns.get_indexer(important_features)]\n",
    "    # print('X_train_class', X_train_class)\n",
    "    y_train_class = y_df\n",
    "    # print('y_train_class', y_train_class)\n",
    "    if len(y_train_class) > 0:  # Ensure there are samples for this class\n",
    "        svm.fit(X_train_class_scaled, y_train_class)\n",
    "        knn.fit(X_train_class_scaled, y_train_class)\n",
    "        decision_tree.fit(X_train_class, y_train_class)\n",
    "        random_forest.fit(X_train_class, y_train_class)\n",
    "        logistic_regression.fit(X_train_class_scaled, y_train_class)\n",
    "        gradient_boosting.fit(X_train_class, y_train_class)\n",
    "    else:\n",
    "        print(f'no data for {label}')\n",
    "    SVMs[label] = svm\n",
    "\n",
    "    # Create an ensemble from the classifiers using VotingClassifier\n",
    "    voting_clf = VotingClassifier(estimators=[\n",
    "        ('svm', svm),\n",
    "        ('knn', knn),\n",
    "        ('dt', decision_tree),\n",
    "        ('rf', random_forest),\n",
    "        ('lr', logistic_regression),\n",
    "        ('gb', gradient_boosting)\n",
    "    ], voting='hard')  # Use 'soft' for probability-based voting\n",
    "    voting_clf.fit(X_train_class_scaled, y_train_class)\n",
    "    ensemble_models[label] = voting_clf\n",
    "    \n",
    "    plt.rcParams['figure.figsize'] = (10, 5)\n",
    "    impor_bars.plot.bar();\n",
    "    # #printing the feature importances  \n",
    "    count=0\n",
    "    fea_ture=label+\"=[\"\n",
    "    for i in impor_bars.index:\n",
    "        fea_ture=fea_ture+\"\\\"\"+str(i)+\"\\\",\"\n",
    "        count+=1\n",
    "        if count==5:\n",
    "            fea_ture=fea_ture[0:-1]+\"]\"\n",
    "            break     \n",
    "    print(label,\"importance list:\")\n",
    "    print(label,\"\\n\",impor_bars.head(20),\"\\n\\n\\n\")\n",
    "    print(fea_ture)\n",
    "    plt.title(label+\" Cover type - Feature Importance\")\n",
    "    plt.ylabel('Importance')\n",
    "    plt.savefig(os.path.join(FEATURE_FOLDER, label+\".pdf\"),bbox_inches='tight', format = 'pdf')\n",
    "    # ths.write((  fea_ture ) )\n",
    "    plt.tight_layout()\n",
    "    plt.show()\n",
    "    print(\"-----------------------------------------------------------------------------------------------\\n\\n\\n\\n\")\n",
    "\n",
    "    return feature_importances, ensemble_models, SVMs\n",
    "\n",
    "# Parallelize the training across multiple CSV files\n",
    "results = Parallel(n_jobs=-1)(delayed(train_models)(csv_file) for csv_file in csv_files)\n",
    "\n",
    "# After parallel execution, collect results\n",
    "for feature_importances_res, ensemble_models_res, SVMs_res in results:\n",
    "    feature_importances.update(feature_importances_res)\n",
    "    ensemble_models.update(ensemble_models_res)\n",
    "    SVMs.update(SVMs_res)\n",
    "\n",
    "# Write feature importances to a CSV file after parallel processing\n",
    "# with open(\"importance_list.csv\", \"w\") as ths:\n",
    "#     for label, features in feature_importances.items():\n",
    "#         fea_ture = f\"{label}=[{','.join(f'\\\"{feat}\\\"' for feat in features)}]\\n\"\n",
    "#         ths.write(fea_ture)\n",
    "  \n",
    "print('feature_importances', feature_importances)\n",
    "print(\"Total operation time: = \", time.time() - seconds, \"seconds\")\n",
    "ths.close()"
   ]
  },
  {
   "cell_type": "code",
   "execution_count": 14,
   "metadata": {},
   "outputs": [
    {
     "data": {
      "text/html": [
       "wandb version 0.18.3 is available!  To upgrade, please run:\n",
       " $ pip install wandb --upgrade"
      ],
      "text/plain": [
       "<IPython.core.display.HTML object>"
      ]
     },
     "metadata": {},
     "output_type": "display_data"
    },
    {
     "data": {
      "text/html": [
       "Tracking run with wandb version 0.16.4"
      ],
      "text/plain": [
       "<IPython.core.display.HTML object>"
      ]
     },
     "metadata": {},
     "output_type": "display_data"
    },
    {
     "data": {
      "text/html": [
       "Run data is saved locally in <code>/home/brina/nus-mcomp/sem2/cs5344-big-data-analytics-technology/CS5344_Project/work/wandb/run-20241008_115540-fvz5dwvv</code>"
      ],
      "text/plain": [
       "<IPython.core.display.HTML object>"
      ]
     },
     "metadata": {},
     "output_type": "display_data"
    },
    {
     "data": {
      "text/html": [
       "Syncing run <strong><a href='https://wandb.ai/brinashong/pipeline-knn-covertype-dataset/runs/fvz5dwvv' target=\"_blank\">3 neighbours</a></strong> to <a href='https://wandb.ai/brinashong/pipeline-knn-covertype-dataset' target=\"_blank\">Weights & Biases</a> (<a href='https://wandb.me/run' target=\"_blank\">docs</a>)<br/>"
      ],
      "text/plain": [
       "<IPython.core.display.HTML object>"
      ]
     },
     "metadata": {},
     "output_type": "display_data"
    },
    {
     "data": {
      "text/html": [
       " View project at <a href='https://wandb.ai/brinashong/pipeline-knn-covertype-dataset' target=\"_blank\">https://wandb.ai/brinashong/pipeline-knn-covertype-dataset</a>"
      ],
      "text/plain": [
       "<IPython.core.display.HTML object>"
      ]
     },
     "metadata": {},
     "output_type": "display_data"
    },
    {
     "data": {
      "text/html": [
       " View run at <a href='https://wandb.ai/brinashong/pipeline-knn-covertype-dataset/runs/fvz5dwvv' target=\"_blank\">https://wandb.ai/brinashong/pipeline-knn-covertype-dataset/runs/fvz5dwvv</a>"
      ],
      "text/plain": [
       "<IPython.core.display.HTML object>"
      ]
     },
     "metadata": {},
     "output_type": "display_data"
    },
    {
     "name": "stdout",
     "output_type": "stream",
     "text": [
      "k:  3\n",
      "Cross-validation score for k=3: 0.9658289756892552\n",
      "Total operation time: =  148.28774857521057 seconds\n"
     ]
    },
    {
     "data": {
      "application/vnd.jupyter.widget-view+json": {
       "model_id": "",
       "version_major": 2,
       "version_minor": 0
      },
      "text/plain": [
       "VBox(children=(Label(value='0.003 MB of 0.003 MB uploaded\\r'), FloatProgress(value=1.0, max=1.0)))"
      ]
     },
     "metadata": {},
     "output_type": "display_data"
    },
    {
     "data": {
      "text/html": [
       "<style>\n",
       "    table.wandb td:nth-child(1) { padding: 0 10px; text-align: left ; width: auto;} td:nth-child(2) {text-align: left ; width: 100%}\n",
       "    .wandb-row { display: flex; flex-direction: row; flex-wrap: wrap; justify-content: flex-start; width: 100% }\n",
       "    .wandb-col { display: flex; flex-direction: column; flex-basis: 100%; flex: 1; padding: 10px; }\n",
       "    </style>\n",
       "<div class=\"wandb-row\"><div class=\"wandb-col\"><h3>Run history:</h3><br/><table class=\"wandb\"><tr><td>Cross-validation Score</td><td>▁</td></tr><tr><td>Total operation time</td><td>▁</td></tr></table><br/></div><div class=\"wandb-col\"><h3>Run summary:</h3><br/><table class=\"wandb\"><tr><td>Cross-validation Score</td><td>0.96583</td></tr><tr><td>Total operation time</td><td>148.28775</td></tr></table><br/></div></div>"
      ],
      "text/plain": [
       "<IPython.core.display.HTML object>"
      ]
     },
     "metadata": {},
     "output_type": "display_data"
    },
    {
     "data": {
      "text/html": [
       " View run <strong style=\"color:#cdcd00\">3 neighbours</strong> at: <a href='https://wandb.ai/brinashong/pipeline-knn-covertype-dataset/runs/fvz5dwvv' target=\"_blank\">https://wandb.ai/brinashong/pipeline-knn-covertype-dataset/runs/fvz5dwvv</a><br/> View job at <a href='https://wandb.ai/brinashong/pipeline-knn-covertype-dataset/jobs/QXJ0aWZhY3RDb2xsZWN0aW9uOjQ2NzEzMzU1Ng==/version_details/v3' target=\"_blank\">https://wandb.ai/brinashong/pipeline-knn-covertype-dataset/jobs/QXJ0aWZhY3RDb2xsZWN0aW9uOjQ2NzEzMzU1Ng==/version_details/v3</a><br/>Synced 6 W&B file(s), 0 media file(s), 0 artifact file(s) and 0 other file(s)"
      ],
      "text/plain": [
       "<IPython.core.display.HTML object>"
      ]
     },
     "metadata": {},
     "output_type": "display_data"
    },
    {
     "data": {
      "text/html": [
       "Find logs at: <code>./wandb/run-20241008_115540-fvz5dwvv/logs</code>"
      ],
      "text/plain": [
       "<IPython.core.display.HTML object>"
      ]
     },
     "metadata": {},
     "output_type": "display_data"
    },
    {
     "name": "stdout",
     "output_type": "stream",
     "text": [
      "The best k is 3 with a cross-validation score of 0.9658289756892552\n",
      "Final predictions using the best model: [1 2 2 2 2 3 2 1 2 2 2 1 5 2 2 1 2 5 3 2 1 2 2 1 6 1 1 2 1 2 1 2 2 3 1 2 2\n",
      " 2 2 1 2 1 1 2 2 1 2 2 7 2 1 1 6 2 1 1 7 2 2 2 2 1 1 2 2 2 3 2 2 1 5 1 2 3\n",
      " 1 3 2 1 1 2 2 1 2 2 2 1 1 3 1 2 1 1 2 1 3 3 2 2 1 1 6 6 2 2 1 2 5 6 6 1 2\n",
      " 1 2 1 1 1 3 1 2 3 1 1 1 1 2 2 1 1 1 2 1 2 2 2 5 1 1 1 2 3 1 2 2 3 1 1 1 2\n",
      " 2 2 1 7 2 2 1 1 2 2 1 2 1 3 1 2 2 2 2 2 2 2 2 1 2 1 1 1 1 2 2 2 1 2 2 2 2\n",
      " 2 1 2 2 1 1 1 2 2 1 3 3 2 1 1 2 7 1 1 1 1 2 2 2 3 2 5 3 3 2 1 2 1 2 2 3 1\n",
      " 2 2 3 2 2 2 1 1 2 5 1 1 1 2 2 1 2 2 1 1 2 1 1 6 2 1 2 7 2 1 3 5 1 2 3 2 2\n",
      " 1 2 2 1 2 2 2 2 1 1 2 1 2 1 1 2 6 1 3 2 7 1 1 2 2 2 2 2 2 7 1 1 1 1 1 2 2\n",
      " 5 2 2 2 1 6 2 1 1 2 7 1 2 3 2 2 2 2 2 6 1 5 2 2 1 6 2 2 1 1 1 1 2 2 2 7 3\n",
      " 3 2 1 2 2 2 3 2 2 1 2 1 1 2 1 7 2 1 3 3 5 2 2 1 3 3 2 2 1 2 2 2 2 2 2 1 2\n",
      " 2 1 2 2 1 2 1 1 2 2 2 1 2 1 3 1 3 2 2 2 6 2 3 2 2 1 2 2 6 1 2 1 2 2 2 2 1\n",
      " 2 2 7 2 2 3 1 2 1 1 2 2 2 1 7 1 2 2 1 6 2 2 1 1 2 2 2 6 2 2 5 1 6 1 1 2 1\n",
      " 2 1 1 6 1 1 1 3 1 1 1 2 2 1 6 2 2 2 2 2 2 2 2 1 2 2 1 2 2 2 6 1 2 1 1 1 1\n",
      " 2 7 1 1 7 6 1 1 2 2 2 1 2 1 1 1 7 6 3]\n",
      "Best KNN Model Evaluation\n",
      "Confusion Matrix:\n",
      "[[175   1   0   0   0   0   0]\n",
      " [  2 235   0   0   0   0   0]\n",
      " [  0   0  36   0   0   1   0]\n",
      " [  0   0   0   0   0   1   0]\n",
      " [  0   1   1   0  12   0   0]\n",
      " [  0   0   1   0   0  19   0]\n",
      " [  0   0   0   0   0   0  15]]\n",
      "\n",
      "Classification Report:\n",
      "{'1': {'precision': 0.9887005649717514, 'recall': 0.9943181818181818, 'f1-score': 0.9915014164305949, 'support': 176.0}, '2': {'precision': 0.9915611814345991, 'recall': 0.9915611814345991, 'f1-score': 0.9915611814345991, 'support': 237.0}, '3': {'precision': 0.9473684210526315, 'recall': 0.972972972972973, 'f1-score': 0.9599999999999999, 'support': 37.0}, '4': {'precision': 0.0, 'recall': 0.0, 'f1-score': 0.0, 'support': 1.0}, '5': {'precision': 1.0, 'recall': 0.8571428571428571, 'f1-score': 0.923076923076923, 'support': 14.0}, '6': {'precision': 0.9047619047619048, 'recall': 0.95, 'f1-score': 0.9268292682926829, 'support': 20.0}, '7': {'precision': 1.0, 'recall': 1.0, 'f1-score': 1.0, 'support': 15.0}, 'accuracy': 0.984, 'macro avg': {'precision': 0.8331988674601266, 'recall': 0.8237135990526587, 'f1-score': 0.8275669698906858, 'support': 500.0}, 'weighted avg': {'precision': 0.9823183382184275, 'recall': 0.984, 'f1-score': 0.9829678231614306, 'support': 500.0}}\n",
      "Accuracy: 0.984\n",
      "Accuracy on test set with best k=3: 0.984\n"
     ]
    },
    {
     "name": "stderr",
     "output_type": "stream",
     "text": [
      "/home/brina/miniconda3/envs/gpu/lib/python3.8/site-packages/sklearn/metrics/_classification.py:1471: UndefinedMetricWarning: Precision and F-score are ill-defined and being set to 0.0 in labels with no predicted samples. Use `zero_division` parameter to control this behavior.\n",
      "  _warn_prf(average, modifier, msg_start, len(result))\n",
      "/home/brina/miniconda3/envs/gpu/lib/python3.8/site-packages/sklearn/metrics/_classification.py:1471: UndefinedMetricWarning: Precision and F-score are ill-defined and being set to 0.0 in labels with no predicted samples. Use `zero_division` parameter to control this behavior.\n",
      "  _warn_prf(average, modifier, msg_start, len(result))\n",
      "/home/brina/miniconda3/envs/gpu/lib/python3.8/site-packages/sklearn/metrics/_classification.py:1471: UndefinedMetricWarning: Precision and F-score are ill-defined and being set to 0.0 in labels with no predicted samples. Use `zero_division` parameter to control this behavior.\n",
      "  _warn_prf(average, modifier, msg_start, len(result))\n",
      "/home/brina/miniconda3/envs/gpu/lib/python3.8/site-packages/sklearn/metrics/_classification.py:1471: UndefinedMetricWarning: Precision and F-score are ill-defined and being set to 0.0 in labels with no predicted samples. Use `zero_division` parameter to control this behavior.\n",
      "  _warn_prf(average, modifier, msg_start, len(result))\n",
      "/home/brina/miniconda3/envs/gpu/lib/python3.8/site-packages/sklearn/metrics/_classification.py:1471: UndefinedMetricWarning: Precision and F-score are ill-defined and being set to 0.0 in labels with no predicted samples. Use `zero_division` parameter to control this behavior.\n",
      "  _warn_prf(average, modifier, msg_start, len(result))\n",
      "/home/brina/miniconda3/envs/gpu/lib/python3.8/site-packages/sklearn/metrics/_classification.py:1471: UndefinedMetricWarning: Precision and F-score are ill-defined and being set to 0.0 in labels with no predicted samples. Use `zero_division` parameter to control this behavior.\n",
      "  _warn_prf(average, modifier, msg_start, len(result))\n"
     ]
    },
    {
     "data": {
      "application/vnd.jupyter.widget-view+json": {
       "model_id": "6e636acbaec14991a4c15de4aaed7584",
       "version_major": 2,
       "version_minor": 0
      },
      "text/plain": [
       "VBox(children=(Label(value='Waiting for wandb.init()...\\r'), FloatProgress(value=0.011120529222211593, max=1.0…"
      ]
     },
     "metadata": {},
     "output_type": "display_data"
    },
    {
     "data": {
      "text/html": [
       "wandb version 0.18.3 is available!  To upgrade, please run:\n",
       " $ pip install wandb --upgrade"
      ],
      "text/plain": [
       "<IPython.core.display.HTML object>"
      ]
     },
     "metadata": {},
     "output_type": "display_data"
    },
    {
     "data": {
      "text/html": [
       "Tracking run with wandb version 0.16.4"
      ],
      "text/plain": [
       "<IPython.core.display.HTML object>"
      ]
     },
     "metadata": {},
     "output_type": "display_data"
    },
    {
     "data": {
      "text/html": [
       "Run data is saved locally in <code>/home/brina/nus-mcomp/sem2/cs5344-big-data-analytics-technology/CS5344_Project/work/wandb/run-20241008_115815-m2rzkz48</code>"
      ],
      "text/plain": [
       "<IPython.core.display.HTML object>"
      ]
     },
     "metadata": {},
     "output_type": "display_data"
    },
    {
     "data": {
      "text/html": [
       "Syncing run <strong><a href='https://wandb.ai/brinashong/pipeline-knn-covertype-dataset/runs/m2rzkz48' target=\"_blank\">best_model_evaluation</a></strong> to <a href='https://wandb.ai/brinashong/pipeline-knn-covertype-dataset' target=\"_blank\">Weights & Biases</a> (<a href='https://wandb.me/run' target=\"_blank\">docs</a>)<br/>"
      ],
      "text/plain": [
       "<IPython.core.display.HTML object>"
      ]
     },
     "metadata": {},
     "output_type": "display_data"
    },
    {
     "data": {
      "text/html": [
       " View project at <a href='https://wandb.ai/brinashong/pipeline-knn-covertype-dataset' target=\"_blank\">https://wandb.ai/brinashong/pipeline-knn-covertype-dataset</a>"
      ],
      "text/plain": [
       "<IPython.core.display.HTML object>"
      ]
     },
     "metadata": {},
     "output_type": "display_data"
    },
    {
     "data": {
      "text/html": [
       " View run at <a href='https://wandb.ai/brinashong/pipeline-knn-covertype-dataset/runs/m2rzkz48' target=\"_blank\">https://wandb.ai/brinashong/pipeline-knn-covertype-dataset/runs/m2rzkz48</a>"
      ],
      "text/plain": [
       "<IPython.core.display.HTML object>"
      ]
     },
     "metadata": {},
     "output_type": "display_data"
    },
    {
     "data": {
      "application/vnd.jupyter.widget-view+json": {
       "model_id": "",
       "version_major": 2,
       "version_minor": 0
      },
      "text/plain": [
       "VBox(children=(Label(value='0.005 MB of 0.006 MB uploaded\\r'), FloatProgress(value=0.963471102726805, max=1.0)…"
      ]
     },
     "metadata": {},
     "output_type": "display_data"
    },
    {
     "data": {
      "text/html": [
       "<style>\n",
       "    table.wandb td:nth-child(1) { padding: 0 10px; text-align: left ; width: auto;} td:nth-child(2) {text-align: left ; width: 100%}\n",
       "    .wandb-row { display: flex; flex-direction: row; flex-wrap: wrap; justify-content: flex-start; width: 100% }\n",
       "    .wandb-col { display: flex; flex-direction: column; flex-basis: 100%; flex: 1; padding: 10px; }\n",
       "    </style>\n",
       "<div class=\"wandb-row\"><div class=\"wandb-col\"><h3>Run history:</h3><br/><table class=\"wandb\"><tr><td>Accuracy Score</td><td>▁</td></tr><tr><td>f1-score_avg</td><td>▁</td></tr><tr><td>precision_avg</td><td>▁</td></tr><tr><td>recall_avg</td><td>▁</td></tr></table><br/></div><div class=\"wandb-col\"><h3>Run summary:</h3><br/><table class=\"wandb\"><tr><td>Accuracy Score</td><td>0.984</td></tr><tr><td>f1-score_avg</td><td>0.98297</td></tr><tr><td>precision_avg</td><td>0.98232</td></tr><tr><td>recall_avg</td><td>0.984</td></tr></table><br/></div></div>"
      ],
      "text/plain": [
       "<IPython.core.display.HTML object>"
      ]
     },
     "metadata": {},
     "output_type": "display_data"
    },
    {
     "data": {
      "text/html": [
       " View run <strong style=\"color:#cdcd00\">best_model_evaluation</strong> at: <a href='https://wandb.ai/brinashong/pipeline-knn-covertype-dataset/runs/m2rzkz48' target=\"_blank\">https://wandb.ai/brinashong/pipeline-knn-covertype-dataset/runs/m2rzkz48</a><br/> View job at <a href='https://wandb.ai/brinashong/pipeline-knn-covertype-dataset/jobs/QXJ0aWZhY3RDb2xsZWN0aW9uOjQ2NzEzMzU1Ng==/version_details/v2' target=\"_blank\">https://wandb.ai/brinashong/pipeline-knn-covertype-dataset/jobs/QXJ0aWZhY3RDb2xsZWN0aW9uOjQ2NzEzMzU1Ng==/version_details/v2</a><br/>Synced 5 W&B file(s), 2 media file(s), 2 artifact file(s) and 0 other file(s)"
      ],
      "text/plain": [
       "<IPython.core.display.HTML object>"
      ]
     },
     "metadata": {},
     "output_type": "display_data"
    },
    {
     "data": {
      "text/html": [
       "Find logs at: <code>./wandb/run-20241008_115815-m2rzkz48/logs</code>"
      ],
      "text/plain": [
       "<IPython.core.display.HTML object>"
      ]
     },
     "metadata": {},
     "output_type": "display_data"
    },
    {
     "name": "stdout",
     "output_type": "stream",
     "text": [
      "csv file Spruce-Fir.csv\n",
      "importances [3.27792519e-01 2.79286653e-02 1.63415314e-02 6.75524954e-02\n",
      " 4.69016726e-02 1.58180294e-01 2.81521628e-02 3.90647018e-02\n",
      " 2.19325803e-02 1.57215058e-01 8.00204582e-03 5.00552027e-03\n",
      " 1.04513981e-02 1.67397951e-07 0.00000000e+00 1.42215969e-05\n",
      " 1.47483326e-05 1.93429342e-04 0.00000000e+00 0.00000000e+00\n",
      " 6.95393215e-07 9.52867953e-05 1.83302616e-04 8.15366337e-04\n",
      " 3.42573691e-04 1.53201802e-03 3.25231064e-03 0.00000000e+00\n",
      " 0.00000000e+00 1.18171505e-03 2.42002225e-04 4.89926975e-06\n",
      " 1.24509056e-03 3.00706212e-03 7.68923201e-04 1.23347759e-02\n",
      " 1.08121855e-02 7.57167704e-03 1.39963583e-05 1.38922156e-04\n",
      " 1.55518227e-03 1.18679619e-04 1.02146627e-02 2.72535698e-03\n",
      " 6.58068874e-03 1.11305597e-02 6.67661334e-03 7.52689844e-04\n",
      " 5.81856816e-06 1.06369486e-04 0.00000000e+00 6.02698132e-04\n",
      " 7.64023417e-04 4.80643156e-04] Spruce-Fir\n",
      "important_features ['Elevation', 'Horizontal_Distance_To_Roadways', 'Horizontal_Distance_To_Fire_Points', 'Horizontal_Distance_To_Hydrology', 'Vertical_Distance_To_Hydrology']\n",
      "Spruce-Fir importance list:\n",
      "Spruce-Fir \n",
      "                                       importance\n",
      "Features                                        \n",
      "Elevation                           3.277925e-01\n",
      "Horizontal_Distance_To_Roadways     1.581803e-01\n",
      "Horizontal_Distance_To_Fire_Points  1.572151e-01\n",
      "Horizontal_Distance_To_Hydrology    6.755250e-02\n",
      "Vertical_Distance_To_Hydrology      4.690167e-02\n",
      "Hillshade_Noon                      3.906470e-02\n",
      "Hillshade_9am                       2.815216e-02\n",
      "Aspect                              2.792867e-02\n",
      "Hillshade_3pm                       2.193258e-02\n",
      "Slope                               1.634153e-02\n",
      "Wilderness_Area_2                   1.045140e-02\n",
      "Wilderness_Area_0                   8.002046e-03\n",
      "Wilderness_Area_1                   5.005520e-03\n",
      "Soil_Type_3                         1.934293e-04\n",
      "Soil_Type_2                         1.474833e-05\n",
      "Soil_Type_1                         1.422160e-05\n",
      "Wilderness_Area_3                   1.673980e-07\n",
      "Soil_Type_0                         0.000000e+00\n",
      "Soil_Type_4                         0.000000e+00\n",
      "Soil_Type_5                         0.000000e+00 \n",
      "\n",
      "\n",
      "\n",
      "Spruce-Fir=[\"Elevation\",\"Horizontal_Distance_To_Roadways\",\"Horizontal_Distance_To_Fire_Points\",\"Horizontal_Distance_To_Hydrology\",\"Vertical_Distance_To_Hydrology\"]\n",
      "Figure(1000x500)\n",
      "-----------------------------------------------------------------------------------------------\n",
      "\n",
      "\n",
      "\n",
      "\n"
     ]
    }
   ],
   "source": [
    "# Initialize variables to track the best model and best performance\n",
    "best_k = None\n",
    "best_score = -1\n",
    "best_model = None\n",
    "\n",
    "seconds = time.time()\n",
    "\n",
    "for k in range(3, 21, 2):\n",
    "    wandb.init(project=\"pipeline-knn-covertype-dataset\", name=str(k)+\" neighbours\")\n",
    "    print(\"k: \", k)\n",
    "    \n",
    "    # Step 1: Train KNN to classify\n",
    "    # knn = KNeighborsClassifier(n_neighbors=k)\n",
    "    # knn.fit(X_train_scaled_df, y_train_df)\n",
    "    # knn.fit(X_train_df, y_train_df)\n",
    "    \n",
    "    # Step 2: Predict classes for the test set\n",
    "    # X_test_df = X_test_df[:TEST_COUNT]\n",
    "    # X_test_scaled_df = X_test_scaled_df[:TEST_COUNT]\n",
    "    # y_test_df = y_test_df[:TEST_COUNT]\n",
    "\n",
    "    # Step 1: Initialize KNN classifier with current k\n",
    "    knn = KNeighborsClassifier(n_neighbors=k)\n",
    "    \n",
    "    # Step 2: Perform 5-fold cross-validation on the training set\n",
    "    cv_scores = cross_val_score(knn, X_train_df, y_train_df, cv=5, scoring='accuracy')\n",
    "    avg_cv_score = cv_scores.mean()  # Get the average cross-validation score\n",
    "    print(f\"Cross-validation score for k={k}: {avg_cv_score}\")\n",
    "    \n",
    "    # knn_predictions = knn.predict(X_test_scaled)\n",
    "    # predictions = knn.predict(X_test_df)\n",
    "    # print('knn_predictions', predictions)\n",
    "    \n",
    "    op_time = time.time() - seconds\n",
    "    print(\"Total operation time: = \", op_time, \"seconds\")\n",
    "    \n",
    "    # conf_matrix, class_report, acc_score = evaluate(y_test_df, predictions, heading='-----KNN Evaluation-----')\n",
    "    # wandb_log(conf_matrix, class_report, acc_score)\n",
    "    \n",
    "    wandb.log({\n",
    "        \"Cross-validation Score\": avg_cv_score,\n",
    "        \"Total operation time\": op_time\n",
    "    })\n",
    "\n",
    "     # Step 3: Track the best `k` based on the highest cross-validation score\n",
    "    if avg_cv_score > best_score:\n",
    "        best_score = avg_cv_score\n",
    "        best_k = k\n",
    "        best_model = knn  # Save the KNN model with the best `k`\n",
    "\n",
    "    wandb.finish()\n",
    "\n",
    "# After the loop: Train the best KNN model on the entire training set\n",
    "print(f\"The best k is {best_k} with a cross-validation score of {best_score}\")\n",
    "best_model.fit(X_train_df, y_train_df)\n",
    "\n",
    "# Step 4: Evaluate the best model on the test set\n",
    "X_test_df = X_test_df[:TEST_COUNT]\n",
    "y_test_df = y_test_df[:TEST_COUNT]\n",
    "\n",
    "# Make predictions on the test set\n",
    "knn_predictions = best_model.predict(X_test_df)\n",
    "print(\"Final predictions using the best model:\", knn_predictions)\n",
    "\n",
    "# Evaluate the performance on the test set\n",
    "conf_matrix, class_report, acc_score = evaluate(y_test_df, knn_predictions, heading=\"Best KNN Model Evaluation\")\n",
    "print(f\"Accuracy on test set with best k={best_k}: {acc_score}\")\n",
    "\n",
    "# Log the final test results to W&B\n",
    "wandb.init(project=\"pipeline-knn-covertype-dataset\", name=\"best_model_evaluation\")\n",
    "wandb_log(conf_matrix, class_report, acc_score)\n",
    "wandb.finish()"
   ]
  },
  {
   "cell_type": "code",
   "execution_count": 20,
   "metadata": {},
   "outputs": [
    {
     "name": "stdout",
     "output_type": "stream",
     "text": [
      "116203\n"
     ]
    }
   ],
   "source": [
    "print(len(X_test_scaled_df))"
   ]
  },
  {
   "cell_type": "code",
   "execution_count": 15,
   "metadata": {},
   "outputs": [
    {
     "name": "stdout",
     "output_type": "stream",
     "text": [
      "{'Krummholz': SVC(), 'CottonwoodWillow': SVC(), 'Spruce-Fir': SVC(), 'Aspen': SVC(), 'DouglasFir': SVC(), 'PonderosaPine': SVC()}\n"
     ]
    }
   ],
   "source": [
    "print(SVMs)"
   ]
  },
  {
   "cell_type": "code",
   "execution_count": 21,
   "metadata": {},
   "outputs": [
    {
     "name": "stdout",
     "output_type": "stream",
     "text": [
      "predicted_label Spruce-Fir\n",
      "svm prediction:  [0] knn prediction:  1 actual value:  1\n",
      "predicted_label PonderosaPine\n",
      "svm prediction:  [0] knn prediction:  3 actual value:  3\n",
      "predicted_label Spruce-Fir\n",
      "svm prediction:  [0] knn prediction:  1 actual value:  1\n",
      "predicted_label Spruce-Fir\n",
      "svm prediction:  [0] knn prediction:  1 actual value:  1\n",
      "predicted_label Aspen\n",
      "svm prediction:  [0] knn prediction:  5 actual value:  5\n",
      "predicted_label Spruce-Fir\n",
      "svm prediction:  [1] knn prediction:  1 actual value:  1\n",
      "predicted_label Aspen\n",
      "svm prediction:  [1] knn prediction:  5 actual value:  5\n",
      "predicted_label PonderosaPine\n",
      "svm prediction:  [0] knn prediction:  3 actual value:  3\n",
      "predicted_label Spruce-Fir\n",
      "svm prediction:  [0] knn prediction:  1 actual value:  1\n",
      "predicted_label Spruce-Fir\n",
      "svm prediction:  [0] knn prediction:  1 actual value:  1\n",
      "predicted_label DouglasFir\n",
      "svm prediction:  [0] knn prediction:  6 actual value:  6\n",
      "predicted_label Spruce-Fir\n",
      "svm prediction:  [0] knn prediction:  1 actual value:  1\n",
      "predicted_label Spruce-Fir\n",
      "svm prediction:  [1] knn prediction:  1 actual value:  1\n",
      "predicted_label Spruce-Fir\n",
      "svm prediction:  [0] knn prediction:  1 actual value:  1\n",
      "predicted_label Spruce-Fir\n",
      "svm prediction:  [0] knn prediction:  1 actual value:  1\n",
      "predicted_label PonderosaPine\n",
      "svm prediction:  [0] knn prediction:  3 actual value:  3\n",
      "predicted_label Spruce-Fir\n",
      "svm prediction:  [1] knn prediction:  1 actual value:  1\n",
      "predicted_label Spruce-Fir\n",
      "svm prediction:  [0] knn prediction:  1 actual value:  1\n",
      "predicted_label Spruce-Fir\n",
      "svm prediction:  [0] knn prediction:  1 actual value:  1\n",
      "predicted_label Spruce-Fir\n",
      "svm prediction:  [0] knn prediction:  1 actual value:  1\n",
      "predicted_label Spruce-Fir\n",
      "svm prediction:  [0] knn prediction:  1 actual value:  1\n",
      "predicted_label Krummholz\n",
      "svm prediction:  [0] knn prediction:  7 actual value:  7\n",
      "predicted_label Spruce-Fir\n",
      "svm prediction:  [0] knn prediction:  1 actual value:  1\n",
      "predicted_label Spruce-Fir\n",
      "svm prediction:  [1] knn prediction:  1 actual value:  2\n",
      "predicted_label DouglasFir\n",
      "svm prediction:  [0] knn prediction:  6 actual value:  6\n",
      "predicted_label Spruce-Fir\n",
      "svm prediction:  [0] knn prediction:  1 actual value:  1\n",
      "predicted_label Spruce-Fir\n",
      "svm prediction:  [1] knn prediction:  1 actual value:  1\n",
      "predicted_label Krummholz\n",
      "svm prediction:  [0] knn prediction:  7 actual value:  7\n",
      "predicted_label Spruce-Fir\n",
      "svm prediction:  [0] knn prediction:  1 actual value:  1\n",
      "predicted_label Spruce-Fir\n",
      "svm prediction:  [0] knn prediction:  1 actual value:  1\n",
      "predicted_label PonderosaPine\n",
      "svm prediction:  [1] knn prediction:  3 actual value:  3\n",
      "predicted_label Spruce-Fir\n",
      "svm prediction:  [0] knn prediction:  1 actual value:  1\n",
      "predicted_label Aspen\n",
      "svm prediction:  [0] knn prediction:  5 actual value:  5\n",
      "predicted_label Spruce-Fir\n",
      "svm prediction:  [0] knn prediction:  1 actual value:  1\n",
      "predicted_label PonderosaPine\n",
      "svm prediction:  [0] knn prediction:  3 actual value:  3\n",
      "predicted_label Spruce-Fir\n",
      "svm prediction:  [1] knn prediction:  1 actual value:  1\n",
      "predicted_label PonderosaPine\n",
      "svm prediction:  [0] knn prediction:  3 actual value:  3\n",
      "predicted_label Spruce-Fir\n",
      "svm prediction:  [1] knn prediction:  1 actual value:  1\n",
      "predicted_label Spruce-Fir\n",
      "svm prediction:  [0] knn prediction:  1 actual value:  1\n",
      "predicted_label Spruce-Fir\n",
      "svm prediction:  [0] knn prediction:  1 actual value:  1\n",
      "predicted_label Spruce-Fir\n",
      "svm prediction:  [0] knn prediction:  1 actual value:  1\n",
      "predicted_label Spruce-Fir\n",
      "svm prediction:  [0] knn prediction:  1 actual value:  1\n",
      "predicted_label PonderosaPine\n",
      "svm prediction:  [0] knn prediction:  3 actual value:  3\n",
      "predicted_label Spruce-Fir\n",
      "svm prediction:  [1] knn prediction:  1 actual value:  1\n",
      "predicted_label Spruce-Fir\n",
      "svm prediction:  [0] knn prediction:  1 actual value:  1\n",
      "predicted_label Spruce-Fir\n",
      "svm prediction:  [0] knn prediction:  1 actual value:  1\n",
      "predicted_label Spruce-Fir\n",
      "svm prediction:  [0] knn prediction:  1 actual value:  1\n",
      "predicted_label PonderosaPine\n",
      "svm prediction:  [0] knn prediction:  3 actual value:  3\n",
      "predicted_label PonderosaPine\n",
      "svm prediction:  [0] knn prediction:  3 actual value:  3\n",
      "predicted_label Spruce-Fir\n",
      "svm prediction:  [1] knn prediction:  1 actual value:  1\n",
      "predicted_label Spruce-Fir\n",
      "svm prediction:  [1] knn prediction:  1 actual value:  1\n",
      "predicted_label DouglasFir\n",
      "svm prediction:  [0] knn prediction:  6 actual value:  6\n",
      "predicted_label DouglasFir\n",
      "svm prediction:  [0] knn prediction:  6 actual value:  6\n",
      "predicted_label Spruce-Fir\n",
      "svm prediction:  [0] knn prediction:  1 actual value:  1\n",
      "predicted_label Aspen\n",
      "svm prediction:  [0] knn prediction:  5 actual value:  5\n",
      "predicted_label DouglasFir\n",
      "svm prediction:  [0] knn prediction:  6 actual value:  4\n",
      "predicted_label DouglasFir\n",
      "svm prediction:  [0] knn prediction:  6 actual value:  6\n",
      "predicted_label Spruce-Fir\n",
      "svm prediction:  [0] knn prediction:  1 actual value:  1\n",
      "predicted_label Spruce-Fir\n",
      "svm prediction:  [0] knn prediction:  1 actual value:  1\n",
      "predicted_label Spruce-Fir\n",
      "svm prediction:  [0] knn prediction:  1 actual value:  1\n",
      "predicted_label Spruce-Fir\n",
      "svm prediction:  [0] knn prediction:  1 actual value:  1\n",
      "predicted_label Spruce-Fir\n",
      "svm prediction:  [0] knn prediction:  1 actual value:  1\n",
      "predicted_label PonderosaPine\n",
      "svm prediction:  [0] knn prediction:  3 actual value:  3\n",
      "predicted_label Spruce-Fir\n",
      "svm prediction:  [0] knn prediction:  1 actual value:  1\n",
      "predicted_label PonderosaPine\n",
      "svm prediction:  [0] knn prediction:  3 actual value:  3\n",
      "predicted_label Spruce-Fir\n",
      "svm prediction:  [0] knn prediction:  1 actual value:  1\n",
      "predicted_label Spruce-Fir\n",
      "svm prediction:  [1] knn prediction:  1 actual value:  1\n",
      "predicted_label Spruce-Fir\n",
      "svm prediction:  [0] knn prediction:  1 actual value:  1\n",
      "predicted_label Spruce-Fir\n",
      "svm prediction:  [0] knn prediction:  1 actual value:  1\n",
      "predicted_label Spruce-Fir\n",
      "svm prediction:  [0] knn prediction:  1 actual value:  1\n",
      "predicted_label Spruce-Fir\n",
      "svm prediction:  [1] knn prediction:  1 actual value:  1\n",
      "predicted_label Spruce-Fir\n",
      "svm prediction:  [0] knn prediction:  1 actual value:  1\n",
      "predicted_label Spruce-Fir\n",
      "svm prediction:  [0] knn prediction:  1 actual value:  1\n",
      "predicted_label Aspen\n",
      "svm prediction:  [0] knn prediction:  5 actual value:  5\n",
      "predicted_label Spruce-Fir\n",
      "svm prediction:  [1] knn prediction:  1 actual value:  1\n",
      "predicted_label Spruce-Fir\n",
      "svm prediction:  [0] knn prediction:  1 actual value:  1\n",
      "predicted_label Spruce-Fir\n",
      "svm prediction:  [0] knn prediction:  1 actual value:  1\n",
      "predicted_label PonderosaPine\n",
      "svm prediction:  [0] knn prediction:  3 actual value:  6\n",
      "predicted_label Spruce-Fir\n",
      "svm prediction:  [0] knn prediction:  1 actual value:  1\n",
      "predicted_label PonderosaPine\n",
      "svm prediction:  [0] knn prediction:  3 actual value:  3\n",
      "predicted_label Spruce-Fir\n",
      "svm prediction:  [0] knn prediction:  1 actual value:  1\n",
      "predicted_label Spruce-Fir\n",
      "svm prediction:  [1] knn prediction:  1 actual value:  1\n",
      "predicted_label Spruce-Fir\n",
      "svm prediction:  [0] knn prediction:  1 actual value:  1\n",
      "predicted_label Spruce-Fir\n",
      "svm prediction:  [0] knn prediction:  1 actual value:  1\n",
      "predicted_label Krummholz\n",
      "svm prediction:  [0] knn prediction:  7 actual value:  7\n",
      "predicted_label Spruce-Fir\n",
      "svm prediction:  [0] knn prediction:  1 actual value:  1\n",
      "predicted_label Spruce-Fir\n",
      "svm prediction:  [0] knn prediction:  1 actual value:  1\n",
      "predicted_label Spruce-Fir\n",
      "svm prediction:  [0] knn prediction:  1 actual value:  1\n",
      "predicted_label Spruce-Fir\n",
      "svm prediction:  [1] knn prediction:  1 actual value:  1\n",
      "predicted_label PonderosaPine\n",
      "svm prediction:  [0] knn prediction:  3 actual value:  3\n",
      "predicted_label Spruce-Fir\n",
      "svm prediction:  [0] knn prediction:  1 actual value:  1\n",
      "predicted_label Spruce-Fir\n",
      "svm prediction:  [0] knn prediction:  1 actual value:  1\n",
      "predicted_label Spruce-Fir\n",
      "svm prediction:  [0] knn prediction:  1 actual value:  1\n",
      "predicted_label Spruce-Fir\n",
      "svm prediction:  [0] knn prediction:  1 actual value:  1\n",
      "predicted_label Spruce-Fir\n",
      "svm prediction:  [0] knn prediction:  1 actual value:  1\n",
      "predicted_label Spruce-Fir\n",
      "svm prediction:  [0] knn prediction:  1 actual value:  1\n",
      "predicted_label Spruce-Fir\n",
      "svm prediction:  [0] knn prediction:  1 actual value:  1\n",
      "predicted_label Spruce-Fir\n",
      "svm prediction:  [0] knn prediction:  1 actual value:  1\n",
      "predicted_label Spruce-Fir\n",
      "svm prediction:  [0] knn prediction:  1 actual value:  1\n",
      "predicted_label Spruce-Fir\n",
      "svm prediction:  [0] knn prediction:  1 actual value:  1\n",
      "predicted_label Spruce-Fir\n",
      "svm prediction:  [0] knn prediction:  1 actual value:  1\n",
      "predicted_label Spruce-Fir\n",
      "svm prediction:  [0] knn prediction:  1 actual value:  1\n",
      "predicted_label PonderosaPine\n",
      "svm prediction:  [0] knn prediction:  3 actual value:  3\n",
      "predicted_label PonderosaPine\n",
      "svm prediction:  [0] knn prediction:  3 actual value:  3\n",
      "predicted_label Spruce-Fir\n",
      "svm prediction:  [1] knn prediction:  1 actual value:  1\n",
      "predicted_label Spruce-Fir\n",
      "svm prediction:  [0] knn prediction:  1 actual value:  1\n",
      "predicted_label Krummholz\n",
      "svm prediction:  [0] knn prediction:  7 actual value:  7\n",
      "predicted_label Spruce-Fir\n",
      "svm prediction:  [1] knn prediction:  1 actual value:  1\n",
      "predicted_label Spruce-Fir\n",
      "svm prediction:  [1] knn prediction:  1 actual value:  1\n",
      "predicted_label Spruce-Fir\n",
      "svm prediction:  [1] knn prediction:  1 actual value:  1\n",
      "predicted_label Spruce-Fir\n",
      "svm prediction:  [0] knn prediction:  1 actual value:  1\n",
      "predicted_label PonderosaPine\n",
      "svm prediction:  [0] knn prediction:  3 actual value:  3\n",
      "predicted_label Aspen\n",
      "svm prediction:  [1] knn prediction:  5 actual value:  5\n",
      "predicted_label PonderosaPine\n",
      "svm prediction:  [0] knn prediction:  3 actual value:  3\n",
      "predicted_label PonderosaPine\n",
      "svm prediction:  [0] knn prediction:  3 actual value:  3\n",
      "predicted_label Spruce-Fir\n",
      "svm prediction:  [0] knn prediction:  1 actual value:  1\n",
      "predicted_label Spruce-Fir\n",
      "svm prediction:  [0] knn prediction:  1 actual value:  1\n",
      "predicted_label PonderosaPine\n",
      "svm prediction:  [0] knn prediction:  3 actual value:  3\n",
      "predicted_label Spruce-Fir\n",
      "svm prediction:  [1] knn prediction:  1 actual value:  1\n",
      "predicted_label PonderosaPine\n",
      "svm prediction:  [0] knn prediction:  3 actual value:  3\n",
      "predicted_label Spruce-Fir\n",
      "svm prediction:  [0] knn prediction:  1 actual value:  1\n",
      "predicted_label Spruce-Fir\n",
      "svm prediction:  [1] knn prediction:  1 actual value:  1\n",
      "predicted_label Aspen\n",
      "svm prediction:  [0] knn prediction:  5 actual value:  5\n",
      "predicted_label Spruce-Fir\n",
      "svm prediction:  [0] knn prediction:  1 actual value:  1\n",
      "predicted_label Spruce-Fir\n",
      "svm prediction:  [1] knn prediction:  1 actual value:  1\n",
      "predicted_label Spruce-Fir\n",
      "svm prediction:  [0] knn prediction:  1 actual value:  1\n",
      "predicted_label Spruce-Fir\n",
      "svm prediction:  [0] knn prediction:  1 actual value:  1\n",
      "predicted_label Spruce-Fir\n",
      "svm prediction:  [0] knn prediction:  1 actual value:  1\n",
      "predicted_label Spruce-Fir\n",
      "svm prediction:  [1] knn prediction:  1 actual value:  1\n",
      "predicted_label Spruce-Fir\n",
      "svm prediction:  [1] knn prediction:  1 actual value:  1\n",
      "predicted_label Spruce-Fir\n",
      "svm prediction:  [0] knn prediction:  1 actual value:  1\n",
      "predicted_label DouglasFir\n",
      "svm prediction:  [0] knn prediction:  6 actual value:  6\n",
      "predicted_label Spruce-Fir\n",
      "svm prediction:  [0] knn prediction:  1 actual value:  1\n",
      "predicted_label Krummholz\n",
      "svm prediction:  [0] knn prediction:  7 actual value:  7\n",
      "predicted_label Spruce-Fir\n",
      "svm prediction:  [0] knn prediction:  1 actual value:  1\n",
      "predicted_label PonderosaPine\n",
      "svm prediction:  [0] knn prediction:  3 actual value:  3\n",
      "predicted_label Aspen\n",
      "svm prediction:  [1] knn prediction:  5 actual value:  5\n",
      "predicted_label Spruce-Fir\n",
      "svm prediction:  [0] knn prediction:  1 actual value:  1\n",
      "predicted_label PonderosaPine\n",
      "svm prediction:  [0] knn prediction:  3 actual value:  3\n",
      "predicted_label Spruce-Fir\n",
      "svm prediction:  [1] knn prediction:  1 actual value:  1\n",
      "predicted_label Spruce-Fir\n",
      "svm prediction:  [0] knn prediction:  1 actual value:  1\n",
      "predicted_label Spruce-Fir\n",
      "svm prediction:  [0] knn prediction:  1 actual value:  1\n",
      "predicted_label Spruce-Fir\n",
      "svm prediction:  [0] knn prediction:  1 actual value:  1\n",
      "predicted_label Spruce-Fir\n",
      "svm prediction:  [0] knn prediction:  1 actual value:  1\n",
      "predicted_label Spruce-Fir\n",
      "svm prediction:  [0] knn prediction:  1 actual value:  1\n",
      "predicted_label Spruce-Fir\n",
      "svm prediction:  [0] knn prediction:  1 actual value:  1\n",
      "predicted_label DouglasFir\n",
      "svm prediction:  [0] knn prediction:  6 actual value:  6\n",
      "predicted_label Spruce-Fir\n",
      "svm prediction:  [0] knn prediction:  1 actual value:  1\n",
      "predicted_label PonderosaPine\n",
      "svm prediction:  [0] knn prediction:  3 actual value:  3\n",
      "predicted_label Krummholz\n",
      "svm prediction:  [1] knn prediction:  7 actual value:  7\n",
      "predicted_label Spruce-Fir\n",
      "svm prediction:  [1] knn prediction:  1 actual value:  1\n",
      "predicted_label Spruce-Fir\n",
      "svm prediction:  [1] knn prediction:  1 actual value:  1\n",
      "predicted_label Krummholz\n",
      "svm prediction:  [0] knn prediction:  7 actual value:  7\n",
      "predicted_label Spruce-Fir\n",
      "svm prediction:  [0] knn prediction:  1 actual value:  1\n",
      "predicted_label Spruce-Fir\n",
      "svm prediction:  [1] knn prediction:  1 actual value:  1\n",
      "predicted_label Spruce-Fir\n",
      "svm prediction:  [0] knn prediction:  1 actual value:  1\n",
      "predicted_label Spruce-Fir\n",
      "svm prediction:  [1] knn prediction:  1 actual value:  1\n",
      "predicted_label Spruce-Fir\n",
      "svm prediction:  [0] knn prediction:  1 actual value:  1\n",
      "predicted_label Aspen\n",
      "svm prediction:  [0] knn prediction:  5 actual value:  5\n",
      "predicted_label Spruce-Fir\n",
      "svm prediction:  [0] knn prediction:  1 actual value:  1\n",
      "predicted_label DouglasFir\n",
      "svm prediction:  [0] knn prediction:  6 actual value:  6\n",
      "predicted_label Spruce-Fir\n",
      "svm prediction:  [0] knn prediction:  1 actual value:  1\n",
      "predicted_label Spruce-Fir\n",
      "svm prediction:  [1] knn prediction:  1 actual value:  1\n",
      "predicted_label Krummholz\n",
      "svm prediction:  [0] knn prediction:  7 actual value:  7\n",
      "predicted_label Spruce-Fir\n",
      "svm prediction:  [0] knn prediction:  1 actual value:  1\n",
      "predicted_label PonderosaPine\n",
      "svm prediction:  [0] knn prediction:  3 actual value:  3\n",
      "predicted_label DouglasFir\n",
      "svm prediction:  [0] knn prediction:  6 actual value:  6\n",
      "predicted_label Spruce-Fir\n",
      "svm prediction:  [0] knn prediction:  1 actual value:  1\n",
      "predicted_label Aspen\n",
      "svm prediction:  [0] knn prediction:  5 actual value:  5\n",
      "predicted_label Spruce-Fir\n",
      "svm prediction:  [1] knn prediction:  1 actual value:  1\n",
      "predicted_label DouglasFir\n",
      "svm prediction:  [0] knn prediction:  6 actual value:  6\n",
      "predicted_label Spruce-Fir\n",
      "svm prediction:  [0] knn prediction:  1 actual value:  1\n",
      "predicted_label Spruce-Fir\n",
      "svm prediction:  [1] knn prediction:  1 actual value:  1\n",
      "predicted_label Spruce-Fir\n",
      "svm prediction:  [0] knn prediction:  1 actual value:  1\n",
      "predicted_label Spruce-Fir\n",
      "svm prediction:  [0] knn prediction:  1 actual value:  1\n",
      "predicted_label Krummholz\n",
      "svm prediction:  [0] knn prediction:  7 actual value:  7\n",
      "predicted_label PonderosaPine\n",
      "svm prediction:  [0] knn prediction:  3 actual value:  3\n",
      "predicted_label PonderosaPine\n",
      "svm prediction:  [0] knn prediction:  3 actual value:  3\n",
      "predicted_label Spruce-Fir\n",
      "svm prediction:  [0] knn prediction:  1 actual value:  1\n",
      "predicted_label PonderosaPine\n",
      "svm prediction:  [0] knn prediction:  3 actual value:  3\n",
      "predicted_label Spruce-Fir\n",
      "svm prediction:  [0] knn prediction:  1 actual value:  1\n",
      "predicted_label Spruce-Fir\n",
      "svm prediction:  [1] knn prediction:  1 actual value:  1\n",
      "predicted_label Spruce-Fir\n",
      "svm prediction:  [1] knn prediction:  1 actual value:  1\n",
      "predicted_label Spruce-Fir\n",
      "svm prediction:  [0] knn prediction:  1 actual value:  1\n",
      "predicted_label Krummholz\n",
      "svm prediction:  [0] knn prediction:  7 actual value:  7\n",
      "predicted_label Spruce-Fir\n",
      "svm prediction:  [0] knn prediction:  1 actual value:  1\n",
      "predicted_label PonderosaPine\n",
      "svm prediction:  [0] knn prediction:  3 actual value:  3\n",
      "predicted_label PonderosaPine\n",
      "svm prediction:  [0] knn prediction:  3 actual value:  3\n",
      "predicted_label Aspen\n",
      "svm prediction:  [1] knn prediction:  5 actual value:  5\n",
      "predicted_label Spruce-Fir\n",
      "svm prediction:  [1] knn prediction:  1 actual value:  1\n",
      "predicted_label PonderosaPine\n",
      "svm prediction:  [0] knn prediction:  3 actual value:  3\n",
      "predicted_label PonderosaPine\n",
      "svm prediction:  [0] knn prediction:  3 actual value:  3\n",
      "predicted_label Spruce-Fir\n",
      "svm prediction:  [0] knn prediction:  1 actual value:  1\n",
      "predicted_label Spruce-Fir\n",
      "svm prediction:  [0] knn prediction:  1 actual value:  1\n",
      "predicted_label Spruce-Fir\n",
      "svm prediction:  [1] knn prediction:  1 actual value:  1\n",
      "predicted_label Spruce-Fir\n",
      "svm prediction:  [1] knn prediction:  1 actual value:  1\n",
      "predicted_label Spruce-Fir\n",
      "svm prediction:  [1] knn prediction:  1 actual value:  1\n",
      "predicted_label Spruce-Fir\n",
      "svm prediction:  [0] knn prediction:  1 actual value:  1\n",
      "predicted_label Spruce-Fir\n",
      "svm prediction:  [0] knn prediction:  1 actual value:  1\n",
      "predicted_label Spruce-Fir\n",
      "svm prediction:  [0] knn prediction:  1 actual value:  1\n",
      "predicted_label PonderosaPine\n",
      "svm prediction:  [0] knn prediction:  3 actual value:  3\n",
      "predicted_label Spruce-Fir\n",
      "svm prediction:  [0] knn prediction:  1 actual value:  1\n",
      "predicted_label PonderosaPine\n",
      "svm prediction:  [0] knn prediction:  3 actual value:  3\n",
      "predicted_label DouglasFir\n",
      "svm prediction:  [0] knn prediction:  6 actual value:  6\n",
      "predicted_label PonderosaPine\n",
      "svm prediction:  [0] knn prediction:  3 actual value:  3\n",
      "predicted_label Spruce-Fir\n",
      "svm prediction:  [0] knn prediction:  1 actual value:  1\n",
      "predicted_label DouglasFir\n",
      "svm prediction:  [0] knn prediction:  6 actual value:  6\n",
      "predicted_label Spruce-Fir\n",
      "svm prediction:  [0] knn prediction:  1 actual value:  1\n",
      "predicted_label Spruce-Fir\n",
      "svm prediction:  [0] knn prediction:  1 actual value:  1\n",
      "predicted_label Spruce-Fir\n",
      "svm prediction:  [0] knn prediction:  1 actual value:  1\n",
      "predicted_label Krummholz\n",
      "svm prediction:  [0] knn prediction:  7 actual value:  7\n",
      "predicted_label PonderosaPine\n",
      "svm prediction:  [0] knn prediction:  3 actual value:  5\n",
      "predicted_label Spruce-Fir\n",
      "svm prediction:  [0] knn prediction:  1 actual value:  1\n",
      "predicted_label Spruce-Fir\n",
      "svm prediction:  [0] knn prediction:  1 actual value:  1\n",
      "predicted_label Spruce-Fir\n",
      "svm prediction:  [0] knn prediction:  1 actual value:  1\n",
      "predicted_label Spruce-Fir\n",
      "svm prediction:  [0] knn prediction:  1 actual value:  1\n",
      "predicted_label Krummholz\n",
      "svm prediction:  [0] knn prediction:  7 actual value:  7\n",
      "predicted_label Spruce-Fir\n",
      "svm prediction:  [0] knn prediction:  1 actual value:  1\n",
      "predicted_label Spruce-Fir\n",
      "svm prediction:  [0] knn prediction:  1 actual value:  1\n",
      "predicted_label DouglasFir\n",
      "svm prediction:  [0] knn prediction:  6 actual value:  6\n",
      "predicted_label Spruce-Fir\n",
      "svm prediction:  [1] knn prediction:  1 actual value:  1\n",
      "predicted_label Spruce-Fir\n",
      "svm prediction:  [0] knn prediction:  1 actual value:  1\n",
      "predicted_label DouglasFir\n",
      "svm prediction:  [0] knn prediction:  6 actual value:  6\n",
      "predicted_label Aspen\n",
      "svm prediction:  [0] knn prediction:  5 actual value:  5\n",
      "predicted_label Spruce-Fir\n",
      "svm prediction:  [0] knn prediction:  1 actual value:  1\n",
      "predicted_label DouglasFir\n",
      "svm prediction:  [0] knn prediction:  6 actual value:  6\n",
      "predicted_label Spruce-Fir\n",
      "svm prediction:  [0] knn prediction:  1 actual value:  2\n",
      "predicted_label Spruce-Fir\n",
      "svm prediction:  [0] knn prediction:  1 actual value:  1\n",
      "predicted_label Spruce-Fir\n",
      "svm prediction:  [0] knn prediction:  1 actual value:  1\n",
      "predicted_label Spruce-Fir\n",
      "svm prediction:  [1] knn prediction:  1 actual value:  1\n",
      "predicted_label Spruce-Fir\n",
      "svm prediction:  [0] knn prediction:  1 actual value:  1\n",
      "predicted_label DouglasFir\n",
      "svm prediction:  [0] knn prediction:  6 actual value:  6\n",
      "predicted_label Spruce-Fir\n",
      "svm prediction:  [0] knn prediction:  1 actual value:  1\n",
      "predicted_label Spruce-Fir\n",
      "svm prediction:  [0] knn prediction:  1 actual value:  1\n",
      "predicted_label Spruce-Fir\n",
      "svm prediction:  [0] knn prediction:  1 actual value:  1\n",
      "predicted_label PonderosaPine\n",
      "svm prediction:  [0] knn prediction:  3 actual value:  3\n",
      "predicted_label Spruce-Fir\n",
      "svm prediction:  [0] knn prediction:  1 actual value:  1\n",
      "predicted_label Spruce-Fir\n",
      "svm prediction:  [0] knn prediction:  1 actual value:  1\n",
      "predicted_label Spruce-Fir\n",
      "svm prediction:  [1] knn prediction:  1 actual value:  1\n",
      "predicted_label Spruce-Fir\n",
      "svm prediction:  [0] knn prediction:  1 actual value:  1\n",
      "predicted_label DouglasFir\n",
      "svm prediction:  [0] knn prediction:  6 actual value:  6\n",
      "predicted_label Spruce-Fir\n",
      "svm prediction:  [0] knn prediction:  1 actual value:  1\n",
      "predicted_label Spruce-Fir\n",
      "svm prediction:  [0] knn prediction:  1 actual value:  1\n",
      "predicted_label DouglasFir\n",
      "svm prediction:  [0] knn prediction:  6 actual value:  6\n",
      "predicted_label Spruce-Fir\n",
      "svm prediction:  [0] knn prediction:  1 actual value:  1\n",
      "predicted_label Spruce-Fir\n",
      "svm prediction:  [0] knn prediction:  1 actual value:  1\n",
      "predicted_label Spruce-Fir\n",
      "svm prediction:  [0] knn prediction:  1 actual value:  1\n",
      "predicted_label Spruce-Fir\n",
      "svm prediction:  [0] knn prediction:  1 actual value:  1\n",
      "predicted_label Spruce-Fir\n",
      "svm prediction:  [0] knn prediction:  1 actual value:  1\n",
      "predicted_label Krummholz\n",
      "svm prediction:  [0] knn prediction:  7 actual value:  7\n",
      "predicted_label Spruce-Fir\n",
      "svm prediction:  [0] knn prediction:  1 actual value:  1\n",
      "predicted_label Spruce-Fir\n",
      "svm prediction:  [0] knn prediction:  1 actual value:  1\n",
      "predicted_label Krummholz\n",
      "svm prediction:  [0] knn prediction:  7 actual value:  7\n",
      "predicted_label DouglasFir\n",
      "svm prediction:  [0] knn prediction:  6 actual value:  3\n",
      "predicted_label Spruce-Fir\n",
      "svm prediction:  [1] knn prediction:  1 actual value:  1\n",
      "predicted_label Spruce-Fir\n",
      "svm prediction:  [0] knn prediction:  1 actual value:  1\n",
      "predicted_label Spruce-Fir\n",
      "svm prediction:  [0] knn prediction:  1 actual value:  1\n",
      "predicted_label Spruce-Fir\n",
      "svm prediction:  [0] knn prediction:  1 actual value:  1\n",
      "predicted_label Spruce-Fir\n",
      "svm prediction:  [0] knn prediction:  1 actual value:  1\n",
      "predicted_label Spruce-Fir\n",
      "svm prediction:  [0] knn prediction:  1 actual value:  1\n",
      "predicted_label Krummholz\n",
      "svm prediction:  [0] knn prediction:  7 actual value:  7\n",
      "predicted_label DouglasFir\n",
      "svm prediction:  [0] knn prediction:  6 actual value:  6\n",
      "predicted_label PonderosaPine\n",
      "svm prediction:  [0] knn prediction:  3 actual value:  3\n",
      "Total operation time: =  1.2631471157073975 seconds\n"
     ]
    }
   ],
   "source": [
    "svm_predictions = []\n",
    "seconds = time.time()\n",
    "\n",
    "X_test_df = X_test_df[:TEST_COUNT]\n",
    "X_test_scaled_df = X_test_scaled_df[:TEST_COUNT]\n",
    "y_test_df = y_test_df[:TEST_COUNT]\n",
    "\n",
    "for i in range(len(X_test_scaled_df)):\n",
    "    test_instance_df = X_test_scaled_df.iloc[i].to_frame().T\n",
    "    if knn_predictions[i] == NORMAL_TARGET:\n",
    "        svm_predictions.append((0, NORMAL_TARGET, y_test_df.iloc[i]))\n",
    "        continue\n",
    "    predicted_label = TARGET_DICT[knn_predictions[i]]\n",
    "    print('predicted_label', predicted_label)\n",
    "    selected_features = feature_importances[predicted_label]\n",
    "    # print('selected_features', selected_features)\n",
    "    svm_model = SVMs[predicted_label]\n",
    "    \n",
    "    # Select features for the SVM\n",
    "    test_instance_selected_df = test_instance_df[selected_features]\n",
    "    svm_prediction = svm_model.predict(test_instance_selected_df)\n",
    "    print('svm prediction: ', svm_prediction, 'knn prediction: ', INV_TARGET_DICT[predicted_label], 'actual value: ', y_test_df.iloc[i])\n",
    "    svm_predictions.append((svm_prediction, INV_TARGET_DICT[predicted_label], y_test_df.iloc[i]))\n",
    "\n",
    "print(\"Total operation time: = \", time.time() - seconds, \"seconds\")"
   ]
  },
  {
   "cell_type": "code",
   "execution_count": 22,
   "metadata": {},
   "outputs": [
    {
     "data": {
      "text/html": [
       "wandb version 0.18.3 is available!  To upgrade, please run:\n",
       " $ pip install wandb --upgrade"
      ],
      "text/plain": [
       "<IPython.core.display.HTML object>"
      ]
     },
     "metadata": {},
     "output_type": "display_data"
    },
    {
     "data": {
      "text/html": [
       "Tracking run with wandb version 0.16.4"
      ],
      "text/plain": [
       "<IPython.core.display.HTML object>"
      ]
     },
     "metadata": {},
     "output_type": "display_data"
    },
    {
     "data": {
      "text/html": [
       "Run data is saved locally in <code>/home/brina/nus-mcomp/sem2/cs5344-big-data-analytics-technology/CS5344_Project/work/wandb/run-20241008_161321-gk46giyi</code>"
      ],
      "text/plain": [
       "<IPython.core.display.HTML object>"
      ]
     },
     "metadata": {},
     "output_type": "display_data"
    },
    {
     "data": {
      "text/html": [
       "Syncing run <strong><a href='https://wandb.ai/brinashong/pipeline-covertype-dataset/runs/gk46giyi' target=\"_blank\">anomalies-svm-only</a></strong> to <a href='https://wandb.ai/brinashong/pipeline-covertype-dataset' target=\"_blank\">Weights & Biases</a> (<a href='https://wandb.me/run' target=\"_blank\">docs</a>)<br/>"
      ],
      "text/plain": [
       "<IPython.core.display.HTML object>"
      ]
     },
     "metadata": {},
     "output_type": "display_data"
    },
    {
     "data": {
      "text/html": [
       " View project at <a href='https://wandb.ai/brinashong/pipeline-covertype-dataset' target=\"_blank\">https://wandb.ai/brinashong/pipeline-covertype-dataset</a>"
      ],
      "text/plain": [
       "<IPython.core.display.HTML object>"
      ]
     },
     "metadata": {},
     "output_type": "display_data"
    },
    {
     "data": {
      "text/html": [
       " View run at <a href='https://wandb.ai/brinashong/pipeline-covertype-dataset/runs/gk46giyi' target=\"_blank\">https://wandb.ai/brinashong/pipeline-covertype-dataset/runs/gk46giyi</a>"
      ],
      "text/plain": [
       "<IPython.core.display.HTML object>"
      ]
     },
     "metadata": {},
     "output_type": "display_data"
    },
    {
     "name": "stdout",
     "output_type": "stream",
     "text": [
      "anomaly_mask 500\n",
      "[1, 2, 2, 2, 2, 3, 2, 1, 2, 2, 2, 1, 5, 2, 2, 1, 2, 5, 3, 2, 1, 2, 2, 1, 6, 1, 1, 2, 1, 2, 1, 2, 2, 3, 1, 2, 2, 2, 2, 1, 2, 1, 1, 2, 2, 1, 2, 2, 7, 2, 1, 1, 6, 2, 1, 1, 7, 2, 2, 2, 2, 1, 1, 2, 2, 2, 3, 2, 2, 1, 5, 1, 2, 3, 1, 3, 2, 1, 1, 2, 2, 1, 2, 2, 2, 1, 1, 3, 1, 2, 1, 1, 2, 1, 3, 3, 2, 2, 1, 1, 6, 6, 2, 2, 1, 2, 5, 6, 6, 1, 2, 1, 2, 1, 1, 1, 3, 1, 2, 3, 1, 1, 1, 1, 2, 2, 1, 1, 1, 2, 1, 2, 2, 2, 5, 1, 1, 1, 2, 3, 1, 2, 2, 3, 1, 1, 1, 2, 2, 2, 1, 7, 2, 2, 1, 1, 2, 2, 1, 2, 1, 3, 1, 2, 2, 2, 2, 2, 2, 2, 2, 1, 2, 1, 1, 1, 1, 2, 2, 2, 1, 2, 2, 2, 2, 2, 1, 2, 2, 1, 1, 1, 2, 2, 1, 3, 3, 2, 1, 1, 2, 7, 1, 1, 1, 1, 2, 2, 2, 3, 2, 5, 3, 3, 2, 1, 2, 1, 2, 2, 3, 1, 2, 2, 3, 2, 2, 2, 1, 1, 2, 5, 1, 1, 1, 2, 2, 1, 2, 2, 1, 1, 2, 1, 1, 6, 2, 1, 2, 7, 2, 1, 3, 5, 1, 2, 3, 2, 2, 1, 2, 2, 1, 2, 2, 2, 2, 1, 1, 2, 1, 2, 1, 1, 2, 6, 1, 3, 2, 7, 1, 1, 2, 2, 2, 2, 2, 2, 7, 1, 1, 1, 1, 1, 2, 2, 5, 2, 2, 2, 1, 6, 2, 1, 1, 2, 7, 1, 2, 3, 2, 2, 2, 2, 2, 6, 1, 5, 2, 2, 1, 6, 2, 2, 1, 1, 1, 1, 2, 2, 2, 7, 3, 3, 2, 1, 2, 2, 2, 3, 2, 2, 1, 2, 1, 1, 2, 1, 7, 2, 1, 3, 3, 5, 2, 2, 1, 3, 3, 2, 2, 1, 2, 2, 2, 2, 2, 2, 1, 2, 2, 1, 2, 2, 1, 2, 1, 1, 2, 2, 2, 1, 2, 1, 3, 1, 3, 2, 2, 2, 6, 2, 3, 2, 2, 1, 2, 2, 6, 1, 2, 1, 2, 2, 2, 2, 1, 2, 2, 7, 2, 2, 3, 1, 2, 1, 1, 2, 2, 2, 1, 7, 1, 2, 2, 1, 6, 2, 2, 1, 1, 2, 2, 2, 6, 2, 2, 5, 1, 6, 1, 1, 2, 1, 2, 1, 1, 6, 1, 1, 1, 3, 1, 1, 1, 2, 2, 1, 6, 2, 2, 2, 2, 2, 2, 2, 2, 1, 2, 2, 1, 2, 2, 2, 6, 1, 2, 1, 1, 1, 1, 2, 7, 1, 1, 7, 6, 1, 1, 2, 2, 2, 1, 2, 1, 1, 1, 7, 6, 3]\n",
      "Lengths:  263 263\n",
      "SVM Evaluation (for anomalies)\n",
      "Confusion Matrix:\n",
      "[[175   0   0   0   0   0   0]\n",
      " [  2   0   0   0   0   0   0]\n",
      " [  0   0  36   0   0   1   0]\n",
      " [  0   0   0   0   0   1   0]\n",
      " [  0   0   1   0  12   0   0]\n",
      " [  0   0   1   0   0  19   0]\n",
      " [  0   0   0   0   0   0  15]]\n",
      "\n",
      "Classification Report:\n",
      "{'1': {'precision': 0.9887005649717514, 'recall': 1.0, 'f1-score': 0.9943181818181819, 'support': 175.0}, '2': {'precision': 0.0, 'recall': 0.0, 'f1-score': 0.0, 'support': 2.0}, '3': {'precision': 0.9473684210526315, 'recall': 0.972972972972973, 'f1-score': 0.9599999999999999, 'support': 37.0}, '4': {'precision': 0.0, 'recall': 0.0, 'f1-score': 0.0, 'support': 1.0}, '5': {'precision': 1.0, 'recall': 0.9230769230769231, 'f1-score': 0.9600000000000001, 'support': 13.0}, '6': {'precision': 0.9047619047619048, 'recall': 0.95, 'f1-score': 0.9268292682926829, 'support': 20.0}, '7': {'precision': 1.0, 'recall': 1.0, 'f1-score': 1.0, 'support': 15.0}, 'accuracy': 0.9771863117870723, 'macro avg': {'precision': 0.6915472701123269, 'recall': 0.6922928422928424, 'f1-score': 0.6915924928729806, 'support': 263.0}, 'weighted avg': {'precision': 0.9664276370503497, 'recall': 0.9771863117870723, 'f1-score': 0.971643601460211, 'support': 263.0}}\n",
      "Accuracy: 0.9771863117870723\n"
     ]
    },
    {
     "name": "stderr",
     "output_type": "stream",
     "text": [
      "/home/brina/miniconda3/envs/gpu/lib/python3.8/site-packages/sklearn/metrics/_classification.py:1471: UndefinedMetricWarning: Precision and F-score are ill-defined and being set to 0.0 in labels with no predicted samples. Use `zero_division` parameter to control this behavior.\n",
      "  _warn_prf(average, modifier, msg_start, len(result))\n",
      "/home/brina/miniconda3/envs/gpu/lib/python3.8/site-packages/sklearn/metrics/_classification.py:1471: UndefinedMetricWarning: Precision and F-score are ill-defined and being set to 0.0 in labels with no predicted samples. Use `zero_division` parameter to control this behavior.\n",
      "  _warn_prf(average, modifier, msg_start, len(result))\n",
      "/home/brina/miniconda3/envs/gpu/lib/python3.8/site-packages/sklearn/metrics/_classification.py:1471: UndefinedMetricWarning: Precision and F-score are ill-defined and being set to 0.0 in labels with no predicted samples. Use `zero_division` parameter to control this behavior.\n",
      "  _warn_prf(average, modifier, msg_start, len(result))\n",
      "/home/brina/miniconda3/envs/gpu/lib/python3.8/site-packages/sklearn/metrics/_classification.py:1471: UndefinedMetricWarning: Precision and F-score are ill-defined and being set to 0.0 in labels with no predicted samples. Use `zero_division` parameter to control this behavior.\n",
      "  _warn_prf(average, modifier, msg_start, len(result))\n",
      "/home/brina/miniconda3/envs/gpu/lib/python3.8/site-packages/sklearn/metrics/_classification.py:1471: UndefinedMetricWarning: Precision and F-score are ill-defined and being set to 0.0 in labels with no predicted samples. Use `zero_division` parameter to control this behavior.\n",
      "  _warn_prf(average, modifier, msg_start, len(result))\n",
      "/home/brina/miniconda3/envs/gpu/lib/python3.8/site-packages/sklearn/metrics/_classification.py:1471: UndefinedMetricWarning: Precision and F-score are ill-defined and being set to 0.0 in labels with no predicted samples. Use `zero_division` parameter to control this behavior.\n",
      "  _warn_prf(average, modifier, msg_start, len(result))\n"
     ]
    },
    {
     "data": {
      "application/vnd.jupyter.widget-view+json": {
       "model_id": "",
       "version_major": 2,
       "version_minor": 0
      },
      "text/plain": [
       "VBox(children=(Label(value='0.005 MB of 0.005 MB uploaded\\r'), FloatProgress(value=0.9630408127517954, max=1.0…"
      ]
     },
     "metadata": {},
     "output_type": "display_data"
    },
    {
     "data": {
      "text/html": [
       "<style>\n",
       "    table.wandb td:nth-child(1) { padding: 0 10px; text-align: left ; width: auto;} td:nth-child(2) {text-align: left ; width: 100%}\n",
       "    .wandb-row { display: flex; flex-direction: row; flex-wrap: wrap; justify-content: flex-start; width: 100% }\n",
       "    .wandb-col { display: flex; flex-direction: column; flex-basis: 100%; flex: 1; padding: 10px; }\n",
       "    </style>\n",
       "<div class=\"wandb-row\"><div class=\"wandb-col\"><h3>Run history:</h3><br/><table class=\"wandb\"><tr><td>Accuracy Score</td><td>▁</td></tr><tr><td>f1-score_avg</td><td>▁</td></tr><tr><td>precision_avg</td><td>▁</td></tr><tr><td>recall_avg</td><td>▁</td></tr></table><br/></div><div class=\"wandb-col\"><h3>Run summary:</h3><br/><table class=\"wandb\"><tr><td>Accuracy Score</td><td>0.97719</td></tr><tr><td>f1-score_avg</td><td>0.97164</td></tr><tr><td>precision_avg</td><td>0.96643</td></tr><tr><td>recall_avg</td><td>0.97719</td></tr></table><br/></div></div>"
      ],
      "text/plain": [
       "<IPython.core.display.HTML object>"
      ]
     },
     "metadata": {},
     "output_type": "display_data"
    },
    {
     "data": {
      "text/html": [
       " View run <strong style=\"color:#cdcd00\">anomalies-svm-only</strong> at: <a href='https://wandb.ai/brinashong/pipeline-covertype-dataset/runs/gk46giyi' target=\"_blank\">https://wandb.ai/brinashong/pipeline-covertype-dataset/runs/gk46giyi</a><br/> View job at <a href='https://wandb.ai/brinashong/pipeline-covertype-dataset/jobs/QXJ0aWZhY3RDb2xsZWN0aW9uOjQ2NzIyMzQwNQ==/version_details/v0' target=\"_blank\">https://wandb.ai/brinashong/pipeline-covertype-dataset/jobs/QXJ0aWZhY3RDb2xsZWN0aW9uOjQ2NzIyMzQwNQ==/version_details/v0</a><br/>Synced 6 W&B file(s), 2 media file(s), 4 artifact file(s) and 0 other file(s)"
      ],
      "text/plain": [
       "<IPython.core.display.HTML object>"
      ]
     },
     "metadata": {},
     "output_type": "display_data"
    },
    {
     "data": {
      "text/html": [
       "Find logs at: <code>./wandb/run-20241008_161321-gk46giyi/logs</code>"
      ],
      "text/plain": [
       "<IPython.core.display.HTML object>"
      ]
     },
     "metadata": {},
     "output_type": "display_data"
    },
    {
     "data": {
      "application/vnd.jupyter.widget-view+json": {
       "model_id": "1015f933936a479893c67597e2798ff1",
       "version_major": 2,
       "version_minor": 0
      },
      "text/plain": [
       "VBox(children=(Label(value='Waiting for wandb.init()...\\r'), FloatProgress(value=0.01111370556666063, max=1.0)…"
      ]
     },
     "metadata": {},
     "output_type": "display_data"
    },
    {
     "data": {
      "text/html": [
       "wandb version 0.18.3 is available!  To upgrade, please run:\n",
       " $ pip install wandb --upgrade"
      ],
      "text/plain": [
       "<IPython.core.display.HTML object>"
      ]
     },
     "metadata": {},
     "output_type": "display_data"
    },
    {
     "data": {
      "text/html": [
       "Tracking run with wandb version 0.16.4"
      ],
      "text/plain": [
       "<IPython.core.display.HTML object>"
      ]
     },
     "metadata": {},
     "output_type": "display_data"
    },
    {
     "data": {
      "text/html": [
       "Run data is saved locally in <code>/home/brina/nus-mcomp/sem2/cs5344-big-data-analytics-technology/CS5344_Project/work/wandb/run-20241008_161343-oqdqjzd6</code>"
      ],
      "text/plain": [
       "<IPython.core.display.HTML object>"
      ]
     },
     "metadata": {},
     "output_type": "display_data"
    },
    {
     "data": {
      "text/html": [
       "Syncing run <strong><a href='https://wandb.ai/brinashong/pipeline-covertype-dataset/runs/oqdqjzd6' target=\"_blank\">overall-svm-only</a></strong> to <a href='https://wandb.ai/brinashong/pipeline-covertype-dataset' target=\"_blank\">Weights & Biases</a> (<a href='https://wandb.me/run' target=\"_blank\">docs</a>)<br/>"
      ],
      "text/plain": [
       "<IPython.core.display.HTML object>"
      ]
     },
     "metadata": {},
     "output_type": "display_data"
    },
    {
     "data": {
      "text/html": [
       " View project at <a href='https://wandb.ai/brinashong/pipeline-covertype-dataset' target=\"_blank\">https://wandb.ai/brinashong/pipeline-covertype-dataset</a>"
      ],
      "text/plain": [
       "<IPython.core.display.HTML object>"
      ]
     },
     "metadata": {},
     "output_type": "display_data"
    },
    {
     "data": {
      "text/html": [
       " View run at <a href='https://wandb.ai/brinashong/pipeline-covertype-dataset/runs/oqdqjzd6' target=\"_blank\">https://wandb.ai/brinashong/pipeline-covertype-dataset/runs/oqdqjzd6</a>"
      ],
      "text/plain": [
       "<IPython.core.display.HTML object>"
      ]
     },
     "metadata": {},
     "output_type": "display_data"
    },
    {
     "name": "stdout",
     "output_type": "stream",
     "text": [
      "SVM Evaluation (for all)\n",
      "Confusion Matrix:\n",
      "[[175   1   0   0   0   0   0]\n",
      " [  2 235   0   0   0   0   0]\n",
      " [  0   0  36   0   0   1   0]\n",
      " [  0   0   0   0   0   1   0]\n",
      " [  0   1   1   0  12   0   0]\n",
      " [  0   0   1   0   0  19   0]\n",
      " [  0   0   0   0   0   0  15]]\n",
      "\n",
      "Classification Report:\n",
      "{'1': {'precision': 0.9887005649717514, 'recall': 0.9943181818181818, 'f1-score': 0.9915014164305949, 'support': 176.0}, '2': {'precision': 0.9915611814345991, 'recall': 0.9915611814345991, 'f1-score': 0.9915611814345991, 'support': 237.0}, '3': {'precision': 0.9473684210526315, 'recall': 0.972972972972973, 'f1-score': 0.9599999999999999, 'support': 37.0}, '4': {'precision': 0.0, 'recall': 0.0, 'f1-score': 0.0, 'support': 1.0}, '5': {'precision': 1.0, 'recall': 0.8571428571428571, 'f1-score': 0.923076923076923, 'support': 14.0}, '6': {'precision': 0.9047619047619048, 'recall': 0.95, 'f1-score': 0.9268292682926829, 'support': 20.0}, '7': {'precision': 1.0, 'recall': 1.0, 'f1-score': 1.0, 'support': 15.0}, 'accuracy': 0.984, 'macro avg': {'precision': 0.8331988674601266, 'recall': 0.8237135990526587, 'f1-score': 0.8275669698906858, 'support': 500.0}, 'weighted avg': {'precision': 0.9823183382184275, 'recall': 0.984, 'f1-score': 0.9829678231614306, 'support': 500.0}}\n",
      "Accuracy: 0.984\n"
     ]
    },
    {
     "name": "stderr",
     "output_type": "stream",
     "text": [
      "/home/brina/miniconda3/envs/gpu/lib/python3.8/site-packages/sklearn/metrics/_classification.py:1471: UndefinedMetricWarning: Precision and F-score are ill-defined and being set to 0.0 in labels with no predicted samples. Use `zero_division` parameter to control this behavior.\n",
      "  _warn_prf(average, modifier, msg_start, len(result))\n",
      "/home/brina/miniconda3/envs/gpu/lib/python3.8/site-packages/sklearn/metrics/_classification.py:1471: UndefinedMetricWarning: Precision and F-score are ill-defined and being set to 0.0 in labels with no predicted samples. Use `zero_division` parameter to control this behavior.\n",
      "  _warn_prf(average, modifier, msg_start, len(result))\n",
      "/home/brina/miniconda3/envs/gpu/lib/python3.8/site-packages/sklearn/metrics/_classification.py:1471: UndefinedMetricWarning: Precision and F-score are ill-defined and being set to 0.0 in labels with no predicted samples. Use `zero_division` parameter to control this behavior.\n",
      "  _warn_prf(average, modifier, msg_start, len(result))\n",
      "/home/brina/miniconda3/envs/gpu/lib/python3.8/site-packages/sklearn/metrics/_classification.py:1471: UndefinedMetricWarning: Precision and F-score are ill-defined and being set to 0.0 in labels with no predicted samples. Use `zero_division` parameter to control this behavior.\n",
      "  _warn_prf(average, modifier, msg_start, len(result))\n",
      "/home/brina/miniconda3/envs/gpu/lib/python3.8/site-packages/sklearn/metrics/_classification.py:1471: UndefinedMetricWarning: Precision and F-score are ill-defined and being set to 0.0 in labels with no predicted samples. Use `zero_division` parameter to control this behavior.\n",
      "  _warn_prf(average, modifier, msg_start, len(result))\n",
      "/home/brina/miniconda3/envs/gpu/lib/python3.8/site-packages/sklearn/metrics/_classification.py:1471: UndefinedMetricWarning: Precision and F-score are ill-defined and being set to 0.0 in labels with no predicted samples. Use `zero_division` parameter to control this behavior.\n",
      "  _warn_prf(average, modifier, msg_start, len(result))\n"
     ]
    },
    {
     "data": {
      "application/vnd.jupyter.widget-view+json": {
       "model_id": "",
       "version_major": 2,
       "version_minor": 0
      },
      "text/plain": [
       "VBox(children=(Label(value='0.006 MB of 0.006 MB uploaded\\r'), FloatProgress(value=1.0, max=1.0)))"
      ]
     },
     "metadata": {},
     "output_type": "display_data"
    },
    {
     "data": {
      "text/html": [
       "<style>\n",
       "    table.wandb td:nth-child(1) { padding: 0 10px; text-align: left ; width: auto;} td:nth-child(2) {text-align: left ; width: 100%}\n",
       "    .wandb-row { display: flex; flex-direction: row; flex-wrap: wrap; justify-content: flex-start; width: 100% }\n",
       "    .wandb-col { display: flex; flex-direction: column; flex-basis: 100%; flex: 1; padding: 10px; }\n",
       "    </style>\n",
       "<div class=\"wandb-row\"><div class=\"wandb-col\"><h3>Run history:</h3><br/><table class=\"wandb\"><tr><td>Accuracy Score</td><td>▁</td></tr><tr><td>f1-score_avg</td><td>▁</td></tr><tr><td>precision_avg</td><td>▁</td></tr><tr><td>recall_avg</td><td>▁</td></tr></table><br/></div><div class=\"wandb-col\"><h3>Run summary:</h3><br/><table class=\"wandb\"><tr><td>Accuracy Score</td><td>0.984</td></tr><tr><td>f1-score_avg</td><td>0.98297</td></tr><tr><td>precision_avg</td><td>0.98232</td></tr><tr><td>recall_avg</td><td>0.984</td></tr></table><br/></div></div>"
      ],
      "text/plain": [
       "<IPython.core.display.HTML object>"
      ]
     },
     "metadata": {},
     "output_type": "display_data"
    },
    {
     "data": {
      "text/html": [
       " View run <strong style=\"color:#cdcd00\">overall-svm-only</strong> at: <a href='https://wandb.ai/brinashong/pipeline-covertype-dataset/runs/oqdqjzd6' target=\"_blank\">https://wandb.ai/brinashong/pipeline-covertype-dataset/runs/oqdqjzd6</a><br/> View job at <a href='https://wandb.ai/brinashong/pipeline-covertype-dataset/jobs/QXJ0aWZhY3RDb2xsZWN0aW9uOjQ2NzIyMzQwNQ==/version_details/v0' target=\"_blank\">https://wandb.ai/brinashong/pipeline-covertype-dataset/jobs/QXJ0aWZhY3RDb2xsZWN0aW9uOjQ2NzIyMzQwNQ==/version_details/v0</a><br/>Synced 6 W&B file(s), 2 media file(s), 2 artifact file(s) and 0 other file(s)"
      ],
      "text/plain": [
       "<IPython.core.display.HTML object>"
      ]
     },
     "metadata": {},
     "output_type": "display_data"
    },
    {
     "data": {
      "text/html": [
       "Find logs at: <code>./wandb/run-20241008_161343-oqdqjzd6/logs</code>"
      ],
      "text/plain": [
       "<IPython.core.display.HTML object>"
      ]
     },
     "metadata": {},
     "output_type": "display_data"
    }
   ],
   "source": [
    "wandb.init(project=\"pipeline-covertype-dataset\", name=\"anomalies-svm-only\")\n",
    "\n",
    "# Now evaluate SVM predictions only for the anomalies detected by KNN\n",
    "# Create a mask for test instances that KNN classified as anomalies\n",
    "anomaly_mask = knn_predictions != NORMAL_TARGET  # Assuming normal_target is your normal class\n",
    "print('anomaly_mask', len(anomaly_mask))\n",
    "\n",
    "# Get true labels and predictions for anomalies\n",
    "svm_predictions_actual = [t[1] for t in svm_predictions]\n",
    "print(svm_predictions_actual)\n",
    "# svm_predictions_actual = np.array(svm_predictions_actual)\n",
    "svm_predictions_actual_df = pd.DataFrame(svm_predictions_actual, columns=[TARGET_COLUMN])\n",
    "y_test_anomalies_df = y_test_df[anomaly_mask]\n",
    "svm_predictions_anomalies_df = svm_predictions_actual_df[anomaly_mask]\n",
    "print('Lengths: ', len(y_test_anomalies_df), len(svm_predictions_anomalies_df))\n",
    "\n",
    "# Evaluate SVM only on the anomalies\n",
    "conf_matrix, class_report, acc_score = evaluate(y_test_anomalies_df, svm_predictions_anomalies_df, heading='SVM Evaluation (for anomalies)')\n",
    "wandb_log(conf_matrix, class_report, acc_score)\n",
    "wandb.finish()\n",
    "\n",
    "# Evaluate SVM on all test data\n",
    "wandb.init(project=\"pipeline-covertype-dataset\", name=\"overall-svm-only\")\n",
    "conf_matrix, class_report, acc_score = evaluate(y_test_df, svm_predictions_actual_df, heading='SVM Evaluation (for all)')\n",
    "wandb_log(conf_matrix, class_report, acc_score)\n",
    "wandb.finish()"
   ]
  },
  {
   "cell_type": "code",
   "execution_count": 23,
   "metadata": {},
   "outputs": [
    {
     "name": "stdout",
     "output_type": "stream",
     "text": [
      "ensemble prediction:  [1] knn prediction:  1 actual value:  1\n",
      "ensemble prediction:  [0] knn prediction:  3 actual value:  3\n",
      "ensemble prediction:  [1] knn prediction:  1 actual value:  1\n",
      "ensemble prediction:  [1] knn prediction:  1 actual value:  1\n",
      "ensemble prediction:  [1] knn prediction:  5 actual value:  5\n",
      "ensemble prediction:  [1] knn prediction:  1 actual value:  1\n",
      "ensemble prediction:  [1] knn prediction:  5 actual value:  5\n",
      "ensemble prediction:  [0] knn prediction:  3 actual value:  3\n",
      "ensemble prediction:  [1] knn prediction:  1 actual value:  1\n",
      "ensemble prediction:  [1] knn prediction:  1 actual value:  1\n",
      "ensemble prediction:  [0] knn prediction:  6 actual value:  6\n",
      "ensemble prediction:  [1] knn prediction:  1 actual value:  1\n",
      "ensemble prediction:  [1] knn prediction:  1 actual value:  1\n",
      "ensemble prediction:  [1] knn prediction:  1 actual value:  1\n",
      "ensemble prediction:  [1] knn prediction:  1 actual value:  1\n",
      "ensemble prediction:  [0] knn prediction:  3 actual value:  3\n",
      "ensemble prediction:  [1] knn prediction:  1 actual value:  1\n",
      "ensemble prediction:  [1] knn prediction:  1 actual value:  1\n",
      "ensemble prediction:  [1] knn prediction:  1 actual value:  1\n",
      "ensemble prediction:  [1] knn prediction:  1 actual value:  1\n",
      "ensemble prediction:  [1] knn prediction:  1 actual value:  1\n",
      "ensemble prediction:  [1] knn prediction:  7 actual value:  7\n",
      "ensemble prediction:  [1] knn prediction:  1 actual value:  1\n",
      "ensemble prediction:  [1] knn prediction:  1 actual value:  2\n",
      "ensemble prediction:  [0] knn prediction:  6 actual value:  6\n",
      "ensemble prediction:  [1] knn prediction:  1 actual value:  1\n",
      "ensemble prediction:  [1] knn prediction:  1 actual value:  1\n",
      "ensemble prediction:  [1] knn prediction:  7 actual value:  7\n",
      "ensemble prediction:  [1] knn prediction:  1 actual value:  1\n",
      "ensemble prediction:  [1] knn prediction:  1 actual value:  1\n",
      "ensemble prediction:  [0] knn prediction:  3 actual value:  3\n",
      "ensemble prediction:  [1] knn prediction:  1 actual value:  1\n",
      "ensemble prediction:  [1] knn prediction:  5 actual value:  5\n",
      "ensemble prediction:  [1] knn prediction:  1 actual value:  1\n",
      "ensemble prediction:  [0] knn prediction:  3 actual value:  3\n",
      "ensemble prediction:  [1] knn prediction:  1 actual value:  1\n",
      "ensemble prediction:  [0] knn prediction:  3 actual value:  3\n",
      "ensemble prediction:  [1] knn prediction:  1 actual value:  1\n",
      "ensemble prediction:  [1] knn prediction:  1 actual value:  1\n",
      "ensemble prediction:  [1] knn prediction:  1 actual value:  1\n",
      "ensemble prediction:  [1] knn prediction:  1 actual value:  1\n",
      "ensemble prediction:  [1] knn prediction:  1 actual value:  1\n",
      "ensemble prediction:  [0] knn prediction:  3 actual value:  3\n",
      "ensemble prediction:  [1] knn prediction:  1 actual value:  1\n",
      "ensemble prediction:  [1] knn prediction:  1 actual value:  1\n",
      "ensemble prediction:  [1] knn prediction:  1 actual value:  1\n",
      "ensemble prediction:  [1] knn prediction:  1 actual value:  1\n",
      "ensemble prediction:  [0] knn prediction:  3 actual value:  3\n",
      "ensemble prediction:  [0] knn prediction:  3 actual value:  3\n",
      "ensemble prediction:  [1] knn prediction:  1 actual value:  1\n",
      "ensemble prediction:  [1] knn prediction:  1 actual value:  1\n",
      "ensemble prediction:  [0] knn prediction:  6 actual value:  6\n",
      "ensemble prediction:  [0] knn prediction:  6 actual value:  6\n",
      "ensemble prediction:  [1] knn prediction:  1 actual value:  1\n",
      "ensemble prediction:  [1] knn prediction:  5 actual value:  5\n",
      "ensemble prediction:  [0] knn prediction:  6 actual value:  4\n",
      "ensemble prediction:  [0] knn prediction:  6 actual value:  6\n",
      "ensemble prediction:  [1] knn prediction:  1 actual value:  1\n",
      "ensemble prediction:  [1] knn prediction:  1 actual value:  1\n",
      "ensemble prediction:  [1] knn prediction:  1 actual value:  1\n",
      "ensemble prediction:  [1] knn prediction:  1 actual value:  1\n",
      "ensemble prediction:  [1] knn prediction:  1 actual value:  1\n",
      "ensemble prediction:  [0] knn prediction:  3 actual value:  3\n",
      "ensemble prediction:  [1] knn prediction:  1 actual value:  1\n",
      "ensemble prediction:  [0] knn prediction:  3 actual value:  3\n",
      "ensemble prediction:  [1] knn prediction:  1 actual value:  1\n",
      "ensemble prediction:  [1] knn prediction:  1 actual value:  1\n",
      "ensemble prediction:  [1] knn prediction:  1 actual value:  1\n",
      "ensemble prediction:  [1] knn prediction:  1 actual value:  1\n",
      "ensemble prediction:  [1] knn prediction:  1 actual value:  1\n",
      "ensemble prediction:  [1] knn prediction:  1 actual value:  1\n",
      "ensemble prediction:  [1] knn prediction:  1 actual value:  1\n",
      "ensemble prediction:  [1] knn prediction:  1 actual value:  1\n",
      "ensemble prediction:  [1] knn prediction:  5 actual value:  5\n",
      "ensemble prediction:  [1] knn prediction:  1 actual value:  1\n",
      "ensemble prediction:  [1] knn prediction:  1 actual value:  1\n",
      "ensemble prediction:  [1] knn prediction:  1 actual value:  1\n",
      "ensemble prediction:  [0] knn prediction:  3 actual value:  6\n",
      "ensemble prediction:  [1] knn prediction:  1 actual value:  1\n",
      "ensemble prediction:  [0] knn prediction:  3 actual value:  3\n",
      "ensemble prediction:  [1] knn prediction:  1 actual value:  1\n",
      "ensemble prediction:  [1] knn prediction:  1 actual value:  1\n",
      "ensemble prediction:  [1] knn prediction:  1 actual value:  1\n",
      "ensemble prediction:  [1] knn prediction:  1 actual value:  1\n",
      "ensemble prediction:  [1] knn prediction:  7 actual value:  7\n",
      "ensemble prediction:  [1] knn prediction:  1 actual value:  1\n",
      "ensemble prediction:  [1] knn prediction:  1 actual value:  1\n",
      "ensemble prediction:  [1] knn prediction:  1 actual value:  1\n",
      "ensemble prediction:  [1] knn prediction:  1 actual value:  1\n",
      "ensemble prediction:  [0] knn prediction:  3 actual value:  3\n",
      "ensemble prediction:  [1] knn prediction:  1 actual value:  1\n",
      "ensemble prediction:  [1] knn prediction:  1 actual value:  1\n",
      "ensemble prediction:  [1] knn prediction:  1 actual value:  1\n",
      "ensemble prediction:  [1] knn prediction:  1 actual value:  1\n",
      "ensemble prediction:  [1] knn prediction:  1 actual value:  1\n",
      "ensemble prediction:  [1] knn prediction:  1 actual value:  1\n",
      "ensemble prediction:  [1] knn prediction:  1 actual value:  1\n",
      "ensemble prediction:  [1] knn prediction:  1 actual value:  1\n",
      "ensemble prediction:  [1] knn prediction:  1 actual value:  1\n",
      "ensemble prediction:  [1] knn prediction:  1 actual value:  1\n",
      "ensemble prediction:  [1] knn prediction:  1 actual value:  1\n",
      "ensemble prediction:  [1] knn prediction:  1 actual value:  1\n",
      "ensemble prediction:  [0] knn prediction:  3 actual value:  3\n",
      "ensemble prediction:  [0] knn prediction:  3 actual value:  3\n",
      "ensemble prediction:  [1] knn prediction:  1 actual value:  1\n",
      "ensemble prediction:  [1] knn prediction:  1 actual value:  1\n",
      "ensemble prediction:  [1] knn prediction:  7 actual value:  7\n",
      "ensemble prediction:  [1] knn prediction:  1 actual value:  1\n",
      "ensemble prediction:  [1] knn prediction:  1 actual value:  1\n",
      "ensemble prediction:  [1] knn prediction:  1 actual value:  1\n",
      "ensemble prediction:  [1] knn prediction:  1 actual value:  1\n",
      "ensemble prediction:  [0] knn prediction:  3 actual value:  3\n",
      "ensemble prediction:  [1] knn prediction:  5 actual value:  5\n",
      "ensemble prediction:  [0] knn prediction:  3 actual value:  3\n",
      "ensemble prediction:  [0] knn prediction:  3 actual value:  3\n",
      "ensemble prediction:  [1] knn prediction:  1 actual value:  1\n",
      "ensemble prediction:  [1] knn prediction:  1 actual value:  1\n",
      "ensemble prediction:  [0] knn prediction:  3 actual value:  3\n",
      "ensemble prediction:  [1] knn prediction:  1 actual value:  1\n",
      "ensemble prediction:  [0] knn prediction:  3 actual value:  3\n",
      "ensemble prediction:  [1] knn prediction:  1 actual value:  1\n",
      "ensemble prediction:  [1] knn prediction:  1 actual value:  1\n",
      "ensemble prediction:  [1] knn prediction:  5 actual value:  5\n",
      "ensemble prediction:  [1] knn prediction:  1 actual value:  1\n",
      "ensemble prediction:  [1] knn prediction:  1 actual value:  1\n",
      "ensemble prediction:  [1] knn prediction:  1 actual value:  1\n",
      "ensemble prediction:  [1] knn prediction:  1 actual value:  1\n",
      "ensemble prediction:  [1] knn prediction:  1 actual value:  1\n",
      "ensemble prediction:  [1] knn prediction:  1 actual value:  1\n",
      "ensemble prediction:  [1] knn prediction:  1 actual value:  1\n",
      "ensemble prediction:  [1] knn prediction:  1 actual value:  1\n",
      "ensemble prediction:  [0] knn prediction:  6 actual value:  6\n",
      "ensemble prediction:  [1] knn prediction:  1 actual value:  1\n",
      "ensemble prediction:  [1] knn prediction:  7 actual value:  7\n",
      "ensemble prediction:  [1] knn prediction:  1 actual value:  1\n",
      "ensemble prediction:  [0] knn prediction:  3 actual value:  3\n",
      "ensemble prediction:  [1] knn prediction:  5 actual value:  5\n",
      "ensemble prediction:  [1] knn prediction:  1 actual value:  1\n",
      "ensemble prediction:  [0] knn prediction:  3 actual value:  3\n",
      "ensemble prediction:  [1] knn prediction:  1 actual value:  1\n",
      "ensemble prediction:  [1] knn prediction:  1 actual value:  1\n",
      "ensemble prediction:  [1] knn prediction:  1 actual value:  1\n",
      "ensemble prediction:  [1] knn prediction:  1 actual value:  1\n",
      "ensemble prediction:  [1] knn prediction:  1 actual value:  1\n",
      "ensemble prediction:  [1] knn prediction:  1 actual value:  1\n",
      "ensemble prediction:  [1] knn prediction:  1 actual value:  1\n",
      "ensemble prediction:  [0] knn prediction:  6 actual value:  6\n",
      "ensemble prediction:  [1] knn prediction:  1 actual value:  1\n",
      "ensemble prediction:  [0] knn prediction:  3 actual value:  3\n",
      "ensemble prediction:  [1] knn prediction:  7 actual value:  7\n",
      "ensemble prediction:  [1] knn prediction:  1 actual value:  1\n",
      "ensemble prediction:  [1] knn prediction:  1 actual value:  1\n",
      "ensemble prediction:  [1] knn prediction:  7 actual value:  7\n",
      "ensemble prediction:  [1] knn prediction:  1 actual value:  1\n",
      "ensemble prediction:  [1] knn prediction:  1 actual value:  1\n",
      "ensemble prediction:  [1] knn prediction:  1 actual value:  1\n",
      "ensemble prediction:  [1] knn prediction:  1 actual value:  1\n",
      "ensemble prediction:  [1] knn prediction:  1 actual value:  1\n",
      "ensemble prediction:  [1] knn prediction:  5 actual value:  5\n",
      "ensemble prediction:  [1] knn prediction:  1 actual value:  1\n",
      "ensemble prediction:  [0] knn prediction:  6 actual value:  6\n",
      "ensemble prediction:  [1] knn prediction:  1 actual value:  1\n",
      "ensemble prediction:  [1] knn prediction:  1 actual value:  1\n",
      "ensemble prediction:  [1] knn prediction:  7 actual value:  7\n",
      "ensemble prediction:  [1] knn prediction:  1 actual value:  1\n",
      "ensemble prediction:  [0] knn prediction:  3 actual value:  3\n",
      "ensemble prediction:  [0] knn prediction:  6 actual value:  6\n",
      "ensemble prediction:  [1] knn prediction:  1 actual value:  1\n",
      "ensemble prediction:  [1] knn prediction:  5 actual value:  5\n",
      "ensemble prediction:  [1] knn prediction:  1 actual value:  1\n",
      "ensemble prediction:  [0] knn prediction:  6 actual value:  6\n",
      "ensemble prediction:  [1] knn prediction:  1 actual value:  1\n",
      "ensemble prediction:  [1] knn prediction:  1 actual value:  1\n",
      "ensemble prediction:  [1] knn prediction:  1 actual value:  1\n",
      "ensemble prediction:  [1] knn prediction:  1 actual value:  1\n",
      "ensemble prediction:  [1] knn prediction:  7 actual value:  7\n",
      "ensemble prediction:  [0] knn prediction:  3 actual value:  3\n",
      "ensemble prediction:  [0] knn prediction:  3 actual value:  3\n",
      "ensemble prediction:  [1] knn prediction:  1 actual value:  1\n",
      "ensemble prediction:  [0] knn prediction:  3 actual value:  3\n",
      "ensemble prediction:  [1] knn prediction:  1 actual value:  1\n",
      "ensemble prediction:  [1] knn prediction:  1 actual value:  1\n",
      "ensemble prediction:  [1] knn prediction:  1 actual value:  1\n",
      "ensemble prediction:  [1] knn prediction:  1 actual value:  1\n",
      "ensemble prediction:  [1] knn prediction:  7 actual value:  7\n",
      "ensemble prediction:  [1] knn prediction:  1 actual value:  1\n",
      "ensemble prediction:  [0] knn prediction:  3 actual value:  3\n",
      "ensemble prediction:  [0] knn prediction:  3 actual value:  3\n",
      "ensemble prediction:  [1] knn prediction:  5 actual value:  5\n",
      "ensemble prediction:  [1] knn prediction:  1 actual value:  1\n",
      "ensemble prediction:  [0] knn prediction:  3 actual value:  3\n",
      "ensemble prediction:  [0] knn prediction:  3 actual value:  3\n",
      "ensemble prediction:  [1] knn prediction:  1 actual value:  1\n",
      "ensemble prediction:  [1] knn prediction:  1 actual value:  1\n",
      "ensemble prediction:  [1] knn prediction:  1 actual value:  1\n",
      "ensemble prediction:  [1] knn prediction:  1 actual value:  1\n",
      "ensemble prediction:  [1] knn prediction:  1 actual value:  1\n",
      "ensemble prediction:  [1] knn prediction:  1 actual value:  1\n",
      "ensemble prediction:  [1] knn prediction:  1 actual value:  1\n",
      "ensemble prediction:  [1] knn prediction:  1 actual value:  1\n",
      "ensemble prediction:  [0] knn prediction:  3 actual value:  3\n",
      "ensemble prediction:  [1] knn prediction:  1 actual value:  1\n",
      "ensemble prediction:  [0] knn prediction:  3 actual value:  3\n",
      "ensemble prediction:  [0] knn prediction:  6 actual value:  6\n",
      "ensemble prediction:  [0] knn prediction:  3 actual value:  3\n",
      "ensemble prediction:  [1] knn prediction:  1 actual value:  1\n",
      "ensemble prediction:  [0] knn prediction:  6 actual value:  6\n",
      "ensemble prediction:  [1] knn prediction:  1 actual value:  1\n",
      "ensemble prediction:  [1] knn prediction:  1 actual value:  1\n",
      "ensemble prediction:  [1] knn prediction:  1 actual value:  1\n",
      "ensemble prediction:  [1] knn prediction:  7 actual value:  7\n",
      "ensemble prediction:  [0] knn prediction:  3 actual value:  5\n",
      "ensemble prediction:  [1] knn prediction:  1 actual value:  1\n",
      "ensemble prediction:  [1] knn prediction:  1 actual value:  1\n",
      "ensemble prediction:  [1] knn prediction:  1 actual value:  1\n",
      "ensemble prediction:  [1] knn prediction:  1 actual value:  1\n",
      "ensemble prediction:  [1] knn prediction:  7 actual value:  7\n",
      "ensemble prediction:  [1] knn prediction:  1 actual value:  1\n",
      "ensemble prediction:  [1] knn prediction:  1 actual value:  1\n",
      "ensemble prediction:  [0] knn prediction:  6 actual value:  6\n",
      "ensemble prediction:  [1] knn prediction:  1 actual value:  1\n",
      "ensemble prediction:  [1] knn prediction:  1 actual value:  1\n",
      "ensemble prediction:  [0] knn prediction:  6 actual value:  6\n",
      "ensemble prediction:  [1] knn prediction:  5 actual value:  5\n",
      "ensemble prediction:  [1] knn prediction:  1 actual value:  1\n",
      "ensemble prediction:  [0] knn prediction:  6 actual value:  6\n",
      "ensemble prediction:  [1] knn prediction:  1 actual value:  2\n",
      "ensemble prediction:  [1] knn prediction:  1 actual value:  1\n",
      "ensemble prediction:  [1] knn prediction:  1 actual value:  1\n",
      "ensemble prediction:  [1] knn prediction:  1 actual value:  1\n",
      "ensemble prediction:  [1] knn prediction:  1 actual value:  1\n",
      "ensemble prediction:  [0] knn prediction:  6 actual value:  6\n",
      "ensemble prediction:  [1] knn prediction:  1 actual value:  1\n",
      "ensemble prediction:  [1] knn prediction:  1 actual value:  1\n",
      "ensemble prediction:  [1] knn prediction:  1 actual value:  1\n",
      "ensemble prediction:  [0] knn prediction:  3 actual value:  3\n",
      "ensemble prediction:  [1] knn prediction:  1 actual value:  1\n",
      "ensemble prediction:  [1] knn prediction:  1 actual value:  1\n",
      "ensemble prediction:  [1] knn prediction:  1 actual value:  1\n",
      "ensemble prediction:  [1] knn prediction:  1 actual value:  1\n",
      "ensemble prediction:  [0] knn prediction:  6 actual value:  6\n",
      "ensemble prediction:  [1] knn prediction:  1 actual value:  1\n",
      "ensemble prediction:  [1] knn prediction:  1 actual value:  1\n",
      "ensemble prediction:  [0] knn prediction:  6 actual value:  6\n",
      "ensemble prediction:  [1] knn prediction:  1 actual value:  1\n",
      "ensemble prediction:  [1] knn prediction:  1 actual value:  1\n",
      "ensemble prediction:  [1] knn prediction:  1 actual value:  1\n",
      "ensemble prediction:  [1] knn prediction:  1 actual value:  1\n",
      "ensemble prediction:  [1] knn prediction:  1 actual value:  1\n",
      "ensemble prediction:  [1] knn prediction:  7 actual value:  7\n",
      "ensemble prediction:  [1] knn prediction:  1 actual value:  1\n",
      "ensemble prediction:  [1] knn prediction:  1 actual value:  1\n",
      "ensemble prediction:  [1] knn prediction:  7 actual value:  7\n",
      "ensemble prediction:  [0] knn prediction:  6 actual value:  3\n",
      "ensemble prediction:  [1] knn prediction:  1 actual value:  1\n",
      "ensemble prediction:  [1] knn prediction:  1 actual value:  1\n",
      "ensemble prediction:  [1] knn prediction:  1 actual value:  1\n",
      "ensemble prediction:  [1] knn prediction:  1 actual value:  1\n",
      "ensemble prediction:  [1] knn prediction:  1 actual value:  1\n",
      "ensemble prediction:  [1] knn prediction:  1 actual value:  1\n",
      "ensemble prediction:  [1] knn prediction:  7 actual value:  7\n",
      "ensemble prediction:  [0] knn prediction:  6 actual value:  6\n",
      "ensemble prediction:  [0] knn prediction:  3 actual value:  3\n",
      "Total operation time: =  2.7353014945983887 seconds\n"
     ]
    }
   ],
   "source": [
    "ensemble_predictions = []\n",
    "seconds = time.time()\n",
    "\n",
    "for i in range(len(X_test_scaled_df)):\n",
    "    test_instance_df = X_test_scaled_df.iloc[i].to_frame().T\n",
    "    if knn_predictions[i] == NORMAL_TARGET:\n",
    "        ensemble_predictions.append((0, NORMAL_TARGET, y_test_df.iloc[i]))\n",
    "        continue\n",
    "    predicted_label = TARGET_DICT[knn_predictions[i]]\n",
    "    # print('predicted_label', predicted_label)\n",
    "    selected_features = feature_importances[predicted_label]\n",
    "    # print('selected_features', selected_features)\n",
    "    model = ensemble_models[predicted_label]\n",
    "    \n",
    "    # Select features for the ensemble\n",
    "    test_instance_selected_df = test_instance_df[selected_features]\n",
    "    ensemble_prediction = model.predict(test_instance_selected_df)\n",
    "    print('ensemble prediction: ', ensemble_prediction, 'knn prediction: ', INV_TARGET_DICT[predicted_label], 'actual value: ', y_test_df.iloc[i])\n",
    "    ensemble_predictions.append((ensemble_prediction, INV_TARGET_DICT[predicted_label], y_test_df.iloc[i]))\n",
    "\n",
    "print(\"Total operation time: = \", time.time() - seconds, \"seconds\")"
   ]
  },
  {
   "cell_type": "code",
   "execution_count": 24,
   "metadata": {},
   "outputs": [
    {
     "data": {
      "text/html": [
       "wandb version 0.18.3 is available!  To upgrade, please run:\n",
       " $ pip install wandb --upgrade"
      ],
      "text/plain": [
       "<IPython.core.display.HTML object>"
      ]
     },
     "metadata": {},
     "output_type": "display_data"
    },
    {
     "data": {
      "text/html": [
       "Tracking run with wandb version 0.16.4"
      ],
      "text/plain": [
       "<IPython.core.display.HTML object>"
      ]
     },
     "metadata": {},
     "output_type": "display_data"
    },
    {
     "data": {
      "text/html": [
       "Run data is saved locally in <code>/home/brina/nus-mcomp/sem2/cs5344-big-data-analytics-technology/CS5344_Project/work/wandb/run-20241008_161604-cdwa1czt</code>"
      ],
      "text/plain": [
       "<IPython.core.display.HTML object>"
      ]
     },
     "metadata": {},
     "output_type": "display_data"
    },
    {
     "data": {
      "text/html": [
       "Syncing run <strong><a href='https://wandb.ai/brinashong/pipeline-covertype-dataset/runs/cdwa1czt' target=\"_blank\">anomalies-ensemble</a></strong> to <a href='https://wandb.ai/brinashong/pipeline-covertype-dataset' target=\"_blank\">Weights & Biases</a> (<a href='https://wandb.me/run' target=\"_blank\">docs</a>)<br/>"
      ],
      "text/plain": [
       "<IPython.core.display.HTML object>"
      ]
     },
     "metadata": {},
     "output_type": "display_data"
    },
    {
     "data": {
      "text/html": [
       " View project at <a href='https://wandb.ai/brinashong/pipeline-covertype-dataset' target=\"_blank\">https://wandb.ai/brinashong/pipeline-covertype-dataset</a>"
      ],
      "text/plain": [
       "<IPython.core.display.HTML object>"
      ]
     },
     "metadata": {},
     "output_type": "display_data"
    },
    {
     "data": {
      "text/html": [
       " View run at <a href='https://wandb.ai/brinashong/pipeline-covertype-dataset/runs/cdwa1czt' target=\"_blank\">https://wandb.ai/brinashong/pipeline-covertype-dataset/runs/cdwa1czt</a>"
      ],
      "text/plain": [
       "<IPython.core.display.HTML object>"
      ]
     },
     "metadata": {},
     "output_type": "display_data"
    },
    {
     "name": "stdout",
     "output_type": "stream",
     "text": [
      "anomaly_mask 500\n",
      "[1, 2, 2, 2, 2, 3, 2, 1, 2, 2, 2, 1, 5, 2, 2, 1, 2, 5, 3, 2, 1, 2, 2, 1, 6, 1, 1, 2, 1, 2, 1, 2, 2, 3, 1, 2, 2, 2, 2, 1, 2, 1, 1, 2, 2, 1, 2, 2, 7, 2, 1, 1, 6, 2, 1, 1, 7, 2, 2, 2, 2, 1, 1, 2, 2, 2, 3, 2, 2, 1, 5, 1, 2, 3, 1, 3, 2, 1, 1, 2, 2, 1, 2, 2, 2, 1, 1, 3, 1, 2, 1, 1, 2, 1, 3, 3, 2, 2, 1, 1, 6, 6, 2, 2, 1, 2, 5, 6, 6, 1, 2, 1, 2, 1, 1, 1, 3, 1, 2, 3, 1, 1, 1, 1, 2, 2, 1, 1, 1, 2, 1, 2, 2, 2, 5, 1, 1, 1, 2, 3, 1, 2, 2, 3, 1, 1, 1, 2, 2, 2, 1, 7, 2, 2, 1, 1, 2, 2, 1, 2, 1, 3, 1, 2, 2, 2, 2, 2, 2, 2, 2, 1, 2, 1, 1, 1, 1, 2, 2, 2, 1, 2, 2, 2, 2, 2, 1, 2, 2, 1, 1, 1, 2, 2, 1, 3, 3, 2, 1, 1, 2, 7, 1, 1, 1, 1, 2, 2, 2, 3, 2, 5, 3, 3, 2, 1, 2, 1, 2, 2, 3, 1, 2, 2, 3, 2, 2, 2, 1, 1, 2, 5, 1, 1, 1, 2, 2, 1, 2, 2, 1, 1, 2, 1, 1, 6, 2, 1, 2, 7, 2, 1, 3, 5, 1, 2, 3, 2, 2, 1, 2, 2, 1, 2, 2, 2, 2, 1, 1, 2, 1, 2, 1, 1, 2, 6, 1, 3, 2, 7, 1, 1, 2, 2, 2, 2, 2, 2, 7, 1, 1, 1, 1, 1, 2, 2, 5, 2, 2, 2, 1, 6, 2, 1, 1, 2, 7, 1, 2, 3, 2, 2, 2, 2, 2, 6, 1, 5, 2, 2, 1, 6, 2, 2, 1, 1, 1, 1, 2, 2, 2, 7, 3, 3, 2, 1, 2, 2, 2, 3, 2, 2, 1, 2, 1, 1, 2, 1, 7, 2, 1, 3, 3, 5, 2, 2, 1, 3, 3, 2, 2, 1, 2, 2, 2, 2, 2, 2, 1, 2, 2, 1, 2, 2, 1, 2, 1, 1, 2, 2, 2, 1, 2, 1, 3, 1, 3, 2, 2, 2, 6, 2, 3, 2, 2, 1, 2, 2, 6, 1, 2, 1, 2, 2, 2, 2, 1, 2, 2, 7, 2, 2, 3, 1, 2, 1, 1, 2, 2, 2, 1, 7, 1, 2, 2, 1, 6, 2, 2, 1, 1, 2, 2, 2, 6, 2, 2, 5, 1, 6, 1, 1, 2, 1, 2, 1, 1, 6, 1, 1, 1, 3, 1, 1, 1, 2, 2, 1, 6, 2, 2, 2, 2, 2, 2, 2, 2, 1, 2, 2, 1, 2, 2, 2, 6, 1, 2, 1, 1, 1, 1, 2, 7, 1, 1, 7, 6, 1, 1, 2, 2, 2, 1, 2, 1, 1, 1, 7, 6, 3]\n",
      "Lengths:  263 263\n",
      "Ensemble Evaluation (for anomalies)\n",
      "Confusion Matrix:\n",
      "[[175   0   0   0   0   0   0]\n",
      " [  2   0   0   0   0   0   0]\n",
      " [  0   0  36   0   0   1   0]\n",
      " [  0   0   0   0   0   1   0]\n",
      " [  0   0   1   0  12   0   0]\n",
      " [  0   0   1   0   0  19   0]\n",
      " [  0   0   0   0   0   0  15]]\n",
      "\n",
      "Classification Report:\n",
      "{'1': {'precision': 0.9887005649717514, 'recall': 1.0, 'f1-score': 0.9943181818181819, 'support': 175.0}, '2': {'precision': 0.0, 'recall': 0.0, 'f1-score': 0.0, 'support': 2.0}, '3': {'precision': 0.9473684210526315, 'recall': 0.972972972972973, 'f1-score': 0.9599999999999999, 'support': 37.0}, '4': {'precision': 0.0, 'recall': 0.0, 'f1-score': 0.0, 'support': 1.0}, '5': {'precision': 1.0, 'recall': 0.9230769230769231, 'f1-score': 0.9600000000000001, 'support': 13.0}, '6': {'precision': 0.9047619047619048, 'recall': 0.95, 'f1-score': 0.9268292682926829, 'support': 20.0}, '7': {'precision': 1.0, 'recall': 1.0, 'f1-score': 1.0, 'support': 15.0}, 'accuracy': 0.9771863117870723, 'macro avg': {'precision': 0.6915472701123269, 'recall': 0.6922928422928424, 'f1-score': 0.6915924928729806, 'support': 263.0}, 'weighted avg': {'precision': 0.9664276370503497, 'recall': 0.9771863117870723, 'f1-score': 0.971643601460211, 'support': 263.0}}\n",
      "Accuracy: 0.9771863117870723\n"
     ]
    },
    {
     "name": "stderr",
     "output_type": "stream",
     "text": [
      "/home/brina/miniconda3/envs/gpu/lib/python3.8/site-packages/sklearn/metrics/_classification.py:1471: UndefinedMetricWarning: Precision and F-score are ill-defined and being set to 0.0 in labels with no predicted samples. Use `zero_division` parameter to control this behavior.\n",
      "  _warn_prf(average, modifier, msg_start, len(result))\n",
      "/home/brina/miniconda3/envs/gpu/lib/python3.8/site-packages/sklearn/metrics/_classification.py:1471: UndefinedMetricWarning: Precision and F-score are ill-defined and being set to 0.0 in labels with no predicted samples. Use `zero_division` parameter to control this behavior.\n",
      "  _warn_prf(average, modifier, msg_start, len(result))\n",
      "/home/brina/miniconda3/envs/gpu/lib/python3.8/site-packages/sklearn/metrics/_classification.py:1471: UndefinedMetricWarning: Precision and F-score are ill-defined and being set to 0.0 in labels with no predicted samples. Use `zero_division` parameter to control this behavior.\n",
      "  _warn_prf(average, modifier, msg_start, len(result))\n",
      "/home/brina/miniconda3/envs/gpu/lib/python3.8/site-packages/sklearn/metrics/_classification.py:1471: UndefinedMetricWarning: Precision and F-score are ill-defined and being set to 0.0 in labels with no predicted samples. Use `zero_division` parameter to control this behavior.\n",
      "  _warn_prf(average, modifier, msg_start, len(result))\n",
      "/home/brina/miniconda3/envs/gpu/lib/python3.8/site-packages/sklearn/metrics/_classification.py:1471: UndefinedMetricWarning: Precision and F-score are ill-defined and being set to 0.0 in labels with no predicted samples. Use `zero_division` parameter to control this behavior.\n",
      "  _warn_prf(average, modifier, msg_start, len(result))\n",
      "/home/brina/miniconda3/envs/gpu/lib/python3.8/site-packages/sklearn/metrics/_classification.py:1471: UndefinedMetricWarning: Precision and F-score are ill-defined and being set to 0.0 in labels with no predicted samples. Use `zero_division` parameter to control this behavior.\n",
      "  _warn_prf(average, modifier, msg_start, len(result))\n"
     ]
    },
    {
     "data": {
      "application/vnd.jupyter.widget-view+json": {
       "model_id": "",
       "version_major": 2,
       "version_minor": 0
      },
      "text/plain": [
       "VBox(children=(Label(value='0.005 MB of 0.005 MB uploaded\\r'), FloatProgress(value=0.9630602240896359, max=1.0…"
      ]
     },
     "metadata": {},
     "output_type": "display_data"
    },
    {
     "data": {
      "text/html": [
       "<style>\n",
       "    table.wandb td:nth-child(1) { padding: 0 10px; text-align: left ; width: auto;} td:nth-child(2) {text-align: left ; width: 100%}\n",
       "    .wandb-row { display: flex; flex-direction: row; flex-wrap: wrap; justify-content: flex-start; width: 100% }\n",
       "    .wandb-col { display: flex; flex-direction: column; flex-basis: 100%; flex: 1; padding: 10px; }\n",
       "    </style>\n",
       "<div class=\"wandb-row\"><div class=\"wandb-col\"><h3>Run history:</h3><br/><table class=\"wandb\"><tr><td>Accuracy Score</td><td>▁</td></tr><tr><td>f1-score_avg</td><td>▁</td></tr><tr><td>precision_avg</td><td>▁</td></tr><tr><td>recall_avg</td><td>▁</td></tr></table><br/></div><div class=\"wandb-col\"><h3>Run summary:</h3><br/><table class=\"wandb\"><tr><td>Accuracy Score</td><td>0.97719</td></tr><tr><td>f1-score_avg</td><td>0.97164</td></tr><tr><td>precision_avg</td><td>0.96643</td></tr><tr><td>recall_avg</td><td>0.97719</td></tr></table><br/></div></div>"
      ],
      "text/plain": [
       "<IPython.core.display.HTML object>"
      ]
     },
     "metadata": {},
     "output_type": "display_data"
    },
    {
     "data": {
      "text/html": [
       " View run <strong style=\"color:#cdcd00\">anomalies-ensemble</strong> at: <a href='https://wandb.ai/brinashong/pipeline-covertype-dataset/runs/cdwa1czt' target=\"_blank\">https://wandb.ai/brinashong/pipeline-covertype-dataset/runs/cdwa1czt</a><br/> View job at <a href='https://wandb.ai/brinashong/pipeline-covertype-dataset/jobs/QXJ0aWZhY3RDb2xsZWN0aW9uOjQ2NzIyMzQwNQ==/version_details/v0' target=\"_blank\">https://wandb.ai/brinashong/pipeline-covertype-dataset/jobs/QXJ0aWZhY3RDb2xsZWN0aW9uOjQ2NzIyMzQwNQ==/version_details/v0</a><br/>Synced 6 W&B file(s), 2 media file(s), 2 artifact file(s) and 0 other file(s)"
      ],
      "text/plain": [
       "<IPython.core.display.HTML object>"
      ]
     },
     "metadata": {},
     "output_type": "display_data"
    },
    {
     "data": {
      "text/html": [
       "Find logs at: <code>./wandb/run-20241008_161604-cdwa1czt/logs</code>"
      ],
      "text/plain": [
       "<IPython.core.display.HTML object>"
      ]
     },
     "metadata": {},
     "output_type": "display_data"
    },
    {
     "data": {
      "application/vnd.jupyter.widget-view+json": {
       "model_id": "d5f8dec8ae584742a735a5792f10104f",
       "version_major": 2,
       "version_minor": 0
      },
      "text/plain": [
       "VBox(children=(Label(value='Waiting for wandb.init()...\\r'), FloatProgress(value=0.011112557288894702, max=1.0…"
      ]
     },
     "metadata": {},
     "output_type": "display_data"
    },
    {
     "data": {
      "text/html": [
       "wandb version 0.18.3 is available!  To upgrade, please run:\n",
       " $ pip install wandb --upgrade"
      ],
      "text/plain": [
       "<IPython.core.display.HTML object>"
      ]
     },
     "metadata": {},
     "output_type": "display_data"
    },
    {
     "data": {
      "text/html": [
       "Tracking run with wandb version 0.16.4"
      ],
      "text/plain": [
       "<IPython.core.display.HTML object>"
      ]
     },
     "metadata": {},
     "output_type": "display_data"
    },
    {
     "data": {
      "text/html": [
       "Run data is saved locally in <code>/home/brina/nus-mcomp/sem2/cs5344-big-data-analytics-technology/CS5344_Project/work/wandb/run-20241008_161625-7hmelfcr</code>"
      ],
      "text/plain": [
       "<IPython.core.display.HTML object>"
      ]
     },
     "metadata": {},
     "output_type": "display_data"
    },
    {
     "data": {
      "text/html": [
       "Syncing run <strong><a href='https://wandb.ai/brinashong/pipeline-covertype-dataset/runs/7hmelfcr' target=\"_blank\">overall-ensemble</a></strong> to <a href='https://wandb.ai/brinashong/pipeline-covertype-dataset' target=\"_blank\">Weights & Biases</a> (<a href='https://wandb.me/run' target=\"_blank\">docs</a>)<br/>"
      ],
      "text/plain": [
       "<IPython.core.display.HTML object>"
      ]
     },
     "metadata": {},
     "output_type": "display_data"
    },
    {
     "data": {
      "text/html": [
       " View project at <a href='https://wandb.ai/brinashong/pipeline-covertype-dataset' target=\"_blank\">https://wandb.ai/brinashong/pipeline-covertype-dataset</a>"
      ],
      "text/plain": [
       "<IPython.core.display.HTML object>"
      ]
     },
     "metadata": {},
     "output_type": "display_data"
    },
    {
     "data": {
      "text/html": [
       " View run at <a href='https://wandb.ai/brinashong/pipeline-covertype-dataset/runs/7hmelfcr' target=\"_blank\">https://wandb.ai/brinashong/pipeline-covertype-dataset/runs/7hmelfcr</a>"
      ],
      "text/plain": [
       "<IPython.core.display.HTML object>"
      ]
     },
     "metadata": {},
     "output_type": "display_data"
    },
    {
     "name": "stdout",
     "output_type": "stream",
     "text": [
      "Ensemble Evaluation (for all)\n",
      "Confusion Matrix:\n",
      "[[175   1   0   0   0   0   0]\n",
      " [  2 235   0   0   0   0   0]\n",
      " [  0   0  36   0   0   1   0]\n",
      " [  0   0   0   0   0   1   0]\n",
      " [  0   1   1   0  12   0   0]\n",
      " [  0   0   1   0   0  19   0]\n",
      " [  0   0   0   0   0   0  15]]\n",
      "\n",
      "Classification Report:\n",
      "{'1': {'precision': 0.9887005649717514, 'recall': 0.9943181818181818, 'f1-score': 0.9915014164305949, 'support': 176.0}, '2': {'precision': 0.9915611814345991, 'recall': 0.9915611814345991, 'f1-score': 0.9915611814345991, 'support': 237.0}, '3': {'precision': 0.9473684210526315, 'recall': 0.972972972972973, 'f1-score': 0.9599999999999999, 'support': 37.0}, '4': {'precision': 0.0, 'recall': 0.0, 'f1-score': 0.0, 'support': 1.0}, '5': {'precision': 1.0, 'recall': 0.8571428571428571, 'f1-score': 0.923076923076923, 'support': 14.0}, '6': {'precision': 0.9047619047619048, 'recall': 0.95, 'f1-score': 0.9268292682926829, 'support': 20.0}, '7': {'precision': 1.0, 'recall': 1.0, 'f1-score': 1.0, 'support': 15.0}, 'accuracy': 0.984, 'macro avg': {'precision': 0.8331988674601266, 'recall': 0.8237135990526587, 'f1-score': 0.8275669698906858, 'support': 500.0}, 'weighted avg': {'precision': 0.9823183382184275, 'recall': 0.984, 'f1-score': 0.9829678231614306, 'support': 500.0}}\n",
      "Accuracy: 0.984\n"
     ]
    },
    {
     "name": "stderr",
     "output_type": "stream",
     "text": [
      "/home/brina/miniconda3/envs/gpu/lib/python3.8/site-packages/sklearn/metrics/_classification.py:1471: UndefinedMetricWarning: Precision and F-score are ill-defined and being set to 0.0 in labels with no predicted samples. Use `zero_division` parameter to control this behavior.\n",
      "  _warn_prf(average, modifier, msg_start, len(result))\n",
      "/home/brina/miniconda3/envs/gpu/lib/python3.8/site-packages/sklearn/metrics/_classification.py:1471: UndefinedMetricWarning: Precision and F-score are ill-defined and being set to 0.0 in labels with no predicted samples. Use `zero_division` parameter to control this behavior.\n",
      "  _warn_prf(average, modifier, msg_start, len(result))\n",
      "/home/brina/miniconda3/envs/gpu/lib/python3.8/site-packages/sklearn/metrics/_classification.py:1471: UndefinedMetricWarning: Precision and F-score are ill-defined and being set to 0.0 in labels with no predicted samples. Use `zero_division` parameter to control this behavior.\n",
      "  _warn_prf(average, modifier, msg_start, len(result))\n",
      "/home/brina/miniconda3/envs/gpu/lib/python3.8/site-packages/sklearn/metrics/_classification.py:1471: UndefinedMetricWarning: Precision and F-score are ill-defined and being set to 0.0 in labels with no predicted samples. Use `zero_division` parameter to control this behavior.\n",
      "  _warn_prf(average, modifier, msg_start, len(result))\n",
      "/home/brina/miniconda3/envs/gpu/lib/python3.8/site-packages/sklearn/metrics/_classification.py:1471: UndefinedMetricWarning: Precision and F-score are ill-defined and being set to 0.0 in labels with no predicted samples. Use `zero_division` parameter to control this behavior.\n",
      "  _warn_prf(average, modifier, msg_start, len(result))\n",
      "/home/brina/miniconda3/envs/gpu/lib/python3.8/site-packages/sklearn/metrics/_classification.py:1471: UndefinedMetricWarning: Precision and F-score are ill-defined and being set to 0.0 in labels with no predicted samples. Use `zero_division` parameter to control this behavior.\n",
      "  _warn_prf(average, modifier, msg_start, len(result))\n"
     ]
    },
    {
     "data": {
      "application/vnd.jupyter.widget-view+json": {
       "model_id": "",
       "version_major": 2,
       "version_minor": 0
      },
      "text/plain": [
       "VBox(children=(Label(value='0.005 MB of 0.006 MB uploaded\\r'), FloatProgress(value=0.9634271978021978, max=1.0…"
      ]
     },
     "metadata": {},
     "output_type": "display_data"
    },
    {
     "data": {
      "text/html": [
       "<style>\n",
       "    table.wandb td:nth-child(1) { padding: 0 10px; text-align: left ; width: auto;} td:nth-child(2) {text-align: left ; width: 100%}\n",
       "    .wandb-row { display: flex; flex-direction: row; flex-wrap: wrap; justify-content: flex-start; width: 100% }\n",
       "    .wandb-col { display: flex; flex-direction: column; flex-basis: 100%; flex: 1; padding: 10px; }\n",
       "    </style>\n",
       "<div class=\"wandb-row\"><div class=\"wandb-col\"><h3>Run history:</h3><br/><table class=\"wandb\"><tr><td>Accuracy Score</td><td>▁</td></tr><tr><td>f1-score_avg</td><td>▁</td></tr><tr><td>precision_avg</td><td>▁</td></tr><tr><td>recall_avg</td><td>▁</td></tr></table><br/></div><div class=\"wandb-col\"><h3>Run summary:</h3><br/><table class=\"wandb\"><tr><td>Accuracy Score</td><td>0.984</td></tr><tr><td>f1-score_avg</td><td>0.98297</td></tr><tr><td>precision_avg</td><td>0.98232</td></tr><tr><td>recall_avg</td><td>0.984</td></tr></table><br/></div></div>"
      ],
      "text/plain": [
       "<IPython.core.display.HTML object>"
      ]
     },
     "metadata": {},
     "output_type": "display_data"
    },
    {
     "data": {
      "text/html": [
       " View run <strong style=\"color:#cdcd00\">overall-ensemble</strong> at: <a href='https://wandb.ai/brinashong/pipeline-covertype-dataset/runs/7hmelfcr' target=\"_blank\">https://wandb.ai/brinashong/pipeline-covertype-dataset/runs/7hmelfcr</a><br/> View job at <a href='https://wandb.ai/brinashong/pipeline-covertype-dataset/jobs/QXJ0aWZhY3RDb2xsZWN0aW9uOjQ2NzIyMzQwNQ==/version_details/v0' target=\"_blank\">https://wandb.ai/brinashong/pipeline-covertype-dataset/jobs/QXJ0aWZhY3RDb2xsZWN0aW9uOjQ2NzIyMzQwNQ==/version_details/v0</a><br/>Synced 6 W&B file(s), 2 media file(s), 2 artifact file(s) and 0 other file(s)"
      ],
      "text/plain": [
       "<IPython.core.display.HTML object>"
      ]
     },
     "metadata": {},
     "output_type": "display_data"
    },
    {
     "data": {
      "text/html": [
       "Find logs at: <code>./wandb/run-20241008_161625-7hmelfcr/logs</code>"
      ],
      "text/plain": [
       "<IPython.core.display.HTML object>"
      ]
     },
     "metadata": {},
     "output_type": "display_data"
    }
   ],
   "source": [
    "wandb.init(project=\"pipeline-covertype-dataset\", name=\"anomalies-ensemble\")\n",
    "\n",
    "# Now evaluate ensemble predictions only for the anomalies detected by KNN\n",
    "# Create a mask for test instances that KNN classified as anomalies\n",
    "anomaly_mask = knn_predictions != NORMAL_TARGET  # Assuming normal_target is your normal class\n",
    "print('anomaly_mask', len(anomaly_mask))\n",
    "\n",
    "# Get true labels and predictions for anomalies\n",
    "ensemble_predictions_actual = [t[1] for t in ensemble_predictions]\n",
    "print(ensemble_predictions_actual)\n",
    "ensemble_predictions_actual_df = pd.DataFrame(ensemble_predictions_actual, columns=[TARGET_COLUMN])\n",
    "y_test_anomalies_df = y_test_df[anomaly_mask]\n",
    "ensemble_predictions_anomalies_df = ensemble_predictions_actual_df[anomaly_mask]\n",
    "print('Lengths: ', len(y_test_anomalies_df), len(ensemble_predictions_anomalies_df))\n",
    "\n",
    "# Evaluate ensemble only on the anomalies\n",
    "conf_matrix, class_report, acc_score = evaluate(y_test_anomalies_df, ensemble_predictions_anomalies_df, heading='Ensemble Evaluation (for anomalies)')\n",
    "wandb_log(conf_matrix, class_report, acc_score)\n",
    "wandb.finish()\n",
    "\n",
    "# Evaluate ensemble on all test data\n",
    "wandb.init(project=\"pipeline-covertype-dataset\", name=\"overall-ensemble\")\n",
    "conf_matrix, class_report, acc_score = evaluate(y_test_df, ensemble_predictions_actual_df, heading='Ensemble Evaluation (for all)')\n",
    "wandb_log(conf_matrix, class_report, acc_score)\n",
    "wandb.finish()"
   ]
  },
  {
   "cell_type": "code",
   "execution_count": null,
   "metadata": {},
   "outputs": [],
   "source": []
  }
 ],
 "metadata": {
  "kernelspec": {
   "display_name": "Python 3 (ipykernel)",
   "language": "python",
   "name": "python3"
  },
  "language_info": {
   "codemirror_mode": {
    "name": "ipython",
    "version": 3
   },
   "file_extension": ".py",
   "mimetype": "text/x-python",
   "name": "python",
   "nbconvert_exporter": "python",
   "pygments_lexer": "ipython3",
   "version": "3.8.18"
  }
 },
 "nbformat": 4,
 "nbformat_minor": 4
}
