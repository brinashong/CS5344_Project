{
 "cells": [
  {
   "cell_type": "code",
   "execution_count": 1,
   "id": "061421b7-c284-46dd-a0d0-b1690d6b0c4b",
   "metadata": {},
   "outputs": [
    {
     "name": "stdout",
     "output_type": "stream",
     "text": [
      "Collecting aeon@ git+https://github.com/aeon-toolkit/aeon.git@main (from aeon[all_extras]@ git+https://github.com/aeon-toolkit/aeon.git@main)\n",
      "  Cloning https://github.com/aeon-toolkit/aeon.git (to revision main) to /tmp/pip-install-o3tr6f2l/aeon_6e250de897594f9eaed177566a67a651\n",
      "  Running command git clone --filter=blob:none --quiet https://github.com/aeon-toolkit/aeon.git /tmp/pip-install-o3tr6f2l/aeon_6e250de897594f9eaed177566a67a651\n",
      "  Resolved https://github.com/aeon-toolkit/aeon.git to commit f293e9a70d800b8394356f8a37eacb93cd348a33\n",
      "  Installing build dependencies ... \u001b[?25ldone\n",
      "\u001b[?25h  Getting requirements to build wheel ... \u001b[?25ldone\n",
      "\u001b[?25h  Preparing metadata (pyproject.toml) ... \u001b[?25ldone\n",
      "\u001b[?25hCollecting deprecated>=1.2.13 (from aeon@ git+https://github.com/aeon-toolkit/aeon.git@main->aeon[all_extras]@ git+https://github.com/aeon-toolkit/aeon.git@main)\n",
      "  Using cached Deprecated-1.2.14-py2.py3-none-any.whl.metadata (5.4 kB)\n",
      "Collecting numba<0.61.0,>=0.55 (from aeon@ git+https://github.com/aeon-toolkit/aeon.git@main->aeon[all_extras]@ git+https://github.com/aeon-toolkit/aeon.git@main)\n",
      "  Downloading numba-0.60.0-cp310-cp310-manylinux2014_x86_64.manylinux_2_17_x86_64.whl.metadata (2.7 kB)\n",
      "Requirement already satisfied: numpy<1.27.0,>=1.21.0 in /home/brina/.local/lib/python3.10/site-packages (from aeon@ git+https://github.com/aeon-toolkit/aeon.git@main->aeon[all_extras]@ git+https://github.com/aeon-toolkit/aeon.git@main) (1.26.4)\n",
      "Collecting packaging>=20.0 (from aeon@ git+https://github.com/aeon-toolkit/aeon.git@main->aeon[all_extras]@ git+https://github.com/aeon-toolkit/aeon.git@main)\n",
      "  Using cached packaging-24.1-py3-none-any.whl.metadata (3.2 kB)\n",
      "Collecting pandas<2.1.0,>=1.5.3 (from aeon@ git+https://github.com/aeon-toolkit/aeon.git@main->aeon[all_extras]@ git+https://github.com/aeon-toolkit/aeon.git@main)\n",
      "  Downloading pandas-2.0.3-cp310-cp310-manylinux_2_17_x86_64.manylinux2014_x86_64.whl.metadata (18 kB)\n",
      "Collecting scikit-learn<1.6.0,>=1.0.0 (from aeon@ git+https://github.com/aeon-toolkit/aeon.git@main->aeon[all_extras]@ git+https://github.com/aeon-toolkit/aeon.git@main)\n",
      "  Downloading scikit_learn-1.5.2-cp310-cp310-manylinux_2_17_x86_64.manylinux2014_x86_64.whl.metadata (13 kB)\n",
      "Collecting scipy<1.13.0,>=1.9.0 (from aeon@ git+https://github.com/aeon-toolkit/aeon.git@main->aeon[all_extras]@ git+https://github.com/aeon-toolkit/aeon.git@main)\n",
      "  Downloading scipy-1.12.0-cp310-cp310-manylinux_2_17_x86_64.manylinux2014_x86_64.whl.metadata (60 kB)\n",
      "Requirement already satisfied: typing-extensions>=4.6.0 in /home/brina/.local/lib/python3.10/site-packages (from aeon@ git+https://github.com/aeon-toolkit/aeon.git@main->aeon[all_extras]@ git+https://github.com/aeon-toolkit/aeon.git@main) (4.12.2)\n",
      "Collecting imbalanced-learn (from aeon@ git+https://github.com/aeon-toolkit/aeon.git@main->aeon[all_extras]@ git+https://github.com/aeon-toolkit/aeon.git@main)\n",
      "  Using cached imbalanced_learn-0.12.3-py3-none-any.whl.metadata (8.3 kB)\n",
      "Collecting keras-self-attention (from aeon@ git+https://github.com/aeon-toolkit/aeon.git@main->aeon[all_extras]@ git+https://github.com/aeon-toolkit/aeon.git@main)\n",
      "  Using cached keras-self-attention-0.51.0.tar.gz (11 kB)\n",
      "  Preparing metadata (setup.py) ... \u001b[?25ldone\n",
      "\u001b[?25hCollecting kotsu>=0.3.1 (from aeon@ git+https://github.com/aeon-toolkit/aeon.git@main->aeon[all_extras]@ git+https://github.com/aeon-toolkit/aeon.git@main)\n",
      "  Using cached kotsu-0.3.3-py3-none-any.whl.metadata (5.0 kB)\n",
      "Collecting matplotlib<3.9.0,>=3.3.2 (from aeon@ git+https://github.com/aeon-toolkit/aeon.git@main->aeon[all_extras]@ git+https://github.com/aeon-toolkit/aeon.git@main)\n",
      "  Downloading matplotlib-3.8.4-cp310-cp310-manylinux_2_17_x86_64.manylinux2014_x86_64.whl.metadata (5.8 kB)\n",
      "Collecting pydot>=2.0.0 (from aeon@ git+https://github.com/aeon-toolkit/aeon.git@main->aeon[all_extras]@ git+https://github.com/aeon-toolkit/aeon.git@main)\n",
      "  Using cached pydot-3.0.1-py3-none-any.whl.metadata (9.9 kB)\n",
      "Collecting scikit-posthocs>=0.6.5 (from aeon@ git+https://github.com/aeon-toolkit/aeon.git@main->aeon[all_extras]@ git+https://github.com/aeon-toolkit/aeon.git@main)\n",
      "  Downloading scikit_posthocs-0.9.0-py3-none-any.whl.metadata (5.8 kB)\n",
      "Collecting seaborn>=0.11.0 (from aeon@ git+https://github.com/aeon-toolkit/aeon.git@main->aeon[all_extras]@ git+https://github.com/aeon-toolkit/aeon.git@main)\n",
      "  Using cached seaborn-0.13.2-py3-none-any.whl.metadata (5.4 kB)\n",
      "Collecting statsmodels>=0.12.1 (from aeon@ git+https://github.com/aeon-toolkit/aeon.git@main->aeon[all_extras]@ git+https://github.com/aeon-toolkit/aeon.git@main)\n",
      "  Downloading statsmodels-0.14.3-cp310-cp310-manylinux_2_17_x86_64.manylinux2014_x86_64.whl.metadata (9.2 kB)\n",
      "Collecting stumpy>=1.5.1 (from aeon@ git+https://github.com/aeon-toolkit/aeon.git@main->aeon[all_extras]@ git+https://github.com/aeon-toolkit/aeon.git@main)\n",
      "  Using cached stumpy-1.13.0-py3-none-any.whl.metadata (28 kB)\n",
      "Collecting ruptures>=1.1.9 (from aeon@ git+https://github.com/aeon-toolkit/aeon.git@main->aeon[all_extras]@ git+https://github.com/aeon-toolkit/aeon.git@main)\n",
      "  Downloading ruptures-1.1.9-cp310-cp310-manylinux_2_17_x86_64.manylinux2014_x86_64.whl.metadata (7.2 kB)\n",
      "Collecting torch>=1.13.1 (from aeon@ git+https://github.com/aeon-toolkit/aeon.git@main->aeon[all_extras]@ git+https://github.com/aeon-toolkit/aeon.git@main)\n",
      "  Downloading torch-2.4.1-cp310-cp310-manylinux1_x86_64.whl.metadata (26 kB)\n",
      "Collecting tsfresh>=0.20.0 (from aeon@ git+https://github.com/aeon-toolkit/aeon.git@main->aeon[all_extras]@ git+https://github.com/aeon-toolkit/aeon.git@main)\n",
      "  Using cached tsfresh-0.20.3-py2.py3-none-any.whl.metadata (2.6 kB)\n",
      "Collecting tslearn>=0.5.2 (from aeon@ git+https://github.com/aeon-toolkit/aeon.git@main->aeon[all_extras]@ git+https://github.com/aeon-toolkit/aeon.git@main)\n",
      "  Using cached tslearn-0.6.3-py3-none-any.whl.metadata (14 kB)\n",
      "Collecting pyod>=1.1.3 (from aeon@ git+https://github.com/aeon-toolkit/aeon.git@main->aeon[all_extras]@ git+https://github.com/aeon-toolkit/aeon.git@main)\n",
      "  Downloading pyod-2.0.2.tar.gz (165 kB)\n",
      "  Preparing metadata (setup.py) ... \u001b[?25ldone\n",
      "\u001b[?25hCollecting prts>=1.0.0.0 (from aeon@ git+https://github.com/aeon-toolkit/aeon.git@main->aeon[all_extras]@ git+https://github.com/aeon-toolkit/aeon.git@main)\n",
      "  Downloading prts-1.0.0.3-py3-none-any.whl.metadata (4.9 kB)\n",
      "Collecting esig>=0.9.7 (from aeon@ git+https://github.com/aeon-toolkit/aeon.git@main->aeon[all_extras]@ git+https://github.com/aeon-toolkit/aeon.git@main)\n",
      "  Downloading esig-0.9.8.3-cp310-cp310-manylinux_2_17_x86_64.manylinux2014_x86_64.whl.metadata (7.2 kB)\n",
      "Requirement already satisfied: tensorflow>=2.14 in /home/brina/.local/lib/python3.10/site-packages (from aeon@ git+https://github.com/aeon-toolkit/aeon.git@main->aeon[all_extras]@ git+https://github.com/aeon-toolkit/aeon.git@main) (2.17.0)\n",
      "Collecting wrapt<2,>=1.10 (from deprecated>=1.2.13->aeon@ git+https://github.com/aeon-toolkit/aeon.git@main->aeon[all_extras]@ git+https://github.com/aeon-toolkit/aeon.git@main)\n",
      "  Downloading wrapt-1.16.0-cp310-cp310-manylinux_2_5_x86_64.manylinux1_x86_64.manylinux_2_17_x86_64.manylinux2014_x86_64.whl.metadata (6.6 kB)\n",
      "Collecting contourpy>=1.0.1 (from matplotlib<3.9.0,>=3.3.2->aeon@ git+https://github.com/aeon-toolkit/aeon.git@main->aeon[all_extras]@ git+https://github.com/aeon-toolkit/aeon.git@main)\n",
      "  Downloading contourpy-1.3.0-cp310-cp310-manylinux_2_17_x86_64.manylinux2014_x86_64.whl.metadata (5.4 kB)\n",
      "Collecting cycler>=0.10 (from matplotlib<3.9.0,>=3.3.2->aeon@ git+https://github.com/aeon-toolkit/aeon.git@main->aeon[all_extras]@ git+https://github.com/aeon-toolkit/aeon.git@main)\n",
      "  Using cached cycler-0.12.1-py3-none-any.whl.metadata (3.8 kB)\n",
      "Collecting fonttools>=4.22.0 (from matplotlib<3.9.0,>=3.3.2->aeon@ git+https://github.com/aeon-toolkit/aeon.git@main->aeon[all_extras]@ git+https://github.com/aeon-toolkit/aeon.git@main)\n",
      "  Downloading fonttools-4.53.1-cp310-cp310-manylinux_2_17_x86_64.manylinux2014_x86_64.whl.metadata (162 kB)\n",
      "Collecting kiwisolver>=1.3.1 (from matplotlib<3.9.0,>=3.3.2->aeon@ git+https://github.com/aeon-toolkit/aeon.git@main->aeon[all_extras]@ git+https://github.com/aeon-toolkit/aeon.git@main)\n",
      "  Downloading kiwisolver-1.4.7-cp310-cp310-manylinux_2_12_x86_64.manylinux2010_x86_64.whl.metadata (6.3 kB)\n",
      "Collecting pillow>=8 (from matplotlib<3.9.0,>=3.3.2->aeon@ git+https://github.com/aeon-toolkit/aeon.git@main->aeon[all_extras]@ git+https://github.com/aeon-toolkit/aeon.git@main)\n",
      "  Downloading pillow-10.4.0-cp310-cp310-manylinux_2_28_x86_64.whl.metadata (9.2 kB)\n",
      "Collecting pyparsing>=2.3.1 (from matplotlib<3.9.0,>=3.3.2->aeon@ git+https://github.com/aeon-toolkit/aeon.git@main->aeon[all_extras]@ git+https://github.com/aeon-toolkit/aeon.git@main)\n",
      "  Downloading pyparsing-3.1.4-py3-none-any.whl.metadata (5.1 kB)\n",
      "Collecting python-dateutil>=2.7 (from matplotlib<3.9.0,>=3.3.2->aeon@ git+https://github.com/aeon-toolkit/aeon.git@main->aeon[all_extras]@ git+https://github.com/aeon-toolkit/aeon.git@main)\n",
      "  Using cached python_dateutil-2.9.0.post0-py2.py3-none-any.whl.metadata (8.4 kB)\n",
      "Collecting llvmlite<0.44,>=0.43.0dev0 (from numba<0.61.0,>=0.55->aeon@ git+https://github.com/aeon-toolkit/aeon.git@main->aeon[all_extras]@ git+https://github.com/aeon-toolkit/aeon.git@main)\n",
      "  Downloading llvmlite-0.43.0-cp310-cp310-manylinux_2_17_x86_64.manylinux2014_x86_64.whl.metadata (4.8 kB)\n",
      "Collecting pytz>=2020.1 (from pandas<2.1.0,>=1.5.3->aeon@ git+https://github.com/aeon-toolkit/aeon.git@main->aeon[all_extras]@ git+https://github.com/aeon-toolkit/aeon.git@main)\n",
      "  Downloading pytz-2024.2-py2.py3-none-any.whl.metadata (22 kB)\n",
      "Collecting tzdata>=2022.1 (from pandas<2.1.0,>=1.5.3->aeon@ git+https://github.com/aeon-toolkit/aeon.git@main->aeon[all_extras]@ git+https://github.com/aeon-toolkit/aeon.git@main)\n",
      "  Using cached tzdata-2024.1-py2.py3-none-any.whl.metadata (1.4 kB)\n",
      "Collecting joblib (from pyod>=1.1.3->aeon@ git+https://github.com/aeon-toolkit/aeon.git@main->aeon[all_extras]@ git+https://github.com/aeon-toolkit/aeon.git@main)\n",
      "  Downloading joblib-1.4.2-py3-none-any.whl.metadata (5.4 kB)\n",
      "Collecting threadpoolctl>=3.1.0 (from scikit-learn<1.6.0,>=1.0.0->aeon@ git+https://github.com/aeon-toolkit/aeon.git@main->aeon[all_extras]@ git+https://github.com/aeon-toolkit/aeon.git@main)\n",
      "  Downloading threadpoolctl-3.5.0-py3-none-any.whl.metadata (13 kB)\n",
      "Collecting patsy>=0.5.6 (from statsmodels>=0.12.1->aeon@ git+https://github.com/aeon-toolkit/aeon.git@main->aeon[all_extras]@ git+https://github.com/aeon-toolkit/aeon.git@main)\n",
      "  Using cached patsy-0.5.6-py2.py3-none-any.whl.metadata (3.5 kB)\n",
      "Requirement already satisfied: absl-py>=1.0.0 in /home/brina/.local/lib/python3.10/site-packages (from tensorflow>=2.14->aeon@ git+https://github.com/aeon-toolkit/aeon.git@main->aeon[all_extras]@ git+https://github.com/aeon-toolkit/aeon.git@main) (2.1.0)\n",
      "Requirement already satisfied: astunparse>=1.6.0 in /home/brina/.local/lib/python3.10/site-packages (from tensorflow>=2.14->aeon@ git+https://github.com/aeon-toolkit/aeon.git@main->aeon[all_extras]@ git+https://github.com/aeon-toolkit/aeon.git@main) (1.6.3)\n",
      "Requirement already satisfied: flatbuffers>=24.3.25 in /home/brina/.local/lib/python3.10/site-packages (from tensorflow>=2.14->aeon@ git+https://github.com/aeon-toolkit/aeon.git@main->aeon[all_extras]@ git+https://github.com/aeon-toolkit/aeon.git@main) (24.3.25)\n",
      "Requirement already satisfied: gast!=0.5.0,!=0.5.1,!=0.5.2,>=0.2.1 in /home/brina/.local/lib/python3.10/site-packages (from tensorflow>=2.14->aeon@ git+https://github.com/aeon-toolkit/aeon.git@main->aeon[all_extras]@ git+https://github.com/aeon-toolkit/aeon.git@main) (0.6.0)\n",
      "Requirement already satisfied: google-pasta>=0.1.1 in /home/brina/.local/lib/python3.10/site-packages (from tensorflow>=2.14->aeon@ git+https://github.com/aeon-toolkit/aeon.git@main->aeon[all_extras]@ git+https://github.com/aeon-toolkit/aeon.git@main) (0.2.0)\n",
      "Requirement already satisfied: h5py>=3.10.0 in /home/brina/.local/lib/python3.10/site-packages (from tensorflow>=2.14->aeon@ git+https://github.com/aeon-toolkit/aeon.git@main->aeon[all_extras]@ git+https://github.com/aeon-toolkit/aeon.git@main) (3.11.0)\n",
      "Requirement already satisfied: libclang>=13.0.0 in /home/brina/.local/lib/python3.10/site-packages (from tensorflow>=2.14->aeon@ git+https://github.com/aeon-toolkit/aeon.git@main->aeon[all_extras]@ git+https://github.com/aeon-toolkit/aeon.git@main) (18.1.1)\n",
      "Requirement already satisfied: ml-dtypes<0.5.0,>=0.3.1 in /home/brina/.local/lib/python3.10/site-packages (from tensorflow>=2.14->aeon@ git+https://github.com/aeon-toolkit/aeon.git@main->aeon[all_extras]@ git+https://github.com/aeon-toolkit/aeon.git@main) (0.4.1)\n",
      "Requirement already satisfied: opt-einsum>=2.3.2 in /home/brina/.local/lib/python3.10/site-packages (from tensorflow>=2.14->aeon@ git+https://github.com/aeon-toolkit/aeon.git@main->aeon[all_extras]@ git+https://github.com/aeon-toolkit/aeon.git@main) (3.3.0)\n",
      "Requirement already satisfied: protobuf!=4.21.0,!=4.21.1,!=4.21.2,!=4.21.3,!=4.21.4,!=4.21.5,<5.0.0dev,>=3.20.3 in /home/brina/.local/lib/python3.10/site-packages (from tensorflow>=2.14->aeon@ git+https://github.com/aeon-toolkit/aeon.git@main->aeon[all_extras]@ git+https://github.com/aeon-toolkit/aeon.git@main) (4.25.3)\n",
      "Collecting requests<3,>=2.21.0 (from tensorflow>=2.14->aeon@ git+https://github.com/aeon-toolkit/aeon.git@main->aeon[all_extras]@ git+https://github.com/aeon-toolkit/aeon.git@main)\n",
      "  Downloading requests-2.32.3-py3-none-any.whl.metadata (4.6 kB)\n",
      "Requirement already satisfied: setuptools in /home/brina/miniconda3/envs/aeon/lib/python3.10/site-packages (from tensorflow>=2.14->aeon@ git+https://github.com/aeon-toolkit/aeon.git@main->aeon[all_extras]@ git+https://github.com/aeon-toolkit/aeon.git@main) (75.1.0)\n",
      "Collecting six>=1.12.0 (from tensorflow>=2.14->aeon@ git+https://github.com/aeon-toolkit/aeon.git@main->aeon[all_extras]@ git+https://github.com/aeon-toolkit/aeon.git@main)\n",
      "  Using cached six-1.16.0-py2.py3-none-any.whl.metadata (1.8 kB)\n",
      "Requirement already satisfied: termcolor>=1.1.0 in /home/brina/.local/lib/python3.10/site-packages (from tensorflow>=2.14->aeon@ git+https://github.com/aeon-toolkit/aeon.git@main->aeon[all_extras]@ git+https://github.com/aeon-toolkit/aeon.git@main) (2.4.0)\n",
      "Requirement already satisfied: grpcio<2.0,>=1.24.3 in /home/brina/.local/lib/python3.10/site-packages (from tensorflow>=2.14->aeon@ git+https://github.com/aeon-toolkit/aeon.git@main->aeon[all_extras]@ git+https://github.com/aeon-toolkit/aeon.git@main) (1.66.1)\n",
      "Requirement already satisfied: tensorboard<2.18,>=2.17 in /home/brina/.local/lib/python3.10/site-packages (from tensorflow>=2.14->aeon@ git+https://github.com/aeon-toolkit/aeon.git@main->aeon[all_extras]@ git+https://github.com/aeon-toolkit/aeon.git@main) (2.17.1)\n",
      "Requirement already satisfied: keras>=3.2.0 in /home/brina/.local/lib/python3.10/site-packages (from tensorflow>=2.14->aeon@ git+https://github.com/aeon-toolkit/aeon.git@main->aeon[all_extras]@ git+https://github.com/aeon-toolkit/aeon.git@main) (3.5.0)\n",
      "Requirement already satisfied: tensorflow-io-gcs-filesystem>=0.23.1 in /home/brina/.local/lib/python3.10/site-packages (from tensorflow>=2.14->aeon@ git+https://github.com/aeon-toolkit/aeon.git@main->aeon[all_extras]@ git+https://github.com/aeon-toolkit/aeon.git@main) (0.37.1)\n",
      "Collecting filelock (from torch>=1.13.1->aeon@ git+https://github.com/aeon-toolkit/aeon.git@main->aeon[all_extras]@ git+https://github.com/aeon-toolkit/aeon.git@main)\n",
      "  Downloading filelock-3.16.1-py3-none-any.whl.metadata (2.9 kB)\n",
      "Collecting sympy (from torch>=1.13.1->aeon@ git+https://github.com/aeon-toolkit/aeon.git@main->aeon[all_extras]@ git+https://github.com/aeon-toolkit/aeon.git@main)\n",
      "  Downloading sympy-1.13.3-py3-none-any.whl.metadata (12 kB)\n",
      "Collecting networkx (from torch>=1.13.1->aeon@ git+https://github.com/aeon-toolkit/aeon.git@main->aeon[all_extras]@ git+https://github.com/aeon-toolkit/aeon.git@main)\n",
      "  Downloading networkx-3.3-py3-none-any.whl.metadata (5.1 kB)\n",
      "Collecting jinja2 (from torch>=1.13.1->aeon@ git+https://github.com/aeon-toolkit/aeon.git@main->aeon[all_extras]@ git+https://github.com/aeon-toolkit/aeon.git@main)\n",
      "  Downloading jinja2-3.1.4-py3-none-any.whl.metadata (2.6 kB)\n",
      "Collecting fsspec (from torch>=1.13.1->aeon@ git+https://github.com/aeon-toolkit/aeon.git@main->aeon[all_extras]@ git+https://github.com/aeon-toolkit/aeon.git@main)\n",
      "  Downloading fsspec-2024.9.0-py3-none-any.whl.metadata (11 kB)\n",
      "Collecting nvidia-cuda-nvrtc-cu12==12.1.105 (from torch>=1.13.1->aeon@ git+https://github.com/aeon-toolkit/aeon.git@main->aeon[all_extras]@ git+https://github.com/aeon-toolkit/aeon.git@main)\n",
      "  Using cached nvidia_cuda_nvrtc_cu12-12.1.105-py3-none-manylinux1_x86_64.whl.metadata (1.5 kB)\n",
      "Collecting nvidia-cuda-runtime-cu12==12.1.105 (from torch>=1.13.1->aeon@ git+https://github.com/aeon-toolkit/aeon.git@main->aeon[all_extras]@ git+https://github.com/aeon-toolkit/aeon.git@main)\n",
      "  Using cached nvidia_cuda_runtime_cu12-12.1.105-py3-none-manylinux1_x86_64.whl.metadata (1.5 kB)\n",
      "Collecting nvidia-cuda-cupti-cu12==12.1.105 (from torch>=1.13.1->aeon@ git+https://github.com/aeon-toolkit/aeon.git@main->aeon[all_extras]@ git+https://github.com/aeon-toolkit/aeon.git@main)\n",
      "  Using cached nvidia_cuda_cupti_cu12-12.1.105-py3-none-manylinux1_x86_64.whl.metadata (1.6 kB)\n",
      "Collecting nvidia-cudnn-cu12==9.1.0.70 (from torch>=1.13.1->aeon@ git+https://github.com/aeon-toolkit/aeon.git@main->aeon[all_extras]@ git+https://github.com/aeon-toolkit/aeon.git@main)\n",
      "  Downloading nvidia_cudnn_cu12-9.1.0.70-py3-none-manylinux2014_x86_64.whl.metadata (1.6 kB)\n",
      "Collecting nvidia-cublas-cu12==12.1.3.1 (from torch>=1.13.1->aeon@ git+https://github.com/aeon-toolkit/aeon.git@main->aeon[all_extras]@ git+https://github.com/aeon-toolkit/aeon.git@main)\n",
      "  Using cached nvidia_cublas_cu12-12.1.3.1-py3-none-manylinux1_x86_64.whl.metadata (1.5 kB)\n",
      "Collecting nvidia-cufft-cu12==11.0.2.54 (from torch>=1.13.1->aeon@ git+https://github.com/aeon-toolkit/aeon.git@main->aeon[all_extras]@ git+https://github.com/aeon-toolkit/aeon.git@main)\n",
      "  Using cached nvidia_cufft_cu12-11.0.2.54-py3-none-manylinux1_x86_64.whl.metadata (1.5 kB)\n",
      "Collecting nvidia-curand-cu12==10.3.2.106 (from torch>=1.13.1->aeon@ git+https://github.com/aeon-toolkit/aeon.git@main->aeon[all_extras]@ git+https://github.com/aeon-toolkit/aeon.git@main)\n",
      "  Using cached nvidia_curand_cu12-10.3.2.106-py3-none-manylinux1_x86_64.whl.metadata (1.5 kB)\n",
      "Collecting nvidia-cusolver-cu12==11.4.5.107 (from torch>=1.13.1->aeon@ git+https://github.com/aeon-toolkit/aeon.git@main->aeon[all_extras]@ git+https://github.com/aeon-toolkit/aeon.git@main)\n",
      "  Using cached nvidia_cusolver_cu12-11.4.5.107-py3-none-manylinux1_x86_64.whl.metadata (1.6 kB)\n",
      "Collecting nvidia-cusparse-cu12==12.1.0.106 (from torch>=1.13.1->aeon@ git+https://github.com/aeon-toolkit/aeon.git@main->aeon[all_extras]@ git+https://github.com/aeon-toolkit/aeon.git@main)\n",
      "  Using cached nvidia_cusparse_cu12-12.1.0.106-py3-none-manylinux1_x86_64.whl.metadata (1.6 kB)\n",
      "Collecting nvidia-nccl-cu12==2.20.5 (from torch>=1.13.1->aeon@ git+https://github.com/aeon-toolkit/aeon.git@main->aeon[all_extras]@ git+https://github.com/aeon-toolkit/aeon.git@main)\n",
      "  Downloading nvidia_nccl_cu12-2.20.5-py3-none-manylinux2014_x86_64.whl.metadata (1.8 kB)\n",
      "Collecting nvidia-nvtx-cu12==12.1.105 (from torch>=1.13.1->aeon@ git+https://github.com/aeon-toolkit/aeon.git@main->aeon[all_extras]@ git+https://github.com/aeon-toolkit/aeon.git@main)\n",
      "  Using cached nvidia_nvtx_cu12-12.1.105-py3-none-manylinux1_x86_64.whl.metadata (1.7 kB)\n",
      "Collecting triton==3.0.0 (from torch>=1.13.1->aeon@ git+https://github.com/aeon-toolkit/aeon.git@main->aeon[all_extras]@ git+https://github.com/aeon-toolkit/aeon.git@main)\n",
      "  Downloading triton-3.0.0-1-cp310-cp310-manylinux2014_x86_64.manylinux_2_17_x86_64.whl.metadata (1.3 kB)\n",
      "Collecting nvidia-nvjitlink-cu12 (from nvidia-cusolver-cu12==11.4.5.107->torch>=1.13.1->aeon@ git+https://github.com/aeon-toolkit/aeon.git@main->aeon[all_extras]@ git+https://github.com/aeon-toolkit/aeon.git@main)\n",
      "  Downloading nvidia_nvjitlink_cu12-12.6.68-py3-none-manylinux2014_x86_64.whl.metadata (1.5 kB)\n",
      "Collecting tqdm>=4.10.0 (from tsfresh>=0.20.0->aeon@ git+https://github.com/aeon-toolkit/aeon.git@main->aeon[all_extras]@ git+https://github.com/aeon-toolkit/aeon.git@main)\n",
      "  Downloading tqdm-4.66.5-py3-none-any.whl.metadata (57 kB)\n",
      "Requirement already satisfied: cloudpickle in /home/brina/.local/lib/python3.10/site-packages (from tsfresh>=0.20.0->aeon@ git+https://github.com/aeon-toolkit/aeon.git@main->aeon[all_extras]@ git+https://github.com/aeon-toolkit/aeon.git@main) (1.6.0)\n",
      "INFO: pip is looking at multiple versions of tsfresh to determine which version is compatible with other requirements. This could take a while.\n",
      "Collecting tsfresh>=0.20.0 (from aeon@ git+https://github.com/aeon-toolkit/aeon.git@main->aeon[all_extras]@ git+https://github.com/aeon-toolkit/aeon.git@main)\n",
      "  Downloading tsfresh-0.20.2-py2.py3-none-any.whl.metadata (2.5 kB)\n",
      "Requirement already satisfied: wheel<1.0,>=0.23.0 in /home/brina/miniconda3/envs/aeon/lib/python3.10/site-packages (from astunparse>=1.6.0->tensorflow>=2.14->aeon@ git+https://github.com/aeon-toolkit/aeon.git@main->aeon[all_extras]@ git+https://github.com/aeon-toolkit/aeon.git@main) (0.44.0)\n",
      "Requirement already satisfied: rich in /home/brina/.local/lib/python3.10/site-packages (from keras>=3.2.0->tensorflow>=2.14->aeon@ git+https://github.com/aeon-toolkit/aeon.git@main->aeon[all_extras]@ git+https://github.com/aeon-toolkit/aeon.git@main) (13.8.1)\n",
      "Requirement already satisfied: namex in /home/brina/.local/lib/python3.10/site-packages (from keras>=3.2.0->tensorflow>=2.14->aeon@ git+https://github.com/aeon-toolkit/aeon.git@main->aeon[all_extras]@ git+https://github.com/aeon-toolkit/aeon.git@main) (0.0.8)\n",
      "Requirement already satisfied: optree in /home/brina/.local/lib/python3.10/site-packages (from keras>=3.2.0->tensorflow>=2.14->aeon@ git+https://github.com/aeon-toolkit/aeon.git@main->aeon[all_extras]@ git+https://github.com/aeon-toolkit/aeon.git@main) (0.12.1)\n",
      "Collecting charset-normalizer<4,>=2 (from requests<3,>=2.21.0->tensorflow>=2.14->aeon@ git+https://github.com/aeon-toolkit/aeon.git@main->aeon[all_extras]@ git+https://github.com/aeon-toolkit/aeon.git@main)\n",
      "  Downloading charset_normalizer-3.3.2-cp310-cp310-manylinux_2_17_x86_64.manylinux2014_x86_64.whl.metadata (33 kB)\n",
      "Collecting idna<4,>=2.5 (from requests<3,>=2.21.0->tensorflow>=2.14->aeon@ git+https://github.com/aeon-toolkit/aeon.git@main->aeon[all_extras]@ git+https://github.com/aeon-toolkit/aeon.git@main)\n",
      "  Downloading idna-3.10-py3-none-any.whl.metadata (10 kB)\n",
      "Requirement already satisfied: urllib3<3,>=1.21.1 in /home/brina/.local/lib/python3.10/site-packages (from requests<3,>=2.21.0->tensorflow>=2.14->aeon@ git+https://github.com/aeon-toolkit/aeon.git@main->aeon[all_extras]@ git+https://github.com/aeon-toolkit/aeon.git@main) (2.2.1)\n",
      "Collecting certifi>=2017.4.17 (from requests<3,>=2.21.0->tensorflow>=2.14->aeon@ git+https://github.com/aeon-toolkit/aeon.git@main->aeon[all_extras]@ git+https://github.com/aeon-toolkit/aeon.git@main)\n",
      "  Downloading certifi-2024.8.30-py3-none-any.whl.metadata (2.2 kB)\n",
      "Requirement already satisfied: markdown>=2.6.8 in /home/brina/.local/lib/python3.10/site-packages (from tensorboard<2.18,>=2.17->tensorflow>=2.14->aeon@ git+https://github.com/aeon-toolkit/aeon.git@main->aeon[all_extras]@ git+https://github.com/aeon-toolkit/aeon.git@main) (3.7)\n",
      "Requirement already satisfied: tensorboard-data-server<0.8.0,>=0.7.0 in /home/brina/.local/lib/python3.10/site-packages (from tensorboard<2.18,>=2.17->tensorflow>=2.14->aeon@ git+https://github.com/aeon-toolkit/aeon.git@main->aeon[all_extras]@ git+https://github.com/aeon-toolkit/aeon.git@main) (0.7.2)\n",
      "Requirement already satisfied: werkzeug>=1.0.1 in /home/brina/.local/lib/python3.10/site-packages (from tensorboard<2.18,>=2.17->tensorflow>=2.14->aeon@ git+https://github.com/aeon-toolkit/aeon.git@main->aeon[all_extras]@ git+https://github.com/aeon-toolkit/aeon.git@main) (3.0.4)\n",
      "Requirement already satisfied: MarkupSafe>=2.0 in /home/brina/.local/lib/python3.10/site-packages (from jinja2->torch>=1.13.1->aeon@ git+https://github.com/aeon-toolkit/aeon.git@main->aeon[all_extras]@ git+https://github.com/aeon-toolkit/aeon.git@main) (2.1.5)\n",
      "Collecting mpmath<1.4,>=1.1.0 (from sympy->torch>=1.13.1->aeon@ git+https://github.com/aeon-toolkit/aeon.git@main->aeon[all_extras]@ git+https://github.com/aeon-toolkit/aeon.git@main)\n",
      "  Using cached mpmath-1.3.0-py3-none-any.whl.metadata (8.6 kB)\n",
      "Requirement already satisfied: markdown-it-py>=2.2.0 in /home/brina/.local/lib/python3.10/site-packages (from rich->keras>=3.2.0->tensorflow>=2.14->aeon@ git+https://github.com/aeon-toolkit/aeon.git@main->aeon[all_extras]@ git+https://github.com/aeon-toolkit/aeon.git@main) (3.0.0)\n",
      "Requirement already satisfied: pygments<3.0.0,>=2.13.0 in /home/brina/.local/lib/python3.10/site-packages (from rich->keras>=3.2.0->tensorflow>=2.14->aeon@ git+https://github.com/aeon-toolkit/aeon.git@main->aeon[all_extras]@ git+https://github.com/aeon-toolkit/aeon.git@main) (2.18.0)\n",
      "Requirement already satisfied: mdurl~=0.1 in /home/brina/.local/lib/python3.10/site-packages (from markdown-it-py>=2.2.0->rich->keras>=3.2.0->tensorflow>=2.14->aeon@ git+https://github.com/aeon-toolkit/aeon.git@main->aeon[all_extras]@ git+https://github.com/aeon-toolkit/aeon.git@main) (0.1.2)\n",
      "Using cached Deprecated-1.2.14-py2.py3-none-any.whl (9.6 kB)\n",
      "Downloading esig-0.9.8.3-cp310-cp310-manylinux_2_17_x86_64.manylinux2014_x86_64.whl (5.1 MB)\n",
      "\u001b[2K   \u001b[38;2;114;156;31m━━━━━━━━━━━━━━━━━━━━━━━━━━━━━━━━━━━━━━━━\u001b[0m \u001b[32m5.1/5.1 MB\u001b[0m \u001b[31m2.6 MB/s\u001b[0m eta \u001b[36m0:00:00\u001b[0m MB/s\u001b[0m eta \u001b[36m0:00:01\u001b[0m:01\u001b[0m\n",
      "\u001b[?25hUsing cached kotsu-0.3.3-py3-none-any.whl (14 kB)\n",
      "Downloading matplotlib-3.8.4-cp310-cp310-manylinux_2_17_x86_64.manylinux2014_x86_64.whl (11.6 MB)\n",
      "\u001b[2K   \u001b[38;2;114;156;31m━━━━━━━━━━━━━━━━━━━━━━━━━━━━━━━━━━━━━━━━\u001b[0m \u001b[32m11.6/11.6 MB\u001b[0m \u001b[31m3.3 MB/s\u001b[0m eta \u001b[36m0:00:00\u001b[0m[31m3.3 MB/s\u001b[0m eta \u001b[36m0:00:01\u001b[0m\n",
      "\u001b[?25hDownloading numba-0.60.0-cp310-cp310-manylinux2014_x86_64.manylinux_2_17_x86_64.whl (3.7 MB)\n",
      "\u001b[2K   \u001b[38;2;114;156;31m━━━━━━━━━━━━━━━━━━━━━━━━━━━━━━━━━━━━━━━━\u001b[0m \u001b[32m3.7/3.7 MB\u001b[0m \u001b[31m3.4 MB/s\u001b[0m eta \u001b[36m0:00:00\u001b[0m MB/s\u001b[0m eta \u001b[36m0:00:01\u001b[0m:01\u001b[0m\n",
      "\u001b[?25hUsing cached packaging-24.1-py3-none-any.whl (53 kB)\n",
      "Downloading pandas-2.0.3-cp310-cp310-manylinux_2_17_x86_64.manylinux2014_x86_64.whl (12.3 MB)\n",
      "\u001b[2K   \u001b[38;2;114;156;31m━━━━━━━━━━━━━━━━━━━━━━━━━━━━━━━━━━━━━━━━\u001b[0m \u001b[32m12.3/12.3 MB\u001b[0m \u001b[31m4.5 MB/s\u001b[0m eta \u001b[36m0:00:00\u001b[0m MB/s\u001b[0m eta \u001b[36m0:00:01\u001b[0m02\u001b[0m\n",
      "\u001b[?25hDownloading prts-1.0.0.3-py3-none-any.whl (13 kB)\n",
      "Using cached pydot-3.0.1-py3-none-any.whl (22 kB)\n",
      "Downloading ruptures-1.1.9-cp310-cp310-manylinux_2_17_x86_64.manylinux2014_x86_64.whl (1.2 MB)\n",
      "\u001b[2K   \u001b[38;2;114;156;31m━━━━━━━━━━━━━━━━━━━━━━━━━━━━━━━━━━━━━━━━\u001b[0m \u001b[32m1.2/1.2 MB\u001b[0m \u001b[31m6.3 MB/s\u001b[0m eta \u001b[36m0:00:00\u001b[0m MB/s\u001b[0m eta \u001b[36m0:00:01\u001b[0m\n",
      "\u001b[?25hDownloading scikit_learn-1.5.2-cp310-cp310-manylinux_2_17_x86_64.manylinux2014_x86_64.whl (13.3 MB)\n",
      "\u001b[2K   \u001b[38;2;114;156;31m━━━━━━━━━━━━━━━━━━━━━━━━━━━━━━━━━━━━━━━━\u001b[0m \u001b[32m13.3/13.3 MB\u001b[0m \u001b[31m6.3 MB/s\u001b[0m eta \u001b[36m0:00:00\u001b[0m MB/s\u001b[0m eta \u001b[36m0:00:01\u001b[0m01\u001b[0m\n",
      "\u001b[?25hDownloading scikit_posthocs-0.9.0-py3-none-any.whl (32 kB)\n",
      "Downloading scipy-1.12.0-cp310-cp310-manylinux_2_17_x86_64.manylinux2014_x86_64.whl (38.4 MB)\n",
      "\u001b[2K   \u001b[38;2;114;156;31m━━━━━━━━━━━━━━━━━━━━━━━━━━━━━━━━━━━━━━━━\u001b[0m \u001b[32m38.4/38.4 MB\u001b[0m \u001b[31m5.7 MB/s\u001b[0m eta \u001b[36m0:00:00\u001b[0mm eta \u001b[36m0:00:01\u001b[0m0:01\u001b[0m:01\u001b[0m\n",
      "\u001b[?25hUsing cached seaborn-0.13.2-py3-none-any.whl (294 kB)\n",
      "Downloading statsmodels-0.14.3-cp310-cp310-manylinux_2_17_x86_64.manylinux2014_x86_64.whl (10.8 MB)\n",
      "\u001b[2K   \u001b[38;2;114;156;31m━━━━━━━━━━━━━━━━━━━━━━━━━━━━━━━━━━━━━━━━\u001b[0m \u001b[32m10.8/10.8 MB\u001b[0m \u001b[31m5.7 MB/s\u001b[0m eta \u001b[36m0:00:00\u001b[0m[31m6.0 MB/s\u001b[0m eta \u001b[36m0:00:01\u001b[0m\n",
      "\u001b[?25hUsing cached stumpy-1.13.0-py3-none-any.whl (176 kB)\n",
      "Downloading torch-2.4.1-cp310-cp310-manylinux1_x86_64.whl (797.1 MB)\n",
      "\u001b[2K   \u001b[38;2;114;156;31m━━━━━━━━━━━━━━━━━━━━━━━━━━━━━━━━━━━━━━━━\u001b[0m \u001b[32m797.1/797.1 MB\u001b[0m \u001b[31m4.8 MB/s\u001b[0m eta \u001b[36m0:00:00\u001b[0mm eta \u001b[36m0:00:01\u001b[0m[36m0:00:04\u001b[0m\n",
      "\u001b[?25hUsing cached nvidia_cublas_cu12-12.1.3.1-py3-none-manylinux1_x86_64.whl (410.6 MB)\n",
      "Using cached nvidia_cuda_cupti_cu12-12.1.105-py3-none-manylinux1_x86_64.whl (14.1 MB)\n",
      "Using cached nvidia_cuda_nvrtc_cu12-12.1.105-py3-none-manylinux1_x86_64.whl (23.7 MB)\n",
      "Using cached nvidia_cuda_runtime_cu12-12.1.105-py3-none-manylinux1_x86_64.whl (823 kB)\n",
      "Downloading nvidia_cudnn_cu12-9.1.0.70-py3-none-manylinux2014_x86_64.whl (664.8 MB)\n",
      "\u001b[2K   \u001b[38;2;114;156;31m━━━━━━━━━━━━━━━━━━━━━━━━━━━━━━━━━━━━━━━━\u001b[0m \u001b[32m664.8/664.8 MB\u001b[0m \u001b[31m4.9 MB/s\u001b[0m eta \u001b[36m0:00:00\u001b[0mm eta \u001b[36m0:00:01\u001b[0m[36m0:00:04\u001b[0m\n",
      "\u001b[?25hUsing cached nvidia_cufft_cu12-11.0.2.54-py3-none-manylinux1_x86_64.whl (121.6 MB)\n",
      "Using cached nvidia_curand_cu12-10.3.2.106-py3-none-manylinux1_x86_64.whl (56.5 MB)\n",
      "Using cached nvidia_cusolver_cu12-11.4.5.107-py3-none-manylinux1_x86_64.whl (124.2 MB)\n",
      "Using cached nvidia_cusparse_cu12-12.1.0.106-py3-none-manylinux1_x86_64.whl (196.0 MB)\n",
      "Downloading nvidia_nccl_cu12-2.20.5-py3-none-manylinux2014_x86_64.whl (176.2 MB)\n",
      "\u001b[2K   \u001b[38;2;114;156;31m━━━━━━━━━━━━━━━━━━━━━━━━━━━━━━━━━━━━━━━━\u001b[0m \u001b[32m176.2/176.2 MB\u001b[0m \u001b[31m6.7 MB/s\u001b[0m eta \u001b[36m0:00:00\u001b[0mm eta \u001b[36m0:00:01\u001b[0m[36m0:00:01\u001b[0m\n",
      "\u001b[?25hUsing cached nvidia_nvtx_cu12-12.1.105-py3-none-manylinux1_x86_64.whl (99 kB)\n",
      "Downloading triton-3.0.0-1-cp310-cp310-manylinux2014_x86_64.manylinux_2_17_x86_64.whl (209.4 MB)\n",
      "\u001b[2K   \u001b[38;2;114;156;31m━━━━━━━━━━━━━━━━━━━━━━━━━━━━━━━━━━━━━━━━\u001b[0m \u001b[32m209.4/209.4 MB\u001b[0m \u001b[31m3.8 MB/s\u001b[0m eta \u001b[36m0:00:00\u001b[0mm eta \u001b[36m0:00:01\u001b[0m[36m0:00:02\u001b[0m\n",
      "\u001b[?25hDownloading tsfresh-0.20.2-py2.py3-none-any.whl (95 kB)\n",
      "Using cached tslearn-0.6.3-py3-none-any.whl (374 kB)\n",
      "Using cached imbalanced_learn-0.12.3-py3-none-any.whl (258 kB)\n",
      "Downloading contourpy-1.3.0-cp310-cp310-manylinux_2_17_x86_64.manylinux2014_x86_64.whl (322 kB)\n",
      "Using cached cycler-0.12.1-py3-none-any.whl (8.3 kB)\n",
      "Downloading fonttools-4.53.1-cp310-cp310-manylinux_2_17_x86_64.manylinux2014_x86_64.whl (4.6 MB)\n",
      "\u001b[2K   \u001b[38;2;114;156;31m━━━━━━━━━━━━━━━━━━━━━━━━━━━━━━━━━━━━━━━━\u001b[0m \u001b[32m4.6/4.6 MB\u001b[0m \u001b[31m6.8 MB/s\u001b[0m eta \u001b[36m0:00:00\u001b[0m MB/s\u001b[0m eta \u001b[36m0:00:01\u001b[0m:01\u001b[0m\n",
      "\u001b[?25hDownloading joblib-1.4.2-py3-none-any.whl (301 kB)\n",
      "Downloading kiwisolver-1.4.7-cp310-cp310-manylinux_2_12_x86_64.manylinux2010_x86_64.whl (1.6 MB)\n",
      "\u001b[2K   \u001b[38;2;114;156;31m━━━━━━━━━━━━━━━━━━━━━━━━━━━━━━━━━━━━━━━━\u001b[0m \u001b[32m1.6/1.6 MB\u001b[0m \u001b[31m5.8 MB/s\u001b[0m eta \u001b[36m0:00:00\u001b[0m[31m5.7 MB/s\u001b[0m eta \u001b[36m0:00:01\u001b[0m\n",
      "\u001b[?25hDownloading llvmlite-0.43.0-cp310-cp310-manylinux_2_17_x86_64.manylinux2014_x86_64.whl (43.9 MB)\n",
      "\u001b[2K   \u001b[38;2;114;156;31m━━━━━━━━━━━━━━━━━━━━━━━━━━━━━━━━━━━━━━━━\u001b[0m \u001b[32m43.9/43.9 MB\u001b[0m \u001b[31m6.6 MB/s\u001b[0m eta \u001b[36m0:00:00\u001b[0mm eta \u001b[36m0:00:01\u001b[0m[36m0:00:01\u001b[0m\n",
      "\u001b[?25hUsing cached patsy-0.5.6-py2.py3-none-any.whl (233 kB)\n",
      "Downloading pillow-10.4.0-cp310-cp310-manylinux_2_28_x86_64.whl (4.5 MB)\n",
      "\u001b[2K   \u001b[38;2;114;156;31m━━━━━━━━━━━━━━━━━━━━━━━━━━━━━━━━━━━━━━━━\u001b[0m \u001b[32m4.5/4.5 MB\u001b[0m \u001b[31m6.1 MB/s\u001b[0m eta \u001b[36m0:00:00\u001b[0m MB/s\u001b[0m eta \u001b[36m0:00:01\u001b[0m:01\u001b[0m\n",
      "\u001b[?25hDownloading pyparsing-3.1.4-py3-none-any.whl (104 kB)\n",
      "Using cached python_dateutil-2.9.0.post0-py2.py3-none-any.whl (229 kB)\n",
      "Downloading pytz-2024.2-py2.py3-none-any.whl (508 kB)\n",
      "Downloading requests-2.32.3-py3-none-any.whl (64 kB)\n",
      "Using cached six-1.16.0-py2.py3-none-any.whl (11 kB)\n",
      "Downloading threadpoolctl-3.5.0-py3-none-any.whl (18 kB)\n",
      "Downloading tqdm-4.66.5-py3-none-any.whl (78 kB)\n",
      "Using cached tzdata-2024.1-py2.py3-none-any.whl (345 kB)\n",
      "Downloading wrapt-1.16.0-cp310-cp310-manylinux_2_5_x86_64.manylinux1_x86_64.manylinux_2_17_x86_64.manylinux2014_x86_64.whl (80 kB)\n",
      "Downloading filelock-3.16.1-py3-none-any.whl (16 kB)\n",
      "Downloading fsspec-2024.9.0-py3-none-any.whl (179 kB)\n",
      "Downloading jinja2-3.1.4-py3-none-any.whl (133 kB)\n",
      "Downloading networkx-3.3-py3-none-any.whl (1.7 MB)\n",
      "\u001b[2K   \u001b[38;2;114;156;31m━━━━━━━━━━━━━━━━━━━━━━━━━━━━━━━━━━━━━━━━\u001b[0m \u001b[32m1.7/1.7 MB\u001b[0m \u001b[31m4.2 MB/s\u001b[0m eta \u001b[36m0:00:00\u001b[0m[31m6.2 MB/s\u001b[0m eta \u001b[36m0:00:01\u001b[0m\n",
      "\u001b[?25hDownloading sympy-1.13.3-py3-none-any.whl (6.2 MB)\n",
      "\u001b[2K   \u001b[38;2;114;156;31m━━━━━━━━━━━━━━━━━━━━━━━━━━━━━━━━━━━━━━━━\u001b[0m \u001b[32m6.2/6.2 MB\u001b[0m \u001b[31m6.4 MB/s\u001b[0m eta \u001b[36m0:00:00\u001b[0m MB/s\u001b[0m eta \u001b[36m0:00:01\u001b[0m:01\u001b[0m\n",
      "\u001b[?25hDownloading certifi-2024.8.30-py3-none-any.whl (167 kB)\n",
      "Downloading charset_normalizer-3.3.2-cp310-cp310-manylinux_2_17_x86_64.manylinux2014_x86_64.whl (142 kB)\n",
      "Downloading idna-3.10-py3-none-any.whl (70 kB)\n",
      "Using cached mpmath-1.3.0-py3-none-any.whl (536 kB)\n",
      "Downloading nvidia_nvjitlink_cu12-12.6.68-py3-none-manylinux2014_x86_64.whl (19.7 MB)\n",
      "\u001b[2K   \u001b[38;2;114;156;31m━━━━━━━━━━━━━━━━━━━━━━━━━━━━━━━━━━━━━━━━\u001b[0m \u001b[32m19.7/19.7 MB\u001b[0m \u001b[31m6.9 MB/s\u001b[0m eta \u001b[36m0:00:00\u001b[0mm eta \u001b[36m0:00:01\u001b[0m[36m0:00:01\u001b[0m\n",
      "\u001b[?25hBuilding wheels for collected packages: aeon, pyod, keras-self-attention\n",
      "  Building wheel for aeon (pyproject.toml) ... \u001b[?25ldone\n",
      "\u001b[?25h  Created wheel for aeon: filename=aeon-0.11.1-py3-none-any.whl size=8219041 sha256=351b16c59b596401f127825f59e5ded16012cf4e2324fb1c0c2e583254198abb\n",
      "  Stored in directory: /tmp/pip-ephem-wheel-cache-ii_qs1fs/wheels/db/69/83/c436f814a101b06ea08fe07273bbf4d4a0a19aea3f4d6d9026\n",
      "  Building wheel for pyod (setup.py) ... \u001b[?25ldone\n",
      "\u001b[?25h  Created wheel for pyod: filename=pyod-2.0.2-py3-none-any.whl size=198469 sha256=a1841545aa7d1cb12d6bd275477e335cdc8ebd78855168cfa78be5ccfcbb030c\n",
      "  Stored in directory: /home/brina/.cache/pip/wheels/77/c2/20/34d1f15b41b701ba69f42a32304825810d680754d509f91391\n",
      "  Building wheel for keras-self-attention (setup.py) ... \u001b[?25ldone\n",
      "\u001b[?25h  Created wheel for keras-self-attention: filename=keras_self_attention-0.51.0-py3-none-any.whl size=18895 sha256=956a43a6f18d7da94028977a454b337651d019fec86384be63583ac464bc2711\n",
      "  Stored in directory: /home/brina/.cache/pip/wheels/b8/f7/24/607b483144fb9c47b4ba2c5fba6b68e54aeee2d5bf6c05302e\n",
      "Successfully built aeon pyod keras-self-attention\n",
      "\u001b[33mWARNING: Error parsing dependencies of gym: Expected matching RIGHT_PARENTHESIS for LEFT_PARENTHESIS, after version specifier\n",
      "    opencv-python (>=3.) ; extra == 'all'\n",
      "                  ~~~~^\u001b[0m\u001b[33m\n",
      "\u001b[0mInstalling collected packages: pytz, mpmath, wrapt, tzdata, tqdm, threadpoolctl, sympy, six, scipy, pyparsing, prts, pillow, packaging, nvidia-nvtx-cu12, nvidia-nvjitlink-cu12, nvidia-nccl-cu12, nvidia-curand-cu12, nvidia-cufft-cu12, nvidia-cuda-runtime-cu12, nvidia-cuda-nvrtc-cu12, nvidia-cuda-cupti-cu12, nvidia-cublas-cu12, networkx, llvmlite, kiwisolver, keras-self-attention, joblib, jinja2, idna, fsspec, fonttools, filelock, esig, cycler, contourpy, charset-normalizer, certifi, triton, scikit-learn, ruptures, requests, python-dateutil, pydot, patsy, nvidia-cusparse-cu12, nvidia-cudnn-cu12, numba, deprecated, tslearn, stumpy, pandas, nvidia-cusolver-cu12, matplotlib, imbalanced-learn, torch, statsmodels, seaborn, pyod, kotsu, aeon, tsfresh, scikit-posthocs\n",
      "\u001b[31mERROR: pip's dependency resolver does not currently take into account all the packages that are installed. This behaviour is the source of the following dependency conflicts.\n",
      "wandb 0.16.4 requires appdirs>=1.4.3, which is not installed.\n",
      "wandb 0.16.4 requires Click!=8.0.0,>=7.1, which is not installed.\n",
      "wandb 0.16.4 requires psutil>=5.0.0, which is not installed.\n",
      "wandb 0.16.4 requires PyYAML, which is not installed.\u001b[0m\u001b[31m\n",
      "\u001b[0mSuccessfully installed aeon-0.11.1 certifi-2024.8.30 charset-normalizer-3.3.2 contourpy-1.3.0 cycler-0.12.1 deprecated-1.2.14 esig-0.9.8.3 filelock-3.16.1 fonttools-4.53.1 fsspec-2024.9.0 idna-3.10 imbalanced-learn-0.12.3 jinja2-3.1.4 joblib-1.4.2 keras-self-attention-0.51.0 kiwisolver-1.4.7 kotsu-0.3.3 llvmlite-0.43.0 matplotlib-3.8.4 mpmath-1.3.0 networkx-3.3 numba-0.60.0 nvidia-cublas-cu12-12.1.3.1 nvidia-cuda-cupti-cu12-12.1.105 nvidia-cuda-nvrtc-cu12-12.1.105 nvidia-cuda-runtime-cu12-12.1.105 nvidia-cudnn-cu12-9.1.0.70 nvidia-cufft-cu12-11.0.2.54 nvidia-curand-cu12-10.3.2.106 nvidia-cusolver-cu12-11.4.5.107 nvidia-cusparse-cu12-12.1.0.106 nvidia-nccl-cu12-2.20.5 nvidia-nvjitlink-cu12-12.6.68 nvidia-nvtx-cu12-12.1.105 packaging-24.1 pandas-2.0.3 patsy-0.5.6 pillow-10.4.0 prts-1.0.0.3 pydot-3.0.1 pyod-2.0.2 pyparsing-3.1.4 python-dateutil-2.9.0.post0 pytz-2024.2 requests-2.32.3 ruptures-1.1.9 scikit-learn-1.5.2 scikit-posthocs-0.9.0 scipy-1.12.0 seaborn-0.13.2 six-1.16.0 statsmodels-0.14.3 stumpy-1.13.0 sympy-1.13.3 threadpoolctl-3.5.0 torch-2.4.1 tqdm-4.66.5 triton-3.0.0 tsfresh-0.20.2 tslearn-0.6.3 tzdata-2024.1 wrapt-1.16.0\n"
     ]
    }
   ],
   "source": [
    "!pip install -U \"aeon[all_extras] @ git+https://github.com/aeon-toolkit/aeon.git@main\""
   ]
  },
  {
   "cell_type": "code",
   "execution_count": 7,
   "id": "4c17acd7-4183-4c1d-b182-44eeedab3460",
   "metadata": {},
   "outputs": [
    {
     "name": "stdout",
     "output_type": "stream",
     "text": [
      "Datasets length =  11575\n",
      "Univariate length =  11233\n",
      "Multivariate length =  342\n",
      "Unsupervised length =  11106\n",
      "Supervised length =  33\n",
      "Semi_supervised length =  436\n"
     ]
    }
   ],
   "source": [
    "from aeon.datasets.tsad_datasets import tsad_datasets, univariate, multivariate, unsupervised, supervised, semi_supervised\n",
    "\n",
    "print(\"Datasets length = \", len(tsad_datasets()))\n",
    "print(\"Univariate length = \", len(univariate()))\n",
    "print(\"Multivariate length = \", len(multivariate()))\n",
    "print(\"Unsupervised length = \", len(unsupervised()))\n",
    "print(\"Supervised length = \", len(supervised()))\n",
    "print(\"Semi_supervised length = \", len(semi_supervised()))"
   ]
  },
  {
   "cell_type": "code",
   "execution_count": 45,
   "id": "f12b20d5-5819-424d-a5d3-847f5ee67384",
   "metadata": {},
   "outputs": [
    {
     "name": "stdout",
     "output_type": "stream",
     "text": [
      "CATSv2\n",
      "CalIt2\n",
      "Daphnet\n",
      "Dodgers\n",
      "Exathlon\n",
      "GHL\n",
      "Genesis\n",
      "IOPS\n",
      "KDD-TSAD\n",
      "Keogh\n",
      "Kitsune\n",
      "LTDB\n",
      "MGAB\n",
      "MITDB\n",
      "Metro\n",
      "NAB\n",
      "NASA-MSL\n",
      "NASA-SMAP\n",
      "NormA\n",
      "OPPORTUNITY\n",
      "Occupancy\n",
      "SMD\n",
      "SSA\n",
      "SVDB\n",
      "SWaT\n",
      "TODS-synthetic\n",
      "TSB-UAD-artificial\n",
      "TSB-UAD-synthetic\n",
      "WADI\n",
      "WebscopeS5\n"
     ]
    }
   ],
   "source": [
    "for key in tsad_collections():\n",
    "    print(key)"
   ]
  },
  {
   "cell_type": "code",
   "execution_count": 30,
   "id": "8b15b3e7-783b-4000-b753-bd51e7f9388e",
   "metadata": {},
   "outputs": [
    {
     "name": "stdout",
     "output_type": "stream",
     "text": [
      "The value for key 'Genesis' is: ['genesis-anomalies']\n"
     ]
    }
   ],
   "source": [
    "key = \"Genesis\"\n",
    "dictionary = tsad_collections()\n",
    "if key in dictionary:\n",
    "    print(f\"The value for key '{key}' is: {dictionary[key]}\")\n",
    "else:\n",
    "    print(f\"Key '{key}' not found in the dictionary\")"
   ]
  },
  {
   "cell_type": "code",
   "execution_count": 26,
   "id": "a8c092ba-8834-41a9-b60d-d7aaf61d280a",
   "metadata": {},
   "outputs": [
    {
     "name": "stdout",
     "output_type": "stream",
     "text": [
      "Shape of X =  (16220, 18)\n",
      "Shape of y =  (16220,)\n",
      "\n",
      "Meta data =  {'problemname': 'Genesis genesis-anomalies', 'timestamps': 16220, 'dimensions': 18, 'learning_type': 'unsupervised', 'contamination': 0.00308261405672, 'num_anomalies': 3}\n"
     ]
    }
   ],
   "source": [
    "name = (\"Genesis\", \"genesis-anomalies\")\n",
    "X, y, meta = load_anomaly_detection(name, return_metadata=True)\n",
    "print(\"Shape of X = \", X.shape)\n",
    "print(\"Shape of y = \", y.shape)\n",
    "print(\"\\nMeta data = \", meta)"
   ]
  },
  {
   "cell_type": "code",
   "execution_count": 29,
   "id": "54871d9d-d1a3-4de8-a11e-663fd9c6de75",
   "metadata": {},
   "outputs": [
    {
     "name": "stdout",
     "output_type": "stream",
     "text": [
      "The value for key 'Daphnet' is: ['S01R01E0', 'S01R01E1', 'S01R02E0', 'S02R01E0', 'S02R02E0', 'S03R01E0', 'S03R01E1', 'S03R02E0', 'S03R03E0', 'S04R01E0', 'S04R01E1', 'S05R01E0', 'S05R01E1', 'S05R01E2', 'S05R01E3', 'S05R02E0', 'S05R02E1', 'S06R01E0', 'S06R01E1', 'S06R01E2', 'S06R02E0', 'S06R02E1', 'S07R01E0', 'S07R02E0', 'S08R01E0', 'S08R01E1', 'S08R01E2', 'S08R01E3', 'S09R01E0', 'S09R01E1', 'S09R01E2', 'S09R01E3', 'S09R01E4', 'S10R01E0', 'S10R01E1']\n"
     ]
    }
   ],
   "source": [
    "key = \"Daphnet\"\n",
    "dictionary = tsad_collections()\n",
    "if key in dictionary:\n",
    "    print(f\"The value for key '{key}' is: {dictionary[key]}\")\n",
    "else:\n",
    "    print(f\"Key '{key}' not found in the dictionary\")"
   ]
  },
  {
   "cell_type": "code",
   "execution_count": 31,
   "id": "6257921f-ab47-4c21-bb92-015ec17240fc",
   "metadata": {},
   "outputs": [
    {
     "name": "stdout",
     "output_type": "stream",
     "text": [
      "Shape of X =  (19200, 9)\n",
      "Shape of y =  (19200,)\n",
      "\n",
      "Meta data =  {'problemname': 'Daphnet S01R01E0', 'timestamps': 19200, 'dimensions': 9, 'learning_type': 'unsupervised', 'contamination': 0.0, 'num_anomalies': 0}\n"
     ]
    }
   ],
   "source": [
    "name = (\"Daphnet\", \"S01R01E0\")\n",
    "X, y, meta = load_anomaly_detection(name, return_metadata=True)\n",
    "print(\"Shape of X = \", X.shape)\n",
    "print(\"Shape of y = \", y.shape)\n",
    "print(\"\\nMeta data = \", meta)"
   ]
  },
  {
   "cell_type": "code",
   "execution_count": 32,
   "id": "f901343f-17df-47d3-9238-ebe8c5e77cf1",
   "metadata": {},
   "outputs": [
    {
     "name": "stdout",
     "output_type": "stream",
     "text": [
      "The value for key 'Occupancy' is: ['room-occupancy-0', 'room-occupancy-1']\n"
     ]
    }
   ],
   "source": [
    "key = \"Occupancy\"\n",
    "dictionary = tsad_collections()\n",
    "if key in dictionary:\n",
    "    print(f\"The value for key '{key}' is: {dictionary[key]}\")\n",
    "else:\n",
    "    print(f\"Key '{key}' not found in the dictionary\")"
   ]
  },
  {
   "cell_type": "code",
   "execution_count": 33,
   "id": "a0ee3087-54e1-42f5-ab70-50add0126089",
   "metadata": {},
   "outputs": [
    {
     "name": "stdout",
     "output_type": "stream",
     "text": [
      "Shape of X =  (2665, 5)\n",
      "Shape of y =  (2665,)\n",
      "\n",
      "Meta data =  {'problemname': 'Occupancy room-occupancy-0', 'timestamps': 2665, 'dimensions': 5, 'learning_type': 'supervised', 'contamination': 0.3647279549718574, 'num_anomalies': 14}\n"
     ]
    }
   ],
   "source": [
    "name = (\"Occupancy\", \"room-occupancy-0\")\n",
    "X, y, meta = load_anomaly_detection(name, return_metadata=True)\n",
    "print(\"Shape of X = \", X.shape)\n",
    "print(\"Shape of y = \", y.shape)\n",
    "print(\"\\nMeta data = \", meta)"
   ]
  },
  {
   "cell_type": "code",
   "execution_count": 34,
   "id": "f15136b0-3d38-4ba7-abcb-b42e476985dc",
   "metadata": {},
   "outputs": [
    {
     "name": "stdout",
     "output_type": "stream",
     "text": [
      "The value for key 'CalIt2' is: ['CalIt2-traffic']\n"
     ]
    }
   ],
   "source": [
    "key = \"CalIt2\"\n",
    "dictionary = tsad_collections()\n",
    "if key in dictionary:\n",
    "    print(f\"The value for key '{key}' is: {dictionary[key]}\")\n",
    "else:\n",
    "    print(f\"Key '{key}' not found in the dictionary\")"
   ]
  },
  {
   "cell_type": "code",
   "execution_count": 35,
   "id": "b6c14fbe-854c-46b1-baba-0ed8297a612a",
   "metadata": {},
   "outputs": [
    {
     "name": "stdout",
     "output_type": "stream",
     "text": [
      "Shape of X =  (5040, 2)\n",
      "Shape of y =  (5040,)\n",
      "\n",
      "Meta data =  {'problemname': 'CalIt2 CalIt2-traffic', 'timestamps': 5040, 'dimensions': 2, 'learning_type': 'unsupervised', 'contamination': 0.0408730158730158, 'num_anomalies': 29}\n"
     ]
    }
   ],
   "source": [
    "name = (\"CalIt2\", \"CalIt2-traffic\")\n",
    "X, y, meta = load_anomaly_detection(name, return_metadata=True)\n",
    "print(\"Shape of X = \", X.shape)\n",
    "print(\"Shape of y = \", y.shape)\n",
    "print(\"\\nMeta data = \", meta)"
   ]
  },
  {
   "cell_type": "code",
   "execution_count": 36,
   "id": "4d2e9ccb-82da-4298-9b0a-c86b48ca4f58",
   "metadata": {},
   "outputs": [
    {
     "name": "stdout",
     "output_type": "stream",
     "text": [
      "The value for key 'Exathlon' is: ['10_2_1000000_67', '10_3_1000000_75', '10_4_1000000_79', '1_2_100000_68-15', '1_2_100000_68-16', '1_4_1000000_80-14', '2_1_100000_60-20', '2_1_100000_60-22', '2_2_200000_69', '3_2_1000000_71', '3_2_500000_70', '4_1_100000_61-27', '4_1_100000_61-28', '4_1_100000_61-29', '4_1_100000_61-30', '4_1_100000_61-32', '5_1_100000_63-33', '5_1_100000_63-34', '5_1_100000_63-35', '5_1_100000_63-36', '5_1_100000_63-37', '5_1_100000_63-40', '5_1_100000_63-64', '5_1_100000_64-33', '5_1_100000_64-34', '5_1_100000_64-35', '5_1_100000_64-36', '5_1_100000_64-37', '5_1_100000_64-40', '5_1_100000_64-63', '5_1_500000_62', '5_2_1000000_72', '6_1_500000_65', '6_3_200000_76', '8_3_200000_73', '8_4_1000000_77', '9_2_1000000_66', '9_3_500000_74', '9_4_1000000_78']\n"
     ]
    }
   ],
   "source": [
    "key = \"Exathlon\"\n",
    "dictionary = tsad_collections()\n",
    "if key in dictionary:\n",
    "    print(f\"The value for key '{key}' is: {dictionary[key]}\")\n",
    "else:\n",
    "    print(f\"Key '{key}' not found in the dictionary\")"
   ]
  },
  {
   "cell_type": "code",
   "execution_count": 42,
   "id": "db281e1e-0a4b-48e0-994f-e80fc1821087",
   "metadata": {},
   "outputs": [
    {
     "name": "stdout",
     "output_type": "stream",
     "text": [
      "Shape of X =  (46655, 12)\n",
      "Shape of y =  (46655,)\n",
      "\n",
      "Meta data =  {'problemname': 'Exathlon 2_1_100000_60-20', 'timestamps': 46655, 'dimensions': 12, 'learning_type': 'semi-supervised', 'contamination': 0.063187225377773, 'num_anomalies': 3}\n"
     ]
    }
   ],
   "source": [
    "name = (\"Exathlon\", \"2_1_100000_60-20\")\n",
    "X, y, meta = load_anomaly_detection(name, return_metadata=True)\n",
    "print(\"Shape of X = \", X.shape)\n",
    "print(\"Shape of y = \", y.shape)\n",
    "print(\"\\nMeta data = \", meta)"
   ]
  },
  {
   "cell_type": "code",
   "execution_count": null,
   "id": "5dc0f555-704e-4b1d-8ad5-9cc9c9ec0a69",
   "metadata": {},
   "outputs": [],
   "source": []
  }
 ],
 "metadata": {
  "kernelspec": {
   "display_name": "Python 3 (ipykernel)",
   "language": "python",
   "name": "python3"
  },
  "language_info": {
   "codemirror_mode": {
    "name": "ipython",
    "version": 3
   },
   "file_extension": ".py",
   "mimetype": "text/x-python",
   "name": "python",
   "nbconvert_exporter": "python",
   "pygments_lexer": "ipython3",
   "version": "3.10.14"
  }
 },
 "nbformat": 4,
 "nbformat_minor": 5
}
